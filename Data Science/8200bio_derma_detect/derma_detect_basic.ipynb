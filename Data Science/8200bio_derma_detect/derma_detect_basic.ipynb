{
 "cells": [
  {
   "cell_type": "markdown",
   "source": [
    "# Feature Selection with Categorical Data"
   ],
   "metadata": {}
  },
  {
   "cell_type": "markdown",
   "source": [
    "## The two most commonly used feature selection methods for categorical input data when the target variable is also categorical (e.g. classification predictive modeling) are the chi-squared statistic and the mutual information statistic."
   ],
   "metadata": {}
  },
  {
   "cell_type": "markdown",
   "source": [
    "https://machinelearningmastery.com/feature-selection-with-categorical-data/"
   ],
   "metadata": {}
  },
  {
   "cell_type": "code",
   "execution_count": 11,
   "source": [
    "# DermaDetect Copyright (C), 2021\r\n",
    "\r\n",
    "from sklearn import tree\r\n",
    "import pandas as pd\r\n",
    "import pickle\r\n",
    "import argparse\r\n",
    "import os\r\n",
    "import seaborn as sns\r\n",
    "from sklearn.preprocessing import LabelBinarizer, MinMaxScaler\r\n",
    "from sklearn.metrics import classification_report, confusion_matrix\r\n"
   ],
   "outputs": [],
   "metadata": {}
  },
  {
   "cell_type": "code",
   "execution_count": 18,
   "source": [
    "import sklearn\r\n",
    "print(sklearn.__version__)"
   ],
   "outputs": [
    {
     "output_type": "stream",
     "name": "stdout",
     "text": [
      "0.24.2\n"
     ]
    }
   ],
   "metadata": {}
  },
  {
   "cell_type": "code",
   "execution_count": 4,
   "source": [
    "data_relative_path = 'D:\\Python\\Data Science\\8200bio_derma_detect\\public_8200bio_challenge-main\\data\\dd_data.csv'\r\n",
    "data = pd.read_csv(data_relative_path)\r\n",
    "data.head()"
   ],
   "outputs": [
    {
     "output_type": "execute_result",
     "data": {
      "text/html": [
       "<div>\n",
       "<style scoped>\n",
       "    .dataframe tbody tr th:only-of-type {\n",
       "        vertical-align: middle;\n",
       "    }\n",
       "\n",
       "    .dataframe tbody tr th {\n",
       "        vertical-align: top;\n",
       "    }\n",
       "\n",
       "    .dataframe thead th {\n",
       "        text-align: right;\n",
       "    }\n",
       "</style>\n",
       "<table border=\"1\" class=\"dataframe\">\n",
       "  <thead>\n",
       "    <tr style=\"text-align: right;\">\n",
       "      <th></th>\n",
       "      <th>age</th>\n",
       "      <th>pus</th>\n",
       "      <th>itch</th>\n",
       "      <th>size</th>\n",
       "      <th>shape</th>\n",
       "      <th>crater</th>\n",
       "      <th>gender</th>\n",
       "      <th>vesicle</th>\n",
       "      <th>bleeding</th>\n",
       "      <th>quantity</th>\n",
       "      <th>...</th>\n",
       "      <th>is_secondary_locations_toes</th>\n",
       "      <th>is_secondary_locations_toes_external</th>\n",
       "      <th>is_secondary_locations_toes_internal</th>\n",
       "      <th>is_secondary_locations_tongue</th>\n",
       "      <th>is_secondary_locations_upper_arm_external</th>\n",
       "      <th>is_secondary_locations_upper_arm_internal</th>\n",
       "      <th>is_secondary_locations_vaginal_region</th>\n",
       "      <th>is_secondary_locations_wrist_external</th>\n",
       "      <th>is_secondary_locations_wrist_internal</th>\n",
       "      <th>diagnosis</th>\n",
       "    </tr>\n",
       "  </thead>\n",
       "  <tbody>\n",
       "    <tr>\n",
       "      <th>0</th>\n",
       "      <td>34.0</td>\n",
       "      <td>False</td>\n",
       "      <td>False</td>\n",
       "      <td>pea</td>\n",
       "      <td>round</td>\n",
       "      <td>False</td>\n",
       "      <td>female</td>\n",
       "      <td>False</td>\n",
       "      <td>False</td>\n",
       "      <td>multiple</td>\n",
       "      <td>...</td>\n",
       "      <td>False</td>\n",
       "      <td>False</td>\n",
       "      <td>False</td>\n",
       "      <td>False</td>\n",
       "      <td>False</td>\n",
       "      <td>False</td>\n",
       "      <td>False</td>\n",
       "      <td>False</td>\n",
       "      <td>True</td>\n",
       "      <td>eczema uns</td>\n",
       "    </tr>\n",
       "    <tr>\n",
       "      <th>1</th>\n",
       "      <td>41.0</td>\n",
       "      <td>False</td>\n",
       "      <td>False</td>\n",
       "      <td>unknown</td>\n",
       "      <td>unknown</td>\n",
       "      <td>False</td>\n",
       "      <td>female</td>\n",
       "      <td>False</td>\n",
       "      <td>False</td>\n",
       "      <td>unknown</td>\n",
       "      <td>...</td>\n",
       "      <td>False</td>\n",
       "      <td>False</td>\n",
       "      <td>False</td>\n",
       "      <td>False</td>\n",
       "      <td>False</td>\n",
       "      <td>False</td>\n",
       "      <td>False</td>\n",
       "      <td>False</td>\n",
       "      <td>False</td>\n",
       "      <td>contact dermatitis</td>\n",
       "    </tr>\n",
       "    <tr>\n",
       "      <th>2</th>\n",
       "      <td>25.0</td>\n",
       "      <td>False</td>\n",
       "      <td>False</td>\n",
       "      <td>pea</td>\n",
       "      <td>non-round</td>\n",
       "      <td>False</td>\n",
       "      <td>male</td>\n",
       "      <td>False</td>\n",
       "      <td>False</td>\n",
       "      <td>multiple</td>\n",
       "      <td>...</td>\n",
       "      <td>False</td>\n",
       "      <td>False</td>\n",
       "      <td>False</td>\n",
       "      <td>False</td>\n",
       "      <td>False</td>\n",
       "      <td>False</td>\n",
       "      <td>False</td>\n",
       "      <td>False</td>\n",
       "      <td>False</td>\n",
       "      <td>verruca vulgaris</td>\n",
       "    </tr>\n",
       "    <tr>\n",
       "      <th>3</th>\n",
       "      <td>49.0</td>\n",
       "      <td>False</td>\n",
       "      <td>True</td>\n",
       "      <td>&gt;palm</td>\n",
       "      <td>round</td>\n",
       "      <td>False</td>\n",
       "      <td>female</td>\n",
       "      <td>False</td>\n",
       "      <td>False</td>\n",
       "      <td>multiple</td>\n",
       "      <td>...</td>\n",
       "      <td>False</td>\n",
       "      <td>False</td>\n",
       "      <td>False</td>\n",
       "      <td>False</td>\n",
       "      <td>False</td>\n",
       "      <td>False</td>\n",
       "      <td>False</td>\n",
       "      <td>False</td>\n",
       "      <td>False</td>\n",
       "      <td>tinea versicolor</td>\n",
       "    </tr>\n",
       "    <tr>\n",
       "      <th>4</th>\n",
       "      <td>21.0</td>\n",
       "      <td>False</td>\n",
       "      <td>False</td>\n",
       "      <td>pea</td>\n",
       "      <td>round</td>\n",
       "      <td>False</td>\n",
       "      <td>female</td>\n",
       "      <td>False</td>\n",
       "      <td>False</td>\n",
       "      <td>clustered</td>\n",
       "      <td>...</td>\n",
       "      <td>False</td>\n",
       "      <td>False</td>\n",
       "      <td>False</td>\n",
       "      <td>False</td>\n",
       "      <td>False</td>\n",
       "      <td>False</td>\n",
       "      <td>False</td>\n",
       "      <td>False</td>\n",
       "      <td>False</td>\n",
       "      <td>seborrheic dermatitis</td>\n",
       "    </tr>\n",
       "  </tbody>\n",
       "</table>\n",
       "<p>5 rows × 108 columns</p>\n",
       "</div>"
      ],
      "text/plain": [
       "    age    pus   itch     size      shape  crater  gender  vesicle  bleeding  \\\n",
       "0  34.0  False  False      pea      round   False  female    False     False   \n",
       "1  41.0  False  False  unknown    unknown   False  female    False     False   \n",
       "2  25.0  False  False      pea  non-round   False    male    False     False   \n",
       "3  49.0  False   True    >palm      round   False  female    False     False   \n",
       "4  21.0  False  False      pea      round   False  female    False     False   \n",
       "\n",
       "    quantity  ...  is_secondary_locations_toes  \\\n",
       "0   multiple  ...                        False   \n",
       "1    unknown  ...                        False   \n",
       "2   multiple  ...                        False   \n",
       "3   multiple  ...                        False   \n",
       "4  clustered  ...                        False   \n",
       "\n",
       "  is_secondary_locations_toes_external  is_secondary_locations_toes_internal  \\\n",
       "0                                False                                 False   \n",
       "1                                False                                 False   \n",
       "2                                False                                 False   \n",
       "3                                False                                 False   \n",
       "4                                False                                 False   \n",
       "\n",
       "   is_secondary_locations_tongue  is_secondary_locations_upper_arm_external  \\\n",
       "0                          False                                      False   \n",
       "1                          False                                      False   \n",
       "2                          False                                      False   \n",
       "3                          False                                      False   \n",
       "4                          False                                      False   \n",
       "\n",
       "   is_secondary_locations_upper_arm_internal  \\\n",
       "0                                      False   \n",
       "1                                      False   \n",
       "2                                      False   \n",
       "3                                      False   \n",
       "4                                      False   \n",
       "\n",
       "  is_secondary_locations_vaginal_region  \\\n",
       "0                                 False   \n",
       "1                                 False   \n",
       "2                                 False   \n",
       "3                                 False   \n",
       "4                                 False   \n",
       "\n",
       "   is_secondary_locations_wrist_external  \\\n",
       "0                                  False   \n",
       "1                                  False   \n",
       "2                                  False   \n",
       "3                                  False   \n",
       "4                                  False   \n",
       "\n",
       "  is_secondary_locations_wrist_internal              diagnosis  \n",
       "0                                  True             eczema uns  \n",
       "1                                 False     contact dermatitis  \n",
       "2                                 False       verruca vulgaris  \n",
       "3                                 False       tinea versicolor  \n",
       "4                                 False  seborrheic dermatitis  \n",
       "\n",
       "[5 rows x 108 columns]"
      ]
     },
     "metadata": {},
     "execution_count": 4
    }
   ],
   "metadata": {}
  },
  {
   "cell_type": "code",
   "execution_count": 9,
   "source": [
    "# split into input (X) and output (y) variables\r\n",
    "X = data.iloc[:, :-1]\r\n",
    "y = data.iloc[: ,-1]\r\n",
    "y.head()"
   ],
   "outputs": [
    {
     "output_type": "execute_result",
     "data": {
      "text/plain": [
       "0               eczema uns\n",
       "1       contact dermatitis\n",
       "2         verruca vulgaris\n",
       "3         tinea versicolor\n",
       "4    seborrheic dermatitis\n",
       "Name: diagnosis, dtype: object"
      ]
     },
     "metadata": {},
     "execution_count": 9
    }
   ],
   "metadata": {}
  },
  {
   "cell_type": "markdown",
   "source": [
    "# look at the data"
   ],
   "metadata": {}
  },
  {
   "cell_type": "code",
   "execution_count": 23,
   "source": [
    "sns.boxplot(x='diagnosis', y='age', data=data)\r\n"
   ],
   "outputs": [
    {
     "output_type": "execute_result",
     "data": {
      "text/plain": [
       "<AxesSubplot:xlabel='diagnosis', ylabel='age'>"
      ]
     },
     "metadata": {},
     "execution_count": 23
    },
    {
     "output_type": "display_data",
     "data": {
      "image/png": "[encoded data removed]",
      "text/plain": [
       "<Figure size 432x288 with 1 Axes>"
      ]
     },
     "metadata": {
      "needs_background": "light"
     }
    }
   ],
   "metadata": {}
  },
  {
   "cell_type": "code",
   "execution_count": 29,
   "source": [
    "sns.countplot(x='vesicle', data=data)"
   ],
   "outputs": [
    {
     "output_type": "execute_result",
     "data": {
      "text/plain": [
       "<AxesSubplot:xlabel='vesicle', ylabel='count'>"
      ]
     },
     "metadata": {},
     "execution_count": 29
    },
    {
     "output_type": "display_data",
     "data": {
      "image/png": "[encoded data removed]",
      "text/plain": [
       "<Figure size 432x288 with 1 Axes>"
      ]
     },
     "metadata": {
      "needs_background": "light"
     }
    }
   ],
   "metadata": {}
  },
  {
   "cell_type": "markdown",
   "source": [
    "Show value counts for two categorical variables:"
   ],
   "metadata": {}
  },
  {
   "cell_type": "code",
   "execution_count": 33,
   "source": [
    "ax = sns.countplot(x=\"quantity\", hue=\"vesicle\", data=data)"
   ],
   "outputs": [
    {
     "output_type": "display_data",
     "data": {
      "image/png": "[encoded data removed]",
      "text/plain": [
       "<Figure size 432x288 with 1 Axes>"
      ]
     },
     "metadata": {
      "needs_background": "light"
     }
    }
   ],
   "metadata": {}
  },
  {
   "cell_type": "markdown",
   "source": [
    "# preprocessing encoding"
   ],
   "metadata": {}
  },
  {
   "cell_type": "code",
   "execution_count": null,
   "source": [
    "from sklearn.preprocessing import OrdinalEncoder, LabelEncoder, OneHotEncoder   # יש חשיבות וסדר לנתונים (לדוגמה שנות לימוד)\r\n",
    "# prepare input data\r\n",
    "def prepare_inputs(X_train, X_test):\r\n",
    "\toe = OrdinalEncoder()     # instanciate OrdinalEncoder to Encode categorical features as an integer array.\r\n",
    "    le = Labelencoder()\t\t\t\t\t# TODO - how to do all the columns together\r\n",
    "    oh = OneHotEncoder()\r\n",
    "\toe.fit(X_train)\r\n",
    "\tX_train_enc = oe.transform(X_train)\r\n",
    "\tX_test_enc = oe.transform(X_test)\r\n",
    "\treturn X_train_enc, X_test_enc"
   ],
   "outputs": [],
   "metadata": {}
  },
  {
   "cell_type": "code",
   "execution_count": 35,
   "source": [
    "from sklearn.compose import make_column_selector as selector\r\n",
    "from sklearn.compose import ColumnTransformer\r\n",
    "\r\n",
    "preprocessor = ColumnTransformer(transformers=[\r\n",
    "    ('num', numeric_transformer, selector(dtype_exclude=\"category\")),\r\n",
    "    ('cat', categorical_transformer, selector(dtype_include=\"category\"))\r\n",
    "])\r\n",
    "clf = Pipeline(steps=[('preprocessor', preprocessor),\r\n",
    "                      ('classifier', LogisticRegression())])\r\n",
    "\r\n",
    "\r\n",
    "clf.fit(X_train, y_train)\r\n",
    "print(\"model score: %.3f\" % clf.score(X_test, y_test))"
   ],
   "outputs": [
    {
     "output_type": "error",
     "ename": "NameError",
     "evalue": "name 'numeric_transformer' is not defined",
     "traceback": [
      "\u001b[1;31m---------------------------------------------------------------------------\u001b[0m",
      "\u001b[1;31mNameError\u001b[0m                                 Traceback (most recent call last)",
      "\u001b[1;32m<ipython-input-35-c44d97657ae8>\u001b[0m in \u001b[0;36m<module>\u001b[1;34m\u001b[0m\n\u001b[0;32m      3\u001b[0m \u001b[1;33m\u001b[0m\u001b[0m\n\u001b[0;32m      4\u001b[0m preprocessor = ColumnTransformer(transformers=[\n\u001b[1;32m----> 5\u001b[1;33m     \u001b[1;33m(\u001b[0m\u001b[1;34m'num'\u001b[0m\u001b[1;33m,\u001b[0m \u001b[0mnumeric_transformer\u001b[0m\u001b[1;33m,\u001b[0m \u001b[0mselector\u001b[0m\u001b[1;33m(\u001b[0m\u001b[0mdtype_exclude\u001b[0m\u001b[1;33m=\u001b[0m\u001b[1;34m\"category\"\u001b[0m\u001b[1;33m)\u001b[0m\u001b[1;33m)\u001b[0m\u001b[1;33m,\u001b[0m\u001b[1;33m\u001b[0m\u001b[1;33m\u001b[0m\u001b[0m\n\u001b[0m\u001b[0;32m      6\u001b[0m     \u001b[1;33m(\u001b[0m\u001b[1;34m'cat'\u001b[0m\u001b[1;33m,\u001b[0m \u001b[0mcategorical_transformer\u001b[0m\u001b[1;33m,\u001b[0m \u001b[0mselector\u001b[0m\u001b[1;33m(\u001b[0m\u001b[0mdtype_include\u001b[0m\u001b[1;33m=\u001b[0m\u001b[1;34m\"category\"\u001b[0m\u001b[1;33m)\u001b[0m\u001b[1;33m)\u001b[0m\u001b[1;33m\u001b[0m\u001b[1;33m\u001b[0m\u001b[0m\n\u001b[0;32m      7\u001b[0m ])\n",
      "\u001b[1;31mNameError\u001b[0m: name 'numeric_transformer' is not defined"
     ]
    }
   ],
   "metadata": {}
  },
  {
   "cell_type": "code",
   "execution_count": null,
   "source": [],
   "outputs": [],
   "metadata": {}
  },
  {
   "cell_type": "code",
   "execution_count": null,
   "source": [],
   "outputs": [],
   "metadata": {}
  },
  {
   "cell_type": "markdown",
   "source": [
    "# split the data for training and testing"
   ],
   "metadata": {}
  },
  {
   "cell_type": "code",
   "execution_count": 24,
   "source": [
    "from sklearn.model_selection import train_test_split\r\n",
    "\r\n",
    "# split the data into training and test\r\n",
    "X_train, X_test, y_train, y_test = train_test_split(X, y, test_size=0.33, random_state=1)\r\n",
    "# summarize\r\n",
    "print('Train', X_train.shape, y_train.shape)\r\n",
    "print('Test', X_test.shape, y_test.shape)\r\n"
   ],
   "outputs": [
    {
     "output_type": "stream",
     "name": "stdout",
     "text": [
      "Train (603, 107) (603,)\n",
      "Test (297, 107) (297,)\n"
     ]
    }
   ],
   "metadata": {}
  },
  {
   "cell_type": "markdown",
   "source": [
    "### We can use the OrdinalEncoder() from scikit-learn to encode each variable to integers. This is a flexible class and does allow the order of the categories to be specified as arguments if any such order is known.\r\n",
    "The best practice when encoding variables is to fit the encoding on the training dataset, then apply it to the train and test datasets."
   ],
   "metadata": {}
  },
  {
   "cell_type": "code",
   "execution_count": null,
   "source": [
    "from sklearn.preprocessing import OrdinalEncoder\r\n",
    "# EXAMPLE FOR ENCODE:\r\n",
    "enc = OrdinalEncoder()\r\n",
    "X = [['Male', 1], ['Female', 3], ['Female', 2]]\r\n",
    "enc.fit(X)\r\n",
    "print(enc.categories_)\r\n",
    "enc.transform([['Female', 3], ['Male', 1]])\r\n"
   ],
   "outputs": [],
   "metadata": {}
  },
  {
   "cell_type": "code",
   "execution_count": null,
   "source": [
    "from sklearn.preprocessing import OrdinalEncoder   # יש חשיבות וסדר לנתונים (לדוגמה שנות לימוד)\r\n",
    "# prepare input data\r\n",
    "def prepare_inputs(X_train, X_test):\r\n",
    "\toe = OrdinalEncoder()     # instanciate OrdinalEncoder to Encode categorical features as an integer array.\r\n",
    "\toe.fit(X_train)\r\n",
    "\tX_train_enc = oe.transform(X_train)\r\n",
    "\tX_test_enc = oe.transform(X_test)\r\n",
    "\treturn X_train_enc, X_test_enc"
   ],
   "outputs": [],
   "metadata": {}
  },
  {
   "cell_type": "markdown",
   "source": [
    "## prepare the target variable - map the two class labels to 0 and 1 using LabelEncoder\r\n",
    "This is a type of ordinal encoding, and scikit-learn provides the LabelEncoder class specifically designed for this purpose. We could just as easily use the OrdinalEncoder and achieve the same result, although the LabelEncoder is designed for encoding a single variable"
   ],
   "metadata": {}
  },
  {
   "cell_type": "code",
   "execution_count": null,
   "source": [
    "import numpy as np\r\n",
    "np.unique(X_train[: ,2], return_counts=True)"
   ],
   "outputs": [],
   "metadata": {}
  },
  {
   "cell_type": "code",
   "execution_count": null,
   "source": [
    "ordi = [\"'0-4'\", \"'5-9'\", \"'10-14'\", \"'15-19'\", \"'20-24'\", \"'25-29'\", \"'30-34'\",\r\n",
    "        \"'35-39'\", \"'40-44'\", \"'45-49'\", \"'50-54'\"]                                    # assigning in the correct order"
   ],
   "outputs": [],
   "metadata": {}
  },
  {
   "cell_type": "code",
   "execution_count": null,
   "source": [
    "# check where we need to order the list before LabelEncoder\r\n",
    "for a in range (0, 9):\r\n",
    "    print(a, \":\", np.unique(X_train[: ,a]))\r\n",
    "    "
   ],
   "outputs": [],
   "metadata": {}
  },
  {
   "cell_type": "code",
   "execution_count": null,
   "source": [
    "from sklearn.preprocessing import LabelEncoder\r\n",
    "# prepare target\r\n",
    "def prepare_targets(y_train, y_test):\r\n",
    "\tle = LabelEncoder()\r\n",
    "\tle.fit(y_train)\r\n",
    "\ty_train_enc = le.transform(y_train)\r\n",
    "\ty_test_enc = le.transform(y_test)\r\n",
    "\treturn y_train_enc, y_test_enc"
   ],
   "outputs": [],
   "metadata": {}
  },
  {
   "cell_type": "code",
   "execution_count": null,
   "source": [
    "\r\n",
    "ordi = OrdinalEncoder(categories=[2])\r\n",
    "ordi.fit(X-train[[]])"
   ],
   "outputs": [],
   "metadata": {}
  },
  {
   "cell_type": "code",
   "execution_count": null,
   "source": [
    "np.unique(X_train[: ,3])"
   ],
   "outputs": [],
   "metadata": {}
  },
  {
   "cell_type": "code",
   "execution_count": null,
   "source": [
    "np.unique(24-26, return_index=True)"
   ],
   "outputs": [],
   "metadata": {}
  },
  {
   "cell_type": "code",
   "execution_count": null,
   "source": [
    "# call these functions to prepare our data:\r\n",
    "# prepare input data\r\n",
    "X_train_enc, X_test_enc = prepare_inputs(X_train, X_test)\r\n",
    "# prepare output data\r\n",
    "y_train_enc, y_test_enc = prepare_targets(y_train, y_test)"
   ],
   "outputs": [],
   "metadata": {}
  }
 ],
 "metadata": {
  "kernelspec": {
   "name": "python3",
   "display_name": "Python 3.9.2 64-bit"
  },
  "language_info": {
   "codemirror_mode": {
    "name": "ipython",
    "version": 3
   },
   "file_extension": ".py",
   "mimetype": "text/x-python",
   "name": "python",
   "nbconvert_exporter": "python",
   "pygments_lexer": "ipython3",
   "version": "3.9.2"
  },
  "interpreter": {
   "hash": "c98bad758fdc1a8561ae45ecc54528f52ddf29c5a422c397ff5dc68402ca37fd"
  }
 },
 "nbformat": 4,
 "nbformat_minor": 1
}