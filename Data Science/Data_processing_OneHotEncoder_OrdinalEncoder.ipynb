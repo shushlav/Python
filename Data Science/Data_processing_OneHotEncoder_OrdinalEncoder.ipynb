{
 "cells": [
  {
   "cell_type": "markdown",
   "source": [
    "## Categorical Feature Support in Gradient Boosting"
   ],
   "metadata": {}
  },
  {
   "cell_type": "markdown",
   "source": [
    "https://scikit-learn.org/stable/auto_examples/ensemble/plot_gradient_boosting_categorical.html#sphx-glr-auto-examples-ensemble-plot-gradient-boosting-categorical-py\r\n"
   ],
   "metadata": {}
  },
  {
   "cell_type": "code",
   "execution_count": 1,
   "source": [
    "from sklearn.datasets import fetch_openml\r\n",
    "\r\n",
    "X, y = fetch_openml(data_id=41211, as_frame=True, return_X_y=True)\r\n",
    "\r\n",
    "n_categorical_features = (X.dtypes == 'category').sum()\r\n",
    "n_numerical_features = (X.dtypes == 'float').sum()\r\n",
    "print(f\"Number of samples: {X.shape[0]}\")\r\n",
    "print(f\"Number of features: {X.shape[1]}\")\r\n",
    "print(f\"Number of categorical features: {n_categorical_features}\")\r\n",
    "print(f\"Number of numerical features: {n_numerical_features}\")"
   ],
   "outputs": [
    {
     "output_type": "stream",
     "name": "stderr",
     "text": [
      "C:\\Users\\Yael Shushlav\\AppData\\Local\\Programs\\Python\\Python39\\lib\\site-packages\\sklearn\\datasets\\_openml.py:849: UserWarning: Version 1 of dataset ames-housing is inactive, meaning that issues have been found in the dataset. Try using a newer version from this URL: https://www.openml.org/data/v1/download/20649135/ames-housing.arff\n",
      "  warn(\"Version {} of dataset {} is inactive, meaning that issues have \"\n"
     ]
    },
    {
     "output_type": "stream",
     "name": "stdout",
     "text": [
      "Number of samples: 2930\n",
      "Number of features: 80\n",
      "Number of categorical features: 46\n",
      "Number of numerical features: 34\n"
     ]
    }
   ],
   "metadata": {}
  },
  {
   "cell_type": "code",
   "execution_count": 2,
   "source": [
    "# As a baseline, we create an estimator where the categorical features are dropped:\r\n",
    "from sklearn.experimental import enable_hist_gradient_boosting  # noqa\r\n",
    "from sklearn.ensemble import HistGradientBoostingRegressor\r\n",
    "from sklearn.pipeline import make_pipeline\r\n",
    "from sklearn.compose import make_column_transformer\r\n",
    "from sklearn.compose import make_column_selector\r\n",
    "\r\n",
    "dropper = make_column_transformer(\r\n",
    "    ('drop', make_column_selector(dtype_include='category')),\r\n",
    "    remainder='passthrough')\r\n",
    "hist_dropped = make_pipeline(dropper,\r\n",
    "                             HistGradientBoostingRegressor(random_state=42))"
   ],
   "outputs": [],
   "metadata": {}
  },
  {
   "cell_type": "markdown",
   "source": [
    "Next, we create a pipeline that will one-hot encode the categorical features and let the rest of the numerical data to passthrough:"
   ],
   "metadata": {}
  },
  {
   "cell_type": "code",
   "execution_count": 3,
   "source": [
    "from sklearn.preprocessing import OneHotEncoder\r\n",
    "\r\n",
    "one_hot_encoder = make_column_transformer(\r\n",
    "    (OneHotEncoder(sparse=False, handle_unknown='ignore'),\r\n",
    "     make_column_selector(dtype_include='category')),\r\n",
    "    remainder='passthrough')\r\n",
    "\r\n",
    "hist_one_hot = make_pipeline(one_hot_encoder,\r\n",
    "                             HistGradientBoostingRegressor(random_state=42))"
   ],
   "outputs": [],
   "metadata": {}
  },
  {
   "cell_type": "markdown",
   "source": [
    "Next, we create a pipeline that will treat categorical features as if they were ordered quantities, i.e. the categories will be encoded as 0, 1, 2, etc., and treated as continuous features."
   ],
   "metadata": {}
  },
  {
   "cell_type": "code",
   "execution_count": 4,
   "source": [
    "from sklearn.preprocessing import OrdinalEncoder\r\n",
    "import numpy as np\r\n",
    "\r\n",
    "ordinal_encoder = make_column_transformer(\r\n",
    "    (OrdinalEncoder(handle_unknown='use_encoded_value', unknown_value=np.nan),\r\n",
    "     make_column_selector(dtype_include='category')),\r\n",
    "    remainder='passthrough')\r\n",
    "\r\n",
    "hist_ordinal = make_pipeline(ordinal_encoder,\r\n",
    "                             HistGradientBoostingRegressor(random_state=42))"
   ],
   "outputs": [],
   "metadata": {}
  },
  {
   "cell_type": "markdown",
   "source": [
    "We now create a HistGradientBoostingRegressor estimator that will natively handle categorical features. This estimator will not treat categorical features as ordered quantities.\r\n",
    "\r\n",
    "Since the HistGradientBoostingRegressor requires category values to be encoded in [0, n_unique_categories - 1], we still rely on an OrdinalEncoder to pre-process the data."
   ],
   "metadata": {}
  },
  {
   "cell_type": "code",
   "execution_count": 5,
   "source": [
    "# The main difference between this pipeline and the previous one is that in this one, we let the HistGradientBoostingRegressor know which features are categorical.\r\n",
    "# The ordinal encoder will first output the categorical features, and then the\r\n",
    "# continuous (passed-through) features\r\n",
    "categorical_mask = ([True] * n_categorical_features +\r\n",
    "                    [False] * n_numerical_features)\r\n",
    "hist_native = make_pipeline(\r\n",
    "    ordinal_encoder,\r\n",
    "    HistGradientBoostingRegressor(random_state=42,\r\n",
    "                                  categorical_features=categorical_mask)\r\n",
    ")"
   ],
   "outputs": [],
   "metadata": {}
  },
  {
   "cell_type": "markdown",
   "source": [
    "Finally, we evaluate the models using cross validation. Here we compare the models performance in terms of mean_absolute_percentage_error and fit times."
   ],
   "metadata": {}
  },
  {
   "cell_type": "code",
   "execution_count": 6,
   "source": [
    "from sklearn.model_selection import cross_validate\r\n",
    "import matplotlib.pyplot as plt\r\n",
    "\r\n",
    "scoring = \"neg_mean_absolute_percentage_error\"\r\n",
    "dropped_result = cross_validate(hist_dropped, X, y, cv=3, scoring=scoring)\r\n",
    "one_hot_result = cross_validate(hist_one_hot, X, y, cv=3, scoring=scoring)\r\n",
    "ordinal_result = cross_validate(hist_ordinal, X, y, cv=3, scoring=scoring)\r\n",
    "native_result = cross_validate(hist_native, X, y, cv=3, scoring=scoring)\r\n",
    "\r\n",
    "\r\n",
    "def plot_results(figure_title):\r\n",
    "    fig, (ax1, ax2) = plt.subplots(1, 2, figsize=(12, 8))\r\n",
    "\r\n",
    "    plot_info = [('fit_time', 'Fit times (s)', ax1, None),\r\n",
    "                 ('test_score', 'Mean Absolute Percentage Error', ax2,\r\n",
    "                  (0, 0.20))]\r\n",
    "\r\n",
    "    x, width = np.arange(4), 0.9\r\n",
    "    for key, title, ax, y_limit in plot_info:\r\n",
    "        items = [dropped_result[key], one_hot_result[key], ordinal_result[key],\r\n",
    "                 native_result[key]]\r\n",
    "        ax.bar(x, [np.mean(np.abs(item)) for item in items],\r\n",
    "               width, yerr=[np.std(item) for item in items],\r\n",
    "               color=['C0', 'C1', 'C2', 'C3'])\r\n",
    "        ax.set(xlabel='Model', title=title, xticks=x,\r\n",
    "               xticklabels=[\"Dropped\", \"One Hot\", \"Ordinal\", \"Native\"],\r\n",
    "               ylim=y_limit)\r\n",
    "    fig.suptitle(figure_title)\r\n",
    "\r\n",
    "\r\n",
    "plot_results(\"Gradient Boosting on Adult Census\")\r\n"
   ],
   "outputs": [
    {
     "output_type": "display_data",
     "data": {
      "image/png": "[encoded data removed]",
      "text/plain": [
       "<Figure size 864x576 with 2 Axes>"
      ]
     },
     "metadata": {
      "needs_background": "light"
     }
    }
   ],
   "metadata": {}
  },
  {
   "cell_type": "markdown",
   "source": [
    "We see that the model with one-hot-encoded data is by far the slowest. This is to be expected, since one-hot-encoding creates one additional feature per category value (for each categorical feature), and thus more split points need to be considered during fitting. In theory, we expect the native handling of categorical features to be slightly slower than treating categories as ordered quantities (‘Ordinal’), since native handling requires sorting categories. Fitting times should however be close when the number of categories is small, and this may not always be reflected in practice.\r\n",
    "\r\n",
    "In terms of prediction performance, dropping the categorical features leads to poorer performance. The three models that use categorical features have comparable error rates, with a slight edge for the native handling."
   ],
   "metadata": {}
  }
 ],
 "metadata": {
  "kernelspec": {
   "name": "python3",
   "display_name": "Python 3.9.2 64-bit"
  },
  "language_info": {
   "codemirror_mode": {
    "name": "ipython",
    "version": 3
   },
   "file_extension": ".py",
   "mimetype": "text/x-python",
   "name": "python",
   "nbconvert_exporter": "python",
   "pygments_lexer": "ipython3",
   "version": "3.9.2"
  },
  "interpreter": {
   "hash": "c98bad758fdc1a8561ae45ecc54528f52ddf29c5a422c397ff5dc68402ca37fd"
  }
 },
 "nbformat": 4,
 "nbformat_minor": 1
}