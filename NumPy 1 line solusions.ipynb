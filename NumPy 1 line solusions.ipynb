{
 "metadata": {
  "language_info": {
   "codemirror_mode": {
    "name": "ipython",
    "version": 3
   },
   "file_extension": ".py",
   "mimetype": "text/x-python",
   "name": "python",
   "nbconvert_exporter": "python",
   "pygments_lexer": "ipython3",
   "version": "3.9.2"
  },
  "orig_nbformat": 2,
  "kernelspec": {
   "name": "python392jvsc74a57bd0c98bad758fdc1a8561ae45ecc54528f52ddf29c5a422c397ff5dc68402ca37fd",
   "display_name": "Python 3.9.2 64-bit"
  },
  "metadata": {
   "interpreter": {
    "hash": "c98bad758fdc1a8561ae45ecc54528f52ddf29c5a422c397ff5dc68402ca37fd"
   }
  }
 },
 "nbformat": 4,
 "nbformat_minor": 2,
 "cells": [
  {
   "cell_type": "code",
   "execution_count": null,
   "metadata": {},
   "outputs": [],
   "source": [
    "\n",
    "import numpy as np \n"
   ]
  },
  {
   "cell_type": "code",
   "execution_count": 1,
   "metadata": {},
   "outputs": [
    {
     "output_type": "stream",
     "name": "stdout",
     "text": [
      "81.0\n"
     ]
    }
   ],
   "source": [
    "import numpy as np\n",
    "\n",
    "## Data: yearly salary in ($1000) [2017, 2018, 2019]\n",
    "alice = [99, 101, 103]\n",
    "bob = [110, 108, 105]\n",
    "tim = [90, 88, 85]\n",
    "\n",
    "salaries = np.array([alice, bob, tim])\n",
    "taxation = np.array([[0.2, 0.25, 0.22],\n",
    "                     [0.4, 0.5, 0.5],\n",
    "                     [0.1, 0.2, 0.1]])\n",
    "#Problem: how do we find the maximum after-tax income in a group of people, #given their yearly salary and tax rates?\n",
    "\n",
    "#solution:\n",
    "max_income = np.max(salaries - salaries * taxation)\n",
    "print(max_income)"
   ]
  },
  {
   "cell_type": "code",
   "execution_count": null,
   "metadata": {},
   "outputs": [],
   "source": [
    "## Data: yearly salary in ($1000) [2025, 2026, 2027]\n",
    "dataScientist = [130, 132, 137]\n",
    "productManager = [127, 140, 145]\n",
    "designer = [118, 118, 127]\n",
    "softwareEngineer = [129, 131, 137]\n",
    "\n",
    "employees = np.array([dataScientist,\n",
    "                      productManager,\n",
    "                      designer,\n",
    "                      softwareEngineer])\n",
    "#Problem: You have data for a variety of professions, and you want to increase the salaries of just the data scientists by 10 percent every other year.\n",
    "\n",
    "#solution:\n",
    "employees[0, ::2] = employees[0, ::2] * 1.10\n",
    "print(employees)"
   ]
  },
  {
   "cell_type": "code",
   "execution_count": 2,
   "metadata": {},
   "outputs": [
    {
     "output_type": "stream",
     "name": "stdout",
     "text": [
      "24.333333333333332\n['Hong Kong' 'Hong Kong' 'Hong Kong' 'Hong Kong' 'Hong Kong' 'Hong Kong'\n 'New York' 'New York' 'New York' 'New York' 'New York' 'New York'\n 'Berlin']\n{'Berlin', 'Hong Kong', 'New York'}\n"
     ]
    }
   ],
   "source": [
    "## Dependencies\n",
    "import numpy as np\n",
    "\n",
    "## Data: air quality index AQI data (row = city)\n",
    "X = np.array(\n",
    "    [[ 42, 40, 41, 43, 44, 43 ], # Hong Kong\n",
    "     [ 30, 31, 29, 29, 29, 30 ], # New York\n",
    "     [ 8, 13, 31, 11, 11, 9 ], # Berlin\n",
    "     [ 11, 11, 12, 13, 11, 12 ]]) # Montreal\n",
    "\n",
    "cities = np.array([\"Hong Kong\", \n",
    "                   \"New York\", \n",
    "                   \"Berlin\", \n",
    "                   \"Montreal\"])\n",
    "#Problem: find above-average polluted city names from a 2D matrix where each row maintains a city's AQI measurements. The one-liner finds above-average polluted cities, defined as cities that have a peak AQI value that is above the overall average among all the measurements of all cities.\n",
    "# A common use for nonzero is to find the indices of an array, where a condition is True. Given an array a, the condition a > 3 is a boolean array and since False is interpreted as 0, np.nonzero(a > 3) yields the indices of the a where the condition is true.\n",
    "avg = np.average(X)\n",
    "print(avg)\n",
    "print(cities[np.nonzero(X > np.average(X))[0]])\n",
    "print(set(cities[np.nonzero(X > np.average(X))[0]]))"
   ]
  },
  {
   "cell_type": "code",
   "execution_count": 4,
   "metadata": {},
   "outputs": [],
   "source": [
    "polluted = set(cities[np.nonzero(X > np.average(X))[0]])"
   ]
  },
  {
   "cell_type": "code",
   "execution_count": 5,
   "metadata": {},
   "outputs": [
    {
     "output_type": "stream",
     "name": "stdout",
     "text": [
      "{'Berlin', 'Hong Kong', 'New York'}\n"
     ]
    }
   ],
   "source": [
    "print(polluted)"
   ]
  },
  {
   "cell_type": "code",
   "execution_count": 20,
   "metadata": {},
   "outputs": [
    {
     "output_type": "stream",
     "name": "stdout",
     "text": [
      "['@instagram' '@selenagomez' '@cristiano' '@beyonce']\n[['232' '@instagram']\n ['133' '@selenagomez']\n ['120' '@cristiano']\n ['111' '@beyonce']]\n"
     ]
    }
   ],
   "source": [
    "#Problem: Given a 2D array (first column = # followers, second column = Instagram name). Find the names of the Instagram superstars with more than 100 million followers!\n",
    "import numpy as np\n",
    "\n",
    "## Data: popular Instagram accounts (millions followers)\n",
    "inst = np.array([[232, \"@instagram\"],\n",
    "                 [133, \"@selenagomez\"],\n",
    "                 [59, \"@victoriassecret\"],\n",
    "                 [120, \"@cristiano\"],\n",
    "                 [111, \"@beyonce\"],\n",
    "                 [76, \"@nike\"]])\n",
    "more_100 = inst[inst[:, 0].astype(int) > 100, 1]   # 1= the column to show\n",
    "print(more_100)\n",
    "more_100 = inst[inst[:, 0].astype(int) > 100]\n",
    "print(more_100)"
   ]
  },
  {
   "cell_type": "code",
   "execution_count": 36,
   "metadata": {},
   "outputs": [
    {
     "output_type": "stream",
     "name": "stdout",
     "text": [
      "[[1. 2. 3. 4. 3. 4. 4.]\n [5. 3. 3. 4. 3. 4. 6.]\n [6. 5. 5. 5. 4. 5. 5.]]\n[1. 2. 3. 4. 3. 4. 3. 5. 3. 3. 4. 3. 4. 4. 6. 5. 5. 5. 4. 5. 5.]\n"
     ]
    }
   ],
   "source": [
    "#Problem: Given an array of temperature values, replace every seventh temperature value with the average of the last seven days (including the seventh day’s temperature value).\n",
    "## Dependencies\n",
    "import numpy as np\n",
    "\n",
    "## Sensor data (Mo, Tu, We, Th, Fr, Sa, Su)\n",
    "tmp = np.array([1, 2, 3, 4, 3, 4, 4,\n",
    "                5, 3, 3, 4, 3, 4, 6,\n",
    "                6, 5, 5, 5, 4, 5, 5]).astype(float)\n",
    "tmp2 = tmp.reshape((-1,7))\n",
    "print(tmp2)\n",
    "tmp[6::7] = np.average(tmp.reshape((-1,7)), axis=1)  # (-1)= computer calculate the number of elements for 7 columns (=3). only for the calculation sake.\n",
    "print(tmp)\n"
   ]
  },
  {
   "cell_type": "code",
   "execution_count": null,
   "metadata": {},
   "outputs": [],
   "source": []
  }
 ]
}