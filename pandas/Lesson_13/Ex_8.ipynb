{
 "metadata": {
  "language_info": {
   "codemirror_mode": {
    "name": "ipython",
    "version": 3
   },
   "file_extension": ".py",
   "mimetype": "text/x-python",
   "name": "python",
   "nbconvert_exporter": "python",
   "pygments_lexer": "ipython3",
   "version": "3.9.2"
  },
  "orig_nbformat": 4,
  "kernelspec": {
   "name": "python3",
   "display_name": "Python 3.9.2 64-bit"
  },
  "interpreter": {
   "hash": "c98bad758fdc1a8561ae45ecc54528f52ddf29c5a422c397ff5dc68402ca37fd"
  }
 },
 "nbformat": 4,
 "nbformat_minor": 2,
 "cells": [
  {
   "cell_type": "code",
   "execution_count": 2,
   "metadata": {},
   "outputs": [],
   "source": [
    "import pandas as pd \n",
    "import numpy as np "
   ]
  },
  {
   "cell_type": "code",
   "execution_count": 3,
   "metadata": {},
   "outputs": [
    {
     "output_type": "execute_result",
     "data": {
      "text/plain": [
       "   NDB_No               Shrt_Desc  Water_(g)  Energ_Kcal  Protein_(g)  \\\n",
       "0    1001        BUTTER,WITH SALT      15.87         717         0.85   \n",
       "1    1002  BUTTER,WHIPPED,W/ SALT      16.72         718         0.49   \n",
       "2    1003    BUTTER OIL,ANHYDROUS       0.24         876         0.28   \n",
       "3    1004             CHEESE,BLUE      42.41         353        21.40   \n",
       "4    1005            CHEESE,BRICK      41.11         371        23.24   \n",
       "\n",
       "   Lipid_Tot_(g)  Ash_(g)  Carbohydrt_(g)  Fiber_TD_(g)  Sugar_Tot_(g)  ...  \\\n",
       "0          81.11     2.11            0.06           0.0           0.06  ...   \n",
       "1          78.30     1.62            2.87           0.0           0.06  ...   \n",
       "2          99.48     0.00            0.00           0.0           0.00  ...   \n",
       "3          28.74     5.11            2.34           0.0           0.50  ...   \n",
       "4          29.68     3.18            2.79           0.0           0.51  ...   \n",
       "\n",
       "   Vit_K_(µg)  FA_Sat_(g)  FA_Mono_(g)  FA_Poly_(g)  Cholestrl_(mg)  GmWt_1  \\\n",
       "0         7.0      51.368       21.021        3.043           215.0    5.00   \n",
       "1         4.6      45.390       19.874        3.331           225.0    3.80   \n",
       "2         8.6      61.924       28.732        3.694           256.0   12.80   \n",
       "3         2.4      18.669        7.778        0.800            75.0   28.35   \n",
       "4         2.5      18.764        8.598        0.784            94.0  132.00   \n",
       "\n",
       "                   GmWt_Desc1  GmWt_2       GmWt_Desc2  Refuse_Pct  \n",
       "0  1 pat,  (1\" sq, 1/3\" high)    14.2           1 tbsp         0.0  \n",
       "1  1 pat,  (1\" sq, 1/3\" high)     9.4           1 tbsp         0.0  \n",
       "2                      1 tbsp   205.0            1 cup         0.0  \n",
       "3                        1 oz    17.0     1 cubic inch         0.0  \n",
       "4                1 cup, diced   113.0  1 cup, shredded         0.0  \n",
       "\n",
       "[5 rows x 53 columns]"
      ],
      "text/html": "<div>\n<style scoped>\n    .dataframe tbody tr th:only-of-type {\n        vertical-align: middle;\n    }\n\n    .dataframe tbody tr th {\n        vertical-align: top;\n    }\n\n    .dataframe thead th {\n        text-align: right;\n    }\n</style>\n<table border=\"1\" class=\"dataframe\">\n  <thead>\n    <tr style=\"text-align: right;\">\n      <th></th>\n      <th>NDB_No</th>\n      <th>Shrt_Desc</th>\n      <th>Water_(g)</th>\n      <th>Energ_Kcal</th>\n      <th>Protein_(g)</th>\n      <th>Lipid_Tot_(g)</th>\n      <th>Ash_(g)</th>\n      <th>Carbohydrt_(g)</th>\n      <th>Fiber_TD_(g)</th>\n      <th>Sugar_Tot_(g)</th>\n      <th>...</th>\n      <th>Vit_K_(µg)</th>\n      <th>FA_Sat_(g)</th>\n      <th>FA_Mono_(g)</th>\n      <th>FA_Poly_(g)</th>\n      <th>Cholestrl_(mg)</th>\n      <th>GmWt_1</th>\n      <th>GmWt_Desc1</th>\n      <th>GmWt_2</th>\n      <th>GmWt_Desc2</th>\n      <th>Refuse_Pct</th>\n    </tr>\n  </thead>\n  <tbody>\n    <tr>\n      <th>0</th>\n      <td>1001</td>\n      <td>BUTTER,WITH SALT</td>\n      <td>15.87</td>\n      <td>717</td>\n      <td>0.85</td>\n      <td>81.11</td>\n      <td>2.11</td>\n      <td>0.06</td>\n      <td>0.0</td>\n      <td>0.06</td>\n      <td>...</td>\n      <td>7.0</td>\n      <td>51.368</td>\n      <td>21.021</td>\n      <td>3.043</td>\n      <td>215.0</td>\n      <td>5.00</td>\n      <td>1 pat,  (1\" sq, 1/3\" high)</td>\n      <td>14.2</td>\n      <td>1 tbsp</td>\n      <td>0.0</td>\n    </tr>\n    <tr>\n      <th>1</th>\n      <td>1002</td>\n      <td>BUTTER,WHIPPED,W/ SALT</td>\n      <td>16.72</td>\n      <td>718</td>\n      <td>0.49</td>\n      <td>78.30</td>\n      <td>1.62</td>\n      <td>2.87</td>\n      <td>0.0</td>\n      <td>0.06</td>\n      <td>...</td>\n      <td>4.6</td>\n      <td>45.390</td>\n      <td>19.874</td>\n      <td>3.331</td>\n      <td>225.0</td>\n      <td>3.80</td>\n      <td>1 pat,  (1\" sq, 1/3\" high)</td>\n      <td>9.4</td>\n      <td>1 tbsp</td>\n      <td>0.0</td>\n    </tr>\n    <tr>\n      <th>2</th>\n      <td>1003</td>\n      <td>BUTTER OIL,ANHYDROUS</td>\n      <td>0.24</td>\n      <td>876</td>\n      <td>0.28</td>\n      <td>99.48</td>\n      <td>0.00</td>\n      <td>0.00</td>\n      <td>0.0</td>\n      <td>0.00</td>\n      <td>...</td>\n      <td>8.6</td>\n      <td>61.924</td>\n      <td>28.732</td>\n      <td>3.694</td>\n      <td>256.0</td>\n      <td>12.80</td>\n      <td>1 tbsp</td>\n      <td>205.0</td>\n      <td>1 cup</td>\n      <td>0.0</td>\n    </tr>\n    <tr>\n      <th>3</th>\n      <td>1004</td>\n      <td>CHEESE,BLUE</td>\n      <td>42.41</td>\n      <td>353</td>\n      <td>21.40</td>\n      <td>28.74</td>\n      <td>5.11</td>\n      <td>2.34</td>\n      <td>0.0</td>\n      <td>0.50</td>\n      <td>...</td>\n      <td>2.4</td>\n      <td>18.669</td>\n      <td>7.778</td>\n      <td>0.800</td>\n      <td>75.0</td>\n      <td>28.35</td>\n      <td>1 oz</td>\n      <td>17.0</td>\n      <td>1 cubic inch</td>\n      <td>0.0</td>\n    </tr>\n    <tr>\n      <th>4</th>\n      <td>1005</td>\n      <td>CHEESE,BRICK</td>\n      <td>41.11</td>\n      <td>371</td>\n      <td>23.24</td>\n      <td>29.68</td>\n      <td>3.18</td>\n      <td>2.79</td>\n      <td>0.0</td>\n      <td>0.51</td>\n      <td>...</td>\n      <td>2.5</td>\n      <td>18.764</td>\n      <td>8.598</td>\n      <td>0.784</td>\n      <td>94.0</td>\n      <td>132.00</td>\n      <td>1 cup, diced</td>\n      <td>113.0</td>\n      <td>1 cup, shredded</td>\n      <td>0.0</td>\n    </tr>\n  </tbody>\n</table>\n<p>5 rows × 53 columns</p>\n</div>"
     },
     "metadata": {},
     "execution_count": 3
    }
   ],
   "source": [
    "foods = pd.read_excel('D:\\\\Python\\\\pandas\\\\Lesson_13\\\\USDA_Foods.xlsx')\n",
    "foods.head()"
   ]
  },
  {
   "cell_type": "code",
   "execution_count": 4,
   "metadata": {},
   "outputs": [],
   "source": [
    "import json\n",
    "db = json.load(open('D:\\\\Python\\\\pandas\\\\Lesson_13\\\\foods-2011-10-03.json'))\n"
   ]
  },
  {
   "cell_type": "code",
   "execution_count": 5,
   "metadata": {},
   "outputs": [
    {
     "output_type": "execute_result",
     "data": {
      "text/plain": [
       "     id                         description tags manufacturer  \\\n",
       "0  1008                     Cheese, caraway   []                \n",
       "1  1009                     Cheese, cheddar   []                \n",
       "2  1018                        Cheese, edam   []                \n",
       "3  1019                        Cheese, feta   []                \n",
       "4  1028  Cheese, mozzarella, part skim milk   []                \n",
       "\n",
       "                    group                                           portions  \\\n",
       "0  Dairy and Egg Products      [{'amount': 1, 'unit': 'oz', 'grams': 28.35}]   \n",
       "1  Dairy and Egg Products  [{'amount': 1, 'unit': 'cup, diced', 'grams': ...   \n",
       "2  Dairy and Egg Products  [{'amount': 1, 'unit': 'oz', 'grams': 28.35}, ...   \n",
       "3  Dairy and Egg Products  [{'amount': 1, 'unit': 'cup, crumbled', 'grams...   \n",
       "4  Dairy and Egg Products      [{'amount': 1, 'unit': 'oz', 'grams': 28.35}]   \n",
       "\n",
       "                                           nutrients  \n",
       "0  [{'value': 25.18, 'units': 'g', 'description':...  \n",
       "1  [{'value': 24.9, 'units': 'g', 'description': ...  \n",
       "2  [{'value': 4.22, 'units': 'g', 'description': ...  \n",
       "3  [{'value': 5.2, 'units': 'g', 'description': '...  \n",
       "4  [{'value': 3.27, 'units': 'g', 'description': ...  "
      ],
      "text/html": "<div>\n<style scoped>\n    .dataframe tbody tr th:only-of-type {\n        vertical-align: middle;\n    }\n\n    .dataframe tbody tr th {\n        vertical-align: top;\n    }\n\n    .dataframe thead th {\n        text-align: right;\n    }\n</style>\n<table border=\"1\" class=\"dataframe\">\n  <thead>\n    <tr style=\"text-align: right;\">\n      <th></th>\n      <th>id</th>\n      <th>description</th>\n      <th>tags</th>\n      <th>manufacturer</th>\n      <th>group</th>\n      <th>portions</th>\n      <th>nutrients</th>\n    </tr>\n  </thead>\n  <tbody>\n    <tr>\n      <th>0</th>\n      <td>1008</td>\n      <td>Cheese, caraway</td>\n      <td>[]</td>\n      <td></td>\n      <td>Dairy and Egg Products</td>\n      <td>[{'amount': 1, 'unit': 'oz', 'grams': 28.35}]</td>\n      <td>[{'value': 25.18, 'units': 'g', 'description':...</td>\n    </tr>\n    <tr>\n      <th>1</th>\n      <td>1009</td>\n      <td>Cheese, cheddar</td>\n      <td>[]</td>\n      <td></td>\n      <td>Dairy and Egg Products</td>\n      <td>[{'amount': 1, 'unit': 'cup, diced', 'grams': ...</td>\n      <td>[{'value': 24.9, 'units': 'g', 'description': ...</td>\n    </tr>\n    <tr>\n      <th>2</th>\n      <td>1018</td>\n      <td>Cheese, edam</td>\n      <td>[]</td>\n      <td></td>\n      <td>Dairy and Egg Products</td>\n      <td>[{'amount': 1, 'unit': 'oz', 'grams': 28.35}, ...</td>\n      <td>[{'value': 4.22, 'units': 'g', 'description': ...</td>\n    </tr>\n    <tr>\n      <th>3</th>\n      <td>1019</td>\n      <td>Cheese, feta</td>\n      <td>[]</td>\n      <td></td>\n      <td>Dairy and Egg Products</td>\n      <td>[{'amount': 1, 'unit': 'cup, crumbled', 'grams...</td>\n      <td>[{'value': 5.2, 'units': 'g', 'description': '...</td>\n    </tr>\n    <tr>\n      <th>4</th>\n      <td>1028</td>\n      <td>Cheese, mozzarella, part skim milk</td>\n      <td>[]</td>\n      <td></td>\n      <td>Dairy and Egg Products</td>\n      <td>[{'amount': 1, 'unit': 'oz', 'grams': 28.35}]</td>\n      <td>[{'value': 3.27, 'units': 'g', 'description': ...</td>\n    </tr>\n  </tbody>\n</table>\n</div>"
     },
     "metadata": {},
     "execution_count": 5
    }
   ],
   "source": [
    "# convert the list to df\n",
    "df_groups = pd.DataFrame(db)\n",
    "df_groups.head()"
   ]
  },
  {
   "cell_type": "code",
   "execution_count": 6,
   "metadata": {},
   "outputs": [
    {
     "output_type": "execute_result",
     "data": {
      "text/plain": [
       "   NDB_No               Shrt_Desc  Water_(g)  Energ_Kcal  Protein_(g)  \\\n",
       "0    1001        BUTTER,WITH SALT      15.87         717         0.85   \n",
       "1    1002  BUTTER,WHIPPED,W/ SALT      16.72         718         0.49   \n",
       "2    1003    BUTTER OIL,ANHYDROUS       0.24         876         0.28   \n",
       "3    1004             CHEESE,BLUE      42.41         353        21.40   \n",
       "4    1005            CHEESE,BRICK      41.11         371        23.24   \n",
       "5    1006             CHEESE,BRIE      48.42         334        20.75   \n",
       "6    1007        CHEESE,CAMEMBERT      51.80         300        19.80   \n",
       "7    1008          CHEESE,CARAWAY      39.28         376        25.18   \n",
       "8    1009          CHEESE,CHEDDAR      37.02         404        22.87   \n",
       "9    1010         CHEESE,CHESHIRE      37.65         387        23.37   \n",
       "\n",
       "   Lipid_Tot_(g)  Ash_(g)  Carbohydrt_(g)  Fiber_TD_(g)  Sugar_Tot_(g)  ...  \\\n",
       "0          81.11     2.11            0.06           0.0           0.06  ...   \n",
       "1          78.30     1.62            2.87           0.0           0.06  ...   \n",
       "2          99.48     0.00            0.00           0.0           0.00  ...   \n",
       "3          28.74     5.11            2.34           0.0           0.50  ...   \n",
       "4          29.68     3.18            2.79           0.0           0.51  ...   \n",
       "5          27.68     2.70            0.45           0.0           0.45  ...   \n",
       "6          24.26     3.68            0.46           0.0           0.46  ...   \n",
       "7          29.20     3.28            3.06           0.0            NaN  ...   \n",
       "8          33.31     3.71            3.09           0.0           0.48  ...   \n",
       "9          30.60     3.60            4.78           0.0            NaN  ...   \n",
       "\n",
       "   Vit_K_(µg)  FA_Sat_(g)  FA_Mono_(g)  FA_Poly_(g)  Cholestrl_(mg)  GmWt_1  \\\n",
       "0         7.0      51.368       21.021        3.043           215.0    5.00   \n",
       "1         4.6      45.390       19.874        3.331           225.0    3.80   \n",
       "2         8.6      61.924       28.732        3.694           256.0   12.80   \n",
       "3         2.4      18.669        7.778        0.800            75.0   28.35   \n",
       "4         2.5      18.764        8.598        0.784            94.0  132.00   \n",
       "5         2.3      17.410        8.013        0.826           100.0   28.35   \n",
       "6         2.0      15.259        7.023        0.724            72.0   28.35   \n",
       "7         NaN      18.584        8.275        0.830            93.0   28.35   \n",
       "8         2.4      18.867        9.246        1.421            99.0  132.00   \n",
       "9         NaN      19.475        8.671        0.870           103.0   28.35   \n",
       "\n",
       "                   GmWt_Desc1  GmWt_2       GmWt_Desc2  Refuse_Pct  \n",
       "0  1 pat,  (1\" sq, 1/3\" high)    14.2           1 tbsp         0.0  \n",
       "1  1 pat,  (1\" sq, 1/3\" high)     9.4           1 tbsp         0.0  \n",
       "2                      1 tbsp   205.0            1 cup         0.0  \n",
       "3                        1 oz    17.0     1 cubic inch         0.0  \n",
       "4                1 cup, diced   113.0  1 cup, shredded         0.0  \n",
       "5                        1 oz   144.0    1 cup, sliced         0.0  \n",
       "6                        1 oz   246.0            1 cup         0.0  \n",
       "7                        1 oz     NaN              NaN         0.0  \n",
       "8                1 cup, diced   244.0    1 cup, melted         0.0  \n",
       "9                        1 oz     NaN              NaN         0.0  \n",
       "\n",
       "[10 rows x 53 columns]"
      ],
      "text/html": "<div>\n<style scoped>\n    .dataframe tbody tr th:only-of-type {\n        vertical-align: middle;\n    }\n\n    .dataframe tbody tr th {\n        vertical-align: top;\n    }\n\n    .dataframe thead th {\n        text-align: right;\n    }\n</style>\n<table border=\"1\" class=\"dataframe\">\n  <thead>\n    <tr style=\"text-align: right;\">\n      <th></th>\n      <th>NDB_No</th>\n      <th>Shrt_Desc</th>\n      <th>Water_(g)</th>\n      <th>Energ_Kcal</th>\n      <th>Protein_(g)</th>\n      <th>Lipid_Tot_(g)</th>\n      <th>Ash_(g)</th>\n      <th>Carbohydrt_(g)</th>\n      <th>Fiber_TD_(g)</th>\n      <th>Sugar_Tot_(g)</th>\n      <th>...</th>\n      <th>Vit_K_(µg)</th>\n      <th>FA_Sat_(g)</th>\n      <th>FA_Mono_(g)</th>\n      <th>FA_Poly_(g)</th>\n      <th>Cholestrl_(mg)</th>\n      <th>GmWt_1</th>\n      <th>GmWt_Desc1</th>\n      <th>GmWt_2</th>\n      <th>GmWt_Desc2</th>\n      <th>Refuse_Pct</th>\n    </tr>\n  </thead>\n  <tbody>\n    <tr>\n      <th>0</th>\n      <td>1001</td>\n      <td>BUTTER,WITH SALT</td>\n      <td>15.87</td>\n      <td>717</td>\n      <td>0.85</td>\n      <td>81.11</td>\n      <td>2.11</td>\n      <td>0.06</td>\n      <td>0.0</td>\n      <td>0.06</td>\n      <td>...</td>\n      <td>7.0</td>\n      <td>51.368</td>\n      <td>21.021</td>\n      <td>3.043</td>\n      <td>215.0</td>\n      <td>5.00</td>\n      <td>1 pat,  (1\" sq, 1/3\" high)</td>\n      <td>14.2</td>\n      <td>1 tbsp</td>\n      <td>0.0</td>\n    </tr>\n    <tr>\n      <th>1</th>\n      <td>1002</td>\n      <td>BUTTER,WHIPPED,W/ SALT</td>\n      <td>16.72</td>\n      <td>718</td>\n      <td>0.49</td>\n      <td>78.30</td>\n      <td>1.62</td>\n      <td>2.87</td>\n      <td>0.0</td>\n      <td>0.06</td>\n      <td>...</td>\n      <td>4.6</td>\n      <td>45.390</td>\n      <td>19.874</td>\n      <td>3.331</td>\n      <td>225.0</td>\n      <td>3.80</td>\n      <td>1 pat,  (1\" sq, 1/3\" high)</td>\n      <td>9.4</td>\n      <td>1 tbsp</td>\n      <td>0.0</td>\n    </tr>\n    <tr>\n      <th>2</th>\n      <td>1003</td>\n      <td>BUTTER OIL,ANHYDROUS</td>\n      <td>0.24</td>\n      <td>876</td>\n      <td>0.28</td>\n      <td>99.48</td>\n      <td>0.00</td>\n      <td>0.00</td>\n      <td>0.0</td>\n      <td>0.00</td>\n      <td>...</td>\n      <td>8.6</td>\n      <td>61.924</td>\n      <td>28.732</td>\n      <td>3.694</td>\n      <td>256.0</td>\n      <td>12.80</td>\n      <td>1 tbsp</td>\n      <td>205.0</td>\n      <td>1 cup</td>\n      <td>0.0</td>\n    </tr>\n    <tr>\n      <th>3</th>\n      <td>1004</td>\n      <td>CHEESE,BLUE</td>\n      <td>42.41</td>\n      <td>353</td>\n      <td>21.40</td>\n      <td>28.74</td>\n      <td>5.11</td>\n      <td>2.34</td>\n      <td>0.0</td>\n      <td>0.50</td>\n      <td>...</td>\n      <td>2.4</td>\n      <td>18.669</td>\n      <td>7.778</td>\n      <td>0.800</td>\n      <td>75.0</td>\n      <td>28.35</td>\n      <td>1 oz</td>\n      <td>17.0</td>\n      <td>1 cubic inch</td>\n      <td>0.0</td>\n    </tr>\n    <tr>\n      <th>4</th>\n      <td>1005</td>\n      <td>CHEESE,BRICK</td>\n      <td>41.11</td>\n      <td>371</td>\n      <td>23.24</td>\n      <td>29.68</td>\n      <td>3.18</td>\n      <td>2.79</td>\n      <td>0.0</td>\n      <td>0.51</td>\n      <td>...</td>\n      <td>2.5</td>\n      <td>18.764</td>\n      <td>8.598</td>\n      <td>0.784</td>\n      <td>94.0</td>\n      <td>132.00</td>\n      <td>1 cup, diced</td>\n      <td>113.0</td>\n      <td>1 cup, shredded</td>\n      <td>0.0</td>\n    </tr>\n    <tr>\n      <th>5</th>\n      <td>1006</td>\n      <td>CHEESE,BRIE</td>\n      <td>48.42</td>\n      <td>334</td>\n      <td>20.75</td>\n      <td>27.68</td>\n      <td>2.70</td>\n      <td>0.45</td>\n      <td>0.0</td>\n      <td>0.45</td>\n      <td>...</td>\n      <td>2.3</td>\n      <td>17.410</td>\n      <td>8.013</td>\n      <td>0.826</td>\n      <td>100.0</td>\n      <td>28.35</td>\n      <td>1 oz</td>\n      <td>144.0</td>\n      <td>1 cup, sliced</td>\n      <td>0.0</td>\n    </tr>\n    <tr>\n      <th>6</th>\n      <td>1007</td>\n      <td>CHEESE,CAMEMBERT</td>\n      <td>51.80</td>\n      <td>300</td>\n      <td>19.80</td>\n      <td>24.26</td>\n      <td>3.68</td>\n      <td>0.46</td>\n      <td>0.0</td>\n      <td>0.46</td>\n      <td>...</td>\n      <td>2.0</td>\n      <td>15.259</td>\n      <td>7.023</td>\n      <td>0.724</td>\n      <td>72.0</td>\n      <td>28.35</td>\n      <td>1 oz</td>\n      <td>246.0</td>\n      <td>1 cup</td>\n      <td>0.0</td>\n    </tr>\n    <tr>\n      <th>7</th>\n      <td>1008</td>\n      <td>CHEESE,CARAWAY</td>\n      <td>39.28</td>\n      <td>376</td>\n      <td>25.18</td>\n      <td>29.20</td>\n      <td>3.28</td>\n      <td>3.06</td>\n      <td>0.0</td>\n      <td>NaN</td>\n      <td>...</td>\n      <td>NaN</td>\n      <td>18.584</td>\n      <td>8.275</td>\n      <td>0.830</td>\n      <td>93.0</td>\n      <td>28.35</td>\n      <td>1 oz</td>\n      <td>NaN</td>\n      <td>NaN</td>\n      <td>0.0</td>\n    </tr>\n    <tr>\n      <th>8</th>\n      <td>1009</td>\n      <td>CHEESE,CHEDDAR</td>\n      <td>37.02</td>\n      <td>404</td>\n      <td>22.87</td>\n      <td>33.31</td>\n      <td>3.71</td>\n      <td>3.09</td>\n      <td>0.0</td>\n      <td>0.48</td>\n      <td>...</td>\n      <td>2.4</td>\n      <td>18.867</td>\n      <td>9.246</td>\n      <td>1.421</td>\n      <td>99.0</td>\n      <td>132.00</td>\n      <td>1 cup, diced</td>\n      <td>244.0</td>\n      <td>1 cup, melted</td>\n      <td>0.0</td>\n    </tr>\n    <tr>\n      <th>9</th>\n      <td>1010</td>\n      <td>CHEESE,CHESHIRE</td>\n      <td>37.65</td>\n      <td>387</td>\n      <td>23.37</td>\n      <td>30.60</td>\n      <td>3.60</td>\n      <td>4.78</td>\n      <td>0.0</td>\n      <td>NaN</td>\n      <td>...</td>\n      <td>NaN</td>\n      <td>19.475</td>\n      <td>8.671</td>\n      <td>0.870</td>\n      <td>103.0</td>\n      <td>28.35</td>\n      <td>1 oz</td>\n      <td>NaN</td>\n      <td>NaN</td>\n      <td>0.0</td>\n    </tr>\n  </tbody>\n</table>\n<p>10 rows × 53 columns</p>\n</div>"
     },
     "metadata": {},
     "execution_count": 6
    }
   ],
   "source": [
    "#Set the index of foods to 'NDB_No'\n",
    "foods.set_index('NDB_No')\n",
    "foods.head(10)"
   ]
  },
  {
   "cell_type": "code",
   "execution_count": 7,
   "metadata": {},
   "outputs": [
    {
     "output_type": "execute_result",
     "data": {
      "text/plain": [
       "   NDB_No                         description tags manufacturer  \\\n",
       "0    1008                     Cheese, caraway   []                \n",
       "1    1009                     Cheese, cheddar   []                \n",
       "2    1018                        Cheese, edam   []                \n",
       "3    1019                        Cheese, feta   []                \n",
       "4    1028  Cheese, mozzarella, part skim milk   []                \n",
       "\n",
       "                    group                                           portions  \\\n",
       "0  Dairy and Egg Products      [{'amount': 1, 'unit': 'oz', 'grams': 28.35}]   \n",
       "1  Dairy and Egg Products  [{'amount': 1, 'unit': 'cup, diced', 'grams': ...   \n",
       "2  Dairy and Egg Products  [{'amount': 1, 'unit': 'oz', 'grams': 28.35}, ...   \n",
       "3  Dairy and Egg Products  [{'amount': 1, 'unit': 'cup, crumbled', 'grams...   \n",
       "4  Dairy and Egg Products      [{'amount': 1, 'unit': 'oz', 'grams': 28.35}]   \n",
       "\n",
       "                                           nutrients  \n",
       "0  [{'value': 25.18, 'units': 'g', 'description':...  \n",
       "1  [{'value': 24.9, 'units': 'g', 'description': ...  \n",
       "2  [{'value': 4.22, 'units': 'g', 'description': ...  \n",
       "3  [{'value': 5.2, 'units': 'g', 'description': '...  \n",
       "4  [{'value': 3.27, 'units': 'g', 'description': ...  "
      ],
      "text/html": "<div>\n<style scoped>\n    .dataframe tbody tr th:only-of-type {\n        vertical-align: middle;\n    }\n\n    .dataframe tbody tr th {\n        vertical-align: top;\n    }\n\n    .dataframe thead th {\n        text-align: right;\n    }\n</style>\n<table border=\"1\" class=\"dataframe\">\n  <thead>\n    <tr style=\"text-align: right;\">\n      <th></th>\n      <th>NDB_No</th>\n      <th>description</th>\n      <th>tags</th>\n      <th>manufacturer</th>\n      <th>group</th>\n      <th>portions</th>\n      <th>nutrients</th>\n    </tr>\n  </thead>\n  <tbody>\n    <tr>\n      <th>0</th>\n      <td>1008</td>\n      <td>Cheese, caraway</td>\n      <td>[]</td>\n      <td></td>\n      <td>Dairy and Egg Products</td>\n      <td>[{'amount': 1, 'unit': 'oz', 'grams': 28.35}]</td>\n      <td>[{'value': 25.18, 'units': 'g', 'description':...</td>\n    </tr>\n    <tr>\n      <th>1</th>\n      <td>1009</td>\n      <td>Cheese, cheddar</td>\n      <td>[]</td>\n      <td></td>\n      <td>Dairy and Egg Products</td>\n      <td>[{'amount': 1, 'unit': 'cup, diced', 'grams': ...</td>\n      <td>[{'value': 24.9, 'units': 'g', 'description': ...</td>\n    </tr>\n    <tr>\n      <th>2</th>\n      <td>1018</td>\n      <td>Cheese, edam</td>\n      <td>[]</td>\n      <td></td>\n      <td>Dairy and Egg Products</td>\n      <td>[{'amount': 1, 'unit': 'oz', 'grams': 28.35}, ...</td>\n      <td>[{'value': 4.22, 'units': 'g', 'description': ...</td>\n    </tr>\n    <tr>\n      <th>3</th>\n      <td>1019</td>\n      <td>Cheese, feta</td>\n      <td>[]</td>\n      <td></td>\n      <td>Dairy and Egg Products</td>\n      <td>[{'amount': 1, 'unit': 'cup, crumbled', 'grams...</td>\n      <td>[{'value': 5.2, 'units': 'g', 'description': '...</td>\n    </tr>\n    <tr>\n      <th>4</th>\n      <td>1028</td>\n      <td>Cheese, mozzarella, part skim milk</td>\n      <td>[]</td>\n      <td></td>\n      <td>Dairy and Egg Products</td>\n      <td>[{'amount': 1, 'unit': 'oz', 'grams': 28.35}]</td>\n      <td>[{'value': 3.27, 'units': 'g', 'description': ...</td>\n    </tr>\n  </tbody>\n</table>\n</div>"
     },
     "metadata": {},
     "execution_count": 7
    }
   ],
   "source": [
    "#set 'NDB_No' as an index name of df_groups (we need to replace the column name from 'id'....)\n",
    "df_groups.rename(columns={'id': 'NDB_No'}, inplace=True)\n",
    "df_groups.set_index('NDB_No')\n",
    "df_groups.head()"
   ]
  },
  {
   "source": [
    "## Create a dataframe main_df by merging foods and df_groups on their index."
   ],
   "cell_type": "markdown",
   "metadata": {}
  },
  {
   "cell_type": "code",
   "execution_count": 8,
   "metadata": {},
   "outputs": [
    {
     "output_type": "execute_result",
     "data": {
      "text/plain": [
       "NDB_No                  0\n",
       "description             0\n",
       "tags                    0\n",
       "manufacturer         1370\n",
       "group                   0\n",
       "portions                0\n",
       "nutrients               0\n",
       "Shrt_Desc               0\n",
       "Water_(g)               0\n",
       "Energ_Kcal              0\n",
       "Protein_(g)             0\n",
       "Lipid_Tot_(g)           0\n",
       "Ash_(g)                 8\n",
       "Carbohydrt_(g)          0\n",
       "Fiber_TD_(g)          523\n",
       "Sugar_Tot_(g)        1638\n",
       "Calcium_(mg)          103\n",
       "Iron_(mg)              92\n",
       "Magnesium_(mg)        452\n",
       "Phosphorus_(mg)       357\n",
       "Potassium_(mg)        275\n",
       "Sodium_(mg)            82\n",
       "Zinc_(mg)             407\n",
       "Copper_mg)            571\n",
       "Manganese_(mg)       1158\n",
       "Selenium_(µg)         940\n",
       "Vit_C_(mg)            360\n",
       "Thiamin_(mg)          379\n",
       "Riboflavin_(mg)       362\n",
       "Niacin_(mg)           387\n",
       "Panto_Acid_mg)       1166\n",
       "Vit_B6_(mg)           519\n",
       "Folate_Tot_(µg)       731\n",
       "Folic_Acid_(µg)       987\n",
       "Food_Folate_(µg)      840\n",
       "Folate_DFE_(µg)      1004\n",
       "Choline_Tot_ (mg)    2681\n",
       "Vit_B12_(µg)          611\n",
       "Vit_A_IU              328\n",
       "Vit_A_RAE             872\n",
       "Retinol_(µg)         1006\n",
       "Alpha_Carot_(µg)     2352\n",
       "Beta_Carot_(µg)      2280\n",
       "Beta_Crypt_(µg)      2363\n",
       "Lycopene_(µg)        2387\n",
       "Lut+Zea_ (µg)        2404\n",
       "Vit_E_(mg)           2054\n",
       "Vit_D_µg             2310\n",
       "Vit_D_IU             2292\n",
       "Vit_K_(µg)           2373\n",
       "FA_Sat_(g)            297\n",
       "FA_Mono_(g)           519\n",
       "FA_Poly_(g)           520\n",
       "Cholestrl_(mg)        289\n",
       "GmWt_1                234\n",
       "GmWt_Desc1            233\n",
       "GmWt_2               2528\n",
       "GmWt_Desc2           2528\n",
       "Refuse_Pct             28\n",
       "dtype: int64"
      ]
     },
     "metadata": {},
     "execution_count": 8
    }
   ],
   "source": [
    "main_df = df_groups.merge(right=foods, how='inner', left_on='NDB_No', right_on='NDB_No')   # merge the 2 dataframes\n",
    "main_df.isna().sum()"
   ]
  },
  {
   "cell_type": "code",
   "execution_count": 9,
   "metadata": {},
   "outputs": [
    {
     "output_type": "execute_result",
     "data": {
      "text/plain": [
       "234"
      ]
     },
     "metadata": {},
     "execution_count": 9
    }
   ],
   "source": [
    "main_df['GmWt_1'].isna().sum()"
   ]
  },
  {
   "cell_type": "code",
   "execution_count": 10,
   "metadata": {},
   "outputs": [
    {
     "output_type": "execute_result",
     "data": {
      "text/plain": [
       "0"
      ]
     },
     "metadata": {},
     "execution_count": 10
    }
   ],
   "source": [
    "# Drop all the foods (AKA rows) where their group is NaN\n",
    "\n",
    "main_df['group'].isna().sum()   # no NaN"
   ]
  },
  {
   "cell_type": "code",
   "execution_count": 11,
   "metadata": {},
   "outputs": [
    {
     "output_type": "execute_result",
     "data": {
      "text/plain": [
       "(6188, 59)"
      ]
     },
     "metadata": {},
     "execution_count": 11
    }
   ],
   "source": [
    "#How many records are there in main_df\n",
    "main_df.shape"
   ]
  },
  {
   "source": [
    "How many unique values exist in manufacturer column? (use np.unique)"
   ],
   "cell_type": "markdown",
   "metadata": {}
  },
  {
   "cell_type": "code",
   "execution_count": 61,
   "metadata": {},
   "outputs": [
    {
     "output_type": "execute_result",
     "data": {
      "text/plain": [
       "66"
      ]
     },
     "metadata": {},
     "execution_count": 61
    }
   ],
   "source": [
    "main_df['manufacturer'].nunique()       # returns the count of unique values in the specified axis"
   ]
  },
  {
   "cell_type": "code",
   "execution_count": 15,
   "metadata": {},
   "outputs": [],
   "source": [
    "# 12 Fill all the None values in main_df.manufacturer with Unknown (use inplace=True)\n",
    "main_df['manufacturer'].fillna('Unknown', inplace=True)"
   ]
  },
  {
   "cell_type": "code",
   "execution_count": 16,
   "metadata": {},
   "outputs": [
    {
     "output_type": "execute_result",
     "data": {
      "text/plain": [
       "0"
      ]
     },
     "metadata": {},
     "execution_count": 16
    }
   ],
   "source": [
    "main_df['manufacturer'].isna().sum()"
   ]
  },
  {
   "cell_type": "code",
   "execution_count": 66,
   "metadata": {},
   "outputs": [],
   "source": [
    "# 13\n",
    "main_df['manufacturer'].replace(to_replace='', value='Unknown', inplace=True)"
   ]
  },
  {
   "cell_type": "code",
   "execution_count": 67,
   "metadata": {},
   "outputs": [
    {
     "output_type": "execute_result",
     "data": {
      "text/plain": [
       "manufacturer\n",
       "ADM KAO LLC                       1\n",
       "Albertson's Inc.                  1\n",
       "Anheuser-Busch, Inc.              4\n",
       "Applebee's                        6\n",
       "Archway Cookies                  17\n",
       "                               ... \n",
       "Unknown                        5322\n",
       "Vitasoy USA                       1\n",
       "Wendy's International, Inc.      11\n",
       "WhiteWave Foods Company          28\n",
       "Worthington Foods, Inc.           5\n",
       "Name: description, Length: 66, dtype: int64"
      ]
     },
     "metadata": {},
     "execution_count": 67
    }
   ],
   "source": [
    "#14 How many foods exist for each unique manufacturer? (TODO: WHY:   hint: use value_counts() function on the column???)\n",
    "main_df.groupby('manufacturer')['description'].nunique()"
   ]
  },
  {
   "cell_type": "code",
   "execution_count": 68,
   "metadata": {},
   "outputs": [
    {
     "output_type": "execute_result",
     "data": {
      "text/plain": [
       "      NDB_No                                        description tags  \\\n",
       "3997   22118  MORNINGSTAR FARMS Garden Veggie Patties, froze...   []   \n",
       "3998   22120  MORNINGSTAR FARMS Grillers Burger Style Recipe...   []   \n",
       "3999   22121  MORNINGSTAR FARMS Grillers Vegan, frozen, unpr...   []   \n",
       "4000   22122  MORNINGSTAR FARMS Veggie Breakfast Sausage Pat...   []   \n",
       "4001   22123  MORNINGSTAR FARMS Spicy Black Bean Burger, fro...   []   \n",
       "\n",
       "                 manufacturer                        group  \\\n",
       "3997  Worthington Foods, Inc.  Legumes and Legume Products   \n",
       "3998  Worthington Foods, Inc.  Legumes and Legume Products   \n",
       "3999  Worthington Foods, Inc.  Legumes and Legume Products   \n",
       "4000  Worthington Foods, Inc.  Legumes and Legume Products   \n",
       "4001  Worthington Foods, Inc.  Legumes and Legume Products   \n",
       "\n",
       "                                               portions  \\\n",
       "3997    [{'amount': 1, 'unit': 'patty', 'grams': 67.0}]   \n",
       "3998  [{'amount': 1, 'unit': 'cup (1 serving)', 'gra...   \n",
       "3999    [{'amount': 1, 'unit': 'patty', 'grams': 71.0}]   \n",
       "4000    [{'amount': 1, 'unit': 'patty', 'grams': 38.0}]   \n",
       "4001    [{'amount': 1, 'unit': 'patty', 'grams': 67.0}]   \n",
       "\n",
       "                                              nutrients  \\\n",
       "3997  [{'value': 17.8, 'units': 'g', 'description': ...   \n",
       "3998  [{'value': 17.8, 'units': 'g', 'description': ...   \n",
       "3999  [{'value': 16.3, 'units': 'g', 'description': ...   \n",
       "4000  [{'value': 25.8, 'units': 'g', 'description': ...   \n",
       "4001  [{'value': 16.1, 'units': 'g', 'description': ...   \n",
       "\n",
       "                                              Shrt_Desc  Water_(g)  \\\n",
       "3997  WORTHINGTON FOODS,MORNINGSTAR FARMS GARDEN VEG...       60.0   \n",
       "3998  MORNINGSTAR FARMS GRILLERS BRGR STYL RECIPE CR...       65.9   \n",
       "3999  WORTHINGTON FOODS,MORNINGSTAR FARMS BETTER'N B...       68.2   \n",
       "4000  MORNINGSTAR FARMS BRKFST SAUSAGE PATTIES,FRZ,U...       54.4   \n",
       "4001  WORTHINGTON FOODS,MORNINGSTAR FARMS,SPICY BLAC...       56.5   \n",
       "\n",
       "      Energ_Kcal  ...  Vit_K_(µg)  FA_Sat_(g)  FA_Mono_(g)  FA_Poly_(g)  \\\n",
       "3997         176  ...         NaN         0.8          1.5          3.2   \n",
       "3998         135  ...         NaN         0.5          0.9          2.1   \n",
       "3999         132  ...         NaN         0.5          1.2          1.7   \n",
       "4000         210  ...         NaN         1.1          1.9          4.9   \n",
       "4001         168  ...         NaN         0.9          1.7          3.1   \n",
       "\n",
       "      Cholestrl_(mg)  GmWt_1  GmWt_Desc1  GmWt_2  GmWt_Desc2  Refuse_Pct  \n",
       "3997             2.0    67.0    1 burger     NaN         NaN         0.0  \n",
       "3998             0.0    50.0      .5 cup     NaN         NaN         0.0  \n",
       "3999             0.0    71.0    1 Burger     NaN         NaN         0.0  \n",
       "4000             2.0    38.0     1 patty     NaN         NaN         0.0  \n",
       "4001             2.0    67.0    1 burger     NaN         NaN         0.0  \n",
       "\n",
       "[5 rows x 59 columns]"
      ],
      "text/html": "<div>\n<style scoped>\n    .dataframe tbody tr th:only-of-type {\n        vertical-align: middle;\n    }\n\n    .dataframe tbody tr th {\n        vertical-align: top;\n    }\n\n    .dataframe thead th {\n        text-align: right;\n    }\n</style>\n<table border=\"1\" class=\"dataframe\">\n  <thead>\n    <tr style=\"text-align: right;\">\n      <th></th>\n      <th>NDB_No</th>\n      <th>description</th>\n      <th>tags</th>\n      <th>manufacturer</th>\n      <th>group</th>\n      <th>portions</th>\n      <th>nutrients</th>\n      <th>Shrt_Desc</th>\n      <th>Water_(g)</th>\n      <th>Energ_Kcal</th>\n      <th>...</th>\n      <th>Vit_K_(µg)</th>\n      <th>FA_Sat_(g)</th>\n      <th>FA_Mono_(g)</th>\n      <th>FA_Poly_(g)</th>\n      <th>Cholestrl_(mg)</th>\n      <th>GmWt_1</th>\n      <th>GmWt_Desc1</th>\n      <th>GmWt_2</th>\n      <th>GmWt_Desc2</th>\n      <th>Refuse_Pct</th>\n    </tr>\n  </thead>\n  <tbody>\n    <tr>\n      <th>3997</th>\n      <td>22118</td>\n      <td>MORNINGSTAR FARMS Garden Veggie Patties, froze...</td>\n      <td>[]</td>\n      <td>Worthington Foods, Inc.</td>\n      <td>Legumes and Legume Products</td>\n      <td>[{'amount': 1, 'unit': 'patty', 'grams': 67.0}]</td>\n      <td>[{'value': 17.8, 'units': 'g', 'description': ...</td>\n      <td>WORTHINGTON FOODS,MORNINGSTAR FARMS GARDEN VEG...</td>\n      <td>60.0</td>\n      <td>176</td>\n      <td>...</td>\n      <td>NaN</td>\n      <td>0.8</td>\n      <td>1.5</td>\n      <td>3.2</td>\n      <td>2.0</td>\n      <td>67.0</td>\n      <td>1 burger</td>\n      <td>NaN</td>\n      <td>NaN</td>\n      <td>0.0</td>\n    </tr>\n    <tr>\n      <th>3998</th>\n      <td>22120</td>\n      <td>MORNINGSTAR FARMS Grillers Burger Style Recipe...</td>\n      <td>[]</td>\n      <td>Worthington Foods, Inc.</td>\n      <td>Legumes and Legume Products</td>\n      <td>[{'amount': 1, 'unit': 'cup (1 serving)', 'gra...</td>\n      <td>[{'value': 17.8, 'units': 'g', 'description': ...</td>\n      <td>MORNINGSTAR FARMS GRILLERS BRGR STYL RECIPE CR...</td>\n      <td>65.9</td>\n      <td>135</td>\n      <td>...</td>\n      <td>NaN</td>\n      <td>0.5</td>\n      <td>0.9</td>\n      <td>2.1</td>\n      <td>0.0</td>\n      <td>50.0</td>\n      <td>.5 cup</td>\n      <td>NaN</td>\n      <td>NaN</td>\n      <td>0.0</td>\n    </tr>\n    <tr>\n      <th>3999</th>\n      <td>22121</td>\n      <td>MORNINGSTAR FARMS Grillers Vegan, frozen, unpr...</td>\n      <td>[]</td>\n      <td>Worthington Foods, Inc.</td>\n      <td>Legumes and Legume Products</td>\n      <td>[{'amount': 1, 'unit': 'patty', 'grams': 71.0}]</td>\n      <td>[{'value': 16.3, 'units': 'g', 'description': ...</td>\n      <td>WORTHINGTON FOODS,MORNINGSTAR FARMS BETTER'N B...</td>\n      <td>68.2</td>\n      <td>132</td>\n      <td>...</td>\n      <td>NaN</td>\n      <td>0.5</td>\n      <td>1.2</td>\n      <td>1.7</td>\n      <td>0.0</td>\n      <td>71.0</td>\n      <td>1 Burger</td>\n      <td>NaN</td>\n      <td>NaN</td>\n      <td>0.0</td>\n    </tr>\n    <tr>\n      <th>4000</th>\n      <td>22122</td>\n      <td>MORNINGSTAR FARMS Veggie Breakfast Sausage Pat...</td>\n      <td>[]</td>\n      <td>Worthington Foods, Inc.</td>\n      <td>Legumes and Legume Products</td>\n      <td>[{'amount': 1, 'unit': 'patty', 'grams': 38.0}]</td>\n      <td>[{'value': 25.8, 'units': 'g', 'description': ...</td>\n      <td>MORNINGSTAR FARMS BRKFST SAUSAGE PATTIES,FRZ,U...</td>\n      <td>54.4</td>\n      <td>210</td>\n      <td>...</td>\n      <td>NaN</td>\n      <td>1.1</td>\n      <td>1.9</td>\n      <td>4.9</td>\n      <td>2.0</td>\n      <td>38.0</td>\n      <td>1 patty</td>\n      <td>NaN</td>\n      <td>NaN</td>\n      <td>0.0</td>\n    </tr>\n    <tr>\n      <th>4001</th>\n      <td>22123</td>\n      <td>MORNINGSTAR FARMS Spicy Black Bean Burger, fro...</td>\n      <td>[]</td>\n      <td>Worthington Foods, Inc.</td>\n      <td>Legumes and Legume Products</td>\n      <td>[{'amount': 1, 'unit': 'patty', 'grams': 67.0}]</td>\n      <td>[{'value': 16.1, 'units': 'g', 'description': ...</td>\n      <td>WORTHINGTON FOODS,MORNINGSTAR FARMS,SPICY BLAC...</td>\n      <td>56.5</td>\n      <td>168</td>\n      <td>...</td>\n      <td>NaN</td>\n      <td>0.9</td>\n      <td>1.7</td>\n      <td>3.1</td>\n      <td>2.0</td>\n      <td>67.0</td>\n      <td>1 burger</td>\n      <td>NaN</td>\n      <td>NaN</td>\n      <td>0.0</td>\n    </tr>\n  </tbody>\n</table>\n<p>5 rows × 59 columns</p>\n</div>"
     },
     "metadata": {},
     "execution_count": 68
    }
   ],
   "source": [
    "main_df[main_df['manufacturer'] =='Worthington Foods, Inc.']"
   ]
  },
  {
   "source": [
    "# Big data analysis"
   ],
   "cell_type": "markdown",
   "metadata": {}
  },
  {
   "cell_type": "code",
   "execution_count": 69,
   "metadata": {},
   "outputs": [],
   "source": [
    "macro = ['Energ_Kcal', 'Protein_(g)', 'Lipid_Tot_(g)', 'Carbohydrt_(g)', 'Fiber_TD_(g)', 'Sugar_Tot_(g)', \n",
    "         'Water_(g)','Ash_(g)']\n",
    "vitamins = ['Vit_C_(mg)', 'Thiamin_(mg)', 'Riboflavin_(mg)', 'Niacin_(mg)', 'Panto_Acid_mg)', 'Vit_B6_(mg)','Folate_Tot_(µg)', \n",
    "            'Folic_Acid_(µg)', 'Food_Folate_(µg)', 'Folate_DFE_(µg)', 'Choline_Tot_ (mg)', 'Vit_B12_(µg)', 'Vit_A_IU', \n",
    "            'Vit_A_RAE', 'Retinol_(µg)', 'Alpha_Carot_(µg)', 'Beta_Carot_(µg)', 'Beta_Crypt_(µg)', 'Lycopene_(µg)', \n",
    "            'Lut+Zea_ (µg)', 'Vit_E_(mg)', 'Vit_D_µg', 'Vit_D_IU', 'Vit_K_(µg)']\n",
    "minerals = ['Calcium_(mg)', 'Iron_(mg)', 'Magnesium_(mg)', 'Phosphorus_(mg)', 'Potassium_(mg)', 'Sodium_(mg)', 'Zinc_(mg)', \n",
    "            'Copper_mg)', 'Manganese_(mg)', 'Selenium_(µg)', ]\n",
    "fa_cho = ['FA_Sat_(g)', 'FA_Mono_(g)', 'FA_Poly_(g)', 'Cholestrl_(mg)']\n"
   ]
  },
  {
   "cell_type": "code",
   "execution_count": 70,
   "metadata": {},
   "outputs": [
    {
     "output_type": "execute_result",
     "data": {
      "text/plain": [
       "                                            description  Cholestrl_(mg)\n",
       "3040          Bread, protein, toasted (includes gluten)             0.0\n",
       "3070  English muffins, plain, unenriched, without ca...             0.0\n",
       "3071                            Pie, fried pies, cherry             0.0\n",
       "3072                             Pie, fried pies, lemon             0.0\n",
       "3073                      Popovers, dry mix, unenriched             0.0"
      ],
      "text/html": "<div>\n<style scoped>\n    .dataframe tbody tr th:only-of-type {\n        vertical-align: middle;\n    }\n\n    .dataframe tbody tr th {\n        vertical-align: top;\n    }\n\n    .dataframe thead th {\n        text-align: right;\n    }\n</style>\n<table border=\"1\" class=\"dataframe\">\n  <thead>\n    <tr style=\"text-align: right;\">\n      <th></th>\n      <th>description</th>\n      <th>Cholestrl_(mg)</th>\n    </tr>\n  </thead>\n  <tbody>\n    <tr>\n      <th>3040</th>\n      <td>Bread, protein, toasted (includes gluten)</td>\n      <td>0.0</td>\n    </tr>\n    <tr>\n      <th>3070</th>\n      <td>English muffins, plain, unenriched, without ca...</td>\n      <td>0.0</td>\n    </tr>\n    <tr>\n      <th>3071</th>\n      <td>Pie, fried pies, cherry</td>\n      <td>0.0</td>\n    </tr>\n    <tr>\n      <th>3072</th>\n      <td>Pie, fried pies, lemon</td>\n      <td>0.0</td>\n    </tr>\n    <tr>\n      <th>3073</th>\n      <td>Popovers, dry mix, unenriched</td>\n      <td>0.0</td>\n    </tr>\n  </tbody>\n</table>\n</div>"
     },
     "metadata": {},
     "execution_count": 70
    }
   ],
   "source": [
    "# 15 Select the 5 most low-cholesterol foods and show their Cholesterol amount.\n",
    "low_chol = main_df.sort_values(by= ['Cholestrl_(mg)'], ascending=True)\n",
    "low_chol[['description', 'Cholestrl_(mg)']].head(5)"
   ]
  },
  {
   "cell_type": "code",
   "execution_count": 101,
   "metadata": {},
   "outputs": [
    {
     "output_type": "execute_result",
     "data": {
      "text/plain": [
       "                                            description  Protein_(g)  \\\n",
       "651      CAMPBELL Soup Company, CAMPBELL'S Au Jus Gravy         1.69   \n",
       "2379  Alcoholic beverage, distilled, all (gin, rum, ...         0.00   \n",
       "2380       Alcoholic beverage, distilled, gin, 90 proof         0.00   \n",
       "2381       Alcoholic beverage, distilled, rum, 80 proof         0.00   \n",
       "2382     Alcoholic beverage, distilled, vodka, 80 proof         0.00   \n",
       "\n",
       "      Lipid_Tot_(g)  Carbohydrt_(g)  Fiber_TD_(g)  Sugar_Tot_(g)  \n",
       "651             0.0             0.0           NaN            NaN  \n",
       "2379            0.0             0.0           0.0            0.0  \n",
       "2380            0.0             0.0           0.0            0.0  \n",
       "2381            0.0             0.0           0.0            0.0  \n",
       "2382            0.0             0.0           0.0            0.0  "
      ],
      "text/html": "<div>\n<style scoped>\n    .dataframe tbody tr th:only-of-type {\n        vertical-align: middle;\n    }\n\n    .dataframe tbody tr th {\n        vertical-align: top;\n    }\n\n    .dataframe thead th {\n        text-align: right;\n    }\n</style>\n<table border=\"1\" class=\"dataframe\">\n  <thead>\n    <tr style=\"text-align: right;\">\n      <th></th>\n      <th>description</th>\n      <th>Protein_(g)</th>\n      <th>Lipid_Tot_(g)</th>\n      <th>Carbohydrt_(g)</th>\n      <th>Fiber_TD_(g)</th>\n      <th>Sugar_Tot_(g)</th>\n    </tr>\n  </thead>\n  <tbody>\n    <tr>\n      <th>651</th>\n      <td>CAMPBELL Soup Company, CAMPBELL'S Au Jus Gravy</td>\n      <td>1.69</td>\n      <td>0.0</td>\n      <td>0.0</td>\n      <td>NaN</td>\n      <td>NaN</td>\n    </tr>\n    <tr>\n      <th>2379</th>\n      <td>Alcoholic beverage, distilled, all (gin, rum, ...</td>\n      <td>0.00</td>\n      <td>0.0</td>\n      <td>0.0</td>\n      <td>0.0</td>\n      <td>0.0</td>\n    </tr>\n    <tr>\n      <th>2380</th>\n      <td>Alcoholic beverage, distilled, gin, 90 proof</td>\n      <td>0.00</td>\n      <td>0.0</td>\n      <td>0.0</td>\n      <td>0.0</td>\n      <td>0.0</td>\n    </tr>\n    <tr>\n      <th>2381</th>\n      <td>Alcoholic beverage, distilled, rum, 80 proof</td>\n      <td>0.00</td>\n      <td>0.0</td>\n      <td>0.0</td>\n      <td>0.0</td>\n      <td>0.0</td>\n    </tr>\n    <tr>\n      <th>2382</th>\n      <td>Alcoholic beverage, distilled, vodka, 80 proof</td>\n      <td>0.00</td>\n      <td>0.0</td>\n      <td>0.0</td>\n      <td>0.0</td>\n      <td>0.0</td>\n    </tr>\n  </tbody>\n</table>\n</div>"
     },
     "metadata": {},
     "execution_count": 101
    }
   ],
   "source": [
    "# Select the 5 most low-carbohydrates foods and show their amount.\n",
    "low_carb = main_df.sort_values(by= ['Carbohydrt_(g)', 'Lipid_Tot_(g)'], ascending=True)\n",
    "low_carb[['description', 'Protein_(g)', 'Lipid_Tot_(g)', 'Carbohydrt_(g)', 'Fiber_TD_(g)', 'Sugar_Tot_(g)' ]].head(5)"
   ]
  },
  {
   "cell_type": "code",
   "execution_count": 72,
   "metadata": {},
   "outputs": [
    {
     "output_type": "execute_result",
     "data": {
      "text/plain": [
       "                                            description  Protein_(g)  \\\n",
       "3580                                   Corn bran, crude         8.36   \n",
       "2019                           Fungi, Cloud ears, dried         9.25   \n",
       "859      Cereals ready-to-eat, GENERAL MILLS, FIBER ONE         6.59   \n",
       "98                               Spices, savory, ground         6.73   \n",
       "4425                       Pinon Nuts, roasted (Navajo)         7.41   \n",
       "3634                                  Wheat bran, crude        15.55   \n",
       "734   Cereals ready-to-eat, KELLOGG, KELLOGG'S ALL-B...         8.90   \n",
       "895   Cereals ready-to-eat, QUAKER, KRETSCHMER Toast...        17.56   \n",
       "97                                 Spices, sage, ground        10.63   \n",
       "80                                  Spices, fennel seed        15.80   \n",
       "\n",
       "      Lipid_Tot_(g)  Carbohydrt_(g)  Fiber_TD_(g)  Sugar_Tot_(g)  \n",
       "3580           0.92           85.64          79.0           0.00  \n",
       "2019           0.73           73.01          70.1            NaN  \n",
       "859            2.29           84.30          46.2           1.00  \n",
       "98             5.91           68.73          45.7            NaN  \n",
       "4425          34.08           51.06          43.4            NaN  \n",
       "3634           4.25           64.51          42.8           0.41  \n",
       "734            2.50           81.00          42.5          26.70  \n",
       "895            5.16           59.51          41.3            NaN  \n",
       "97            12.75           60.73          40.3           1.71  \n",
       "80            14.87           52.29          39.8            NaN  "
      ],
      "text/html": "<div>\n<style scoped>\n    .dataframe tbody tr th:only-of-type {\n        vertical-align: middle;\n    }\n\n    .dataframe tbody tr th {\n        vertical-align: top;\n    }\n\n    .dataframe thead th {\n        text-align: right;\n    }\n</style>\n<table border=\"1\" class=\"dataframe\">\n  <thead>\n    <tr style=\"text-align: right;\">\n      <th></th>\n      <th>description</th>\n      <th>Protein_(g)</th>\n      <th>Lipid_Tot_(g)</th>\n      <th>Carbohydrt_(g)</th>\n      <th>Fiber_TD_(g)</th>\n      <th>Sugar_Tot_(g)</th>\n    </tr>\n  </thead>\n  <tbody>\n    <tr>\n      <th>3580</th>\n      <td>Corn bran, crude</td>\n      <td>8.36</td>\n      <td>0.92</td>\n      <td>85.64</td>\n      <td>79.0</td>\n      <td>0.00</td>\n    </tr>\n    <tr>\n      <th>2019</th>\n      <td>Fungi, Cloud ears, dried</td>\n      <td>9.25</td>\n      <td>0.73</td>\n      <td>73.01</td>\n      <td>70.1</td>\n      <td>NaN</td>\n    </tr>\n    <tr>\n      <th>859</th>\n      <td>Cereals ready-to-eat, GENERAL MILLS, FIBER ONE</td>\n      <td>6.59</td>\n      <td>2.29</td>\n      <td>84.30</td>\n      <td>46.2</td>\n      <td>1.00</td>\n    </tr>\n    <tr>\n      <th>98</th>\n      <td>Spices, savory, ground</td>\n      <td>6.73</td>\n      <td>5.91</td>\n      <td>68.73</td>\n      <td>45.7</td>\n      <td>NaN</td>\n    </tr>\n    <tr>\n      <th>4425</th>\n      <td>Pinon Nuts, roasted (Navajo)</td>\n      <td>7.41</td>\n      <td>34.08</td>\n      <td>51.06</td>\n      <td>43.4</td>\n      <td>NaN</td>\n    </tr>\n    <tr>\n      <th>3634</th>\n      <td>Wheat bran, crude</td>\n      <td>15.55</td>\n      <td>4.25</td>\n      <td>64.51</td>\n      <td>42.8</td>\n      <td>0.41</td>\n    </tr>\n    <tr>\n      <th>734</th>\n      <td>Cereals ready-to-eat, KELLOGG, KELLOGG'S ALL-B...</td>\n      <td>8.90</td>\n      <td>2.50</td>\n      <td>81.00</td>\n      <td>42.5</td>\n      <td>26.70</td>\n    </tr>\n    <tr>\n      <th>895</th>\n      <td>Cereals ready-to-eat, QUAKER, KRETSCHMER Toast...</td>\n      <td>17.56</td>\n      <td>5.16</td>\n      <td>59.51</td>\n      <td>41.3</td>\n      <td>NaN</td>\n    </tr>\n    <tr>\n      <th>97</th>\n      <td>Spices, sage, ground</td>\n      <td>10.63</td>\n      <td>12.75</td>\n      <td>60.73</td>\n      <td>40.3</td>\n      <td>1.71</td>\n    </tr>\n    <tr>\n      <th>80</th>\n      <td>Spices, fennel seed</td>\n      <td>15.80</td>\n      <td>14.87</td>\n      <td>52.29</td>\n      <td>39.8</td>\n      <td>NaN</td>\n    </tr>\n  </tbody>\n</table>\n</div>"
     },
     "metadata": {},
     "execution_count": 72
    }
   ],
   "source": [
    "high_fiber = main_df.sort_values(by= ['Fiber_TD_(g)'], ascending=False)\n",
    "high_fiber[['description', 'Protein_(g)', 'Lipid_Tot_(g)', 'Carbohydrt_(g)', 'Fiber_TD_(g)', 'Sugar_Tot_(g)' ]].head(10)"
   ]
  },
  {
   "cell_type": "code",
   "execution_count": 73,
   "metadata": {},
   "outputs": [
    {
     "output_type": "execute_result",
     "data": {
      "text/plain": [
       "                                            description  Iron_(mg)  \\\n",
       "283       Salad dressing, russian dressing, low calorie      87.47   \n",
       "4283         Whale, beluga, meat, dried (Alaska Native)      72.35   \n",
       "936   Cereals ready-to-eat, Ralston Enriched Bran fl...      67.67   \n",
       "153          Babyfood, cereal, oatmeal, with honey, dry      67.23   \n",
       "149                      Babyfood, cereal, oatmeal, dry      64.10   \n",
       "\n",
       "      Protein_(g)  Lipid_Tot_(g)  Carbohydrt_(g)  Fiber_TD_(g)  Sugar_Tot_(g)  \n",
       "283         19.93           6.03           52.04          29.8            NaN  \n",
       "4283        69.86           5.34            0.00           0.0           0.00  \n",
       "936         10.21           3.36           79.77          16.9          17.17  \n",
       "153         13.50           7.00           69.30           NaN            NaN  \n",
       "149         10.99           6.36           73.48           7.3          11.67  "
      ],
      "text/html": "<div>\n<style scoped>\n    .dataframe tbody tr th:only-of-type {\n        vertical-align: middle;\n    }\n\n    .dataframe tbody tr th {\n        vertical-align: top;\n    }\n\n    .dataframe thead th {\n        text-align: right;\n    }\n</style>\n<table border=\"1\" class=\"dataframe\">\n  <thead>\n    <tr style=\"text-align: right;\">\n      <th></th>\n      <th>description</th>\n      <th>Iron_(mg)</th>\n      <th>Protein_(g)</th>\n      <th>Lipid_Tot_(g)</th>\n      <th>Carbohydrt_(g)</th>\n      <th>Fiber_TD_(g)</th>\n      <th>Sugar_Tot_(g)</th>\n    </tr>\n  </thead>\n  <tbody>\n    <tr>\n      <th>283</th>\n      <td>Salad dressing, russian dressing, low calorie</td>\n      <td>87.47</td>\n      <td>19.93</td>\n      <td>6.03</td>\n      <td>52.04</td>\n      <td>29.8</td>\n      <td>NaN</td>\n    </tr>\n    <tr>\n      <th>4283</th>\n      <td>Whale, beluga, meat, dried (Alaska Native)</td>\n      <td>72.35</td>\n      <td>69.86</td>\n      <td>5.34</td>\n      <td>0.00</td>\n      <td>0.0</td>\n      <td>0.00</td>\n    </tr>\n    <tr>\n      <th>936</th>\n      <td>Cereals ready-to-eat, Ralston Enriched Bran fl...</td>\n      <td>67.67</td>\n      <td>10.21</td>\n      <td>3.36</td>\n      <td>79.77</td>\n      <td>16.9</td>\n      <td>17.17</td>\n    </tr>\n    <tr>\n      <th>153</th>\n      <td>Babyfood, cereal, oatmeal, with honey, dry</td>\n      <td>67.23</td>\n      <td>13.50</td>\n      <td>7.00</td>\n      <td>69.30</td>\n      <td>NaN</td>\n      <td>NaN</td>\n    </tr>\n    <tr>\n      <th>149</th>\n      <td>Babyfood, cereal, oatmeal, dry</td>\n      <td>64.10</td>\n      <td>10.99</td>\n      <td>6.36</td>\n      <td>73.48</td>\n      <td>7.3</td>\n      <td>11.67</td>\n    </tr>\n  </tbody>\n</table>\n</div>"
     },
     "metadata": {},
     "execution_count": 73
    }
   ],
   "source": [
    "# 16 The next patient has an Iron deficiency anemia. Selsct the 5 most rich-Iron foods and show their Iron amount.\n",
    "iron_rich = main_df.sort_values(by=['Iron_(mg)'], ascending=False)\n",
    "iron_rich[['description', 'Iron_(mg)', 'Protein_(g)', 'Lipid_Tot_(g)', 'Carbohydrt_(g)', 'Fiber_TD_(g)', 'Sugar_Tot_(g)']].head(5)"
   ]
  },
  {
   "cell_type": "code",
   "execution_count": 80,
   "metadata": {},
   "outputs": [
    {
     "output_type": "execute_result",
     "data": {
      "text/plain": [
       "                                            description  Protein_(g)  \\\n",
       "2523                                Soy protein isolate        88.32   \n",
       "2635                Soy protein isolate, potassium type        88.32   \n",
       "3317                  Gelatins, dry powder, unsweetened        85.60   \n",
       "4318  Seal, bearded (Oogruk), meat, dried (Alaska Na...        82.60   \n",
       "4400   Steelhead trout, dried, flesh (Shoshone Bannock)        77.27   \n",
       "\n",
       "      Lipid_Tot_(g)  Carbohydrt_(g)  Fiber_TD_(g)  \n",
       "2523           3.39            0.00           0.0  \n",
       "2635           0.53            2.59           0.0  \n",
       "3317           0.10            0.00           0.0  \n",
       "4318           2.30            0.00           0.0  \n",
       "4400           8.06            0.00           0.0  "
      ],
      "text/html": "<div>\n<style scoped>\n    .dataframe tbody tr th:only-of-type {\n        vertical-align: middle;\n    }\n\n    .dataframe tbody tr th {\n        vertical-align: top;\n    }\n\n    .dataframe thead th {\n        text-align: right;\n    }\n</style>\n<table border=\"1\" class=\"dataframe\">\n  <thead>\n    <tr style=\"text-align: right;\">\n      <th></th>\n      <th>description</th>\n      <th>Protein_(g)</th>\n      <th>Lipid_Tot_(g)</th>\n      <th>Carbohydrt_(g)</th>\n      <th>Fiber_TD_(g)</th>\n    </tr>\n  </thead>\n  <tbody>\n    <tr>\n      <th>2523</th>\n      <td>Soy protein isolate</td>\n      <td>88.32</td>\n      <td>3.39</td>\n      <td>0.00</td>\n      <td>0.0</td>\n    </tr>\n    <tr>\n      <th>2635</th>\n      <td>Soy protein isolate, potassium type</td>\n      <td>88.32</td>\n      <td>0.53</td>\n      <td>2.59</td>\n      <td>0.0</td>\n    </tr>\n    <tr>\n      <th>3317</th>\n      <td>Gelatins, dry powder, unsweetened</td>\n      <td>85.60</td>\n      <td>0.10</td>\n      <td>0.00</td>\n      <td>0.0</td>\n    </tr>\n    <tr>\n      <th>4318</th>\n      <td>Seal, bearded (Oogruk), meat, dried (Alaska Na...</td>\n      <td>82.60</td>\n      <td>2.30</td>\n      <td>0.00</td>\n      <td>0.0</td>\n    </tr>\n    <tr>\n      <th>4400</th>\n      <td>Steelhead trout, dried, flesh (Shoshone Bannock)</td>\n      <td>77.27</td>\n      <td>8.06</td>\n      <td>0.00</td>\n      <td>0.0</td>\n    </tr>\n  </tbody>\n</table>\n</div>"
     },
     "metadata": {},
     "execution_count": 80
    }
   ],
   "source": [
    "# 17 Which protein rich food should I eat after hitting the gym? (select the food with the highest protein amount and show its name and the protein amount).\n",
    "prot_rich = main_df.sort_values(by=['Protein_(g)'], ascending=False)\n",
    "prot_rich[['description', 'Protein_(g)', 'Lipid_Tot_(g)', 'Carbohydrt_(g)', 'Fiber_TD_(g)']].head()"
   ]
  },
  {
   "cell_type": "code",
   "execution_count": null,
   "metadata": {},
   "outputs": [],
   "source": [
    "### 18 Compute the food item with the highest content of each vitamin. Show the food name and vitamin amount"
   ]
  },
  {
   "cell_type": "code",
   "execution_count": 82,
   "metadata": {},
   "outputs": [
    {
     "output_type": "execute_result",
     "data": {
      "text/plain": [
       "   Vit_C_(mg)  Thiamin_(mg)  Riboflavin_(mg)  Niacin_(mg)  Panto_Acid_mg)  \\\n",
       "0         0.0         0.031            0.450        0.180           0.190   \n",
       "1         0.0         0.029            0.428        0.059           0.410   \n",
       "2         0.0         0.037            0.389        0.082           0.281   \n",
       "3         0.0         0.154            0.844        0.991           0.967   \n",
       "4         0.0         0.018            0.303        0.105           0.079   \n",
       "\n",
       "   Vit_B6_(mg)  Folate_Tot_(µg)  Folic_Acid_(µg)  Food_Folate_(µg)  \\\n",
       "0        0.074             18.0              0.0              18.0   \n",
       "1        0.066             27.0              0.0              27.0   \n",
       "2        0.076             16.0              0.0              16.0   \n",
       "3        0.424             32.0              0.0              32.0   \n",
       "4        0.070              9.0              0.0               9.0   \n",
       "\n",
       "   Folate_DFE_(µg)  ...  Retinol_(µg)  Alpha_Carot_(µg)  Beta_Carot_(µg)  \\\n",
       "0             18.0  ...         262.0               NaN              NaN   \n",
       "1             27.0  ...         330.0               0.0             85.0   \n",
       "2             16.0  ...         242.0               0.0             11.0   \n",
       "3             32.0  ...         125.0               0.0              3.0   \n",
       "4              9.0  ...         124.0               0.0             41.0   \n",
       "\n",
       "   Beta_Crypt_(µg)  Lycopene_(µg)  Lut+Zea_ (µg)  Vit_E_(mg)  Vit_D_µg  \\\n",
       "0              NaN            NaN            NaN         NaN       NaN   \n",
       "1              0.0            0.0            0.0        0.71       0.6   \n",
       "2              0.0            0.0            0.0        0.24       0.5   \n",
       "3              0.0            0.0            0.0        0.18       0.4   \n",
       "4              0.0            0.0            0.0        0.14       0.3   \n",
       "\n",
       "   Vit_D_IU  Vit_K_(µg)  \n",
       "0       NaN         NaN  \n",
       "1      24.0         2.4  \n",
       "2      20.0         2.3  \n",
       "3      16.0         1.8  \n",
       "4      12.0         1.6  \n",
       "\n",
       "[5 rows x 24 columns]"
      ],
      "text/html": "<div>\n<style scoped>\n    .dataframe tbody tr th:only-of-type {\n        vertical-align: middle;\n    }\n\n    .dataframe tbody tr th {\n        vertical-align: top;\n    }\n\n    .dataframe thead th {\n        text-align: right;\n    }\n</style>\n<table border=\"1\" class=\"dataframe\">\n  <thead>\n    <tr style=\"text-align: right;\">\n      <th></th>\n      <th>Vit_C_(mg)</th>\n      <th>Thiamin_(mg)</th>\n      <th>Riboflavin_(mg)</th>\n      <th>Niacin_(mg)</th>\n      <th>Panto_Acid_mg)</th>\n      <th>Vit_B6_(mg)</th>\n      <th>Folate_Tot_(µg)</th>\n      <th>Folic_Acid_(µg)</th>\n      <th>Food_Folate_(µg)</th>\n      <th>Folate_DFE_(µg)</th>\n      <th>...</th>\n      <th>Retinol_(µg)</th>\n      <th>Alpha_Carot_(µg)</th>\n      <th>Beta_Carot_(µg)</th>\n      <th>Beta_Crypt_(µg)</th>\n      <th>Lycopene_(µg)</th>\n      <th>Lut+Zea_ (µg)</th>\n      <th>Vit_E_(mg)</th>\n      <th>Vit_D_µg</th>\n      <th>Vit_D_IU</th>\n      <th>Vit_K_(µg)</th>\n    </tr>\n  </thead>\n  <tbody>\n    <tr>\n      <th>0</th>\n      <td>0.0</td>\n      <td>0.031</td>\n      <td>0.450</td>\n      <td>0.180</td>\n      <td>0.190</td>\n      <td>0.074</td>\n      <td>18.0</td>\n      <td>0.0</td>\n      <td>18.0</td>\n      <td>18.0</td>\n      <td>...</td>\n      <td>262.0</td>\n      <td>NaN</td>\n      <td>NaN</td>\n      <td>NaN</td>\n      <td>NaN</td>\n      <td>NaN</td>\n      <td>NaN</td>\n      <td>NaN</td>\n      <td>NaN</td>\n      <td>NaN</td>\n    </tr>\n    <tr>\n      <th>1</th>\n      <td>0.0</td>\n      <td>0.029</td>\n      <td>0.428</td>\n      <td>0.059</td>\n      <td>0.410</td>\n      <td>0.066</td>\n      <td>27.0</td>\n      <td>0.0</td>\n      <td>27.0</td>\n      <td>27.0</td>\n      <td>...</td>\n      <td>330.0</td>\n      <td>0.0</td>\n      <td>85.0</td>\n      <td>0.0</td>\n      <td>0.0</td>\n      <td>0.0</td>\n      <td>0.71</td>\n      <td>0.6</td>\n      <td>24.0</td>\n      <td>2.4</td>\n    </tr>\n    <tr>\n      <th>2</th>\n      <td>0.0</td>\n      <td>0.037</td>\n      <td>0.389</td>\n      <td>0.082</td>\n      <td>0.281</td>\n      <td>0.076</td>\n      <td>16.0</td>\n      <td>0.0</td>\n      <td>16.0</td>\n      <td>16.0</td>\n      <td>...</td>\n      <td>242.0</td>\n      <td>0.0</td>\n      <td>11.0</td>\n      <td>0.0</td>\n      <td>0.0</td>\n      <td>0.0</td>\n      <td>0.24</td>\n      <td>0.5</td>\n      <td>20.0</td>\n      <td>2.3</td>\n    </tr>\n    <tr>\n      <th>3</th>\n      <td>0.0</td>\n      <td>0.154</td>\n      <td>0.844</td>\n      <td>0.991</td>\n      <td>0.967</td>\n      <td>0.424</td>\n      <td>32.0</td>\n      <td>0.0</td>\n      <td>32.0</td>\n      <td>32.0</td>\n      <td>...</td>\n      <td>125.0</td>\n      <td>0.0</td>\n      <td>3.0</td>\n      <td>0.0</td>\n      <td>0.0</td>\n      <td>0.0</td>\n      <td>0.18</td>\n      <td>0.4</td>\n      <td>16.0</td>\n      <td>1.8</td>\n    </tr>\n    <tr>\n      <th>4</th>\n      <td>0.0</td>\n      <td>0.018</td>\n      <td>0.303</td>\n      <td>0.105</td>\n      <td>0.079</td>\n      <td>0.070</td>\n      <td>9.0</td>\n      <td>0.0</td>\n      <td>9.0</td>\n      <td>9.0</td>\n      <td>...</td>\n      <td>124.0</td>\n      <td>0.0</td>\n      <td>41.0</td>\n      <td>0.0</td>\n      <td>0.0</td>\n      <td>0.0</td>\n      <td>0.14</td>\n      <td>0.3</td>\n      <td>12.0</td>\n      <td>1.6</td>\n    </tr>\n  </tbody>\n</table>\n<p>5 rows × 24 columns</p>\n</div>"
     },
     "metadata": {},
     "execution_count": 82
    }
   ],
   "source": [
    "main_df[vitamins].head()"
   ]
  },
  {
   "cell_type": "code",
   "execution_count": 76,
   "metadata": {},
   "outputs": [
    {
     "output_type": "execute_result",
     "data": {
      "text/plain": [
       "Vit_C_(mg)             2400.000\n",
       "Thiamin_(mg)             23.375\n",
       "Riboflavin_(mg)          17.500\n",
       "Niacin_(mg)             127.500\n",
       "Panto_Acid_mg)           34.500\n",
       "Vit_B6_(mg)              12.000\n",
       "Folate_Tot_(µg)        3786.000\n",
       "Folic_Acid_(µg)        2993.000\n",
       "Food_Folate_(µg)       2340.000\n",
       "Folate_DFE_(µg)        5881.000\n",
       "Choline_Tot_ (mg)       513.200\n",
       "Vit_B12_(µg)             98.890\n",
       "Vit_A_IU             100000.000\n",
       "Vit_A_RAE             30000.000\n",
       "Retinol_(µg)          30000.000\n",
       "Alpha_Carot_(µg)      14251.000\n",
       "Beta_Carot_(µg)       42891.000\n",
       "Beta_Crypt_(µg)        6186.000\n",
       "Lycopene_(µg)         46260.000\n",
       "Lut+Zea_ (µg)         19697.000\n",
       "Vit_E_(mg)              149.400\n",
       "Vit_D_µg                250.000\n",
       "Vit_D_IU              10000.000\n",
       "Vit_K_(µg)             1714.500\n",
       "dtype: float64"
      ]
     },
     "metadata": {},
     "execution_count": 76
    }
   ],
   "source": [
    "max_vit_value = main_df[vitamins].max()     # The max values per vitamin\n",
    "max_vit_value\n"
   ]
  },
  {
   "cell_type": "code",
   "execution_count": 97,
   "metadata": {
    "tags": []
   },
   "outputs": [
    {
     "output_type": "stream",
     "name": "stdout",
     "text": [
      "                                            description  Vit_C_(mg)\n2420  Orange-flavor drink, breakfast type, low calor...      2400.0\n4637  Fruit-flavored drink, powder, with high vitami...      2400.0\n               description  Thiamin_(mg)\n4661  Yeast extract spread        23.375\n               description  Riboflavin_(mg)\n4661  Yeast extract spread             17.5\n               description  Niacin_(mg)\n4661  Yeast extract spread        127.5\n                                           description  Panto_Acid_mg)\n747  Cereals ready-to-eat, KELLOGG, KELLOGG'S COMPL...            34.5\n                                           description  Vit_B6_(mg)\n731  Cereals ready-to-eat, KELLOGG, KELLOGG'S ALL-B...         12.0\n               description  Folate_Tot_(µg)\n4661  Yeast extract spread           3786.0\n               description  Folic_Acid_(µg)\n4661  Yeast extract spread           2993.0\n                                       description  Food_Folate_(µg)\n6030  Leavening agents, yeast, baker's, active dry            2340.0\n               description  Folate_DFE_(µg)\n4661  Yeast extract spread           5881.0\n                                            description  Choline_Tot_ (mg)\n2182  Beef, variety meats and by-products, kidneys, ...              513.2\n                                            description  Vit_B12_(µg)\n5511  Mollusks, clam, mixed species, cooked, moist heat         98.89\n             description  Vit_A_IU\n305  Fish oil, cod liver  100000.0\n             description  Vit_A_RAE\n305  Fish oil, cod liver    30000.0\n             description  Retinol_(µg)\n305  Fish oil, cod liver       30000.0\n             description  Alpha_Carot_(µg)\n1824  Carrot, dehydrated           14251.0\n                            description  Beta_Carot_(µg)\n1986  Peppers, sweet, red, freeze-dried          42891.0\n        description  Beta_Crypt_(µg)\n90  Spices, paprika           6186.0\n        description  Lycopene_(µg)\n1771  Tomato powder        46260.0\n                                            description  Lut+Zea_ (µg)\n1898   Kale, frozen, cooked, boiled, drained, with salt        19697.0\n4802  Kale, frozen, cooked, boiled, drained, without...        19697.0\n         description  Vit_E_(mg)\n287  Oil, wheat germ       149.4\n             description  Vit_D_µg\n305  Fish oil, cod liver     250.0\n             description  Vit_D_IU\n305  Fish oil, cod liver   10000.0\n             description  Vit_K_(µg)\n97  Spices, sage, ground      1714.5\n"
     ]
    }
   ],
   "source": [
    "for v in vitamins:\n",
    "    result = main_df[main_df[v] == max_vit_value[v]]\n",
    "    print(result[['description', v]])"
   ]
  },
  {
   "source": [
    "#### 19. Each food in main_df belongs to specific food group shown in column group. For each food group select the food contains the lowest calories ('Energ_Kcal') amount."
   ],
   "cell_type": "markdown",
   "metadata": {}
  },
  {
   "cell_type": "code",
   "execution_count": 130,
   "metadata": {},
   "outputs": [
    {
     "output_type": "execute_result",
     "data": {
      "text/plain": [
       "                                  group  \\\n",
       "21               Dairy and Egg Products   \n",
       "106                    Spices and Herbs   \n",
       "416                    Poultry Products   \n",
       "575          Soups, Sauces, and Gravies   \n",
       "706         Sausages and Luncheon Meats   \n",
       "855                   Breakfast Cereals   \n",
       "1123            Fruits and Fruit Juices   \n",
       "1413                      Pork Products   \n",
       "1695  Vegetables and Vegetable Products   \n",
       "2565        Legumes and Legume Products   \n",
       "2773      Lamb, Veal, and Game Products   \n",
       "3034                     Baked Products   \n",
       "3494                             Snacks   \n",
       "3597            Cereal Grains and Pasta   \n",
       "3924                         Fast Foods   \n",
       "4337                       Ethnic Foods   \n",
       "4473                   Restaurant Foods   \n",
       "4496                             Sweets   \n",
       "4572                      Fats and Oils   \n",
       "4583                         Baby Foods   \n",
       "5513     Finfish and Shellfish Products   \n",
       "\n",
       "                                            description  Energ_Kcal  \n",
       "21    Milk, nonfat, fluid, with added vitamin A and ...          34  \n",
       "106                                   Vinegar, red wine          19  \n",
       "416                            Turkey and gravy, frozen          67  \n",
       "575   Soup, chicken broth or bouillon, dry, prepared...           4  \n",
       "706      Chicken breast, oven-roasted, fat-free, sliced          79  \n",
       "855   Cereals, QUAKER, Oat Bran, QUAKER/MOTHER'S Oat...          43  \n",
       "1123                     Lemon juice, canned or bottled          17  \n",
       "1413  Pork, fresh, variety meats and by-products, lu...          85  \n",
       "1695                                  Butterbur, canned           3  \n",
       "2565  Soymilk (all flavors), nonfat, with added calc...          28  \n",
       "2773    Veal, variety meats and by-products, lungs, raw          90  \n",
       "3034                      Leavening agents, baking soda           0  \n",
       "3494  Snacks, potato chips, made from dried potatoes...         253  \n",
       "3597                                   Oat bran, cooked          40  \n",
       "3924                             McDONALD'S, Side Salad          20  \n",
       "4337  Tea, tundra, herb and laborador combination (A...           1  \n",
       "4473                     Restaurant, Latino, tripe soup          74  \n",
       "4496                                     Pectin, liquid          11  \n",
       "4572                     Salad dressing, sweet and sour          15  \n",
       "4583  Fluid replacement, electrolyte solution (inclu...          10  \n",
       "5513      Mollusks, clam, mixed species, canned, liquid           2  "
      ],
      "text/html": "<div>\n<style scoped>\n    .dataframe tbody tr th:only-of-type {\n        vertical-align: middle;\n    }\n\n    .dataframe tbody tr th {\n        vertical-align: top;\n    }\n\n    .dataframe thead th {\n        text-align: right;\n    }\n</style>\n<table border=\"1\" class=\"dataframe\">\n  <thead>\n    <tr style=\"text-align: right;\">\n      <th></th>\n      <th>group</th>\n      <th>description</th>\n      <th>Energ_Kcal</th>\n    </tr>\n  </thead>\n  <tbody>\n    <tr>\n      <th>21</th>\n      <td>Dairy and Egg Products</td>\n      <td>Milk, nonfat, fluid, with added vitamin A and ...</td>\n      <td>34</td>\n    </tr>\n    <tr>\n      <th>106</th>\n      <td>Spices and Herbs</td>\n      <td>Vinegar, red wine</td>\n      <td>19</td>\n    </tr>\n    <tr>\n      <th>416</th>\n      <td>Poultry Products</td>\n      <td>Turkey and gravy, frozen</td>\n      <td>67</td>\n    </tr>\n    <tr>\n      <th>575</th>\n      <td>Soups, Sauces, and Gravies</td>\n      <td>Soup, chicken broth or bouillon, dry, prepared...</td>\n      <td>4</td>\n    </tr>\n    <tr>\n      <th>706</th>\n      <td>Sausages and Luncheon Meats</td>\n      <td>Chicken breast, oven-roasted, fat-free, sliced</td>\n      <td>79</td>\n    </tr>\n    <tr>\n      <th>855</th>\n      <td>Breakfast Cereals</td>\n      <td>Cereals, QUAKER, Oat Bran, QUAKER/MOTHER'S Oat...</td>\n      <td>43</td>\n    </tr>\n    <tr>\n      <th>1123</th>\n      <td>Fruits and Fruit Juices</td>\n      <td>Lemon juice, canned or bottled</td>\n      <td>17</td>\n    </tr>\n    <tr>\n      <th>1413</th>\n      <td>Pork Products</td>\n      <td>Pork, fresh, variety meats and by-products, lu...</td>\n      <td>85</td>\n    </tr>\n    <tr>\n      <th>1695</th>\n      <td>Vegetables and Vegetable Products</td>\n      <td>Butterbur, canned</td>\n      <td>3</td>\n    </tr>\n    <tr>\n      <th>2565</th>\n      <td>Legumes and Legume Products</td>\n      <td>Soymilk (all flavors), nonfat, with added calc...</td>\n      <td>28</td>\n    </tr>\n    <tr>\n      <th>2773</th>\n      <td>Lamb, Veal, and Game Products</td>\n      <td>Veal, variety meats and by-products, lungs, raw</td>\n      <td>90</td>\n    </tr>\n    <tr>\n      <th>3034</th>\n      <td>Baked Products</td>\n      <td>Leavening agents, baking soda</td>\n      <td>0</td>\n    </tr>\n    <tr>\n      <th>3494</th>\n      <td>Snacks</td>\n      <td>Snacks, potato chips, made from dried potatoes...</td>\n      <td>253</td>\n    </tr>\n    <tr>\n      <th>3597</th>\n      <td>Cereal Grains and Pasta</td>\n      <td>Oat bran, cooked</td>\n      <td>40</td>\n    </tr>\n    <tr>\n      <th>3924</th>\n      <td>Fast Foods</td>\n      <td>McDONALD'S, Side Salad</td>\n      <td>20</td>\n    </tr>\n    <tr>\n      <th>4337</th>\n      <td>Ethnic Foods</td>\n      <td>Tea, tundra, herb and laborador combination (A...</td>\n      <td>1</td>\n    </tr>\n    <tr>\n      <th>4473</th>\n      <td>Restaurant Foods</td>\n      <td>Restaurant, Latino, tripe soup</td>\n      <td>74</td>\n    </tr>\n    <tr>\n      <th>4496</th>\n      <td>Sweets</td>\n      <td>Pectin, liquid</td>\n      <td>11</td>\n    </tr>\n    <tr>\n      <th>4572</th>\n      <td>Fats and Oils</td>\n      <td>Salad dressing, sweet and sour</td>\n      <td>15</td>\n    </tr>\n    <tr>\n      <th>4583</th>\n      <td>Baby Foods</td>\n      <td>Fluid replacement, electrolyte solution (inclu...</td>\n      <td>10</td>\n    </tr>\n    <tr>\n      <th>5513</th>\n      <td>Finfish and Shellfish Products</td>\n      <td>Mollusks, clam, mixed species, canned, liquid</td>\n      <td>2</td>\n    </tr>\n  </tbody>\n</table>\n</div>"
     },
     "metadata": {},
     "execution_count": 130
    }
   ],
   "source": [
    "idx = main_df.groupby(['group'])['Energ_Kcal'].transform(min) == main_df['Energ_Kcal']\n",
    "main_df[idx][['group','description', 'Energ_Kcal']].drop_duplicates(['Energ_Kcal'])  #takes only one of rows with the same min values per group\n"
   ]
  },
  {
   "cell_type": "code",
   "execution_count": 179,
   "metadata": {},
   "outputs": [
    {
     "output_type": "execute_result",
     "data": {
      "text/plain": [
       "group\n",
       "Baby Foods                           170.607832\n",
       "Baked Products                        93.699222\n",
       "Beef Products                         72.528219\n",
       "Beverages                            128.203329\n",
       "Breakfast Cereals                    104.092221\n",
       "Cereal Grains and Pasta              111.532140\n",
       "Dairy and Egg Products               128.271850\n",
       "Ethnic Foods                         197.920020\n",
       "Fast Foods                            69.279293\n",
       "Fats and Oils                        305.599100\n",
       "Finfish and Shellfish Products        51.360533\n",
       "Fruits and Fruit Juices               68.933629\n",
       "Lamb, Veal, and Game Products         92.109941\n",
       "Legumes and Legume Products          150.737217\n",
       "Meals, Entrees, and Sidedishes        72.958353\n",
       "Nut and Seed Products                175.402585\n",
       "Pork Products                        122.256776\n",
       "Poultry Products                      74.945401\n",
       "Restaurant Foods                      82.283498\n",
       "Sausages and Luncheon Meats           99.211056\n",
       "Snacks                                67.103760\n",
       "Soups, Sauces, and Gravies           100.105795\n",
       "Spices and Herbs                     117.888093\n",
       "Sweets                               158.374624\n",
       "Vegetables and Vegetable Products     65.124159\n",
       "Name: Energ_Kcal, dtype: float64"
      ]
     },
     "metadata": {},
     "execution_count": 179
    }
   ],
   "source": [
    "main_df.groupby('group').Energ_Kcal.agg('std')"
   ]
  },
  {
   "cell_type": "code",
   "execution_count": 172,
   "metadata": {},
   "outputs": [
    {
     "output_type": "stream",
     "name": "stdout",
     "text": [
      "The food group that has the smallest std of 'Energ_Kcal' is:  Finfish and Shellfish Products 305.6\n"
     ]
    }
   ],
   "source": [
    "# 20. Which food group has the smallest std of 'Energ_Kcal'?\n",
    "\n",
    "# get the indices of the original DF\n",
    "idx_std = main_df.groupby('group').Energ_Kcal.agg('std') \n",
    "print(\"The food group that has the smallest std of 'Energ_Kcal' is: \", idx_std.idxmin(), round(idx_std.max(),2))\n",
    "\n"
   ]
  },
  {
   "cell_type": "code",
   "execution_count": 170,
   "metadata": {},
   "outputs": [
    {
     "output_type": "stream",
     "name": "stdout",
     "text": [
      "The food group that has the highest std of 'Energ_Kcal':  Fats and Oils 305.6\n"
     ]
    }
   ],
   "source": [
    "# 21 Which food group has the highest std of 'Energ_Kcal'?\n",
    "max_std = main_df.groupby('group')['Energ_Kcal'].std()\n",
    "print(\"The food group that has the highest std of 'Energ_Kcal': \", max_std.idxmax(), round(max_std.max(),2))   # round the number "
   ]
  },
  {
   "source": [
    "# Bonus"
   ],
   "cell_type": "markdown",
   "metadata": {}
  },
  {
   "source": [
    "Build s function that accepts a nutrient name and a quantile value and generates a horizontal bar plot of the amount of that nutrient in each food group. Provide a plot title. HINT: You will need to use the quantile and sort (or order ) methods in order for this to work. Also, you can generate the horizontal bar plot using df.plot(kind='barh')."
   ],
   "cell_type": "markdown",
   "metadata": {}
  },
  {
   "source": [
    "שברון (באנגלית: quantile) הוא מונח בסטטיסטיקה, שמתייחס לנקודת חתך שמתחתיה נמצאה החלק ה-q  מהאוכלוסייה.\n",
    "מחלק את הנתונים למספר החלקים שמבקשים\n",
    "0.5 מחלק את כמות הנתונים לחצי כאשר חצי מעליו וחצי מתחתיו (חציון) \n",
    "\n"
   ],
   "cell_type": "markdown",
   "metadata": {}
  },
  {
   "cell_type": "code",
   "execution_count": 232,
   "metadata": {},
   "outputs": [],
   "source": [
    "def nutrient_q(name, q):\n",
    "    # the column of nutrient to work on:\n",
    "    col = main_df[name]\n",
    "    new_df = main_df.groupby('group')[name].mean()\n",
    "    new_df = new_df.sort_values()\n",
    "    print(\"new df\\n\", new_df.head())\n",
    "    idx = col.quantile(q)\n",
    "    print(idx)\n",
    "    plt.title(f'Quantile of {name} per food groups')\n",
    "    new_df.plot(kind='barh')\n",
    "    plt.xlabel(f'{name}')\n",
    "    plt.show"
   ]
  },
  {
   "cell_type": "code",
   "execution_count": 233,
   "metadata": {},
   "outputs": [
    {
     "output_type": "stream",
     "name": "stdout",
     "text": [
      "new df\n group\nFats and Oils                        0.817604\nFruits and Fruit Juices              0.870721\nBeverages                            1.251731\nSoups, Sauces, and Gravies           2.757755\nVegetables and Vegetable Products    2.812719\nName: Protein_(g), dtype: float64\n7.755\n"
     ]
    },
    {
     "output_type": "display_data",
     "data": {
      "text/plain": "<Figure size 432x288 with 1 Axes>",
      "image/svg+xml": "<?xml version=\"1.0\" encoding=\"utf-8\" standalone=\"no\"?>\r\n<!DOCTYPE svg PUBLIC \"-//W3C//DTD SVG 1.1//EN\"\r\n  \"http://www.w3.org/Graphics/SVG/1.1/DTD/svg11.dtd\">\r\n<!-- Created with matplotlib (https://matplotlib.org/) -->\r\n<svg height=\"277.5925pt\" version=\"1.1\" viewBox=\"0 0 546.70625 277.5925\" width=\"546.70625pt\" xmlns=\"http://www.w3.org/2000/svg\" xmlns:xlink=\"http://www.w3.org/1999/xlink\">\r\n <metadata>\r\n  <rdf:RDF xmlns:cc=\"http://creativecommons.org/ns#\" xmlns:dc=\"http://purl.org/dc/elements/1.1/\" xmlns:rdf=\"http://www.w3.org/1999/02/22-rdf-syntax-ns#\">\r\n   <cc:Work>\r\n    <dc:type rdf:resource=\"http://purl.org/dc/dcmitype/StillImage\"/>\r\n    <dc:date>2021-06-29T12:30:54.270299</dc:date>\r\n    <dc:format>image/svg+xml</dc:format>\r\n    <dc:creator>\r\n     <cc:Agent>\r\n      <dc:title>Matplotlib v3.3.4, https://matplotlib.org/</dc:title>\r\n     </cc:Agent>\r\n    </dc:creator>\r\n   </cc:Work>\r\n  </rdf:RDF>\r\n </metadata>\r\n <defs>\r\n  <style type=\"text/css\">*{stroke-linecap:butt;stroke-linejoin:round;}</style>\r\n </defs>\r\n <g id=\"figure_1\">\r\n  <g id=\"patch_1\">\r\n   <path d=\"M 0 277.5925 \r\nL 546.70625 277.5925 \r\nL 546.70625 0 \r\nL 0 0 \r\nz\r\n\" style=\"fill:none;\"/>\r\n  </g>\r\n  <g id=\"axes_1\">\r\n   <g id=\"patch_2\">\r\n    <path d=\"M 204.70625 239.758125 \r\nL 539.50625 239.758125 \r\nL 539.50625 22.318125 \r\nL 204.70625 22.318125 \r\nz\r\n\" style=\"fill:#ffffff;\"/>\r\n   </g>\r\n   <g id=\"patch_3\">\r\n    <path clip-path=\"url(#p60722e5b4a)\" d=\"M 204.70625 237.583725 \r\nL 215.21974 237.583725 \r\nL 215.21974 233.234925 \r\nL 204.70625 233.234925 \r\nz\r\n\" style=\"fill:#1f77b4;\"/>\r\n   </g>\r\n   <g id=\"patch_4\">\r\n    <path clip-path=\"url(#p60722e5b4a)\" d=\"M 204.70625 228.886125 \r\nL 215.902764 228.886125 \r\nL 215.902764 224.537325 \r\nL 204.70625 224.537325 \r\nz\r\n\" style=\"fill:#1f77b4;\"/>\r\n   </g>\r\n   <g id=\"patch_5\">\r\n    <path clip-path=\"url(#p60722e5b4a)\" d=\"M 204.70625 220.188525 \r\nL 220.80213 220.188525 \r\nL 220.80213 215.839725 \r\nL 204.70625 215.839725 \r\nz\r\n\" style=\"fill:#1f77b4;\"/>\r\n   </g>\r\n   <g id=\"patch_6\">\r\n    <path clip-path=\"url(#p60722e5b4a)\" d=\"M 204.70625 211.490925 \r\nL 240.167946 211.490925 \r\nL 240.167946 207.142125 \r\nL 204.70625 207.142125 \r\nz\r\n\" style=\"fill:#1f77b4;\"/>\r\n   </g>\r\n   <g id=\"patch_7\">\r\n    <path clip-path=\"url(#p60722e5b4a)\" d=\"M 204.70625 202.793325 \r\nL 240.874726 202.793325 \r\nL 240.874726 198.444525 \r\nL 204.70625 198.444525 \r\nz\r\n\" style=\"fill:#1f77b4;\"/>\r\n   </g>\r\n   <g id=\"patch_8\">\r\n    <path clip-path=\"url(#p60722e5b4a)\" d=\"M 204.70625 194.095725 \r\nL 256.885456 194.095725 \r\nL 256.885456 189.746925 \r\nL 204.70625 189.746925 \r\nz\r\n\" style=\"fill:#1f77b4;\"/>\r\n   </g>\r\n   <g id=\"patch_9\">\r\n    <path clip-path=\"url(#p60722e5b4a)\" d=\"M 204.70625 185.398125 \r\nL 260.420771 185.398125 \r\nL 260.420771 181.049325 \r\nL 204.70625 181.049325 \r\nz\r\n\" style=\"fill:#1f77b4;\"/>\r\n   </g>\r\n   <g id=\"patch_10\">\r\n    <path clip-path=\"url(#p60722e5b4a)\" d=\"M 204.70625 176.700525 \r\nL 283.444799 176.700525 \r\nL 283.444799 172.351725 \r\nL 204.70625 172.351725 \r\nz\r\n\" style=\"fill:#1f77b4;\"/>\r\n   </g>\r\n   <g id=\"patch_11\">\r\n    <path clip-path=\"url(#p60722e5b4a)\" d=\"M 204.70625 168.002925 \r\nL 292.759136 168.002925 \r\nL 292.759136 163.654125 \r\nL 204.70625 163.654125 \r\nz\r\n\" style=\"fill:#1f77b4;\"/>\r\n   </g>\r\n   <g id=\"patch_12\">\r\n    <path clip-path=\"url(#p60722e5b4a)\" d=\"M 204.70625 159.305325 \r\nL 308.978164 159.305325 \r\nL 308.978164 154.956525 \r\nL 204.70625 154.956525 \r\nz\r\n\" style=\"fill:#1f77b4;\"/>\r\n   </g>\r\n   <g id=\"patch_13\">\r\n    <path clip-path=\"url(#p60722e5b4a)\" d=\"M 204.70625 150.607725 \r\nL 319.582636 150.607725 \r\nL 319.582636 146.258925 \r\nL 204.70625 146.258925 \r\nz\r\n\" style=\"fill:#1f77b4;\"/>\r\n   </g>\r\n   <g id=\"patch_14\">\r\n    <path clip-path=\"url(#p60722e5b4a)\" d=\"M 204.70625 141.910125 \r\nL 330.157179 141.910125 \r\nL 330.157179 137.561325 \r\nL 204.70625 137.561325 \r\nz\r\n\" style=\"fill:#1f77b4;\"/>\r\n   </g>\r\n   <g id=\"patch_15\">\r\n    <path clip-path=\"url(#p60722e5b4a)\" d=\"M 204.70625 133.212525 \r\nL 352.989532 133.212525 \r\nL 352.989532 128.863725 \r\nL 204.70625 128.863725 \r\nz\r\n\" style=\"fill:#1f77b4;\"/>\r\n   </g>\r\n   <g id=\"patch_16\">\r\n    <path clip-path=\"url(#p60722e5b4a)\" d=\"M 204.70625 124.514925 \r\nL 361.09884 124.514925 \r\nL 361.09884 120.166125 \r\nL 204.70625 120.166125 \r\nz\r\n\" style=\"fill:#1f77b4;\"/>\r\n   </g>\r\n   <g id=\"patch_17\">\r\n    <path clip-path=\"url(#p60722e5b4a)\" d=\"M 204.70625 115.817325 \r\nL 386.411909 115.817325 \r\nL 386.411909 111.468525 \r\nL 204.70625 111.468525 \r\nz\r\n\" style=\"fill:#1f77b4;\"/>\r\n   </g>\r\n   <g id=\"patch_18\">\r\n    <path clip-path=\"url(#p60722e5b4a)\" d=\"M 204.70625 107.119725 \r\nL 387.776238 107.119725 \r\nL 387.776238 102.770925 \r\nL 204.70625 102.770925 \r\nz\r\n\" style=\"fill:#1f77b4;\"/>\r\n   </g>\r\n   <g id=\"patch_19\">\r\n    <path clip-path=\"url(#p60722e5b4a)\" d=\"M 204.70625 98.422125 \r\nL 392.711755 98.422125 \r\nL 392.711755 94.073325 \r\nL 204.70625 94.073325 \r\nz\r\n\" style=\"fill:#1f77b4;\"/>\r\n   </g>\r\n   <g id=\"patch_20\">\r\n    <path clip-path=\"url(#p60722e5b4a)\" d=\"M 204.70625 89.724525 \r\nL 396.56508 89.724525 \r\nL 396.56508 85.375725 \r\nL 204.70625 85.375725 \r\nz\r\n\" style=\"fill:#1f77b4;\"/>\r\n   </g>\r\n   <g id=\"patch_21\">\r\n    <path clip-path=\"url(#p60722e5b4a)\" d=\"M 204.70625 81.026925 \r\nL 406.896194 81.026925 \r\nL 406.896194 76.678125 \r\nL 204.70625 76.678125 \r\nz\r\n\" style=\"fill:#1f77b4;\"/>\r\n   </g>\r\n   <g id=\"patch_22\">\r\n    <path clip-path=\"url(#p60722e5b4a)\" d=\"M 204.70625 72.329325 \r\nL 410.397986 72.329325 \r\nL 410.397986 67.980525 \r\nL 204.70625 67.980525 \r\nz\r\n\" style=\"fill:#1f77b4;\"/>\r\n   </g>\r\n   <g id=\"patch_23\">\r\n    <path clip-path=\"url(#p60722e5b4a)\" d=\"M 204.70625 63.631725 \r\nL 465.886131 63.631725 \r\nL 465.886131 59.282925 \r\nL 204.70625 59.282925 \r\nz\r\n\" style=\"fill:#1f77b4;\"/>\r\n   </g>\r\n   <g id=\"patch_24\">\r\n    <path clip-path=\"url(#p60722e5b4a)\" d=\"M 204.70625 54.934125 \r\nL 486.518847 54.934125 \r\nL 486.518847 50.585325 \r\nL 204.70625 50.585325 \r\nz\r\n\" style=\"fill:#1f77b4;\"/>\r\n   </g>\r\n   <g id=\"patch_25\">\r\n    <path clip-path=\"url(#p60722e5b4a)\" d=\"M 204.70625 46.236525 \r\nL 505.274409 46.236525 \r\nL 505.274409 41.887725 \r\nL 204.70625 41.887725 \r\nz\r\n\" style=\"fill:#1f77b4;\"/>\r\n   </g>\r\n   <g id=\"patch_26\">\r\n    <path clip-path=\"url(#p60722e5b4a)\" d=\"M 204.70625 37.538925 \r\nL 507.3056 37.538925 \r\nL 507.3056 33.190125 \r\nL 204.70625 33.190125 \r\nz\r\n\" style=\"fill:#1f77b4;\"/>\r\n   </g>\r\n   <g id=\"patch_27\">\r\n    <path clip-path=\"url(#p60722e5b4a)\" d=\"M 204.70625 28.841325 \r\nL 523.563393 28.841325 \r\nL 523.563393 24.492525 \r\nL 204.70625 24.492525 \r\nz\r\n\" style=\"fill:#1f77b4;\"/>\r\n   </g>\r\n   <g id=\"matplotlib.axis_1\">\r\n    <g id=\"xtick_1\">\r\n     <g id=\"line2d_1\">\r\n      <defs>\r\n       <path d=\"M 0 0 \r\nL 0 3.5 \r\n\" id=\"mebd39909ce\" style=\"stroke:#000000;stroke-width:0.8;\"/>\r\n      </defs>\r\n      <g>\r\n       <use style=\"stroke:#000000;stroke-width:0.8;\" x=\"204.70625\" xlink:href=\"#mebd39909ce\" y=\"239.758125\"/>\r\n      </g>\r\n     </g>\r\n     <g id=\"text_1\">\r\n      <!-- 0 -->\r\n      <g transform=\"translate(201.525 254.356563)scale(0.1 -0.1)\">\r\n       <defs>\r\n        <path d=\"M 31.78125 66.40625 \r\nQ 24.171875 66.40625 20.328125 58.90625 \r\nQ 16.5 51.421875 16.5 36.375 \r\nQ 16.5 21.390625 20.328125 13.890625 \r\nQ 24.171875 6.390625 31.78125 6.390625 \r\nQ 39.453125 6.390625 43.28125 13.890625 \r\nQ 47.125 21.390625 47.125 36.375 \r\nQ 47.125 51.421875 43.28125 58.90625 \r\nQ 39.453125 66.40625 31.78125 66.40625 \r\nz\r\nM 31.78125 74.21875 \r\nQ 44.046875 74.21875 50.515625 64.515625 \r\nQ 56.984375 54.828125 56.984375 36.375 \r\nQ 56.984375 17.96875 50.515625 8.265625 \r\nQ 44.046875 -1.421875 31.78125 -1.421875 \r\nQ 19.53125 -1.421875 13.0625 8.265625 \r\nQ 6.59375 17.96875 6.59375 36.375 \r\nQ 6.59375 54.828125 13.0625 64.515625 \r\nQ 19.53125 74.21875 31.78125 74.21875 \r\nz\r\n\" id=\"DejaVuSans-48\"/>\r\n       </defs>\r\n       <use xlink:href=\"#DejaVuSans-48\"/>\r\n      </g>\r\n     </g>\r\n    </g>\r\n    <g id=\"xtick_2\">\r\n     <g id=\"line2d_2\">\r\n      <g>\r\n       <use style=\"stroke:#000000;stroke-width:0.8;\" x=\"269.000747\" xlink:href=\"#mebd39909ce\" y=\"239.758125\"/>\r\n      </g>\r\n     </g>\r\n     <g id=\"text_2\">\r\n      <!-- 5 -->\r\n      <g transform=\"translate(265.819497 254.356563)scale(0.1 -0.1)\">\r\n       <defs>\r\n        <path d=\"M 10.796875 72.90625 \r\nL 49.515625 72.90625 \r\nL 49.515625 64.59375 \r\nL 19.828125 64.59375 \r\nL 19.828125 46.734375 \r\nQ 21.96875 47.46875 24.109375 47.828125 \r\nQ 26.265625 48.1875 28.421875 48.1875 \r\nQ 40.625 48.1875 47.75 41.5 \r\nQ 54.890625 34.8125 54.890625 23.390625 \r\nQ 54.890625 11.625 47.5625 5.09375 \r\nQ 40.234375 -1.421875 26.90625 -1.421875 \r\nQ 22.3125 -1.421875 17.546875 -0.640625 \r\nQ 12.796875 0.140625 7.71875 1.703125 \r\nL 7.71875 11.625 \r\nQ 12.109375 9.234375 16.796875 8.0625 \r\nQ 21.484375 6.890625 26.703125 6.890625 \r\nQ 35.15625 6.890625 40.078125 11.328125 \r\nQ 45.015625 15.765625 45.015625 23.390625 \r\nQ 45.015625 31 40.078125 35.4375 \r\nQ 35.15625 39.890625 26.703125 39.890625 \r\nQ 22.75 39.890625 18.8125 39.015625 \r\nQ 14.890625 38.140625 10.796875 36.28125 \r\nz\r\n\" id=\"DejaVuSans-53\"/>\r\n       </defs>\r\n       <use xlink:href=\"#DejaVuSans-53\"/>\r\n      </g>\r\n     </g>\r\n    </g>\r\n    <g id=\"xtick_3\">\r\n     <g id=\"line2d_3\">\r\n      <g>\r\n       <use style=\"stroke:#000000;stroke-width:0.8;\" x=\"333.295245\" xlink:href=\"#mebd39909ce\" y=\"239.758125\"/>\r\n      </g>\r\n     </g>\r\n     <g id=\"text_3\">\r\n      <!-- 10 -->\r\n      <g transform=\"translate(326.932745 254.356563)scale(0.1 -0.1)\">\r\n       <defs>\r\n        <path d=\"M 12.40625 8.296875 \r\nL 28.515625 8.296875 \r\nL 28.515625 63.921875 \r\nL 10.984375 60.40625 \r\nL 10.984375 69.390625 \r\nL 28.421875 72.90625 \r\nL 38.28125 72.90625 \r\nL 38.28125 8.296875 \r\nL 54.390625 8.296875 \r\nL 54.390625 0 \r\nL 12.40625 0 \r\nz\r\n\" id=\"DejaVuSans-49\"/>\r\n       </defs>\r\n       <use xlink:href=\"#DejaVuSans-49\"/>\r\n       <use x=\"63.623047\" xlink:href=\"#DejaVuSans-48\"/>\r\n      </g>\r\n     </g>\r\n    </g>\r\n    <g id=\"xtick_4\">\r\n     <g id=\"line2d_4\">\r\n      <g>\r\n       <use style=\"stroke:#000000;stroke-width:0.8;\" x=\"397.589742\" xlink:href=\"#mebd39909ce\" y=\"239.758125\"/>\r\n      </g>\r\n     </g>\r\n     <g id=\"text_4\">\r\n      <!-- 15 -->\r\n      <g transform=\"translate(391.227242 254.356563)scale(0.1 -0.1)\">\r\n       <use xlink:href=\"#DejaVuSans-49\"/>\r\n       <use x=\"63.623047\" xlink:href=\"#DejaVuSans-53\"/>\r\n      </g>\r\n     </g>\r\n    </g>\r\n    <g id=\"xtick_5\">\r\n     <g id=\"line2d_5\">\r\n      <g>\r\n       <use style=\"stroke:#000000;stroke-width:0.8;\" x=\"461.88424\" xlink:href=\"#mebd39909ce\" y=\"239.758125\"/>\r\n      </g>\r\n     </g>\r\n     <g id=\"text_5\">\r\n      <!-- 20 -->\r\n      <g transform=\"translate(455.52174 254.356563)scale(0.1 -0.1)\">\r\n       <defs>\r\n        <path d=\"M 19.1875 8.296875 \r\nL 53.609375 8.296875 \r\nL 53.609375 0 \r\nL 7.328125 0 \r\nL 7.328125 8.296875 \r\nQ 12.9375 14.109375 22.625 23.890625 \r\nQ 32.328125 33.6875 34.8125 36.53125 \r\nQ 39.546875 41.84375 41.421875 45.53125 \r\nQ 43.3125 49.21875 43.3125 52.78125 \r\nQ 43.3125 58.59375 39.234375 62.25 \r\nQ 35.15625 65.921875 28.609375 65.921875 \r\nQ 23.96875 65.921875 18.8125 64.3125 \r\nQ 13.671875 62.703125 7.8125 59.421875 \r\nL 7.8125 69.390625 \r\nQ 13.765625 71.78125 18.9375 73 \r\nQ 24.125 74.21875 28.421875 74.21875 \r\nQ 39.75 74.21875 46.484375 68.546875 \r\nQ 53.21875 62.890625 53.21875 53.421875 \r\nQ 53.21875 48.921875 51.53125 44.890625 \r\nQ 49.859375 40.875 45.40625 35.40625 \r\nQ 44.1875 33.984375 37.640625 27.21875 \r\nQ 31.109375 20.453125 19.1875 8.296875 \r\nz\r\n\" id=\"DejaVuSans-50\"/>\r\n       </defs>\r\n       <use xlink:href=\"#DejaVuSans-50\"/>\r\n       <use x=\"63.623047\" xlink:href=\"#DejaVuSans-48\"/>\r\n      </g>\r\n     </g>\r\n    </g>\r\n    <g id=\"xtick_6\">\r\n     <g id=\"line2d_6\">\r\n      <g>\r\n       <use style=\"stroke:#000000;stroke-width:0.8;\" x=\"526.178737\" xlink:href=\"#mebd39909ce\" y=\"239.758125\"/>\r\n      </g>\r\n     </g>\r\n     <g id=\"text_6\">\r\n      <!-- 25 -->\r\n      <g transform=\"translate(519.816237 254.356563)scale(0.1 -0.1)\">\r\n       <use xlink:href=\"#DejaVuSans-50\"/>\r\n       <use x=\"63.623047\" xlink:href=\"#DejaVuSans-53\"/>\r\n      </g>\r\n     </g>\r\n    </g>\r\n    <g id=\"text_7\">\r\n     <!-- Protein_(g) -->\r\n     <g transform=\"translate(345.00625 268.034688)scale(0.1 -0.1)\">\r\n      <defs>\r\n       <path d=\"M 19.671875 64.796875 \r\nL 19.671875 37.40625 \r\nL 32.078125 37.40625 \r\nQ 38.96875 37.40625 42.71875 40.96875 \r\nQ 46.484375 44.53125 46.484375 51.125 \r\nQ 46.484375 57.671875 42.71875 61.234375 \r\nQ 38.96875 64.796875 32.078125 64.796875 \r\nz\r\nM 9.8125 72.90625 \r\nL 32.078125 72.90625 \r\nQ 44.34375 72.90625 50.609375 67.359375 \r\nQ 56.890625 61.8125 56.890625 51.125 \r\nQ 56.890625 40.328125 50.609375 34.8125 \r\nQ 44.34375 29.296875 32.078125 29.296875 \r\nL 19.671875 29.296875 \r\nL 19.671875 0 \r\nL 9.8125 0 \r\nz\r\n\" id=\"DejaVuSans-80\"/>\r\n       <path d=\"M 41.109375 46.296875 \r\nQ 39.59375 47.171875 37.8125 47.578125 \r\nQ 36.03125 48 33.890625 48 \r\nQ 26.265625 48 22.1875 43.046875 \r\nQ 18.109375 38.09375 18.109375 28.8125 \r\nL 18.109375 0 \r\nL 9.078125 0 \r\nL 9.078125 54.6875 \r\nL 18.109375 54.6875 \r\nL 18.109375 46.1875 \r\nQ 20.953125 51.171875 25.484375 53.578125 \r\nQ 30.03125 56 36.53125 56 \r\nQ 37.453125 56 38.578125 55.875 \r\nQ 39.703125 55.765625 41.0625 55.515625 \r\nz\r\n\" id=\"DejaVuSans-114\"/>\r\n       <path d=\"M 30.609375 48.390625 \r\nQ 23.390625 48.390625 19.1875 42.75 \r\nQ 14.984375 37.109375 14.984375 27.296875 \r\nQ 14.984375 17.484375 19.15625 11.84375 \r\nQ 23.34375 6.203125 30.609375 6.203125 \r\nQ 37.796875 6.203125 41.984375 11.859375 \r\nQ 46.1875 17.53125 46.1875 27.296875 \r\nQ 46.1875 37.015625 41.984375 42.703125 \r\nQ 37.796875 48.390625 30.609375 48.390625 \r\nz\r\nM 30.609375 56 \r\nQ 42.328125 56 49.015625 48.375 \r\nQ 55.71875 40.765625 55.71875 27.296875 \r\nQ 55.71875 13.875 49.015625 6.21875 \r\nQ 42.328125 -1.421875 30.609375 -1.421875 \r\nQ 18.84375 -1.421875 12.171875 6.21875 \r\nQ 5.515625 13.875 5.515625 27.296875 \r\nQ 5.515625 40.765625 12.171875 48.375 \r\nQ 18.84375 56 30.609375 56 \r\nz\r\n\" id=\"DejaVuSans-111\"/>\r\n       <path d=\"M 18.3125 70.21875 \r\nL 18.3125 54.6875 \r\nL 36.8125 54.6875 \r\nL 36.8125 47.703125 \r\nL 18.3125 47.703125 \r\nL 18.3125 18.015625 \r\nQ 18.3125 11.328125 20.140625 9.421875 \r\nQ 21.96875 7.515625 27.59375 7.515625 \r\nL 36.8125 7.515625 \r\nL 36.8125 0 \r\nL 27.59375 0 \r\nQ 17.1875 0 13.234375 3.875 \r\nQ 9.28125 7.765625 9.28125 18.015625 \r\nL 9.28125 47.703125 \r\nL 2.6875 47.703125 \r\nL 2.6875 54.6875 \r\nL 9.28125 54.6875 \r\nL 9.28125 70.21875 \r\nz\r\n\" id=\"DejaVuSans-116\"/>\r\n       <path d=\"M 56.203125 29.59375 \r\nL 56.203125 25.203125 \r\nL 14.890625 25.203125 \r\nQ 15.484375 15.921875 20.484375 11.0625 \r\nQ 25.484375 6.203125 34.421875 6.203125 \r\nQ 39.59375 6.203125 44.453125 7.46875 \r\nQ 49.3125 8.734375 54.109375 11.28125 \r\nL 54.109375 2.78125 \r\nQ 49.265625 0.734375 44.1875 -0.34375 \r\nQ 39.109375 -1.421875 33.890625 -1.421875 \r\nQ 20.796875 -1.421875 13.15625 6.1875 \r\nQ 5.515625 13.8125 5.515625 26.8125 \r\nQ 5.515625 40.234375 12.765625 48.109375 \r\nQ 20.015625 56 32.328125 56 \r\nQ 43.359375 56 49.78125 48.890625 \r\nQ 56.203125 41.796875 56.203125 29.59375 \r\nz\r\nM 47.21875 32.234375 \r\nQ 47.125 39.59375 43.09375 43.984375 \r\nQ 39.0625 48.390625 32.421875 48.390625 \r\nQ 24.90625 48.390625 20.390625 44.140625 \r\nQ 15.875 39.890625 15.1875 32.171875 \r\nz\r\n\" id=\"DejaVuSans-101\"/>\r\n       <path d=\"M 9.421875 54.6875 \r\nL 18.40625 54.6875 \r\nL 18.40625 0 \r\nL 9.421875 0 \r\nz\r\nM 9.421875 75.984375 \r\nL 18.40625 75.984375 \r\nL 18.40625 64.59375 \r\nL 9.421875 64.59375 \r\nz\r\n\" id=\"DejaVuSans-105\"/>\r\n       <path d=\"M 54.890625 33.015625 \r\nL 54.890625 0 \r\nL 45.90625 0 \r\nL 45.90625 32.71875 \r\nQ 45.90625 40.484375 42.875 44.328125 \r\nQ 39.84375 48.1875 33.796875 48.1875 \r\nQ 26.515625 48.1875 22.3125 43.546875 \r\nQ 18.109375 38.921875 18.109375 30.90625 \r\nL 18.109375 0 \r\nL 9.078125 0 \r\nL 9.078125 54.6875 \r\nL 18.109375 54.6875 \r\nL 18.109375 46.1875 \r\nQ 21.34375 51.125 25.703125 53.5625 \r\nQ 30.078125 56 35.796875 56 \r\nQ 45.21875 56 50.046875 50.171875 \r\nQ 54.890625 44.34375 54.890625 33.015625 \r\nz\r\n\" id=\"DejaVuSans-110\"/>\r\n       <path d=\"M 50.984375 -16.609375 \r\nL 50.984375 -23.578125 \r\nL -0.984375 -23.578125 \r\nL -0.984375 -16.609375 \r\nz\r\n\" id=\"DejaVuSans-95\"/>\r\n       <path d=\"M 31 75.875 \r\nQ 24.46875 64.65625 21.28125 53.65625 \r\nQ 18.109375 42.671875 18.109375 31.390625 \r\nQ 18.109375 20.125 21.3125 9.0625 \r\nQ 24.515625 -2 31 -13.1875 \r\nL 23.1875 -13.1875 \r\nQ 15.875 -1.703125 12.234375 9.375 \r\nQ 8.59375 20.453125 8.59375 31.390625 \r\nQ 8.59375 42.28125 12.203125 53.3125 \r\nQ 15.828125 64.359375 23.1875 75.875 \r\nz\r\n\" id=\"DejaVuSans-40\"/>\r\n       <path d=\"M 45.40625 27.984375 \r\nQ 45.40625 37.75 41.375 43.109375 \r\nQ 37.359375 48.484375 30.078125 48.484375 \r\nQ 22.859375 48.484375 18.828125 43.109375 \r\nQ 14.796875 37.75 14.796875 27.984375 \r\nQ 14.796875 18.265625 18.828125 12.890625 \r\nQ 22.859375 7.515625 30.078125 7.515625 \r\nQ 37.359375 7.515625 41.375 12.890625 \r\nQ 45.40625 18.265625 45.40625 27.984375 \r\nz\r\nM 54.390625 6.78125 \r\nQ 54.390625 -7.171875 48.1875 -13.984375 \r\nQ 42 -20.796875 29.203125 -20.796875 \r\nQ 24.46875 -20.796875 20.265625 -20.09375 \r\nQ 16.0625 -19.390625 12.109375 -17.921875 \r\nL 12.109375 -9.1875 \r\nQ 16.0625 -11.328125 19.921875 -12.34375 \r\nQ 23.78125 -13.375 27.78125 -13.375 \r\nQ 36.625 -13.375 41.015625 -8.765625 \r\nQ 45.40625 -4.15625 45.40625 5.171875 \r\nL 45.40625 9.625 \r\nQ 42.625 4.78125 38.28125 2.390625 \r\nQ 33.9375 0 27.875 0 \r\nQ 17.828125 0 11.671875 7.65625 \r\nQ 5.515625 15.328125 5.515625 27.984375 \r\nQ 5.515625 40.671875 11.671875 48.328125 \r\nQ 17.828125 56 27.875 56 \r\nQ 33.9375 56 38.28125 53.609375 \r\nQ 42.625 51.21875 45.40625 46.390625 \r\nL 45.40625 54.6875 \r\nL 54.390625 54.6875 \r\nz\r\n\" id=\"DejaVuSans-103\"/>\r\n       <path d=\"M 8.015625 75.875 \r\nL 15.828125 75.875 \r\nQ 23.140625 64.359375 26.78125 53.3125 \r\nQ 30.421875 42.28125 30.421875 31.390625 \r\nQ 30.421875 20.453125 26.78125 9.375 \r\nQ 23.140625 -1.703125 15.828125 -13.1875 \r\nL 8.015625 -13.1875 \r\nQ 14.5 -2 17.703125 9.0625 \r\nQ 20.90625 20.125 20.90625 31.390625 \r\nQ 20.90625 42.671875 17.703125 53.65625 \r\nQ 14.5 64.65625 8.015625 75.875 \r\nz\r\n\" id=\"DejaVuSans-41\"/>\r\n      </defs>\r\n      <use xlink:href=\"#DejaVuSans-80\"/>\r\n      <use x=\"58.552734\" xlink:href=\"#DejaVuSans-114\"/>\r\n      <use x=\"97.416016\" xlink:href=\"#DejaVuSans-111\"/>\r\n      <use x=\"158.597656\" xlink:href=\"#DejaVuSans-116\"/>\r\n      <use x=\"197.806641\" xlink:href=\"#DejaVuSans-101\"/>\r\n      <use x=\"259.330078\" xlink:href=\"#DejaVuSans-105\"/>\r\n      <use x=\"287.113281\" xlink:href=\"#DejaVuSans-110\"/>\r\n      <use x=\"350.492188\" xlink:href=\"#DejaVuSans-95\"/>\r\n      <use x=\"400.492188\" xlink:href=\"#DejaVuSans-40\"/>\r\n      <use x=\"439.505859\" xlink:href=\"#DejaVuSans-103\"/>\r\n      <use x=\"502.982422\" xlink:href=\"#DejaVuSans-41\"/>\r\n     </g>\r\n    </g>\r\n   </g>\r\n   <g id=\"matplotlib.axis_2\">\r\n    <g id=\"ytick_1\">\r\n     <g id=\"line2d_7\">\r\n      <defs>\r\n       <path d=\"M 0 0 \r\nL -3.5 0 \r\n\" id=\"m1da2914a47\" style=\"stroke:#000000;stroke-width:0.8;\"/>\r\n      </defs>\r\n      <g>\r\n       <use style=\"stroke:#000000;stroke-width:0.8;\" x=\"204.70625\" xlink:href=\"#m1da2914a47\" y=\"235.409325\"/>\r\n      </g>\r\n     </g>\r\n     <g id=\"text_8\">\r\n      <!-- Fats and Oils -->\r\n      <g transform=\"translate(133.801563 239.208544)scale(0.1 -0.1)\">\r\n       <defs>\r\n        <path d=\"M 9.8125 72.90625 \r\nL 51.703125 72.90625 \r\nL 51.703125 64.59375 \r\nL 19.671875 64.59375 \r\nL 19.671875 43.109375 \r\nL 48.578125 43.109375 \r\nL 48.578125 34.8125 \r\nL 19.671875 34.8125 \r\nL 19.671875 0 \r\nL 9.8125 0 \r\nz\r\n\" id=\"DejaVuSans-70\"/>\r\n        <path d=\"M 34.28125 27.484375 \r\nQ 23.390625 27.484375 19.1875 25 \r\nQ 14.984375 22.515625 14.984375 16.5 \r\nQ 14.984375 11.71875 18.140625 8.90625 \r\nQ 21.296875 6.109375 26.703125 6.109375 \r\nQ 34.1875 6.109375 38.703125 11.40625 \r\nQ 43.21875 16.703125 43.21875 25.484375 \r\nL 43.21875 27.484375 \r\nz\r\nM 52.203125 31.203125 \r\nL 52.203125 0 \r\nL 43.21875 0 \r\nL 43.21875 8.296875 \r\nQ 40.140625 3.328125 35.546875 0.953125 \r\nQ 30.953125 -1.421875 24.3125 -1.421875 \r\nQ 15.921875 -1.421875 10.953125 3.296875 \r\nQ 6 8.015625 6 15.921875 \r\nQ 6 25.140625 12.171875 29.828125 \r\nQ 18.359375 34.515625 30.609375 34.515625 \r\nL 43.21875 34.515625 \r\nL 43.21875 35.40625 \r\nQ 43.21875 41.609375 39.140625 45 \r\nQ 35.0625 48.390625 27.6875 48.390625 \r\nQ 23 48.390625 18.546875 47.265625 \r\nQ 14.109375 46.140625 10.015625 43.890625 \r\nL 10.015625 52.203125 \r\nQ 14.9375 54.109375 19.578125 55.046875 \r\nQ 24.21875 56 28.609375 56 \r\nQ 40.484375 56 46.34375 49.84375 \r\nQ 52.203125 43.703125 52.203125 31.203125 \r\nz\r\n\" id=\"DejaVuSans-97\"/>\r\n        <path d=\"M 44.28125 53.078125 \r\nL 44.28125 44.578125 \r\nQ 40.484375 46.53125 36.375 47.5 \r\nQ 32.28125 48.484375 27.875 48.484375 \r\nQ 21.1875 48.484375 17.84375 46.4375 \r\nQ 14.5 44.390625 14.5 40.28125 \r\nQ 14.5 37.15625 16.890625 35.375 \r\nQ 19.28125 33.59375 26.515625 31.984375 \r\nL 29.59375 31.296875 \r\nQ 39.15625 29.25 43.1875 25.515625 \r\nQ 47.21875 21.78125 47.21875 15.09375 \r\nQ 47.21875 7.46875 41.1875 3.015625 \r\nQ 35.15625 -1.421875 24.609375 -1.421875 \r\nQ 20.21875 -1.421875 15.453125 -0.5625 \r\nQ 10.6875 0.296875 5.421875 2 \r\nL 5.421875 11.28125 \r\nQ 10.40625 8.6875 15.234375 7.390625 \r\nQ 20.0625 6.109375 24.8125 6.109375 \r\nQ 31.15625 6.109375 34.5625 8.28125 \r\nQ 37.984375 10.453125 37.984375 14.40625 \r\nQ 37.984375 18.0625 35.515625 20.015625 \r\nQ 33.0625 21.96875 24.703125 23.78125 \r\nL 21.578125 24.515625 \r\nQ 13.234375 26.265625 9.515625 29.90625 \r\nQ 5.8125 33.546875 5.8125 39.890625 \r\nQ 5.8125 47.609375 11.28125 51.796875 \r\nQ 16.75 56 26.8125 56 \r\nQ 31.78125 56 36.171875 55.265625 \r\nQ 40.578125 54.546875 44.28125 53.078125 \r\nz\r\n\" id=\"DejaVuSans-115\"/>\r\n        <path id=\"DejaVuSans-32\"/>\r\n        <path d=\"M 45.40625 46.390625 \r\nL 45.40625 75.984375 \r\nL 54.390625 75.984375 \r\nL 54.390625 0 \r\nL 45.40625 0 \r\nL 45.40625 8.203125 \r\nQ 42.578125 3.328125 38.25 0.953125 \r\nQ 33.9375 -1.421875 27.875 -1.421875 \r\nQ 17.96875 -1.421875 11.734375 6.484375 \r\nQ 5.515625 14.40625 5.515625 27.296875 \r\nQ 5.515625 40.1875 11.734375 48.09375 \r\nQ 17.96875 56 27.875 56 \r\nQ 33.9375 56 38.25 53.625 \r\nQ 42.578125 51.265625 45.40625 46.390625 \r\nz\r\nM 14.796875 27.296875 \r\nQ 14.796875 17.390625 18.875 11.75 \r\nQ 22.953125 6.109375 30.078125 6.109375 \r\nQ 37.203125 6.109375 41.296875 11.75 \r\nQ 45.40625 17.390625 45.40625 27.296875 \r\nQ 45.40625 37.203125 41.296875 42.84375 \r\nQ 37.203125 48.484375 30.078125 48.484375 \r\nQ 22.953125 48.484375 18.875 42.84375 \r\nQ 14.796875 37.203125 14.796875 27.296875 \r\nz\r\n\" id=\"DejaVuSans-100\"/>\r\n        <path d=\"M 39.40625 66.21875 \r\nQ 28.65625 66.21875 22.328125 58.203125 \r\nQ 16.015625 50.203125 16.015625 36.375 \r\nQ 16.015625 22.609375 22.328125 14.59375 \r\nQ 28.65625 6.59375 39.40625 6.59375 \r\nQ 50.140625 6.59375 56.421875 14.59375 \r\nQ 62.703125 22.609375 62.703125 36.375 \r\nQ 62.703125 50.203125 56.421875 58.203125 \r\nQ 50.140625 66.21875 39.40625 66.21875 \r\nz\r\nM 39.40625 74.21875 \r\nQ 54.734375 74.21875 63.90625 63.9375 \r\nQ 73.09375 53.65625 73.09375 36.375 \r\nQ 73.09375 19.140625 63.90625 8.859375 \r\nQ 54.734375 -1.421875 39.40625 -1.421875 \r\nQ 24.03125 -1.421875 14.8125 8.828125 \r\nQ 5.609375 19.09375 5.609375 36.375 \r\nQ 5.609375 53.65625 14.8125 63.9375 \r\nQ 24.03125 74.21875 39.40625 74.21875 \r\nz\r\n\" id=\"DejaVuSans-79\"/>\r\n        <path d=\"M 9.421875 75.984375 \r\nL 18.40625 75.984375 \r\nL 18.40625 0 \r\nL 9.421875 0 \r\nz\r\n\" id=\"DejaVuSans-108\"/>\r\n       </defs>\r\n       <use xlink:href=\"#DejaVuSans-70\"/>\r\n       <use x=\"48.394531\" xlink:href=\"#DejaVuSans-97\"/>\r\n       <use x=\"109.673828\" xlink:href=\"#DejaVuSans-116\"/>\r\n       <use x=\"148.882812\" xlink:href=\"#DejaVuSans-115\"/>\r\n       <use x=\"200.982422\" xlink:href=\"#DejaVuSans-32\"/>\r\n       <use x=\"232.769531\" xlink:href=\"#DejaVuSans-97\"/>\r\n       <use x=\"294.048828\" xlink:href=\"#DejaVuSans-110\"/>\r\n       <use x=\"357.427734\" xlink:href=\"#DejaVuSans-100\"/>\r\n       <use x=\"420.904297\" xlink:href=\"#DejaVuSans-32\"/>\r\n       <use x=\"452.691406\" xlink:href=\"#DejaVuSans-79\"/>\r\n       <use x=\"531.402344\" xlink:href=\"#DejaVuSans-105\"/>\r\n       <use x=\"559.185547\" xlink:href=\"#DejaVuSans-108\"/>\r\n       <use x=\"586.96875\" xlink:href=\"#DejaVuSans-115\"/>\r\n      </g>\r\n     </g>\r\n    </g>\r\n    <g id=\"ytick_2\">\r\n     <g id=\"line2d_8\">\r\n      <g>\r\n       <use style=\"stroke:#000000;stroke-width:0.8;\" x=\"204.70625\" xlink:href=\"#m1da2914a47\" y=\"226.711725\"/>\r\n      </g>\r\n     </g>\r\n     <g id=\"text_9\">\r\n      <!-- Fruits and Fruit Juices -->\r\n      <g transform=\"translate(90.875 230.510944)scale(0.1 -0.1)\">\r\n       <defs>\r\n        <path d=\"M 8.5 21.578125 \r\nL 8.5 54.6875 \r\nL 17.484375 54.6875 \r\nL 17.484375 21.921875 \r\nQ 17.484375 14.15625 20.5 10.265625 \r\nQ 23.53125 6.390625 29.59375 6.390625 \r\nQ 36.859375 6.390625 41.078125 11.03125 \r\nQ 45.3125 15.671875 45.3125 23.6875 \r\nL 45.3125 54.6875 \r\nL 54.296875 54.6875 \r\nL 54.296875 0 \r\nL 45.3125 0 \r\nL 45.3125 8.40625 \r\nQ 42.046875 3.421875 37.71875 1 \r\nQ 33.40625 -1.421875 27.6875 -1.421875 \r\nQ 18.265625 -1.421875 13.375 4.4375 \r\nQ 8.5 10.296875 8.5 21.578125 \r\nz\r\nM 31.109375 56 \r\nz\r\n\" id=\"DejaVuSans-117\"/>\r\n        <path d=\"M 9.8125 72.90625 \r\nL 19.671875 72.90625 \r\nL 19.671875 5.078125 \r\nQ 19.671875 -8.109375 14.671875 -14.0625 \r\nQ 9.671875 -20.015625 -1.421875 -20.015625 \r\nL -5.171875 -20.015625 \r\nL -5.171875 -11.71875 \r\nL -2.09375 -11.71875 \r\nQ 4.4375 -11.71875 7.125 -8.046875 \r\nQ 9.8125 -4.390625 9.8125 5.078125 \r\nz\r\n\" id=\"DejaVuSans-74\"/>\r\n        <path d=\"M 48.78125 52.59375 \r\nL 48.78125 44.1875 \r\nQ 44.96875 46.296875 41.140625 47.34375 \r\nQ 37.3125 48.390625 33.40625 48.390625 \r\nQ 24.65625 48.390625 19.8125 42.84375 \r\nQ 14.984375 37.3125 14.984375 27.296875 \r\nQ 14.984375 17.28125 19.8125 11.734375 \r\nQ 24.65625 6.203125 33.40625 6.203125 \r\nQ 37.3125 6.203125 41.140625 7.25 \r\nQ 44.96875 8.296875 48.78125 10.40625 \r\nL 48.78125 2.09375 \r\nQ 45.015625 0.34375 40.984375 -0.53125 \r\nQ 36.96875 -1.421875 32.421875 -1.421875 \r\nQ 20.0625 -1.421875 12.78125 6.34375 \r\nQ 5.515625 14.109375 5.515625 27.296875 \r\nQ 5.515625 40.671875 12.859375 48.328125 \r\nQ 20.21875 56 33.015625 56 \r\nQ 37.15625 56 41.109375 55.140625 \r\nQ 45.0625 54.296875 48.78125 52.59375 \r\nz\r\n\" id=\"DejaVuSans-99\"/>\r\n       </defs>\r\n       <use xlink:href=\"#DejaVuSans-70\"/>\r\n       <use x=\"50.269531\" xlink:href=\"#DejaVuSans-114\"/>\r\n       <use x=\"91.382812\" xlink:href=\"#DejaVuSans-117\"/>\r\n       <use x=\"154.761719\" xlink:href=\"#DejaVuSans-105\"/>\r\n       <use x=\"182.544922\" xlink:href=\"#DejaVuSans-116\"/>\r\n       <use x=\"221.753906\" xlink:href=\"#DejaVuSans-115\"/>\r\n       <use x=\"273.853516\" xlink:href=\"#DejaVuSans-32\"/>\r\n       <use x=\"305.640625\" xlink:href=\"#DejaVuSans-97\"/>\r\n       <use x=\"366.919922\" xlink:href=\"#DejaVuSans-110\"/>\r\n       <use x=\"430.298828\" xlink:href=\"#DejaVuSans-100\"/>\r\n       <use x=\"493.775391\" xlink:href=\"#DejaVuSans-32\"/>\r\n       <use x=\"525.5625\" xlink:href=\"#DejaVuSans-70\"/>\r\n       <use x=\"575.832031\" xlink:href=\"#DejaVuSans-114\"/>\r\n       <use x=\"616.945312\" xlink:href=\"#DejaVuSans-117\"/>\r\n       <use x=\"680.324219\" xlink:href=\"#DejaVuSans-105\"/>\r\n       <use x=\"708.107422\" xlink:href=\"#DejaVuSans-116\"/>\r\n       <use x=\"747.316406\" xlink:href=\"#DejaVuSans-32\"/>\r\n       <use x=\"779.103516\" xlink:href=\"#DejaVuSans-74\"/>\r\n       <use x=\"808.595703\" xlink:href=\"#DejaVuSans-117\"/>\r\n       <use x=\"871.974609\" xlink:href=\"#DejaVuSans-105\"/>\r\n       <use x=\"899.757812\" xlink:href=\"#DejaVuSans-99\"/>\r\n       <use x=\"954.738281\" xlink:href=\"#DejaVuSans-101\"/>\r\n       <use x=\"1016.261719\" xlink:href=\"#DejaVuSans-115\"/>\r\n      </g>\r\n     </g>\r\n    </g>\r\n    <g id=\"ytick_3\">\r\n     <g id=\"line2d_9\">\r\n      <g>\r\n       <use style=\"stroke:#000000;stroke-width:0.8;\" x=\"204.70625\" xlink:href=\"#m1da2914a47\" y=\"218.014125\"/>\r\n      </g>\r\n     </g>\r\n     <g id=\"text_10\">\r\n      <!-- Beverages -->\r\n      <g transform=\"translate(144.670313 221.813344)scale(0.1 -0.1)\">\r\n       <defs>\r\n        <path d=\"M 19.671875 34.8125 \r\nL 19.671875 8.109375 \r\nL 35.5 8.109375 \r\nQ 43.453125 8.109375 47.28125 11.40625 \r\nQ 51.125 14.703125 51.125 21.484375 \r\nQ 51.125 28.328125 47.28125 31.5625 \r\nQ 43.453125 34.8125 35.5 34.8125 \r\nz\r\nM 19.671875 64.796875 \r\nL 19.671875 42.828125 \r\nL 34.28125 42.828125 \r\nQ 41.5 42.828125 45.03125 45.53125 \r\nQ 48.578125 48.25 48.578125 53.8125 \r\nQ 48.578125 59.328125 45.03125 62.0625 \r\nQ 41.5 64.796875 34.28125 64.796875 \r\nz\r\nM 9.8125 72.90625 \r\nL 35.015625 72.90625 \r\nQ 46.296875 72.90625 52.390625 68.21875 \r\nQ 58.5 63.53125 58.5 54.890625 \r\nQ 58.5 48.1875 55.375 44.234375 \r\nQ 52.25 40.28125 46.1875 39.3125 \r\nQ 53.46875 37.75 57.5 32.78125 \r\nQ 61.53125 27.828125 61.53125 20.40625 \r\nQ 61.53125 10.640625 54.890625 5.3125 \r\nQ 48.25 0 35.984375 0 \r\nL 9.8125 0 \r\nz\r\n\" id=\"DejaVuSans-66\"/>\r\n        <path d=\"M 2.984375 54.6875 \r\nL 12.5 54.6875 \r\nL 29.59375 8.796875 \r\nL 46.6875 54.6875 \r\nL 56.203125 54.6875 \r\nL 35.6875 0 \r\nL 23.484375 0 \r\nz\r\n\" id=\"DejaVuSans-118\"/>\r\n       </defs>\r\n       <use xlink:href=\"#DejaVuSans-66\"/>\r\n       <use x=\"68.603516\" xlink:href=\"#DejaVuSans-101\"/>\r\n       <use x=\"130.126953\" xlink:href=\"#DejaVuSans-118\"/>\r\n       <use x=\"189.306641\" xlink:href=\"#DejaVuSans-101\"/>\r\n       <use x=\"250.830078\" xlink:href=\"#DejaVuSans-114\"/>\r\n       <use x=\"291.943359\" xlink:href=\"#DejaVuSans-97\"/>\r\n       <use x=\"353.222656\" xlink:href=\"#DejaVuSans-103\"/>\r\n       <use x=\"416.699219\" xlink:href=\"#DejaVuSans-101\"/>\r\n       <use x=\"478.222656\" xlink:href=\"#DejaVuSans-115\"/>\r\n      </g>\r\n     </g>\r\n    </g>\r\n    <g id=\"ytick_4\">\r\n     <g id=\"line2d_10\">\r\n      <g>\r\n       <use style=\"stroke:#000000;stroke-width:0.8;\" x=\"204.70625\" xlink:href=\"#m1da2914a47\" y=\"209.316525\"/>\r\n      </g>\r\n     </g>\r\n     <g id=\"text_11\">\r\n      <!-- Soups, Sauces, and Gravies -->\r\n      <g transform=\"translate(58.917188 213.115744)scale(0.1 -0.1)\">\r\n       <defs>\r\n        <path d=\"M 53.515625 70.515625 \r\nL 53.515625 60.890625 \r\nQ 47.90625 63.578125 42.921875 64.890625 \r\nQ 37.9375 66.21875 33.296875 66.21875 \r\nQ 25.25 66.21875 20.875 63.09375 \r\nQ 16.5 59.96875 16.5 54.203125 \r\nQ 16.5 49.359375 19.40625 46.890625 \r\nQ 22.3125 44.4375 30.421875 42.921875 \r\nL 36.375 41.703125 \r\nQ 47.40625 39.59375 52.65625 34.296875 \r\nQ 57.90625 29 57.90625 20.125 \r\nQ 57.90625 9.515625 50.796875 4.046875 \r\nQ 43.703125 -1.421875 29.984375 -1.421875 \r\nQ 24.8125 -1.421875 18.96875 -0.25 \r\nQ 13.140625 0.921875 6.890625 3.21875 \r\nL 6.890625 13.375 \r\nQ 12.890625 10.015625 18.65625 8.296875 \r\nQ 24.421875 6.59375 29.984375 6.59375 \r\nQ 38.421875 6.59375 43.015625 9.90625 \r\nQ 47.609375 13.234375 47.609375 19.390625 \r\nQ 47.609375 24.75 44.3125 27.78125 \r\nQ 41.015625 30.8125 33.5 32.328125 \r\nL 27.484375 33.5 \r\nQ 16.453125 35.6875 11.515625 40.375 \r\nQ 6.59375 45.0625 6.59375 53.421875 \r\nQ 6.59375 63.09375 13.40625 68.65625 \r\nQ 20.21875 74.21875 32.171875 74.21875 \r\nQ 37.3125 74.21875 42.625 73.28125 \r\nQ 47.953125 72.359375 53.515625 70.515625 \r\nz\r\n\" id=\"DejaVuSans-83\"/>\r\n        <path d=\"M 18.109375 8.203125 \r\nL 18.109375 -20.796875 \r\nL 9.078125 -20.796875 \r\nL 9.078125 54.6875 \r\nL 18.109375 54.6875 \r\nL 18.109375 46.390625 \r\nQ 20.953125 51.265625 25.265625 53.625 \r\nQ 29.59375 56 35.59375 56 \r\nQ 45.5625 56 51.78125 48.09375 \r\nQ 58.015625 40.1875 58.015625 27.296875 \r\nQ 58.015625 14.40625 51.78125 6.484375 \r\nQ 45.5625 -1.421875 35.59375 -1.421875 \r\nQ 29.59375 -1.421875 25.265625 0.953125 \r\nQ 20.953125 3.328125 18.109375 8.203125 \r\nz\r\nM 48.6875 27.296875 \r\nQ 48.6875 37.203125 44.609375 42.84375 \r\nQ 40.53125 48.484375 33.40625 48.484375 \r\nQ 26.265625 48.484375 22.1875 42.84375 \r\nQ 18.109375 37.203125 18.109375 27.296875 \r\nQ 18.109375 17.390625 22.1875 11.75 \r\nQ 26.265625 6.109375 33.40625 6.109375 \r\nQ 40.53125 6.109375 44.609375 11.75 \r\nQ 48.6875 17.390625 48.6875 27.296875 \r\nz\r\n\" id=\"DejaVuSans-112\"/>\r\n        <path d=\"M 11.71875 12.40625 \r\nL 22.015625 12.40625 \r\nL 22.015625 4 \r\nL 14.015625 -11.625 \r\nL 7.71875 -11.625 \r\nL 11.71875 4 \r\nz\r\n\" id=\"DejaVuSans-44\"/>\r\n        <path d=\"M 59.515625 10.40625 \r\nL 59.515625 29.984375 \r\nL 43.40625 29.984375 \r\nL 43.40625 38.09375 \r\nL 69.28125 38.09375 \r\nL 69.28125 6.78125 \r\nQ 63.578125 2.734375 56.6875 0.65625 \r\nQ 49.8125 -1.421875 42 -1.421875 \r\nQ 24.90625 -1.421875 15.25 8.5625 \r\nQ 5.609375 18.5625 5.609375 36.375 \r\nQ 5.609375 54.25 15.25 64.234375 \r\nQ 24.90625 74.21875 42 74.21875 \r\nQ 49.125 74.21875 55.546875 72.453125 \r\nQ 61.96875 70.703125 67.390625 67.28125 \r\nL 67.390625 56.78125 \r\nQ 61.921875 61.421875 55.765625 63.765625 \r\nQ 49.609375 66.109375 42.828125 66.109375 \r\nQ 29.4375 66.109375 22.71875 58.640625 \r\nQ 16.015625 51.171875 16.015625 36.375 \r\nQ 16.015625 21.625 22.71875 14.15625 \r\nQ 29.4375 6.6875 42.828125 6.6875 \r\nQ 48.046875 6.6875 52.140625 7.59375 \r\nQ 56.25 8.5 59.515625 10.40625 \r\nz\r\n\" id=\"DejaVuSans-71\"/>\r\n       </defs>\r\n       <use xlink:href=\"#DejaVuSans-83\"/>\r\n       <use x=\"63.476562\" xlink:href=\"#DejaVuSans-111\"/>\r\n       <use x=\"124.658203\" xlink:href=\"#DejaVuSans-117\"/>\r\n       <use x=\"188.037109\" xlink:href=\"#DejaVuSans-112\"/>\r\n       <use x=\"251.513672\" xlink:href=\"#DejaVuSans-115\"/>\r\n       <use x=\"303.613281\" xlink:href=\"#DejaVuSans-44\"/>\r\n       <use x=\"335.400391\" xlink:href=\"#DejaVuSans-32\"/>\r\n       <use x=\"367.1875\" xlink:href=\"#DejaVuSans-83\"/>\r\n       <use x=\"430.664062\" xlink:href=\"#DejaVuSans-97\"/>\r\n       <use x=\"491.943359\" xlink:href=\"#DejaVuSans-117\"/>\r\n       <use x=\"555.322266\" xlink:href=\"#DejaVuSans-99\"/>\r\n       <use x=\"610.302734\" xlink:href=\"#DejaVuSans-101\"/>\r\n       <use x=\"671.826172\" xlink:href=\"#DejaVuSans-115\"/>\r\n       <use x=\"723.925781\" xlink:href=\"#DejaVuSans-44\"/>\r\n       <use x=\"755.712891\" xlink:href=\"#DejaVuSans-32\"/>\r\n       <use x=\"787.5\" xlink:href=\"#DejaVuSans-97\"/>\r\n       <use x=\"848.779297\" xlink:href=\"#DejaVuSans-110\"/>\r\n       <use x=\"912.158203\" xlink:href=\"#DejaVuSans-100\"/>\r\n       <use x=\"975.634766\" xlink:href=\"#DejaVuSans-32\"/>\r\n       <use x=\"1007.421875\" xlink:href=\"#DejaVuSans-71\"/>\r\n       <use x=\"1084.912109\" xlink:href=\"#DejaVuSans-114\"/>\r\n       <use x=\"1126.025391\" xlink:href=\"#DejaVuSans-97\"/>\r\n       <use x=\"1187.304688\" xlink:href=\"#DejaVuSans-118\"/>\r\n       <use x=\"1246.484375\" xlink:href=\"#DejaVuSans-105\"/>\r\n       <use x=\"1274.267578\" xlink:href=\"#DejaVuSans-101\"/>\r\n       <use x=\"1335.791016\" xlink:href=\"#DejaVuSans-115\"/>\r\n      </g>\r\n     </g>\r\n    </g>\r\n    <g id=\"ytick_5\">\r\n     <g id=\"line2d_11\">\r\n      <g>\r\n       <use style=\"stroke:#000000;stroke-width:0.8;\" x=\"204.70625\" xlink:href=\"#m1da2914a47\" y=\"200.618925\"/>\r\n      </g>\r\n     </g>\r\n     <g id=\"text_12\">\r\n      <!-- Vegetables and Vegetable Products -->\r\n      <g transform=\"translate(20.878125 204.418144)scale(0.1 -0.1)\">\r\n       <defs>\r\n        <path d=\"M 28.609375 0 \r\nL 0.78125 72.90625 \r\nL 11.078125 72.90625 \r\nL 34.1875 11.53125 \r\nL 57.328125 72.90625 \r\nL 67.578125 72.90625 \r\nL 39.796875 0 \r\nz\r\n\" id=\"DejaVuSans-86\"/>\r\n        <path d=\"M 48.6875 27.296875 \r\nQ 48.6875 37.203125 44.609375 42.84375 \r\nQ 40.53125 48.484375 33.40625 48.484375 \r\nQ 26.265625 48.484375 22.1875 42.84375 \r\nQ 18.109375 37.203125 18.109375 27.296875 \r\nQ 18.109375 17.390625 22.1875 11.75 \r\nQ 26.265625 6.109375 33.40625 6.109375 \r\nQ 40.53125 6.109375 44.609375 11.75 \r\nQ 48.6875 17.390625 48.6875 27.296875 \r\nz\r\nM 18.109375 46.390625 \r\nQ 20.953125 51.265625 25.265625 53.625 \r\nQ 29.59375 56 35.59375 56 \r\nQ 45.5625 56 51.78125 48.09375 \r\nQ 58.015625 40.1875 58.015625 27.296875 \r\nQ 58.015625 14.40625 51.78125 6.484375 \r\nQ 45.5625 -1.421875 35.59375 -1.421875 \r\nQ 29.59375 -1.421875 25.265625 0.953125 \r\nQ 20.953125 3.328125 18.109375 8.203125 \r\nL 18.109375 0 \r\nL 9.078125 0 \r\nL 9.078125 75.984375 \r\nL 18.109375 75.984375 \r\nz\r\n\" id=\"DejaVuSans-98\"/>\r\n       </defs>\r\n       <use xlink:href=\"#DejaVuSans-86\"/>\r\n       <use x=\"60.658203\" xlink:href=\"#DejaVuSans-101\"/>\r\n       <use x=\"122.181641\" xlink:href=\"#DejaVuSans-103\"/>\r\n       <use x=\"185.658203\" xlink:href=\"#DejaVuSans-101\"/>\r\n       <use x=\"247.181641\" xlink:href=\"#DejaVuSans-116\"/>\r\n       <use x=\"286.390625\" xlink:href=\"#DejaVuSans-97\"/>\r\n       <use x=\"347.669922\" xlink:href=\"#DejaVuSans-98\"/>\r\n       <use x=\"411.146484\" xlink:href=\"#DejaVuSans-108\"/>\r\n       <use x=\"438.929688\" xlink:href=\"#DejaVuSans-101\"/>\r\n       <use x=\"500.453125\" xlink:href=\"#DejaVuSans-115\"/>\r\n       <use x=\"552.552734\" xlink:href=\"#DejaVuSans-32\"/>\r\n       <use x=\"584.339844\" xlink:href=\"#DejaVuSans-97\"/>\r\n       <use x=\"645.619141\" xlink:href=\"#DejaVuSans-110\"/>\r\n       <use x=\"708.998047\" xlink:href=\"#DejaVuSans-100\"/>\r\n       <use x=\"772.474609\" xlink:href=\"#DejaVuSans-32\"/>\r\n       <use x=\"804.261719\" xlink:href=\"#DejaVuSans-86\"/>\r\n       <use x=\"864.919922\" xlink:href=\"#DejaVuSans-101\"/>\r\n       <use x=\"926.443359\" xlink:href=\"#DejaVuSans-103\"/>\r\n       <use x=\"989.919922\" xlink:href=\"#DejaVuSans-101\"/>\r\n       <use x=\"1051.443359\" xlink:href=\"#DejaVuSans-116\"/>\r\n       <use x=\"1090.652344\" xlink:href=\"#DejaVuSans-97\"/>\r\n       <use x=\"1151.931641\" xlink:href=\"#DejaVuSans-98\"/>\r\n       <use x=\"1215.408203\" xlink:href=\"#DejaVuSans-108\"/>\r\n       <use x=\"1243.191406\" xlink:href=\"#DejaVuSans-101\"/>\r\n       <use x=\"1304.714844\" xlink:href=\"#DejaVuSans-32\"/>\r\n       <use x=\"1336.501953\" xlink:href=\"#DejaVuSans-80\"/>\r\n       <use x=\"1395.054688\" xlink:href=\"#DejaVuSans-114\"/>\r\n       <use x=\"1433.917969\" xlink:href=\"#DejaVuSans-111\"/>\r\n       <use x=\"1495.099609\" xlink:href=\"#DejaVuSans-100\"/>\r\n       <use x=\"1558.576172\" xlink:href=\"#DejaVuSans-117\"/>\r\n       <use x=\"1621.955078\" xlink:href=\"#DejaVuSans-99\"/>\r\n       <use x=\"1676.935547\" xlink:href=\"#DejaVuSans-116\"/>\r\n       <use x=\"1716.144531\" xlink:href=\"#DejaVuSans-115\"/>\r\n      </g>\r\n     </g>\r\n    </g>\r\n    <g id=\"ytick_6\">\r\n     <g id=\"line2d_12\">\r\n      <g>\r\n       <use style=\"stroke:#000000;stroke-width:0.8;\" x=\"204.70625\" xlink:href=\"#m1da2914a47\" y=\"191.921325\"/>\r\n      </g>\r\n     </g>\r\n     <g id=\"text_13\">\r\n      <!-- Baby Foods -->\r\n      <g transform=\"translate(140.0875 195.720544)scale(0.1 -0.1)\">\r\n       <defs>\r\n        <path d=\"M 32.171875 -5.078125 \r\nQ 28.375 -14.84375 24.75 -17.8125 \r\nQ 21.140625 -20.796875 15.09375 -20.796875 \r\nL 7.90625 -20.796875 \r\nL 7.90625 -13.28125 \r\nL 13.1875 -13.28125 \r\nQ 16.890625 -13.28125 18.9375 -11.515625 \r\nQ 21 -9.765625 23.484375 -3.21875 \r\nL 25.09375 0.875 \r\nL 2.984375 54.6875 \r\nL 12.5 54.6875 \r\nL 29.59375 11.921875 \r\nL 46.6875 54.6875 \r\nL 56.203125 54.6875 \r\nz\r\n\" id=\"DejaVuSans-121\"/>\r\n       </defs>\r\n       <use xlink:href=\"#DejaVuSans-66\"/>\r\n       <use x=\"68.603516\" xlink:href=\"#DejaVuSans-97\"/>\r\n       <use x=\"129.882812\" xlink:href=\"#DejaVuSans-98\"/>\r\n       <use x=\"193.359375\" xlink:href=\"#DejaVuSans-121\"/>\r\n       <use x=\"252.539062\" xlink:href=\"#DejaVuSans-32\"/>\r\n       <use x=\"284.326172\" xlink:href=\"#DejaVuSans-70\"/>\r\n       <use x=\"338.220703\" xlink:href=\"#DejaVuSans-111\"/>\r\n       <use x=\"399.402344\" xlink:href=\"#DejaVuSans-111\"/>\r\n       <use x=\"460.583984\" xlink:href=\"#DejaVuSans-100\"/>\r\n       <use x=\"524.060547\" xlink:href=\"#DejaVuSans-115\"/>\r\n      </g>\r\n     </g>\r\n    </g>\r\n    <g id=\"ytick_7\">\r\n     <g id=\"line2d_13\">\r\n      <g>\r\n       <use style=\"stroke:#000000;stroke-width:0.8;\" x=\"204.70625\" xlink:href=\"#m1da2914a47\" y=\"183.223725\"/>\r\n      </g>\r\n     </g>\r\n     <g id=\"text_14\">\r\n      <!-- Sweets -->\r\n      <g transform=\"translate(161.74375 187.022944)scale(0.1 -0.1)\">\r\n       <defs>\r\n        <path d=\"M 4.203125 54.6875 \r\nL 13.1875 54.6875 \r\nL 24.421875 12.015625 \r\nL 35.59375 54.6875 \r\nL 46.1875 54.6875 \r\nL 57.421875 12.015625 \r\nL 68.609375 54.6875 \r\nL 77.59375 54.6875 \r\nL 63.28125 0 \r\nL 52.6875 0 \r\nL 40.921875 44.828125 \r\nL 29.109375 0 \r\nL 18.5 0 \r\nz\r\n\" id=\"DejaVuSans-119\"/>\r\n       </defs>\r\n       <use xlink:href=\"#DejaVuSans-83\"/>\r\n       <use x=\"63.476562\" xlink:href=\"#DejaVuSans-119\"/>\r\n       <use x=\"145.263672\" xlink:href=\"#DejaVuSans-101\"/>\r\n       <use x=\"206.787109\" xlink:href=\"#DejaVuSans-101\"/>\r\n       <use x=\"268.310547\" xlink:href=\"#DejaVuSans-116\"/>\r\n       <use x=\"307.519531\" xlink:href=\"#DejaVuSans-115\"/>\r\n      </g>\r\n     </g>\r\n    </g>\r\n    <g id=\"ytick_8\">\r\n     <g id=\"line2d_14\">\r\n      <g>\r\n       <use style=\"stroke:#000000;stroke-width:0.8;\" x=\"204.70625\" xlink:href=\"#m1da2914a47\" y=\"174.526125\"/>\r\n      </g>\r\n     </g>\r\n     <g id=\"text_15\">\r\n      <!-- Meals, Entrees, and Sidedishes -->\r\n      <g transform=\"translate(42.4625 178.325344)scale(0.1 -0.1)\">\r\n       <defs>\r\n        <path d=\"M 9.8125 72.90625 \r\nL 24.515625 72.90625 \r\nL 43.109375 23.296875 \r\nL 61.8125 72.90625 \r\nL 76.515625 72.90625 \r\nL 76.515625 0 \r\nL 66.890625 0 \r\nL 66.890625 64.015625 \r\nL 48.09375 14.015625 \r\nL 38.1875 14.015625 \r\nL 19.390625 64.015625 \r\nL 19.390625 0 \r\nL 9.8125 0 \r\nz\r\n\" id=\"DejaVuSans-77\"/>\r\n        <path d=\"M 9.8125 72.90625 \r\nL 55.90625 72.90625 \r\nL 55.90625 64.59375 \r\nL 19.671875 64.59375 \r\nL 19.671875 43.015625 \r\nL 54.390625 43.015625 \r\nL 54.390625 34.71875 \r\nL 19.671875 34.71875 \r\nL 19.671875 8.296875 \r\nL 56.78125 8.296875 \r\nL 56.78125 0 \r\nL 9.8125 0 \r\nz\r\n\" id=\"DejaVuSans-69\"/>\r\n        <path d=\"M 54.890625 33.015625 \r\nL 54.890625 0 \r\nL 45.90625 0 \r\nL 45.90625 32.71875 \r\nQ 45.90625 40.484375 42.875 44.328125 \r\nQ 39.84375 48.1875 33.796875 48.1875 \r\nQ 26.515625 48.1875 22.3125 43.546875 \r\nQ 18.109375 38.921875 18.109375 30.90625 \r\nL 18.109375 0 \r\nL 9.078125 0 \r\nL 9.078125 75.984375 \r\nL 18.109375 75.984375 \r\nL 18.109375 46.1875 \r\nQ 21.34375 51.125 25.703125 53.5625 \r\nQ 30.078125 56 35.796875 56 \r\nQ 45.21875 56 50.046875 50.171875 \r\nQ 54.890625 44.34375 54.890625 33.015625 \r\nz\r\n\" id=\"DejaVuSans-104\"/>\r\n       </defs>\r\n       <use xlink:href=\"#DejaVuSans-77\"/>\r\n       <use x=\"86.279297\" xlink:href=\"#DejaVuSans-101\"/>\r\n       <use x=\"147.802734\" xlink:href=\"#DejaVuSans-97\"/>\r\n       <use x=\"209.082031\" xlink:href=\"#DejaVuSans-108\"/>\r\n       <use x=\"236.865234\" xlink:href=\"#DejaVuSans-115\"/>\r\n       <use x=\"288.964844\" xlink:href=\"#DejaVuSans-44\"/>\r\n       <use x=\"320.751953\" xlink:href=\"#DejaVuSans-32\"/>\r\n       <use x=\"352.539062\" xlink:href=\"#DejaVuSans-69\"/>\r\n       <use x=\"415.722656\" xlink:href=\"#DejaVuSans-110\"/>\r\n       <use x=\"479.101562\" xlink:href=\"#DejaVuSans-116\"/>\r\n       <use x=\"518.310547\" xlink:href=\"#DejaVuSans-114\"/>\r\n       <use x=\"557.173828\" xlink:href=\"#DejaVuSans-101\"/>\r\n       <use x=\"618.697266\" xlink:href=\"#DejaVuSans-101\"/>\r\n       <use x=\"680.220703\" xlink:href=\"#DejaVuSans-115\"/>\r\n       <use x=\"732.320312\" xlink:href=\"#DejaVuSans-44\"/>\r\n       <use x=\"764.107422\" xlink:href=\"#DejaVuSans-32\"/>\r\n       <use x=\"795.894531\" xlink:href=\"#DejaVuSans-97\"/>\r\n       <use x=\"857.173828\" xlink:href=\"#DejaVuSans-110\"/>\r\n       <use x=\"920.552734\" xlink:href=\"#DejaVuSans-100\"/>\r\n       <use x=\"984.029297\" xlink:href=\"#DejaVuSans-32\"/>\r\n       <use x=\"1015.816406\" xlink:href=\"#DejaVuSans-83\"/>\r\n       <use x=\"1079.292969\" xlink:href=\"#DejaVuSans-105\"/>\r\n       <use x=\"1107.076172\" xlink:href=\"#DejaVuSans-100\"/>\r\n       <use x=\"1170.552734\" xlink:href=\"#DejaVuSans-101\"/>\r\n       <use x=\"1232.076172\" xlink:href=\"#DejaVuSans-100\"/>\r\n       <use x=\"1295.552734\" xlink:href=\"#DejaVuSans-105\"/>\r\n       <use x=\"1323.335938\" xlink:href=\"#DejaVuSans-115\"/>\r\n       <use x=\"1375.435547\" xlink:href=\"#DejaVuSans-104\"/>\r\n       <use x=\"1438.814453\" xlink:href=\"#DejaVuSans-101\"/>\r\n       <use x=\"1500.337891\" xlink:href=\"#DejaVuSans-115\"/>\r\n      </g>\r\n     </g>\r\n    </g>\r\n    <g id=\"ytick_9\">\r\n     <g id=\"line2d_15\">\r\n      <g>\r\n       <use style=\"stroke:#000000;stroke-width:0.8;\" x=\"204.70625\" xlink:href=\"#m1da2914a47\" y=\"165.828525\"/>\r\n      </g>\r\n     </g>\r\n     <g id=\"text_16\">\r\n      <!-- Baked Products -->\r\n      <g transform=\"translate(120.435938 169.627744)scale(0.1 -0.1)\">\r\n       <defs>\r\n        <path d=\"M 9.078125 75.984375 \r\nL 18.109375 75.984375 \r\nL 18.109375 31.109375 \r\nL 44.921875 54.6875 \r\nL 56.390625 54.6875 \r\nL 27.390625 29.109375 \r\nL 57.625 0 \r\nL 45.90625 0 \r\nL 18.109375 26.703125 \r\nL 18.109375 0 \r\nL 9.078125 0 \r\nz\r\n\" id=\"DejaVuSans-107\"/>\r\n       </defs>\r\n       <use xlink:href=\"#DejaVuSans-66\"/>\r\n       <use x=\"68.603516\" xlink:href=\"#DejaVuSans-97\"/>\r\n       <use x=\"129.882812\" xlink:href=\"#DejaVuSans-107\"/>\r\n       <use x=\"184.167969\" xlink:href=\"#DejaVuSans-101\"/>\r\n       <use x=\"245.691406\" xlink:href=\"#DejaVuSans-100\"/>\r\n       <use x=\"309.167969\" xlink:href=\"#DejaVuSans-32\"/>\r\n       <use x=\"340.955078\" xlink:href=\"#DejaVuSans-80\"/>\r\n       <use x=\"399.507812\" xlink:href=\"#DejaVuSans-114\"/>\r\n       <use x=\"438.371094\" xlink:href=\"#DejaVuSans-111\"/>\r\n       <use x=\"499.552734\" xlink:href=\"#DejaVuSans-100\"/>\r\n       <use x=\"563.029297\" xlink:href=\"#DejaVuSans-117\"/>\r\n       <use x=\"626.408203\" xlink:href=\"#DejaVuSans-99\"/>\r\n       <use x=\"681.388672\" xlink:href=\"#DejaVuSans-116\"/>\r\n       <use x=\"720.597656\" xlink:href=\"#DejaVuSans-115\"/>\r\n      </g>\r\n     </g>\r\n    </g>\r\n    <g id=\"ytick_10\">\r\n     <g id=\"line2d_16\">\r\n      <g>\r\n       <use style=\"stroke:#000000;stroke-width:0.8;\" x=\"204.70625\" xlink:href=\"#m1da2914a47\" y=\"157.130925\"/>\r\n      </g>\r\n     </g>\r\n     <g id=\"text_17\">\r\n      <!-- Breakfast Cereals -->\r\n      <g transform=\"translate(109.640625 160.930144)scale(0.1 -0.1)\">\r\n       <defs>\r\n        <path d=\"M 37.109375 75.984375 \r\nL 37.109375 68.5 \r\nL 28.515625 68.5 \r\nQ 23.6875 68.5 21.796875 66.546875 \r\nQ 19.921875 64.59375 19.921875 59.515625 \r\nL 19.921875 54.6875 \r\nL 34.71875 54.6875 \r\nL 34.71875 47.703125 \r\nL 19.921875 47.703125 \r\nL 19.921875 0 \r\nL 10.890625 0 \r\nL 10.890625 47.703125 \r\nL 2.296875 47.703125 \r\nL 2.296875 54.6875 \r\nL 10.890625 54.6875 \r\nL 10.890625 58.5 \r\nQ 10.890625 67.625 15.140625 71.796875 \r\nQ 19.390625 75.984375 28.609375 75.984375 \r\nz\r\n\" id=\"DejaVuSans-102\"/>\r\n        <path d=\"M 64.40625 67.28125 \r\nL 64.40625 56.890625 \r\nQ 59.421875 61.53125 53.78125 63.8125 \r\nQ 48.140625 66.109375 41.796875 66.109375 \r\nQ 29.296875 66.109375 22.65625 58.46875 \r\nQ 16.015625 50.828125 16.015625 36.375 \r\nQ 16.015625 21.96875 22.65625 14.328125 \r\nQ 29.296875 6.6875 41.796875 6.6875 \r\nQ 48.140625 6.6875 53.78125 8.984375 \r\nQ 59.421875 11.28125 64.40625 15.921875 \r\nL 64.40625 5.609375 \r\nQ 59.234375 2.09375 53.4375 0.328125 \r\nQ 47.65625 -1.421875 41.21875 -1.421875 \r\nQ 24.65625 -1.421875 15.125 8.703125 \r\nQ 5.609375 18.84375 5.609375 36.375 \r\nQ 5.609375 53.953125 15.125 64.078125 \r\nQ 24.65625 74.21875 41.21875 74.21875 \r\nQ 47.75 74.21875 53.53125 72.484375 \r\nQ 59.328125 70.75 64.40625 67.28125 \r\nz\r\n\" id=\"DejaVuSans-67\"/>\r\n       </defs>\r\n       <use xlink:href=\"#DejaVuSans-66\"/>\r\n       <use x=\"68.603516\" xlink:href=\"#DejaVuSans-114\"/>\r\n       <use x=\"107.466797\" xlink:href=\"#DejaVuSans-101\"/>\r\n       <use x=\"168.990234\" xlink:href=\"#DejaVuSans-97\"/>\r\n       <use x=\"230.269531\" xlink:href=\"#DejaVuSans-107\"/>\r\n       <use x=\"288.179688\" xlink:href=\"#DejaVuSans-102\"/>\r\n       <use x=\"323.384766\" xlink:href=\"#DejaVuSans-97\"/>\r\n       <use x=\"384.664062\" xlink:href=\"#DejaVuSans-115\"/>\r\n       <use x=\"436.763672\" xlink:href=\"#DejaVuSans-116\"/>\r\n       <use x=\"475.972656\" xlink:href=\"#DejaVuSans-32\"/>\r\n       <use x=\"507.759766\" xlink:href=\"#DejaVuSans-67\"/>\r\n       <use x=\"577.583984\" xlink:href=\"#DejaVuSans-101\"/>\r\n       <use x=\"639.107422\" xlink:href=\"#DejaVuSans-114\"/>\r\n       <use x=\"677.970703\" xlink:href=\"#DejaVuSans-101\"/>\r\n       <use x=\"739.494141\" xlink:href=\"#DejaVuSans-97\"/>\r\n       <use x=\"800.773438\" xlink:href=\"#DejaVuSans-108\"/>\r\n       <use x=\"828.556641\" xlink:href=\"#DejaVuSans-115\"/>\r\n      </g>\r\n     </g>\r\n    </g>\r\n    <g id=\"ytick_11\">\r\n     <g id=\"line2d_17\">\r\n      <g>\r\n       <use style=\"stroke:#000000;stroke-width:0.8;\" x=\"204.70625\" xlink:href=\"#m1da2914a47\" y=\"148.433325\"/>\r\n      </g>\r\n     </g>\r\n     <g id=\"text_18\">\r\n      <!-- Cereal Grains and Pasta -->\r\n      <g transform=\"translate(77.998438 152.232544)scale(0.1 -0.1)\">\r\n       <use xlink:href=\"#DejaVuSans-67\"/>\r\n       <use x=\"69.824219\" xlink:href=\"#DejaVuSans-101\"/>\r\n       <use x=\"131.347656\" xlink:href=\"#DejaVuSans-114\"/>\r\n       <use x=\"170.210938\" xlink:href=\"#DejaVuSans-101\"/>\r\n       <use x=\"231.734375\" xlink:href=\"#DejaVuSans-97\"/>\r\n       <use x=\"293.013672\" xlink:href=\"#DejaVuSans-108\"/>\r\n       <use x=\"320.796875\" xlink:href=\"#DejaVuSans-32\"/>\r\n       <use x=\"352.583984\" xlink:href=\"#DejaVuSans-71\"/>\r\n       <use x=\"430.074219\" xlink:href=\"#DejaVuSans-114\"/>\r\n       <use x=\"471.1875\" xlink:href=\"#DejaVuSans-97\"/>\r\n       <use x=\"532.466797\" xlink:href=\"#DejaVuSans-105\"/>\r\n       <use x=\"560.25\" xlink:href=\"#DejaVuSans-110\"/>\r\n       <use x=\"623.628906\" xlink:href=\"#DejaVuSans-115\"/>\r\n       <use x=\"675.728516\" xlink:href=\"#DejaVuSans-32\"/>\r\n       <use x=\"707.515625\" xlink:href=\"#DejaVuSans-97\"/>\r\n       <use x=\"768.794922\" xlink:href=\"#DejaVuSans-110\"/>\r\n       <use x=\"832.173828\" xlink:href=\"#DejaVuSans-100\"/>\r\n       <use x=\"895.650391\" xlink:href=\"#DejaVuSans-32\"/>\r\n       <use x=\"927.4375\" xlink:href=\"#DejaVuSans-80\"/>\r\n       <use x=\"983.240234\" xlink:href=\"#DejaVuSans-97\"/>\r\n       <use x=\"1044.519531\" xlink:href=\"#DejaVuSans-115\"/>\r\n       <use x=\"1096.619141\" xlink:href=\"#DejaVuSans-116\"/>\r\n       <use x=\"1135.828125\" xlink:href=\"#DejaVuSans-97\"/>\r\n      </g>\r\n     </g>\r\n    </g>\r\n    <g id=\"ytick_12\">\r\n     <g id=\"line2d_18\">\r\n      <g>\r\n       <use style=\"stroke:#000000;stroke-width:0.8;\" x=\"204.70625\" xlink:href=\"#m1da2914a47\" y=\"139.735725\"/>\r\n      </g>\r\n     </g>\r\n     <g id=\"text_19\">\r\n      <!-- Snacks -->\r\n      <g transform=\"translate(162.39375 143.534944)scale(0.1 -0.1)\">\r\n       <use xlink:href=\"#DejaVuSans-83\"/>\r\n       <use x=\"63.476562\" xlink:href=\"#DejaVuSans-110\"/>\r\n       <use x=\"126.855469\" xlink:href=\"#DejaVuSans-97\"/>\r\n       <use x=\"188.134766\" xlink:href=\"#DejaVuSans-99\"/>\r\n       <use x=\"243.115234\" xlink:href=\"#DejaVuSans-107\"/>\r\n       <use x=\"301.025391\" xlink:href=\"#DejaVuSans-115\"/>\r\n      </g>\r\n     </g>\r\n    </g>\r\n    <g id=\"ytick_13\">\r\n     <g id=\"line2d_19\">\r\n      <g>\r\n       <use style=\"stroke:#000000;stroke-width:0.8;\" x=\"204.70625\" xlink:href=\"#m1da2914a47\" y=\"131.038125\"/>\r\n      </g>\r\n     </g>\r\n     <g id=\"text_20\">\r\n      <!-- Restaurant Foods -->\r\n      <g transform=\"translate(110.6 134.837344)scale(0.1 -0.1)\">\r\n       <defs>\r\n        <path d=\"M 44.390625 34.1875 \r\nQ 47.5625 33.109375 50.5625 29.59375 \r\nQ 53.5625 26.078125 56.59375 19.921875 \r\nL 66.609375 0 \r\nL 56 0 \r\nL 46.6875 18.703125 \r\nQ 43.0625 26.03125 39.671875 28.421875 \r\nQ 36.28125 30.8125 30.421875 30.8125 \r\nL 19.671875 30.8125 \r\nL 19.671875 0 \r\nL 9.8125 0 \r\nL 9.8125 72.90625 \r\nL 32.078125 72.90625 \r\nQ 44.578125 72.90625 50.734375 67.671875 \r\nQ 56.890625 62.453125 56.890625 51.90625 \r\nQ 56.890625 45.015625 53.6875 40.46875 \r\nQ 50.484375 35.9375 44.390625 34.1875 \r\nz\r\nM 19.671875 64.796875 \r\nL 19.671875 38.921875 \r\nL 32.078125 38.921875 \r\nQ 39.203125 38.921875 42.84375 42.21875 \r\nQ 46.484375 45.515625 46.484375 51.90625 \r\nQ 46.484375 58.296875 42.84375 61.546875 \r\nQ 39.203125 64.796875 32.078125 64.796875 \r\nz\r\n\" id=\"DejaVuSans-82\"/>\r\n       </defs>\r\n       <use xlink:href=\"#DejaVuSans-82\"/>\r\n       <use x=\"64.982422\" xlink:href=\"#DejaVuSans-101\"/>\r\n       <use x=\"126.505859\" xlink:href=\"#DejaVuSans-115\"/>\r\n       <use x=\"178.605469\" xlink:href=\"#DejaVuSans-116\"/>\r\n       <use x=\"217.814453\" xlink:href=\"#DejaVuSans-97\"/>\r\n       <use x=\"279.09375\" xlink:href=\"#DejaVuSans-117\"/>\r\n       <use x=\"342.472656\" xlink:href=\"#DejaVuSans-114\"/>\r\n       <use x=\"383.585938\" xlink:href=\"#DejaVuSans-97\"/>\r\n       <use x=\"444.865234\" xlink:href=\"#DejaVuSans-110\"/>\r\n       <use x=\"508.244141\" xlink:href=\"#DejaVuSans-116\"/>\r\n       <use x=\"547.453125\" xlink:href=\"#DejaVuSans-32\"/>\r\n       <use x=\"579.240234\" xlink:href=\"#DejaVuSans-70\"/>\r\n       <use x=\"633.134766\" xlink:href=\"#DejaVuSans-111\"/>\r\n       <use x=\"694.316406\" xlink:href=\"#DejaVuSans-111\"/>\r\n       <use x=\"755.498047\" xlink:href=\"#DejaVuSans-100\"/>\r\n       <use x=\"818.974609\" xlink:href=\"#DejaVuSans-115\"/>\r\n      </g>\r\n     </g>\r\n    </g>\r\n    <g id=\"ytick_14\">\r\n     <g id=\"line2d_20\">\r\n      <g>\r\n       <use style=\"stroke:#000000;stroke-width:0.8;\" x=\"204.70625\" xlink:href=\"#m1da2914a47\" y=\"122.340525\"/>\r\n      </g>\r\n     </g>\r\n     <g id=\"text_21\">\r\n      <!-- Fast Foods -->\r\n      <g transform=\"translate(145.246875 126.139744)scale(0.1 -0.1)\">\r\n       <use xlink:href=\"#DejaVuSans-70\"/>\r\n       <use x=\"48.394531\" xlink:href=\"#DejaVuSans-97\"/>\r\n       <use x=\"109.673828\" xlink:href=\"#DejaVuSans-115\"/>\r\n       <use x=\"161.773438\" xlink:href=\"#DejaVuSans-116\"/>\r\n       <use x=\"200.982422\" xlink:href=\"#DejaVuSans-32\"/>\r\n       <use x=\"232.769531\" xlink:href=\"#DejaVuSans-70\"/>\r\n       <use x=\"286.664062\" xlink:href=\"#DejaVuSans-111\"/>\r\n       <use x=\"347.845703\" xlink:href=\"#DejaVuSans-111\"/>\r\n       <use x=\"409.027344\" xlink:href=\"#DejaVuSans-100\"/>\r\n       <use x=\"472.503906\" xlink:href=\"#DejaVuSans-115\"/>\r\n      </g>\r\n     </g>\r\n    </g>\r\n    <g id=\"ytick_15\">\r\n     <g id=\"line2d_21\">\r\n      <g>\r\n       <use style=\"stroke:#000000;stroke-width:0.8;\" x=\"204.70625\" xlink:href=\"#m1da2914a47\" y=\"113.642925\"/>\r\n      </g>\r\n     </g>\r\n     <g id=\"text_22\">\r\n      <!-- Spices and Herbs -->\r\n      <g transform=\"translate(110.857813 117.442144)scale(0.1 -0.1)\">\r\n       <defs>\r\n        <path d=\"M 9.8125 72.90625 \r\nL 19.671875 72.90625 \r\nL 19.671875 43.015625 \r\nL 55.515625 43.015625 \r\nL 55.515625 72.90625 \r\nL 65.375 72.90625 \r\nL 65.375 0 \r\nL 55.515625 0 \r\nL 55.515625 34.71875 \r\nL 19.671875 34.71875 \r\nL 19.671875 0 \r\nL 9.8125 0 \r\nz\r\n\" id=\"DejaVuSans-72\"/>\r\n       </defs>\r\n       <use xlink:href=\"#DejaVuSans-83\"/>\r\n       <use x=\"63.476562\" xlink:href=\"#DejaVuSans-112\"/>\r\n       <use x=\"126.953125\" xlink:href=\"#DejaVuSans-105\"/>\r\n       <use x=\"154.736328\" xlink:href=\"#DejaVuSans-99\"/>\r\n       <use x=\"209.716797\" xlink:href=\"#DejaVuSans-101\"/>\r\n       <use x=\"271.240234\" xlink:href=\"#DejaVuSans-115\"/>\r\n       <use x=\"323.339844\" xlink:href=\"#DejaVuSans-32\"/>\r\n       <use x=\"355.126953\" xlink:href=\"#DejaVuSans-97\"/>\r\n       <use x=\"416.40625\" xlink:href=\"#DejaVuSans-110\"/>\r\n       <use x=\"479.785156\" xlink:href=\"#DejaVuSans-100\"/>\r\n       <use x=\"543.261719\" xlink:href=\"#DejaVuSans-32\"/>\r\n       <use x=\"575.048828\" xlink:href=\"#DejaVuSans-72\"/>\r\n       <use x=\"650.244141\" xlink:href=\"#DejaVuSans-101\"/>\r\n       <use x=\"711.767578\" xlink:href=\"#DejaVuSans-114\"/>\r\n       <use x=\"752.880859\" xlink:href=\"#DejaVuSans-98\"/>\r\n       <use x=\"816.357422\" xlink:href=\"#DejaVuSans-115\"/>\r\n      </g>\r\n     </g>\r\n    </g>\r\n    <g id=\"ytick_16\">\r\n     <g id=\"line2d_22\">\r\n      <g>\r\n       <use style=\"stroke:#000000;stroke-width:0.8;\" x=\"204.70625\" xlink:href=\"#m1da2914a47\" y=\"104.945325\"/>\r\n      </g>\r\n     </g>\r\n     <g id=\"text_23\">\r\n      <!-- Dairy and Egg Products -->\r\n      <g transform=\"translate(80.532813 108.744544)scale(0.1 -0.1)\">\r\n       <defs>\r\n        <path d=\"M 19.671875 64.796875 \r\nL 19.671875 8.109375 \r\nL 31.59375 8.109375 \r\nQ 46.6875 8.109375 53.6875 14.9375 \r\nQ 60.6875 21.78125 60.6875 36.53125 \r\nQ 60.6875 51.171875 53.6875 57.984375 \r\nQ 46.6875 64.796875 31.59375 64.796875 \r\nz\r\nM 9.8125 72.90625 \r\nL 30.078125 72.90625 \r\nQ 51.265625 72.90625 61.171875 64.09375 \r\nQ 71.09375 55.28125 71.09375 36.53125 \r\nQ 71.09375 17.671875 61.125 8.828125 \r\nQ 51.171875 0 30.078125 0 \r\nL 9.8125 0 \r\nz\r\n\" id=\"DejaVuSans-68\"/>\r\n       </defs>\r\n       <use xlink:href=\"#DejaVuSans-68\"/>\r\n       <use x=\"77.001953\" xlink:href=\"#DejaVuSans-97\"/>\r\n       <use x=\"138.28125\" xlink:href=\"#DejaVuSans-105\"/>\r\n       <use x=\"166.064453\" xlink:href=\"#DejaVuSans-114\"/>\r\n       <use x=\"207.177734\" xlink:href=\"#DejaVuSans-121\"/>\r\n       <use x=\"266.357422\" xlink:href=\"#DejaVuSans-32\"/>\r\n       <use x=\"298.144531\" xlink:href=\"#DejaVuSans-97\"/>\r\n       <use x=\"359.423828\" xlink:href=\"#DejaVuSans-110\"/>\r\n       <use x=\"422.802734\" xlink:href=\"#DejaVuSans-100\"/>\r\n       <use x=\"486.279297\" xlink:href=\"#DejaVuSans-32\"/>\r\n       <use x=\"518.066406\" xlink:href=\"#DejaVuSans-69\"/>\r\n       <use x=\"581.25\" xlink:href=\"#DejaVuSans-103\"/>\r\n       <use x=\"644.726562\" xlink:href=\"#DejaVuSans-103\"/>\r\n       <use x=\"708.203125\" xlink:href=\"#DejaVuSans-32\"/>\r\n       <use x=\"739.990234\" xlink:href=\"#DejaVuSans-80\"/>\r\n       <use x=\"798.542969\" xlink:href=\"#DejaVuSans-114\"/>\r\n       <use x=\"837.40625\" xlink:href=\"#DejaVuSans-111\"/>\r\n       <use x=\"898.587891\" xlink:href=\"#DejaVuSans-100\"/>\r\n       <use x=\"962.064453\" xlink:href=\"#DejaVuSans-117\"/>\r\n       <use x=\"1025.443359\" xlink:href=\"#DejaVuSans-99\"/>\r\n       <use x=\"1080.423828\" xlink:href=\"#DejaVuSans-116\"/>\r\n       <use x=\"1119.632812\" xlink:href=\"#DejaVuSans-115\"/>\r\n      </g>\r\n     </g>\r\n    </g>\r\n    <g id=\"ytick_17\">\r\n     <g id=\"line2d_23\">\r\n      <g>\r\n       <use style=\"stroke:#000000;stroke-width:0.8;\" x=\"204.70625\" xlink:href=\"#m1da2914a47\" y=\"96.247725\"/>\r\n      </g>\r\n     </g>\r\n     <g id=\"text_24\">\r\n      <!-- Legumes and Legume Products -->\r\n      <g transform=\"translate(40.715625 100.046944)scale(0.1 -0.1)\">\r\n       <defs>\r\n        <path d=\"M 9.8125 72.90625 \r\nL 19.671875 72.90625 \r\nL 19.671875 8.296875 \r\nL 55.171875 8.296875 \r\nL 55.171875 0 \r\nL 9.8125 0 \r\nz\r\n\" id=\"DejaVuSans-76\"/>\r\n        <path d=\"M 52 44.1875 \r\nQ 55.375 50.25 60.0625 53.125 \r\nQ 64.75 56 71.09375 56 \r\nQ 79.640625 56 84.28125 50.015625 \r\nQ 88.921875 44.046875 88.921875 33.015625 \r\nL 88.921875 0 \r\nL 79.890625 0 \r\nL 79.890625 32.71875 \r\nQ 79.890625 40.578125 77.09375 44.375 \r\nQ 74.3125 48.1875 68.609375 48.1875 \r\nQ 61.625 48.1875 57.5625 43.546875 \r\nQ 53.515625 38.921875 53.515625 30.90625 \r\nL 53.515625 0 \r\nL 44.484375 0 \r\nL 44.484375 32.71875 \r\nQ 44.484375 40.625 41.703125 44.40625 \r\nQ 38.921875 48.1875 33.109375 48.1875 \r\nQ 26.21875 48.1875 22.15625 43.53125 \r\nQ 18.109375 38.875 18.109375 30.90625 \r\nL 18.109375 0 \r\nL 9.078125 0 \r\nL 9.078125 54.6875 \r\nL 18.109375 54.6875 \r\nL 18.109375 46.1875 \r\nQ 21.1875 51.21875 25.484375 53.609375 \r\nQ 29.78125 56 35.6875 56 \r\nQ 41.65625 56 45.828125 52.96875 \r\nQ 50 49.953125 52 44.1875 \r\nz\r\n\" id=\"DejaVuSans-109\"/>\r\n       </defs>\r\n       <use xlink:href=\"#DejaVuSans-76\"/>\r\n       <use x=\"53.962891\" xlink:href=\"#DejaVuSans-101\"/>\r\n       <use x=\"115.486328\" xlink:href=\"#DejaVuSans-103\"/>\r\n       <use x=\"178.962891\" xlink:href=\"#DejaVuSans-117\"/>\r\n       <use x=\"242.341797\" xlink:href=\"#DejaVuSans-109\"/>\r\n       <use x=\"339.753906\" xlink:href=\"#DejaVuSans-101\"/>\r\n       <use x=\"401.277344\" xlink:href=\"#DejaVuSans-115\"/>\r\n       <use x=\"453.376953\" xlink:href=\"#DejaVuSans-32\"/>\r\n       <use x=\"485.164062\" xlink:href=\"#DejaVuSans-97\"/>\r\n       <use x=\"546.443359\" xlink:href=\"#DejaVuSans-110\"/>\r\n       <use x=\"609.822266\" xlink:href=\"#DejaVuSans-100\"/>\r\n       <use x=\"673.298828\" xlink:href=\"#DejaVuSans-32\"/>\r\n       <use x=\"705.085938\" xlink:href=\"#DejaVuSans-76\"/>\r\n       <use x=\"759.048828\" xlink:href=\"#DejaVuSans-101\"/>\r\n       <use x=\"820.572266\" xlink:href=\"#DejaVuSans-103\"/>\r\n       <use x=\"884.048828\" xlink:href=\"#DejaVuSans-117\"/>\r\n       <use x=\"947.427734\" xlink:href=\"#DejaVuSans-109\"/>\r\n       <use x=\"1044.839844\" xlink:href=\"#DejaVuSans-101\"/>\r\n       <use x=\"1106.363281\" xlink:href=\"#DejaVuSans-32\"/>\r\n       <use x=\"1138.150391\" xlink:href=\"#DejaVuSans-80\"/>\r\n       <use x=\"1196.703125\" xlink:href=\"#DejaVuSans-114\"/>\r\n       <use x=\"1235.566406\" xlink:href=\"#DejaVuSans-111\"/>\r\n       <use x=\"1296.748047\" xlink:href=\"#DejaVuSans-100\"/>\r\n       <use x=\"1360.224609\" xlink:href=\"#DejaVuSans-117\"/>\r\n       <use x=\"1423.603516\" xlink:href=\"#DejaVuSans-99\"/>\r\n       <use x=\"1478.583984\" xlink:href=\"#DejaVuSans-116\"/>\r\n       <use x=\"1517.792969\" xlink:href=\"#DejaVuSans-115\"/>\r\n      </g>\r\n     </g>\r\n    </g>\r\n    <g id=\"ytick_18\">\r\n     <g id=\"line2d_24\">\r\n      <g>\r\n       <use style=\"stroke:#000000;stroke-width:0.8;\" x=\"204.70625\" xlink:href=\"#m1da2914a47\" y=\"87.550125\"/>\r\n      </g>\r\n     </g>\r\n     <g id=\"text_25\">\r\n      <!-- Nut and Seed Products -->\r\n      <g transform=\"translate(83.442188 91.349344)scale(0.1 -0.1)\">\r\n       <defs>\r\n        <path d=\"M 9.8125 72.90625 \r\nL 23.09375 72.90625 \r\nL 55.421875 11.921875 \r\nL 55.421875 72.90625 \r\nL 64.984375 72.90625 \r\nL 64.984375 0 \r\nL 51.703125 0 \r\nL 19.390625 60.984375 \r\nL 19.390625 0 \r\nL 9.8125 0 \r\nz\r\n\" id=\"DejaVuSans-78\"/>\r\n       </defs>\r\n       <use xlink:href=\"#DejaVuSans-78\"/>\r\n       <use x=\"74.804688\" xlink:href=\"#DejaVuSans-117\"/>\r\n       <use x=\"138.183594\" xlink:href=\"#DejaVuSans-116\"/>\r\n       <use x=\"177.392578\" xlink:href=\"#DejaVuSans-32\"/>\r\n       <use x=\"209.179688\" xlink:href=\"#DejaVuSans-97\"/>\r\n       <use x=\"270.458984\" xlink:href=\"#DejaVuSans-110\"/>\r\n       <use x=\"333.837891\" xlink:href=\"#DejaVuSans-100\"/>\r\n       <use x=\"397.314453\" xlink:href=\"#DejaVuSans-32\"/>\r\n       <use x=\"429.101562\" xlink:href=\"#DejaVuSans-83\"/>\r\n       <use x=\"492.578125\" xlink:href=\"#DejaVuSans-101\"/>\r\n       <use x=\"554.101562\" xlink:href=\"#DejaVuSans-101\"/>\r\n       <use x=\"615.625\" xlink:href=\"#DejaVuSans-100\"/>\r\n       <use x=\"679.101562\" xlink:href=\"#DejaVuSans-32\"/>\r\n       <use x=\"710.888672\" xlink:href=\"#DejaVuSans-80\"/>\r\n       <use x=\"769.441406\" xlink:href=\"#DejaVuSans-114\"/>\r\n       <use x=\"808.304688\" xlink:href=\"#DejaVuSans-111\"/>\r\n       <use x=\"869.486328\" xlink:href=\"#DejaVuSans-100\"/>\r\n       <use x=\"932.962891\" xlink:href=\"#DejaVuSans-117\"/>\r\n       <use x=\"996.341797\" xlink:href=\"#DejaVuSans-99\"/>\r\n       <use x=\"1051.322266\" xlink:href=\"#DejaVuSans-116\"/>\r\n       <use x=\"1090.53125\" xlink:href=\"#DejaVuSans-115\"/>\r\n      </g>\r\n     </g>\r\n    </g>\r\n    <g id=\"ytick_19\">\r\n     <g id=\"line2d_25\">\r\n      <g>\r\n       <use style=\"stroke:#000000;stroke-width:0.8;\" x=\"204.70625\" xlink:href=\"#m1da2914a47\" y=\"78.852525\"/>\r\n      </g>\r\n     </g>\r\n     <g id=\"text_26\">\r\n      <!-- Sausages and Luncheon Meats -->\r\n      <g transform=\"translate(42.939063 82.651744)scale(0.1 -0.1)\">\r\n       <use xlink:href=\"#DejaVuSans-83\"/>\r\n       <use x=\"63.476562\" xlink:href=\"#DejaVuSans-97\"/>\r\n       <use x=\"124.755859\" xlink:href=\"#DejaVuSans-117\"/>\r\n       <use x=\"188.134766\" xlink:href=\"#DejaVuSans-115\"/>\r\n       <use x=\"240.234375\" xlink:href=\"#DejaVuSans-97\"/>\r\n       <use x=\"301.513672\" xlink:href=\"#DejaVuSans-103\"/>\r\n       <use x=\"364.990234\" xlink:href=\"#DejaVuSans-101\"/>\r\n       <use x=\"426.513672\" xlink:href=\"#DejaVuSans-115\"/>\r\n       <use x=\"478.613281\" xlink:href=\"#DejaVuSans-32\"/>\r\n       <use x=\"510.400391\" xlink:href=\"#DejaVuSans-97\"/>\r\n       <use x=\"571.679688\" xlink:href=\"#DejaVuSans-110\"/>\r\n       <use x=\"635.058594\" xlink:href=\"#DejaVuSans-100\"/>\r\n       <use x=\"698.535156\" xlink:href=\"#DejaVuSans-32\"/>\r\n       <use x=\"730.322266\" xlink:href=\"#DejaVuSans-76\"/>\r\n       <use x=\"784.285156\" xlink:href=\"#DejaVuSans-117\"/>\r\n       <use x=\"847.664062\" xlink:href=\"#DejaVuSans-110\"/>\r\n       <use x=\"911.042969\" xlink:href=\"#DejaVuSans-99\"/>\r\n       <use x=\"966.023438\" xlink:href=\"#DejaVuSans-104\"/>\r\n       <use x=\"1029.402344\" xlink:href=\"#DejaVuSans-101\"/>\r\n       <use x=\"1090.925781\" xlink:href=\"#DejaVuSans-111\"/>\r\n       <use x=\"1152.107422\" xlink:href=\"#DejaVuSans-110\"/>\r\n       <use x=\"1215.486328\" xlink:href=\"#DejaVuSans-32\"/>\r\n       <use x=\"1247.273438\" xlink:href=\"#DejaVuSans-77\"/>\r\n       <use x=\"1333.552734\" xlink:href=\"#DejaVuSans-101\"/>\r\n       <use x=\"1395.076172\" xlink:href=\"#DejaVuSans-97\"/>\r\n       <use x=\"1456.355469\" xlink:href=\"#DejaVuSans-116\"/>\r\n       <use x=\"1495.564453\" xlink:href=\"#DejaVuSans-115\"/>\r\n      </g>\r\n     </g>\r\n    </g>\r\n    <g id=\"ytick_20\">\r\n     <g id=\"line2d_26\">\r\n      <g>\r\n       <use style=\"stroke:#000000;stroke-width:0.8;\" x=\"204.70625\" xlink:href=\"#m1da2914a47\" y=\"70.154925\"/>\r\n      </g>\r\n     </g>\r\n     <g id=\"text_27\">\r\n      <!-- Ethnic Foods -->\r\n      <g transform=\"translate(134.153125 73.954144)scale(0.1 -0.1)\">\r\n       <use xlink:href=\"#DejaVuSans-69\"/>\r\n       <use x=\"63.183594\" xlink:href=\"#DejaVuSans-116\"/>\r\n       <use x=\"102.392578\" xlink:href=\"#DejaVuSans-104\"/>\r\n       <use x=\"165.771484\" xlink:href=\"#DejaVuSans-110\"/>\r\n       <use x=\"229.150391\" xlink:href=\"#DejaVuSans-105\"/>\r\n       <use x=\"256.933594\" xlink:href=\"#DejaVuSans-99\"/>\r\n       <use x=\"311.914062\" xlink:href=\"#DejaVuSans-32\"/>\r\n       <use x=\"343.701172\" xlink:href=\"#DejaVuSans-70\"/>\r\n       <use x=\"397.595703\" xlink:href=\"#DejaVuSans-111\"/>\r\n       <use x=\"458.777344\" xlink:href=\"#DejaVuSans-111\"/>\r\n       <use x=\"519.958984\" xlink:href=\"#DejaVuSans-100\"/>\r\n       <use x=\"583.435547\" xlink:href=\"#DejaVuSans-115\"/>\r\n      </g>\r\n     </g>\r\n    </g>\r\n    <g id=\"ytick_21\">\r\n     <g id=\"line2d_27\">\r\n      <g>\r\n       <use style=\"stroke:#000000;stroke-width:0.8;\" x=\"204.70625\" xlink:href=\"#m1da2914a47\" y=\"61.457325\"/>\r\n      </g>\r\n     </g>\r\n     <g id=\"text_28\">\r\n      <!-- Finfish and Shellfish Products -->\r\n      <g transform=\"translate(51.95625 65.256544)scale(0.1 -0.1)\">\r\n       <use xlink:href=\"#DejaVuSans-70\"/>\r\n       <use x=\"50.269531\" xlink:href=\"#DejaVuSans-105\"/>\r\n       <use x=\"78.052734\" xlink:href=\"#DejaVuSans-110\"/>\r\n       <use x=\"141.431641\" xlink:href=\"#DejaVuSans-102\"/>\r\n       <use x=\"176.636719\" xlink:href=\"#DejaVuSans-105\"/>\r\n       <use x=\"204.419922\" xlink:href=\"#DejaVuSans-115\"/>\r\n       <use x=\"256.519531\" xlink:href=\"#DejaVuSans-104\"/>\r\n       <use x=\"319.898438\" xlink:href=\"#DejaVuSans-32\"/>\r\n       <use x=\"351.685547\" xlink:href=\"#DejaVuSans-97\"/>\r\n       <use x=\"412.964844\" xlink:href=\"#DejaVuSans-110\"/>\r\n       <use x=\"476.34375\" xlink:href=\"#DejaVuSans-100\"/>\r\n       <use x=\"539.820312\" xlink:href=\"#DejaVuSans-32\"/>\r\n       <use x=\"571.607422\" xlink:href=\"#DejaVuSans-83\"/>\r\n       <use x=\"635.083984\" xlink:href=\"#DejaVuSans-104\"/>\r\n       <use x=\"698.462891\" xlink:href=\"#DejaVuSans-101\"/>\r\n       <use x=\"759.986328\" xlink:href=\"#DejaVuSans-108\"/>\r\n       <use x=\"787.769531\" xlink:href=\"#DejaVuSans-108\"/>\r\n       <use x=\"815.552734\" xlink:href=\"#DejaVuSans-102\"/>\r\n       <use x=\"850.757812\" xlink:href=\"#DejaVuSans-105\"/>\r\n       <use x=\"878.541016\" xlink:href=\"#DejaVuSans-115\"/>\r\n       <use x=\"930.640625\" xlink:href=\"#DejaVuSans-104\"/>\r\n       <use x=\"994.019531\" xlink:href=\"#DejaVuSans-32\"/>\r\n       <use x=\"1025.806641\" xlink:href=\"#DejaVuSans-80\"/>\r\n       <use x=\"1084.359375\" xlink:href=\"#DejaVuSans-114\"/>\r\n       <use x=\"1123.222656\" xlink:href=\"#DejaVuSans-111\"/>\r\n       <use x=\"1184.404297\" xlink:href=\"#DejaVuSans-100\"/>\r\n       <use x=\"1247.880859\" xlink:href=\"#DejaVuSans-117\"/>\r\n       <use x=\"1311.259766\" xlink:href=\"#DejaVuSans-99\"/>\r\n       <use x=\"1366.240234\" xlink:href=\"#DejaVuSans-116\"/>\r\n       <use x=\"1405.449219\" xlink:href=\"#DejaVuSans-115\"/>\r\n      </g>\r\n     </g>\r\n    </g>\r\n    <g id=\"ytick_22\">\r\n     <g id=\"line2d_28\">\r\n      <g>\r\n       <use style=\"stroke:#000000;stroke-width:0.8;\" x=\"204.70625\" xlink:href=\"#m1da2914a47\" y=\"52.759725\"/>\r\n      </g>\r\n     </g>\r\n     <g id=\"text_29\">\r\n      <!-- Pork Products -->\r\n      <g transform=\"translate(129.667188 56.558944)scale(0.1 -0.1)\">\r\n       <use xlink:href=\"#DejaVuSans-80\"/>\r\n       <use x=\"56.677734\" xlink:href=\"#DejaVuSans-111\"/>\r\n       <use x=\"117.859375\" xlink:href=\"#DejaVuSans-114\"/>\r\n       <use x=\"158.972656\" xlink:href=\"#DejaVuSans-107\"/>\r\n       <use x=\"216.882812\" xlink:href=\"#DejaVuSans-32\"/>\r\n       <use x=\"248.669922\" xlink:href=\"#DejaVuSans-80\"/>\r\n       <use x=\"307.222656\" xlink:href=\"#DejaVuSans-114\"/>\r\n       <use x=\"346.085938\" xlink:href=\"#DejaVuSans-111\"/>\r\n       <use x=\"407.267578\" xlink:href=\"#DejaVuSans-100\"/>\r\n       <use x=\"470.744141\" xlink:href=\"#DejaVuSans-117\"/>\r\n       <use x=\"534.123047\" xlink:href=\"#DejaVuSans-99\"/>\r\n       <use x=\"589.103516\" xlink:href=\"#DejaVuSans-116\"/>\r\n       <use x=\"628.3125\" xlink:href=\"#DejaVuSans-115\"/>\r\n      </g>\r\n     </g>\r\n    </g>\r\n    <g id=\"ytick_23\">\r\n     <g id=\"line2d_29\">\r\n      <g>\r\n       <use style=\"stroke:#000000;stroke-width:0.8;\" x=\"204.70625\" xlink:href=\"#m1da2914a47\" y=\"44.062125\"/>\r\n      </g>\r\n     </g>\r\n     <g id=\"text_30\">\r\n      <!-- Poultry Products -->\r\n      <g transform=\"translate(116.503125 47.861344)scale(0.1 -0.1)\">\r\n       <use xlink:href=\"#DejaVuSans-80\"/>\r\n       <use x=\"56.677734\" xlink:href=\"#DejaVuSans-111\"/>\r\n       <use x=\"117.859375\" xlink:href=\"#DejaVuSans-117\"/>\r\n       <use x=\"181.238281\" xlink:href=\"#DejaVuSans-108\"/>\r\n       <use x=\"209.021484\" xlink:href=\"#DejaVuSans-116\"/>\r\n       <use x=\"248.230469\" xlink:href=\"#DejaVuSans-114\"/>\r\n       <use x=\"289.34375\" xlink:href=\"#DejaVuSans-121\"/>\r\n       <use x=\"348.523438\" xlink:href=\"#DejaVuSans-32\"/>\r\n       <use x=\"380.310547\" xlink:href=\"#DejaVuSans-80\"/>\r\n       <use x=\"438.863281\" xlink:href=\"#DejaVuSans-114\"/>\r\n       <use x=\"477.726562\" xlink:href=\"#DejaVuSans-111\"/>\r\n       <use x=\"538.908203\" xlink:href=\"#DejaVuSans-100\"/>\r\n       <use x=\"602.384766\" xlink:href=\"#DejaVuSans-117\"/>\r\n       <use x=\"665.763672\" xlink:href=\"#DejaVuSans-99\"/>\r\n       <use x=\"720.744141\" xlink:href=\"#DejaVuSans-116\"/>\r\n       <use x=\"759.953125\" xlink:href=\"#DejaVuSans-115\"/>\r\n      </g>\r\n     </g>\r\n    </g>\r\n    <g id=\"ytick_24\">\r\n     <g id=\"line2d_30\">\r\n      <g>\r\n       <use style=\"stroke:#000000;stroke-width:0.8;\" x=\"204.70625\" xlink:href=\"#m1da2914a47\" y=\"35.364525\"/>\r\n      </g>\r\n     </g>\r\n     <g id=\"text_31\">\r\n      <!-- Lamb, Veal, and Game Products -->\r\n      <g transform=\"translate(37.965625 39.163744)scale(0.1 -0.1)\">\r\n       <use xlink:href=\"#DejaVuSans-76\"/>\r\n       <use x=\"55.712891\" xlink:href=\"#DejaVuSans-97\"/>\r\n       <use x=\"116.992188\" xlink:href=\"#DejaVuSans-109\"/>\r\n       <use x=\"214.404297\" xlink:href=\"#DejaVuSans-98\"/>\r\n       <use x=\"277.880859\" xlink:href=\"#DejaVuSans-44\"/>\r\n       <use x=\"309.667969\" xlink:href=\"#DejaVuSans-32\"/>\r\n       <use x=\"341.455078\" xlink:href=\"#DejaVuSans-86\"/>\r\n       <use x=\"402.113281\" xlink:href=\"#DejaVuSans-101\"/>\r\n       <use x=\"463.636719\" xlink:href=\"#DejaVuSans-97\"/>\r\n       <use x=\"524.916016\" xlink:href=\"#DejaVuSans-108\"/>\r\n       <use x=\"552.699219\" xlink:href=\"#DejaVuSans-44\"/>\r\n       <use x=\"584.486328\" xlink:href=\"#DejaVuSans-32\"/>\r\n       <use x=\"616.273438\" xlink:href=\"#DejaVuSans-97\"/>\r\n       <use x=\"677.552734\" xlink:href=\"#DejaVuSans-110\"/>\r\n       <use x=\"740.931641\" xlink:href=\"#DejaVuSans-100\"/>\r\n       <use x=\"804.408203\" xlink:href=\"#DejaVuSans-32\"/>\r\n       <use x=\"836.195312\" xlink:href=\"#DejaVuSans-71\"/>\r\n       <use x=\"913.685547\" xlink:href=\"#DejaVuSans-97\"/>\r\n       <use x=\"974.964844\" xlink:href=\"#DejaVuSans-109\"/>\r\n       <use x=\"1072.376953\" xlink:href=\"#DejaVuSans-101\"/>\r\n       <use x=\"1133.900391\" xlink:href=\"#DejaVuSans-32\"/>\r\n       <use x=\"1165.6875\" xlink:href=\"#DejaVuSans-80\"/>\r\n       <use x=\"1224.240234\" xlink:href=\"#DejaVuSans-114\"/>\r\n       <use x=\"1263.103516\" xlink:href=\"#DejaVuSans-111\"/>\r\n       <use x=\"1324.285156\" xlink:href=\"#DejaVuSans-100\"/>\r\n       <use x=\"1387.761719\" xlink:href=\"#DejaVuSans-117\"/>\r\n       <use x=\"1451.140625\" xlink:href=\"#DejaVuSans-99\"/>\r\n       <use x=\"1506.121094\" xlink:href=\"#DejaVuSans-116\"/>\r\n       <use x=\"1545.330078\" xlink:href=\"#DejaVuSans-115\"/>\r\n      </g>\r\n     </g>\r\n    </g>\r\n    <g id=\"ytick_25\">\r\n     <g id=\"line2d_31\">\r\n      <g>\r\n       <use style=\"stroke:#000000;stroke-width:0.8;\" x=\"204.70625\" xlink:href=\"#m1da2914a47\" y=\"26.666925\"/>\r\n      </g>\r\n     </g>\r\n     <g id=\"text_32\">\r\n      <!-- Beef Products -->\r\n      <g transform=\"translate(128.667188 30.466144)scale(0.1 -0.1)\">\r\n       <use xlink:href=\"#DejaVuSans-66\"/>\r\n       <use x=\"68.603516\" xlink:href=\"#DejaVuSans-101\"/>\r\n       <use x=\"130.126953\" xlink:href=\"#DejaVuSans-101\"/>\r\n       <use x=\"191.650391\" xlink:href=\"#DejaVuSans-102\"/>\r\n       <use x=\"226.855469\" xlink:href=\"#DejaVuSans-32\"/>\r\n       <use x=\"258.642578\" xlink:href=\"#DejaVuSans-80\"/>\r\n       <use x=\"317.195312\" xlink:href=\"#DejaVuSans-114\"/>\r\n       <use x=\"356.058594\" xlink:href=\"#DejaVuSans-111\"/>\r\n       <use x=\"417.240234\" xlink:href=\"#DejaVuSans-100\"/>\r\n       <use x=\"480.716797\" xlink:href=\"#DejaVuSans-117\"/>\r\n       <use x=\"544.095703\" xlink:href=\"#DejaVuSans-99\"/>\r\n       <use x=\"599.076172\" xlink:href=\"#DejaVuSans-116\"/>\r\n       <use x=\"638.285156\" xlink:href=\"#DejaVuSans-115\"/>\r\n      </g>\r\n     </g>\r\n    </g>\r\n    <g id=\"text_33\">\r\n     <!-- group -->\r\n     <g transform=\"translate(14.798438 145.557656)rotate(-90)scale(0.1 -0.1)\">\r\n      <use xlink:href=\"#DejaVuSans-103\"/>\r\n      <use x=\"63.476562\" xlink:href=\"#DejaVuSans-114\"/>\r\n      <use x=\"102.339844\" xlink:href=\"#DejaVuSans-111\"/>\r\n      <use x=\"163.521484\" xlink:href=\"#DejaVuSans-117\"/>\r\n      <use x=\"226.900391\" xlink:href=\"#DejaVuSans-112\"/>\r\n     </g>\r\n    </g>\r\n   </g>\r\n   <g id=\"patch_28\">\r\n    <path d=\"M 204.70625 239.758125 \r\nL 204.70625 22.318125 \r\n\" style=\"fill:none;stroke:#000000;stroke-linecap:square;stroke-linejoin:miter;stroke-width:0.8;\"/>\r\n   </g>\r\n   <g id=\"patch_29\">\r\n    <path d=\"M 539.50625 239.758125 \r\nL 539.50625 22.318125 \r\n\" style=\"fill:none;stroke:#000000;stroke-linecap:square;stroke-linejoin:miter;stroke-width:0.8;\"/>\r\n   </g>\r\n   <g id=\"patch_30\">\r\n    <path d=\"M 204.70625 239.758125 \r\nL 539.50625 239.758125 \r\n\" style=\"fill:none;stroke:#000000;stroke-linecap:square;stroke-linejoin:miter;stroke-width:0.8;\"/>\r\n   </g>\r\n   <g id=\"patch_31\">\r\n    <path d=\"M 204.70625 22.318125 \r\nL 539.50625 22.318125 \r\n\" style=\"fill:none;stroke:#000000;stroke-linecap:square;stroke-linejoin:miter;stroke-width:0.8;\"/>\r\n   </g>\r\n   <g id=\"text_34\">\r\n    <!-- Quantile of Protein_(g) per food groups -->\r\n    <g transform=\"translate(255.105312 16.318125)scale(0.12 -0.12)\">\r\n     <defs>\r\n      <path d=\"M 39.40625 66.21875 \r\nQ 28.65625 66.21875 22.328125 58.203125 \r\nQ 16.015625 50.203125 16.015625 36.375 \r\nQ 16.015625 22.609375 22.328125 14.59375 \r\nQ 28.65625 6.59375 39.40625 6.59375 \r\nQ 50.140625 6.59375 56.421875 14.59375 \r\nQ 62.703125 22.609375 62.703125 36.375 \r\nQ 62.703125 50.203125 56.421875 58.203125 \r\nQ 50.140625 66.21875 39.40625 66.21875 \r\nz\r\nM 53.21875 1.3125 \r\nL 66.21875 -12.890625 \r\nL 54.296875 -12.890625 \r\nL 43.5 -1.21875 \r\nQ 41.890625 -1.3125 41.03125 -1.359375 \r\nQ 40.1875 -1.421875 39.40625 -1.421875 \r\nQ 24.03125 -1.421875 14.8125 8.859375 \r\nQ 5.609375 19.140625 5.609375 36.375 \r\nQ 5.609375 53.65625 14.8125 63.9375 \r\nQ 24.03125 74.21875 39.40625 74.21875 \r\nQ 54.734375 74.21875 63.90625 63.9375 \r\nQ 73.09375 53.65625 73.09375 36.375 \r\nQ 73.09375 23.6875 67.984375 14.640625 \r\nQ 62.890625 5.609375 53.21875 1.3125 \r\nz\r\n\" id=\"DejaVuSans-81\"/>\r\n     </defs>\r\n     <use xlink:href=\"#DejaVuSans-81\"/>\r\n     <use x=\"78.710938\" xlink:href=\"#DejaVuSans-117\"/>\r\n     <use x=\"142.089844\" xlink:href=\"#DejaVuSans-97\"/>\r\n     <use x=\"203.369141\" xlink:href=\"#DejaVuSans-110\"/>\r\n     <use x=\"266.748047\" xlink:href=\"#DejaVuSans-116\"/>\r\n     <use x=\"305.957031\" xlink:href=\"#DejaVuSans-105\"/>\r\n     <use x=\"333.740234\" xlink:href=\"#DejaVuSans-108\"/>\r\n     <use x=\"361.523438\" xlink:href=\"#DejaVuSans-101\"/>\r\n     <use x=\"423.046875\" xlink:href=\"#DejaVuSans-32\"/>\r\n     <use x=\"454.833984\" xlink:href=\"#DejaVuSans-111\"/>\r\n     <use x=\"516.015625\" xlink:href=\"#DejaVuSans-102\"/>\r\n     <use x=\"551.220703\" xlink:href=\"#DejaVuSans-32\"/>\r\n     <use x=\"583.007812\" xlink:href=\"#DejaVuSans-80\"/>\r\n     <use x=\"641.560547\" xlink:href=\"#DejaVuSans-114\"/>\r\n     <use x=\"680.423828\" xlink:href=\"#DejaVuSans-111\"/>\r\n     <use x=\"741.605469\" xlink:href=\"#DejaVuSans-116\"/>\r\n     <use x=\"780.814453\" xlink:href=\"#DejaVuSans-101\"/>\r\n     <use x=\"842.337891\" xlink:href=\"#DejaVuSans-105\"/>\r\n     <use x=\"870.121094\" xlink:href=\"#DejaVuSans-110\"/>\r\n     <use x=\"933.5\" xlink:href=\"#DejaVuSans-95\"/>\r\n     <use x=\"983.5\" xlink:href=\"#DejaVuSans-40\"/>\r\n     <use x=\"1022.513672\" xlink:href=\"#DejaVuSans-103\"/>\r\n     <use x=\"1085.990234\" xlink:href=\"#DejaVuSans-41\"/>\r\n     <use x=\"1125.003906\" xlink:href=\"#DejaVuSans-32\"/>\r\n     <use x=\"1156.791016\" xlink:href=\"#DejaVuSans-112\"/>\r\n     <use x=\"1220.267578\" xlink:href=\"#DejaVuSans-101\"/>\r\n     <use x=\"1281.791016\" xlink:href=\"#DejaVuSans-114\"/>\r\n     <use x=\"1322.904297\" xlink:href=\"#DejaVuSans-32\"/>\r\n     <use x=\"1354.691406\" xlink:href=\"#DejaVuSans-102\"/>\r\n     <use x=\"1389.896484\" xlink:href=\"#DejaVuSans-111\"/>\r\n     <use x=\"1451.078125\" xlink:href=\"#DejaVuSans-111\"/>\r\n     <use x=\"1512.259766\" xlink:href=\"#DejaVuSans-100\"/>\r\n     <use x=\"1575.736328\" xlink:href=\"#DejaVuSans-32\"/>\r\n     <use x=\"1607.523438\" xlink:href=\"#DejaVuSans-103\"/>\r\n     <use x=\"1671\" xlink:href=\"#DejaVuSans-114\"/>\r\n     <use x=\"1709.863281\" xlink:href=\"#DejaVuSans-111\"/>\r\n     <use x=\"1771.044922\" xlink:href=\"#DejaVuSans-117\"/>\r\n     <use x=\"1834.423828\" xlink:href=\"#DejaVuSans-112\"/>\r\n     <use x=\"1897.900391\" xlink:href=\"#DejaVuSans-115\"/>\r\n    </g>\r\n   </g>\r\n  </g>\r\n </g>\r\n <defs>\r\n  <clipPath id=\"p60722e5b4a\">\r\n   <rect height=\"217.44\" width=\"334.8\" x=\"204.70625\" y=\"22.318125\"/>\r\n  </clipPath>\r\n </defs>\r\n</svg>\r\n",
      "image/png": "[encoded data removed]"
     },
     "metadata": {
      "needs_background": "light"
     }
    }
   ],
   "source": [
    "import matplotlib.pyplot as plt\n",
    "nutrient_q('Protein_(g)', 0.5)"
   ]
  },
  {
   "cell_type": "code",
   "execution_count": null,
   "metadata": {},
   "outputs": [],
   "source": []
  }
 ]
}