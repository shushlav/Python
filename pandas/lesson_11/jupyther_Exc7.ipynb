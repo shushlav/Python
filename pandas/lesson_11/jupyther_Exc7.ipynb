{
 "metadata": {
  "language_info": {
   "codemirror_mode": {
    "name": "ipython",
    "version": 3
   },
   "file_extension": ".py",
   "mimetype": "text/x-python",
   "name": "python",
   "nbconvert_exporter": "python",
   "pygments_lexer": "ipython3",
   "version": "3.9.2"
  },
  "orig_nbformat": 4,
  "kernelspec": {
   "name": "python3",
   "display_name": "Python 3.9.2 64-bit"
  },
  "interpreter": {
   "hash": "c98bad758fdc1a8561ae45ecc54528f52ddf29c5a422c397ff5dc68402ca37fd"
  }
 },
 "nbformat": 4,
 "nbformat_minor": 2,
 "cells": [
  {
   "cell_type": "code",
   "execution_count": 35,
   "metadata": {},
   "outputs": [],
   "source": [
    "import pandas as pd \n",
    "import numpy as np \n"
   ]
  },
  {
   "cell_type": "code",
   "execution_count": 36,
   "metadata": {},
   "outputs": [
    {
     "output_type": "execute_result",
     "data": {
      "text/plain": [
       "'1.2.3'"
      ]
     },
     "metadata": {},
     "execution_count": 36
    }
   ],
   "source": [
    "pd.__version__\n",
    "\n"
   ]
  },
  {
   "source": [
    "Create a DatetimeIndex that contains each business day of 2015 and use it to index a Series of random numbers. Let s be the variable identifying this Series."
   ],
   "cell_type": "markdown",
   "metadata": {}
  },
  {
   "cell_type": "code",
   "execution_count": 37,
   "metadata": {},
   "outputs": [
    {
     "output_type": "execute_result",
     "data": {
      "text/plain": [
       "DatetimeIndex(['2015-01-01', '2015-01-02', '2015-01-05', '2015-01-06',\n",
       "               '2015-01-07', '2015-01-08', '2015-01-09', '2015-01-12',\n",
       "               '2015-01-13', '2015-01-14',\n",
       "               ...\n",
       "               '2015-12-18', '2015-12-21', '2015-12-22', '2015-12-23',\n",
       "               '2015-12-24', '2015-12-25', '2015-12-28', '2015-12-29',\n",
       "               '2015-12-30', '2015-12-31'],\n",
       "              dtype='datetime64[ns]', length=261, freq='B')"
      ]
     },
     "metadata": {},
     "execution_count": 37
    }
   ],
   "source": [
    "dates = pd.date_range(start='01-01-2015', end='31-12-2015', freq='B')     # 'B' for days\n",
    "dates"
   ]
  },
  {
   "source": [
    "### data = np.random.randint(lowest integer, highest integer, size=number of random integers)"
   ],
   "cell_type": "markdown",
   "metadata": {}
  },
  {
   "cell_type": "code",
   "execution_count": 38,
   "metadata": {},
   "outputs": [
    {
     "output_type": "execute_result",
     "data": {
      "text/plain": [
       "array([ 58,  31, 685, 163, 810, 808, 778, 566, 290, 523, 294, 971, 263,\n",
       "       726, 916, 524, 490, 129,  30, 223, 235,  77, 238, 879, 577, 612,\n",
       "       459, 898, 102, 956, 271, 522, 766, 672,   8, 168, 639, 592, 576,\n",
       "       291, 170, 652, 496, 822, 789, 297, 465, 108,  79, 547,   9, 236,\n",
       "       464, 331,  92, 356,  40, 249, 125, 618, 469, 640,  58,  35, 159,\n",
       "       455, 325, 968, 341, 103, 989, 458, 588, 932, 325, 754, 396, 321,\n",
       "       663, 874, 484, 164, 179, 563, 267, 330, 546, 882, 452, 796, 215,\n",
       "       975, 565, 668, 176, 684, 526, 435, 123, 293,  47, 506, 666, 912,\n",
       "       481, 940, 667, 294, 802, 623, 944, 484,   9, 128, 383, 228, 546,\n",
       "       362, 579,  38, 635, 204, 762, 830, 613, 905, 466, 372, 516,  37,\n",
       "       572, 314, 796, 312, 789, 163, 790, 793, 566, 171, 943, 359, 849,\n",
       "       613,  62, 842, 769, 341, 144, 328, 227,  16, 106, 806, 651, 218,\n",
       "       667, 740, 747, 637, 227, 294, 347, 342, 892, 626, 440, 518, 553,\n",
       "       334, 172, 982, 219, 384, 287, 373, 645, 250, 672, 581, 716, 794,\n",
       "       798, 586, 407, 798, 799,  39, 419, 765,  14, 521,  81, 958, 496,\n",
       "       356, 159, 651, 152, 525, 441, 178, 119, 187, 637,  32, 770, 921,\n",
       "       687, 646, 852, 557, 324, 371, 552, 763, 408, 144, 792, 413, 836,\n",
       "       713, 360, 185, 247, 156,  74, 808, 690, 701,   9, 608, 662, 270,\n",
       "       797, 335, 314, 512, 500, 470, 626,  89, 945, 809, 766, 145, 395,\n",
       "       398,   3, 855, 318, 973, 892, 927, 262, 411, 196, 159, 850, 446,\n",
       "       241, 867, 160, 526, 684, 108, 393, 651, 658, 172, 573, 645, 113,\n",
       "       896, 412, 905, 916, 335, 152, 330, 132, 917, 134, 307, 535, 745,\n",
       "       251,  39, 569,  29, 203, 537, 842, 718, 148, 289, 896, 415, 276,\n",
       "       511, 944, 302, 866, 587, 240, 227,  56, 485,  78, 628, 830,  55,\n",
       "       542,  55,  70, 458, 454, 773, 852, 541, 601,  81,  34, 363, 160,\n",
       "       633,  96, 775, 545, 157,  40, 597,  60,  17, 842, 978, 861, 109,\n",
       "       521, 171, 609, 979, 492, 846, 903, 533, 435,  64, 507, 628,  41,\n",
       "         6, 882, 299, 520, 367, 231, 164, 994, 370, 106, 212, 645, 730,\n",
       "       135])"
      ]
     },
     "metadata": {},
     "execution_count": 38
    }
   ],
   "source": [
    "s = np.random.randint(1,1000, 365)\n",
    "s"
   ]
  },
  {
   "cell_type": "code",
   "execution_count": 39,
   "metadata": {},
   "outputs": [
    {
     "output_type": "execute_result",
     "data": {
      "text/plain": [
       "2015-01-01    0.466381\n",
       "2015-01-02    0.395402\n",
       "2015-01-05    0.849952\n",
       "2015-01-06    0.149296\n",
       "2015-01-07    0.564606\n",
       "                ...   \n",
       "2015-12-25    0.081452\n",
       "2015-12-28    0.041180\n",
       "2015-12-29    0.207104\n",
       "2015-12-30    0.843761\n",
       "2015-12-31    0.644626\n",
       "Freq: B, Length: 261, dtype: float64"
      ]
     },
     "metadata": {},
     "execution_count": 39
    }
   ],
   "source": [
    "df = pd.Series(np.random.rand(len(dates)), index=dates)\n",
    "df"
   ]
  },
  {
   "source": [
    "### 2. Find the sum of the values in s for every Wednesday."
   ],
   "cell_type": "markdown",
   "metadata": {}
  },
  {
   "cell_type": "code",
   "execution_count": 40,
   "metadata": {},
   "outputs": [
    {
     "output_type": "execute_result",
     "data": {
      "text/plain": [
       "Int64Index([3, 4, 0, 1, 2, 3, 4, 0, 1, 2,\n",
       "            ...\n",
       "            4, 0, 1, 2, 3, 4, 0, 1, 2, 3],\n",
       "           dtype='int64', length=261)"
      ]
     },
     "metadata": {},
     "execution_count": 40
    }
   ],
   "source": [
    "# finds the day of the week for every date (Mon=0...Sunday = 6)\n",
    "df.index.day_of_week"
   ]
  },
  {
   "cell_type": "code",
   "execution_count": 41,
   "metadata": {},
   "outputs": [
    {
     "output_type": "execute_result",
     "data": {
      "text/plain": [
       "25.94287374773162"
      ]
     },
     "metadata": {},
     "execution_count": 41
    }
   ],
   "source": [
    "df.loc[df.index.day_of_week == 2].sum()"
   ]
  },
  {
   "source": [
    "### For each calendar month in s, find the mean of values.  pandas.DataFrame.resample"
   ],
   "cell_type": "markdown",
   "metadata": {}
  },
  {
   "source": [
    "#### Convenience method for frequency conversion and resampling of time series. \n",
    "DataFrame.resample(rule, axis=0, closed=None, label=None, convention='start', kind=None, loffset=None, base=None, on=None, level=None, origin='start_day', offset=None)"
   ],
   "cell_type": "markdown",
   "metadata": {}
  },
  {
   "cell_type": "code",
   "execution_count": 42,
   "metadata": {},
   "outputs": [
    {
     "output_type": "execute_result",
     "data": {
      "text/plain": [
       "2015-01-31    12.583132\n",
       "2015-02-28    11.888947\n",
       "2015-03-31    11.348304\n",
       "2015-04-30     9.877596\n",
       "2015-05-31    10.433120\n",
       "2015-06-30    13.528837\n",
       "2015-07-31    13.515803\n",
       "2015-08-31     7.355029\n",
       "2015-09-30     9.744567\n",
       "2015-10-31    11.898505\n",
       "2015-11-30    10.414909\n",
       "2015-12-31     9.803882\n",
       "Freq: M, dtype: float64"
      ]
     },
     "metadata": {},
     "execution_count": 42
    }
   ],
   "source": [
    "df.resample('M').sum()     # Downsample the series into a monthly bins"
   ]
  },
  {
   "cell_type": "code",
   "execution_count": 43,
   "metadata": {},
   "outputs": [
    {
     "output_type": "execute_result",
     "data": {
      "text/plain": [
       "2015-01-31    0.571961\n",
       "2015-02-28    0.594447\n",
       "2015-03-31    0.515832\n",
       "2015-04-30    0.448982\n",
       "2015-05-31    0.496815\n",
       "2015-06-30    0.614947\n",
       "2015-07-31    0.587644\n",
       "2015-08-31    0.350239\n",
       "2015-09-30    0.442935\n",
       "2015-10-31    0.540841\n",
       "2015-11-30    0.495948\n",
       "2015-12-31    0.426256\n",
       "Freq: M, dtype: float64"
      ]
     },
     "metadata": {},
     "execution_count": 43
    }
   ],
   "source": [
    "df.resample('M').mean() "
   ]
  },
  {
   "cell_type": "code",
   "execution_count": 44,
   "metadata": {},
   "outputs": [
    {
     "output_type": "execute_result",
     "data": {
      "text/plain": [
       "2015-03-31    35.820383\n",
       "2015-06-30    33.839553\n",
       "2015-09-30    30.615399\n",
       "2015-12-31    32.117296\n",
       "Freq: Q-DEC, dtype: float64"
      ]
     },
     "metadata": {},
     "execution_count": 44
    }
   ],
   "source": [
    "df.resample('Q').sum()     # Resample a year by quarters"
   ]
  },
  {
   "cell_type": "code",
   "execution_count": 45,
   "metadata": {},
   "outputs": [
    {
     "output_type": "execute_result",
     "data": {
      "text/plain": [
       "   price  volume week_starting\n",
       "0     10      50    2018-01-07\n",
       "1     11      60    2018-01-14\n",
       "2      9      40    2018-01-21\n",
       "3     13     100    2018-01-28\n",
       "4     14      50    2018-02-04\n",
       "5     18     100    2018-02-11\n",
       "6     17      40    2018-02-18\n",
       "7     19      50    2018-02-25"
      ],
      "text/html": "<div>\n<style scoped>\n    .dataframe tbody tr th:only-of-type {\n        vertical-align: middle;\n    }\n\n    .dataframe tbody tr th {\n        vertical-align: top;\n    }\n\n    .dataframe thead th {\n        text-align: right;\n    }\n</style>\n<table border=\"1\" class=\"dataframe\">\n  <thead>\n    <tr style=\"text-align: right;\">\n      <th></th>\n      <th>price</th>\n      <th>volume</th>\n      <th>week_starting</th>\n    </tr>\n  </thead>\n  <tbody>\n    <tr>\n      <th>0</th>\n      <td>10</td>\n      <td>50</td>\n      <td>2018-01-07</td>\n    </tr>\n    <tr>\n      <th>1</th>\n      <td>11</td>\n      <td>60</td>\n      <td>2018-01-14</td>\n    </tr>\n    <tr>\n      <th>2</th>\n      <td>9</td>\n      <td>40</td>\n      <td>2018-01-21</td>\n    </tr>\n    <tr>\n      <th>3</th>\n      <td>13</td>\n      <td>100</td>\n      <td>2018-01-28</td>\n    </tr>\n    <tr>\n      <th>4</th>\n      <td>14</td>\n      <td>50</td>\n      <td>2018-02-04</td>\n    </tr>\n    <tr>\n      <th>5</th>\n      <td>18</td>\n      <td>100</td>\n      <td>2018-02-11</td>\n    </tr>\n    <tr>\n      <th>6</th>\n      <td>17</td>\n      <td>40</td>\n      <td>2018-02-18</td>\n    </tr>\n    <tr>\n      <th>7</th>\n      <td>19</td>\n      <td>50</td>\n      <td>2018-02-25</td>\n    </tr>\n  </tbody>\n</table>\n</div>"
     },
     "metadata": {},
     "execution_count": 45
    }
   ],
   "source": [
    "d = {'price': [10, 11, 9, 13, 14, 18, 17, 19],\n",
    "     'volume': [50, 60, 40, 100, 50, 100, 40, 50]}\n",
    "df2 = pd.DataFrame(d)\n",
    "df2['week_starting'] = pd.date_range('01/01/2018',\n",
    "                                    periods=8,\n",
    "                                    freq='W')\n",
    "df2"
   ]
  },
  {
   "source": [
    "For DataFrame objects, the keyword on can be used to specify the column instead of the index for resampling."
   ],
   "cell_type": "markdown",
   "metadata": {}
  },
  {
   "cell_type": "code",
   "execution_count": 47,
   "metadata": {},
   "outputs": [
    {
     "output_type": "execute_result",
     "data": {
      "text/plain": [
       "               price  volume\n",
       "week_starting               \n",
       "2018-01-31     10.75    62.5\n",
       "2018-02-28     17.00    60.0"
      ],
      "text/html": "<div>\n<style scoped>\n    .dataframe tbody tr th:only-of-type {\n        vertical-align: middle;\n    }\n\n    .dataframe tbody tr th {\n        vertical-align: top;\n    }\n\n    .dataframe thead th {\n        text-align: right;\n    }\n</style>\n<table border=\"1\" class=\"dataframe\">\n  <thead>\n    <tr style=\"text-align: right;\">\n      <th></th>\n      <th>price</th>\n      <th>volume</th>\n    </tr>\n    <tr>\n      <th>week_starting</th>\n      <th></th>\n      <th></th>\n    </tr>\n  </thead>\n  <tbody>\n    <tr>\n      <th>2018-01-31</th>\n      <td>10.75</td>\n      <td>62.5</td>\n    </tr>\n    <tr>\n      <th>2018-02-28</th>\n      <td>17.00</td>\n      <td>60.0</td>\n    </tr>\n  </tbody>\n</table>\n</div>"
     },
     "metadata": {},
     "execution_count": 47
    }
   ],
   "source": [
    "df2.resample('M', on='week_starting').mean()"
   ]
  },
  {
   "cell_type": "code",
   "execution_count": null,
   "metadata": {},
   "outputs": [],
   "source": []
  }
 ]
}