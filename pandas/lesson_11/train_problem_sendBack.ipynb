{
 "metadata": {
  "language_info": {
   "codemirror_mode": {
    "name": "ipython",
    "version": 3
   },
   "file_extension": ".py",
   "mimetype": "text/x-python",
   "name": "python",
   "nbconvert_exporter": "python",
   "pygments_lexer": "ipython3",
   "version": "3.9.2"
  },
  "orig_nbformat": 4,
  "kernelspec": {
   "name": "python3",
   "display_name": "Python 3.9.2 64-bit"
  },
  "interpreter": {
   "hash": "c98bad758fdc1a8561ae45ecc54528f52ddf29c5a422c397ff5dc68402ca37fd"
  }
 },
 "nbformat": 4,
 "nbformat_minor": 2,
 "cells": [
  {
   "source": [
    "Predict Loan Eligibility for Dream Housing Finance company"
   ],
   "cell_type": "markdown",
   "metadata": {}
  },
  {
   "cell_type": "code",
   "execution_count": 147,
   "metadata": {},
   "outputs": [],
   "source": [
    "import pandas as pd\n",
    "import numpy as np "
   ]
  },
  {
   "cell_type": "code",
   "execution_count": 148,
   "metadata": {},
   "outputs": [
    {
     "output_type": "execute_result",
     "data": {
      "text/plain": [
       "         Gender Married Dependents     Education Self_Employed  \\\n",
       "Loan_ID                                                          \n",
       "LP001002   Male      No          0      Graduate            No   \n",
       "LP001003   Male     Yes          1      Graduate            No   \n",
       "LP001005   Male     Yes          0      Graduate           Yes   \n",
       "LP001006   Male     Yes          0  Not Graduate            No   \n",
       "LP001008   Male      No          0      Graduate            No   \n",
       "LP001011   Male     Yes          2      Graduate           Yes   \n",
       "LP001013   Male     Yes          0  Not Graduate            No   \n",
       "LP001014   Male     Yes         3+      Graduate            No   \n",
       "LP001018   Male     Yes          2      Graduate            No   \n",
       "LP001020   Male     Yes          1      Graduate            No   \n",
       "\n",
       "          ApplicantIncome  CoapplicantIncome  LoanAmount  Loan_Amount_Term  \\\n",
       "Loan_ID                                                                      \n",
       "LP001002             5849                0.0         NaN             360.0   \n",
       "LP001003             4583             1508.0       128.0             360.0   \n",
       "LP001005             3000                0.0        66.0             360.0   \n",
       "LP001006             2583             2358.0       120.0             360.0   \n",
       "LP001008             6000                0.0       141.0             360.0   \n",
       "LP001011             5417             4196.0       267.0             360.0   \n",
       "LP001013             2333             1516.0        95.0             360.0   \n",
       "LP001014             3036             2504.0       158.0             360.0   \n",
       "LP001018             4006             1526.0       168.0             360.0   \n",
       "LP001020            12841            10968.0       349.0             360.0   \n",
       "\n",
       "          Credit_History Property_Area Loan_Status  \n",
       "Loan_ID                                             \n",
       "LP001002             1.0         Urban           Y  \n",
       "LP001003             1.0         Rural           N  \n",
       "LP001005             1.0         Urban           Y  \n",
       "LP001006             1.0         Urban           Y  \n",
       "LP001008             1.0         Urban           Y  \n",
       "LP001011             1.0         Urban           Y  \n",
       "LP001013             1.0         Urban           Y  \n",
       "LP001014             0.0     Semiurban           N  \n",
       "LP001018             1.0         Urban           Y  \n",
       "LP001020             1.0     Semiurban           N  "
      ],
      "text/html": "<div>\n<style scoped>\n    .dataframe tbody tr th:only-of-type {\n        vertical-align: middle;\n    }\n\n    .dataframe tbody tr th {\n        vertical-align: top;\n    }\n\n    .dataframe thead th {\n        text-align: right;\n    }\n</style>\n<table border=\"1\" class=\"dataframe\">\n  <thead>\n    <tr style=\"text-align: right;\">\n      <th></th>\n      <th>Gender</th>\n      <th>Married</th>\n      <th>Dependents</th>\n      <th>Education</th>\n      <th>Self_Employed</th>\n      <th>ApplicantIncome</th>\n      <th>CoapplicantIncome</th>\n      <th>LoanAmount</th>\n      <th>Loan_Amount_Term</th>\n      <th>Credit_History</th>\n      <th>Property_Area</th>\n      <th>Loan_Status</th>\n    </tr>\n    <tr>\n      <th>Loan_ID</th>\n      <th></th>\n      <th></th>\n      <th></th>\n      <th></th>\n      <th></th>\n      <th></th>\n      <th></th>\n      <th></th>\n      <th></th>\n      <th></th>\n      <th></th>\n      <th></th>\n    </tr>\n  </thead>\n  <tbody>\n    <tr>\n      <th>LP001002</th>\n      <td>Male</td>\n      <td>No</td>\n      <td>0</td>\n      <td>Graduate</td>\n      <td>No</td>\n      <td>5849</td>\n      <td>0.0</td>\n      <td>NaN</td>\n      <td>360.0</td>\n      <td>1.0</td>\n      <td>Urban</td>\n      <td>Y</td>\n    </tr>\n    <tr>\n      <th>LP001003</th>\n      <td>Male</td>\n      <td>Yes</td>\n      <td>1</td>\n      <td>Graduate</td>\n      <td>No</td>\n      <td>4583</td>\n      <td>1508.0</td>\n      <td>128.0</td>\n      <td>360.0</td>\n      <td>1.0</td>\n      <td>Rural</td>\n      <td>N</td>\n    </tr>\n    <tr>\n      <th>LP001005</th>\n      <td>Male</td>\n      <td>Yes</td>\n      <td>0</td>\n      <td>Graduate</td>\n      <td>Yes</td>\n      <td>3000</td>\n      <td>0.0</td>\n      <td>66.0</td>\n      <td>360.0</td>\n      <td>1.0</td>\n      <td>Urban</td>\n      <td>Y</td>\n    </tr>\n    <tr>\n      <th>LP001006</th>\n      <td>Male</td>\n      <td>Yes</td>\n      <td>0</td>\n      <td>Not Graduate</td>\n      <td>No</td>\n      <td>2583</td>\n      <td>2358.0</td>\n      <td>120.0</td>\n      <td>360.0</td>\n      <td>1.0</td>\n      <td>Urban</td>\n      <td>Y</td>\n    </tr>\n    <tr>\n      <th>LP001008</th>\n      <td>Male</td>\n      <td>No</td>\n      <td>0</td>\n      <td>Graduate</td>\n      <td>No</td>\n      <td>6000</td>\n      <td>0.0</td>\n      <td>141.0</td>\n      <td>360.0</td>\n      <td>1.0</td>\n      <td>Urban</td>\n      <td>Y</td>\n    </tr>\n    <tr>\n      <th>LP001011</th>\n      <td>Male</td>\n      <td>Yes</td>\n      <td>2</td>\n      <td>Graduate</td>\n      <td>Yes</td>\n      <td>5417</td>\n      <td>4196.0</td>\n      <td>267.0</td>\n      <td>360.0</td>\n      <td>1.0</td>\n      <td>Urban</td>\n      <td>Y</td>\n    </tr>\n    <tr>\n      <th>LP001013</th>\n      <td>Male</td>\n      <td>Yes</td>\n      <td>0</td>\n      <td>Not Graduate</td>\n      <td>No</td>\n      <td>2333</td>\n      <td>1516.0</td>\n      <td>95.0</td>\n      <td>360.0</td>\n      <td>1.0</td>\n      <td>Urban</td>\n      <td>Y</td>\n    </tr>\n    <tr>\n      <th>LP001014</th>\n      <td>Male</td>\n      <td>Yes</td>\n      <td>3+</td>\n      <td>Graduate</td>\n      <td>No</td>\n      <td>3036</td>\n      <td>2504.0</td>\n      <td>158.0</td>\n      <td>360.0</td>\n      <td>0.0</td>\n      <td>Semiurban</td>\n      <td>N</td>\n    </tr>\n    <tr>\n      <th>LP001018</th>\n      <td>Male</td>\n      <td>Yes</td>\n      <td>2</td>\n      <td>Graduate</td>\n      <td>No</td>\n      <td>4006</td>\n      <td>1526.0</td>\n      <td>168.0</td>\n      <td>360.0</td>\n      <td>1.0</td>\n      <td>Urban</td>\n      <td>Y</td>\n    </tr>\n    <tr>\n      <th>LP001020</th>\n      <td>Male</td>\n      <td>Yes</td>\n      <td>1</td>\n      <td>Graduate</td>\n      <td>No</td>\n      <td>12841</td>\n      <td>10968.0</td>\n      <td>349.0</td>\n      <td>360.0</td>\n      <td>1.0</td>\n      <td>Semiurban</td>\n      <td>N</td>\n    </tr>\n  </tbody>\n</table>\n</div>"
     },
     "metadata": {},
     "execution_count": 148
    }
   ],
   "source": [
    "data = pd.read_csv('train_ctrUa4K.csv', index_col='Loan_ID')\n",
    "data.head(10)"
   ]
  },
  {
   "source": [
    "list of all females who are not graduates and got a loan"
   ],
   "cell_type": "markdown",
   "metadata": {}
  },
  {
   "cell_type": "code",
   "execution_count": 149,
   "metadata": {},
   "outputs": [
    {
     "output_type": "execute_result",
     "data": {
      "text/plain": [
       "          Gender Married Dependents     Education Self_Employed  \\\n",
       "Loan_ID                                                           \n",
       "LP001155  Female     Yes          0  Not Graduate            No   \n",
       "LP001669  Female      No          0  Not Graduate            No   \n",
       "LP001692  Female      No          0  Not Graduate            No   \n",
       "LP001908  Female     Yes          0  Not Graduate            No   \n",
       "LP002300  Female      No          0  Not Graduate            No   \n",
       "LP002314  Female      No          0  Not Graduate            No   \n",
       "LP002407  Female     Yes          0  Not Graduate           Yes   \n",
       "LP002489  Female      No          1  Not Graduate           NaN   \n",
       "LP002502  Female     Yes          2  Not Graduate           NaN   \n",
       "LP002534  Female      No          0  Not Graduate            No   \n",
       "LP002582  Female      No          0  Not Graduate           Yes   \n",
       "LP002731  Female      No          0  Not Graduate           Yes   \n",
       "LP002757  Female     Yes          0  Not Graduate            No   \n",
       "LP002917  Female      No          0  Not Graduate            No   \n",
       "\n",
       "          ApplicantIncome  CoapplicantIncome  LoanAmount  Loan_Amount_Term  \\\n",
       "Loan_ID                                                                      \n",
       "LP001155             1928             1644.0       100.0             360.0   \n",
       "LP001669             1907             2365.0       120.0               NaN   \n",
       "LP001692             4408                0.0       120.0             360.0   \n",
       "LP001908             4100                0.0       124.0             360.0   \n",
       "LP002300             1963                0.0        53.0             360.0   \n",
       "LP002314             2213                0.0        66.0             360.0   \n",
       "LP002407             7142                0.0       138.0             360.0   \n",
       "LP002489             5191                0.0       132.0             360.0   \n",
       "LP002502              210             2917.0        98.0             360.0   \n",
       "LP002534             4350                0.0       154.0             360.0   \n",
       "LP002582            17263                0.0       225.0             360.0   \n",
       "LP002731            18165                0.0       125.0             360.0   \n",
       "LP002757             3017              663.0       102.0             360.0   \n",
       "LP002917             2165                0.0        70.0             360.0   \n",
       "\n",
       "          Credit_History Property_Area Loan_Status  \n",
       "Loan_ID                                             \n",
       "LP001155             1.0     Semiurban           Y  \n",
       "LP001669             1.0         Urban           Y  \n",
       "LP001692             1.0     Semiurban           Y  \n",
       "LP001908             NaN         Rural           Y  \n",
       "LP002300             1.0     Semiurban           Y  \n",
       "LP002314             1.0         Rural           Y  \n",
       "LP002407             1.0         Rural           Y  \n",
       "LP002489             1.0     Semiurban           Y  \n",
       "LP002502             1.0     Semiurban           Y  \n",
       "LP002534             1.0         Rural           Y  \n",
       "LP002582             1.0     Semiurban           Y  \n",
       "LP002731             1.0         Urban           Y  \n",
       "LP002757             NaN     Semiurban           Y  \n",
       "LP002917             1.0     Semiurban           Y  "
      ],
      "text/html": "<div>\n<style scoped>\n    .dataframe tbody tr th:only-of-type {\n        vertical-align: middle;\n    }\n\n    .dataframe tbody tr th {\n        vertical-align: top;\n    }\n\n    .dataframe thead th {\n        text-align: right;\n    }\n</style>\n<table border=\"1\" class=\"dataframe\">\n  <thead>\n    <tr style=\"text-align: right;\">\n      <th></th>\n      <th>Gender</th>\n      <th>Married</th>\n      <th>Dependents</th>\n      <th>Education</th>\n      <th>Self_Employed</th>\n      <th>ApplicantIncome</th>\n      <th>CoapplicantIncome</th>\n      <th>LoanAmount</th>\n      <th>Loan_Amount_Term</th>\n      <th>Credit_History</th>\n      <th>Property_Area</th>\n      <th>Loan_Status</th>\n    </tr>\n    <tr>\n      <th>Loan_ID</th>\n      <th></th>\n      <th></th>\n      <th></th>\n      <th></th>\n      <th></th>\n      <th></th>\n      <th></th>\n      <th></th>\n      <th></th>\n      <th></th>\n      <th></th>\n      <th></th>\n    </tr>\n  </thead>\n  <tbody>\n    <tr>\n      <th>LP001155</th>\n      <td>Female</td>\n      <td>Yes</td>\n      <td>0</td>\n      <td>Not Graduate</td>\n      <td>No</td>\n      <td>1928</td>\n      <td>1644.0</td>\n      <td>100.0</td>\n      <td>360.0</td>\n      <td>1.0</td>\n      <td>Semiurban</td>\n      <td>Y</td>\n    </tr>\n    <tr>\n      <th>LP001669</th>\n      <td>Female</td>\n      <td>No</td>\n      <td>0</td>\n      <td>Not Graduate</td>\n      <td>No</td>\n      <td>1907</td>\n      <td>2365.0</td>\n      <td>120.0</td>\n      <td>NaN</td>\n      <td>1.0</td>\n      <td>Urban</td>\n      <td>Y</td>\n    </tr>\n    <tr>\n      <th>LP001692</th>\n      <td>Female</td>\n      <td>No</td>\n      <td>0</td>\n      <td>Not Graduate</td>\n      <td>No</td>\n      <td>4408</td>\n      <td>0.0</td>\n      <td>120.0</td>\n      <td>360.0</td>\n      <td>1.0</td>\n      <td>Semiurban</td>\n      <td>Y</td>\n    </tr>\n    <tr>\n      <th>LP001908</th>\n      <td>Female</td>\n      <td>Yes</td>\n      <td>0</td>\n      <td>Not Graduate</td>\n      <td>No</td>\n      <td>4100</td>\n      <td>0.0</td>\n      <td>124.0</td>\n      <td>360.0</td>\n      <td>NaN</td>\n      <td>Rural</td>\n      <td>Y</td>\n    </tr>\n    <tr>\n      <th>LP002300</th>\n      <td>Female</td>\n      <td>No</td>\n      <td>0</td>\n      <td>Not Graduate</td>\n      <td>No</td>\n      <td>1963</td>\n      <td>0.0</td>\n      <td>53.0</td>\n      <td>360.0</td>\n      <td>1.0</td>\n      <td>Semiurban</td>\n      <td>Y</td>\n    </tr>\n    <tr>\n      <th>LP002314</th>\n      <td>Female</td>\n      <td>No</td>\n      <td>0</td>\n      <td>Not Graduate</td>\n      <td>No</td>\n      <td>2213</td>\n      <td>0.0</td>\n      <td>66.0</td>\n      <td>360.0</td>\n      <td>1.0</td>\n      <td>Rural</td>\n      <td>Y</td>\n    </tr>\n    <tr>\n      <th>LP002407</th>\n      <td>Female</td>\n      <td>Yes</td>\n      <td>0</td>\n      <td>Not Graduate</td>\n      <td>Yes</td>\n      <td>7142</td>\n      <td>0.0</td>\n      <td>138.0</td>\n      <td>360.0</td>\n      <td>1.0</td>\n      <td>Rural</td>\n      <td>Y</td>\n    </tr>\n    <tr>\n      <th>LP002489</th>\n      <td>Female</td>\n      <td>No</td>\n      <td>1</td>\n      <td>Not Graduate</td>\n      <td>NaN</td>\n      <td>5191</td>\n      <td>0.0</td>\n      <td>132.0</td>\n      <td>360.0</td>\n      <td>1.0</td>\n      <td>Semiurban</td>\n      <td>Y</td>\n    </tr>\n    <tr>\n      <th>LP002502</th>\n      <td>Female</td>\n      <td>Yes</td>\n      <td>2</td>\n      <td>Not Graduate</td>\n      <td>NaN</td>\n      <td>210</td>\n      <td>2917.0</td>\n      <td>98.0</td>\n      <td>360.0</td>\n      <td>1.0</td>\n      <td>Semiurban</td>\n      <td>Y</td>\n    </tr>\n    <tr>\n      <th>LP002534</th>\n      <td>Female</td>\n      <td>No</td>\n      <td>0</td>\n      <td>Not Graduate</td>\n      <td>No</td>\n      <td>4350</td>\n      <td>0.0</td>\n      <td>154.0</td>\n      <td>360.0</td>\n      <td>1.0</td>\n      <td>Rural</td>\n      <td>Y</td>\n    </tr>\n    <tr>\n      <th>LP002582</th>\n      <td>Female</td>\n      <td>No</td>\n      <td>0</td>\n      <td>Not Graduate</td>\n      <td>Yes</td>\n      <td>17263</td>\n      <td>0.0</td>\n      <td>225.0</td>\n      <td>360.0</td>\n      <td>1.0</td>\n      <td>Semiurban</td>\n      <td>Y</td>\n    </tr>\n    <tr>\n      <th>LP002731</th>\n      <td>Female</td>\n      <td>No</td>\n      <td>0</td>\n      <td>Not Graduate</td>\n      <td>Yes</td>\n      <td>18165</td>\n      <td>0.0</td>\n      <td>125.0</td>\n      <td>360.0</td>\n      <td>1.0</td>\n      <td>Urban</td>\n      <td>Y</td>\n    </tr>\n    <tr>\n      <th>LP002757</th>\n      <td>Female</td>\n      <td>Yes</td>\n      <td>0</td>\n      <td>Not Graduate</td>\n      <td>No</td>\n      <td>3017</td>\n      <td>663.0</td>\n      <td>102.0</td>\n      <td>360.0</td>\n      <td>NaN</td>\n      <td>Semiurban</td>\n      <td>Y</td>\n    </tr>\n    <tr>\n      <th>LP002917</th>\n      <td>Female</td>\n      <td>No</td>\n      <td>0</td>\n      <td>Not Graduate</td>\n      <td>No</td>\n      <td>2165</td>\n      <td>0.0</td>\n      <td>70.0</td>\n      <td>360.0</td>\n      <td>1.0</td>\n      <td>Semiurban</td>\n      <td>Y</td>\n    </tr>\n  </tbody>\n</table>\n</div>"
     },
     "metadata": {},
     "execution_count": 149
    }
   ],
   "source": [
    "filter1 = data.loc[(data['Gender']== 'Female') & (data['Education'] == 'Not Graduate') &(data['Loan_Status'] == 'Y')]     \n",
    "filter1"
   ]
  },
  {
   "cell_type": "code",
   "execution_count": 150,
   "metadata": {},
   "outputs": [
    {
     "output_type": "execute_result",
     "data": {
      "text/plain": [
       "          Gender     Education Loan_Status\n",
       "Loan_ID                                   \n",
       "LP001155  Female  Not Graduate           Y\n",
       "LP001669  Female  Not Graduate           Y\n",
       "LP001692  Female  Not Graduate           Y\n",
       "LP001908  Female  Not Graduate           Y\n",
       "LP002300  Female  Not Graduate           Y\n",
       "LP002314  Female  Not Graduate           Y\n",
       "LP002407  Female  Not Graduate           Y\n",
       "LP002489  Female  Not Graduate           Y\n",
       "LP002502  Female  Not Graduate           Y\n",
       "LP002534  Female  Not Graduate           Y\n",
       "LP002582  Female  Not Graduate           Y\n",
       "LP002731  Female  Not Graduate           Y\n",
       "LP002757  Female  Not Graduate           Y\n",
       "LP002917  Female  Not Graduate           Y"
      ],
      "text/html": "<div>\n<style scoped>\n    .dataframe tbody tr th:only-of-type {\n        vertical-align: middle;\n    }\n\n    .dataframe tbody tr th {\n        vertical-align: top;\n    }\n\n    .dataframe thead th {\n        text-align: right;\n    }\n</style>\n<table border=\"1\" class=\"dataframe\">\n  <thead>\n    <tr style=\"text-align: right;\">\n      <th></th>\n      <th>Gender</th>\n      <th>Education</th>\n      <th>Loan_Status</th>\n    </tr>\n    <tr>\n      <th>Loan_ID</th>\n      <th></th>\n      <th></th>\n      <th></th>\n    </tr>\n  </thead>\n  <tbody>\n    <tr>\n      <th>LP001155</th>\n      <td>Female</td>\n      <td>Not Graduate</td>\n      <td>Y</td>\n    </tr>\n    <tr>\n      <th>LP001669</th>\n      <td>Female</td>\n      <td>Not Graduate</td>\n      <td>Y</td>\n    </tr>\n    <tr>\n      <th>LP001692</th>\n      <td>Female</td>\n      <td>Not Graduate</td>\n      <td>Y</td>\n    </tr>\n    <tr>\n      <th>LP001908</th>\n      <td>Female</td>\n      <td>Not Graduate</td>\n      <td>Y</td>\n    </tr>\n    <tr>\n      <th>LP002300</th>\n      <td>Female</td>\n      <td>Not Graduate</td>\n      <td>Y</td>\n    </tr>\n    <tr>\n      <th>LP002314</th>\n      <td>Female</td>\n      <td>Not Graduate</td>\n      <td>Y</td>\n    </tr>\n    <tr>\n      <th>LP002407</th>\n      <td>Female</td>\n      <td>Not Graduate</td>\n      <td>Y</td>\n    </tr>\n    <tr>\n      <th>LP002489</th>\n      <td>Female</td>\n      <td>Not Graduate</td>\n      <td>Y</td>\n    </tr>\n    <tr>\n      <th>LP002502</th>\n      <td>Female</td>\n      <td>Not Graduate</td>\n      <td>Y</td>\n    </tr>\n    <tr>\n      <th>LP002534</th>\n      <td>Female</td>\n      <td>Not Graduate</td>\n      <td>Y</td>\n    </tr>\n    <tr>\n      <th>LP002582</th>\n      <td>Female</td>\n      <td>Not Graduate</td>\n      <td>Y</td>\n    </tr>\n    <tr>\n      <th>LP002731</th>\n      <td>Female</td>\n      <td>Not Graduate</td>\n      <td>Y</td>\n    </tr>\n    <tr>\n      <th>LP002757</th>\n      <td>Female</td>\n      <td>Not Graduate</td>\n      <td>Y</td>\n    </tr>\n    <tr>\n      <th>LP002917</th>\n      <td>Female</td>\n      <td>Not Graduate</td>\n      <td>Y</td>\n    </tr>\n  </tbody>\n</table>\n</div>"
     },
     "metadata": {},
     "execution_count": 150
    }
   ],
   "source": [
    "filter1[[\"Gender\",\"Education\",\"Loan_Status\"]]"
   ]
  },
  {
   "source": [
    "Perform filtering with only 3 columns"
   ],
   "cell_type": "markdown",
   "metadata": {}
  },
  {
   "cell_type": "code",
   "execution_count": 151,
   "metadata": {},
   "outputs": [
    {
     "output_type": "execute_result",
     "data": {
      "text/plain": [
       "          Gender     Education Loan_Status\n",
       "Loan_ID                                   \n",
       "LP001155  Female  Not Graduate           Y\n",
       "LP001669  Female  Not Graduate           Y\n",
       "LP001692  Female  Not Graduate           Y\n",
       "LP001908  Female  Not Graduate           Y\n",
       "LP002300  Female  Not Graduate           Y\n",
       "LP002314  Female  Not Graduate           Y\n",
       "LP002407  Female  Not Graduate           Y\n",
       "LP002489  Female  Not Graduate           Y\n",
       "LP002502  Female  Not Graduate           Y\n",
       "LP002534  Female  Not Graduate           Y\n",
       "LP002582  Female  Not Graduate           Y\n",
       "LP002731  Female  Not Graduate           Y\n",
       "LP002757  Female  Not Graduate           Y\n",
       "LP002917  Female  Not Graduate           Y"
      ],
      "text/html": "<div>\n<style scoped>\n    .dataframe tbody tr th:only-of-type {\n        vertical-align: middle;\n    }\n\n    .dataframe tbody tr th {\n        vertical-align: top;\n    }\n\n    .dataframe thead th {\n        text-align: right;\n    }\n</style>\n<table border=\"1\" class=\"dataframe\">\n  <thead>\n    <tr style=\"text-align: right;\">\n      <th></th>\n      <th>Gender</th>\n      <th>Education</th>\n      <th>Loan_Status</th>\n    </tr>\n    <tr>\n      <th>Loan_ID</th>\n      <th></th>\n      <th></th>\n      <th></th>\n    </tr>\n  </thead>\n  <tbody>\n    <tr>\n      <th>LP001155</th>\n      <td>Female</td>\n      <td>Not Graduate</td>\n      <td>Y</td>\n    </tr>\n    <tr>\n      <th>LP001669</th>\n      <td>Female</td>\n      <td>Not Graduate</td>\n      <td>Y</td>\n    </tr>\n    <tr>\n      <th>LP001692</th>\n      <td>Female</td>\n      <td>Not Graduate</td>\n      <td>Y</td>\n    </tr>\n    <tr>\n      <th>LP001908</th>\n      <td>Female</td>\n      <td>Not Graduate</td>\n      <td>Y</td>\n    </tr>\n    <tr>\n      <th>LP002300</th>\n      <td>Female</td>\n      <td>Not Graduate</td>\n      <td>Y</td>\n    </tr>\n    <tr>\n      <th>LP002314</th>\n      <td>Female</td>\n      <td>Not Graduate</td>\n      <td>Y</td>\n    </tr>\n    <tr>\n      <th>LP002407</th>\n      <td>Female</td>\n      <td>Not Graduate</td>\n      <td>Y</td>\n    </tr>\n    <tr>\n      <th>LP002489</th>\n      <td>Female</td>\n      <td>Not Graduate</td>\n      <td>Y</td>\n    </tr>\n    <tr>\n      <th>LP002502</th>\n      <td>Female</td>\n      <td>Not Graduate</td>\n      <td>Y</td>\n    </tr>\n    <tr>\n      <th>LP002534</th>\n      <td>Female</td>\n      <td>Not Graduate</td>\n      <td>Y</td>\n    </tr>\n    <tr>\n      <th>LP002582</th>\n      <td>Female</td>\n      <td>Not Graduate</td>\n      <td>Y</td>\n    </tr>\n    <tr>\n      <th>LP002731</th>\n      <td>Female</td>\n      <td>Not Graduate</td>\n      <td>Y</td>\n    </tr>\n    <tr>\n      <th>LP002757</th>\n      <td>Female</td>\n      <td>Not Graduate</td>\n      <td>Y</td>\n    </tr>\n    <tr>\n      <th>LP002917</th>\n      <td>Female</td>\n      <td>Not Graduate</td>\n      <td>Y</td>\n    </tr>\n  </tbody>\n</table>\n</div>"
     },
     "metadata": {},
     "execution_count": 151
    }
   ],
   "source": [
    "filter2 = data.loc[(data['Gender']== 'Female') & (data['Education'] == 'Not Graduate') &(data['Loan_Status'] == 'Y'), [\"Gender\",\"Education\",\"Loan_Status\"] ] \n",
    "filter2    "
   ]
  },
  {
   "source": [
    "Apply Function in Pandas"
   ],
   "cell_type": "markdown",
   "metadata": {}
  },
  {
   "cell_type": "code",
   "execution_count": 152,
   "metadata": {},
   "outputs": [],
   "source": [
    "#Create a new function:\n",
    "def num_missing(x):\n",
    "    return sum(x.isnull())\n"
   ]
  },
  {
   "cell_type": "code",
   "execution_count": 153,
   "metadata": {},
   "outputs": [
    {
     "output_type": "stream",
     "name": "stdout",
     "text": [
      "Missing values per column:\n\nGender               13\nMarried               3\nDependents           15\nEducation             0\nSelf_Employed        32\nApplicantIncome       0\nCoapplicantIncome     0\nLoanAmount           22\nLoan_Amount_Term     14\nCredit_History       50\nProperty_Area         0\nLoan_Status           0\ndtype: int64\n"
     ]
    }
   ],
   "source": [
    "#Applying per column:\n",
    "print (\"Missing values per column:\\n\")\n",
    "print (data.apply(num_missing, axis=0)) #axis=0 defines that function is to be applied on each column"
   ]
  },
  {
   "cell_type": "code",
   "execution_count": 154,
   "metadata": {},
   "outputs": [
    {
     "output_type": "stream",
     "name": "stdout",
     "text": [
      "\nMissing values per row:\n\nLoan_ID\nLP001002    1\nLP001003    0\nLP001005    0\nLP001006    0\nLP001008    0\ndtype: int64\n"
     ]
    }
   ],
   "source": [
    "#Applying per row:\n",
    "print (\"\\nMissing values per row:\\n\")\n",
    "print (data.apply(num_missing, axis=1).head()) #axis=1 defines that function is to be applied on each row"
   ]
  },
  {
   "source": [
    "Imputing missing values using Pandas\n",
    "‘fillna()’ does it in one go. It is used for updating missing values with the overall mean/mode/median of the column. Let’s impute the ‘Gender’, ‘Married’ and ‘Self_Employed’ columns with their respective modes."
   ],
   "cell_type": "markdown",
   "metadata": {}
  },
  {
   "cell_type": "code",
   "execution_count": 155,
   "metadata": {},
   "outputs": [
    {
     "output_type": "execute_result",
     "data": {
      "text/plain": [
       "ModeResult(mode=array(['Male'], dtype=object), count=array([489]))"
      ]
     },
     "metadata": {},
     "execution_count": 155
    }
   ],
   "source": [
    "#First we import scipy function to determine the mode\n",
    "from scipy.stats import mode\n",
    "mode(data['Gender'])"
   ]
  },
  {
   "cell_type": "code",
   "execution_count": 156,
   "metadata": {},
   "outputs": [
    {
     "output_type": "execute_result",
     "data": {
      "text/plain": [
       "'Male'"
      ]
     },
     "metadata": {},
     "execution_count": 156
    }
   ],
   "source": [
    "mode(data['Gender']).mode[0]    #We will take the first one by default "
   ]
  },
  {
   "cell_type": "code",
   "execution_count": 157,
   "metadata": {},
   "outputs": [
    {
     "output_type": "stream",
     "name": "stdout",
     "text": [
      "Gender                0\nMarried               0\nDependents           15\nEducation             0\nSelf_Employed         0\nApplicantIncome       0\nCoapplicantIncome     0\nLoanAmount           22\nLoan_Amount_Term     14\nCredit_History       50\nProperty_Area         0\nLoan_Status           0\ndtype: int64\n"
     ]
    }
   ],
   "source": [
    "#Impute the values:\n",
    "data['Gender'].fillna(mode(data['Gender']).mode[0], inplace=True)    # as an example.....will put all missing values as 'male'\n",
    "data['Married'].fillna(mode(data['Married']).mode[0], inplace=True)\n",
    "data['Self_Employed'].fillna(mode(data['Self_Employed']).mode[0], inplace=True)\n",
    "\n",
    "#Now check the #missing values again to confirm:\n",
    "print (data.apply(num_missing, axis=0))"
   ]
  },
  {
   "source": [
    "Pivot Table in Pandas to fill missing values to LoanAmount"
   ],
   "cell_type": "markdown",
   "metadata": {}
  },
  {
   "cell_type": "code",
   "execution_count": 158,
   "metadata": {},
   "outputs": [
    {
     "output_type": "stream",
     "name": "stdout",
     "text": [
      "                              LoanAmount\nGender Married Self_Employed            \nFemale No      No             114.691176\n               Yes            125.800000\n       Yes     No             134.222222\n               Yes            282.250000\nMale   No      No             129.936937\n               Yes            180.588235\n       Yes     No             153.882736\n               Yes            169.395833\n"
     ]
    }
   ],
   "source": [
    "#Determine pivot table\n",
    "impute_grps = data.pivot_table(values=[\"LoanAmount\"], index=[\"Gender\",\"Married\",\"Self_Employed\"], aggfunc=np.mean)\n",
    "print (impute_grps)"
   ]
  },
  {
   "cell_type": "code",
   "execution_count": 159,
   "outputs": [
    {
     "output_type": "stream",
     "name": "stdout",
     "text": [
      "Missing LoanAmount    22\ndtype: int64\n"
     ]
    }
   ],
   "source": [
    "#Check missing LoanAmounts exist\n",
    "mask_loan_nan=data[['LoanAmount']].isna()\n",
    "print(f\"Missing {mask_loan_nan.sum()}\")\n",
    "# These are very few and this is why iterrows didn't take too long"
   ],
   "metadata": {
    "collapsed": false,
    "pycharm": {
     "name": "#%%\n"
    }
   }
  },
  {
   "cell_type": "code",
   "execution_count": 160,
   "outputs": [
    {
     "output_type": "execute_result",
     "data": {
      "text/plain": [
       "['Male', 'Female']"
      ]
     },
     "metadata": {},
     "execution_count": 160
    }
   ],
   "source": [
    "#Programaticly get all possible values for each category we will be checking for\n",
    "gender_vals = list(data['Gender'].unique())\n",
    "married_vals = list(data['Married'].unique())\n",
    "employed_vals = list(data['Self_Employed'].unique())\n",
    "gender_vals"
   ],
   "metadata": {
    "collapsed": false,
    "pycharm": {
     "name": "#%%\n"
    }
   }
  },
  {
   "cell_type": "code",
   "execution_count": 164,
   "outputs": [
    {
     "output_type": "execute_result",
     "data": {
      "text/plain": [
       "[('Male', 'No', 'No'),\n",
       " ('Male', 'No', 'Yes'),\n",
       " ('Male', 'Yes', 'No'),\n",
       " ('Male', 'Yes', 'Yes'),\n",
       " ('Female', 'No', 'No'),\n",
       " ('Female', 'No', 'Yes'),\n",
       " ('Female', 'Yes', 'No'),\n",
       " ('Female', 'Yes', 'Yes')]"
      ]
     },
     "metadata": {},
     "execution_count": 164
    }
   ],
   "source": [
    "#Get all possible combinations of above categories\n",
    "import itertools\n",
    "all_combinations=list(itertools.product(*[gender_vals,married_vals,employed_vals]))\n",
    "# itertools is a very useful library most people don't use enough :)\n",
    "all_combinations"
   ],
   "metadata": {
    "collapsed": false,
    "pycharm": {
     "name": "#%%\n"
    }
   }
  },
  {
   "cell_type": "code",
   "execution_count": 162,
   "outputs": [],
   "source": [
    "# Loop on all combinations, mask for each combination which have missing values. \n",
    "# Then use combination to access pivot table values and insert them into appropriate places using mask\n",
    "for combi in all_combinations:\n",
    "    mask_gender = data['Gender'] == combi[0]\n",
    "    mask_married = data['Married'] == combi[1]\n",
    "    mask_employed= data['Self_Employed'] == combi[2]\n",
    "    mask = (mask_married) & (mask_employed) & (mask_gender) & (mask_loan_nan.iloc[:,0])\n",
    "    if mask.any():\n",
    "        value_to_insert=impute_grps.loc[combi,\"LoanAmount\"]\n",
    "        data.loc[mask_loan_nan.iloc[:,0],'LoanAmount']=value_to_insert\n",
    "# Why like this? Vector operations in libraries are always faster. So instead of multiple loops I have just one."
   ],
   "metadata": {
    "collapsed": false,
    "pycharm": {
     "name": "#%% \n"
    }
   }
  },
  {
   "cell_type": "code",
   "execution_count": 163,
   "outputs": [
    {
     "output_type": "stream",
     "name": "stdout",
     "text": [
      "Missing LoanAmount    0\ndtype: int64\n"
     ]
    }
   ],
   "source": [
    "#Check again for missing LoanAmounts\n",
    "mask_loan_nan=data[['LoanAmount']].isna()\n",
    "print(f\"Missing {mask_loan_nan.sum()}\")\n",
    "\n"
   ],
   "metadata": {
    "collapsed": false,
    "pycharm": {
     "name": "#%%\n"
    }
   }
  }
 ]
}