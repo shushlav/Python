{
 "cells": [
  {
   "cell_type": "markdown",
   "metadata": {},
   "source": [
    "<span style=\"color:gray; font-weight: bold\">Editor:</span> <span style=\"color:gray; font-weight: bold; font-style: italic\">Dar Lador, she codes;</span>"
   ]
  },
  {
   "cell_type": "code",
   "execution_count": 10,
   "metadata": {
    "collapsed": false
   },
   "outputs": [],
   "source": [
    "%matplotlib inline\n",
    "from pandas import *\n",
    "import matplotlib as mpl\n",
    "import numpy as np\n",
    "#from datetime import datetime\n",
    "mpl.rc('figure', figsize=(12, 6))\n",
    "set_option('display.notebook_repr_html', False)\n",
    "set_option('display.max_columns', 18)\n",
    "months = {'JAN' : 1, 'FEB' : 2, 'MAR' : 3, 'APR' : 4, 'MAY' : 5, 'JUN' : 6,\n",
    "          'JUL' : 7, 'AUG' : 8, 'SEP' : 9, 'OCT': 10, 'NOV': 11, 'DEC' : 12}\n",
    "of_interest = ['Obama, Barack', 'Romney, Mitt', 'Santorum, Rick', \n",
    "               'Paul, Ron', 'Gingrich, Newt']\n",
    "parties = {\n",
    "  'Bachmann, Michelle': 'Republican',\n",
    "  'Romney, Mitt': 'Republican',\n",
    "  'Obama, Barack': 'Democrat',\n",
    "  \"Roemer, Charles E. 'Buddy' III\": 'Reform',\n",
    "  'Pawlenty, Timothy': 'Republican',\n",
    "  'Johnson, Gary Earl': 'Libertarian',\n",
    "  'Paul, Ron': 'Republican',\n",
    "  'Santorum, Rick': 'Republican',\n",
    "  'Cain, Herman': 'Republican',\n",
    "  'Gingrich, Newt': 'Republican',\n",
    "  'McCotter, Thaddeus G': 'Republican',\n",
    "  'Huntsman, Jon': 'Republican',\n",
    "  'Perry, Rick': 'Republican'           \n",
    " }"
   ]
  },
  {
   "cell_type": "markdown",
   "metadata": {},
   "source": [
    "### *she codes;* notes\n",
    "If you try to run `fec = read_csv('P00000001-ALL.txt')` you'll get a `DtypeWarning`, which is a `low_memory` warning. We get it because guessing dtypes for each column is very memory demanding. Pandas tries to determine what dtype to set by analyzing the data in each column. Determining what dtype can only truly be done once the file is read. This means nothing can really be parsed before the whole file is read unless you risk having to change the dtype of that column when you read the last value. For example, consider a file which has a column called `ID`, with milions of rows where the `ID` is always numbers. Since pandas cannot know it is only numbers, it will probably keep it as the original strings until it has read the whole file. If we add something like `dtype={'ID':pandas.np.int64}` to the `read_csv()`, Pandas will read the `ID` column as numbers. \n",
    "\n",
    "In practice, we can fix this problem: 1st, write:\n",
    "```python\n",
    "fec = read_csv('P00000001-ALL.txt') \n",
    "```\n",
    "It wont read the whole file and will return a low_memory warning. Then, write:\n",
    "```python\n",
    "fec.dtypes\n",
    "```\n",
    "It returns the dtypes of each column, for example:\n",
    "```python\n",
    "'''\n",
    "cmte_id               object\n",
    "cand_id               object\n",
    "cand_nm               object\n",
    "contb_receipt_amt    float64\n",
    "...                   ...\n",
    "file_num               int64\n",
    "dtype: object\n",
    "'''\n",
    "```\n",
    "Then, you just need to add all of them to a dictionary as I did below:"
   ]
  },
  {
   "cell_type": "code",
   "execution_count": 11,
   "metadata": {
    "collapsed": false
   },
   "outputs": [
    {
     "output_type": "stream",
     "name": "stderr",
     "text": [
      "<ipython-input-11-9ae0ac5c67a3>:1: DeprecationWarning: `np.object` is a deprecated alias for the builtin `object`. To silence this warning, use `object` by itself. Doing this will not modify any behavior and is safe. \nDeprecated in NumPy 1.20; for more details and guidance: https://numpy.org/devdocs/release/1.20.0-notes.html#deprecations\n  fec = read_csv('P00000001-ALL.txt', dtype={'contb_receipt_amt': np.float64, 'file_num': np.int64, 'cmte_id': np.object,\n<ipython-input-11-9ae0ac5c67a3>:2: DeprecationWarning: `np.object` is a deprecated alias for the builtin `object`. To silence this warning, use `object` by itself. Doing this will not modify any behavior and is safe. \nDeprecated in NumPy 1.20; for more details and guidance: https://numpy.org/devdocs/release/1.20.0-notes.html#deprecations\n  'cand_id': np.object, 'cand_nm': np.object, 'contbr_city': np.object,\n<ipython-input-11-9ae0ac5c67a3>:3: DeprecationWarning: `np.object` is a deprecated alias for the builtin `object`. To silence this warning, use `object` by itself. Doing this will not modify any behavior and is safe. \nDeprecated in NumPy 1.20; for more details and guidance: https://numpy.org/devdocs/release/1.20.0-notes.html#deprecations\n  'contbr_st': np.object, 'contbr_zip': np.object, 'contbr_employer': np.object,\n<ipython-input-11-9ae0ac5c67a3>:4: DeprecationWarning: `np.object` is a deprecated alias for the builtin `object`. To silence this warning, use `object` by itself. Doing this will not modify any behavior and is safe. \nDeprecated in NumPy 1.20; for more details and guidance: https://numpy.org/devdocs/release/1.20.0-notes.html#deprecations\n  'contbr_occupation': np.object, 'contb_receipt_dt': np.object, 'memo_cd': np.object,\n<ipython-input-11-9ae0ac5c67a3>:5: DeprecationWarning: `np.object` is a deprecated alias for the builtin `object`. To silence this warning, use `object` by itself. Doing this will not modify any behavior and is safe. \nDeprecated in NumPy 1.20; for more details and guidance: https://numpy.org/devdocs/release/1.20.0-notes.html#deprecations\n  'receipt_desc': np.object, 'memo_text': np.object, 'form_tp':np.object})\n"
     ]
    }
   ],
   "source": [
    "fec = read_csv('P00000001-ALL.txt', dtype={'contb_receipt_amt': np.float64, 'file_num': np.int64, 'cmte_id': np.object,\n",
    "                                           'cand_id': np.object, 'cand_nm': np.object, 'contbr_city': np.object, \n",
    "                                           'contbr_st': np.object, 'contbr_zip': np.object, 'contbr_employer': np.object, \n",
    "                                           'contbr_occupation': np.object, 'contb_receipt_dt': np.object, 'memo_cd': np.object,\n",
    "                                           'receipt_desc': np.object, 'memo_text': np.object, 'form_tp':np.object})"
   ]
  },
  {
   "cell_type": "code",
   "execution_count": 12,
   "metadata": {
    "collapsed": false
   },
   "outputs": [
    {
     "output_type": "stream",
     "name": "stdout",
     "text": [
      "<class 'pandas.core.frame.DataFrame'>\nRangeIndex: 536041 entries, 0 to 536040\nData columns (total 16 columns):\n #   Column             Non-Null Count   Dtype  \n---  ------             --------------   -----  \n 0   cmte_id            536041 non-null  object \n 1   cand_id            536041 non-null  object \n 2   cand_nm            536041 non-null  object \n 3   contbr_nm          536041 non-null  object \n 4   contbr_city        536026 non-null  object \n 5   contbr_st          536040 non-null  object \n 6   contbr_zip         535973 non-null  object \n 7   contbr_employer    525088 non-null  object \n 8   contbr_occupation  530520 non-null  object \n 9   contb_receipt_amt  536041 non-null  float64\n 10  contb_receipt_dt   536041 non-null  object \n 11  receipt_desc       8479 non-null    object \n 12  memo_cd            49718 non-null   object \n 13  memo_text          52740 non-null   object \n 14  form_tp            536041 non-null  object \n 15  file_num           536041 non-null  int64  \ndtypes: float64(1), int64(1), object(14)\nmemory usage: 65.4+ MB\n"
     ]
    }
   ],
   "source": [
    "fec.info(verbose=True) #summery view"
   ]
  },
  {
   "cell_type": "code",
   "execution_count": 5,
   "metadata": {
    "collapsed": false
   },
   "outputs": [
    {
     "output_type": "execute_result",
     "data": {
      "text/plain": [
       "{'Bachmann, Michelle': 'Republican',\n",
       " 'Romney, Mitt': 'Republican',\n",
       " 'Obama, Barack': 'Democrat',\n",
       " \"Roemer, Charles E. 'Buddy' III\": 'Reform',\n",
       " 'Pawlenty, Timothy': 'Republican',\n",
       " 'Johnson, Gary Earl': 'Libertarian',\n",
       " 'Paul, Ron': 'Republican',\n",
       " 'Santorum, Rick': 'Republican',\n",
       " 'Cain, Herman': 'Republican',\n",
       " 'Gingrich, Newt': 'Republican',\n",
       " 'McCotter, Thaddeus G': 'Republican',\n",
       " 'Huntsman, Jon': 'Republican',\n",
       " 'Perry, Rick': 'Republican'}"
      ]
     },
     "metadata": {},
     "execution_count": 5
    }
   ],
   "source": [
    "parties    # dictionary"
   ]
  },
  {
   "cell_type": "code",
   "execution_count": 5,
   "metadata": {
    "collapsed": false
   },
   "outputs": [
    {
     "data": {
      "text/plain": [
       "0         Bachmann, Michelle\n",
       "1         Bachmann, Michelle\n",
       "2         Bachmann, Michelle\n",
       "3         Bachmann, Michelle\n",
       "4         Bachmann, Michelle\n",
       "5         Bachmann, Michelle\n",
       "6         Bachmann, Michelle\n",
       "7         Bachmann, Michelle\n",
       "8         Bachmann, Michelle\n",
       "9         Bachmann, Michelle\n",
       "10        Bachmann, Michelle\n",
       "11        Bachmann, Michelle\n",
       "12        Bachmann, Michelle\n",
       "13        Bachmann, Michelle\n",
       "14        Bachmann, Michelle\n",
       "15        Bachmann, Michelle\n",
       "16        Bachmann, Michelle\n",
       "17        Bachmann, Michelle\n",
       "18        Bachmann, Michelle\n",
       "19        Bachmann, Michelle\n",
       "20        Bachmann, Michelle\n",
       "21        Bachmann, Michelle\n",
       "22        Bachmann, Michelle\n",
       "23        Bachmann, Michelle\n",
       "24        Bachmann, Michelle\n",
       "25        Bachmann, Michelle\n",
       "26        Bachmann, Michelle\n",
       "27        Bachmann, Michelle\n",
       "28        Bachmann, Michelle\n",
       "29        Bachmann, Michelle\n",
       "                 ...        \n",
       "536011           Perry, Rick\n",
       "536012           Perry, Rick\n",
       "536013           Perry, Rick\n",
       "536014           Perry, Rick\n",
       "536015           Perry, Rick\n",
       "536016           Perry, Rick\n",
       "536017           Perry, Rick\n",
       "536018           Perry, Rick\n",
       "536019           Perry, Rick\n",
       "536020           Perry, Rick\n",
       "536021           Perry, Rick\n",
       "536022           Perry, Rick\n",
       "536023           Perry, Rick\n",
       "536024           Perry, Rick\n",
       "536025           Perry, Rick\n",
       "536026           Perry, Rick\n",
       "536027           Perry, Rick\n",
       "536028           Perry, Rick\n",
       "536029           Perry, Rick\n",
       "536030           Perry, Rick\n",
       "536031           Perry, Rick\n",
       "536032           Perry, Rick\n",
       "536033           Perry, Rick\n",
       "536034           Perry, Rick\n",
       "536035           Perry, Rick\n",
       "536036           Perry, Rick\n",
       "536037           Perry, Rick\n",
       "536038           Perry, Rick\n",
       "536039           Perry, Rick\n",
       "536040           Perry, Rick\n",
       "Name: cand_nm, dtype: object"
      ]
     },
     "execution_count": 5,
     "metadata": {},
     "output_type": "execute_result"
    }
   ],
   "source": [
    "fec.cand_nm #candidate name"
   ]
  },
  {
   "cell_type": "code",
   "execution_count": 14,
   "metadata": {
    "collapsed": false
   },
   "outputs": [
    {
     "output_type": "execute_result",
     "data": {
      "text/plain": [
       "0         Republican\n",
       "1         Republican\n",
       "2         Republican\n",
       "3         Republican\n",
       "4         Republican\n",
       "             ...    \n",
       "536036    Republican\n",
       "536037    Republican\n",
       "536038    Republican\n",
       "536039    Republican\n",
       "536040    Republican\n",
       "Name: party, Length: 536041, dtype: object"
      ]
     },
     "metadata": {},
     "execution_count": 14
    }
   ],
   "source": [
    "fec['party'] = fec.cand_nm.map(parties)  # map can take dictionary, series... \n",
    "                                         # Alternatively, use list comprehension: [parties[x] for x in fec.cand_nm]\n",
    "fec.party                                         "
   ]
  },
  {
   "cell_type": "markdown",
   "metadata": {},
   "source": [
    "Read about map [here][r].\n",
    "[r]:http://pandas.pydata.org/pandas-docs/stable/generated/pandas.Series.map.html"
   ]
  },
  {
   "cell_type": "code",
   "execution_count": 16,
   "metadata": {
    "collapsed": false
   },
   "outputs": [
    {
     "output_type": "execute_result",
     "data": {
      "text/plain": [
       "cmte_id                       C00410118\n",
       "cand_id                       P20002978\n",
       "cand_nm              Bachmann, Michelle\n",
       "contbr_nm               HARVEY, WILLIAM\n",
       "contbr_city                      MOBILE\n",
       "contbr_st                            AL\n",
       "contbr_zip                    366010290\n",
       "contbr_employer                 RETIRED\n",
       "contbr_occupation               RETIRED\n",
       "contb_receipt_amt                 250.0\n",
       "contb_receipt_dt              20-JUN-11\n",
       "receipt_desc                        NaN\n",
       "memo_cd                             NaN\n",
       "memo_text                           NaN\n",
       "form_tp                           SA17A\n",
       "file_num                         736166\n",
       "party                        Republican\n",
       "Name: 0, dtype: object"
      ]
     },
     "metadata": {},
     "execution_count": 16
    }
   ],
   "source": [
    "fec.iloc[0]    # A single record."
   ]
  },
  {
   "cell_type": "code",
   "execution_count": 17,
   "metadata": {
    "collapsed": false
   },
   "outputs": [
    {
     "output_type": "execute_result",
     "data": {
      "text/plain": [
       "Democrat       292400\n",
       "Republican     237575\n",
       "Reform           5364\n",
       "Libertarian       702\n",
       "Name: party, dtype: int64"
      ]
     },
     "metadata": {},
     "execution_count": 17
    }
   ],
   "source": [
    "fec.party.value_counts()   # Doing it high level way using histogram. (a histogram of a Series)"
   ]
  },
  {
   "cell_type": "code",
   "execution_count": 18,
   "metadata": {
    "collapsed": false
   },
   "outputs": [
    {
     "output_type": "execute_result",
     "data": {
      "text/plain": [
       "array(['Democrat', 'Libertarian', 'Reform', 'Republican'], dtype=object)"
      ]
     },
     "metadata": {},
     "execution_count": 18
    }
   ],
   "source": [
    "np.unique(fec.party)"
   ]
  },
  {
   "cell_type": "code",
   "execution_count": 10,
   "metadata": {
    "collapsed": false
   },
   "outputs": [
    {
     "data": {
      "text/plain": [
       "party\n",
       "Democrat       8.105758e+07\n",
       "Libertarian    4.132769e+05\n",
       "Reform         3.390338e+05\n",
       "Republican     1.192255e+08\n",
       "Name: contb_receipt_amt, dtype: float64"
      ]
     },
     "execution_count": 10,
     "metadata": {},
     "output_type": "execute_result"
    }
   ],
   "source": [
    "fec.groupby('party')['contb_receipt_amt'].sum()"
   ]
  },
  {
   "cell_type": "code",
   "execution_count": 11,
   "metadata": {
    "collapsed": false
   },
   "outputs": [
    {
     "data": {
      "text/plain": [
       "party       contb_receipt_dt\n",
       "Democrat    01-AUG-11            175281.00\n",
       "            01-DEC-11            651532.82\n",
       "            01-JAN-12             58098.80\n",
       "            01-JUL-11            165961.00\n",
       "            01-JUN-11            145459.00\n",
       "            01-MAY-11             82644.00\n",
       "            01-NOV-11            122529.87\n",
       "            01-OCT-11            148977.00\n",
       "            01-SEP-11            403297.62\n",
       "            02-AUG-11            164510.11\n",
       "            02-DEC-11            216056.96\n",
       "            02-JAN-12             89743.60\n",
       "            02-JUL-11             17105.00\n",
       "            02-JUN-11            422453.00\n",
       "            02-MAY-11            396675.00\n",
       "            02-NOV-11            147183.81\n",
       "            02-OCT-11             62605.62\n",
       "            02-SEP-11            137948.41\n",
       "            03-AUG-11            147053.02\n",
       "            03-DEC-11             81304.02\n",
       "            03-JAN-12             87406.97\n",
       "            03-JUL-11              5982.00\n",
       "            03-JUN-11            320176.20\n",
       "            03-MAY-11            261819.11\n",
       "            03-NOV-11            119304.56\n",
       "            03-OCT-11            363061.02\n",
       "            03-SEP-11             45598.00\n",
       "            04-APR-11            640235.12\n",
       "            04-AUG-11            598784.23\n",
       "            04-DEC-11             72795.10\n",
       "                                   ...    \n",
       "Republican  29-AUG-11            941769.23\n",
       "            29-DEC-11            428501.42\n",
       "            29-JAN-11               750.00\n",
       "            29-JAN-12             75220.02\n",
       "            29-JUL-11            233423.35\n",
       "            29-JUN-11           1340704.29\n",
       "            29-MAR-11             38875.00\n",
       "            29-MAY-11              8363.20\n",
       "            29-NOV-11            407322.64\n",
       "            29-OCT-11             81924.01\n",
       "            29-SEP-11           1612794.52\n",
       "            30-APR-11             43004.80\n",
       "            30-AUG-11            915548.58\n",
       "            30-DEC-11            492470.45\n",
       "            30-JAN-12            255204.80\n",
       "            30-JUL-11             12249.04\n",
       "            30-JUN-11           2744932.63\n",
       "            30-MAR-11             50240.00\n",
       "            30-MAY-11             17803.60\n",
       "            30-NOV-11            809014.83\n",
       "            30-OCT-11             43913.16\n",
       "            30-SEP-11           4886331.76\n",
       "            31-AUG-11           1017735.02\n",
       "            31-DEC-11           1094376.72\n",
       "            31-JAN-11              6000.00\n",
       "            31-JAN-12            869890.41\n",
       "            31-JUL-11             12781.02\n",
       "            31-MAR-11             62475.00\n",
       "            31-MAY-11            301339.80\n",
       "            31-OCT-11            734601.83\n",
       "Name: contb_receipt_amt, dtype: float64"
      ]
     },
     "execution_count": 11,
     "metadata": {},
     "output_type": "execute_result"
    }
   ],
   "source": [
    "fec.groupby(['party', 'contb_receipt_dt'])['contb_receipt_amt'].sum()   # group by party & date --> sum the ammount per date and party\n",
    "# date is Not a python date object."
   ]
  },
  {
   "cell_type": "code",
   "execution_count": 12,
   "metadata": {
    "collapsed": false
   },
   "outputs": [
    {
     "data": {
      "text/plain": [
       "'20-JUN-11'"
      ]
     },
     "execution_count": 12,
     "metadata": {},
     "output_type": "execute_result"
    }
   ],
   "source": [
    "fec.contb_receipt_dt[0]"
   ]
  },
  {
   "cell_type": "code",
   "execution_count": 13,
   "metadata": {
    "collapsed": false
   },
   "outputs": [
    {
     "name": "stdout",
     "output_type": "stream",
     "text": [
      "{'APR': 4, 'MAR': 3, 'OCT': 10, 'MAY': 5, 'JAN': 1, 'DEC': 12, 'JUL': 7, 'AUG': 8, 'FEB': 2, 'SEP': 9, 'NOV': 11, 'JUN': 6}\n"
     ]
    }
   ],
   "source": [
    "print(months)"
   ]
  },
  {
   "cell_type": "markdown",
   "metadata": {},
   "source": [
    "### *she codes;* notes\n",
    "As I told you, this is an old video. You don't need to import datetime and write a fuction that convert strings to dates. You just need to write\n",
    "```python\n",
    "fec['contb_receipt_dt'] = to_datetime(fec['contb_receipt_dt'], format='%d-%b-%y')\n",
    "```"
   ]
  },
  {
   "cell_type": "code",
   "execution_count": 20,
   "metadata": {
    "collapsed": false
   },
   "outputs": [
    {
     "output_type": "execute_result",
     "data": {
      "text/plain": [
       "Timestamp('2011-06-20 00:00:00')"
      ]
     },
     "metadata": {},
     "execution_count": 20
    }
   ],
   "source": [
    "fec['contb_receipt_dt'] = to_datetime(fec['contb_receipt_dt'], format='%d-%b-%y')    # converts the date- time\n",
    "fec.contb_receipt_dt[0]"
   ]
  },
  {
   "cell_type": "code",
   "execution_count": 16,
   "metadata": {
    "collapsed": false
   },
   "outputs": [
    {
     "data": {
      "text/plain": [
       "party       contb_receipt_dt\n",
       "Democrat    2011-04-04           640235.12\n",
       "            2011-04-05           307641.00\n",
       "            2011-04-06           247542.59\n",
       "            2011-04-07           252336.00\n",
       "            2011-04-08           295452.00\n",
       "            2011-04-09           105879.00\n",
       "            2011-04-10           100373.00\n",
       "            2011-04-11           360728.00\n",
       "            2011-04-12           405160.46\n",
       "            2011-04-13           382836.33\n",
       "            2011-04-14           306643.50\n",
       "            2011-04-15           408377.00\n",
       "            2011-04-16            82658.00\n",
       "            2011-04-17            70802.00\n",
       "            2011-04-18           501971.37\n",
       "            2011-04-19           304874.00\n",
       "            2011-04-20           314540.11\n",
       "            2011-04-21           315618.00\n",
       "            2011-04-22           295464.45\n",
       "            2011-04-23            34829.00\n",
       "            2011-04-24            37100.00\n",
       "            2011-04-25           447282.00\n",
       "            2011-04-26           600960.50\n",
       "            2011-04-27           188595.00\n",
       "            2011-04-28           677041.36\n",
       "            2011-04-29           294709.00\n",
       "            2011-04-30            95582.00\n",
       "            2011-05-01            82644.00\n",
       "            2011-05-02           396675.00\n",
       "            2011-05-03           261819.11\n",
       "                                   ...    \n",
       "Republican  2012-01-02           114037.13\n",
       "            2012-01-03           155803.62\n",
       "            2012-01-04           577733.61\n",
       "            2012-01-05           451065.98\n",
       "            2012-01-06           262798.46\n",
       "            2012-01-07           148145.58\n",
       "            2012-01-08            84342.84\n",
       "            2012-01-09           501931.44\n",
       "            2012-01-10           487901.67\n",
       "            2012-01-11           452916.99\n",
       "            2012-01-12           348327.39\n",
       "            2012-01-13           463368.26\n",
       "            2012-01-14           608470.68\n",
       "            2012-01-15           322194.08\n",
       "            2012-01-16           367791.70\n",
       "            2012-01-17           625365.77\n",
       "            2012-01-18           888681.17\n",
       "            2012-01-19          1066250.23\n",
       "            2012-01-20           401298.03\n",
       "            2012-01-21           374261.81\n",
       "            2012-01-22           507168.71\n",
       "            2012-01-23           645477.15\n",
       "            2012-01-24           462233.66\n",
       "            2012-01-25           416931.39\n",
       "            2012-01-26           256406.86\n",
       "            2012-01-27           368441.82\n",
       "            2012-01-28            82775.80\n",
       "            2012-01-29            75220.02\n",
       "            2012-01-30           255204.80\n",
       "            2012-01-31           869890.41\n",
       "Name: contb_receipt_amt, dtype: float64"
      ]
     },
     "execution_count": 16,
     "metadata": {},
     "output_type": "execute_result"
    }
   ],
   "source": [
    "fec.groupby(['party', 'contb_receipt_dt'])['contb_receipt_amt'].sum() # Same as above, however, date converted to python object."
   ]
  },
  {
   "cell_type": "code",
   "execution_count": 22,
   "metadata": {
    "collapsed": false
   },
   "outputs": [
    {
     "output_type": "execute_result",
     "data": {
      "text/plain": [
       "party       contb_receipt_dt\n",
       "Democrat    2011-04-04          640235.12\n",
       "            2011-04-05          307641.00\n",
       "            2011-04-06          247542.59\n",
       "            2011-04-07          252336.00\n",
       "            2011-04-08          295452.00\n",
       "                                  ...    \n",
       "Republican  2012-01-27          368441.82\n",
       "            2012-01-28           82775.80\n",
       "            2012-01-29           75220.02\n",
       "            2012-01-30          255204.80\n",
       "            2012-01-31          869890.41\n",
       "Name: contb_receipt_amt, Length: 1183, dtype: float64"
      ]
     },
     "metadata": {},
     "execution_count": 22
    }
   ],
   "source": [
    "by_date = fec.groupby(['party', 'contb_receipt_dt'])['contb_receipt_amt'].sum()    # save it to a series with 2 indexes\n",
    "by_date"
   ]
  },
  {
   "cell_type": "code",
   "execution_count": 23,
   "metadata": {},
   "outputs": [
    {
     "output_type": "execute_result",
     "data": {
      "text/plain": [
       "party               Democrat  Libertarian   Reform  Republican\n",
       "contb_receipt_dt                                              \n",
       "2011-01-01               NaN          NaN      NaN     8600.00\n",
       "2011-01-03               NaN          NaN      NaN     4800.00\n",
       "2011-01-04               NaN          NaN      NaN     5000.00\n",
       "2011-01-12               NaN          NaN      NaN     4150.00\n",
       "2011-01-13               NaN          NaN      NaN     4000.00\n",
       "...                      ...          ...      ...         ...\n",
       "2012-01-27         305785.47          NaN  3176.37   368441.82\n",
       "2012-01-28         235492.85          NaN   175.00    82775.80\n",
       "2012-01-29          93177.00          NaN   200.00    75220.02\n",
       "2012-01-30         435921.72          NaN   130.00   255204.80\n",
       "2012-01-31        1418410.31          NaN   150.00   869890.41\n",
       "\n",
       "[376 rows x 4 columns]"
      ]
     },
     "metadata": {},
     "execution_count": 23
    }
   ],
   "source": [
    "by_date.unstack('party')    # unstack the party = puts the parties in the column names instead of index\n"
   ]
  },
  {
   "cell_type": "code",
   "execution_count": 18,
   "metadata": {
    "collapsed": false
   },
   "outputs": [
    {
     "name": "stdout",
     "output_type": "stream",
     "text": [
      "<class 'pandas.core.frame.DataFrame'>\n",
      "DatetimeIndex: 376 entries, 2011-01-01 to 2012-01-31\n",
      "Data columns (total 4 columns):\n",
      "Democrat       303 non-null float64\n",
      "Libertarian    190 non-null float64\n",
      "Reform         314 non-null float64\n",
      "Republican     376 non-null float64\n",
      "dtypes: float64(4)\n",
      "memory usage: 14.7 KB\n"
     ]
    }
   ],
   "source": [
    "\n",
    "by_date.unstack('party').info(verbose=True)   # Indexes are dates. Columns are political parties.\n"
   ]
  },
  {
   "cell_type": "code",
   "execution_count": 19,
   "metadata": {
    "collapsed": false
   },
   "outputs": [
    {
     "data": {
      "text/plain": [
       "<matplotlib.axes._subplots.AxesSubplot at 0x1b51f87b780>"
      ]
     },
     "execution_count": 19,
     "metadata": {},
     "output_type": "execute_result"
    },
    {
     "data": {
      "image/png": "[encoded data removed]",
      "text/plain": [
       "<matplotlib.figure.Figure at 0x1b5225d8470>"
      ]
     },
     "metadata": {},
     "output_type": "display_data"
    }
   ],
   "source": [
    "by_date.unstack('party').cumsum().plot()    # cumulative sum over time"
   ]
  },
  {
   "cell_type": "code",
   "execution_count": 25,
   "metadata": {
    "collapsed": false
   },
   "outputs": [],
   "source": [
    "s = by_date.unstack('party')[-5:].stack() #only the last 5 indexes"
   ]
  },
  {
   "cell_type": "code",
   "execution_count": 21,
   "metadata": {
    "collapsed": false
   },
   "outputs": [
    {
     "data": {
      "text/plain": [
       "contb_receipt_dt  party     \n",
       "2012-01-27        Democrat       305785.47\n",
       "                  Reform           3176.37\n",
       "                  Republican     368441.82\n",
       "2012-01-28        Democrat       235492.85\n",
       "                  Reform            175.00\n",
       "                  Republican      82775.80\n",
       "2012-01-29        Democrat        93177.00\n",
       "                  Reform            200.00\n",
       "                  Republican      75220.02\n",
       "2012-01-30        Democrat       435921.72\n",
       "                  Reform            130.00\n",
       "                  Republican     255204.80\n",
       "2012-01-31        Democrat      1418410.31\n",
       "                  Reform            150.00\n",
       "                  Republican     869890.41\n",
       "dtype: float64"
      ]
     },
     "execution_count": 21,
     "metadata": {},
     "output_type": "execute_result"
    }
   ],
   "source": [
    "s    # Note the inner level indexes. Not every date has 3 parties. Top level indexes are dates. stack() makes 1 dimensional.\n",
    "     # Labels propagated down for all 3 observations: political parties."
   ]
  },
  {
   "cell_type": "code",
   "execution_count": 22,
   "metadata": {
    "collapsed": false
   },
   "outputs": [
    {
     "data": {
      "text/plain": [
       "party               Democrat   Reform  Republican\n",
       "contb_receipt_dt                                 \n",
       "2012-01-27         305785.47  3176.37   368441.82\n",
       "2012-01-28         235492.85   175.00    82775.80\n",
       "2012-01-29          93177.00   200.00    75220.02\n",
       "2012-01-30         435921.72   130.00   255204.80\n",
       "2012-01-31        1418410.31   150.00   869890.41"
      ]
     },
     "execution_count": 22,
     "metadata": {},
     "output_type": "execute_result"
    }
   ],
   "source": [
    "set_option('display.notebook_repr_html', False)  # turn off html, i.e., without table.\n",
    "s.unstack()    # unstack() =  2 dimensional. "
   ]
  },
  {
   "cell_type": "code",
   "execution_count": 23,
   "metadata": {
    "collapsed": false
   },
   "outputs": [
    {
     "data": {
      "text/plain": [
       "contb_receipt_dt  party     \n",
       "2012-01-27        Democrat       305785.47\n",
       "                  Reform           3176.37\n",
       "                  Republican     368441.82\n",
       "2012-01-28        Democrat       235492.85\n",
       "                  Reform            175.00\n",
       "                  Republican      82775.80\n",
       "2012-01-29        Democrat        93177.00\n",
       "                  Reform            200.00\n",
       "                  Republican      75220.02\n",
       "2012-01-30        Democrat       435921.72\n",
       "                  Reform            130.00\n",
       "                  Republican     255204.80\n",
       "2012-01-31        Democrat      1418410.31\n",
       "                  Reform            150.00\n",
       "                  Republican     869890.41\n",
       "dtype: float64"
      ]
     },
     "execution_count": 23,
     "metadata": {},
     "output_type": "execute_result"
    }
   ],
   "source": [
    "s.unstack().stack()  # 2 dimensional to 1 dimensional"
   ]
  },
  {
   "cell_type": "code",
   "execution_count": 24,
   "metadata": {
    "collapsed": false
   },
   "outputs": [],
   "source": [
    "df = s.unstack('party')   # data frame"
   ]
  },
  {
   "cell_type": "code",
   "execution_count": 25,
   "metadata": {
    "collapsed": false
   },
   "outputs": [
    {
     "data": {
      "text/plain": [
       "contb_receipt_dt  2012-01-27  2012-01-28  2012-01-29  2012-01-30  2012-01-31\n",
       "party                                                                       \n",
       "Democrat           305785.47   235492.85    93177.00   435921.72  1418410.31\n",
       "Reform               3176.37      175.00      200.00      130.00      150.00\n",
       "Republican         368441.82    82775.80    75220.02   255204.80   869890.41"
      ]
     },
     "execution_count": 25,
     "metadata": {},
     "output_type": "execute_result"
    }
   ],
   "source": [
    "s.unstack('contb_receipt_dt')"
   ]
  },
  {
   "cell_type": "code",
   "execution_count": 26,
   "metadata": {
    "collapsed": false
   },
   "outputs": [
    {
     "data": {
      "text/plain": [
       "                           A                               B           \\\n",
       "party               Democrat   Reform Republican    Democrat   Reform   \n",
       "contb_receipt_dt                                                        \n",
       "2012-01-27         305785.47  3176.37  368441.82   305785.47  3176.37   \n",
       "2012-01-28         235492.85   175.00   82775.80   235492.85   175.00   \n",
       "2012-01-29          93177.00   200.00   75220.02    93177.00   200.00   \n",
       "2012-01-30         435921.72   130.00  255204.80   435921.72   130.00   \n",
       "2012-01-31        1418410.31   150.00  869890.41  1418410.31   150.00   \n",
       "\n",
       "                             \n",
       "party            Republican  \n",
       "contb_receipt_dt             \n",
       "2012-01-27        368441.82  \n",
       "2012-01-28         82775.80  \n",
       "2012-01-29         75220.02  \n",
       "2012-01-30        255204.80  \n",
       "2012-01-31        869890.41  "
      ]
     },
     "execution_count": 26,
     "metadata": {},
     "output_type": "execute_result"
    }
   ],
   "source": [
    "concat([df, df], axis=1, keys=['A', 'B'])  # join 2 copies of data frame.\n",
    "                                           # standard hierarchical indexing stuff."
   ]
  },
  {
   "cell_type": "code",
   "execution_count": 27,
   "metadata": {
    "collapsed": false
   },
   "outputs": [
    {
     "data": {
      "text/plain": [
       "party               Democrat   Reform  Republican\n",
       "contb_receipt_dt                                 \n",
       "2012-01-27         305785.47  3176.37   368441.82\n",
       "2012-01-28         235492.85   175.00    82775.80\n",
       "2012-01-29          93177.00   200.00    75220.02\n",
       "2012-01-30         435921.72   130.00   255204.80\n",
       "2012-01-31        1418410.31   150.00   869890.41"
      ]
     },
     "execution_count": 27,
     "metadata": {},
     "output_type": "execute_result"
    }
   ],
   "source": [
    "concat([df, df], axis=1, keys=['A', 'B'])['A']   # select out columns by the first key 'A'. Or select out the 'B' group.conc"
   ]
  },
  {
   "cell_type": "code",
   "execution_count": 28,
   "metadata": {
    "collapsed": false
   },
   "outputs": [
    {
     "data": {
      "text/plain": [
       "                                      A           B\n",
       "contb_receipt_dt party                             \n",
       "2012-01-27       Democrat     305785.47   305785.47\n",
       "                 Reform         3176.37     3176.37\n",
       "                 Republican   368441.82   368441.82\n",
       "2012-01-28       Democrat     235492.85   235492.85\n",
       "                 Reform          175.00      175.00\n",
       "                 Republican    82775.80    82775.80\n",
       "2012-01-29       Democrat      93177.00    93177.00\n",
       "                 Reform          200.00      200.00\n",
       "                 Republican    75220.02    75220.02\n",
       "2012-01-30       Democrat     435921.72   435921.72\n",
       "                 Reform          130.00      130.00\n",
       "                 Republican   255204.80   255204.80\n",
       "2012-01-31       Democrat    1418410.31  1418410.31\n",
       "                 Reform          150.00      150.00\n",
       "                 Republican   869890.41   869890.41"
      ]
     },
     "execution_count": 28,
     "metadata": {},
     "output_type": "execute_result"
    }
   ],
   "source": [
    "concat([df, df], axis=1, keys=['A', 'B']).stack('party')"
   ]
  },
  {
   "cell_type": "code",
   "execution_count": 29,
   "metadata": {
    "collapsed": false
   },
   "outputs": [
    {
     "data": {
      "text/plain": [
       "party                 Democrat   Reform  Republican\n",
       "contb_receipt_dt                                   \n",
       "2012-01-27       A   305785.47  3176.37   368441.82\n",
       "                 B   305785.47  3176.37   368441.82\n",
       "2012-01-28       A   235492.85   175.00    82775.80\n",
       "                 B   235492.85   175.00    82775.80\n",
       "2012-01-29       A    93177.00   200.00    75220.02\n",
       "                 B    93177.00   200.00    75220.02\n",
       "2012-01-30       A   435921.72   130.00   255204.80\n",
       "                 B   435921.72   130.00   255204.80\n",
       "2012-01-31       A  1418410.31   150.00   869890.41\n",
       "                 B  1418410.31   150.00   869890.41"
      ]
     },
     "execution_count": 29,
     "metadata": {},
     "output_type": "execute_result"
    }
   ],
   "source": [
    "concat([df, df], axis=1, keys=['A', 'B']).stack(0)  # The group indexes have no labels."
   ]
  },
  {
   "cell_type": "code",
   "execution_count": 26,
   "metadata": {
    "collapsed": false
   },
   "outputs": [],
   "source": [
    "result = fec.groupby(['cand_nm', 'contbr_occupation'])['contb_receipt_amt'].sum()   \n",
    "# Top contributors to candidates by occupation."
   ]
  },
  {
   "cell_type": "code",
   "execution_count": 31,
   "metadata": {
    "collapsed": false
   },
   "outputs": [
    {
     "data": {
      "text/plain": [
       "cand_nm             contbr_occupation             \n",
       "Bachmann, Michelle  100% DISABLED VETERAN              1869.50\n",
       "                    100% DISABLED VIETNAM VETERAN       236.25\n",
       "                    A/C AND HEAT                        250.00\n",
       "                    ACADEMIC EMPLOYMENT SPECIALIST       25.00\n",
       "                    ACCOUNT                              50.00\n",
       "                    ACCOUNT ANALYST                     200.00\n",
       "                    ACCOUNT EXECUTIVE                   100.00\n",
       "                    ACCOUNT MANAGER                     230.00\n",
       "                    ACCOUNTANT                        12979.00\n",
       "                    ACCOUNTANT TRAINER                  250.00\n",
       "                    ACCOUNTING                          350.00\n",
       "                    ACCOUNTING MANAGER                   50.00\n",
       "                    ACCOUNTING SPECIALIST               250.00\n",
       "                    ACCOUNTING SUPERVISOR               125.00\n",
       "                    ACCOUNTING/AUDITING                 700.00\n",
       "                    ACTIVE DUTY MILITARY                125.00\n",
       "                    ACTRESS                             601.00\n",
       "                    ACTUARY                            1050.00\n",
       "                    AD EXEC                             401.00\n",
       "                    ADJURET ASST. PROF                   31.00\n",
       "                    ADJUSTER                            250.00\n",
       "                    ADMIN. ASSISTANT                    250.00\n",
       "                    ADMINISNATIVE ASST                  125.00\n",
       "                    ADMINISTRATION                     1245.00\n",
       "                    ADMINISTRATIVE ASSISTANT            300.00\n",
       "                    ADMINISTRATIVE EXECUTIVE            200.00\n",
       "                    ADMINISTRATIVE LAW JUDGE            575.00\n",
       "                    ADMINISTRATIVE MED PRAC             100.00\n",
       "                    ADMINISTRATOR                      4587.00\n",
       "                    ADMINSTRATOR                        300.00\n",
       "                                                        ...   \n",
       "Santorum, Rick      WEB COMM. MANAGER                  1000.00\n",
       "                    WEB DESIGN                          500.00\n",
       "                    WEB DESIGNER                        235.00\n",
       "                    WEBMASTER                           250.00\n",
       "                    WELD ENGINEER                      1000.00\n",
       "                    WELDER                              250.00\n",
       "                    WELL BEING                          250.00\n",
       "                    WELL BEING COORDINATOR              300.00\n",
       "                    WELLBORN CABINET INC.               500.00\n",
       "                    WHEATON COLLEGE (IL) STUDENT        250.00\n",
       "                    WHOLESALE MFG                       400.00\n",
       "                    WIDOW                                80.00\n",
       "                    WIFE AND MOTHER                    1500.00\n",
       "                    WIFE AND MOTHER (AT HOME)           100.00\n",
       "                    WIFE MOTHER TEACHER                1000.00\n",
       "                    WILDLIFE REFUGE MANAGER             200.00\n",
       "                    WIND FARM DEVELOPER                 400.00\n",
       "                    WINDOW CLEANER                       85.00\n",
       "                    WINERY                              300.00\n",
       "                    WIRELESS NETWORK ENGINEER           220.15\n",
       "                    WITHHELD                           1000.00\n",
       "                    WNG                                 700.00\n",
       "                    WORKER II                           300.00\n",
       "                    WRITER                             4894.55\n",
       "                    WRITER ACTIVIST                    1112.00\n",
       "                    WRITER EDITOR                       250.00\n",
       "                    WRITER/ACCOUNT EXEC                 500.00\n",
       "                    WRITER/JOURNALIST                   250.00\n",
       "                    WRITER/LAWYER                       300.00\n",
       "                    YOUTH MINISTER                      250.00\n",
       "Name: contb_receipt_amt, dtype: float64"
      ]
     },
     "execution_count": 31,
     "metadata": {},
     "output_type": "execute_result"
    }
   ],
   "source": [
    "result  # is a data frame instead of series."
   ]
  },
  {
   "cell_type": "code",
   "execution_count": 27,
   "metadata": {
    "collapsed": false
   },
   "outputs": [
    {
     "output_type": "execute_result",
     "data": {
      "text/plain": [
       "cand_nm\n",
       "Paul, Ron    1556.0\n",
       "Name: contb_receipt_amt, dtype: float64"
      ]
     },
     "metadata": {},
     "execution_count": 27
    }
   ],
   "source": [
    "result[:, 'ZOMBIE SLAYER']"
   ]
  },
  {
   "cell_type": "code",
   "execution_count": 33,
   "metadata": {
    "collapsed": false
   },
   "outputs": [
    {
     "name": "stdout",
     "output_type": "stream",
     "text": [
      "<class 'pandas.core.frame.DataFrame'>\n",
      "MultiIndex: 40161 entries, (Bachmann, Michelle, 100% DISABLED VETERAN) to (Santorum, Rick, YOUTH MINISTER)\n",
      "Data columns (total 2 columns):\n",
      "contb_receipt_amt    40161 non-null float64\n",
      "file_num             40161 non-null int64\n",
      "dtypes: float64(1), int64(1)\n",
      "memory usage: 941.3+ KB\n"
     ]
    }
   ],
   "source": [
    "result = fec.groupby(['cand_nm', 'contbr_occupation']).sum().info(verbose=True) \n",
    "# When doing this aggregation, we don't need to select the columns as above.\n",
    "# There are columns that are not possible to sum. The code actually tries to sum them all: nuisance columns. \n",
    "# Whenever it fails, it just silently drops them out."
   ]
  },
  {
   "cell_type": "code",
   "execution_count": 28,
   "metadata": {},
   "outputs": [
    {
     "output_type": "execute_result",
     "data": {
      "text/plain": [
       "cand_nm             contbr_occupation             \n",
       "Bachmann, Michelle  100% DISABLED VETERAN             1869.50\n",
       "                    100% DISABLED VIETNAM VETERAN      236.25\n",
       "                    A/C AND HEAT                       250.00\n",
       "                    ACADEMIC EMPLOYMENT SPECIALIST      25.00\n",
       "                    ACCOUNT                             50.00\n",
       "Name: contb_receipt_amt, dtype: float64"
      ]
     },
     "metadata": {},
     "execution_count": 28
    }
   ],
   "source": [
    "result.head()"
   ]
  },
  {
   "cell_type": "code",
   "execution_count": 29,
   "metadata": {
    "collapsed": false
   },
   "outputs": [
    {
     "output_type": "execute_result",
     "data": {
      "text/plain": [
       "              cand_nm               contbr_occupation  contb_receipt_amt  \\\n",
       "0  Bachmann, Michelle           100% DISABLED VETERAN            1869.50   \n",
       "1  Bachmann, Michelle   100% DISABLED VIETNAM VETERAN             236.25   \n",
       "2  Bachmann, Michelle                    A/C AND HEAT             250.00   \n",
       "3  Bachmann, Michelle  ACADEMIC EMPLOYMENT SPECIALIST              25.00   \n",
       "4  Bachmann, Michelle                         ACCOUNT              50.00   \n",
       "\n",
       "   file_num  \n",
       "0   6807894  \n",
       "1   2260398  \n",
       "2    749016  \n",
       "3    762366  \n",
       "4    762366  "
      ]
     },
     "metadata": {},
     "execution_count": 29
    }
   ],
   "source": [
    "result = fec.groupby(['cand_nm', 'contbr_occupation']).sum().reset_index()  \n",
    "# opposite of set_index(). Took 'cand_nm' and 'contbr_occupation' and set them as col indexes again, \n",
    "#  so that the indexes are just simple integer indexes.\n",
    "result.head()"
   ]
  },
  {
   "cell_type": "code",
   "execution_count": 35,
   "metadata": {
    "collapsed": false
   },
   "outputs": [
    {
     "name": "stdout",
     "output_type": "stream",
     "text": [
      "<class 'pandas.core.frame.DataFrame'>\n",
      "RangeIndex: 40161 entries, 0 to 40160\n",
      "Data columns (total 4 columns):\n",
      "cand_nm              40161 non-null object\n",
      "contbr_occupation    40161 non-null object\n",
      "contb_receipt_amt    40161 non-null float64\n",
      "file_num             40161 non-null int64\n",
      "dtypes: float64(1), int64(1), object(2)\n",
      "memory usage: 1.2+ MB\n"
     ]
    }
   ],
   "source": [
    "result.info(verbose=True)"
   ]
  },
  {
   "cell_type": "code",
   "execution_count": 30,
   "metadata": {
    "collapsed": false
   },
   "outputs": [
    {
     "output_type": "execute_result",
     "data": {
      "text/plain": [
       "                                     cand_nm  \\\n",
       "cand_nm                                        \n",
       "Bachmann, Michelle 920    Bachmann, Michelle   \n",
       "                   892    Bachmann, Michelle   \n",
       "                   555    Bachmann, Michelle   \n",
       "                   594    Bachmann, Michelle   \n",
       "                   1058   Bachmann, Michelle   \n",
       "...                                      ...   \n",
       "Santorum, Rick     38856      Santorum, Rick   \n",
       "                   39180      Santorum, Rick   \n",
       "                   39341      Santorum, Rick   \n",
       "                   39305      Santorum, Rick   \n",
       "                   39812      Santorum, Rick   \n",
       "\n",
       "                                             contbr_occupation  \\\n",
       "cand_nm                                                          \n",
       "Bachmann, Michelle 920                               PRESIDENT   \n",
       "                   892                               PHYSICIAN   \n",
       "                   555                               HOMEMAKER   \n",
       "                   594                   INFORMATION REQUESTED   \n",
       "                   1058                                RETIRED   \n",
       "...                                                        ...   \n",
       "Santorum, Rick     38856                              ATTORNEY   \n",
       "                   39180                             EXECUTIVE   \n",
       "                   39341  INFORMATION REQUESTED (BEST EFFORTS)   \n",
       "                   39305                             HOMEMAKER   \n",
       "                   39812                               RETIRED   \n",
       "\n",
       "                          contb_receipt_amt    file_num  \n",
       "cand_nm                                                  \n",
       "Bachmann, Michelle 920             68781.00    95289630  \n",
       "                   892             76134.00   198136204  \n",
       "                   555            102540.00   237509004  \n",
       "                   594            147638.89   835457555  \n",
       "                   1058           824618.05  3260564234  \n",
       "...                                     ...         ...  \n",
       "Santorum, Rick     38856          107130.00   189114568  \n",
       "                   39180          131456.55   106279150  \n",
       "                   39341          284718.10   502656827  \n",
       "                   39305          350597.75   502312893  \n",
       "                   39812          421952.98  1341605527  \n",
       "\n",
       "[65 rows x 4 columns]"
      ],
      "text/html": "<div>\n<style scoped>\n    .dataframe tbody tr th:only-of-type {\n        vertical-align: middle;\n    }\n\n    .dataframe tbody tr th {\n        vertical-align: top;\n    }\n\n    .dataframe thead th {\n        text-align: right;\n    }\n</style>\n<table border=\"1\" class=\"dataframe\">\n  <thead>\n    <tr style=\"text-align: right;\">\n      <th></th>\n      <th></th>\n      <th>cand_nm</th>\n      <th>contbr_occupation</th>\n      <th>contb_receipt_amt</th>\n      <th>file_num</th>\n    </tr>\n    <tr>\n      <th>cand_nm</th>\n      <th></th>\n      <th></th>\n      <th></th>\n      <th></th>\n      <th></th>\n    </tr>\n  </thead>\n  <tbody>\n    <tr>\n      <th rowspan=\"5\" valign=\"top\">Bachmann, Michelle</th>\n      <th>920</th>\n      <td>Bachmann, Michelle</td>\n      <td>PRESIDENT</td>\n      <td>68781.00</td>\n      <td>95289630</td>\n    </tr>\n    <tr>\n      <th>892</th>\n      <td>Bachmann, Michelle</td>\n      <td>PHYSICIAN</td>\n      <td>76134.00</td>\n      <td>198136204</td>\n    </tr>\n    <tr>\n      <th>555</th>\n      <td>Bachmann, Michelle</td>\n      <td>HOMEMAKER</td>\n      <td>102540.00</td>\n      <td>237509004</td>\n    </tr>\n    <tr>\n      <th>594</th>\n      <td>Bachmann, Michelle</td>\n      <td>INFORMATION REQUESTED</td>\n      <td>147638.89</td>\n      <td>835457555</td>\n    </tr>\n    <tr>\n      <th>1058</th>\n      <td>Bachmann, Michelle</td>\n      <td>RETIRED</td>\n      <td>824618.05</td>\n      <td>3260564234</td>\n    </tr>\n    <tr>\n      <th>...</th>\n      <th>...</th>\n      <td>...</td>\n      <td>...</td>\n      <td>...</td>\n      <td>...</td>\n    </tr>\n    <tr>\n      <th rowspan=\"5\" valign=\"top\">Santorum, Rick</th>\n      <th>38856</th>\n      <td>Santorum, Rick</td>\n      <td>ATTORNEY</td>\n      <td>107130.00</td>\n      <td>189114568</td>\n    </tr>\n    <tr>\n      <th>39180</th>\n      <td>Santorum, Rick</td>\n      <td>EXECUTIVE</td>\n      <td>131456.55</td>\n      <td>106279150</td>\n    </tr>\n    <tr>\n      <th>39341</th>\n      <td>Santorum, Rick</td>\n      <td>INFORMATION REQUESTED (BEST EFFORTS)</td>\n      <td>284718.10</td>\n      <td>502656827</td>\n    </tr>\n    <tr>\n      <th>39305</th>\n      <td>Santorum, Rick</td>\n      <td>HOMEMAKER</td>\n      <td>350597.75</td>\n      <td>502312893</td>\n    </tr>\n    <tr>\n      <th>39812</th>\n      <td>Santorum, Rick</td>\n      <td>RETIRED</td>\n      <td>421952.98</td>\n      <td>1341605527</td>\n    </tr>\n  </tbody>\n</table>\n<p>65 rows × 4 columns</p>\n</div>"
     },
     "metadata": {},
     "execution_count": 30
    }
   ],
   "source": [
    "# We have so far aggregated total amount donated to each political party by occupation (the first groupby).\n",
    "# Additional groupby let us split them up by candidate, sort them in descending order by total amount donated and take the top 5.\n",
    "set_option('display.notebook_repr_html', True)\n",
    "def top5_donors(group):\n",
    "    return group.sort_values(by='contb_receipt_amt')[-5:]\n",
    "# top5_donors(result)\n",
    "result.groupby('cand_nm').apply(top5_donors)   # The retired donated the most to Barack Obama."
   ]
  },
  {
   "cell_type": "code",
   "execution_count": 34,
   "metadata": {
    "collapsed": false
   },
   "outputs": [
    {
     "output_type": "execute_result",
     "data": {
      "text/plain": [
       "BlockManager\n",
       "Items: Index(['cand_nm', 'contbr_occupation', 'contb_receipt_amt', 'file_num'], dtype='object')\n",
       "Axis 1: RangeIndex(start=0, stop=40161, step=1)\n",
       "FloatBlock: slice(2, 3, 1), 1 x 40161, dtype: float64\n",
       "IntBlock: slice(3, 4, 1), 1 x 40161, dtype: int64\n",
       "ObjectBlock: slice(0, 2, 1), 2 x 40161, dtype: object"
      ]
     },
     "metadata": {},
     "execution_count": 34
    }
   ],
   "source": [
    "result._data   \n",
    "# Internal data structure. The back data frame. \n",
    "# Having hierarchical indexing medicates a lot of the need for higher dimensional objects (because they're very sparse)."
   ]
  },
  {
   "cell_type": "code",
   "execution_count": 33,
   "metadata": {
    "collapsed": false
   },
   "outputs": [],
   "source": [
    "# Time Series for financial data will be improved next."
   ]
  },
  {
   "cell_type": "code",
   "execution_count": null,
   "metadata": {},
   "outputs": [],
   "source": []
  }
 ],
 "metadata": {
  "kernelspec": {
   "name": "python3",
   "display_name": "Python 3.9.2 64-bit"
  },
  "language_info": {
   "codemirror_mode": {
    "name": "ipython",
    "version": 3
   },
   "file_extension": ".py",
   "mimetype": "text/x-python",
   "name": "python",
   "nbconvert_exporter": "python",
   "pygments_lexer": "ipython3",
   "version": "3.9.2"
  },
  "interpreter": {
   "hash": "c98bad758fdc1a8561ae45ecc54528f52ddf29c5a422c397ff5dc68402ca37fd"
  }
 },
 "nbformat": 4,
 "nbformat_minor": 0
}