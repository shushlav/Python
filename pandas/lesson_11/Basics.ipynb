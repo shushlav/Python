{
 "cells": [
  {
   "cell_type": "markdown",
   "metadata": {},
   "source": [
    "<span style=\"color:gray; font-weight: bold\">Editor:</span> <span style=\"color:gray; font-weight: bold; font-style: italic\">Dar Lador, she codes;</span>"
   ]
  },
  {
   "cell_type": "code",
   "execution_count": 2,
   "metadata": {},
   "outputs": [],
   "source": [
    "%matplotlib inline\n",
    "from pandas import *\n",
    "import pandas\n",
    "import numpy as np\n",
    "import matplotlib.pyplot as plt\n",
    "\n",
    "def side_by_side(*objs, **kwds):\n",
    "    from pandas.io.formats.printing import adjoin\n",
    "    space = kwds.get('space', 4)\n",
    "    reprs = [repr(obj).split('\\n') for obj in objs]\n",
    "    print(adjoin(space, *reprs))\n",
    "\n",
    "plt.rc('figure', figsize=(10, 6))\n",
    "# pandas.set_printoptions(notebook_repr_html=False)"
   ]
  },
  {
   "cell_type": "code",
   "execution_count": 3,
   "metadata": {},
   "outputs": [
    {
     "output_type": "display_data",
     "data": {
      "text/plain": "<Figure size 720x432 with 1 Axes>",
      "image/svg+xml": "<?xml version=\"1.0\" encoding=\"utf-8\" standalone=\"no\"?>\r\n<!DOCTYPE svg PUBLIC \"-//W3C//DTD SVG 1.1//EN\"\r\n  \"http://www.w3.org/Graphics/SVG/1.1/DTD/svg11.dtd\">\r\n<!-- Created with matplotlib (https://matplotlib.org/) -->\r\n<svg height=\"357.238125pt\" version=\"1.1\" viewBox=\"0 0 585.7625 357.238125\" width=\"585.7625pt\" xmlns=\"http://www.w3.org/2000/svg\" xmlns:xlink=\"http://www.w3.org/1999/xlink\">\r\n <metadata>\r\n  <rdf:RDF xmlns:cc=\"http://creativecommons.org/ns#\" xmlns:dc=\"http://purl.org/dc/elements/1.1/\" xmlns:rdf=\"http://www.w3.org/1999/02/22-rdf-syntax-ns#\">\r\n   <cc:Work>\r\n    <dc:type rdf:resource=\"http://purl.org/dc/dcmitype/StillImage\"/>\r\n    <dc:date>2021-06-12T12:46:19.080734</dc:date>\r\n    <dc:format>image/svg+xml</dc:format>\r\n    <dc:creator>\r\n     <cc:Agent>\r\n      <dc:title>Matplotlib v3.3.4, https://matplotlib.org/</dc:title>\r\n     </cc:Agent>\r\n    </dc:creator>\r\n   </cc:Work>\r\n  </rdf:RDF>\r\n </metadata>\r\n <defs>\r\n  <style type=\"text/css\">*{stroke-linecap:butt;stroke-linejoin:round;}</style>\r\n </defs>\r\n <g id=\"figure_1\">\r\n  <g id=\"patch_1\">\r\n   <path d=\"M 0 357.238125 \r\nL 585.7625 357.238125 \r\nL 585.7625 0 \r\nL 0 0 \r\nz\r\n\" style=\"fill:none;\"/>\r\n  </g>\r\n  <g id=\"axes_1\">\r\n   <g id=\"patch_2\">\r\n    <path d=\"M 20.5625 333.36 \r\nL 578.5625 333.36 \r\nL 578.5625 7.2 \r\nL 20.5625 7.2 \r\nz\r\n\" style=\"fill:#ffffff;\"/>\r\n   </g>\r\n   <g id=\"matplotlib.axis_1\">\r\n    <g id=\"xtick_1\">\r\n     <g id=\"line2d_1\">\r\n      <defs>\r\n       <path d=\"M 0 0 \r\nL 0 3.5 \r\n\" id=\"m048e4c581a\" style=\"stroke:#000000;stroke-width:0.8;\"/>\r\n      </defs>\r\n      <g>\r\n       <use style=\"stroke:#000000;stroke-width:0.8;\" x=\"45.926136\" xlink:href=\"#m048e4c581a\" y=\"333.36\"/>\r\n      </g>\r\n     </g>\r\n     <g id=\"text_1\">\r\n      <!-- 0 -->\r\n      <g transform=\"translate(42.744886 347.958438)scale(0.1 -0.1)\">\r\n       <defs>\r\n        <path d=\"M 31.78125 66.40625 \r\nQ 24.171875 66.40625 20.328125 58.90625 \r\nQ 16.5 51.421875 16.5 36.375 \r\nQ 16.5 21.390625 20.328125 13.890625 \r\nQ 24.171875 6.390625 31.78125 6.390625 \r\nQ 39.453125 6.390625 43.28125 13.890625 \r\nQ 47.125 21.390625 47.125 36.375 \r\nQ 47.125 51.421875 43.28125 58.90625 \r\nQ 39.453125 66.40625 31.78125 66.40625 \r\nz\r\nM 31.78125 74.21875 \r\nQ 44.046875 74.21875 50.515625 64.515625 \r\nQ 56.984375 54.828125 56.984375 36.375 \r\nQ 56.984375 17.96875 50.515625 8.265625 \r\nQ 44.046875 -1.421875 31.78125 -1.421875 \r\nQ 19.53125 -1.421875 13.0625 8.265625 \r\nQ 6.59375 17.96875 6.59375 36.375 \r\nQ 6.59375 54.828125 13.0625 64.515625 \r\nQ 19.53125 74.21875 31.78125 74.21875 \r\nz\r\n\" id=\"DejaVuSans-48\"/>\r\n       </defs>\r\n       <use xlink:href=\"#DejaVuSans-48\"/>\r\n      </g>\r\n     </g>\r\n    </g>\r\n    <g id=\"xtick_2\">\r\n     <g id=\"line2d_2\">\r\n      <g>\r\n       <use style=\"stroke:#000000;stroke-width:0.8;\" x=\"158.653409\" xlink:href=\"#m048e4c581a\" y=\"333.36\"/>\r\n      </g>\r\n     </g>\r\n     <g id=\"text_2\">\r\n      <!-- 2 -->\r\n      <g transform=\"translate(155.472159 347.958438)scale(0.1 -0.1)\">\r\n       <defs>\r\n        <path d=\"M 19.1875 8.296875 \r\nL 53.609375 8.296875 \r\nL 53.609375 0 \r\nL 7.328125 0 \r\nL 7.328125 8.296875 \r\nQ 12.9375 14.109375 22.625 23.890625 \r\nQ 32.328125 33.6875 34.8125 36.53125 \r\nQ 39.546875 41.84375 41.421875 45.53125 \r\nQ 43.3125 49.21875 43.3125 52.78125 \r\nQ 43.3125 58.59375 39.234375 62.25 \r\nQ 35.15625 65.921875 28.609375 65.921875 \r\nQ 23.96875 65.921875 18.8125 64.3125 \r\nQ 13.671875 62.703125 7.8125 59.421875 \r\nL 7.8125 69.390625 \r\nQ 13.765625 71.78125 18.9375 73 \r\nQ 24.125 74.21875 28.421875 74.21875 \r\nQ 39.75 74.21875 46.484375 68.546875 \r\nQ 53.21875 62.890625 53.21875 53.421875 \r\nQ 53.21875 48.921875 51.53125 44.890625 \r\nQ 49.859375 40.875 45.40625 35.40625 \r\nQ 44.1875 33.984375 37.640625 27.21875 \r\nQ 31.109375 20.453125 19.1875 8.296875 \r\nz\r\n\" id=\"DejaVuSans-50\"/>\r\n       </defs>\r\n       <use xlink:href=\"#DejaVuSans-50\"/>\r\n      </g>\r\n     </g>\r\n    </g>\r\n    <g id=\"xtick_3\">\r\n     <g id=\"line2d_3\">\r\n      <g>\r\n       <use style=\"stroke:#000000;stroke-width:0.8;\" x=\"271.380682\" xlink:href=\"#m048e4c581a\" y=\"333.36\"/>\r\n      </g>\r\n     </g>\r\n     <g id=\"text_3\">\r\n      <!-- 4 -->\r\n      <g transform=\"translate(268.199432 347.958438)scale(0.1 -0.1)\">\r\n       <defs>\r\n        <path d=\"M 37.796875 64.3125 \r\nL 12.890625 25.390625 \r\nL 37.796875 25.390625 \r\nz\r\nM 35.203125 72.90625 \r\nL 47.609375 72.90625 \r\nL 47.609375 25.390625 \r\nL 58.015625 25.390625 \r\nL 58.015625 17.1875 \r\nL 47.609375 17.1875 \r\nL 47.609375 0 \r\nL 37.796875 0 \r\nL 37.796875 17.1875 \r\nL 4.890625 17.1875 \r\nL 4.890625 26.703125 \r\nz\r\n\" id=\"DejaVuSans-52\"/>\r\n       </defs>\r\n       <use xlink:href=\"#DejaVuSans-52\"/>\r\n      </g>\r\n     </g>\r\n    </g>\r\n    <g id=\"xtick_4\">\r\n     <g id=\"line2d_4\">\r\n      <g>\r\n       <use style=\"stroke:#000000;stroke-width:0.8;\" x=\"384.107955\" xlink:href=\"#m048e4c581a\" y=\"333.36\"/>\r\n      </g>\r\n     </g>\r\n     <g id=\"text_4\">\r\n      <!-- 6 -->\r\n      <g transform=\"translate(380.926705 347.958438)scale(0.1 -0.1)\">\r\n       <defs>\r\n        <path d=\"M 33.015625 40.375 \r\nQ 26.375 40.375 22.484375 35.828125 \r\nQ 18.609375 31.296875 18.609375 23.390625 \r\nQ 18.609375 15.53125 22.484375 10.953125 \r\nQ 26.375 6.390625 33.015625 6.390625 \r\nQ 39.65625 6.390625 43.53125 10.953125 \r\nQ 47.40625 15.53125 47.40625 23.390625 \r\nQ 47.40625 31.296875 43.53125 35.828125 \r\nQ 39.65625 40.375 33.015625 40.375 \r\nz\r\nM 52.59375 71.296875 \r\nL 52.59375 62.3125 \r\nQ 48.875 64.0625 45.09375 64.984375 \r\nQ 41.3125 65.921875 37.59375 65.921875 \r\nQ 27.828125 65.921875 22.671875 59.328125 \r\nQ 17.53125 52.734375 16.796875 39.40625 \r\nQ 19.671875 43.65625 24.015625 45.921875 \r\nQ 28.375 48.1875 33.59375 48.1875 \r\nQ 44.578125 48.1875 50.953125 41.515625 \r\nQ 57.328125 34.859375 57.328125 23.390625 \r\nQ 57.328125 12.15625 50.6875 5.359375 \r\nQ 44.046875 -1.421875 33.015625 -1.421875 \r\nQ 20.359375 -1.421875 13.671875 8.265625 \r\nQ 6.984375 17.96875 6.984375 36.375 \r\nQ 6.984375 53.65625 15.1875 63.9375 \r\nQ 23.390625 74.21875 37.203125 74.21875 \r\nQ 40.921875 74.21875 44.703125 73.484375 \r\nQ 48.484375 72.75 52.59375 71.296875 \r\nz\r\n\" id=\"DejaVuSans-54\"/>\r\n       </defs>\r\n       <use xlink:href=\"#DejaVuSans-54\"/>\r\n      </g>\r\n     </g>\r\n    </g>\r\n    <g id=\"xtick_5\">\r\n     <g id=\"line2d_5\">\r\n      <g>\r\n       <use style=\"stroke:#000000;stroke-width:0.8;\" x=\"496.835227\" xlink:href=\"#m048e4c581a\" y=\"333.36\"/>\r\n      </g>\r\n     </g>\r\n     <g id=\"text_5\">\r\n      <!-- 8 -->\r\n      <g transform=\"translate(493.653977 347.958438)scale(0.1 -0.1)\">\r\n       <defs>\r\n        <path d=\"M 31.78125 34.625 \r\nQ 24.75 34.625 20.71875 30.859375 \r\nQ 16.703125 27.09375 16.703125 20.515625 \r\nQ 16.703125 13.921875 20.71875 10.15625 \r\nQ 24.75 6.390625 31.78125 6.390625 \r\nQ 38.8125 6.390625 42.859375 10.171875 \r\nQ 46.921875 13.96875 46.921875 20.515625 \r\nQ 46.921875 27.09375 42.890625 30.859375 \r\nQ 38.875 34.625 31.78125 34.625 \r\nz\r\nM 21.921875 38.8125 \r\nQ 15.578125 40.375 12.03125 44.71875 \r\nQ 8.5 49.078125 8.5 55.328125 \r\nQ 8.5 64.0625 14.71875 69.140625 \r\nQ 20.953125 74.21875 31.78125 74.21875 \r\nQ 42.671875 74.21875 48.875 69.140625 \r\nQ 55.078125 64.0625 55.078125 55.328125 \r\nQ 55.078125 49.078125 51.53125 44.71875 \r\nQ 48 40.375 41.703125 38.8125 \r\nQ 48.828125 37.15625 52.796875 32.3125 \r\nQ 56.78125 27.484375 56.78125 20.515625 \r\nQ 56.78125 9.90625 50.3125 4.234375 \r\nQ 43.84375 -1.421875 31.78125 -1.421875 \r\nQ 19.734375 -1.421875 13.25 4.234375 \r\nQ 6.78125 9.90625 6.78125 20.515625 \r\nQ 6.78125 27.484375 10.78125 32.3125 \r\nQ 14.796875 37.15625 21.921875 38.8125 \r\nz\r\nM 18.3125 54.390625 \r\nQ 18.3125 48.734375 21.84375 45.5625 \r\nQ 25.390625 42.390625 31.78125 42.390625 \r\nQ 38.140625 42.390625 41.71875 45.5625 \r\nQ 45.3125 48.734375 45.3125 54.390625 \r\nQ 45.3125 60.0625 41.71875 63.234375 \r\nQ 38.140625 66.40625 31.78125 66.40625 \r\nQ 25.390625 66.40625 21.84375 63.234375 \r\nQ 18.3125 60.0625 18.3125 54.390625 \r\nz\r\n\" id=\"DejaVuSans-56\"/>\r\n       </defs>\r\n       <use xlink:href=\"#DejaVuSans-56\"/>\r\n      </g>\r\n     </g>\r\n    </g>\r\n   </g>\r\n   <g id=\"matplotlib.axis_2\">\r\n    <g id=\"ytick_1\">\r\n     <g id=\"line2d_6\">\r\n      <defs>\r\n       <path d=\"M 0 0 \r\nL -3.5 0 \r\n\" id=\"mf3ce426f84\" style=\"stroke:#000000;stroke-width:0.8;\"/>\r\n      </defs>\r\n      <g>\r\n       <use style=\"stroke:#000000;stroke-width:0.8;\" x=\"20.5625\" xlink:href=\"#mf3ce426f84\" y=\"318.534545\"/>\r\n      </g>\r\n     </g>\r\n     <g id=\"text_6\">\r\n      <!-- 0 -->\r\n      <g transform=\"translate(7.2 322.333764)scale(0.1 -0.1)\">\r\n       <use xlink:href=\"#DejaVuSans-48\"/>\r\n      </g>\r\n     </g>\r\n    </g>\r\n    <g id=\"ytick_2\">\r\n     <g id=\"line2d_7\">\r\n      <g>\r\n       <use style=\"stroke:#000000;stroke-width:0.8;\" x=\"20.5625\" xlink:href=\"#mf3ce426f84\" y=\"252.643636\"/>\r\n      </g>\r\n     </g>\r\n     <g id=\"text_7\">\r\n      <!-- 2 -->\r\n      <g transform=\"translate(7.2 256.442855)scale(0.1 -0.1)\">\r\n       <use xlink:href=\"#DejaVuSans-50\"/>\r\n      </g>\r\n     </g>\r\n    </g>\r\n    <g id=\"ytick_3\">\r\n     <g id=\"line2d_8\">\r\n      <g>\r\n       <use style=\"stroke:#000000;stroke-width:0.8;\" x=\"20.5625\" xlink:href=\"#mf3ce426f84\" y=\"186.752727\"/>\r\n      </g>\r\n     </g>\r\n     <g id=\"text_8\">\r\n      <!-- 4 -->\r\n      <g transform=\"translate(7.2 190.551946)scale(0.1 -0.1)\">\r\n       <use xlink:href=\"#DejaVuSans-52\"/>\r\n      </g>\r\n     </g>\r\n    </g>\r\n    <g id=\"ytick_4\">\r\n     <g id=\"line2d_9\">\r\n      <g>\r\n       <use style=\"stroke:#000000;stroke-width:0.8;\" x=\"20.5625\" xlink:href=\"#mf3ce426f84\" y=\"120.861818\"/>\r\n      </g>\r\n     </g>\r\n     <g id=\"text_9\">\r\n      <!-- 6 -->\r\n      <g transform=\"translate(7.2 124.661037)scale(0.1 -0.1)\">\r\n       <use xlink:href=\"#DejaVuSans-54\"/>\r\n      </g>\r\n     </g>\r\n    </g>\r\n    <g id=\"ytick_5\">\r\n     <g id=\"line2d_10\">\r\n      <g>\r\n       <use style=\"stroke:#000000;stroke-width:0.8;\" x=\"20.5625\" xlink:href=\"#mf3ce426f84\" y=\"54.970909\"/>\r\n      </g>\r\n     </g>\r\n     <g id=\"text_10\">\r\n      <!-- 8 -->\r\n      <g transform=\"translate(7.2 58.770128)scale(0.1 -0.1)\">\r\n       <use xlink:href=\"#DejaVuSans-56\"/>\r\n      </g>\r\n     </g>\r\n    </g>\r\n   </g>\r\n   <g id=\"line2d_11\">\r\n    <path clip-path=\"url(#p9127a31b08)\" d=\"M 45.926136 318.534545 \r\nL 102.289773 285.589091 \r\nL 158.653409 252.643636 \r\nL 215.017045 219.698182 \r\nL 271.380682 186.752727 \r\nL 327.744318 153.807273 \r\nL 384.107955 120.861818 \r\nL 440.471591 87.916364 \r\nL 496.835227 54.970909 \r\nL 553.198864 22.025455 \r\n\" style=\"fill:none;stroke:#1f77b4;stroke-linecap:square;stroke-width:1.5;\"/>\r\n   </g>\r\n   <g id=\"patch_3\">\r\n    <path d=\"M 20.5625 333.36 \r\nL 20.5625 7.2 \r\n\" style=\"fill:none;stroke:#000000;stroke-linecap:square;stroke-linejoin:miter;stroke-width:0.8;\"/>\r\n   </g>\r\n   <g id=\"patch_4\">\r\n    <path d=\"M 578.5625 333.36 \r\nL 578.5625 7.2 \r\n\" style=\"fill:none;stroke:#000000;stroke-linecap:square;stroke-linejoin:miter;stroke-width:0.8;\"/>\r\n   </g>\r\n   <g id=\"patch_5\">\r\n    <path d=\"M 20.5625 333.36 \r\nL 578.5625 333.36 \r\n\" style=\"fill:none;stroke:#000000;stroke-linecap:square;stroke-linejoin:miter;stroke-width:0.8;\"/>\r\n   </g>\r\n   <g id=\"patch_6\">\r\n    <path d=\"M 20.5625 7.2 \r\nL 578.5625 7.2 \r\n\" style=\"fill:none;stroke:#000000;stroke-linecap:square;stroke-linejoin:miter;stroke-width:0.8;\"/>\r\n   </g>\r\n  </g>\r\n </g>\r\n <defs>\r\n  <clipPath id=\"p9127a31b08\">\r\n   <rect height=\"326.16\" width=\"558\" x=\"20.5625\" y=\"7.2\"/>\r\n  </clipPath>\r\n </defs>\r\n</svg>\r\n",
      "image/png": "[encoded data removed]"
     },
     "metadata": {
      "needs_background": "light"
     }
    }
   ],
   "source": [
    "plt.plot(np.arange(10))\n",
    "plt.show()"
   ]
  },
  {
   "cell_type": "markdown",
   "metadata": {},
   "source": [
    "Series\n",
    "======"
   ]
  },
  {
   "cell_type": "code",
   "execution_count": 4,
   "metadata": {},
   "outputs": [
    {
     "output_type": "execute_result",
     "data": {
      "text/plain": [
       "array([ 0.48004199, -1.85890707,  0.31624152, -0.58464568,  0.50491473])"
      ]
     },
     "metadata": {},
     "execution_count": 4
    }
   ],
   "source": [
    "np.random.randn(5)"
   ]
  },
  {
   "cell_type": "code",
   "execution_count": 5,
   "metadata": {},
   "outputs": [
    {
     "output_type": "execute_result",
     "data": {
      "text/plain": [
       "a    2.042817\n",
       "b    0.806559\n",
       "c    0.292965\n",
       "d   -0.899886\n",
       "e   -0.727555\n",
       "dtype: float64"
      ]
     },
     "metadata": {},
     "execution_count": 5
    }
   ],
   "source": [
    "labels = ['a', 'b', 'c', 'd', 'e']\n",
    "s = Series(np.random.randn(5), index=labels)\n",
    "s"
   ]
  },
  {
   "cell_type": "code",
   "execution_count": 6,
   "metadata": {},
   "outputs": [
    {
     "output_type": "execute_result",
     "data": {
      "text/plain": [
       "True"
      ]
     },
     "metadata": {},
     "execution_count": 6
    }
   ],
   "source": [
    "'b' in s"
   ]
  },
  {
   "cell_type": "code",
   "execution_count": 7,
   "metadata": {},
   "outputs": [
    {
     "output_type": "execute_result",
     "data": {
      "text/plain": [
       "Index(['a', 'b', 'c', 'd', 'e'], dtype='object')"
      ]
     },
     "metadata": {},
     "execution_count": 7
    }
   ],
   "source": [
    "s.index\n"
   ]
  },
  {
   "cell_type": "code",
   "execution_count": 8,
   "metadata": {},
   "outputs": [
    {
     "output_type": "execute_result",
     "data": {
      "text/plain": [
       "0.8065590454728794"
      ]
     },
     "metadata": {},
     "execution_count": 8
    }
   ],
   "source": [
    "s['b']"
   ]
  },
  {
   "cell_type": "code",
   "execution_count": 9,
   "metadata": {},
   "outputs": [
    {
     "output_type": "execute_result",
     "data": {
      "text/plain": [
       "Index(['a', 'b', 'c', 'd', 'e'], dtype='object')"
      ]
     },
     "metadata": {},
     "execution_count": 9
    }
   ],
   "source": [
    "s.index"
   ]
  },
  {
   "cell_type": "code",
   "execution_count": 10,
   "metadata": {},
   "outputs": [
    {
     "output_type": "execute_result",
     "data": {
      "text/plain": [
       "a    2.042817\n",
       "b    0.806559\n",
       "c    0.292965\n",
       "d   -0.899886\n",
       "e   -0.727555\n",
       "dtype: float64"
      ]
     },
     "metadata": {},
     "execution_count": 10
    }
   ],
   "source": [
    "s"
   ]
  },
  {
   "cell_type": "code",
   "execution_count": 11,
   "metadata": {},
   "outputs": [
    {
     "output_type": "execute_result",
     "data": {
      "text/plain": [
       "{'a': 2.042816654208328,\n",
       " 'b': 0.8065590454728794,\n",
       " 'c': 0.29296458585622787,\n",
       " 'd': -0.8998862576452265,\n",
       " 'e': -0.7275550002823827}"
      ]
     },
     "metadata": {},
     "execution_count": 11
    }
   ],
   "source": [
    "mapping = s.to_dict()    # converted the series to a dictionary\n",
    "mapping"
   ]
  },
  {
   "cell_type": "code",
   "execution_count": 12,
   "metadata": {},
   "outputs": [
    {
     "output_type": "execute_result",
     "data": {
      "text/plain": [
       "b    0.806559\n",
       "e   -0.727555\n",
       "a    2.042817\n",
       "d   -0.899886\n",
       "f         NaN\n",
       "dtype: float64"
      ]
     },
     "metadata": {},
     "execution_count": 12
    }
   ],
   "source": [
    "s = Series(mapping, index=['b', 'e', 'a', 'd', 'f'])    # Create a series from a distionary\n",
    "s"
   ]
  },
  {
   "cell_type": "code",
   "execution_count": 13,
   "metadata": {},
   "outputs": [
    {
     "output_type": "execute_result",
     "data": {
      "text/plain": [
       "b    0.806559\n",
       "e   -0.727555\n",
       "a    2.042817\n",
       "d   -0.899886\n",
       "dtype: float64"
      ]
     },
     "metadata": {},
     "execution_count": 13
    }
   ],
   "source": [
    "s[notnull(s)]    # selects the data where it's NOT null"
   ]
  },
  {
   "cell_type": "code",
   "execution_count": 14,
   "metadata": {},
   "outputs": [
    {
     "output_type": "execute_result",
     "data": {
      "text/plain": [
       "f   NaN\n",
       "dtype: float64"
      ]
     },
     "metadata": {},
     "execution_count": 14
    }
   ],
   "source": [
    "s[isnull(s)]    # selects the data where it IS  null"
   ]
  },
  {
   "cell_type": "code",
   "execution_count": 15,
   "metadata": {},
   "outputs": [
    {
     "output_type": "execute_result",
     "data": {
      "text/plain": [
       "b    0.806559\n",
       "e   -0.727555\n",
       "a    2.042817\n",
       "d   -0.899886\n",
       "dtype: float64"
      ]
     },
     "metadata": {},
     "execution_count": 15
    }
   ],
   "source": [
    "s.dropna()"
   ]
  },
  {
   "cell_type": "code",
   "execution_count": 16,
   "metadata": {},
   "outputs": [
    {
     "output_type": "execute_result",
     "data": {
      "text/plain": [
       "b    1.613118\n",
       "e   -1.455110\n",
       "a    4.085633\n",
       "d   -1.799773\n",
       "f         NaN\n",
       "dtype: float64"
      ]
     },
     "metadata": {},
     "execution_count": 16
    }
   ],
   "source": [
    "s * 2"
   ]
  },
  {
   "cell_type": "code",
   "execution_count": 17,
   "metadata": {},
   "outputs": [
    {
     "output_type": "execute_result",
     "data": {
      "text/plain": [
       "b    0.806559\n",
       "e   -0.727555\n",
       "a    2.042817\n",
       "dtype: float64"
      ]
     },
     "metadata": {},
     "execution_count": 17
    }
   ],
   "source": [
    "s[:3]"
   ]
  },
  {
   "cell_type": "code",
   "execution_count": 18,
   "metadata": {},
   "outputs": [
    {
     "output_type": "execute_result",
     "data": {
      "text/plain": [
       "Index(['b', 'e', 'a', 'd', 'f'], dtype='object')"
      ]
     },
     "metadata": {},
     "execution_count": 18
    }
   ],
   "source": [
    "s.index"
   ]
  },
  {
   "cell_type": "markdown",
   "metadata": {},
   "source": [
    "DataFrame: 2D collection of Series\n",
    "=================================="
   ]
  },
  {
   "cell_type": "code",
   "execution_count": 19,
   "metadata": {},
   "outputs": [
    {
     "output_type": "execute_result",
     "data": {
      "text/plain": [
       "          a    b         c  d\n",
       "0  1.289758  foo  1.165583  0\n",
       "1  0.417469  bar -0.498545  1\n",
       "2  0.501690  foo -1.428760  2\n",
       "3  0.332520  bar  0.325269  3\n",
       "4  1.405340  foo -0.104672  4\n",
       "5 -0.823318  bar  1.931818  5"
      ],
      "text/html": "<div>\n<style scoped>\n    .dataframe tbody tr th:only-of-type {\n        vertical-align: middle;\n    }\n\n    .dataframe tbody tr th {\n        vertical-align: top;\n    }\n\n    .dataframe thead th {\n        text-align: right;\n    }\n</style>\n<table border=\"1\" class=\"dataframe\">\n  <thead>\n    <tr style=\"text-align: right;\">\n      <th></th>\n      <th>a</th>\n      <th>b</th>\n      <th>c</th>\n      <th>d</th>\n    </tr>\n  </thead>\n  <tbody>\n    <tr>\n      <th>0</th>\n      <td>1.289758</td>\n      <td>foo</td>\n      <td>1.165583</td>\n      <td>0</td>\n    </tr>\n    <tr>\n      <th>1</th>\n      <td>0.417469</td>\n      <td>bar</td>\n      <td>-0.498545</td>\n      <td>1</td>\n    </tr>\n    <tr>\n      <th>2</th>\n      <td>0.501690</td>\n      <td>foo</td>\n      <td>-1.428760</td>\n      <td>2</td>\n    </tr>\n    <tr>\n      <th>3</th>\n      <td>0.332520</td>\n      <td>bar</td>\n      <td>0.325269</td>\n      <td>3</td>\n    </tr>\n    <tr>\n      <th>4</th>\n      <td>1.405340</td>\n      <td>foo</td>\n      <td>-0.104672</td>\n      <td>4</td>\n    </tr>\n    <tr>\n      <th>5</th>\n      <td>-0.823318</td>\n      <td>bar</td>\n      <td>1.931818</td>\n      <td>5</td>\n    </tr>\n  </tbody>\n</table>\n</div>"
     },
     "metadata": {},
     "execution_count": 19
    }
   ],
   "source": [
    "df = DataFrame({'a': np.random.randn(6),\n",
    "                'b': ['foo', 'bar'] * 3,\n",
    "                'c': np.random.randn(6)})\n",
    "df['d'] = range(6)       # assign a new value (new column)\n",
    "df"
   ]
  },
  {
   "cell_type": "code",
   "execution_count": 20,
   "metadata": {},
   "outputs": [
    {
     "output_type": "execute_result",
     "data": {
      "text/plain": [
       "0    foo\n",
       "1    bar\n",
       "2    foo\n",
       "3    bar\n",
       "4    foo\n",
       "5    bar\n",
       "Name: b, dtype: object"
      ]
     },
     "metadata": {},
     "execution_count": 20
    }
   ],
   "source": [
    "df['b']    # by column"
   ]
  },
  {
   "cell_type": "code",
   "execution_count": 21,
   "metadata": {},
   "outputs": [
    {
     "output_type": "execute_result",
     "data": {
      "text/plain": [
       "          a    b         c  d\n",
       "0  1.289758  foo  1.165583  0\n",
       "1  0.417469  bar -0.498545  1\n",
       "2  0.501690  foo -1.428760  2"
      ],
      "text/html": "<div>\n<style scoped>\n    .dataframe tbody tr th:only-of-type {\n        vertical-align: middle;\n    }\n\n    .dataframe tbody tr th {\n        vertical-align: top;\n    }\n\n    .dataframe thead th {\n        text-align: right;\n    }\n</style>\n<table border=\"1\" class=\"dataframe\">\n  <thead>\n    <tr style=\"text-align: right;\">\n      <th></th>\n      <th>a</th>\n      <th>b</th>\n      <th>c</th>\n      <th>d</th>\n    </tr>\n  </thead>\n  <tbody>\n    <tr>\n      <th>0</th>\n      <td>1.289758</td>\n      <td>foo</td>\n      <td>1.165583</td>\n      <td>0</td>\n    </tr>\n    <tr>\n      <th>1</th>\n      <td>0.417469</td>\n      <td>bar</td>\n      <td>-0.498545</td>\n      <td>1</td>\n    </tr>\n    <tr>\n      <th>2</th>\n      <td>0.501690</td>\n      <td>foo</td>\n      <td>-1.428760</td>\n      <td>2</td>\n    </tr>\n  </tbody>\n</table>\n</div>"
     },
     "metadata": {},
     "execution_count": 21
    }
   ],
   "source": [
    "df[:3]     # 3 first rows"
   ]
  },
  {
   "cell_type": "code",
   "execution_count": 22,
   "metadata": {},
   "outputs": [
    {
     "output_type": "execute_result",
     "data": {
      "text/plain": [
       "          a    b         c  d\n",
       "0  1.289758  foo  1.165583  0\n",
       "1  0.417469  bar -0.498545  1\n",
       "2  0.501690  foo -1.428760  2\n",
       "3  0.332520  bar  0.325269  3"
      ],
      "text/html": "<div>\n<style scoped>\n    .dataframe tbody tr th:only-of-type {\n        vertical-align: middle;\n    }\n\n    .dataframe tbody tr th {\n        vertical-align: top;\n    }\n\n    .dataframe thead th {\n        text-align: right;\n    }\n</style>\n<table border=\"1\" class=\"dataframe\">\n  <thead>\n    <tr style=\"text-align: right;\">\n      <th></th>\n      <th>a</th>\n      <th>b</th>\n      <th>c</th>\n      <th>d</th>\n    </tr>\n  </thead>\n  <tbody>\n    <tr>\n      <th>0</th>\n      <td>1.289758</td>\n      <td>foo</td>\n      <td>1.165583</td>\n      <td>0</td>\n    </tr>\n    <tr>\n      <th>1</th>\n      <td>0.417469</td>\n      <td>bar</td>\n      <td>-0.498545</td>\n      <td>1</td>\n    </tr>\n    <tr>\n      <th>2</th>\n      <td>0.501690</td>\n      <td>foo</td>\n      <td>-1.428760</td>\n      <td>2</td>\n    </tr>\n    <tr>\n      <th>3</th>\n      <td>0.332520</td>\n      <td>bar</td>\n      <td>0.325269</td>\n      <td>3</td>\n    </tr>\n  </tbody>\n</table>\n</div>"
     },
     "metadata": {},
     "execution_count": 22
    }
   ],
   "source": [
    "df[:-2]"
   ]
  },
  {
   "cell_type": "code",
   "execution_count": 24,
   "metadata": {},
   "outputs": [
    {
     "output_type": "execute_result",
     "data": {
      "text/plain": [
       "          a    b         c  d\n",
       "4  1.405340  foo -0.104672  4\n",
       "5 -0.823318  bar  1.931818  5"
      ],
      "text/html": "<div>\n<style scoped>\n    .dataframe tbody tr th:only-of-type {\n        vertical-align: middle;\n    }\n\n    .dataframe tbody tr th {\n        vertical-align: top;\n    }\n\n    .dataframe thead th {\n        text-align: right;\n    }\n</style>\n<table border=\"1\" class=\"dataframe\">\n  <thead>\n    <tr style=\"text-align: right;\">\n      <th></th>\n      <th>a</th>\n      <th>b</th>\n      <th>c</th>\n      <th>d</th>\n    </tr>\n  </thead>\n  <tbody>\n    <tr>\n      <th>4</th>\n      <td>1.405340</td>\n      <td>foo</td>\n      <td>-0.104672</td>\n      <td>4</td>\n    </tr>\n    <tr>\n      <th>5</th>\n      <td>-0.823318</td>\n      <td>bar</td>\n      <td>1.931818</td>\n      <td>5</td>\n    </tr>\n  </tbody>\n</table>\n</div>"
     },
     "metadata": {},
     "execution_count": 24
    }
   ],
   "source": [
    "df[-2:]   # the last 2 rows"
   ]
  },
  {
   "cell_type": "code",
   "execution_count": 25,
   "metadata": {},
   "outputs": [
    {
     "output_type": "execute_result",
     "data": {
      "text/plain": [
       "array(['foo', 'bar', 'foo', 'bar', 'foo', 'bar'], dtype='<U3')"
      ]
     },
     "metadata": {},
     "execution_count": 25
    }
   ],
   "source": [
    "np.tile(['foo', 'bar'], 3)   # in numpy"
   ]
  },
  {
   "cell_type": "code",
   "execution_count": 23,
   "metadata": {},
   "outputs": [
    {
     "output_type": "execute_result",
     "data": {
      "text/plain": [
       "a    1.289758\n",
       "b         foo\n",
       "c    1.165583\n",
       "d           0\n",
       "Name: 0, dtype: object"
      ]
     },
     "metadata": {},
     "execution_count": 23
    }
   ],
   "source": [
    "df.xs(0)   # returning the first row"
   ]
  },
  {
   "cell_type": "code",
   "execution_count": 26,
   "metadata": {},
   "outputs": [
    {
     "output_type": "execute_result",
     "data": {
      "text/plain": [
       "a    0.50169\n",
       "b        foo\n",
       "c   -1.42876\n",
       "d          2\n",
       "Name: 2, dtype: object"
      ]
     },
     "metadata": {},
     "execution_count": 26
    }
   ],
   "source": [
    "df.loc[2]    # does equal thing as above. In this case, 3rd row. "
   ]
  },
  {
   "cell_type": "code",
   "execution_count": 27,
   "metadata": {},
   "outputs": [
    {
     "output_type": "execute_result",
     "data": {
      "text/plain": [
       "'foo'"
      ]
     },
     "metadata": {},
     "execution_count": 27
    }
   ],
   "source": [
    "df.loc[2, 'b']     #returns the 3rd row of column b"
   ]
  },
  {
   "cell_type": "code",
   "execution_count": 28,
   "metadata": {},
   "outputs": [
    {
     "output_type": "execute_result",
     "data": {
      "text/plain": [
       "'foo'"
      ]
     },
     "metadata": {},
     "execution_count": 28
    }
   ],
   "source": [
    "df.at[2, 'b']"
   ]
  },
  {
   "cell_type": "code",
   "execution_count": 30,
   "metadata": {},
   "outputs": [
    {
     "output_type": "stream",
     "name": "stdout",
     "text": [
      "6.27 µs ± 177 ns per loop (mean ± std. dev. of 7 runs, 100000 loops each)\n"
     ]
    }
   ],
   "source": [
    "timeit df.loc[2, 'b']"
   ]
  },
  {
   "cell_type": "code",
   "execution_count": 31,
   "metadata": {},
   "outputs": [
    {
     "output_type": "stream",
     "name": "stdout",
     "text": [
      "3.36 µs ± 106 ns per loop (mean ± std. dev. of 7 runs, 100000 loops each)\n"
     ]
    }
   ],
   "source": [
    "timeit df.at[2, 'b']"
   ]
  },
  {
   "cell_type": "code",
   "execution_count": 32,
   "metadata": {},
   "outputs": [
    {
     "output_type": "execute_result",
     "data": {
      "text/plain": [
       "2    foo\n",
       "3    bar\n",
       "4    foo\n",
       "Name: b, dtype: object"
      ]
     },
     "metadata": {},
     "execution_count": 32
    }
   ],
   "source": [
    "df.loc[2:4, 'b']"
   ]
  },
  {
   "cell_type": "code",
   "execution_count": 33,
   "metadata": {},
   "outputs": [
    {
     "output_type": "execute_result",
     "data": {
      "text/plain": [
       "     b         c\n",
       "2  foo -1.428760\n",
       "3  bar  0.325269\n",
       "4  foo -0.104672"
      ],
      "text/html": "<div>\n<style scoped>\n    .dataframe tbody tr th:only-of-type {\n        vertical-align: middle;\n    }\n\n    .dataframe tbody tr th {\n        vertical-align: top;\n    }\n\n    .dataframe thead th {\n        text-align: right;\n    }\n</style>\n<table border=\"1\" class=\"dataframe\">\n  <thead>\n    <tr style=\"text-align: right;\">\n      <th></th>\n      <th>b</th>\n      <th>c</th>\n    </tr>\n  </thead>\n  <tbody>\n    <tr>\n      <th>2</th>\n      <td>foo</td>\n      <td>-1.428760</td>\n    </tr>\n    <tr>\n      <th>3</th>\n      <td>bar</td>\n      <td>0.325269</td>\n    </tr>\n    <tr>\n      <th>4</th>\n      <td>foo</td>\n      <td>-0.104672</td>\n    </tr>\n  </tbody>\n</table>\n</div>"
     },
     "metadata": {},
     "execution_count": 33
    }
   ],
   "source": [
    "df.loc[2:4, ['b', 'c']]"
   ]
  },
  {
   "cell_type": "code",
   "execution_count": 34,
   "metadata": {},
   "outputs": [
    {
     "output_type": "execute_result",
     "data": {
      "text/plain": [
       "     b         c\n",
       "2  foo -1.428760\n",
       "3  bar  0.325269\n",
       "4  foo -0.104672"
      ],
      "text/html": "<div>\n<style scoped>\n    .dataframe tbody tr th:only-of-type {\n        vertical-align: middle;\n    }\n\n    .dataframe tbody tr th {\n        vertical-align: top;\n    }\n\n    .dataframe thead th {\n        text-align: right;\n    }\n</style>\n<table border=\"1\" class=\"dataframe\">\n  <thead>\n    <tr style=\"text-align: right;\">\n      <th></th>\n      <th>b</th>\n      <th>c</th>\n    </tr>\n  </thead>\n  <tbody>\n    <tr>\n      <th>2</th>\n      <td>foo</td>\n      <td>-1.428760</td>\n    </tr>\n    <tr>\n      <th>3</th>\n      <td>bar</td>\n      <td>0.325269</td>\n    </tr>\n    <tr>\n      <th>4</th>\n      <td>foo</td>\n      <td>-0.104672</td>\n    </tr>\n  </tbody>\n</table>\n</div>"
     },
     "metadata": {},
     "execution_count": 34
    }
   ],
   "source": [
    "df.loc[2:4, 'b':'c']   # slices by column - essentially the same as above."
   ]
  },
  {
   "cell_type": "code",
   "execution_count": 35,
   "metadata": {},
   "outputs": [
    {
     "output_type": "execute_result",
     "data": {
      "text/plain": [
       "     b         c  d\n",
       "0  foo  1.165583  0\n",
       "2  foo -1.428760  2\n",
       "4  foo -0.104672  4"
      ],
      "text/html": "<div>\n<style scoped>\n    .dataframe tbody tr th:only-of-type {\n        vertical-align: middle;\n    }\n\n    .dataframe tbody tr th {\n        vertical-align: top;\n    }\n\n    .dataframe thead th {\n        text-align: right;\n    }\n</style>\n<table border=\"1\" class=\"dataframe\">\n  <thead>\n    <tr style=\"text-align: right;\">\n      <th></th>\n      <th>b</th>\n      <th>c</th>\n      <th>d</th>\n    </tr>\n  </thead>\n  <tbody>\n    <tr>\n      <th>0</th>\n      <td>foo</td>\n      <td>1.165583</td>\n      <td>0</td>\n    </tr>\n    <tr>\n      <th>2</th>\n      <td>foo</td>\n      <td>-1.428760</td>\n      <td>2</td>\n    </tr>\n    <tr>\n      <th>4</th>\n      <td>foo</td>\n      <td>-0.104672</td>\n      <td>4</td>\n    </tr>\n  </tbody>\n</table>\n</div>"
     },
     "metadata": {},
     "execution_count": 35
    }
   ],
   "source": [
    "df.loc[[0, 2, 4], ['b', 'c', 'd']]   # pass a list of rows and columns I want to select out"
   ]
  },
  {
   "cell_type": "code",
   "execution_count": 36,
   "metadata": {},
   "outputs": [
    {
     "output_type": "execute_result",
     "data": {
      "text/plain": [
       "0     True\n",
       "1    False\n",
       "2    False\n",
       "3     True\n",
       "4    False\n",
       "5     True\n",
       "Name: c, dtype: bool"
      ]
     },
     "metadata": {},
     "execution_count": 36
    }
   ],
   "source": [
    "df['c'] > 0    # boolean arrays"
   ]
  },
  {
   "cell_type": "code",
   "execution_count": 37,
   "metadata": {},
   "outputs": [
    {
     "output_type": "execute_result",
     "data": {
      "text/plain": [
       "          a    b         c  d\n",
       "0  1.289758  foo  1.165583  0\n",
       "3  0.332520  bar  0.325269  3\n",
       "5 -0.823318  bar  1.931818  5"
      ],
      "text/html": "<div>\n<style scoped>\n    .dataframe tbody tr th:only-of-type {\n        vertical-align: middle;\n    }\n\n    .dataframe tbody tr th {\n        vertical-align: top;\n    }\n\n    .dataframe thead th {\n        text-align: right;\n    }\n</style>\n<table border=\"1\" class=\"dataframe\">\n  <thead>\n    <tr style=\"text-align: right;\">\n      <th></th>\n      <th>a</th>\n      <th>b</th>\n      <th>c</th>\n      <th>d</th>\n    </tr>\n  </thead>\n  <tbody>\n    <tr>\n      <th>0</th>\n      <td>1.289758</td>\n      <td>foo</td>\n      <td>1.165583</td>\n      <td>0</td>\n    </tr>\n    <tr>\n      <th>3</th>\n      <td>0.332520</td>\n      <td>bar</td>\n      <td>0.325269</td>\n      <td>3</td>\n    </tr>\n    <tr>\n      <th>5</th>\n      <td>-0.823318</td>\n      <td>bar</td>\n      <td>1.931818</td>\n      <td>5</td>\n    </tr>\n  </tbody>\n</table>\n</div>"
     },
     "metadata": {},
     "execution_count": 37
    }
   ],
   "source": [
    "df.loc[df['c'] > 0]   # slice the data for the columns"
   ]
  },
  {
   "cell_type": "code",
   "execution_count": 40,
   "metadata": {},
   "outputs": [
    {
     "output_type": "execute_result",
     "data": {
      "text/plain": [
       "RangeIndex(start=0, stop=6, step=1)"
      ]
     },
     "metadata": {},
     "execution_count": 40
    }
   ],
   "source": [
    "df.index"
   ]
  },
  {
   "cell_type": "code",
   "execution_count": 39,
   "metadata": {},
   "outputs": [
    {
     "output_type": "execute_result",
     "data": {
      "text/plain": [
       "Index(['a', 'b', 'c', 'd'], dtype='object')"
      ]
     },
     "metadata": {},
     "execution_count": 39
    }
   ],
   "source": [
    "df.columns"
   ]
  },
  {
   "cell_type": "code",
   "execution_count": 41,
   "metadata": {},
   "outputs": [
    {
     "output_type": "execute_result",
     "data": {
      "text/plain": [
       "                   a    b         c\n",
       "2000-01-01  0.865709  foo -0.080414\n",
       "2000-01-02  0.697032  bar -0.181795\n",
       "2000-01-03  0.679289  foo -0.099257\n",
       "2000-01-04 -1.194181  bar  0.759567\n",
       "2000-01-05  0.278101  foo -2.005166\n",
       "2000-01-06 -0.137053  bar -0.448781"
      ],
      "text/html": "<div>\n<style scoped>\n    .dataframe tbody tr th:only-of-type {\n        vertical-align: middle;\n    }\n\n    .dataframe tbody tr th {\n        vertical-align: top;\n    }\n\n    .dataframe thead th {\n        text-align: right;\n    }\n</style>\n<table border=\"1\" class=\"dataframe\">\n  <thead>\n    <tr style=\"text-align: right;\">\n      <th></th>\n      <th>a</th>\n      <th>b</th>\n      <th>c</th>\n    </tr>\n  </thead>\n  <tbody>\n    <tr>\n      <th>2000-01-01</th>\n      <td>0.865709</td>\n      <td>foo</td>\n      <td>-0.080414</td>\n    </tr>\n    <tr>\n      <th>2000-01-02</th>\n      <td>0.697032</td>\n      <td>bar</td>\n      <td>-0.181795</td>\n    </tr>\n    <tr>\n      <th>2000-01-03</th>\n      <td>0.679289</td>\n      <td>foo</td>\n      <td>-0.099257</td>\n    </tr>\n    <tr>\n      <th>2000-01-04</th>\n      <td>-1.194181</td>\n      <td>bar</td>\n      <td>0.759567</td>\n    </tr>\n    <tr>\n      <th>2000-01-05</th>\n      <td>0.278101</td>\n      <td>foo</td>\n      <td>-2.005166</td>\n    </tr>\n    <tr>\n      <th>2000-01-06</th>\n      <td>-0.137053</td>\n      <td>bar</td>\n      <td>-0.448781</td>\n    </tr>\n  </tbody>\n</table>\n</div>"
     },
     "metadata": {},
     "execution_count": 41
    }
   ],
   "source": [
    "df = DataFrame({'a': np.random.randn(6),\n",
    "                'b': ['foo', 'bar'] * 3,\n",
    "                'c': np.random.randn(6)},\n",
    "               index=date_range('1/1/2000', periods=6))\n",
    "df"
   ]
  },
  {
   "cell_type": "code",
   "execution_count": 42,
   "metadata": {},
   "outputs": [
    {
     "output_type": "execute_result",
     "data": {
      "text/plain": [
       "          a    b         c    d\n",
       "0  1.690216  foo -0.226611  NaN\n",
       "1  0.680119  bar -1.085267  NaN\n",
       "2  0.469679  foo -1.001021  NaN\n",
       "3  0.259261  bar -0.426079  NaN\n",
       "4  0.534437  foo -1.314918  NaN\n",
       "5  1.821211  bar  0.270191  NaN"
      ],
      "text/html": "<div>\n<style scoped>\n    .dataframe tbody tr th:only-of-type {\n        vertical-align: middle;\n    }\n\n    .dataframe tbody tr th {\n        vertical-align: top;\n    }\n\n    .dataframe thead th {\n        text-align: right;\n    }\n</style>\n<table border=\"1\" class=\"dataframe\">\n  <thead>\n    <tr style=\"text-align: right;\">\n      <th></th>\n      <th>a</th>\n      <th>b</th>\n      <th>c</th>\n      <th>d</th>\n    </tr>\n  </thead>\n  <tbody>\n    <tr>\n      <th>0</th>\n      <td>1.690216</td>\n      <td>foo</td>\n      <td>-0.226611</td>\n      <td>NaN</td>\n    </tr>\n    <tr>\n      <th>1</th>\n      <td>0.680119</td>\n      <td>bar</td>\n      <td>-1.085267</td>\n      <td>NaN</td>\n    </tr>\n    <tr>\n      <th>2</th>\n      <td>0.469679</td>\n      <td>foo</td>\n      <td>-1.001021</td>\n      <td>NaN</td>\n    </tr>\n    <tr>\n      <th>3</th>\n      <td>0.259261</td>\n      <td>bar</td>\n      <td>-0.426079</td>\n      <td>NaN</td>\n    </tr>\n    <tr>\n      <th>4</th>\n      <td>0.534437</td>\n      <td>foo</td>\n      <td>-1.314918</td>\n      <td>NaN</td>\n    </tr>\n    <tr>\n      <th>5</th>\n      <td>1.821211</td>\n      <td>bar</td>\n      <td>0.270191</td>\n      <td>NaN</td>\n    </tr>\n  </tbody>\n</table>\n</div>"
     },
     "metadata": {},
     "execution_count": 42
    }
   ],
   "source": [
    "df = DataFrame({'a': np.random.randn(6),\n",
    "                'b': ['foo', 'bar'] * 3,\n",
    "                'c': np.random.randn(6)},\n",
    "               columns=['a', 'b', 'c', 'd'])\n",
    "df"
   ]
  },
  {
   "cell_type": "code",
   "execution_count": 43,
   "metadata": {},
   "outputs": [
    {
     "output_type": "execute_result",
     "data": {
      "text/plain": [
       "       a      b      c     d\n",
       "0  False  False  False  True\n",
       "1  False  False  False  True\n",
       "2  False  False  False  True\n",
       "3  False  False  False  True\n",
       "4  False  False  False  True\n",
       "5  False  False  False  True"
      ],
      "text/html": "<div>\n<style scoped>\n    .dataframe tbody tr th:only-of-type {\n        vertical-align: middle;\n    }\n\n    .dataframe tbody tr th {\n        vertical-align: top;\n    }\n\n    .dataframe thead th {\n        text-align: right;\n    }\n</style>\n<table border=\"1\" class=\"dataframe\">\n  <thead>\n    <tr style=\"text-align: right;\">\n      <th></th>\n      <th>a</th>\n      <th>b</th>\n      <th>c</th>\n      <th>d</th>\n    </tr>\n  </thead>\n  <tbody>\n    <tr>\n      <th>0</th>\n      <td>False</td>\n      <td>False</td>\n      <td>False</td>\n      <td>True</td>\n    </tr>\n    <tr>\n      <th>1</th>\n      <td>False</td>\n      <td>False</td>\n      <td>False</td>\n      <td>True</td>\n    </tr>\n    <tr>\n      <th>2</th>\n      <td>False</td>\n      <td>False</td>\n      <td>False</td>\n      <td>True</td>\n    </tr>\n    <tr>\n      <th>3</th>\n      <td>False</td>\n      <td>False</td>\n      <td>False</td>\n      <td>True</td>\n    </tr>\n    <tr>\n      <th>4</th>\n      <td>False</td>\n      <td>False</td>\n      <td>False</td>\n      <td>True</td>\n    </tr>\n    <tr>\n      <th>5</th>\n      <td>False</td>\n      <td>False</td>\n      <td>False</td>\n      <td>True</td>\n    </tr>\n  </tbody>\n</table>\n</div>"
     },
     "metadata": {},
     "execution_count": 43
    }
   ],
   "source": [
    "isnull(df)"
   ]
  },
  {
   "cell_type": "markdown",
   "metadata": {},
   "source": [
    "Creation from nested dicts\n",
    "--------------------------\n",
    "\n",
    "These arise naturally in Python code"
   ]
  },
  {
   "cell_type": "code",
   "execution_count": 44,
   "metadata": {},
   "outputs": [
    {
     "output_type": "execute_result",
     "data": {
      "text/plain": [
       "{'foo': {'a': 0.2038328534057644,\n",
       "  'b': 1.6839095885744002,\n",
       "  'c': 1.4807628625911249,\n",
       "  'd': -0.38448958921803145},\n",
       " 'bar': {'a': -0.5058160812352158,\n",
       "  'b': -1.482628085385487,\n",
       "  'c': -1.0633426913118136,\n",
       "  'd': -0.7279523069550279},\n",
       " 'baz': {'a': 0.8346592833109127,\n",
       "  'b': -1.1090443976489233,\n",
       "  'c': 0.4645982229506452,\n",
       "  'd': -0.6774573248915275}}"
      ]
     },
     "metadata": {},
     "execution_count": 44
    }
   ],
   "source": [
    "data = {}          # a distionary\n",
    "for col in ['foo', 'bar', 'baz']:\n",
    "    for row in ['a', 'b', 'c', 'd']:\n",
    "        data.setdefault(col, {})[row] = np.random.randn()   # sorted cols: bar, baz, foo\n",
    "data"
   ]
  },
  {
   "cell_type": "code",
   "execution_count": 45,
   "metadata": {},
   "outputs": [
    {
     "output_type": "execute_result",
     "data": {
      "text/plain": [
       "        foo       bar       baz\n",
       "a  0.203833 -0.505816  0.834659\n",
       "b  1.683910 -1.482628 -1.109044\n",
       "c  1.480763 -1.063343  0.464598\n",
       "d -0.384490 -0.727952 -0.677457"
      ],
      "text/html": "<div>\n<style scoped>\n    .dataframe tbody tr th:only-of-type {\n        vertical-align: middle;\n    }\n\n    .dataframe tbody tr th {\n        vertical-align: top;\n    }\n\n    .dataframe thead th {\n        text-align: right;\n    }\n</style>\n<table border=\"1\" class=\"dataframe\">\n  <thead>\n    <tr style=\"text-align: right;\">\n      <th></th>\n      <th>foo</th>\n      <th>bar</th>\n      <th>baz</th>\n    </tr>\n  </thead>\n  <tbody>\n    <tr>\n      <th>a</th>\n      <td>0.203833</td>\n      <td>-0.505816</td>\n      <td>0.834659</td>\n    </tr>\n    <tr>\n      <th>b</th>\n      <td>1.683910</td>\n      <td>-1.482628</td>\n      <td>-1.109044</td>\n    </tr>\n    <tr>\n      <th>c</th>\n      <td>1.480763</td>\n      <td>-1.063343</td>\n      <td>0.464598</td>\n    </tr>\n    <tr>\n      <th>d</th>\n      <td>-0.384490</td>\n      <td>-0.727952</td>\n      <td>-0.677457</td>\n    </tr>\n  </tbody>\n</table>\n</div>"
     },
     "metadata": {},
     "execution_count": 45
    }
   ],
   "source": [
    "DataFrame(data)     # creates a dataframe from the distionary"
   ]
  },
  {
   "cell_type": "code",
   "execution_count": 46,
   "metadata": {},
   "outputs": [],
   "source": [
    "del data['foo']['c']   # delete an entry by index key (col) and row."
   ]
  },
  {
   "cell_type": "code",
   "execution_count": 47,
   "metadata": {},
   "outputs": [
    {
     "output_type": "execute_result",
     "data": {
      "text/plain": [
       "        foo       bar       baz\n",
       "a  0.203833 -0.505816  0.834659\n",
       "b  1.683910 -1.482628 -1.109044\n",
       "d -0.384490 -0.727952 -0.677457\n",
       "c       NaN -1.063343  0.464598"
      ],
      "text/html": "<div>\n<style scoped>\n    .dataframe tbody tr th:only-of-type {\n        vertical-align: middle;\n    }\n\n    .dataframe tbody tr th {\n        vertical-align: top;\n    }\n\n    .dataframe thead th {\n        text-align: right;\n    }\n</style>\n<table border=\"1\" class=\"dataframe\">\n  <thead>\n    <tr style=\"text-align: right;\">\n      <th></th>\n      <th>foo</th>\n      <th>bar</th>\n      <th>baz</th>\n    </tr>\n  </thead>\n  <tbody>\n    <tr>\n      <th>a</th>\n      <td>0.203833</td>\n      <td>-0.505816</td>\n      <td>0.834659</td>\n    </tr>\n    <tr>\n      <th>b</th>\n      <td>1.683910</td>\n      <td>-1.482628</td>\n      <td>-1.109044</td>\n    </tr>\n    <tr>\n      <th>d</th>\n      <td>-0.384490</td>\n      <td>-0.727952</td>\n      <td>-0.677457</td>\n    </tr>\n    <tr>\n      <th>c</th>\n      <td>NaN</td>\n      <td>-1.063343</td>\n      <td>0.464598</td>\n    </tr>\n  </tbody>\n</table>\n</div>"
     },
     "metadata": {},
     "execution_count": 47
    }
   ],
   "source": [
    "DataFrame(data)   # pass a dict "
   ]
  },
  {
   "cell_type": "markdown",
   "metadata": {},
   "source": [
    "Data alignment\n",
    "=============="
   ]
  },
  {
   "cell_type": "code",
   "execution_count": 48,
   "metadata": {},
   "outputs": [],
   "source": [
    "close_px = read_csv('stock_data.csv', index_col=0, parse_dates=True)"
   ]
  },
  {
   "cell_type": "code",
   "execution_count": 49,
   "metadata": {},
   "outputs": [
    {
     "output_type": "execute_result",
     "data": {
      "text/plain": [
       "               AA    AAPL     GE     IBM    JNJ   MSFT    PEP      SPX    XOM\n",
       "2007-10-29  37.41  185.09  34.46  106.78  57.13  31.78  65.67  1540.98  85.51\n",
       "2007-10-30  36.43  187.00  34.39  106.15  56.99  32.70  65.80  1531.02  83.25\n",
       "2007-10-31  36.79  189.95  34.97  108.01  57.30  33.84  65.69  1549.38  84.03\n",
       "2007-11-01  35.22  187.44  34.27  105.72  56.85  34.07  64.51  1508.44  80.84\n",
       "2007-11-02  35.83  187.87  34.27  106.59  56.95  34.07  65.03  1509.65  80.32\n",
       "2007-11-05  35.22  186.18  34.15  105.48  56.70  33.77  64.84  1502.17  80.07\n",
       "2007-11-06  35.84  191.79  34.14  105.27  56.80  33.47  65.49  1520.27  82.56\n",
       "2007-11-07  34.76  186.30  33.20  103.69  56.19  32.65  64.46  1475.62  79.96\n",
       "2007-11-08  35.00  175.47  33.15   99.05  56.79  31.94  65.50  1474.77  82.00\n",
       "2007-11-09  34.47  165.37  32.61   93.58  57.29  31.01  65.48  1453.70  79.64"
      ],
      "text/html": "<div>\n<style scoped>\n    .dataframe tbody tr th:only-of-type {\n        vertical-align: middle;\n    }\n\n    .dataframe tbody tr th {\n        vertical-align: top;\n    }\n\n    .dataframe thead th {\n        text-align: right;\n    }\n</style>\n<table border=\"1\" class=\"dataframe\">\n  <thead>\n    <tr style=\"text-align: right;\">\n      <th></th>\n      <th>AA</th>\n      <th>AAPL</th>\n      <th>GE</th>\n      <th>IBM</th>\n      <th>JNJ</th>\n      <th>MSFT</th>\n      <th>PEP</th>\n      <th>SPX</th>\n      <th>XOM</th>\n    </tr>\n  </thead>\n  <tbody>\n    <tr>\n      <th>2007-10-29</th>\n      <td>37.41</td>\n      <td>185.09</td>\n      <td>34.46</td>\n      <td>106.78</td>\n      <td>57.13</td>\n      <td>31.78</td>\n      <td>65.67</td>\n      <td>1540.98</td>\n      <td>85.51</td>\n    </tr>\n    <tr>\n      <th>2007-10-30</th>\n      <td>36.43</td>\n      <td>187.00</td>\n      <td>34.39</td>\n      <td>106.15</td>\n      <td>56.99</td>\n      <td>32.70</td>\n      <td>65.80</td>\n      <td>1531.02</td>\n      <td>83.25</td>\n    </tr>\n    <tr>\n      <th>2007-10-31</th>\n      <td>36.79</td>\n      <td>189.95</td>\n      <td>34.97</td>\n      <td>108.01</td>\n      <td>57.30</td>\n      <td>33.84</td>\n      <td>65.69</td>\n      <td>1549.38</td>\n      <td>84.03</td>\n    </tr>\n    <tr>\n      <th>2007-11-01</th>\n      <td>35.22</td>\n      <td>187.44</td>\n      <td>34.27</td>\n      <td>105.72</td>\n      <td>56.85</td>\n      <td>34.07</td>\n      <td>64.51</td>\n      <td>1508.44</td>\n      <td>80.84</td>\n    </tr>\n    <tr>\n      <th>2007-11-02</th>\n      <td>35.83</td>\n      <td>187.87</td>\n      <td>34.27</td>\n      <td>106.59</td>\n      <td>56.95</td>\n      <td>34.07</td>\n      <td>65.03</td>\n      <td>1509.65</td>\n      <td>80.32</td>\n    </tr>\n    <tr>\n      <th>2007-11-05</th>\n      <td>35.22</td>\n      <td>186.18</td>\n      <td>34.15</td>\n      <td>105.48</td>\n      <td>56.70</td>\n      <td>33.77</td>\n      <td>64.84</td>\n      <td>1502.17</td>\n      <td>80.07</td>\n    </tr>\n    <tr>\n      <th>2007-11-06</th>\n      <td>35.84</td>\n      <td>191.79</td>\n      <td>34.14</td>\n      <td>105.27</td>\n      <td>56.80</td>\n      <td>33.47</td>\n      <td>65.49</td>\n      <td>1520.27</td>\n      <td>82.56</td>\n    </tr>\n    <tr>\n      <th>2007-11-07</th>\n      <td>34.76</td>\n      <td>186.30</td>\n      <td>33.20</td>\n      <td>103.69</td>\n      <td>56.19</td>\n      <td>32.65</td>\n      <td>64.46</td>\n      <td>1475.62</td>\n      <td>79.96</td>\n    </tr>\n    <tr>\n      <th>2007-11-08</th>\n      <td>35.00</td>\n      <td>175.47</td>\n      <td>33.15</td>\n      <td>99.05</td>\n      <td>56.79</td>\n      <td>31.94</td>\n      <td>65.50</td>\n      <td>1474.77</td>\n      <td>82.00</td>\n    </tr>\n    <tr>\n      <th>2007-11-09</th>\n      <td>34.47</td>\n      <td>165.37</td>\n      <td>32.61</td>\n      <td>93.58</td>\n      <td>57.29</td>\n      <td>31.01</td>\n      <td>65.48</td>\n      <td>1453.70</td>\n      <td>79.64</td>\n    </tr>\n  </tbody>\n</table>\n</div>"
     },
     "metadata": {},
     "execution_count": 49
    }
   ],
   "source": [
    "close_px.head(10)"
   ]
  },
  {
   "cell_type": "code",
   "execution_count": 50,
   "metadata": {},
   "outputs": [
    {
     "output_type": "execute_result",
     "data": {
      "text/plain": [
       "               AA    AAPL     GE     IBM    JNJ   MSFT    PEP      SPX    XOM\n",
       "2007-10-29  37.41  185.09  34.46  106.78  57.13  31.78  65.67  1540.98  85.51\n",
       "2007-10-30  36.43  187.00  34.39  106.15  56.99  32.70  65.80  1531.02  83.25\n",
       "2007-10-31  36.79  189.95  34.97  108.01  57.30  33.84  65.69  1549.38  84.03\n",
       "2007-11-01  35.22  187.44  34.27  105.72  56.85  34.07  64.51  1508.44  80.84\n",
       "2007-11-02  35.83  187.87  34.27  106.59  56.95  34.07  65.03  1509.65  80.32\n",
       "...           ...     ...    ...     ...    ...    ...    ...      ...    ...\n",
       "2011-10-10  10.09  388.81  16.14  186.62  64.43  26.94  61.87  1194.89  76.28\n",
       "2011-10-11  10.30  400.29  16.14  185.00  63.96  27.00  60.95  1195.54  76.27\n",
       "2011-10-12  10.05  402.19  16.40  186.12  64.33  26.96  62.70  1207.25  77.16\n",
       "2011-10-13  10.10  408.43  16.22  186.82  64.23  27.18  62.36  1203.66  76.37\n",
       "2011-10-14  10.26  422.00  16.60  190.53  64.72  27.27  62.24  1224.58  78.11\n",
       "\n",
       "[1000 rows x 9 columns]"
      ],
      "text/html": "<div>\n<style scoped>\n    .dataframe tbody tr th:only-of-type {\n        vertical-align: middle;\n    }\n\n    .dataframe tbody tr th {\n        vertical-align: top;\n    }\n\n    .dataframe thead th {\n        text-align: right;\n    }\n</style>\n<table border=\"1\" class=\"dataframe\">\n  <thead>\n    <tr style=\"text-align: right;\">\n      <th></th>\n      <th>AA</th>\n      <th>AAPL</th>\n      <th>GE</th>\n      <th>IBM</th>\n      <th>JNJ</th>\n      <th>MSFT</th>\n      <th>PEP</th>\n      <th>SPX</th>\n      <th>XOM</th>\n    </tr>\n  </thead>\n  <tbody>\n    <tr>\n      <th>2007-10-29</th>\n      <td>37.41</td>\n      <td>185.09</td>\n      <td>34.46</td>\n      <td>106.78</td>\n      <td>57.13</td>\n      <td>31.78</td>\n      <td>65.67</td>\n      <td>1540.98</td>\n      <td>85.51</td>\n    </tr>\n    <tr>\n      <th>2007-10-30</th>\n      <td>36.43</td>\n      <td>187.00</td>\n      <td>34.39</td>\n      <td>106.15</td>\n      <td>56.99</td>\n      <td>32.70</td>\n      <td>65.80</td>\n      <td>1531.02</td>\n      <td>83.25</td>\n    </tr>\n    <tr>\n      <th>2007-10-31</th>\n      <td>36.79</td>\n      <td>189.95</td>\n      <td>34.97</td>\n      <td>108.01</td>\n      <td>57.30</td>\n      <td>33.84</td>\n      <td>65.69</td>\n      <td>1549.38</td>\n      <td>84.03</td>\n    </tr>\n    <tr>\n      <th>2007-11-01</th>\n      <td>35.22</td>\n      <td>187.44</td>\n      <td>34.27</td>\n      <td>105.72</td>\n      <td>56.85</td>\n      <td>34.07</td>\n      <td>64.51</td>\n      <td>1508.44</td>\n      <td>80.84</td>\n    </tr>\n    <tr>\n      <th>2007-11-02</th>\n      <td>35.83</td>\n      <td>187.87</td>\n      <td>34.27</td>\n      <td>106.59</td>\n      <td>56.95</td>\n      <td>34.07</td>\n      <td>65.03</td>\n      <td>1509.65</td>\n      <td>80.32</td>\n    </tr>\n    <tr>\n      <th>...</th>\n      <td>...</td>\n      <td>...</td>\n      <td>...</td>\n      <td>...</td>\n      <td>...</td>\n      <td>...</td>\n      <td>...</td>\n      <td>...</td>\n      <td>...</td>\n    </tr>\n    <tr>\n      <th>2011-10-10</th>\n      <td>10.09</td>\n      <td>388.81</td>\n      <td>16.14</td>\n      <td>186.62</td>\n      <td>64.43</td>\n      <td>26.94</td>\n      <td>61.87</td>\n      <td>1194.89</td>\n      <td>76.28</td>\n    </tr>\n    <tr>\n      <th>2011-10-11</th>\n      <td>10.30</td>\n      <td>400.29</td>\n      <td>16.14</td>\n      <td>185.00</td>\n      <td>63.96</td>\n      <td>27.00</td>\n      <td>60.95</td>\n      <td>1195.54</td>\n      <td>76.27</td>\n    </tr>\n    <tr>\n      <th>2011-10-12</th>\n      <td>10.05</td>\n      <td>402.19</td>\n      <td>16.40</td>\n      <td>186.12</td>\n      <td>64.33</td>\n      <td>26.96</td>\n      <td>62.70</td>\n      <td>1207.25</td>\n      <td>77.16</td>\n    </tr>\n    <tr>\n      <th>2011-10-13</th>\n      <td>10.10</td>\n      <td>408.43</td>\n      <td>16.22</td>\n      <td>186.82</td>\n      <td>64.23</td>\n      <td>27.18</td>\n      <td>62.36</td>\n      <td>1203.66</td>\n      <td>76.37</td>\n    </tr>\n    <tr>\n      <th>2011-10-14</th>\n      <td>10.26</td>\n      <td>422.00</td>\n      <td>16.60</td>\n      <td>190.53</td>\n      <td>64.72</td>\n      <td>27.27</td>\n      <td>62.24</td>\n      <td>1224.58</td>\n      <td>78.11</td>\n    </tr>\n  </tbody>\n</table>\n<p>1000 rows × 9 columns</p>\n</div>"
     },
     "metadata": {},
     "execution_count": 50
    }
   ],
   "source": [
    "close_px"
   ]
  },
  {
   "cell_type": "code",
   "execution_count": 51,
   "metadata": {},
   "outputs": [
    {
     "output_type": "stream",
     "name": "stdout",
     "text": [
      "2011-09-19    411.63          2011-09-12    379.94      \n2011-09-20    413.45          2011-09-13    384.62      \n2011-09-21    412.14          2011-09-14    389.30      \n2011-09-22    401.82          2011-09-15    392.96      \n2011-09-23    404.30          2011-09-16    400.50      \n2011-09-26    403.17          2011-09-19    411.63      \n2011-09-27    399.26          2011-09-20    413.45      \n2011-09-28    397.01          2011-09-21    412.14      \n2011-09-29    390.57          2011-09-22    401.82      \n2011-09-30    381.32          2011-09-23    404.30      \n2011-10-03    374.60          2011-09-26    403.17      \n2011-10-04    372.50          2011-09-27    399.26      \n2011-10-05    378.25          2011-09-28    397.01      \n2011-10-06    377.37          2011-09-29    390.57      \n2011-10-07    369.80          2011-09-30    381.32      \n2011-10-10    388.81          Name: AAPL, dtype: float64\n2011-10-11    400.29                                    \n2011-10-12    402.19                                    \n2011-10-13    408.43                                    \n2011-10-14    422.00                                    \nName: AAPL, dtype: float64                              \n"
     ]
    }
   ],
   "source": [
    "s1 = close_px['AAPL'][-20:]      # the last 20 rows\n",
    "s2 = close_px['AAPL'][-25:-10]   # the last 25 - last 10 = 15 rows.\n",
    "side_by_side(s1, s2)     # הצגת הנתונים זה ליד זה"
   ]
  },
  {
   "cell_type": "code",
   "execution_count": 52,
   "metadata": {},
   "outputs": [
    {
     "output_type": "execute_result",
     "data": {
      "text/plain": [
       "2011-09-12       NaN\n",
       "2011-09-13       NaN\n",
       "2011-09-14       NaN\n",
       "2011-09-15       NaN\n",
       "2011-09-16       NaN\n",
       "2011-09-19    823.26\n",
       "2011-09-20    826.90\n",
       "2011-09-21    824.28\n",
       "2011-09-22    803.64\n",
       "2011-09-23    808.60\n",
       "2011-09-26    806.34\n",
       "2011-09-27    798.52\n",
       "2011-09-28    794.02\n",
       "2011-09-29    781.14\n",
       "2011-09-30    762.64\n",
       "2011-10-03       NaN\n",
       "2011-10-04       NaN\n",
       "2011-10-05       NaN\n",
       "2011-10-06       NaN\n",
       "2011-10-07       NaN\n",
       "2011-10-10       NaN\n",
       "2011-10-11       NaN\n",
       "2011-10-12       NaN\n",
       "2011-10-13       NaN\n",
       "2011-10-14       NaN\n",
       "Name: AAPL, dtype: float64"
      ]
     },
     "metadata": {},
     "execution_count": 52
    }
   ],
   "source": [
    "s1 + s2      #חיבור הנתונים בשורות עם אותו התאריך"
   ]
  },
  {
   "cell_type": "code",
   "execution_count": 53,
   "metadata": {},
   "outputs": [
    {
     "output_type": "execute_result",
     "data": {
      "text/plain": [
       "2011-09-12    379.94\n",
       "2011-09-13    384.62\n",
       "2011-09-14    389.30\n",
       "2011-09-15    392.96\n",
       "2011-09-16    400.50\n",
       "2011-09-19    823.26\n",
       "2011-09-20    826.90\n",
       "2011-09-21    824.28\n",
       "2011-09-22    803.64\n",
       "2011-09-23    808.60\n",
       "2011-09-26    806.34\n",
       "2011-09-27    798.52\n",
       "2011-09-28    794.02\n",
       "2011-09-29    781.14\n",
       "2011-09-30    762.64\n",
       "2011-10-03    374.60\n",
       "2011-10-04    372.50\n",
       "2011-10-05    378.25\n",
       "2011-10-06    377.37\n",
       "2011-10-07    369.80\n",
       "2011-10-10    388.81\n",
       "2011-10-11    400.29\n",
       "2011-10-12    402.19\n",
       "2011-10-13    408.43\n",
       "2011-10-14    422.00\n",
       "Name: AAPL, dtype: float64"
      ]
     },
     "metadata": {},
     "execution_count": 53
    }
   ],
   "source": [
    "s1.add(s2, fill_value=0)      # נתונים חסרים יהיו שווים 0"
   ]
  },
  {
   "cell_type": "code",
   "execution_count": 54,
   "metadata": {},
   "outputs": [
    {
     "output_type": "execute_result",
     "data": {
      "text/plain": [
       "2011-09-19    823.26\n",
       "2011-09-20    826.90\n",
       "2011-09-21    824.28\n",
       "2011-09-22    803.64\n",
       "2011-09-23    808.60\n",
       "2011-09-26    806.34\n",
       "2011-09-27    798.52\n",
       "2011-09-28    794.02\n",
       "2011-09-29    781.14\n",
       "2011-09-30    762.64\n",
       "Name: AAPL, dtype: float64"
      ]
     },
     "metadata": {},
     "execution_count": 54
    }
   ],
   "source": [
    "(s1 + s2).dropna()"
   ]
  },
  {
   "cell_type": "code",
   "execution_count": 55,
   "metadata": {},
   "outputs": [
    {
     "output_type": "execute_result",
     "data": {
      "text/plain": [
       "               AA    AAPL     GE\n",
       "2011-10-03   8.90  374.60  14.69\n",
       "2011-10-04   9.12  372.50  14.86\n",
       "2011-10-05   9.37  378.25  15.27\n",
       "2011-10-06   9.88  377.37  15.53\n",
       "2011-10-07   9.71  369.80  15.50\n",
       "2011-10-10  10.09  388.81  16.14\n",
       "2011-10-11  10.30  400.29  16.14\n",
       "2011-10-12  10.05  402.19  16.40\n",
       "2011-10-13  10.10  408.43  16.22\n",
       "2011-10-14  10.26  422.00  16.60"
      ],
      "text/html": "<div>\n<style scoped>\n    .dataframe tbody tr th:only-of-type {\n        vertical-align: middle;\n    }\n\n    .dataframe tbody tr th {\n        vertical-align: top;\n    }\n\n    .dataframe thead th {\n        text-align: right;\n    }\n</style>\n<table border=\"1\" class=\"dataframe\">\n  <thead>\n    <tr style=\"text-align: right;\">\n      <th></th>\n      <th>AA</th>\n      <th>AAPL</th>\n      <th>GE</th>\n    </tr>\n  </thead>\n  <tbody>\n    <tr>\n      <th>2011-10-03</th>\n      <td>8.90</td>\n      <td>374.60</td>\n      <td>14.69</td>\n    </tr>\n    <tr>\n      <th>2011-10-04</th>\n      <td>9.12</td>\n      <td>372.50</td>\n      <td>14.86</td>\n    </tr>\n    <tr>\n      <th>2011-10-05</th>\n      <td>9.37</td>\n      <td>378.25</td>\n      <td>15.27</td>\n    </tr>\n    <tr>\n      <th>2011-10-06</th>\n      <td>9.88</td>\n      <td>377.37</td>\n      <td>15.53</td>\n    </tr>\n    <tr>\n      <th>2011-10-07</th>\n      <td>9.71</td>\n      <td>369.80</td>\n      <td>15.50</td>\n    </tr>\n    <tr>\n      <th>2011-10-10</th>\n      <td>10.09</td>\n      <td>388.81</td>\n      <td>16.14</td>\n    </tr>\n    <tr>\n      <th>2011-10-11</th>\n      <td>10.30</td>\n      <td>400.29</td>\n      <td>16.14</td>\n    </tr>\n    <tr>\n      <th>2011-10-12</th>\n      <td>10.05</td>\n      <td>402.19</td>\n      <td>16.40</td>\n    </tr>\n    <tr>\n      <th>2011-10-13</th>\n      <td>10.10</td>\n      <td>408.43</td>\n      <td>16.22</td>\n    </tr>\n    <tr>\n      <th>2011-10-14</th>\n      <td>10.26</td>\n      <td>422.00</td>\n      <td>16.60</td>\n    </tr>\n  </tbody>\n</table>\n</div>"
     },
     "metadata": {},
     "execution_count": 55
    }
   ],
   "source": [
    "df = close_px.iloc[-10:, :3]\n",
    "df"
   ]
  },
  {
   "cell_type": "code",
   "execution_count": 56,
   "metadata": {},
   "outputs": [
    {
     "output_type": "stream",
     "name": "stdout",
     "text": [
      "2011-09-12       NaN          2011-09-12    379.94      \n2011-09-13       NaN          2011-09-13    384.62      \n2011-09-14       NaN          2011-09-14    389.30      \n2011-09-15       NaN          2011-09-15    392.96      \n2011-09-16       NaN          2011-09-16    400.50      \n2011-09-19    411.63          2011-09-19    411.63      \n2011-09-20    413.45          2011-09-20    413.45      \n2011-09-21    412.14          2011-09-21    412.14      \n2011-09-22    401.82          2011-09-22    401.82      \n2011-09-23    404.30          2011-09-23    404.30      \n2011-09-26    403.17          2011-09-26    403.17      \n2011-09-27    399.26          2011-09-27    399.26      \n2011-09-28    397.01          2011-09-28    397.01      \n2011-09-29    390.57          2011-09-29    390.57      \n2011-09-30    381.32          2011-09-30    381.32      \nName: AAPL, dtype: float64    Name: AAPL, dtype: float64\n"
     ]
    }
   ],
   "source": [
    "side_by_side(s1.reindex(s2.index), s2) "
   ]
  },
  {
   "cell_type": "code",
   "execution_count": 58,
   "metadata": {},
   "outputs": [
    {
     "output_type": "stream",
     "name": "stdout",
     "text": [
      "2011-09-19    411.63          2011-09-19    411.63      \n2011-09-20    413.45          2011-09-20    413.45      \n2011-09-21    412.14          2011-09-21    412.14      \n2011-09-22    401.82          2011-09-22    401.82      \n2011-09-23    404.30          2011-09-23    404.30      \n2011-09-26    403.17          2011-09-26    403.17      \n2011-09-27    399.26          2011-09-27    399.26      \n2011-09-28    397.01          2011-09-28    397.01      \n2011-09-29    390.57          2011-09-29    390.57      \n2011-09-30    381.32          2011-09-30    381.32      \nName: AAPL, dtype: float64    Name: AAPL, dtype: float64\n"
     ]
    }
   ],
   "source": [
    "b, c  = s1.align(s2, join='inner')\n",
    "side_by_side(b, c)"
   ]
  },
  {
   "cell_type": "code",
   "execution_count": 59,
   "metadata": {},
   "outputs": [
    {
     "output_type": "stream",
     "name": "stdout",
     "text": [
      "2011-09-12       NaN          2011-09-12    379.94      \n2011-09-13       NaN          2011-09-13    384.62      \n2011-09-14       NaN          2011-09-14    389.30      \n2011-09-15       NaN          2011-09-15    392.96      \n2011-09-16       NaN          2011-09-16    400.50      \n2011-09-19    411.63          2011-09-19    411.63      \n2011-09-20    413.45          2011-09-20    413.45      \n2011-09-21    412.14          2011-09-21    412.14      \n2011-09-22    401.82          2011-09-22    401.82      \n2011-09-23    404.30          2011-09-23    404.30      \n2011-09-26    403.17          2011-09-26    403.17      \n2011-09-27    399.26          2011-09-27    399.26      \n2011-09-28    397.01          2011-09-28    397.01      \n2011-09-29    390.57          2011-09-29    390.57      \n2011-09-30    381.32          2011-09-30    381.32      \n2011-10-03    374.60          2011-10-03       NaN      \n2011-10-04    372.50          2011-10-04       NaN      \n2011-10-05    378.25          2011-10-05       NaN      \n2011-10-06    377.37          2011-10-06       NaN      \n2011-10-07    369.80          2011-10-07       NaN      \n2011-10-10    388.81          2011-10-10       NaN      \n2011-10-11    400.29          2011-10-11       NaN      \n2011-10-12    402.19          2011-10-12       NaN      \n2011-10-13    408.43          2011-10-13       NaN      \n2011-10-14    422.00          2011-10-14       NaN      \nName: AAPL, dtype: float64    Name: AAPL, dtype: float64\n"
     ]
    }
   ],
   "source": [
    "b, c  = s1.align(s2, join='outer')\n",
    "side_by_side(b, c)"
   ]
  },
  {
   "cell_type": "code",
   "execution_count": 60,
   "metadata": {},
   "outputs": [
    {
     "output_type": "stream",
     "name": "stdout",
     "text": [
      "2011-09-12       NaN          2011-09-12    379.94      \n2011-09-13       NaN          2011-09-13    384.62      \n2011-09-14       NaN          2011-09-14    389.30      \n2011-09-15       NaN          2011-09-15    392.96      \n2011-09-16       NaN          2011-09-16    400.50      \n2011-09-19    411.63          2011-09-19    411.63      \n2011-09-20    413.45          2011-09-20    413.45      \n2011-09-21    412.14          2011-09-21    412.14      \n2011-09-22    401.82          2011-09-22    401.82      \n2011-09-23    404.30          2011-09-23    404.30      \n2011-09-26    403.17          2011-09-26    403.17      \n2011-09-27    399.26          2011-09-27    399.26      \n2011-09-28    397.01          2011-09-28    397.01      \n2011-09-29    390.57          2011-09-29    390.57      \n2011-09-30    381.32          2011-09-30    381.32      \nName: AAPL, dtype: float64    Name: AAPL, dtype: float64\n"
     ]
    }
   ],
   "source": [
    "b, c  = s1.align(s2, join='right')\n",
    "side_by_side(b, c)"
   ]
  },
  {
   "cell_type": "code",
   "execution_count": 72,
   "metadata": {},
   "outputs": [
    {
     "output_type": "stream",
     "name": "stdout",
     "text": [
      "               AA    AAPL     GE     IBM    JNJ   MSFT    PEP      SPX    XOM                   IBM   MSFT\n2007-10-29  37.41  185.09  34.46  106.78  57.13  31.78  65.67  1540.98  85.51    2007-10-29  106.78  31.78\n2007-10-30  36.43  187.00  34.39  106.15  56.99  32.70  65.80  1531.02  83.25    2007-10-31  108.01  33.84\n2007-10-31  36.79  189.95  34.97  108.01  57.30  33.84  65.69  1549.38  84.03    2007-11-02  106.59  34.07\n2007-11-01  35.22  187.44  34.27  105.72  56.85  34.07  64.51  1508.44  80.84    2007-11-06  105.27  33.47\n2007-11-02  35.83  187.87  34.27  106.59  56.95  34.07  65.03  1509.65  80.32    2007-11-08   99.05  31.94\n...           ...     ...    ...     ...    ...    ...    ...      ...    ...    ...            ...    ...\n2011-10-10  10.09  388.81  16.14  186.62  64.43  26.94  61.87  1194.89  76.28    2011-10-03  173.29  24.53\n2011-10-11  10.30  400.29  16.14  185.00  63.96  27.00  60.95  1195.54  76.27    2011-10-05  176.85  25.89\n2011-10-12  10.05  402.19  16.40  186.12  64.33  26.96  62.70  1207.25  77.16    2011-10-07  182.39  26.25\n2011-10-13  10.10  408.43  16.22  186.82  64.23  27.18  62.36  1203.66  76.37    2011-10-11  185.00  27.00\n2011-10-14  10.26  422.00  16.60  190.53  64.72  27.27  62.24  1224.58  78.11    2011-10-13  186.82  27.18\n                                                                                                          \n[1000 rows x 9 columns]                                                          [500 rows x 2 columns]   \n"
     ]
    }
   ],
   "source": [
    "df =  close_px\n",
    "df2 = df.loc[::2, ['IBM', 'MSFT']]    # קפיצות של 2 ורק עמודות נבחרות\n",
    "df2\n",
    "side_by_side(df, df2)"
   ]
  },
  {
   "cell_type": "code",
   "execution_count": 73,
   "metadata": {},
   "outputs": [
    {
     "output_type": "execute_result",
     "data": {
      "text/plain": [
       "            AA  AAPL  GE     IBM  JNJ   MSFT  PEP  SPX  XOM\n",
       "2007-10-29 NaN   NaN NaN  213.56  NaN  63.56  NaN  NaN  NaN\n",
       "2007-10-30 NaN   NaN NaN     NaN  NaN    NaN  NaN  NaN  NaN\n",
       "2007-10-31 NaN   NaN NaN  216.02  NaN  67.68  NaN  NaN  NaN\n",
       "2007-11-01 NaN   NaN NaN     NaN  NaN    NaN  NaN  NaN  NaN\n",
       "2007-11-02 NaN   NaN NaN  213.18  NaN  68.14  NaN  NaN  NaN\n",
       "...         ..   ...  ..     ...  ...    ...  ...  ...  ...\n",
       "2011-10-10 NaN   NaN NaN     NaN  NaN    NaN  NaN  NaN  NaN\n",
       "2011-10-11 NaN   NaN NaN  370.00  NaN  54.00  NaN  NaN  NaN\n",
       "2011-10-12 NaN   NaN NaN     NaN  NaN    NaN  NaN  NaN  NaN\n",
       "2011-10-13 NaN   NaN NaN  373.64  NaN  54.36  NaN  NaN  NaN\n",
       "2011-10-14 NaN   NaN NaN     NaN  NaN    NaN  NaN  NaN  NaN\n",
       "\n",
       "[1000 rows x 9 columns]"
      ],
      "text/html": "<div>\n<style scoped>\n    .dataframe tbody tr th:only-of-type {\n        vertical-align: middle;\n    }\n\n    .dataframe tbody tr th {\n        vertical-align: top;\n    }\n\n    .dataframe thead th {\n        text-align: right;\n    }\n</style>\n<table border=\"1\" class=\"dataframe\">\n  <thead>\n    <tr style=\"text-align: right;\">\n      <th></th>\n      <th>AA</th>\n      <th>AAPL</th>\n      <th>GE</th>\n      <th>IBM</th>\n      <th>JNJ</th>\n      <th>MSFT</th>\n      <th>PEP</th>\n      <th>SPX</th>\n      <th>XOM</th>\n    </tr>\n  </thead>\n  <tbody>\n    <tr>\n      <th>2007-10-29</th>\n      <td>NaN</td>\n      <td>NaN</td>\n      <td>NaN</td>\n      <td>213.56</td>\n      <td>NaN</td>\n      <td>63.56</td>\n      <td>NaN</td>\n      <td>NaN</td>\n      <td>NaN</td>\n    </tr>\n    <tr>\n      <th>2007-10-30</th>\n      <td>NaN</td>\n      <td>NaN</td>\n      <td>NaN</td>\n      <td>NaN</td>\n      <td>NaN</td>\n      <td>NaN</td>\n      <td>NaN</td>\n      <td>NaN</td>\n      <td>NaN</td>\n    </tr>\n    <tr>\n      <th>2007-10-31</th>\n      <td>NaN</td>\n      <td>NaN</td>\n      <td>NaN</td>\n      <td>216.02</td>\n      <td>NaN</td>\n      <td>67.68</td>\n      <td>NaN</td>\n      <td>NaN</td>\n      <td>NaN</td>\n    </tr>\n    <tr>\n      <th>2007-11-01</th>\n      <td>NaN</td>\n      <td>NaN</td>\n      <td>NaN</td>\n      <td>NaN</td>\n      <td>NaN</td>\n      <td>NaN</td>\n      <td>NaN</td>\n      <td>NaN</td>\n      <td>NaN</td>\n    </tr>\n    <tr>\n      <th>2007-11-02</th>\n      <td>NaN</td>\n      <td>NaN</td>\n      <td>NaN</td>\n      <td>213.18</td>\n      <td>NaN</td>\n      <td>68.14</td>\n      <td>NaN</td>\n      <td>NaN</td>\n      <td>NaN</td>\n    </tr>\n    <tr>\n      <th>...</th>\n      <td>...</td>\n      <td>...</td>\n      <td>...</td>\n      <td>...</td>\n      <td>...</td>\n      <td>...</td>\n      <td>...</td>\n      <td>...</td>\n      <td>...</td>\n    </tr>\n    <tr>\n      <th>2011-10-10</th>\n      <td>NaN</td>\n      <td>NaN</td>\n      <td>NaN</td>\n      <td>NaN</td>\n      <td>NaN</td>\n      <td>NaN</td>\n      <td>NaN</td>\n      <td>NaN</td>\n      <td>NaN</td>\n    </tr>\n    <tr>\n      <th>2011-10-11</th>\n      <td>NaN</td>\n      <td>NaN</td>\n      <td>NaN</td>\n      <td>370.00</td>\n      <td>NaN</td>\n      <td>54.00</td>\n      <td>NaN</td>\n      <td>NaN</td>\n      <td>NaN</td>\n    </tr>\n    <tr>\n      <th>2011-10-12</th>\n      <td>NaN</td>\n      <td>NaN</td>\n      <td>NaN</td>\n      <td>NaN</td>\n      <td>NaN</td>\n      <td>NaN</td>\n      <td>NaN</td>\n      <td>NaN</td>\n      <td>NaN</td>\n    </tr>\n    <tr>\n      <th>2011-10-13</th>\n      <td>NaN</td>\n      <td>NaN</td>\n      <td>NaN</td>\n      <td>373.64</td>\n      <td>NaN</td>\n      <td>54.36</td>\n      <td>NaN</td>\n      <td>NaN</td>\n      <td>NaN</td>\n    </tr>\n    <tr>\n      <th>2011-10-14</th>\n      <td>NaN</td>\n      <td>NaN</td>\n      <td>NaN</td>\n      <td>NaN</td>\n      <td>NaN</td>\n      <td>NaN</td>\n      <td>NaN</td>\n      <td>NaN</td>\n      <td>NaN</td>\n    </tr>\n  </tbody>\n</table>\n<p>1000 rows × 9 columns</p>\n</div>"
     },
     "metadata": {},
     "execution_count": 73
    }
   ],
   "source": [
    "df + df2"
   ]
  },
  {
   "cell_type": "code",
   "execution_count": 74,
   "metadata": {},
   "outputs": [
    {
     "output_type": "stream",
     "name": "stdout",
     "text": [
      "               IBM   MSFT                   IBM   MSFT\n2007-10-29  106.78  31.78    2007-10-29  106.78  31.78\n2007-10-31  108.01  33.84    2007-10-31  108.01  33.84\n2007-11-02  106.59  34.07    2007-11-02  106.59  34.07\n2007-11-06  105.27  33.47    2007-11-06  105.27  33.47\n2007-11-08   99.05  31.94    2007-11-08   99.05  31.94\n...            ...    ...    ...            ...    ...\n2011-10-03  173.29  24.53    2011-10-03  173.29  24.53\n2011-10-05  176.85  25.89    2011-10-05  176.85  25.89\n2011-10-07  182.39  26.25    2011-10-07  182.39  26.25\n2011-10-11  185.00  27.00    2011-10-11  185.00  27.00\n2011-10-13  186.82  27.18    2011-10-13  186.82  27.18\n                                                      \n[500 rows x 2 columns]       [500 rows x 2 columns]   \n"
     ]
    }
   ],
   "source": [
    "b, c = df.align(df2, join='inner')\n",
    "side_by_side(b, c) "
   ]
  },
  {
   "cell_type": "markdown",
   "metadata": {},
   "source": [
    "Transposing: no copy if all columns are same type\n",
    "-------------------------------------------------"
   ]
  },
  {
   "cell_type": "code",
   "execution_count": 75,
   "metadata": {},
   "outputs": [
    {
     "output_type": "execute_result",
     "data": {
      "text/plain": [
       "      2007-10-29  2007-10-30  2007-10-31  2007-11-01  2007-11-02\n",
       "AA         37.41       36.43       36.79       35.22       35.83\n",
       "AAPL      185.09      187.00      189.95      187.44      187.87\n",
       "GE         34.46       34.39       34.97       34.27       34.27\n",
       "IBM       106.78      106.15      108.01      105.72      106.59\n",
       "JNJ        57.13       56.99       57.30       56.85       56.95\n",
       "MSFT       31.78       32.70       33.84       34.07       34.07\n",
       "PEP        65.67       65.80       65.69       64.51       65.03\n",
       "SPX      1540.98     1531.02     1549.38     1508.44     1509.65\n",
       "XOM        85.51       83.25       84.03       80.84       80.32"
      ],
      "text/html": "<div>\n<style scoped>\n    .dataframe tbody tr th:only-of-type {\n        vertical-align: middle;\n    }\n\n    .dataframe tbody tr th {\n        vertical-align: top;\n    }\n\n    .dataframe thead th {\n        text-align: right;\n    }\n</style>\n<table border=\"1\" class=\"dataframe\">\n  <thead>\n    <tr style=\"text-align: right;\">\n      <th></th>\n      <th>2007-10-29</th>\n      <th>2007-10-30</th>\n      <th>2007-10-31</th>\n      <th>2007-11-01</th>\n      <th>2007-11-02</th>\n    </tr>\n  </thead>\n  <tbody>\n    <tr>\n      <th>AA</th>\n      <td>37.41</td>\n      <td>36.43</td>\n      <td>36.79</td>\n      <td>35.22</td>\n      <td>35.83</td>\n    </tr>\n    <tr>\n      <th>AAPL</th>\n      <td>185.09</td>\n      <td>187.00</td>\n      <td>189.95</td>\n      <td>187.44</td>\n      <td>187.87</td>\n    </tr>\n    <tr>\n      <th>GE</th>\n      <td>34.46</td>\n      <td>34.39</td>\n      <td>34.97</td>\n      <td>34.27</td>\n      <td>34.27</td>\n    </tr>\n    <tr>\n      <th>IBM</th>\n      <td>106.78</td>\n      <td>106.15</td>\n      <td>108.01</td>\n      <td>105.72</td>\n      <td>106.59</td>\n    </tr>\n    <tr>\n      <th>JNJ</th>\n      <td>57.13</td>\n      <td>56.99</td>\n      <td>57.30</td>\n      <td>56.85</td>\n      <td>56.95</td>\n    </tr>\n    <tr>\n      <th>MSFT</th>\n      <td>31.78</td>\n      <td>32.70</td>\n      <td>33.84</td>\n      <td>34.07</td>\n      <td>34.07</td>\n    </tr>\n    <tr>\n      <th>PEP</th>\n      <td>65.67</td>\n      <td>65.80</td>\n      <td>65.69</td>\n      <td>64.51</td>\n      <td>65.03</td>\n    </tr>\n    <tr>\n      <th>SPX</th>\n      <td>1540.98</td>\n      <td>1531.02</td>\n      <td>1549.38</td>\n      <td>1508.44</td>\n      <td>1509.65</td>\n    </tr>\n    <tr>\n      <th>XOM</th>\n      <td>85.51</td>\n      <td>83.25</td>\n      <td>84.03</td>\n      <td>80.84</td>\n      <td>80.32</td>\n    </tr>\n  </tbody>\n</table>\n</div>"
     },
     "metadata": {},
     "execution_count": 75
    }
   ],
   "source": [
    "df[:5].T"
   ]
  },
  {
   "cell_type": "markdown",
   "metadata": {},
   "source": [
    "Columns can be any type\n",
    "-----------------------"
   ]
  },
  {
   "cell_type": "code",
   "execution_count": 76,
   "metadata": {},
   "outputs": [
    {
     "output_type": "execute_result",
     "data": {
      "text/plain": [
       "     floats  ints strings  bools    objects\n",
       "0 -0.553533     0     foo  False 2000-01-01\n",
       "1 -0.943865     1     bar  False 2000-01-02\n",
       "2 -0.164799     2     foo  False 2000-01-03\n",
       "3 -1.079240     3     bar  False 2000-01-04\n",
       "4  2.653347     4     foo   True 2000-01-05\n",
       "5  0.495066     5     bar   True 2000-01-06\n",
       "6  0.021687     6     foo   True 2000-01-07\n",
       "7 -1.304491     7     bar  False 2000-01-08\n",
       "8  0.679821     8     foo   True 2000-01-09\n",
       "9  0.926491     9     bar   True 2000-01-10"
      ],
      "text/html": "<div>\n<style scoped>\n    .dataframe tbody tr th:only-of-type {\n        vertical-align: middle;\n    }\n\n    .dataframe tbody tr th {\n        vertical-align: top;\n    }\n\n    .dataframe thead th {\n        text-align: right;\n    }\n</style>\n<table border=\"1\" class=\"dataframe\">\n  <thead>\n    <tr style=\"text-align: right;\">\n      <th></th>\n      <th>floats</th>\n      <th>ints</th>\n      <th>strings</th>\n      <th>bools</th>\n      <th>objects</th>\n    </tr>\n  </thead>\n  <tbody>\n    <tr>\n      <th>0</th>\n      <td>-0.553533</td>\n      <td>0</td>\n      <td>foo</td>\n      <td>False</td>\n      <td>2000-01-01</td>\n    </tr>\n    <tr>\n      <th>1</th>\n      <td>-0.943865</td>\n      <td>1</td>\n      <td>bar</td>\n      <td>False</td>\n      <td>2000-01-02</td>\n    </tr>\n    <tr>\n      <th>2</th>\n      <td>-0.164799</td>\n      <td>2</td>\n      <td>foo</td>\n      <td>False</td>\n      <td>2000-01-03</td>\n    </tr>\n    <tr>\n      <th>3</th>\n      <td>-1.079240</td>\n      <td>3</td>\n      <td>bar</td>\n      <td>False</td>\n      <td>2000-01-04</td>\n    </tr>\n    <tr>\n      <th>4</th>\n      <td>2.653347</td>\n      <td>4</td>\n      <td>foo</td>\n      <td>True</td>\n      <td>2000-01-05</td>\n    </tr>\n    <tr>\n      <th>5</th>\n      <td>0.495066</td>\n      <td>5</td>\n      <td>bar</td>\n      <td>True</td>\n      <td>2000-01-06</td>\n    </tr>\n    <tr>\n      <th>6</th>\n      <td>0.021687</td>\n      <td>6</td>\n      <td>foo</td>\n      <td>True</td>\n      <td>2000-01-07</td>\n    </tr>\n    <tr>\n      <th>7</th>\n      <td>-1.304491</td>\n      <td>7</td>\n      <td>bar</td>\n      <td>False</td>\n      <td>2000-01-08</td>\n    </tr>\n    <tr>\n      <th>8</th>\n      <td>0.679821</td>\n      <td>8</td>\n      <td>foo</td>\n      <td>True</td>\n      <td>2000-01-09</td>\n    </tr>\n    <tr>\n      <th>9</th>\n      <td>0.926491</td>\n      <td>9</td>\n      <td>bar</td>\n      <td>True</td>\n      <td>2000-01-10</td>\n    </tr>\n  </tbody>\n</table>\n</div>"
     },
     "metadata": {},
     "execution_count": 76
    }
   ],
   "source": [
    "n = 10\n",
    "foo = DataFrame(index=range(n))\n",
    "foo['floats'] = np.random.randn(n)\n",
    "foo['ints'] = np.arange(n)\n",
    "foo['strings'] = ['foo', 'bar'] * int(n / 2)\n",
    "foo['bools'] = foo['floats'] > 0\n",
    "foo['objects'] = date_range('1/1/2000', periods=n)\n",
    "foo"
   ]
  },
  {
   "cell_type": "code",
   "execution_count": 77,
   "metadata": {},
   "outputs": [
    {
     "output_type": "execute_result",
     "data": {
      "text/plain": [
       "floats            float64\n",
       "ints                int32\n",
       "strings            object\n",
       "bools                bool\n",
       "objects    datetime64[ns]\n",
       "dtype: object"
      ]
     },
     "metadata": {},
     "execution_count": 77
    }
   ],
   "source": [
    "foo.dtypes"
   ]
  },
  {
   "cell_type": "markdown",
   "metadata": {},
   "source": [
    "N.B. transposing is not roundtrippable in this case (column-oriented data structure)"
   ]
  },
  {
   "cell_type": "code",
   "execution_count": 78,
   "metadata": {},
   "outputs": [
    {
     "output_type": "execute_result",
     "data": {
      "text/plain": [
       "     floats ints strings  bools    objects\n",
       "0 -0.553533    0     foo  False 2000-01-01\n",
       "1 -0.943865    1     bar  False 2000-01-02\n",
       "2 -0.164799    2     foo  False 2000-01-03\n",
       "3  -1.07924    3     bar  False 2000-01-04\n",
       "4  2.653347    4     foo   True 2000-01-05\n",
       "5  0.495066    5     bar   True 2000-01-06\n",
       "6  0.021687    6     foo   True 2000-01-07\n",
       "7 -1.304491    7     bar  False 2000-01-08\n",
       "8  0.679821    8     foo   True 2000-01-09\n",
       "9  0.926491    9     bar   True 2000-01-10"
      ],
      "text/html": "<div>\n<style scoped>\n    .dataframe tbody tr th:only-of-type {\n        vertical-align: middle;\n    }\n\n    .dataframe tbody tr th {\n        vertical-align: top;\n    }\n\n    .dataframe thead th {\n        text-align: right;\n    }\n</style>\n<table border=\"1\" class=\"dataframe\">\n  <thead>\n    <tr style=\"text-align: right;\">\n      <th></th>\n      <th>floats</th>\n      <th>ints</th>\n      <th>strings</th>\n      <th>bools</th>\n      <th>objects</th>\n    </tr>\n  </thead>\n  <tbody>\n    <tr>\n      <th>0</th>\n      <td>-0.553533</td>\n      <td>0</td>\n      <td>foo</td>\n      <td>False</td>\n      <td>2000-01-01</td>\n    </tr>\n    <tr>\n      <th>1</th>\n      <td>-0.943865</td>\n      <td>1</td>\n      <td>bar</td>\n      <td>False</td>\n      <td>2000-01-02</td>\n    </tr>\n    <tr>\n      <th>2</th>\n      <td>-0.164799</td>\n      <td>2</td>\n      <td>foo</td>\n      <td>False</td>\n      <td>2000-01-03</td>\n    </tr>\n    <tr>\n      <th>3</th>\n      <td>-1.07924</td>\n      <td>3</td>\n      <td>bar</td>\n      <td>False</td>\n      <td>2000-01-04</td>\n    </tr>\n    <tr>\n      <th>4</th>\n      <td>2.653347</td>\n      <td>4</td>\n      <td>foo</td>\n      <td>True</td>\n      <td>2000-01-05</td>\n    </tr>\n    <tr>\n      <th>5</th>\n      <td>0.495066</td>\n      <td>5</td>\n      <td>bar</td>\n      <td>True</td>\n      <td>2000-01-06</td>\n    </tr>\n    <tr>\n      <th>6</th>\n      <td>0.021687</td>\n      <td>6</td>\n      <td>foo</td>\n      <td>True</td>\n      <td>2000-01-07</td>\n    </tr>\n    <tr>\n      <th>7</th>\n      <td>-1.304491</td>\n      <td>7</td>\n      <td>bar</td>\n      <td>False</td>\n      <td>2000-01-08</td>\n    </tr>\n    <tr>\n      <th>8</th>\n      <td>0.679821</td>\n      <td>8</td>\n      <td>foo</td>\n      <td>True</td>\n      <td>2000-01-09</td>\n    </tr>\n    <tr>\n      <th>9</th>\n      <td>0.926491</td>\n      <td>9</td>\n      <td>bar</td>\n      <td>True</td>\n      <td>2000-01-10</td>\n    </tr>\n  </tbody>\n</table>\n</div>"
     },
     "metadata": {},
     "execution_count": 78
    }
   ],
   "source": [
    "foo.T.T"
   ]
  },
  {
   "cell_type": "code",
   "execution_count": 79,
   "metadata": {},
   "outputs": [
    {
     "output_type": "execute_result",
     "data": {
      "text/plain": [
       "floats             object\n",
       "ints               object\n",
       "strings            object\n",
       "bools              object\n",
       "objects    datetime64[ns]\n",
       "dtype: object"
      ]
     },
     "metadata": {},
     "execution_count": 79
    }
   ],
   "source": [
    "foo.T.T.dtypes"
   ]
  },
  {
   "cell_type": "markdown",
   "metadata": {},
   "source": [
    "Function application\n",
    "====================\n",
    "\n",
    "You can apply arbitrary functions to the rows or columns of a DataFrame"
   ]
  },
  {
   "cell_type": "code",
   "execution_count": 80,
   "metadata": {},
   "outputs": [
    {
     "output_type": "execute_result",
     "data": {
      "text/plain": [
       "AA        17.13819\n",
       "AAPL     217.38695\n",
       "GE        18.36225\n",
       "IBM      122.68701\n",
       "JNJ       58.22890\n",
       "MSFT      24.94784\n",
       "PEP       59.60793\n",
       "SPX     1153.72909\n",
       "XOM       71.51370\n",
       "dtype: float64"
      ]
     },
     "metadata": {},
     "execution_count": 80
    }
   ],
   "source": [
    "df.apply(np.mean)"
   ]
  },
  {
   "cell_type": "code",
   "execution_count": 81,
   "metadata": {},
   "outputs": [
    {
     "output_type": "execute_result",
     "data": {
      "text/plain": [
       "AA        17.13819\n",
       "AAPL     217.38695\n",
       "GE        18.36225\n",
       "IBM      122.68701\n",
       "JNJ       58.22890\n",
       "MSFT      24.94784\n",
       "PEP       59.60793\n",
       "SPX     1153.72909\n",
       "XOM       71.51370\n",
       "dtype: float64"
      ]
     },
     "metadata": {},
     "execution_count": 81
    }
   ],
   "source": [
    "df.mean()   # same as above.   df.mean? to look up the function usage."
   ]
  },
  {
   "cell_type": "code",
   "execution_count": 82,
   "metadata": {},
   "outputs": [
    {
     "output_type": "execute_result",
     "data": {
      "text/plain": [
       "2007-10-29    238.312222\n",
       "2007-10-30    237.081111\n",
       "2007-10-31    239.995556\n",
       "2007-11-01    234.151111\n",
       "2007-11-02    234.508889\n",
       "                 ...    \n",
       "2011-10-10    225.118889\n",
       "2011-10-11    226.161111\n",
       "2011-10-12    228.128889\n",
       "2011-10-13    228.374444\n",
       "2011-10-14    232.923333\n",
       "Length: 1000, dtype: float64"
      ]
     },
     "metadata": {},
     "execution_count": 82
    }
   ],
   "source": [
    "df.mean(1)   # get the mean of the rows based on a column. Also excludes missing data (NaN: not a number)."
   ]
  },
  {
   "cell_type": "code",
   "execution_count": 83,
   "metadata": {},
   "outputs": [
    {
     "output_type": "execute_result",
     "data": {
      "text/plain": [
       "2007-10-29    238.312222\n",
       "2007-10-30    237.081111\n",
       "2007-10-31    239.995556\n",
       "2007-11-01    234.151111\n",
       "2007-11-02    234.508889\n",
       "                 ...    \n",
       "2011-10-10    225.118889\n",
       "2011-10-11    226.161111\n",
       "2011-10-12    228.128889\n",
       "2011-10-13    228.374444\n",
       "2011-10-14    232.923333\n",
       "Length: 1000, dtype: float64"
      ]
     },
     "metadata": {},
     "execution_count": 83
    }
   ],
   "source": [
    "df.mean(1, skipna=False)   # flag skipna: to include NaN. In this data, no NaN."
   ]
  },
  {
   "cell_type": "code",
   "execution_count": 84,
   "metadata": {},
   "outputs": [
    {
     "output_type": "execute_result",
     "data": {
      "text/plain": [
       "2007-10-29    238.312222\n",
       "2007-10-30    237.081111\n",
       "2007-10-31    239.995556\n",
       "2007-11-01    234.151111\n",
       "2007-11-02    234.508889\n",
       "                 ...    \n",
       "2011-10-10    225.118889\n",
       "2011-10-11    226.161111\n",
       "2011-10-12    228.128889\n",
       "2011-10-13    228.374444\n",
       "2011-10-14    232.923333\n",
       "Length: 1000, dtype: float64"
      ]
     },
     "metadata": {},
     "execution_count": 84
    }
   ],
   "source": [
    "df.apply(np.mean, axis=1)   # same as above."
   ]
  },
  {
   "cell_type": "markdown",
   "metadata": {},
   "source": [
    "You can get as fancy as you want"
   ]
  },
  {
   "cell_type": "code",
   "execution_count": 85,
   "metadata": {},
   "outputs": [
    {
     "output_type": "execute_result",
     "data": {
      "text/plain": [
       "               AA    AAPL     GE     IBM    JNJ   MSFT    PEP      SPX    XOM\n",
       "2007-10-29  37.41  185.09  34.46  106.78  57.13  31.78  65.67  1540.98  85.51\n",
       "2007-10-30  36.43  187.00  34.39  106.15  56.99  32.70  65.80  1531.02  83.25\n",
       "2007-10-31  36.79  189.95  34.97  108.01  57.30  33.84  65.69  1549.38  84.03\n",
       "2007-11-01  35.22  187.44  34.27  105.72  56.85  34.07  64.51  1508.44  80.84\n",
       "2007-11-02  35.83  187.87  34.27  106.59  56.95  34.07  65.03  1509.65  80.32\n",
       "...           ...     ...    ...     ...    ...    ...    ...      ...    ...\n",
       "2011-10-10  10.09  388.81  16.14  186.62  64.43  26.94  61.87  1194.89  76.28\n",
       "2011-10-11  10.30  400.29  16.14  185.00  63.96  27.00  60.95  1195.54  76.27\n",
       "2011-10-12  10.05  402.19  16.40  186.12  64.33  26.96  62.70  1207.25  77.16\n",
       "2011-10-13  10.10  408.43  16.22  186.82  64.23  27.18  62.36  1203.66  76.37\n",
       "2011-10-14  10.26  422.00  16.60  190.53  64.72  27.27  62.24  1224.58  78.11\n",
       "\n",
       "[1000 rows x 9 columns]"
      ],
      "text/html": "<div>\n<style scoped>\n    .dataframe tbody tr th:only-of-type {\n        vertical-align: middle;\n    }\n\n    .dataframe tbody tr th {\n        vertical-align: top;\n    }\n\n    .dataframe thead th {\n        text-align: right;\n    }\n</style>\n<table border=\"1\" class=\"dataframe\">\n  <thead>\n    <tr style=\"text-align: right;\">\n      <th></th>\n      <th>AA</th>\n      <th>AAPL</th>\n      <th>GE</th>\n      <th>IBM</th>\n      <th>JNJ</th>\n      <th>MSFT</th>\n      <th>PEP</th>\n      <th>SPX</th>\n      <th>XOM</th>\n    </tr>\n  </thead>\n  <tbody>\n    <tr>\n      <th>2007-10-29</th>\n      <td>37.41</td>\n      <td>185.09</td>\n      <td>34.46</td>\n      <td>106.78</td>\n      <td>57.13</td>\n      <td>31.78</td>\n      <td>65.67</td>\n      <td>1540.98</td>\n      <td>85.51</td>\n    </tr>\n    <tr>\n      <th>2007-10-30</th>\n      <td>36.43</td>\n      <td>187.00</td>\n      <td>34.39</td>\n      <td>106.15</td>\n      <td>56.99</td>\n      <td>32.70</td>\n      <td>65.80</td>\n      <td>1531.02</td>\n      <td>83.25</td>\n    </tr>\n    <tr>\n      <th>2007-10-31</th>\n      <td>36.79</td>\n      <td>189.95</td>\n      <td>34.97</td>\n      <td>108.01</td>\n      <td>57.30</td>\n      <td>33.84</td>\n      <td>65.69</td>\n      <td>1549.38</td>\n      <td>84.03</td>\n    </tr>\n    <tr>\n      <th>2007-11-01</th>\n      <td>35.22</td>\n      <td>187.44</td>\n      <td>34.27</td>\n      <td>105.72</td>\n      <td>56.85</td>\n      <td>34.07</td>\n      <td>64.51</td>\n      <td>1508.44</td>\n      <td>80.84</td>\n    </tr>\n    <tr>\n      <th>2007-11-02</th>\n      <td>35.83</td>\n      <td>187.87</td>\n      <td>34.27</td>\n      <td>106.59</td>\n      <td>56.95</td>\n      <td>34.07</td>\n      <td>65.03</td>\n      <td>1509.65</td>\n      <td>80.32</td>\n    </tr>\n    <tr>\n      <th>...</th>\n      <td>...</td>\n      <td>...</td>\n      <td>...</td>\n      <td>...</td>\n      <td>...</td>\n      <td>...</td>\n      <td>...</td>\n      <td>...</td>\n      <td>...</td>\n    </tr>\n    <tr>\n      <th>2011-10-10</th>\n      <td>10.09</td>\n      <td>388.81</td>\n      <td>16.14</td>\n      <td>186.62</td>\n      <td>64.43</td>\n      <td>26.94</td>\n      <td>61.87</td>\n      <td>1194.89</td>\n      <td>76.28</td>\n    </tr>\n    <tr>\n      <th>2011-10-11</th>\n      <td>10.30</td>\n      <td>400.29</td>\n      <td>16.14</td>\n      <td>185.00</td>\n      <td>63.96</td>\n      <td>27.00</td>\n      <td>60.95</td>\n      <td>1195.54</td>\n      <td>76.27</td>\n    </tr>\n    <tr>\n      <th>2011-10-12</th>\n      <td>10.05</td>\n      <td>402.19</td>\n      <td>16.40</td>\n      <td>186.12</td>\n      <td>64.33</td>\n      <td>26.96</td>\n      <td>62.70</td>\n      <td>1207.25</td>\n      <td>77.16</td>\n    </tr>\n    <tr>\n      <th>2011-10-13</th>\n      <td>10.10</td>\n      <td>408.43</td>\n      <td>16.22</td>\n      <td>186.82</td>\n      <td>64.23</td>\n      <td>27.18</td>\n      <td>62.36</td>\n      <td>1203.66</td>\n      <td>76.37</td>\n    </tr>\n    <tr>\n      <th>2011-10-14</th>\n      <td>10.26</td>\n      <td>422.00</td>\n      <td>16.60</td>\n      <td>190.53</td>\n      <td>64.72</td>\n      <td>27.27</td>\n      <td>62.24</td>\n      <td>1224.58</td>\n      <td>78.11</td>\n    </tr>\n  </tbody>\n</table>\n<p>1000 rows × 9 columns</p>\n</div>"
     },
     "metadata": {},
     "execution_count": 85
    }
   ],
   "source": [
    "close_px    # Output: 1000 rows."
   ]
  },
  {
   "cell_type": "code",
   "execution_count": 86,
   "metadata": {},
   "outputs": [
    {
     "output_type": "execute_result",
     "data": {
      "text/plain": [
       "2007-10-29    185.09\n",
       "2007-10-30    187.00\n",
       "2007-10-31    189.95\n",
       "2007-11-01    187.44\n",
       "2007-11-02    187.87\n",
       "               ...  \n",
       "2011-10-10    388.81\n",
       "2011-10-11    400.29\n",
       "2011-10-12    402.19\n",
       "2011-10-13    408.43\n",
       "2011-10-14    422.00\n",
       "Name: AAPL, Length: 1000, dtype: float64"
      ]
     },
     "metadata": {},
     "execution_count": 86
    }
   ],
   "source": [
    "close_px.AAPL     # For easier typing, after dot ., use tab to select the name of the stock."
   ]
  },
  {
   "cell_type": "code",
   "execution_count": 87,
   "metadata": {},
   "outputs": [
    {
     "output_type": "execute_result",
     "data": {
      "text/plain": [
       "Timestamp('2011-10-14 00:00:00')"
      ]
     },
     "metadata": {},
     "execution_count": 87
    }
   ],
   "source": [
    "close_px.AAPL.idxmax() # gives index of its maximum value."
   ]
  },
  {
   "cell_type": "code",
   "execution_count": 88,
   "metadata": {},
   "outputs": [
    {
     "output_type": "execute_result",
     "data": {
      "text/plain": [
       "999"
      ]
     },
     "metadata": {},
     "execution_count": 88
    }
   ],
   "source": [
    "close_px.AAPL.values.argmax()    # If you are numpy aficionado, does the same thing."
   ]
  },
  {
   "cell_type": "code",
   "execution_count": 89,
   "metadata": {},
   "outputs": [
    {
     "output_type": "execute_result",
     "data": {
      "text/plain": [
       "AA     2008-05-19\n",
       "AAPL   2011-10-14\n",
       "GE     2007-10-31\n",
       "IBM    2011-10-14\n",
       "JNJ    2011-07-07\n",
       "MSFT   2007-11-01\n",
       "PEP    2008-01-10\n",
       "SPX    2007-10-31\n",
       "XOM    2008-05-20\n",
       "dtype: datetime64[ns]"
      ]
     },
     "metadata": {},
     "execution_count": 89
    }
   ],
   "source": [
    "def peak_date(series):\n",
    "    return series.idxmax()    # new method: series.idxmax()\n",
    "close_px.apply(peak_date)"
   ]
  },
  {
   "cell_type": "code",
   "execution_count": 90,
   "metadata": {},
   "outputs": [
    {
     "output_type": "execute_result",
     "data": {
      "text/plain": [
       "AA       36.76\n",
       "AAPL    343.80\n",
       "GE       28.78\n",
       "IBM     122.39\n",
       "JNJ      24.56\n",
       "MSFT     19.74\n",
       "PEP      28.79\n",
       "SPX     872.85\n",
       "XOM      32.63\n",
       "dtype: float64"
      ]
     },
     "metadata": {},
     "execution_count": 90
    }
   ],
   "source": [
    "df.apply(lambda x: x.max() - x.min()) # np.ptp"
   ]
  },
  {
   "cell_type": "code",
   "execution_count": 91,
   "metadata": {},
   "outputs": [
    {
     "output_type": "execute_result",
     "data": {
      "text/plain": [
       "                  AA      AAPL        GE       IBM       JNJ      MSFT  \\\n",
       "2007-10-29  3.621938  5.220842  3.539799  4.670771  4.045329  3.458837   \n",
       "2007-10-30  3.595393  5.231109  3.537766  4.664853  4.042876  3.487375   \n",
       "2007-10-31  3.605226  5.246761  3.554491  4.682224  4.048301  3.521644   \n",
       "2007-11-01  3.561614  5.233459  3.534270  4.660794  4.040416  3.528417   \n",
       "2007-11-02  3.578786  5.235750  3.534270  4.668990  4.042174  3.528417   \n",
       "...              ...       ...       ...       ...       ...       ...   \n",
       "2011-10-10  2.311545  5.963091  2.781301  5.229074  4.165579  3.293612   \n",
       "2011-10-11  2.332144  5.992189  2.781301  5.220356  4.158258  3.295837   \n",
       "2011-10-12  2.307573  5.996925  2.797281  5.226392  4.164026  3.294354   \n",
       "2011-10-13  2.312535  6.012321  2.786245  5.230146  4.162470  3.302481   \n",
       "2011-10-14  2.328253  6.045005  2.809403  5.249810  4.170070  3.305787   \n",
       "\n",
       "                 PEP       SPX       XOM  \n",
       "2007-10-29  4.184642  7.340174  4.448633  \n",
       "2007-10-30  4.186620  7.333689  4.421848  \n",
       "2007-10-31  4.184947  7.345610  4.431174  \n",
       "2007-11-01  4.166820  7.318831  4.392472  \n",
       "2007-11-02  4.174849  7.319633  4.386019  \n",
       "...              ...       ...       ...  \n",
       "2011-10-10  4.125035  7.085809  4.334411  \n",
       "2011-10-11  4.110054  7.086353  4.334280  \n",
       "2011-10-12  4.138361  7.096100  4.345881  \n",
       "2011-10-13  4.132924  7.093122  4.335590  \n",
       "2011-10-14  4.130998  7.110353  4.358118  \n",
       "\n",
       "[1000 rows x 9 columns]"
      ],
      "text/html": "<div>\n<style scoped>\n    .dataframe tbody tr th:only-of-type {\n        vertical-align: middle;\n    }\n\n    .dataframe tbody tr th {\n        vertical-align: top;\n    }\n\n    .dataframe thead th {\n        text-align: right;\n    }\n</style>\n<table border=\"1\" class=\"dataframe\">\n  <thead>\n    <tr style=\"text-align: right;\">\n      <th></th>\n      <th>AA</th>\n      <th>AAPL</th>\n      <th>GE</th>\n      <th>IBM</th>\n      <th>JNJ</th>\n      <th>MSFT</th>\n      <th>PEP</th>\n      <th>SPX</th>\n      <th>XOM</th>\n    </tr>\n  </thead>\n  <tbody>\n    <tr>\n      <th>2007-10-29</th>\n      <td>3.621938</td>\n      <td>5.220842</td>\n      <td>3.539799</td>\n      <td>4.670771</td>\n      <td>4.045329</td>\n      <td>3.458837</td>\n      <td>4.184642</td>\n      <td>7.340174</td>\n      <td>4.448633</td>\n    </tr>\n    <tr>\n      <th>2007-10-30</th>\n      <td>3.595393</td>\n      <td>5.231109</td>\n      <td>3.537766</td>\n      <td>4.664853</td>\n      <td>4.042876</td>\n      <td>3.487375</td>\n      <td>4.186620</td>\n      <td>7.333689</td>\n      <td>4.421848</td>\n    </tr>\n    <tr>\n      <th>2007-10-31</th>\n      <td>3.605226</td>\n      <td>5.246761</td>\n      <td>3.554491</td>\n      <td>4.682224</td>\n      <td>4.048301</td>\n      <td>3.521644</td>\n      <td>4.184947</td>\n      <td>7.345610</td>\n      <td>4.431174</td>\n    </tr>\n    <tr>\n      <th>2007-11-01</th>\n      <td>3.561614</td>\n      <td>5.233459</td>\n      <td>3.534270</td>\n      <td>4.660794</td>\n      <td>4.040416</td>\n      <td>3.528417</td>\n      <td>4.166820</td>\n      <td>7.318831</td>\n      <td>4.392472</td>\n    </tr>\n    <tr>\n      <th>2007-11-02</th>\n      <td>3.578786</td>\n      <td>5.235750</td>\n      <td>3.534270</td>\n      <td>4.668990</td>\n      <td>4.042174</td>\n      <td>3.528417</td>\n      <td>4.174849</td>\n      <td>7.319633</td>\n      <td>4.386019</td>\n    </tr>\n    <tr>\n      <th>...</th>\n      <td>...</td>\n      <td>...</td>\n      <td>...</td>\n      <td>...</td>\n      <td>...</td>\n      <td>...</td>\n      <td>...</td>\n      <td>...</td>\n      <td>...</td>\n    </tr>\n    <tr>\n      <th>2011-10-10</th>\n      <td>2.311545</td>\n      <td>5.963091</td>\n      <td>2.781301</td>\n      <td>5.229074</td>\n      <td>4.165579</td>\n      <td>3.293612</td>\n      <td>4.125035</td>\n      <td>7.085809</td>\n      <td>4.334411</td>\n    </tr>\n    <tr>\n      <th>2011-10-11</th>\n      <td>2.332144</td>\n      <td>5.992189</td>\n      <td>2.781301</td>\n      <td>5.220356</td>\n      <td>4.158258</td>\n      <td>3.295837</td>\n      <td>4.110054</td>\n      <td>7.086353</td>\n      <td>4.334280</td>\n    </tr>\n    <tr>\n      <th>2011-10-12</th>\n      <td>2.307573</td>\n      <td>5.996925</td>\n      <td>2.797281</td>\n      <td>5.226392</td>\n      <td>4.164026</td>\n      <td>3.294354</td>\n      <td>4.138361</td>\n      <td>7.096100</td>\n      <td>4.345881</td>\n    </tr>\n    <tr>\n      <th>2011-10-13</th>\n      <td>2.312535</td>\n      <td>6.012321</td>\n      <td>2.786245</td>\n      <td>5.230146</td>\n      <td>4.162470</td>\n      <td>3.302481</td>\n      <td>4.132924</td>\n      <td>7.093122</td>\n      <td>4.335590</td>\n    </tr>\n    <tr>\n      <th>2011-10-14</th>\n      <td>2.328253</td>\n      <td>6.045005</td>\n      <td>2.809403</td>\n      <td>5.249810</td>\n      <td>4.170070</td>\n      <td>3.305787</td>\n      <td>4.130998</td>\n      <td>7.110353</td>\n      <td>4.358118</td>\n    </tr>\n  </tbody>\n</table>\n<p>1000 rows × 9 columns</p>\n</div>"
     },
     "metadata": {},
     "execution_count": 91
    }
   ],
   "source": [
    "np.log(close_px)"
   ]
  },
  {
   "cell_type": "markdown",
   "metadata": {},
   "source": [
    "Plotting\n",
    "========\n",
    "\n",
    "Some basic plotting integration with matplotlib in Series / DataFrame"
   ]
  },
  {
   "cell_type": "code",
   "execution_count": 92,
   "metadata": {},
   "outputs": [
    {
     "output_type": "execute_result",
     "data": {
      "text/plain": [
       "              AAPL     IBM   MSFT    XOM\n",
       "2007-10-29  185.09  106.78  31.78  85.51\n",
       "2007-10-30  187.00  106.15  32.70  83.25\n",
       "2007-10-31  189.95  108.01  33.84  84.03\n",
       "2007-11-01  187.44  105.72  34.07  80.84\n",
       "2007-11-02  187.87  106.59  34.07  80.32\n",
       "...            ...     ...    ...    ...\n",
       "2011-10-10  388.81  186.62  26.94  76.28\n",
       "2011-10-11  400.29  185.00  27.00  76.27\n",
       "2011-10-12  402.19  186.12  26.96  77.16\n",
       "2011-10-13  408.43  186.82  27.18  76.37\n",
       "2011-10-14  422.00  190.53  27.27  78.11\n",
       "\n",
       "[1000 rows x 4 columns]"
      ],
      "text/html": "<div>\n<style scoped>\n    .dataframe tbody tr th:only-of-type {\n        vertical-align: middle;\n    }\n\n    .dataframe tbody tr th {\n        vertical-align: top;\n    }\n\n    .dataframe thead th {\n        text-align: right;\n    }\n</style>\n<table border=\"1\" class=\"dataframe\">\n  <thead>\n    <tr style=\"text-align: right;\">\n      <th></th>\n      <th>AAPL</th>\n      <th>IBM</th>\n      <th>MSFT</th>\n      <th>XOM</th>\n    </tr>\n  </thead>\n  <tbody>\n    <tr>\n      <th>2007-10-29</th>\n      <td>185.09</td>\n      <td>106.78</td>\n      <td>31.78</td>\n      <td>85.51</td>\n    </tr>\n    <tr>\n      <th>2007-10-30</th>\n      <td>187.00</td>\n      <td>106.15</td>\n      <td>32.70</td>\n      <td>83.25</td>\n    </tr>\n    <tr>\n      <th>2007-10-31</th>\n      <td>189.95</td>\n      <td>108.01</td>\n      <td>33.84</td>\n      <td>84.03</td>\n    </tr>\n    <tr>\n      <th>2007-11-01</th>\n      <td>187.44</td>\n      <td>105.72</td>\n      <td>34.07</td>\n      <td>80.84</td>\n    </tr>\n    <tr>\n      <th>2007-11-02</th>\n      <td>187.87</td>\n      <td>106.59</td>\n      <td>34.07</td>\n      <td>80.32</td>\n    </tr>\n    <tr>\n      <th>...</th>\n      <td>...</td>\n      <td>...</td>\n      <td>...</td>\n      <td>...</td>\n    </tr>\n    <tr>\n      <th>2011-10-10</th>\n      <td>388.81</td>\n      <td>186.62</td>\n      <td>26.94</td>\n      <td>76.28</td>\n    </tr>\n    <tr>\n      <th>2011-10-11</th>\n      <td>400.29</td>\n      <td>185.00</td>\n      <td>27.00</td>\n      <td>76.27</td>\n    </tr>\n    <tr>\n      <th>2011-10-12</th>\n      <td>402.19</td>\n      <td>186.12</td>\n      <td>26.96</td>\n      <td>77.16</td>\n    </tr>\n    <tr>\n      <th>2011-10-13</th>\n      <td>408.43</td>\n      <td>186.82</td>\n      <td>27.18</td>\n      <td>76.37</td>\n    </tr>\n    <tr>\n      <th>2011-10-14</th>\n      <td>422.00</td>\n      <td>190.53</td>\n      <td>27.27</td>\n      <td>78.11</td>\n    </tr>\n  </tbody>\n</table>\n<p>1000 rows × 4 columns</p>\n</div>"
     },
     "metadata": {},
     "execution_count": 92
    }
   ],
   "source": [
    "close_px[['AAPL', 'IBM', 'MSFT', 'XOM']]#.plot()    # Can pass a list of col names to get items, so you don't have to use ix."
   ]
  },
  {
   "cell_type": "code",
   "execution_count": 93,
   "metadata": {},
   "outputs": [
    {
     "output_type": "execute_result",
     "data": {
      "text/plain": [
       "<AxesSubplot:>"
      ]
     },
     "metadata": {},
     "execution_count": 93
    },
    {
     "output_type": "display_data",
     "data": {
      "text/plain": "<Figure size 720x432 with 1 Axes>",
      "image/svg+xml": "<?xml version=\"1.0\" encoding=\"utf-8\" standalone=\"no\"?>\r\n<!DOCTYPE svg PUBLIC \"-//W3C//DTD SVG 1.1//EN\"\r\n  \"http://www.w3.org/Graphics/SVG/1.1/DTD/svg11.dtd\">\r\n<!-- Created with matplotlib (https://matplotlib.org/) -->\r\n<svg height=\"344.432908pt\" version=\"1.1\" viewBox=\"0 0 598.4875 344.432908\" width=\"598.4875pt\" xmlns=\"http://www.w3.org/2000/svg\" xmlns:xlink=\"http://www.w3.org/1999/xlink\">\r\n <metadata>\r\n  <rdf:RDF xmlns:cc=\"http://creativecommons.org/ns#\" xmlns:dc=\"http://purl.org/dc/elements/1.1/\" xmlns:rdf=\"http://www.w3.org/1999/02/22-rdf-syntax-ns#\">\r\n   <cc:Work>\r\n    <dc:type rdf:resource=\"http://purl.org/dc/dcmitype/StillImage\"/>\r\n    <dc:date>2021-06-12T13:37:53.023825</dc:date>\r\n    <dc:format>image/svg+xml</dc:format>\r\n    <dc:creator>\r\n     <cc:Agent>\r\n      <dc:title>Matplotlib v3.3.4, https://matplotlib.org/</dc:title>\r\n     </cc:Agent>\r\n    </dc:creator>\r\n   </cc:Work>\r\n  </rdf:RDF>\r\n </metadata>\r\n <defs>\r\n  <style type=\"text/css\">*{stroke-linecap:butt;stroke-linejoin:round;}</style>\r\n </defs>\r\n <g id=\"figure_1\">\r\n  <g id=\"patch_1\">\r\n   <path d=\"M 0 344.432908 \r\nL 598.4875 344.432908 \r\nL 598.4875 0 \r\nL 0 0 \r\nz\r\n\" style=\"fill:none;\"/>\r\n  </g>\r\n  <g id=\"axes_1\">\r\n   <g id=\"patch_2\">\r\n    <path d=\"M 33.2875 300.96 \r\nL 591.2875 300.96 \r\nL 591.2875 7.2 \r\nL 33.2875 7.2 \r\nz\r\n\" style=\"fill:#ffffff;\"/>\r\n   </g>\r\n   <g id=\"matplotlib.axis_1\">\r\n    <g id=\"xtick_1\">\r\n     <g id=\"line2d_1\">\r\n      <defs>\r\n       <path d=\"M 0 0 \r\nL 0 3.5 \r\n\" id=\"m665341de45\" style=\"stroke:#000000;stroke-width:0.8;\"/>\r\n      </defs>\r\n      <g>\r\n       <use style=\"stroke:#000000;stroke-width:0.8;\" x=\"81.103041\" xlink:href=\"#m665341de45\" y=\"300.96\"/>\r\n      </g>\r\n     </g>\r\n     <g id=\"text_1\">\r\n      <!-- 2008-01 -->\r\n      <g transform=\"translate(43.87822 335.431846)rotate(-30)scale(0.1 -0.1)\">\r\n       <defs>\r\n        <path d=\"M 19.1875 8.296875 \r\nL 53.609375 8.296875 \r\nL 53.609375 0 \r\nL 7.328125 0 \r\nL 7.328125 8.296875 \r\nQ 12.9375 14.109375 22.625 23.890625 \r\nQ 32.328125 33.6875 34.8125 36.53125 \r\nQ 39.546875 41.84375 41.421875 45.53125 \r\nQ 43.3125 49.21875 43.3125 52.78125 \r\nQ 43.3125 58.59375 39.234375 62.25 \r\nQ 35.15625 65.921875 28.609375 65.921875 \r\nQ 23.96875 65.921875 18.8125 64.3125 \r\nQ 13.671875 62.703125 7.8125 59.421875 \r\nL 7.8125 69.390625 \r\nQ 13.765625 71.78125 18.9375 73 \r\nQ 24.125 74.21875 28.421875 74.21875 \r\nQ 39.75 74.21875 46.484375 68.546875 \r\nQ 53.21875 62.890625 53.21875 53.421875 \r\nQ 53.21875 48.921875 51.53125 44.890625 \r\nQ 49.859375 40.875 45.40625 35.40625 \r\nQ 44.1875 33.984375 37.640625 27.21875 \r\nQ 31.109375 20.453125 19.1875 8.296875 \r\nz\r\n\" id=\"DejaVuSans-50\"/>\r\n        <path d=\"M 31.78125 66.40625 \r\nQ 24.171875 66.40625 20.328125 58.90625 \r\nQ 16.5 51.421875 16.5 36.375 \r\nQ 16.5 21.390625 20.328125 13.890625 \r\nQ 24.171875 6.390625 31.78125 6.390625 \r\nQ 39.453125 6.390625 43.28125 13.890625 \r\nQ 47.125 21.390625 47.125 36.375 \r\nQ 47.125 51.421875 43.28125 58.90625 \r\nQ 39.453125 66.40625 31.78125 66.40625 \r\nz\r\nM 31.78125 74.21875 \r\nQ 44.046875 74.21875 50.515625 64.515625 \r\nQ 56.984375 54.828125 56.984375 36.375 \r\nQ 56.984375 17.96875 50.515625 8.265625 \r\nQ 44.046875 -1.421875 31.78125 -1.421875 \r\nQ 19.53125 -1.421875 13.0625 8.265625 \r\nQ 6.59375 17.96875 6.59375 36.375 \r\nQ 6.59375 54.828125 13.0625 64.515625 \r\nQ 19.53125 74.21875 31.78125 74.21875 \r\nz\r\n\" id=\"DejaVuSans-48\"/>\r\n        <path d=\"M 31.78125 34.625 \r\nQ 24.75 34.625 20.71875 30.859375 \r\nQ 16.703125 27.09375 16.703125 20.515625 \r\nQ 16.703125 13.921875 20.71875 10.15625 \r\nQ 24.75 6.390625 31.78125 6.390625 \r\nQ 38.8125 6.390625 42.859375 10.171875 \r\nQ 46.921875 13.96875 46.921875 20.515625 \r\nQ 46.921875 27.09375 42.890625 30.859375 \r\nQ 38.875 34.625 31.78125 34.625 \r\nz\r\nM 21.921875 38.8125 \r\nQ 15.578125 40.375 12.03125 44.71875 \r\nQ 8.5 49.078125 8.5 55.328125 \r\nQ 8.5 64.0625 14.71875 69.140625 \r\nQ 20.953125 74.21875 31.78125 74.21875 \r\nQ 42.671875 74.21875 48.875 69.140625 \r\nQ 55.078125 64.0625 55.078125 55.328125 \r\nQ 55.078125 49.078125 51.53125 44.71875 \r\nQ 48 40.375 41.703125 38.8125 \r\nQ 48.828125 37.15625 52.796875 32.3125 \r\nQ 56.78125 27.484375 56.78125 20.515625 \r\nQ 56.78125 9.90625 50.3125 4.234375 \r\nQ 43.84375 -1.421875 31.78125 -1.421875 \r\nQ 19.734375 -1.421875 13.25 4.234375 \r\nQ 6.78125 9.90625 6.78125 20.515625 \r\nQ 6.78125 27.484375 10.78125 32.3125 \r\nQ 14.796875 37.15625 21.921875 38.8125 \r\nz\r\nM 18.3125 54.390625 \r\nQ 18.3125 48.734375 21.84375 45.5625 \r\nQ 25.390625 42.390625 31.78125 42.390625 \r\nQ 38.140625 42.390625 41.71875 45.5625 \r\nQ 45.3125 48.734375 45.3125 54.390625 \r\nQ 45.3125 60.0625 41.71875 63.234375 \r\nQ 38.140625 66.40625 31.78125 66.40625 \r\nQ 25.390625 66.40625 21.84375 63.234375 \r\nQ 18.3125 60.0625 18.3125 54.390625 \r\nz\r\n\" id=\"DejaVuSans-56\"/>\r\n        <path d=\"M 4.890625 31.390625 \r\nL 31.203125 31.390625 \r\nL 31.203125 23.390625 \r\nL 4.890625 23.390625 \r\nz\r\n\" id=\"DejaVuSans-45\"/>\r\n        <path d=\"M 12.40625 8.296875 \r\nL 28.515625 8.296875 \r\nL 28.515625 63.921875 \r\nL 10.984375 60.40625 \r\nL 10.984375 69.390625 \r\nL 28.421875 72.90625 \r\nL 38.28125 72.90625 \r\nL 38.28125 8.296875 \r\nL 54.390625 8.296875 \r\nL 54.390625 0 \r\nL 12.40625 0 \r\nz\r\n\" id=\"DejaVuSans-49\"/>\r\n       </defs>\r\n       <use xlink:href=\"#DejaVuSans-50\"/>\r\n       <use x=\"63.623047\" xlink:href=\"#DejaVuSans-48\"/>\r\n       <use x=\"127.246094\" xlink:href=\"#DejaVuSans-48\"/>\r\n       <use x=\"190.869141\" xlink:href=\"#DejaVuSans-56\"/>\r\n       <use x=\"254.492188\" xlink:href=\"#DejaVuSans-45\"/>\r\n       <use x=\"290.576172\" xlink:href=\"#DejaVuSans-48\"/>\r\n       <use x=\"354.199219\" xlink:href=\"#DejaVuSans-49\"/>\r\n      </g>\r\n     </g>\r\n    </g>\r\n    <g id=\"xtick_2\">\r\n     <g id=\"line2d_2\">\r\n      <g>\r\n       <use style=\"stroke:#000000;stroke-width:0.8;\" x=\"144.950646\" xlink:href=\"#m665341de45\" y=\"300.96\"/>\r\n      </g>\r\n     </g>\r\n     <g id=\"text_2\">\r\n      <!-- 2008-07 -->\r\n      <g transform=\"translate(107.725825 335.431846)rotate(-30)scale(0.1 -0.1)\">\r\n       <defs>\r\n        <path d=\"M 8.203125 72.90625 \r\nL 55.078125 72.90625 \r\nL 55.078125 68.703125 \r\nL 28.609375 0 \r\nL 18.3125 0 \r\nL 43.21875 64.59375 \r\nL 8.203125 64.59375 \r\nz\r\n\" id=\"DejaVuSans-55\"/>\r\n       </defs>\r\n       <use xlink:href=\"#DejaVuSans-50\"/>\r\n       <use x=\"63.623047\" xlink:href=\"#DejaVuSans-48\"/>\r\n       <use x=\"127.246094\" xlink:href=\"#DejaVuSans-48\"/>\r\n       <use x=\"190.869141\" xlink:href=\"#DejaVuSans-56\"/>\r\n       <use x=\"254.492188\" xlink:href=\"#DejaVuSans-45\"/>\r\n       <use x=\"290.576172\" xlink:href=\"#DejaVuSans-48\"/>\r\n       <use x=\"354.199219\" xlink:href=\"#DejaVuSans-55\"/>\r\n      </g>\r\n     </g>\r\n    </g>\r\n    <g id=\"xtick_3\">\r\n     <g id=\"line2d_3\">\r\n      <g>\r\n       <use style=\"stroke:#000000;stroke-width:0.8;\" x=\"209.499873\" xlink:href=\"#m665341de45\" y=\"300.96\"/>\r\n      </g>\r\n     </g>\r\n     <g id=\"text_3\">\r\n      <!-- 2009-01 -->\r\n      <g transform=\"translate(172.275052 335.431846)rotate(-30)scale(0.1 -0.1)\">\r\n       <defs>\r\n        <path d=\"M 10.984375 1.515625 \r\nL 10.984375 10.5 \r\nQ 14.703125 8.734375 18.5 7.8125 \r\nQ 22.3125 6.890625 25.984375 6.890625 \r\nQ 35.75 6.890625 40.890625 13.453125 \r\nQ 46.046875 20.015625 46.78125 33.40625 \r\nQ 43.953125 29.203125 39.59375 26.953125 \r\nQ 35.25 24.703125 29.984375 24.703125 \r\nQ 19.046875 24.703125 12.671875 31.3125 \r\nQ 6.296875 37.9375 6.296875 49.421875 \r\nQ 6.296875 60.640625 12.9375 67.421875 \r\nQ 19.578125 74.21875 30.609375 74.21875 \r\nQ 43.265625 74.21875 49.921875 64.515625 \r\nQ 56.59375 54.828125 56.59375 36.375 \r\nQ 56.59375 19.140625 48.40625 8.859375 \r\nQ 40.234375 -1.421875 26.421875 -1.421875 \r\nQ 22.703125 -1.421875 18.890625 -0.6875 \r\nQ 15.09375 0.046875 10.984375 1.515625 \r\nz\r\nM 30.609375 32.421875 \r\nQ 37.25 32.421875 41.125 36.953125 \r\nQ 45.015625 41.5 45.015625 49.421875 \r\nQ 45.015625 57.28125 41.125 61.84375 \r\nQ 37.25 66.40625 30.609375 66.40625 \r\nQ 23.96875 66.40625 20.09375 61.84375 \r\nQ 16.21875 57.28125 16.21875 49.421875 \r\nQ 16.21875 41.5 20.09375 36.953125 \r\nQ 23.96875 32.421875 30.609375 32.421875 \r\nz\r\n\" id=\"DejaVuSans-57\"/>\r\n       </defs>\r\n       <use xlink:href=\"#DejaVuSans-50\"/>\r\n       <use x=\"63.623047\" xlink:href=\"#DejaVuSans-48\"/>\r\n       <use x=\"127.246094\" xlink:href=\"#DejaVuSans-48\"/>\r\n       <use x=\"190.869141\" xlink:href=\"#DejaVuSans-57\"/>\r\n       <use x=\"254.492188\" xlink:href=\"#DejaVuSans-45\"/>\r\n       <use x=\"290.576172\" xlink:href=\"#DejaVuSans-48\"/>\r\n       <use x=\"354.199219\" xlink:href=\"#DejaVuSans-49\"/>\r\n      </g>\r\n     </g>\r\n    </g>\r\n    <g id=\"xtick_4\">\r\n     <g id=\"line2d_4\">\r\n      <g>\r\n       <use style=\"stroke:#000000;stroke-width:0.8;\" x=\"272.996666\" xlink:href=\"#m665341de45\" y=\"300.96\"/>\r\n      </g>\r\n     </g>\r\n     <g id=\"text_4\">\r\n      <!-- 2009-07 -->\r\n      <g transform=\"translate(235.771846 335.431846)rotate(-30)scale(0.1 -0.1)\">\r\n       <use xlink:href=\"#DejaVuSans-50\"/>\r\n       <use x=\"63.623047\" xlink:href=\"#DejaVuSans-48\"/>\r\n       <use x=\"127.246094\" xlink:href=\"#DejaVuSans-48\"/>\r\n       <use x=\"190.869141\" xlink:href=\"#DejaVuSans-57\"/>\r\n       <use x=\"254.492188\" xlink:href=\"#DejaVuSans-45\"/>\r\n       <use x=\"290.576172\" xlink:href=\"#DejaVuSans-48\"/>\r\n       <use x=\"354.199219\" xlink:href=\"#DejaVuSans-55\"/>\r\n      </g>\r\n     </g>\r\n    </g>\r\n    <g id=\"xtick_5\">\r\n     <g id=\"line2d_5\">\r\n      <g>\r\n       <use style=\"stroke:#000000;stroke-width:0.8;\" x=\"337.545893\" xlink:href=\"#m665341de45\" y=\"300.96\"/>\r\n      </g>\r\n     </g>\r\n     <g id=\"text_5\">\r\n      <!-- 2010-01 -->\r\n      <g transform=\"translate(300.321072 335.431846)rotate(-30)scale(0.1 -0.1)\">\r\n       <use xlink:href=\"#DejaVuSans-50\"/>\r\n       <use x=\"63.623047\" xlink:href=\"#DejaVuSans-48\"/>\r\n       <use x=\"127.246094\" xlink:href=\"#DejaVuSans-49\"/>\r\n       <use x=\"190.869141\" xlink:href=\"#DejaVuSans-48\"/>\r\n       <use x=\"254.492188\" xlink:href=\"#DejaVuSans-45\"/>\r\n       <use x=\"290.576172\" xlink:href=\"#DejaVuSans-48\"/>\r\n       <use x=\"354.199219\" xlink:href=\"#DejaVuSans-49\"/>\r\n      </g>\r\n     </g>\r\n    </g>\r\n    <g id=\"xtick_6\">\r\n     <g id=\"line2d_6\">\r\n      <g>\r\n       <use style=\"stroke:#000000;stroke-width:0.8;\" x=\"401.042687\" xlink:href=\"#m665341de45\" y=\"300.96\"/>\r\n      </g>\r\n     </g>\r\n     <g id=\"text_6\">\r\n      <!-- 2010-07 -->\r\n      <g transform=\"translate(363.817866 335.431846)rotate(-30)scale(0.1 -0.1)\">\r\n       <use xlink:href=\"#DejaVuSans-50\"/>\r\n       <use x=\"63.623047\" xlink:href=\"#DejaVuSans-48\"/>\r\n       <use x=\"127.246094\" xlink:href=\"#DejaVuSans-49\"/>\r\n       <use x=\"190.869141\" xlink:href=\"#DejaVuSans-48\"/>\r\n       <use x=\"254.492188\" xlink:href=\"#DejaVuSans-45\"/>\r\n       <use x=\"290.576172\" xlink:href=\"#DejaVuSans-48\"/>\r\n       <use x=\"354.199219\" xlink:href=\"#DejaVuSans-55\"/>\r\n      </g>\r\n     </g>\r\n    </g>\r\n    <g id=\"xtick_7\">\r\n     <g id=\"line2d_7\">\r\n      <g>\r\n       <use style=\"stroke:#000000;stroke-width:0.8;\" x=\"465.591913\" xlink:href=\"#m665341de45\" y=\"300.96\"/>\r\n      </g>\r\n     </g>\r\n     <g id=\"text_7\">\r\n      <!-- 2011-01 -->\r\n      <g transform=\"translate(428.367093 335.431846)rotate(-30)scale(0.1 -0.1)\">\r\n       <use xlink:href=\"#DejaVuSans-50\"/>\r\n       <use x=\"63.623047\" xlink:href=\"#DejaVuSans-48\"/>\r\n       <use x=\"127.246094\" xlink:href=\"#DejaVuSans-49\"/>\r\n       <use x=\"190.869141\" xlink:href=\"#DejaVuSans-49\"/>\r\n       <use x=\"254.492188\" xlink:href=\"#DejaVuSans-45\"/>\r\n       <use x=\"290.576172\" xlink:href=\"#DejaVuSans-48\"/>\r\n       <use x=\"354.199219\" xlink:href=\"#DejaVuSans-49\"/>\r\n      </g>\r\n     </g>\r\n    </g>\r\n    <g id=\"xtick_8\">\r\n     <g id=\"line2d_8\">\r\n      <g>\r\n       <use style=\"stroke:#000000;stroke-width:0.8;\" x=\"529.088707\" xlink:href=\"#m665341de45\" y=\"300.96\"/>\r\n      </g>\r\n     </g>\r\n     <g id=\"text_8\">\r\n      <!-- 2011-07 -->\r\n      <g transform=\"translate(491.863886 335.431846)rotate(-30)scale(0.1 -0.1)\">\r\n       <use xlink:href=\"#DejaVuSans-50\"/>\r\n       <use x=\"63.623047\" xlink:href=\"#DejaVuSans-48\"/>\r\n       <use x=\"127.246094\" xlink:href=\"#DejaVuSans-49\"/>\r\n       <use x=\"190.869141\" xlink:href=\"#DejaVuSans-49\"/>\r\n       <use x=\"254.492188\" xlink:href=\"#DejaVuSans-45\"/>\r\n       <use x=\"290.576172\" xlink:href=\"#DejaVuSans-48\"/>\r\n       <use x=\"354.199219\" xlink:href=\"#DejaVuSans-55\"/>\r\n      </g>\r\n     </g>\r\n    </g>\r\n   </g>\r\n   <g id=\"matplotlib.axis_2\">\r\n    <g id=\"ytick_1\">\r\n     <g id=\"line2d_9\">\r\n      <defs>\r\n       <path d=\"M 0 0 \r\nL -3.5 0 \r\n\" id=\"m15ad0a1647\" style=\"stroke:#000000;stroke-width:0.8;\"/>\r\n      </defs>\r\n      <g>\r\n       <use style=\"stroke:#000000;stroke-width:0.8;\" x=\"33.2875\" xlink:href=\"#m15ad0a1647\" y=\"296.994502\"/>\r\n      </g>\r\n     </g>\r\n     <g id=\"text_9\">\r\n      <!-- 0 -->\r\n      <g transform=\"translate(19.925 300.79372)scale(0.1 -0.1)\">\r\n       <use xlink:href=\"#DejaVuSans-48\"/>\r\n      </g>\r\n     </g>\r\n    </g>\r\n    <g id=\"ytick_2\">\r\n     <g id=\"line2d_10\">\r\n      <g>\r\n       <use style=\"stroke:#000000;stroke-width:0.8;\" x=\"33.2875\" xlink:href=\"#m15ad0a1647\" y=\"264.240737\"/>\r\n      </g>\r\n     </g>\r\n     <g id=\"text_10\">\r\n      <!-- 50 -->\r\n      <g transform=\"translate(13.5625 268.039956)scale(0.1 -0.1)\">\r\n       <defs>\r\n        <path d=\"M 10.796875 72.90625 \r\nL 49.515625 72.90625 \r\nL 49.515625 64.59375 \r\nL 19.828125 64.59375 \r\nL 19.828125 46.734375 \r\nQ 21.96875 47.46875 24.109375 47.828125 \r\nQ 26.265625 48.1875 28.421875 48.1875 \r\nQ 40.625 48.1875 47.75 41.5 \r\nQ 54.890625 34.8125 54.890625 23.390625 \r\nQ 54.890625 11.625 47.5625 5.09375 \r\nQ 40.234375 -1.421875 26.90625 -1.421875 \r\nQ 22.3125 -1.421875 17.546875 -0.640625 \r\nQ 12.796875 0.140625 7.71875 1.703125 \r\nL 7.71875 11.625 \r\nQ 12.109375 9.234375 16.796875 8.0625 \r\nQ 21.484375 6.890625 26.703125 6.890625 \r\nQ 35.15625 6.890625 40.078125 11.328125 \r\nQ 45.015625 15.765625 45.015625 23.390625 \r\nQ 45.015625 31 40.078125 35.4375 \r\nQ 35.15625 39.890625 26.703125 39.890625 \r\nQ 22.75 39.890625 18.8125 39.015625 \r\nQ 14.890625 38.140625 10.796875 36.28125 \r\nz\r\n\" id=\"DejaVuSans-53\"/>\r\n       </defs>\r\n       <use xlink:href=\"#DejaVuSans-53\"/>\r\n       <use x=\"63.623047\" xlink:href=\"#DejaVuSans-48\"/>\r\n      </g>\r\n     </g>\r\n    </g>\r\n    <g id=\"ytick_3\">\r\n     <g id=\"line2d_11\">\r\n      <g>\r\n       <use style=\"stroke:#000000;stroke-width:0.8;\" x=\"33.2875\" xlink:href=\"#m15ad0a1647\" y=\"231.486972\"/>\r\n      </g>\r\n     </g>\r\n     <g id=\"text_11\">\r\n      <!-- 100 -->\r\n      <g transform=\"translate(7.2 235.286191)scale(0.1 -0.1)\">\r\n       <use xlink:href=\"#DejaVuSans-49\"/>\r\n       <use x=\"63.623047\" xlink:href=\"#DejaVuSans-48\"/>\r\n       <use x=\"127.246094\" xlink:href=\"#DejaVuSans-48\"/>\r\n      </g>\r\n     </g>\r\n    </g>\r\n    <g id=\"ytick_4\">\r\n     <g id=\"line2d_12\">\r\n      <g>\r\n       <use style=\"stroke:#000000;stroke-width:0.8;\" x=\"33.2875\" xlink:href=\"#m15ad0a1647\" y=\"198.733207\"/>\r\n      </g>\r\n     </g>\r\n     <g id=\"text_12\">\r\n      <!-- 150 -->\r\n      <g transform=\"translate(7.2 202.532426)scale(0.1 -0.1)\">\r\n       <use xlink:href=\"#DejaVuSans-49\"/>\r\n       <use x=\"63.623047\" xlink:href=\"#DejaVuSans-53\"/>\r\n       <use x=\"127.246094\" xlink:href=\"#DejaVuSans-48\"/>\r\n      </g>\r\n     </g>\r\n    </g>\r\n    <g id=\"ytick_5\">\r\n     <g id=\"line2d_13\">\r\n      <g>\r\n       <use style=\"stroke:#000000;stroke-width:0.8;\" x=\"33.2875\" xlink:href=\"#m15ad0a1647\" y=\"165.979443\"/>\r\n      </g>\r\n     </g>\r\n     <g id=\"text_13\">\r\n      <!-- 200 -->\r\n      <g transform=\"translate(7.2 169.778661)scale(0.1 -0.1)\">\r\n       <use xlink:href=\"#DejaVuSans-50\"/>\r\n       <use x=\"63.623047\" xlink:href=\"#DejaVuSans-48\"/>\r\n       <use x=\"127.246094\" xlink:href=\"#DejaVuSans-48\"/>\r\n      </g>\r\n     </g>\r\n    </g>\r\n    <g id=\"ytick_6\">\r\n     <g id=\"line2d_14\">\r\n      <g>\r\n       <use style=\"stroke:#000000;stroke-width:0.8;\" x=\"33.2875\" xlink:href=\"#m15ad0a1647\" y=\"133.225678\"/>\r\n      </g>\r\n     </g>\r\n     <g id=\"text_14\">\r\n      <!-- 250 -->\r\n      <g transform=\"translate(7.2 137.024897)scale(0.1 -0.1)\">\r\n       <use xlink:href=\"#DejaVuSans-50\"/>\r\n       <use x=\"63.623047\" xlink:href=\"#DejaVuSans-53\"/>\r\n       <use x=\"127.246094\" xlink:href=\"#DejaVuSans-48\"/>\r\n      </g>\r\n     </g>\r\n    </g>\r\n    <g id=\"ytick_7\">\r\n     <g id=\"line2d_15\">\r\n      <g>\r\n       <use style=\"stroke:#000000;stroke-width:0.8;\" x=\"33.2875\" xlink:href=\"#m15ad0a1647\" y=\"100.471913\"/>\r\n      </g>\r\n     </g>\r\n     <g id=\"text_15\">\r\n      <!-- 300 -->\r\n      <g transform=\"translate(7.2 104.271132)scale(0.1 -0.1)\">\r\n       <defs>\r\n        <path d=\"M 40.578125 39.3125 \r\nQ 47.65625 37.796875 51.625 33 \r\nQ 55.609375 28.21875 55.609375 21.1875 \r\nQ 55.609375 10.40625 48.1875 4.484375 \r\nQ 40.765625 -1.421875 27.09375 -1.421875 \r\nQ 22.515625 -1.421875 17.65625 -0.515625 \r\nQ 12.796875 0.390625 7.625 2.203125 \r\nL 7.625 11.71875 \r\nQ 11.71875 9.328125 16.59375 8.109375 \r\nQ 21.484375 6.890625 26.8125 6.890625 \r\nQ 36.078125 6.890625 40.9375 10.546875 \r\nQ 45.796875 14.203125 45.796875 21.1875 \r\nQ 45.796875 27.640625 41.28125 31.265625 \r\nQ 36.765625 34.90625 28.71875 34.90625 \r\nL 20.21875 34.90625 \r\nL 20.21875 43.015625 \r\nL 29.109375 43.015625 \r\nQ 36.375 43.015625 40.234375 45.921875 \r\nQ 44.09375 48.828125 44.09375 54.296875 \r\nQ 44.09375 59.90625 40.109375 62.90625 \r\nQ 36.140625 65.921875 28.71875 65.921875 \r\nQ 24.65625 65.921875 20.015625 65.03125 \r\nQ 15.375 64.15625 9.8125 62.3125 \r\nL 9.8125 71.09375 \r\nQ 15.4375 72.65625 20.34375 73.4375 \r\nQ 25.25 74.21875 29.59375 74.21875 \r\nQ 40.828125 74.21875 47.359375 69.109375 \r\nQ 53.90625 64.015625 53.90625 55.328125 \r\nQ 53.90625 49.265625 50.4375 45.09375 \r\nQ 46.96875 40.921875 40.578125 39.3125 \r\nz\r\n\" id=\"DejaVuSans-51\"/>\r\n       </defs>\r\n       <use xlink:href=\"#DejaVuSans-51\"/>\r\n       <use x=\"63.623047\" xlink:href=\"#DejaVuSans-48\"/>\r\n       <use x=\"127.246094\" xlink:href=\"#DejaVuSans-48\"/>\r\n      </g>\r\n     </g>\r\n    </g>\r\n    <g id=\"ytick_8\">\r\n     <g id=\"line2d_16\">\r\n      <g>\r\n       <use style=\"stroke:#000000;stroke-width:0.8;\" x=\"33.2875\" xlink:href=\"#m15ad0a1647\" y=\"67.718149\"/>\r\n      </g>\r\n     </g>\r\n     <g id=\"text_16\">\r\n      <!-- 350 -->\r\n      <g transform=\"translate(7.2 71.517367)scale(0.1 -0.1)\">\r\n       <use xlink:href=\"#DejaVuSans-51\"/>\r\n       <use x=\"63.623047\" xlink:href=\"#DejaVuSans-53\"/>\r\n       <use x=\"127.246094\" xlink:href=\"#DejaVuSans-48\"/>\r\n      </g>\r\n     </g>\r\n    </g>\r\n    <g id=\"ytick_9\">\r\n     <g id=\"line2d_17\">\r\n      <g>\r\n       <use style=\"stroke:#000000;stroke-width:0.8;\" x=\"33.2875\" xlink:href=\"#m15ad0a1647\" y=\"34.964384\"/>\r\n      </g>\r\n     </g>\r\n     <g id=\"text_17\">\r\n      <!-- 400 -->\r\n      <g transform=\"translate(7.2 38.763603)scale(0.1 -0.1)\">\r\n       <defs>\r\n        <path d=\"M 37.796875 64.3125 \r\nL 12.890625 25.390625 \r\nL 37.796875 25.390625 \r\nz\r\nM 35.203125 72.90625 \r\nL 47.609375 72.90625 \r\nL 47.609375 25.390625 \r\nL 58.015625 25.390625 \r\nL 58.015625 17.1875 \r\nL 47.609375 17.1875 \r\nL 47.609375 0 \r\nL 37.796875 0 \r\nL 37.796875 17.1875 \r\nL 4.890625 17.1875 \r\nL 4.890625 26.703125 \r\nz\r\n\" id=\"DejaVuSans-52\"/>\r\n       </defs>\r\n       <use xlink:href=\"#DejaVuSans-52\"/>\r\n       <use x=\"63.623047\" xlink:href=\"#DejaVuSans-48\"/>\r\n       <use x=\"127.246094\" xlink:href=\"#DejaVuSans-48\"/>\r\n      </g>\r\n     </g>\r\n    </g>\r\n   </g>\r\n   <g id=\"line2d_18\">\r\n    <path clip-path=\"url(#p65a90bdc96)\" d=\"M 58.651136 175.746615 \r\nL 59.001947 174.495422 \r\nL 59.352758 172.562949 \r\nL 59.703569 174.207188 \r\nL 60.05438 173.925506 \r\nL 61.106813 175.032583 \r\nL 61.457624 171.357611 \r\nL 61.808435 174.953974 \r\nL 62.510058 188.6647 \r\nL 63.562491 196.270124 \r\nL 63.913302 185.657905 \r\nL 64.264113 188.179944 \r\nL 64.614924 189.365631 \r\nL 64.965735 187.996523 \r\nL 66.018168 189.594907 \r\nL 66.368979 186.385038 \r\nL 66.71979 186.640518 \r\nL 67.421412 184.622886 \r\nL 68.473845 183.96781 \r\nL 68.824656 182.480789 \r\nL 69.526278 176.270676 \r\nL 69.877089 177.626681 \r\nL 70.929522 179.827734 \r\nL 71.280333 179.205413 \r\nL 71.981955 172.562949 \r\nL 72.332766 169.713372 \r\nL 73.385199 169.772329 \r\nL 73.73601 173.486606 \r\nL 74.086821 171.966831 \r\nL 74.437632 171.331408 \r\nL 74.788443 172.274716 \r\nL 76.191687 177.128824 \r\nL 76.542498 177.037114 \r\nL 76.893309 174.357856 \r\nL 77.24412 169.968851 \r\nL 78.296553 166.765533 \r\nL 78.998175 166.667272 \r\nL 79.348986 166.9162 \r\nL 79.699797 166.090806 \r\nL 80.75223 167.237187 \r\nL 81.453852 169.359631 \r\nL 81.804663 169.300674 \r\nL 82.155474 179.048195 \r\nL 83.207907 180.626926 \r\nL 83.558718 184.812857 \r\nL 83.909529 179.473994 \r\nL 84.26034 180.377998 \r\nL 84.611151 183.869549 \r\nL 85.663584 179.88014 \r\nL 86.365207 192.418282 \r\nL 86.716018 191.599438 \r\nL 87.066829 191.291552 \r\nL 88.470073 195.038583 \r\nL 88.820884 205.89318 \r\nL 89.171695 208.166292 \r\nL 89.522506 211.828163 \r\nL 90.574939 211.828163 \r\nL 90.92575 210.825897 \r\nL 91.276561 210.406649 \r\nL 91.627372 208.32351 \r\nL 91.978183 209.378181 \r\nL 93.030616 210.753839 \r\nL 93.381427 212.253962 \r\nL 93.732238 217.075316 \r\nL 94.083049 217.573173 \r\nL 94.43386 214.795654 \r\nL 95.486293 212.195005 \r\nL 95.837104 215.2018 \r\nL 96.187915 212.227759 \r\nL 96.538726 213.498605 \r\nL 96.889537 215.352468 \r\nL 98.292781 216.957402 \r\nL 98.643592 215.883079 \r\nL 99.345214 218.739207 \r\nL 100.397647 218.555786 \r\nL 100.748458 218.94228 \r\nL 101.099269 216.446443 \r\nL 101.45008 211.89367 \r\nL 101.800891 215.096988 \r\nL 102.853324 217.252186 \r\nL 103.204135 215.359018 \r\nL 103.554946 215.444178 \r\nL 103.905757 217.776246 \r\nL 104.256568 216.911547 \r\nL 105.309001 218.58854 \r\nL 105.659812 213.570663 \r\nL 106.010623 214.435362 \r\nL 106.361434 213.184168 \r\nL 106.712245 214.055419 \r\nL 107.764678 213.97681 \r\nL 108.115489 209.987401 \r\nL 108.4663 212.050888 \r\nL 108.817111 209.692617 \r\nL 110.571167 204.641987 \r\nL 110.921978 201.969279 \r\nL 111.272789 205.120192 \r\nL 111.6236 203.312184 \r\nL 112.676033 202.991197 \r\nL 113.026844 199.041093 \r\nL 113.377655 200.377446 \r\nL 113.728466 197.678536 \r\nL 114.079277 196.715576 \r\nL 115.13171 194.874814 \r\nL 115.482521 196.872794 \r\nL 115.833332 197.789899 \r\nL 116.184143 195.752615 \r\nL 116.534954 200.606723 \r\nL 117.587387 200.187475 \r\nL 117.938198 199.794429 \r\nL 118.289009 196.309429 \r\nL 118.63982 195.791919 \r\nL 118.990631 191.501176 \r\nL 120.043064 186.83704 \r\nL 120.393875 192.051439 \r\nL 120.744686 190.289287 \r\nL 121.095497 186.326081 \r\nL 122.498741 184.164333 \r\nL 122.849552 182.323571 \r\nL 123.200363 183.044154 \r\nL 123.551174 179.080949 \r\nL 123.901985 178.465178 \r\nL 124.954418 175.982442 \r\nL 125.305229 174.718147 \r\nL 125.65604 177.384304 \r\nL 126.006851 175.766268 \r\nL 126.357662 176.820939 \r\nL 127.760906 172.556399 \r\nL 128.111717 174.980177 \r\nL 128.462528 172.707066 \r\nL 128.813339 174.089275 \r\nL 129.865772 176.722678 \r\nL 130.216583 175.216004 \r\nL 130.567394 180.266635 \r\nL 130.918205 181.013421 \r\nL 131.269016 178.314511 \r\nL 132.67226 174.868814 \r\nL 133.023071 174.488871 \r\nL 133.373882 174.698495 \r\nL 133.724694 173.34904 \r\nL 135.127938 175.563194 \r\nL 135.478749 175.681108 \r\nL 135.82956 172.903589 \r\nL 136.180371 175.386324 \r\nL 137.232804 178.026277 \r\nL 137.583615 175.386324 \r\nL 137.934426 178.550338 \r\nL 138.285237 183.496156 \r\nL 138.636048 184.079173 \r\nL 139.688481 181.150987 \r\nL 140.039292 178.144191 \r\nL 140.390103 179.899793 \r\nL 140.740914 178.491381 \r\nL 141.091725 182.179455 \r\nL 142.144158 183.561664 \r\nL 142.494969 183.502707 \r\nL 142.84578 180.790695 \r\nL 143.196591 186.771533 \r\nL 143.547402 185.572745 \r\nL 144.599835 187.308694 \r\nL 144.950646 182.565949 \r\nL 145.301457 186.823939 \r\nL 145.652268 185.553093 \r\nL 147.055512 182.251513 \r\nL 147.406323 179.375733 \r\nL 147.757134 182.847632 \r\nL 148.107945 181.288552 \r\nL 148.458756 183.941607 \r\nL 149.511189 183.090009 \r\nL 149.862 185.867529 \r\nL 150.212811 183.79094 \r\nL 150.563622 184.446015 \r\nL 150.914433 188.808817 \r\nL 151.966866 188.062031 \r\nL 152.317677 190.859202 \r\nL 152.668488 188.081683 \r\nL 153.019299 192.817878 \r\nL 153.37011 190.793695 \r\nL 154.422543 195.850876 \r\nL 155.124165 192.261064 \r\nL 155.474976 192.870284 \r\nL 155.825787 194.370406 \r\nL 156.87822 196.617314 \r\nL 157.229031 191.763206 \r\nL 157.579843 189.437689 \r\nL 157.930654 189.843836 \r\nL 158.281465 185.926485 \r\nL 159.333898 183.299634 \r\nL 160.03552 179.539501 \r\nL 160.386331 179.5264 \r\nL 160.737142 181.871569 \r\nL 161.789575 182.100846 \r\nL 162.140386 183.319286 \r\nL 162.491197 181.806062 \r\nL 162.842008 182.821429 \r\nL 163.192819 181.18374 \r\nL 164.245252 183.96126 \r\nL 164.946874 182.5725 \r\nL 165.297685 183.18172 \r\nL 165.648496 185.939587 \r\nL 167.05174 188.127538 \r\nL 167.402551 187.62313 \r\nL 167.753362 191.383263 \r\nL 168.104173 192.064541 \r\nL 169.156606 193.545011 \r\nL 169.507417 197.632681 \r\nL 169.858228 197.678536 \r\nL 170.209039 196.997258 \r\nL 170.55985 199.427587 \r\nL 171.612283 205.048133 \r\nL 171.963094 205.362569 \r\nL 172.313905 213.256227 \r\nL 173.015527 204.687842 \r\nL 174.418771 213.904751 \r\nL 174.769582 212.679761 \r\nL 175.120393 210.570418 \r\nL 175.471204 212.987646 \r\nL 176.523637 228.041276 \r\nL 176.874448 222.538644 \r\nL 177.225259 225.512686 \r\nL 177.57607 231.421465 \r\nL 177.926881 233.406343 \r\nL 178.979314 232.705412 \r\nL 179.330125 238.587988 \r\nL 179.680936 238.175291 \r\nL 180.031747 238.86312 \r\nL 180.382558 233.583213 \r\nL 181.434992 224.7659 \r\nL 182.136614 232.829877 \r\nL 182.487425 230.24888 \r\nL 182.838236 233.190168 \r\nL 183.890669 232.50889 \r\nL 184.24148 237.061663 \r\nL 184.592291 233.537358 \r\nL 184.943102 232.646455 \r\nL 185.293913 233.858345 \r\nL 186.346346 236.668618 \r\nL 186.697157 231.545929 \r\nL 187.047968 228.50638 \r\nL 187.398779 224.254941 \r\nL 187.74959 226.514951 \r\nL 188.802023 226.927648 \r\nL 189.152834 224.287695 \r\nL 189.503645 229.325224 \r\nL 189.854456 232.07654 \r\nL 191.608511 234.913016 \r\nL 191.959322 237.959116 \r\nL 192.310133 233.81904 \r\nL 192.660944 237.880507 \r\nL 193.713377 239.256165 \r\nL 194.064188 238.096682 \r\nL 194.414999 240.468055 \r\nL 194.76581 244.267491 \r\nL 195.116621 242.898384 \r\nL 196.169054 236.105253 \r\nL 196.519865 237.513665 \r\nL 196.870676 234.762349 \r\nL 198.624731 238.738656 \r\nL 199.326353 234.172781 \r\nL 199.677164 237.114069 \r\nL 200.027975 235.417424 \r\nL 201.080408 231.670393 \r\nL 201.431219 231.447668 \r\nL 201.78203 232.659557 \r\nL 202.132841 234.762349 \r\nL 202.483652 232.620252 \r\nL 203.536085 234.926118 \r\nL 203.886896 234.480666 \r\nL 204.237707 238.587988 \r\nL 204.588518 238.411118 \r\nL 204.939329 238.037725 \r\nL 205.991763 240.828346 \r\nL 206.342574 240.409098 \r\nL 206.693385 241.286899 \r\nL 207.395007 240.782491 \r\nL 208.44744 240.25843 \r\nL 208.798251 240.468055 \r\nL 209.149062 241.083825 \r\nL 209.850684 237.546419 \r\nL 210.903117 235.03748 \r\nL 211.604739 237.376099 \r\nL 211.95555 236.269022 \r\nL 212.306361 237.657781 \r\nL 213.358794 238.915526 \r\nL 213.709605 239.537848 \r\nL 214.411227 242.374324 \r\nL 216.165282 245.767614 \r\nL 216.866904 239.112049 \r\nL 217.217715 239.112049 \r\nL 218.270148 238.273552 \r\nL 218.620959 237.55952 \r\nL 218.97177 235.286409 \r\nL 219.322581 236.072499 \r\nL 219.673392 237.952565 \r\nL 220.725825 237.048561 \r\nL 221.076636 236.085601 \r\nL 221.427447 235.712208 \r\nL 222.129069 231.670393 \r\nL 223.181502 229.842733 \r\nL 223.532313 232.908486 \r\nL 223.883124 233.570112 \r\nL 224.233935 231.965177 \r\nL 224.584746 232.037235 \r\nL 225.98799 235.070234 \r\nL 226.338801 235.175046 \r\nL 226.689612 237.618477 \r\nL 227.040423 237.251635 \r\nL 228.092856 240.035705 \r\nL 228.443667 237.873956 \r\nL 228.794478 237.277838 \r\nL 229.14529 238.568336 \r\nL 229.496101 238.489727 \r\nL 230.548534 239.38718 \r\nL 230.899345 239.105498 \r\nL 231.250156 237.271287 \r\nL 231.600967 238.797613 \r\nL 231.951778 241.116579 \r\nL 233.004211 242.551194 \r\nL 233.705833 236.282123 \r\nL 234.056644 233.877997 \r\nL 234.407455 234.153129 \r\nL 235.459888 234.487217 \r\nL 235.810699 231.709698 \r\nL 236.16151 230.491258 \r\nL 236.863132 230.445402 \r\nL 237.915565 226.469095 \r\nL 238.266376 227.228983 \r\nL 238.617187 227.235534 \r\nL 238.967998 225.021379 \r\nL 239.318809 226.999706 \r\nL 240.371242 228.545684 \r\nL 240.722053 228.132987 \r\nL 241.774486 221.012318 \r\nL 242.826919 219.400833 \r\nL 243.17773 221.660843 \r\nL 243.528541 220.796143 \r\nL 243.879352 218.667149 \r\nL 245.282596 218.24135 \r\nL 245.633407 219.492544 \r\nL 245.984218 219.931444 \r\nL 246.335029 217.435607 \r\nL 246.68584 216.145109 \r\nL 247.738273 218.057929 \r\nL 248.089084 217.232534 \r\nL 248.439895 217.396303 \r\nL 248.790706 214.84806 \r\nL 249.141517 215.830673 \r\nL 250.19395 215.28696 \r\nL 250.544761 215.830673 \r\nL 250.895572 215.018379 \r\nL 251.246383 214.566377 \r\nL 251.597194 213.642721 \r\nL 252.649627 210.478708 \r\nL 253.000439 210.059459 \r\nL 253.35125 210.197025 \r\nL 253.702061 212.450484 \r\nL 255.105305 212.116396 \r\nL 255.806927 218.719555 \r\nL 256.157738 216.452994 \r\nL 256.508549 216.800184 \r\nL 257.560982 214.029216 \r\nL 257.911793 213.505155 \r\nL 258.964226 216.747778 \r\nL 261.069092 208.513482 \r\nL 261.419903 208.028726 \r\nL 262.472336 205.709759 \r\nL 262.823147 205.618049 \r\nL 263.173958 204.661639 \r\nL 263.524769 202.833979 \r\nL 263.87558 202.224759 \r\nL 264.928013 202.761921 \r\nL 265.278824 203.502156 \r\nL 265.629635 205.120192 \r\nL 265.980446 205.316714 \r\nL 266.331257 207.268839 \r\nL 267.38369 207.845305 \r\nL 267.734501 207.674985 \r\nL 268.085312 208.179393 \r\nL 268.436123 207.982871 \r\nL 268.786934 205.6246 \r\nL 269.839367 207.006808 \r\nL 270.190178 209.207861 \r\nL 270.540989 207.760145 \r\nL 271.242611 203.685577 \r\nL 272.295044 203.993462 \r\nL 272.996666 203.430097 \r\nL 273.347477 205.270859 \r\nL 274.750721 206.194515 \r\nL 275.101532 208.297307 \r\nL 275.452343 207.10507 \r\nL 275.803154 207.668434 \r\nL 276.153965 206.253472 \r\nL 277.206399 203.751084 \r\nL 277.55721 203.79694 \r\nL 277.908021 200.777042 \r\nL 278.258832 200.357794 \r\nL 278.609643 197.586826 \r\nL 279.662076 196.826938 \r\nL 280.012887 197.744044 \r\nL 280.363698 194.318 \r\nL 280.714509 193.610519 \r\nL 281.06532 192.189005 \r\nL 282.819375 192.162802 \r\nL 283.170186 190.354794 \r\nL 283.520997 189.961749 \r\nL 284.57343 187.97032 \r\nL 284.924241 188.546787 \r\nL 285.275052 188.83502 \r\nL 285.625863 189.62111 \r\nL 285.976674 188.57299 \r\nL 287.029107 189.090499 \r\nL 287.379918 190.328591 \r\nL 288.08154 186.666721 \r\nL 288.432351 187.741044 \r\nL 289.484784 192.451035 \r\nL 289.835595 189.562153 \r\nL 290.186406 189.169108 \r\nL 290.537217 188.035828 \r\nL 290.888028 186.14266 \r\nL 291.940461 186.247472 \r\nL 292.291272 186.024747 \r\nL 292.642083 187.328347 \r\nL 292.992894 185.991993 \r\nL 293.343705 185.598948 \r\nL 294.396138 186.804286 \r\nL 294.746949 188.710555 \r\nL 295.09776 188.789164 \r\nL 295.448571 187.891711 \r\nL 295.799382 185.428628 \r\nL 297.202626 183.712331 \r\nL 297.553437 184.884916 \r\nL 297.904248 183.954709 \r\nL 298.255059 184.216739 \r\nL 299.307492 183.194821 \r\nL 299.658303 182.251513 \r\nL 300.009114 177.855958 \r\nL 300.359925 176.100356 \r\nL 300.710737 175.792471 \r\nL 301.76317 176.447546 \r\nL 302.113981 176.146211 \r\nL 302.464792 175.478035 \r\nL 303.166414 177.52842 \r\nL 304.218847 175.052236 \r\nL 304.569658 175.556644 \r\nL 304.920469 175.576296 \r\nL 305.27128 178.517584 \r\nL 305.622091 175.87108 \r\nL 306.674524 175.137395 \r\nL 307.025335 172.523645 \r\nL 307.376146 172.366427 \r\nL 307.726957 173.008401 \r\nL 308.077768 172.22231 \r\nL 309.130201 171.999585 \r\nL 309.481012 172.517094 \r\nL 309.831823 171.685149 \r\nL 310.182634 172.163354 \r\nL 310.533445 173.807593 \r\nL 311.585878 172.621906 \r\nL 312.2875 162.756472 \r\nL 312.638311 162.573051 \r\nL 312.989122 163.398446 \r\nL 314.041555 164.354856 \r\nL 314.743177 170.958015 \r\nL 315.093988 168.370468 \r\nL 315.444799 173.512809 \r\nL 316.497232 172.982198 \r\nL 316.848043 173.34904 \r\nL 317.198854 171.999585 \r\nL 317.549665 169.890242 \r\nL 317.900476 169.687169 \r\nL 318.952909 165.023033 \r\nL 319.30372 164.027318 \r\nL 319.654531 163.850448 \r\nL 320.005342 164.675843 \r\nL 320.356153 163.064358 \r\nL 321.408586 161.636294 \r\nL 321.759397 161.393916 \r\nL 322.110208 162.075194 \r\nL 322.461019 165.645354 \r\nL 322.81183 166.031849 \r\nL 323.864263 162.1276 \r\nL 324.215075 163.070908 \r\nL 324.565886 163.234677 \r\nL 325.267508 165.592948 \r\nL 326.319941 166.0384 \r\nL 326.670752 167.964321 \r\nL 327.021563 168.449077 \r\nL 327.372374 168.285308 \r\nL 327.723185 170.355346 \r\nL 328.775618 173.218025 \r\nL 329.126429 172.615355 \r\nL 329.47724 167.420608 \r\nL 330.178862 169.470994 \r\nL 331.231295 167.95777 \r\nL 331.582106 169.798532 \r\nL 331.932917 169.235167 \r\nL 332.283728 171.311756 \r\nL 332.634539 168.973137 \r\nL 333.686972 167.138926 \r\nL 334.388594 164.603785 \r\nL 334.739405 160.057562 \r\nL 336.142649 158.374019 \r\nL 336.49346 160.018258 \r\nL 336.844271 158.354366 \r\nL 337.195082 158.950485 \r\nL 338.598326 156.801838 \r\nL 338.949137 156.55946 \r\nL 339.299948 158.793267 \r\nL 339.650759 159.048746 \r\nL 340.00157 158.131641 \r\nL 341.054003 159.356632 \r\nL 341.404814 160.922261 \r\nL 341.755625 159.002891 \r\nL 342.106436 159.802083 \r\nL 342.457247 162.094846 \r\nL 343.860491 156.12711 \r\nL 344.562113 160.692985 \r\nL 344.912924 167.453362 \r\nL 345.965357 163.968362 \r\nL 346.316168 162.088295 \r\nL 346.666979 160.817449 \r\nL 347.368601 171.180741 \r\nL 348.771846 168.691454 \r\nL 349.122657 166.483851 \r\nL 349.473468 171.187291 \r\nL 349.824279 168.953485 \r\nL 350.876712 169.831285 \r\nL 351.227523 168.47528 \r\nL 351.578334 169.17621 \r\nL 351.929145 166.850693 \r\nL 352.279956 165.730514 \r\nL 353.6832 163.752187 \r\nL 354.034011 164.309001 \r\nL 354.384822 164.060072 \r\nL 354.735633 164.885467 \r\nL 355.788066 165.704311 \r\nL 356.138877 167.905364 \r\nL 356.489688 165.547093 \r\nL 356.840499 164.669292 \r\nL 357.19131 162.952995 \r\nL 358.243743 160.090316 \r\nL 358.594554 160.182026 \r\nL 358.945365 159.86759 \r\nL 359.296176 158.963586 \r\nL 359.646987 153.565766 \r\nL 360.69942 153.480606 \r\nL 361.050231 150.899609 \r\nL 361.401042 149.707372 \r\nL 361.751853 149.275023 \r\nL 362.102664 148.55444 \r\nL 363.155097 150.362448 \r\nL 363.505908 149.962852 \r\nL 363.856719 150.179027 \r\nL 364.20753 149.831837 \r\nL 364.558341 151.404017 \r\nL 365.610774 149.766329 \r\nL 365.961585 147.401507 \r\nL 366.312396 146.739881 \r\nL 366.663207 148.521686 \r\nL 367.014018 145.737616 \r\nL 368.066451 144.761554 \r\nL 368.417262 142.494993 \r\nL 368.768073 143.051807 \r\nL 369.118884 142.416384 \r\nL 370.522128 140.765595 \r\nL 371.22375 139.383386 \r\nL 371.574561 139.809185 \r\nL 371.925373 138.603846 \r\nL 373.328617 138.184598 \r\nL 374.030239 133.933159 \r\nL 374.38105 134.928874 \r\nL 375.433483 135.145049 \r\nL 375.784294 136.769635 \r\nL 376.135105 127.185884 \r\nL 376.485916 122.436588 \r\nL 376.836727 119.58046 \r\nL 377.88916 120.45171 \r\nL 378.239971 125.338571 \r\nL 378.590782 125.626805 \r\nL 378.941593 121.015074 \r\nL 379.292404 125.960893 \r\nL 380.344837 122.515197 \r\nL 380.695648 127.539624 \r\nL 381.046459 129.301777 \r\nL 381.748081 142.488443 \r\nL 382.800514 130.611928 \r\nL 383.151325 128.954587 \r\nL 383.502136 125.305818 \r\nL 384.203758 130.72329 \r\nL 385.256191 130.46126 \r\nL 385.607002 131.6797 \r\nL 385.957813 134.313103 \r\nL 386.308624 141.2438 \r\nL 386.659435 138.256656 \r\nL 387.711868 135.348122 \r\nL 388.41349 137.084071 \r\nL 388.764301 131.031176 \r\nL 389.115112 128.71876 \r\nL 390.518356 126.131213 \r\nL 390.869167 124.087378 \r\nL 391.219978 124.63109 \r\nL 391.570789 129.321429 \r\nL 392.974033 133.664578 \r\nL 393.324844 137.68019 \r\nL 393.675655 132.89159 \r\nL 394.026466 130.926364 \r\nL 395.078899 130.421956 \r\nL 395.42971 126.877998 \r\nL 395.780522 121.925629 \r\nL 396.131333 118.899181 \r\nL 396.482144 117.458016 \r\nL 397.534577 120.012809 \r\nL 397.885388 117.602132 \r\nL 398.58701 120.779247 \r\nL 398.937821 122.285921 \r\nL 399.990254 121.2378 \r\nL 400.341065 129.183863 \r\nL 400.691876 132.223413 \r\nL 401.042687 134.221392 \r\nL 401.393498 135.230208 \r\nL 402.796742 134.123131 \r\nL 403.147553 127.546175 \r\nL 403.498364 127.926119 \r\nL 403.849175 126.923854 \r\nL 404.901608 128.450179 \r\nL 405.252419 132.046542 \r\nL 405.60323 131.437322 \r\nL 406.304852 133.291186 \r\nL 407.357285 136.121111 \r\nL 407.708096 131.987586 \r\nL 408.058907 130.448159 \r\nL 408.409718 127.316899 \r\nL 408.760529 126.71423 \r\nL 409.812962 127.146579 \r\nL 410.163773 124.002218 \r\nL 410.865395 127.913017 \r\nL 411.216206 128.476382 \r\nL 412.268639 125.463036 \r\nL 412.61945 125.41063 \r\nL 412.970261 124.722801 \r\nL 413.671883 126.615968 \r\nL 414.724316 125.528543 \r\nL 415.075127 127.061419 \r\nL 415.425938 133.101214 \r\nL 415.776749 132.053093 \r\nL 416.12756 133.815246 \r\nL 417.179993 134.771656 \r\nL 417.530804 131.93518 \r\nL 417.881615 131.214597 \r\nL 418.232426 133.304287 \r\nL 418.583237 133.461505 \r\nL 419.635671 135.976994 \r\nL 419.986482 139.822286 \r\nL 420.337293 137.883263 \r\nL 420.688104 139.59301 \r\nL 421.038915 138.715209 \r\nL 422.091348 138.138743 \r\nL 422.442159 137.745698 \r\nL 422.79297 133.009503 \r\nL 423.143781 131.804165 \r\nL 423.494592 127.480668 \r\nL 424.897836 128.10954 \r\nL 425.248647 124.762105 \r\nL 425.599458 124.663844 \r\nL 425.950269 124.441118 \r\nL 427.353513 121.395018 \r\nL 427.704324 119.980056 \r\nL 428.055135 115.820327 \r\nL 428.405946 116.606418 \r\nL 429.458379 111.457526 \r\nL 429.80919 111.103785 \r\nL 430.160001 108.496586 \r\nL 430.510812 107.730148 \r\nL 430.861623 105.502892 \r\nL 431.914056 106.262779 \r\nL 432.264867 109.079603 \r\nL 432.615678 108.745514 \r\nL 432.966489 111.116887 \r\nL 434.369733 114.464322 \r\nL 434.720544 107.717046 \r\nL 435.071355 107.553277 \r\nL 435.422166 107.533625 \r\nL 435.772977 104.35651 \r\nL 436.82541 103.511463 \r\nL 437.176221 101.428323 \r\nL 437.527032 100.380203 \r\nL 437.877843 98.958689 \r\nL 438.228654 90.816103 \r\nL 439.281087 88.680558 \r\nL 439.631898 94.255249 \r\nL 439.982709 93.57397 \r\nL 440.33352 94.235596 \r\nL 440.684331 95.578501 \r\nL 441.736764 94.681048 \r\nL 442.087575 95.198557 \r\nL 442.438386 95.342674 \r\nL 442.789197 97.039319 \r\nL 443.140008 99.829939 \r\nL 444.192442 97.733699 \r\nL 444.543253 94.340408 \r\nL 444.894064 92.086949 \r\nL 445.244875 88.503688 \r\nL 445.595686 89.250473 \r\nL 446.648119 88.274411 \r\nL 446.99893 89.938303 \r\nL 447.349741 88.660906 \r\nL 447.700552 89.56491 \r\nL 448.051363 95.211659 \r\nL 449.103796 95.860183 \r\nL 449.454607 99.430344 \r\nL 449.805418 100.144376 \r\nL 450.156229 94.949629 \r\nL 450.50704 96.063257 \r\nL 451.559473 91.720107 \r\nL 451.910284 94.753106 \r\nL 452.261095 90.776799 \r\nL 452.962717 90.645784 \r\nL 454.01515 89.420793 \r\nL 454.365961 93.167824 \r\nL 454.716772 89.728678 \r\nL 455.067583 88.582297 \r\nL 455.418394 89.0474 \r\nL 456.470827 87.272146 \r\nL 456.821638 88.542992 \r\nL 457.172449 86.708781 \r\nL 457.52326 87.527625 \r\nL 457.874071 87.003565 \r\nL 458.926504 86.276432 \r\nL 459.277315 87.180436 \r\nL 459.628126 87.13458 \r\nL 459.978937 86.551563 \r\nL 460.329748 86.970811 \r\nL 461.382181 85.922691 \r\nL 461.732992 84.619091 \r\nL 462.083803 83.990219 \r\nL 462.434614 85.012136 \r\nL 463.837858 84.304655 \r\nL 464.188669 83.787145 \r\nL 464.53948 83.905059 \r\nL 465.241102 85.693415 \r\nL 466.995157 78.199353 \r\nL 467.345969 78.376224 \r\nL 467.69678 76.810594 \r\nL 468.749213 72.663967 \r\nL 469.100024 73.194578 \r\nL 469.450835 71.373469 \r\nL 469.801646 70.548074 \r\nL 470.152457 68.713863 \r\nL 471.906512 75.028789 \r\nL 472.608134 82.968301 \r\nL 474.362189 71.746862 \r\nL 474.713 72.16611 \r\nL 475.063811 76.823695 \r\nL 476.116244 74.714353 \r\nL 476.467055 70.973873 \r\nL 477.168677 72.015442 \r\nL 477.519488 70.010912 \r\nL 478.571921 66.486607 \r\nL 479.273543 62.372734 \r\nL 479.624354 64.744107 \r\nL 479.975165 63.230883 \r\nL 481.378409 61.232903 \r\nL 481.72922 59.11701 \r\nL 482.080031 62.281024 \r\nL 482.430842 67.351306 \r\nL 483.834086 75.179456 \r\nL 484.184897 72.552604 \r\nL 484.535708 72.382285 \r\nL 484.886519 68.923487 \r\nL 485.938952 65.615357 \r\nL 486.289763 68.17015 \r\nL 486.640574 66.329389 \r\nL 486.991385 61.455629 \r\nL 487.342196 61.167396 \r\nL 488.394629 64.206945 \r\nL 488.74544 63.944915 \r\nL 489.096251 66.100113 \r\nL 489.447062 69.899549 \r\nL 489.797873 66.414549 \r\nL 490.850306 65.38608 \r\nL 491.201118 70.711843 \r\nL 491.551929 80.813104 \r\nL 491.90274 77.780105 \r\nL 492.253551 80.380754 \r\nL 493.305984 74.727454 \r\nL 493.656795 73.482811 \r\nL 494.007606 74.799512 \r\nL 494.709228 66.709333 \r\nL 495.761661 67.429915 \r\nL 496.112472 67.089276 \r\nL 496.463283 68.615602 \r\nL 496.814094 68.694211 \r\nL 497.164905 71.281758 \r\nL 498.217338 73.489362 \r\nL 498.568149 74.996035 \r\nL 498.91896 75.552849 \r\nL 499.269771 75.526646 \r\nL 499.620582 77.504973 \r\nL 500.673015 80.295594 \r\nL 501.023826 79.247474 \r\nL 501.374637 76.804043 \r\nL 501.725448 79.234372 \r\nL 502.076259 82.483546 \r\nL 503.128692 79.607765 \r\nL 504.181125 67.259596 \r\nL 505.584369 65.746372 \r\nL 505.93518 67.443017 \r\nL 506.285991 67.619887 \r\nL 506.636802 69.847143 \r\nL 506.987613 67.632989 \r\nL 508.040046 70.155029 \r\nL 508.741668 67.999831 \r\nL 509.092479 69.847143 \r\nL 509.44329 69.9061 \r\nL 510.495723 69.290329 \r\nL 510.846534 68.07844 \r\nL 511.197345 69.532707 \r\nL 511.548156 69.965057 \r\nL 511.898967 73.941364 \r\nL 512.9514 78.657906 \r\nL 513.653022 74.354061 \r\nL 514.003833 73.921712 \r\nL 514.354644 77.400161 \r\nL 515.407078 77.937323 \r\nL 515.757889 79.38504 \r\nL 516.1087 76.378244 \r\nL 516.459511 77.544278 \r\nL 518.213566 69.139662 \r\nL 518.564377 70.659437 \r\nL 518.915188 70.272942 \r\nL 519.265999 72.015442 \r\nL 520.318432 75.552849 \r\nL 520.669243 79.483301 \r\nL 521.020054 79.352286 \r\nL 521.370865 79.843592 \r\nL 521.721676 83.505463 \r\nL 522.774109 83.04691 \r\nL 523.12492 79.221271 \r\nL 523.475731 82.948649 \r\nL 523.826542 83.990219 \r\nL 524.177353 87.200088 \r\nL 525.229786 90.43616 \r\nL 525.580597 83.898508 \r\nL 525.931408 85.660661 \r\nL 526.282219 80.013912 \r\nL 526.63303 83.210679 \r\nL 527.685463 79.483301 \r\nL 528.036274 77.373958 \r\nL 528.387085 78.17315 \r\nL 528.737896 77.105377 \r\nL 529.088707 72.133356 \r\nL 530.491951 68.091541 \r\nL 530.842762 66.565216 \r\nL 531.193573 63.001606 \r\nL 531.544384 61.357367 \r\nL 532.596817 65.097847 \r\nL 532.947628 65.261616 \r\nL 533.298439 62.464445 \r\nL 533.64925 62.628213 \r\nL 534.000061 57.944425 \r\nL 535.403305 50.129377 \r\nL 535.754116 43.54587 \r\nL 536.104927 43.290391 \r\nL 536.455738 39.353388 \r\nL 537.508171 35.946997 \r\nL 537.858982 32.730577 \r\nL 538.209793 39.818492 \r\nL 538.560604 40.3229 \r\nL 538.911416 41.200701 \r\nL 539.963849 37.093378 \r\nL 540.31466 42.229169 \r\nL 540.665471 39.831593 \r\nL 541.016282 49.788738 \r\nL 541.367093 52.24527 \r\nL 542.419526 65.615357 \r\nL 542.770337 51.989791 \r\nL 543.121148 58.750168 \r\nL 543.471959 52.192864 \r\nL 543.82277 50.037666 \r\nL 544.875203 45.832083 \r\nL 545.226014 47.751454 \r\nL 545.576825 47.777657 \r\nL 546.278447 63.768044 \r\nL 547.33088 63.499464 \r\nL 547.681691 52.258372 \r\nL 548.032502 50.568277 \r\nL 548.383313 52.179763 \r\nL 548.734124 45.72072 \r\nL 549.786557 41.534789 \r\nL 550.137368 41.521687 \r\nL 551.189801 51.963588 \r\nL 552.593045 48.236209 \r\nL 552.943856 45.491444 \r\nL 553.294667 45.353878 \r\nL 553.645478 49.716679 \r\nL 554.697911 48.105194 \r\nL 555.750344 39.576114 \r\nL 556.101155 34.636846 \r\nL 557.153588 27.345858 \r\nL 557.504399 26.153621 \r\nL 557.85521 27.01177 \r\nL 558.206021 33.772147 \r\nL 558.556832 32.14756 \r\nL 559.609265 32.887795 \r\nL 559.960076 35.449139 \r\nL 560.310887 36.923059 \r\nL 560.661698 41.141744 \r\nL 561.012509 47.20119 \r\nL 562.415753 52.978954 \r\nL 562.766565 49.212271 \r\nL 563.117376 49.788738 \r\nL 563.468187 54.747658 \r\nL 564.52062 42.294676 \r\nL 564.871431 34.774412 \r\nL 565.222242 33.529769 \r\nL 565.573053 29.442099 \r\nL 565.923864 20.552727 \r\nL 565.923864 20.552727 \r\n\" style=\"fill:none;stroke:#1f77b4;stroke-linecap:square;stroke-width:1.5;\"/>\r\n   </g>\r\n   <g id=\"line2d_19\">\r\n    <path clip-path=\"url(#p65a90bdc96)\" d=\"M 58.651136 227.045562 \r\nL 59.001947 227.458259 \r\nL 59.352758 226.239819 \r\nL 59.703569 227.739942 \r\nL 60.05438 227.170026 \r\nL 61.457624 228.034725 \r\nL 61.808435 229.069744 \r\nL 62.510058 235.692556 \r\nL 63.562491 234.958871 \r\nL 63.913302 232.620252 \r\nL 64.264113 233.740431 \r\nL 64.614924 233.64217 \r\nL 64.965735 232.915036 \r\nL 66.018168 234.487217 \r\nL 66.368979 233.753533 \r\nL 66.71979 234.487217 \r\nL 67.421412 233.367038 \r\nL 68.473845 234.637884 \r\nL 68.824656 233.504604 \r\nL 69.175467 231.336305 \r\nL 69.526278 231.257696 \r\nL 69.877089 232.679209 \r\nL 70.929522 232.279613 \r\nL 71.280333 231.788307 \r\nL 71.981955 229.914792 \r\nL 72.332766 230.42575 \r\nL 73.385199 230.104763 \r\nL 73.73601 231.572132 \r\nL 74.086821 230.668128 \r\nL 74.437632 230.844998 \r\nL 74.788443 232.318918 \r\nL 75.840876 233.072254 \r\nL 76.191687 231.984829 \r\nL 76.542498 231.480421 \r\nL 77.24412 229.089397 \r\nL 78.296553 228.722554 \r\nL 78.998175 228.77496 \r\nL 79.348986 229.973748 \r\nL 79.699797 229.672414 \r\nL 80.75223 230.890854 \r\nL 81.453852 232.973993 \r\nL 81.804663 232.849529 \r\nL 82.155474 235.155394 \r\nL 83.207907 235.81702 \r\nL 83.558718 237.317142 \r\nL 83.909529 236.878242 \r\nL 84.26034 235.895629 \r\nL 84.611151 237.271287 \r\nL 85.663584 234.054867 \r\nL 86.014396 234.723044 \r\nL 86.365207 234.847508 \r\nL 86.716018 235.175046 \r\nL 87.066829 233.766634 \r\nL 88.470073 235.096437 \r\nL 88.820884 232.115844 \r\nL 89.171695 231.617987 \r\nL 89.522506 233.078805 \r\nL 90.574939 232.797123 \r\nL 90.92575 232.115844 \r\nL 91.276561 232.390976 \r\nL 91.978183 230.294735 \r\nL 93.030616 230.995666 \r\nL 93.381427 232.777471 \r\nL 94.083049 234.172781 \r\nL 94.43386 233.602865 \r\nL 95.486293 232.456484 \r\nL 95.837104 231.604886 \r\nL 96.187915 230.445402 \r\nL 96.538726 231.847264 \r\nL 96.889537 231.827611 \r\nL 98.292781 232.541643 \r\nL 98.643592 230.792592 \r\nL 98.994403 231.355957 \r\nL 99.345214 230.655027 \r\nL 100.397647 229.423485 \r\nL 100.748458 226.783532 \r\nL 101.099269 225.506135 \r\nL 101.800891 227.104518 \r\nL 102.853324 226.875242 \r\nL 103.204135 225.964687 \r\nL 103.554946 226.16121 \r\nL 103.905757 227.923363 \r\nL 104.256568 227.052112 \r\nL 105.309001 227.012808 \r\nL 105.659812 225.486483 \r\nL 106.010623 225.132742 \r\nL 106.361434 225.846774 \r\nL 106.712245 226.259471 \r\nL 107.764678 226.062949 \r\nL 108.115489 224.307347 \r\nL 108.4663 225.211351 \r\nL 108.817111 224.359753 \r\nL 110.220356 223.907751 \r\nL 111.6236 226.665618 \r\nL 112.676033 226.318428 \r\nL 113.026844 225.486483 \r\nL 113.377655 226.521501 \r\nL 113.728466 225.774716 \r\nL 114.079277 225.938484 \r\nL 115.13171 225.597845 \r\nL 115.482521 225.624048 \r\nL 115.833332 225.316163 \r\nL 116.184143 224.084621 \r\nL 116.534954 225.787817 \r\nL 117.587387 225.001727 \r\nL 117.938198 225.073785 \r\nL 118.63982 221.444668 \r\nL 118.990631 220.632375 \r\nL 120.043064 220.665128 \r\nL 120.393875 221.084377 \r\nL 120.744686 221.123681 \r\nL 121.095497 220.76339 \r\nL 121.446308 221.444668 \r\nL 122.498741 222.296266 \r\nL 122.849552 221.582234 \r\nL 123.200363 222.905486 \r\nL 123.551174 221.11713 \r\nL 124.954418 222.086642 \r\nL 125.305229 221.601886 \r\nL 125.65604 220.481707 \r\nL 126.006851 220.003502 \r\nL 126.357662 220.527563 \r\nL 127.410095 219.800429 \r\nL 128.111717 218.398568 \r\nL 128.462528 217.815551 \r\nL 128.813339 218.215147 \r\nL 129.865772 219.033991 \r\nL 130.567394 220.802694 \r\nL 130.918205 220.134517 \r\nL 131.269016 220.442403 \r\nL 132.67226 218.523032 \r\nL 133.023071 217.153925 \r\nL 133.373882 217.049113 \r\nL 133.724694 217.219432 \r\nL 134.777127 218.496829 \r\nL 135.127938 218.202045 \r\nL 135.478749 218.378916 \r\nL 135.82956 217.815551 \r\nL 136.180371 219.990401 \r\nL 137.232804 219.420485 \r\nL 137.583615 219.37463 \r\nL 137.934426 221.031971 \r\nL 138.285237 220.658578 \r\nL 138.636048 219.243615 \r\nL 139.688481 218.896425 \r\nL 140.039292 219.892139 \r\nL 140.390103 220.468606 \r\nL 140.740914 219.937995 \r\nL 141.091725 221.346407 \r\nL 142.144158 220.900955 \r\nL 142.494969 220.900955 \r\nL 142.84578 220.213126 \r\nL 143.196591 222.33557 \r\nL 143.547402 223.003747 \r\nL 144.599835 223.940505 \r\nL 144.950646 223.481952 \r\nL 145.301457 223.586764 \r\nL 147.055512 222.106294 \r\nL 147.406323 220.638925 \r\nL 147.757134 222.787572 \r\nL 148.107945 221.071275 \r\nL 148.458756 221.72635 \r\nL 149.511189 222.086642 \r\nL 149.862 221.058174 \r\nL 150.212811 219.37463 \r\nL 150.563622 219.014339 \r\nL 150.914433 216.93775 \r\nL 151.966866 217.697637 \r\nL 152.317677 216.872242 \r\nL 152.668488 217.167026 \r\nL 153.019299 216.872242 \r\nL 153.37011 217.776246 \r\nL 154.422543 219.178107 \r\nL 155.124165 217.573173 \r\nL 155.474976 218.116885 \r\nL 155.825787 218.94228 \r\nL 156.87822 218.372365 \r\nL 157.229031 217.566622 \r\nL 157.579843 217.075316 \r\nL 158.281465 217.291491 \r\nL 159.333898 218.660598 \r\nL 159.684709 219.512196 \r\nL 160.03552 219.158455 \r\nL 160.386331 218.450974 \r\nL 161.789575 219.905241 \r\nL 162.140386 221.162986 \r\nL 162.491197 221.189189 \r\nL 162.842008 220.894405 \r\nL 163.192819 219.695617 \r\nL 164.245252 220.973014 \r\nL 164.596063 221.195739 \r\nL 165.297685 219.911792 \r\nL 165.648496 221.673944 \r\nL 167.05174 223.730881 \r\nL 167.402551 223.770185 \r\nL 167.753362 225.840223 \r\nL 168.104173 226.252921 \r\nL 169.156606 224.41871 \r\nL 169.507417 225.81402 \r\nL 169.858228 223.960157 \r\nL 170.209039 223.239574 \r\nL 170.55985 223.383691 \r\nL 171.612283 225.72231 \r\nL 171.963094 225.191699 \r\nL 172.313905 228.021624 \r\nL 173.015527 223.455749 \r\nL 174.418771 225.617498 \r\nL 174.769582 224.936219 \r\nL 175.120393 222.67621 \r\nL 175.471204 223.102008 \r\nL 176.523637 226.174312 \r\nL 176.874448 224.628334 \r\nL 177.57607 232.187903 \r\nL 177.926881 232.993645 \r\nL 178.979314 234.736146 \r\nL 179.680936 240.965912 \r\nL 180.382558 242.701861 \r\nL 181.785803 239.079295 \r\nL 182.136614 242.367773 \r\nL 182.487425 240.369793 \r\nL 182.838236 240.821795 \r\nL 183.890669 239.754022 \r\nL 184.24148 242.014032 \r\nL 184.592291 245.269756 \r\nL 184.943102 244.804653 \r\nL 185.293913 246.213065 \r\nL 186.346346 247.706637 \r\nL 186.697157 242.990094 \r\nL 187.047968 242.420179 \r\nL 187.74959 239.47234 \r\nL 188.802023 239.64921 \r\nL 189.152834 239.203759 \r\nL 189.854456 244.012012 \r\nL 190.205267 243.317632 \r\nL 191.2577 244.811204 \r\nL 191.608511 245.512134 \r\nL 191.959322 247.379099 \r\nL 192.310133 244.60158 \r\nL 192.660944 247.012257 \r\nL 193.713377 248.787511 \r\nL 194.064188 247.169475 \r\nL 194.76581 252.357671 \r\nL 195.116621 250.405547 \r\nL 196.169054 247.287388 \r\nL 196.870676 246.180311 \r\nL 197.572298 246.219616 \r\nL 198.624731 249.147802 \r\nL 198.975542 247.320142 \r\nL 199.326353 246.802633 \r\nL 199.677164 248.813714 \r\nL 200.027975 246.848488 \r\nL 201.080408 244.195433 \r\nL 201.431219 245.544888 \r\nL 201.78203 245.440076 \r\nL 202.132841 246.855039 \r\nL 202.483652 245.846223 \r\nL 203.536085 245.492482 \r\nL 203.886896 243.239023 \r\nL 204.237707 243.586213 \r\nL 204.588518 244.726044 \r\nL 205.991763 245.977238 \r\nL 206.342574 246.841937 \r\nL 206.693385 246.894343 \r\nL 207.395007 246.389935 \r\nL 208.44744 246.442341 \r\nL 208.798251 245.007726 \r\nL 209.149062 244.627783 \r\nL 209.850684 242.629803 \r\nL 210.903117 242.976993 \r\nL 211.253928 241.47687 \r\nL 211.604739 242.367773 \r\nL 211.95555 242.747717 \r\nL 212.306361 244.293694 \r\nL 213.358794 243.664822 \r\nL 213.709605 243.894098 \r\nL 214.060416 245.230452 \r\nL 214.762038 244.156128 \r\nL 216.165282 245.983788 \r\nL 216.516093 240.114314 \r\nL 216.866904 240.95281 \r\nL 217.217715 241.313102 \r\nL 218.270148 240.002951 \r\nL 218.620959 239.963647 \r\nL 218.97177 237.998421 \r\nL 219.322581 239.433036 \r\nL 219.673392 239.970197 \r\nL 220.725825 240.415648 \r\nL 221.076636 238.830366 \r\nL 221.778258 239.498543 \r\nL 222.129069 236.852039 \r\nL 223.181502 236.42624 \r\nL 223.532313 238.646945 \r\nL 223.883124 237.461259 \r\nL 224.233935 237.520216 \r\nL 224.584746 238.286654 \r\nL 225.98799 240.271532 \r\nL 226.338801 239.747472 \r\nL 226.689612 241.358957 \r\nL 227.040423 241.450667 \r\nL 228.092856 244.215085 \r\nL 228.443667 242.944239 \r\nL 228.794478 243.258675 \r\nL 229.496101 239.419934 \r\nL 230.899345 242.08609 \r\nL 231.250156 241.011767 \r\nL 231.951778 243.311081 \r\nL 233.004211 244.771899 \r\nL 233.355022 242.413628 \r\nL 234.056644 240.441851 \r\nL 234.407455 240.468055 \r\nL 235.459888 239.930893 \r\nL 235.810699 238.869671 \r\nL 236.16151 239.47234 \r\nL 236.512321 239.026889 \r\nL 236.863132 239.118599 \r\nL 237.915565 235.240554 \r\nL 238.617187 235.718759 \r\nL 238.967998 235.201249 \r\nL 239.318809 238.096682 \r\nL 240.371242 237.860855 \r\nL 240.722053 236.380385 \r\nL 241.072864 235.928383 \r\nL 241.423675 233.923852 \r\nL 241.774486 233.046051 \r\nL 242.826919 233.458749 \r\nL 243.17773 235.214351 \r\nL 243.528541 233.688025 \r\nL 243.879352 233.373589 \r\nL 245.282596 234.467565 \r\nL 245.984218 235.155394 \r\nL 246.335029 233.543909 \r\nL 246.68584 233.64217 \r\nL 247.738273 234.16623 \r\nL 248.089084 232.987095 \r\nL 248.439895 232.842978 \r\nL 249.141517 234.382405 \r\nL 250.19395 234.467565 \r\nL 250.895572 231.90622 \r\nL 251.246383 232.430281 \r\nL 251.597194 231.55248 \r\nL 252.649627 230.563316 \r\nL 253.000439 230.77294 \r\nL 253.35125 231.20529 \r\nL 253.702061 232.482687 \r\nL 254.052872 233.170516 \r\nL 255.105305 232.286164 \r\nL 255.456116 231.631089 \r\nL 256.157738 233.445647 \r\nL 256.508549 233.249125 \r\nL 257.911793 230.641925 \r\nL 258.613415 232.332019 \r\nL 258.964226 232.921587 \r\nL 260.36747 230.94981 \r\nL 260.718281 232.266512 \r\nL 261.419903 230.157169 \r\nL 262.472336 228.847019 \r\nL 262.823147 229.81653 \r\nL 263.524769 230.130966 \r\nL 263.87558 229.5545 \r\nL 264.928013 229.397282 \r\nL 265.278824 228.991135 \r\nL 265.629635 228.86012 \r\nL 265.980446 228.198494 \r\nL 266.331257 228.94528 \r\nL 267.734501 229.502094 \r\nL 268.085312 229.705167 \r\nL 268.786934 230.406098 \r\nL 269.839367 231.264247 \r\nL 270.190178 231.316653 \r\nL 270.540989 231.500074 \r\nL 270.8918 230.294735 \r\nL 271.242611 230.537113 \r\nL 272.295044 230.445402 \r\nL 272.645855 231.329754 \r\nL 272.996666 231.067724 \r\nL 273.347477 233.019848 \r\nL 274.750721 233.072254 \r\nL 275.101532 233.98936 \r\nL 275.452343 233.681474 \r\nL 275.803154 232.803674 \r\nL 276.153965 233.589764 \r\nL 277.206399 231.834162 \r\nL 277.55721 232.063438 \r\nL 278.609643 224.412159 \r\nL 279.662076 223.770185 \r\nL 280.012887 223.390242 \r\nL 280.363698 224.320448 \r\nL 280.714509 223.37714 \r\nL 281.06532 223.016849 \r\nL 282.117753 223.023399 \r\nL 282.468564 223.239574 \r\nL 282.819375 223.252676 \r\nL 283.170186 222.879283 \r\nL 283.520997 222.833428 \r\nL 284.57343 221.582234 \r\nL 284.924241 221.785307 \r\nL 285.275052 222.492788 \r\nL 285.625863 222.833428 \r\nL 285.976674 221.601886 \r\nL 287.029107 222.001482 \r\nL 287.379918 222.577948 \r\nL 287.730729 221.628089 \r\nL 288.08154 221.444668 \r\nL 288.432351 222.080091 \r\nL 289.484784 223.160965 \r\nL 290.888028 221.241595 \r\nL 291.940461 221.608437 \r\nL 292.291272 221.916322 \r\nL 292.642083 221.516726 \r\nL 292.992894 221.536378 \r\nL 293.343705 222.302817 \r\nL 294.396138 222.414179 \r\nL 294.746949 223.272328 \r\nL 295.09776 223.652272 \r\nL 295.448571 223.495054 \r\nL 295.799382 222.781022 \r\nL 297.202626 222.970993 \r\nL 297.553437 223.226473 \r\nL 297.904248 222.650006 \r\nL 298.255059 222.414179 \r\nL 299.307492 221.890119 \r\nL 299.658303 221.588785 \r\nL 300.009114 220.029705 \r\nL 300.710737 219.846284 \r\nL 301.76317 220.186923 \r\nL 302.113981 220.16072 \r\nL 302.464792 220.658578 \r\nL 303.166414 220.494809 \r\nL 304.569658 221.929424 \r\nL 304.920469 221.425016 \r\nL 305.27128 222.50589 \r\nL 305.622091 221.798409 \r\nL 306.674524 221.339856 \r\nL 307.376146 219.420485 \r\nL 307.726957 219.734921 \r\nL 308.077768 217.435607 \r\nL 309.130201 216.734677 \r\nL 309.481012 216.741227 \r\nL 309.831823 215.902731 \r\nL 310.182634 216.138558 \r\nL 310.533445 220.141068 \r\nL 311.585878 219.243615 \r\nL 311.936689 219.400833 \r\nL 312.2875 220.632375 \r\nL 312.638311 219.479442 \r\nL 312.989122 220.953361 \r\nL 314.041555 221.11058 \r\nL 314.392366 220.76994 \r\nL 314.743177 220.232779 \r\nL 315.093988 219.368079 \r\nL 315.444799 220.796143 \r\nL 316.497232 220.822346 \r\nL 316.848043 220.448953 \r\nL 317.198854 220.363794 \r\nL 317.549665 219.223963 \r\nL 318.952909 217.02946 \r\nL 319.30372 216.452994 \r\nL 319.654531 216.276124 \r\nL 320.005342 216.865692 \r\nL 320.356153 216.380936 \r\nL 321.759397 215.359018 \r\nL 322.81183 216.42024 \r\nL 323.864263 215.63415 \r\nL 324.215075 215.80447 \r\nL 324.565886 216.217167 \r\nL 325.267508 217.219432 \r\nL 326.319941 216.806735 \r\nL 326.670752 215.797919 \r\nL 327.021563 216.263022 \r\nL 327.372374 216.046848 \r\nL 327.723185 216.236819 \r\nL 329.126429 216.525052 \r\nL 329.47724 215.516237 \r\nL 329.828051 214.913567 \r\nL 330.178862 214.697392 \r\nL 331.231295 214.540174 \r\nL 331.582106 215.450729 \r\nL 331.932917 215.313163 \r\nL 332.283728 216.145109 \r\nL 332.634539 215.817571 \r\nL 333.686972 215.352468 \r\nL 334.037783 214.540174 \r\nL 334.388594 214.494319 \r\nL 334.739405 214.134028 \r\nL 336.142649 213.02695 \r\nL 336.49346 213.321734 \r\nL 336.844271 212.863182 \r\nL 337.195082 213.924404 \r\nL 338.598326 212.93524 \r\nL 338.949137 213.950607 \r\nL 339.299948 214.494319 \r\nL 339.650759 214.776001 \r\nL 340.00157 213.950607 \r\nL 341.054003 214.821857 \r\nL 341.404814 214.166781 \r\nL 341.755625 214.343652 \r\nL 342.106436 213.02695 \r\nL 342.457247 213.361039 \r\nL 343.860491 211.867467 \r\nL 344.211302 214.337101 \r\nL 344.562113 215.129742 \r\nL 344.912924 217.350447 \r\nL 345.965357 216.957402 \r\nL 346.316168 217.193229 \r\nL 346.666979 216.819836 \r\nL 347.01779 218.457525 \r\nL 347.368601 219.322224 \r\nL 348.771846 217.330795 \r\nL 349.122657 217.245635 \r\nL 349.473468 218.93573 \r\nL 349.824279 218.608192 \r\nL 350.876712 219.302572 \r\nL 351.227523 218.450974 \r\nL 351.578334 218.706453 \r\nL 351.929145 218.123436 \r\nL 353.6832 217.167026 \r\nL 354.384822 215.522787 \r\nL 354.735633 215.915832 \r\nL 355.788066 216.132007 \r\nL 356.138877 216.380936 \r\nL 356.489688 215.660353 \r\nL 356.840499 215.994441 \r\nL 357.19131 215.935485 \r\nL 358.243743 215.038032 \r\nL 358.594554 215.771716 \r\nL 358.945365 216.112355 \r\nL 359.296176 216.217167 \r\nL 359.646987 215.876528 \r\nL 360.69942 216.41369 \r\nL 361.050231 216.957402 \r\nL 361.401042 216.918098 \r\nL 361.751853 215.653802 \r\nL 362.102664 215.437627 \r\nL 363.155097 215.509686 \r\nL 363.505908 214.972524 \r\nL 363.856719 215.54899 \r\nL 364.20753 215.155945 \r\nL 364.558341 215.581744 \r\nL 365.610774 215.411424 \r\nL 365.961585 214.527073 \r\nL 366.312396 215.057684 \r\nL 366.663207 214.605682 \r\nL 367.014018 214.59258 \r\nL 368.066451 215.02493 \r\nL 368.417262 214.907017 \r\nL 368.768073 215.241105 \r\nL 369.118884 215.241105 \r\nL 370.522128 214.540174 \r\nL 371.22375 215.090438 \r\nL 371.574561 215.647252 \r\nL 371.925373 214.913567 \r\nL 372.977806 215.169047 \r\nL 373.328617 214.743248 \r\nL 373.679428 213.328285 \r\nL 374.38105 213.72133 \r\nL 375.433483 212.699413 \r\nL 375.784294 214.323999 \r\nL 376.135105 214.769451 \r\nL 376.485916 214.67774 \r\nL 376.836727 214.127477 \r\nL 377.88916 213.655823 \r\nL 378.239971 214.874263 \r\nL 378.590782 214.061969 \r\nL 378.941593 213.832693 \r\nL 379.292404 214.7629 \r\nL 380.344837 214.376406 \r\nL 380.695648 215.319714 \r\nL 381.046459 215.745513 \r\nL 381.39727 217.592825 \r\nL 381.748081 218.758859 \r\nL 382.800514 216.086152 \r\nL 383.151325 215.693107 \r\nL 383.502136 211.97883 \r\nL 383.852947 212.751819 \r\nL 385.607002 213.727881 \r\nL 385.957813 214.428812 \r\nL 386.308624 217.671434 \r\nL 386.659435 216.636415 \r\nL 387.711868 217.252186 \r\nL 388.062679 217.212882 \r\nL 388.41349 218.038276 \r\nL 388.764301 216.014094 \r\nL 389.115112 216.734677 \r\nL 390.518356 217.324244 \r\nL 390.869167 215.359018 \r\nL 391.219978 215.005278 \r\nL 391.570789 216.721575 \r\nL 392.974033 217.72384 \r\nL 393.324844 217.605927 \r\nL 393.675655 215.188699 \r\nL 394.026466 214.690842 \r\nL 395.078899 214.658088 \r\nL 395.42971 213.832693 \r\nL 396.131333 213.072806 \r\nL 396.482144 213.603417 \r\nL 397.534577 213.28243 \r\nL 397.885388 214.147129 \r\nL 398.236199 213.62962 \r\nL 398.58701 214.861161 \r\nL 398.937821 215.54244 \r\nL 399.990254 214.350203 \r\nL 400.341065 216.846039 \r\nL 400.691876 217.874508 \r\nL 401.393498 218.916077 \r\nL 402.796742 217.887609 \r\nL 403.147553 215.621049 \r\nL 403.498364 214.998727 \r\nL 403.849175 215.005278 \r\nL 404.901608 214.553276 \r\nL 405.252419 213.393793 \r\nL 405.60323 213.236575 \r\nL 405.954041 213.236575 \r\nL 406.304852 214.959423 \r\nL 407.357285 213.832693 \r\nL 407.708096 215.909282 \r\nL 408.058907 216.728126 \r\nL 408.409718 215.319714 \r\nL 408.760529 214.736697 \r\nL 409.812962 214.717045 \r\nL 410.163773 214.579479 \r\nL 410.514584 214.703943 \r\nL 410.865395 214.965973 \r\nL 411.216206 214.723595 \r\nL 412.268639 213.210371 \r\nL 412.61945 213.4593 \r\nL 412.970261 212.882834 \r\nL 413.321072 212.529093 \r\nL 413.671883 213.19727 \r\nL 414.724316 211.998482 \r\nL 415.075127 212.103294 \r\nL 415.776749 214.382956 \r\nL 416.12756 214.658088 \r\nL 417.179993 214.723595 \r\nL 417.881615 213.682026 \r\nL 418.232426 213.996462 \r\nL 418.583237 214.893915 \r\nL 419.635671 215.562092 \r\nL 419.986482 216.570908 \r\nL 420.337293 216.335081 \r\nL 420.688104 217.933464 \r\nL 421.038915 216.682271 \r\nL 422.442159 217.710739 \r\nL 422.79297 216.007543 \r\nL 423.143781 216.479197 \r\nL 423.494592 214.841509 \r\nL 424.897836 215.89618 \r\nL 425.599458 215.627599 \r\nL 425.950269 214.579479 \r\nL 427.002702 213.537909 \r\nL 427.353513 214.029216 \r\nL 427.704324 213.655823 \r\nL 428.055135 213.498605 \r\nL 429.458379 212.136048 \r\nL 429.80919 212.011584 \r\nL 430.160001 211.63164 \r\nL 430.510812 212.208106 \r\nL 430.861623 210.642476 \r\nL 432.264867 210.138068 \r\nL 432.615678 209.758125 \r\nL 432.966489 210.622824 \r\nL 433.3173 209.653313 \r\nL 434.369733 209.908792 \r\nL 434.720544 208.356264 \r\nL 435.071355 208.23835 \r\nL 435.422166 207.668434 \r\nL 435.772977 207.589825 \r\nL 437.527032 206.607213 \r\nL 437.877843 205.880079 \r\nL 438.228654 206.161761 \r\nL 439.281087 205.02193 \r\nL 439.631898 208.113886 \r\nL 440.33352 206.954402 \r\nL 440.684331 207.059214 \r\nL 441.736764 206.947852 \r\nL 442.438386 205.925934 \r\nL 442.789197 206.266573 \r\nL 443.140008 204.530624 \r\nL 444.192442 204.707494 \r\nL 444.894064 204.163782 \r\nL 445.244875 202.473687 \r\nL 445.595686 202.388528 \r\nL 446.648119 202.270614 \r\nL 446.99893 202.473687 \r\nL 447.349741 202.211657 \r\nL 447.700552 202.93224 \r\nL 448.051363 204.026216 \r\nL 449.103796 204.091723 \r\nL 449.454607 204.995727 \r\nL 449.805418 205.185699 \r\nL 450.156229 203.62662 \r\nL 450.50704 203.181169 \r\nL 451.559473 202.958443 \r\nL 451.910284 204.393058 \r\nL 452.261095 202.689862 \r\nL 452.962717 203.921404 \r\nL 454.01515 204.576479 \r\nL 454.365961 205.500135 \r\nL 454.716772 203.593866 \r\nL 455.067583 203.096009 \r\nL 455.418394 202.964994 \r\nL 456.470827 203.220473 \r\nL 456.821638 203.849346 \r\nL 457.172449 203.227024 \r\nL 457.52326 203.665924 \r\nL 457.874071 203.331836 \r\nL 458.926504 203.679026 \r\nL 459.277315 202.683312 \r\nL 459.628126 203.390793 \r\nL 459.978937 203.502156 \r\nL 460.329748 203.213922 \r\nL 461.382181 203.528359 \r\nL 461.732992 202.735718 \r\nL 462.083803 202.598152 \r\nL 462.434614 202.637456 \r\nL 463.837858 202.991197 \r\nL 464.188669 202.75537 \r\nL 464.53948 202.23131 \r\nL 465.241102 202.074091 \r\nL 466.644346 201.504176 \r\nL 466.995157 201.88412 \r\nL 467.345969 200.84255 \r\nL 467.69678 201.320755 \r\nL 468.749213 201.504176 \r\nL 469.100024 201.740003 \r\nL 469.450835 200.560868 \r\nL 469.801646 200.744289 \r\nL 470.152457 199.977851 \r\nL 471.555701 199.558602 \r\nL 471.906512 196.296327 \r\nL 472.257323 196.23082 \r\nL 472.608134 196.420792 \r\nL 474.011378 192.58205 \r\nL 474.362189 192.83753 \r\nL 474.713 192.817878 \r\nL 475.063811 194.023216 \r\nL 476.116244 192.215208 \r\nL 476.467055 191.206392 \r\nL 476.817866 191.376712 \r\nL 477.168677 191.226045 \r\nL 477.519488 190.92471 \r\nL 478.571921 190.394099 \r\nL 478.922732 189.175659 \r\nL 479.273543 190.079663 \r\nL 479.624354 190.446505 \r\nL 481.378409 191.258798 \r\nL 481.72922 190.891956 \r\nL 482.430842 189.961749 \r\nL 483.834086 191.835265 \r\nL 484.184897 192.981646 \r\nL 484.535708 192.601703 \r\nL 484.886519 191.61909 \r\nL 485.938952 191.88112 \r\nL 486.289763 193.119212 \r\nL 486.640574 192.994748 \r\nL 486.991385 190.83955 \r\nL 487.342196 191.913874 \r\nL 488.394629 193.145415 \r\nL 488.74544 191.61909 \r\nL 489.096251 189.293572 \r\nL 489.447062 191.789409 \r\nL 489.797873 191.520828 \r\nL 490.850306 192.202107 \r\nL 491.201118 193.734983 \r\nL 491.551929 197.645782 \r\nL 491.90274 196.879344 \r\nL 492.253551 195.772267 \r\nL 493.305984 194.606233 \r\nL 493.656795 194.40316 \r\nL 494.007606 193.407445 \r\nL 494.358417 193.073357 \r\nL 494.709228 191.684597 \r\nL 495.761661 192.208658 \r\nL 496.112472 191.232595 \r\nL 496.463283 190.760941 \r\nL 496.814094 191.108131 \r\nL 497.164905 190.328591 \r\nL 498.217338 190.341693 \r\nL 498.568149 190.512013 \r\nL 498.91896 190.479259 \r\nL 499.269771 190.256533 \r\nL 499.620582 190.472708 \r\nL 500.673015 190.538216 \r\nL 501.023826 190.990217 \r\nL 501.374637 190.538216 \r\nL 502.076259 189.070847 \r\nL 503.128692 189.247717 \r\nL 503.830314 190.014155 \r\nL 504.181125 187.727943 \r\nL 505.584369 188.120988 \r\nL 505.93518 187.590377 \r\nL 506.285991 186.365386 \r\nL 506.636802 186.103356 \r\nL 506.987613 186.234371 \r\nL 508.390857 184.74735 \r\nL 509.092479 187.610029 \r\nL 509.44329 186.83704 \r\nL 510.495723 186.699474 \r\nL 510.846534 185.867529 \r\nL 511.197345 186.437444 \r\nL 511.548156 184.655639 \r\nL 511.898967 186.168863 \r\nL 512.9514 186.856692 \r\nL 513.302211 185.78892 \r\nL 513.653022 185.828224 \r\nL 514.003833 185.729963 \r\nL 514.354644 186.011645 \r\nL 515.407078 187.249738 \r\nL 516.1087 187.583826 \r\nL 516.459511 187.950668 \r\nL 518.213566 186.810837 \r\nL 518.564377 188.356815 \r\nL 518.915188 188.6647 \r\nL 519.265999 189.345978 \r\nL 520.318432 189.53595 \r\nL 520.669243 190.23033 \r\nL 521.370865 189.476994 \r\nL 521.721676 190.564419 \r\nL 522.774109 190.570969 \r\nL 523.12492 189.948648 \r\nL 523.475731 191.114682 \r\nL 523.826542 190.898507 \r\nL 524.177353 189.739024 \r\nL 525.229786 189.365631 \r\nL 525.580597 188.57954 \r\nL 525.931408 188.933281 \r\nL 526.282219 188.645048 \r\nL 526.63303 189.332877 \r\nL 527.685463 187.668986 \r\nL 528.036274 186.109907 \r\nL 528.387085 185.762717 \r\nL 528.737896 185.101091 \r\nL 529.088707 183.155517 \r\nL 530.491951 182.5725 \r\nL 530.842762 181.085479 \r\nL 531.193573 181.891222 \r\nL 531.544384 181.884671 \r\nL 532.596817 182.860733 \r\nL 532.947628 183.469953 \r\nL 533.298439 183.299634 \r\nL 533.64925 183.35859 \r\nL 534.000061 182.500442 \r\nL 535.052494 182.670761 \r\nL 535.403305 176.192067 \r\nL 535.754116 177.213984 \r\nL 536.104927 176.39514 \r\nL 536.455738 176.211719 \r\nL 537.508171 177.18123 \r\nL 537.858982 177.679087 \r\nL 538.209793 178.714106 \r\nL 538.560604 178.419323 \r\nL 538.911416 178.386569 \r\nL 539.963849 179.100601 \r\nL 540.31466 180.862753 \r\nL 540.665471 180.358345 \r\nL 541.016282 185.146946 \r\nL 541.367093 184.170884 \r\nL 542.419526 188.107886 \r\nL 542.770337 185.232106 \r\nL 543.121148 190.518563 \r\nL 543.471959 187.773798 \r\nL 544.875203 183.673026 \r\nL 545.226014 184.819408 \r\nL 545.576825 184.66219 \r\nL 546.278447 193.79394 \r\nL 547.33088 192.850631 \r\nL 547.681691 189.352529 \r\nL 548.032502 187.754146 \r\nL 548.383313 188.527134 \r\nL 548.734124 186.195066 \r\nL 549.786557 183.915404 \r\nL 550.137368 183.987463 \r\nL 550.488179 184.380508 \r\nL 550.83899 185.415527 \r\nL 551.189801 187.610029 \r\nL 552.593045 188.83502 \r\nL 552.943856 187.393854 \r\nL 553.294667 188.743309 \r\nL 553.645478 191.285001 \r\nL 554.697911 190.597172 \r\nL 555.048722 189.935546 \r\nL 555.750344 185.572745 \r\nL 556.101155 183.673026 \r\nL 557.153588 183.581316 \r\nL 557.504399 182.539746 \r\nL 557.85521 183.653374 \r\nL 558.206021 186.535705 \r\nL 558.556832 186.064051 \r\nL 559.609265 182.677312 \r\nL 559.960076 180.581071 \r\nL 560.310887 180.685883 \r\nL 560.661698 179.624661 \r\nL 561.012509 182.441485 \r\nL 562.064942 183.476504 \r\nL 562.415753 182.526645 \r\nL 562.766565 181.144436 \r\nL 563.117376 177.973871 \r\nL 563.468187 177.515319 \r\nL 564.52062 174.74435 \r\nL 564.871431 175.805572 \r\nL 565.222242 175.071888 \r\nL 565.573053 174.613335 \r\nL 565.923864 172.183006 \r\nL 565.923864 172.183006 \r\n\" style=\"fill:none;stroke:#ff7f0e;stroke-linecap:square;stroke-width:1.5;\"/>\r\n   </g>\r\n   <g id=\"line2d_20\">\r\n    <path clip-path=\"url(#p65a90bdc96)\" d=\"M 58.651136 276.176209 \r\nL 59.352758 274.826754 \r\nL 59.703569 274.676086 \r\nL 60.05438 274.676086 \r\nL 61.106813 274.872609 \r\nL 61.457624 275.069132 \r\nL 62.510058 276.680617 \r\nL 63.562491 276.890241 \r\nL 63.913302 276.169658 \r\nL 64.264113 276.490645 \r\nL 64.614924 276.595457 \r\nL 64.965735 276.398934 \r\nL 66.018168 276.477543 \r\nL 66.368979 276.0976 \r\nL 66.71979 276.313775 \r\nL 67.421412 276.385833 \r\nL 68.473845 277.073662 \r\nL 68.824656 277.021256 \r\nL 69.175467 276.634762 \r\nL 69.877089 276.693718 \r\nL 71.280333 277.191576 \r\nL 71.631144 276.35963 \r\nL 71.981955 276.117252 \r\nL 72.332766 276.130354 \r\nL 73.385199 275.992788 \r\nL 73.73601 276.392384 \r\nL 74.086821 276.169658 \r\nL 74.437632 275.711105 \r\nL 74.788443 275.658699 \r\nL 75.840876 276.215513 \r\nL 76.191687 276.005889 \r\nL 76.542498 275.973135 \r\nL 77.24412 275.206697 \r\nL 78.296553 274.892261 \r\nL 78.998175 274.872609 \r\nL 79.348986 275.259103 \r\nL 79.699797 275.167393 \r\nL 81.453852 275.711105 \r\nL 81.804663 275.625946 \r\nL 82.155474 276.222064 \r\nL 83.207907 276.084498 \r\nL 83.558718 276.785429 \r\nL 83.909529 276.18276 \r\nL 84.26034 276.248267 \r\nL 84.611151 276.503746 \r\nL 85.663584 276.215513 \r\nL 86.014396 276.45134 \r\nL 86.365207 276.916444 \r\nL 87.066829 277.047459 \r\nL 88.470073 277.682882 \r\nL 88.820884 277.702534 \r\nL 89.171695 276.903342 \r\nL 89.522506 277.093314 \r\nL 90.92575 277.296388 \r\nL 91.276561 277.538765 \r\nL 91.627372 277.296388 \r\nL 91.978183 278.593437 \r\nL 93.030616 278.750655 \r\nL 93.381427 279.431933 \r\nL 94.083049 280.001849 \r\nL 94.43386 279.739818 \r\nL 95.486293 279.949443 \r\nL 95.837104 279.870833 \r\nL 96.187915 279.497441 \r\nL 96.538726 279.772572 \r\nL 96.889537 279.824978 \r\nL 98.994403 279.949443 \r\nL 99.345214 280.204922 \r\nL 100.397647 280.106661 \r\nL 100.748458 279.779123 \r\nL 101.099269 279.851181 \r\nL 101.45008 280.054255 \r\nL 101.800891 280.493155 \r\nL 102.853324 280.62417 \r\nL 103.554946 279.936341 \r\nL 103.905757 280.270429 \r\nL 104.256568 280.087008 \r\nL 105.309001 279.982196 \r\nL 105.659812 279.23541 \r\nL 106.010623 279.628456 \r\nL 106.361434 279.635006 \r\nL 106.712245 280.034602 \r\nL 107.764678 279.831529 \r\nL 108.115489 279.150251 \r\nL 108.4663 279.635006 \r\nL 108.817111 279.294367 \r\nL 110.571167 279.32057 \r\nL 111.272789 279.982196 \r\nL 111.6236 280.067356 \r\nL 112.676033 279.779123 \r\nL 113.026844 279.097845 \r\nL 113.728466 279.40573 \r\nL 114.079277 279.307469 \r\nL 115.13171 279.307469 \r\nL 115.482521 279.556397 \r\nL 116.184143 279.340223 \r\nL 116.534954 279.83808 \r\nL 117.587387 279.975646 \r\nL 117.938198 279.857732 \r\nL 118.289009 279.431933 \r\nL 118.63982 279.268164 \r\nL 118.990631 278.79651 \r\nL 120.043064 278.541031 \r\nL 120.393875 278.645843 \r\nL 120.744686 277.918709 \r\nL 121.095497 277.702534 \r\nL 121.446308 278.901322 \r\nL 123.200363 279.693963 \r\nL 123.551174 279.163352 \r\nL 123.901985 279.255063 \r\nL 124.954418 279.353324 \r\nL 125.305229 278.979931 \r\nL 125.65604 279.274715 \r\nL 126.357662 279.169903 \r\nL 127.410095 278.803061 \r\nL 127.760906 278.862018 \r\nL 128.111717 278.770307 \r\nL 128.462528 278.455871 \r\nL 128.813339 278.737553 \r\nL 129.865772 279.05854 \r\nL 130.567394 279.798775 \r\nL 130.918205 279.661209 \r\nL 131.269016 279.916689 \r\nL 132.67226 279.680862 \r\nL 133.023071 279.83808 \r\nL 133.724694 279.75292 \r\nL 134.777127 280.067356 \r\nL 135.127938 280.368691 \r\nL 135.478749 280.231125 \r\nL 135.82956 279.766021 \r\nL 136.180371 280.257328 \r\nL 137.583615 280.01495 \r\nL 137.934426 280.486604 \r\nL 138.636048 279.294367 \r\nL 140.039292 279.458136 \r\nL 140.390103 279.66776 \r\nL 140.740914 279.379527 \r\nL 141.091725 279.805326 \r\nL 142.494969 280.113211 \r\nL 142.84578 279.733268 \r\nL 143.196591 280.10011 \r\nL 143.547402 280.172168 \r\nL 144.599835 280.244226 \r\nL 144.950646 280.637272 \r\nL 145.301457 281.239941 \r\nL 145.652268 281.174433 \r\nL 147.055512 281.14823 \r\nL 147.406323 281.259593 \r\nL 147.757134 281.632986 \r\nL 148.107945 281.501971 \r\nL 148.458756 281.619885 \r\nL 149.511189 281.685392 \r\nL 150.212811 280.401444 \r\nL 150.563622 280.237676 \r\nL 150.914433 281.253042 \r\nL 151.966866 281.384057 \r\nL 152.317677 281.285796 \r\nL 152.668488 280.905852 \r\nL 153.019299 281.508522 \r\nL 153.37011 281.069621 \r\nL 154.422543 281.469217 \r\nL 154.773354 281.095824 \r\nL 155.124165 281.023766 \r\nL 155.825787 281.508522 \r\nL 156.87822 281.606783 \r\nL 157.579843 280.545561 \r\nL 157.930654 280.316285 \r\nL 158.281465 279.870833 \r\nL 159.333898 280.008399 \r\nL 159.684709 279.877384 \r\nL 160.03552 280.001849 \r\nL 160.737142 280.060805 \r\nL 161.789575 280.139414 \r\nL 162.140386 280.296632 \r\nL 162.842008 280.381792 \r\nL 163.192819 279.975646 \r\nL 164.245252 280.087008 \r\nL 164.596063 280.322835 \r\nL 165.297685 279.916689 \r\nL 165.648496 280.316285 \r\nL 167.402551 280.552112 \r\nL 168.104173 281.31855 \r\nL 169.858228 280.833794 \r\nL 170.209039 280.283531 \r\nL 170.55985 280.113211 \r\nL 171.612283 280.597967 \r\nL 171.963094 281.108926 \r\nL 172.313905 281.973625 \r\nL 172.664716 281.554377 \r\nL 173.015527 281.613334 \r\nL 174.769582 281.272695 \r\nL 175.471204 280.244226 \r\nL 176.523637 281.705044 \r\nL 176.874448 280.683127 \r\nL 177.57607 280.951708 \r\nL 177.926881 280.905852 \r\nL 178.979314 281.770552 \r\nL 179.330125 282.792469 \r\nL 179.680936 282.930035 \r\nL 180.382558 283.853691 \r\nL 181.434992 281.41026 \r\nL 182.136614 283.14621 \r\nL 182.487425 282.209452 \r\nL 182.838236 282.36667 \r\nL 183.890669 281.881915 \r\nL 184.24148 282.71386 \r\nL 184.592291 283.834039 \r\nL 184.943102 283.349283 \r\nL 185.293913 283.572009 \r\nL 186.346346 284.050214 \r\nL 186.697157 282.877629 \r\nL 187.047968 282.936586 \r\nL 187.74959 283.342733 \r\nL 188.802023 283.165862 \r\nL 189.152834 282.609048 \r\nL 189.854456 284.233635 \r\nL 190.205267 283.853691 \r\nL 191.608511 284.037112 \r\nL 191.959322 284.587376 \r\nL 192.310133 284.004359 \r\nL 192.660944 284.731492 \r\nL 193.713377 285.183494 \r\nL 194.064188 284.921464 \r\nL 194.414999 285.740308 \r\nL 194.76581 286.205412 \r\nL 195.116621 284.88216 \r\nL 196.169054 284.259838 \r\nL 196.519865 284.692188 \r\nL 196.870676 284.384302 \r\nL 197.572298 284.554622 \r\nL 198.624731 285.543786 \r\nL 199.326353 284.764246 \r\nL 199.677164 285.2359 \r\nL 200.027975 284.764246 \r\nL 201.080408 284.063315 \r\nL 201.431219 284.318795 \r\nL 201.78203 284.312244 \r\nL 202.132841 285.026276 \r\nL 203.536085 285.275205 \r\nL 203.886896 284.620129 \r\nL 204.588518 285.117987 \r\nL 204.939329 285.229349 \r\nL 207.395007 285.222799 \r\nL 208.44744 285.327611 \r\nL 208.798251 285.091784 \r\nL 209.149062 285.032827 \r\nL 209.850684 284.482564 \r\nL 211.253928 284.220533 \r\nL 211.604739 284.986972 \r\nL 211.95555 284.613579 \r\nL 212.306361 284.980421 \r\nL 213.358794 285.013175 \r\nL 213.709605 284.797 \r\nL 214.060416 285.249002 \r\nL 214.411227 285.157291 \r\nL 214.762038 284.862507 \r\nL 216.165282 285.622395 \r\nL 216.516093 285.065581 \r\nL 216.866904 286.467442 \r\nL 218.620959 286.126803 \r\nL 218.97177 285.890975 \r\nL 219.673392 286.473992 \r\nL 220.725825 286.021991 \r\nL 221.076636 285.609293 \r\nL 221.427447 285.530684 \r\nL 222.129069 284.895261 \r\nL 223.181502 285.032827 \r\nL 223.532313 285.425872 \r\nL 223.883124 285.170393 \r\nL 224.233935 285.14419 \r\nL 224.584746 285.249002 \r\nL 225.98799 285.786163 \r\nL 226.338801 285.766511 \r\nL 226.689612 285.897526 \r\nL 227.040423 285.838569 \r\nL 228.092856 286.329876 \r\nL 228.794478 286.487094 \r\nL 229.14529 286.821182 \r\nL 229.496101 286.984951 \r\nL 230.548534 287.214228 \r\nL 231.250156 287.004603 \r\nL 231.600967 287.535214 \r\nL 233.004211 287.607273 \r\nL 233.355022 286.781878 \r\nL 233.705833 286.395383 \r\nL 234.056644 286.45434 \r\nL 234.407455 286.677066 \r\nL 235.459888 286.925994 \r\nL 235.810699 286.526398 \r\nL 236.863132 286.421586 \r\nL 237.915565 285.635496 \r\nL 238.266376 285.884425 \r\nL 238.617187 285.917178 \r\nL 238.967998 285.327611 \r\nL 239.318809 285.75996 \r\nL 240.371242 286.166107 \r\nL 241.072864 285.032827 \r\nL 241.423675 285.039378 \r\nL 241.774486 285.380017 \r\nL 243.17773 285.373466 \r\nL 243.879352 284.810101 \r\nL 245.282596 284.855956 \r\nL 245.633407 285.006624 \r\nL 245.984218 285.327611 \r\nL 246.335029 284.751144 \r\nL 246.68584 285.098334 \r\nL 247.738273 285.465177 \r\nL 248.089084 285.242451 \r\nL 248.439895 285.360364 \r\nL 248.790706 285.268654 \r\nL 249.141517 284.037112 \r\nL 250.19395 284.351549 \r\nL 250.544761 284.646332 \r\nL 250.895572 284.44981 \r\nL 252.649627 284.482564 \r\nL 253.000439 284.731492 \r\nL 253.35125 284.731492 \r\nL 253.702061 285.026276 \r\nL 254.052872 284.960769 \r\nL 255.105305 285.026276 \r\nL 255.456116 284.672535 \r\nL 255.806927 284.757695 \r\nL 256.508549 284.469462 \r\nL 257.560982 284.233635 \r\nL 257.911793 284.331896 \r\nL 258.262604 284.286041 \r\nL 258.613415 284.633231 \r\nL 258.964226 284.679086 \r\nL 260.36747 284.312244 \r\nL 260.718281 284.443259 \r\nL 261.419903 283.971605 \r\nL 263.87558 283.192065 \r\nL 265.278824 283.224819 \r\nL 266.331257 282.445279 \r\nL 267.734501 282.373221 \r\nL 268.085312 282.229105 \r\nL 268.436123 282.340467 \r\nL 268.786934 281.986727 \r\nL 269.839367 282.478033 \r\nL 270.540989 282.36012 \r\nL 270.8918 282.163597 \r\nL 271.242611 282.432178 \r\nL 272.295044 282.117742 \r\nL 272.645855 282.170148 \r\nL 272.996666 282.006379 \r\nL 273.347477 282.425627 \r\nL 274.750721 282.530439 \r\nL 275.101532 282.943137 \r\nL 275.803154 283.002093 \r\nL 276.153965 283.034847 \r\nL 277.206399 282.510787 \r\nL 277.55721 282.582845 \r\nL 277.908021 281.953973 \r\nL 278.258832 281.75745 \r\nL 278.609643 281.849161 \r\nL 279.662076 281.698494 \r\nL 280.012887 281.515072 \r\nL 280.363698 281.528174 \r\nL 280.714509 281.05652 \r\nL 281.06532 282.373221 \r\nL 282.117753 282.582845 \r\nL 282.819375 282.157046 \r\nL 283.170186 282.150496 \r\nL 283.520997 282.327366 \r\nL 284.924241 282.170148 \r\nL 285.275052 282.150496 \r\nL 285.625863 282.36667 \r\nL 285.976674 282.301163 \r\nL 287.029107 282.392873 \r\nL 287.379918 282.569744 \r\nL 287.730729 282.320815 \r\nL 288.432351 282.222554 \r\nL 289.484784 282.497685 \r\nL 289.835595 282.209452 \r\nL 290.537217 282.150496 \r\nL 290.888028 281.685392 \r\nL 292.291272 281.541275 \r\nL 292.642083 281.600232 \r\nL 293.343705 281.521623 \r\nL 294.396138 281.541275 \r\nL 294.746949 281.947422 \r\nL 295.09776 282.032582 \r\nL 295.448571 281.875364 \r\nL 295.799382 281.554377 \r\nL 301.76317 281.128578 \r\nL 302.113981 280.833794 \r\nL 302.464792 280.873099 \r\nL 302.815603 280.728982 \r\nL 303.166414 280.97136 \r\nL 304.569658 280.846896 \r\nL 304.920469 280.866548 \r\nL 305.27128 281.390608 \r\nL 305.622091 281.344753 \r\nL 306.674524 281.541275 \r\nL 307.025335 281.246492 \r\nL 307.376146 281.253042 \r\nL 307.726957 280.899302 \r\nL 308.077768 280.97136 \r\nL 309.831823 280.715881 \r\nL 310.182634 280.244226 \r\nL 310.533445 280.375241 \r\nL 311.936689 280.460401 \r\nL 312.2875 280.329386 \r\nL 312.638311 280.322835 \r\nL 312.989122 279.425382 \r\nL 314.041555 279.012685 \r\nL 314.392366 279.065091 \r\nL 314.743177 279.425382 \r\nL 315.093988 279.300918 \r\nL 315.444799 279.608803 \r\nL 316.497232 279.510542 \r\nL 316.848043 279.733268 \r\nL 317.549665 279.1437 \r\nL 317.900476 279.110946 \r\nL 319.30372 278.803061 \r\nL 320.005342 278.586886 \r\nL 320.356153 278.416566 \r\nL 321.408586 278.468972 \r\nL 321.759397 278.10213 \r\nL 322.110208 278.030072 \r\nL 322.81183 278.337957 \r\nL 324.215075 278.154536 \r\nL 324.565886 278.233145 \r\nL 325.267508 278.593437 \r\nL 326.319941 278.468972 \r\nL 326.670752 278.095579 \r\nL 327.021563 278.239696 \r\nL 327.723185 278.115232 \r\nL 329.47724 278.285551 \r\nL 329.828051 278.180739 \r\nL 330.178862 278.193841 \r\nL 331.231295 278.030072 \r\nL 331.932917 278.036623 \r\nL 332.283728 278.351059 \r\nL 332.634539 277.872854 \r\nL 333.686972 277.774593 \r\nL 334.388594 277.519113 \r\nL 336.49346 277.224329 \r\nL 337.195082 277.800796 \r\nL 338.949137 277.49291 \r\nL 339.650759 277.813897 \r\nL 340.00157 277.682882 \r\nL 341.404814 278.056275 \r\nL 341.755625 277.879405 \r\nL 342.106436 277.49291 \r\nL 342.457247 277.558418 \r\nL 343.860491 277.40775 \r\nL 344.562113 278.095579 \r\nL 344.912924 278.757205 \r\nL 346.666979 278.305204 \r\nL 347.01779 278.62619 \r\nL 347.368601 279.248512 \r\nL 349.122657 278.960279 \r\nL 349.473468 279.458136 \r\nL 349.824279 279.346773 \r\nL 350.876712 279.536745 \r\nL 351.227523 279.353324 \r\nL 352.279956 279.40573 \r\nL 354.034011 278.901322 \r\nL 354.384822 278.665495 \r\nL 354.735633 278.789959 \r\nL 355.788066 278.816162 \r\nL 356.138877 279.071642 \r\nL 356.489688 278.88167 \r\nL 357.19131 278.855467 \r\nL 358.243743 278.632741 \r\nL 358.594554 278.986482 \r\nL 360.69942 278.88167 \r\nL 362.102664 278.475523 \r\nL 363.505908 278.410016 \r\nL 363.856719 278.246247 \r\nL 365.610774 278.265899 \r\nL 365.961585 278.089029 \r\nL 366.312396 278.233145 \r\nL 366.663207 278.003869 \r\nL 367.014018 278.226595 \r\nL 368.066451 278.27245 \r\nL 368.417262 278.154536 \r\nL 368.768073 278.462422 \r\nL 369.118884 278.541031 \r\nL 371.22375 278.423117 \r\nL 371.925373 277.794245 \r\nL 373.328617 277.728737 \r\nL 373.679428 277.49291 \r\nL 374.030239 277.460156 \r\nL 374.38105 277.584621 \r\nL 375.433483 277.355344 \r\nL 375.784294 277.152271 \r\nL 376.485916 277.132619 \r\nL 376.836727 277.4012 \r\nL 377.88916 277.309489 \r\nL 378.239971 277.473258 \r\nL 378.941593 277.381547 \r\nL 379.292404 277.669781 \r\nL 380.344837 277.466707 \r\nL 380.695648 277.931811 \r\nL 381.046459 278.108681 \r\nL 381.748081 279.1437 \r\nL 382.800514 278.685147 \r\nL 383.151325 278.717901 \r\nL 383.502136 278.36416 \r\nL 384.203758 278.691698 \r\nL 385.256191 278.685147 \r\nL 385.957813 279.045439 \r\nL 386.308624 279.766021 \r\nL 386.659435 279.936341 \r\nL 388.062679 280.421097 \r\nL 388.41349 281.095824 \r\nL 388.764301 280.466952 \r\nL 389.115112 280.597967 \r\nL 390.518356 280.53901 \r\nL 391.219978 279.92324 \r\nL 391.570789 280.604518 \r\nL 393.324844 281.239941 \r\nL 393.675655 281.102375 \r\nL 394.026466 280.683127 \r\nL 395.078899 280.787939 \r\nL 395.42971 280.10011 \r\nL 395.780522 280.263879 \r\nL 396.482144 280.19182 \r\nL 397.885388 280.617619 \r\nL 398.937821 281.40371 \r\nL 399.990254 281.541275 \r\nL 400.341065 282.176699 \r\nL 400.691876 282.36667 \r\nL 402.796742 281.855712 \r\nL 403.147553 281.547826 \r\nL 403.498364 281.482319 \r\nL 403.849175 281.567479 \r\nL 405.252419 281.023766 \r\nL 405.60323 280.827243 \r\nL 405.954041 280.781388 \r\nL 406.304852 281.174433 \r\nL 407.708096 280.80104 \r\nL 408.058907 281.030317 \r\nL 408.409718 280.571764 \r\nL 408.760529 280.591416 \r\nL 410.163773 280.368691 \r\nL 410.514584 280.499706 \r\nL 410.865395 280.4473 \r\nL 411.216206 280.591416 \r\nL 412.268639 280.257328 \r\nL 412.61945 280.368691 \r\nL 413.321072 280.866548 \r\nL 413.671883 280.755185 \r\nL 414.724316 280.715881 \r\nL 415.075127 281.05652 \r\nL 416.12756 281.488869 \r\nL 417.179993 281.423362 \r\nL 417.530804 281.207187 \r\nL 417.881615 281.135129 \r\nL 418.583237 281.508522 \r\nL 419.635671 281.482319 \r\nL 419.986482 281.632986 \r\nL 420.337293 281.593682 \r\nL 420.688104 281.770552 \r\nL 421.038915 281.705044 \r\nL 422.442159 281.999828 \r\nL 422.79297 281.724697 \r\nL 423.143781 281.698494 \r\nL 423.494592 281.475768 \r\nL 425.248647 281.705044 \r\nL 425.599458 281.652638 \r\nL 425.950269 281.75745 \r\nL 427.002702 280.951708 \r\nL 427.704324 280.945157 \r\nL 428.055135 280.807591 \r\nL 428.405946 280.879649 \r\nL 429.458379 280.742084 \r\nL 429.80919 280.925505 \r\nL 430.160001 281.266144 \r\nL 430.510812 281.384057 \r\nL 430.861623 281.161332 \r\nL 432.264867 281.226839 \r\nL 432.966489 281.344753 \r\nL 434.369733 281.718146 \r\nL 434.720544 281.436463 \r\nL 435.772977 281.292347 \r\nL 436.82541 281.279245 \r\nL 437.176221 281.128578 \r\nL 437.527032 280.80104 \r\nL 437.877843 280.873099 \r\nL 438.228654 280.676576 \r\nL 439.281087 280.493155 \r\nL 439.631898 280.958258 \r\nL 440.33352 280.748634 \r\nL 441.736764 280.899302 \r\nL 442.087575 280.4473 \r\nL 442.789197 280.198371 \r\nL 443.140008 279.949443 \r\nL 444.192442 279.772572 \r\nL 444.543253 279.49089 \r\nL 444.894064 279.720166 \r\nL 445.244875 279.654659 \r\nL 445.595686 279.83808 \r\nL 447.700552 279.942892 \r\nL 448.051363 280.204922 \r\nL 449.103796 280.250777 \r\nL 449.805418 280.552112 \r\nL 450.156229 280.381792 \r\nL 450.50704 280.480054 \r\nL 451.559473 280.453851 \r\nL 451.910284 280.846896 \r\nL 452.261095 280.683127 \r\nL 452.962717 280.761736 \r\nL 454.365961 280.755185 \r\nL 455.067583 279.707065 \r\nL 455.418394 279.621905 \r\nL 456.821638 279.720166 \r\nL 457.172449 279.484339 \r\nL 457.52326 279.5826 \r\nL 457.874071 279.418832 \r\nL 458.926504 279.477788 \r\nL 459.628126 279.091294 \r\nL 459.978937 278.999583 \r\nL 460.329748 279.05854 \r\nL 461.382181 279.117497 \r\nL 462.083803 278.868568 \r\nL 462.434614 278.79651 \r\nL 465.241102 279.051989 \r\nL 466.995157 278.993033 \r\nL 467.345969 278.462422 \r\nL 467.69678 278.606538 \r\nL 469.100024 278.920974 \r\nL 469.450835 278.639292 \r\nL 469.801646 278.868568 \r\nL 471.555701 278.567234 \r\nL 472.608134 278.979931 \r\nL 474.713 278.436219 \r\nL 475.063811 279.150251 \r\nL 476.116244 279.163352 \r\nL 476.467055 278.999583 \r\nL 476.817866 279.032337 \r\nL 477.168677 279.215758 \r\nL 478.922732 278.809612 \r\nL 479.975165 279.477788 \r\nL 482.430842 279.49089 \r\nL 484.184897 279.798775 \r\nL 484.535708 279.680862 \r\nL 484.886519 279.824978 \r\nL 485.938952 279.805326 \r\nL 486.289763 280.073907 \r\nL 486.640574 280.126313 \r\nL 486.991385 280.047704 \r\nL 487.342196 280.211473 \r\nL 488.394629 280.36214 \r\nL 488.74544 280.237676 \r\nL 489.096251 280.250777 \r\nL 489.447062 280.558663 \r\nL 489.797873 280.388343 \r\nL 490.850306 280.381792 \r\nL 491.201118 280.571764 \r\nL 491.551929 280.964809 \r\nL 492.253551 280.958258 \r\nL 493.305984 280.611069 \r\nL 493.656795 280.630721 \r\nL 494.358417 280.303183 \r\nL 494.709228 280.427647 \r\nL 496.112472 280.506257 \r\nL 496.463283 280.434198 \r\nL 496.814094 280.571764 \r\nL 497.164905 280.512807 \r\nL 498.217338 280.473503 \r\nL 499.269771 280.047704 \r\nL 499.620582 280.132864 \r\nL 500.673015 280.19182 \r\nL 501.023826 280.414546 \r\nL 501.374637 280.421097 \r\nL 502.076259 280.584866 \r\nL 503.479503 280.728982 \r\nL 503.830314 280.335937 \r\nL 504.181125 280.493155 \r\nL 505.584369 280.434198 \r\nL 505.93518 280.054255 \r\nL 506.636802 279.720166 \r\nL 506.987613 280.231125 \r\nL 508.040046 280.401444 \r\nL 508.741668 280.139414 \r\nL 509.092479 280.316285 \r\nL 509.44329 280.263879 \r\nL 510.846534 280.394894 \r\nL 511.197345 280.591416 \r\nL 511.548156 280.617619 \r\nL 511.898967 280.807591 \r\nL 512.9514 281.102375 \r\nL 514.003833 280.905852 \r\nL 514.354644 281.049969 \r\nL 515.757889 281.272695 \r\nL 516.1087 281.246492 \r\nL 516.459511 280.932055 \r\nL 518.213566 280.715881 \r\nL 518.564377 281.089274 \r\nL 519.265999 281.429913 \r\nL 521.370865 281.397159 \r\nL 521.721676 281.560928 \r\nL 523.12492 281.226839 \r\nL 523.475731 281.541275 \r\nL 524.177353 281.200636 \r\nL 525.229786 281.063071 \r\nL 525.580597 280.879649 \r\nL 526.63303 281.174433 \r\nL 527.685463 280.591416 \r\nL 528.036274 280.198371 \r\nL 528.387085 280.316285 \r\nL 528.737896 280.067356 \r\nL 530.491951 280.047704 \r\nL 531.544384 279.471238 \r\nL 532.947628 279.720166 \r\nL 533.298439 279.661209 \r\nL 533.64925 279.766021 \r\nL 534.000061 279.562948 \r\nL 535.052494 279.687412 \r\nL 535.403305 279.065091 \r\nL 535.754116 279.379527 \r\nL 536.104927 279.353324 \r\nL 536.455738 279.071642 \r\nL 537.858982 278.717901 \r\nL 538.209793 279.202657 \r\nL 538.560604 278.947177 \r\nL 538.911416 279.156801 \r\nL 539.963849 279.241961 \r\nL 540.31466 279.549847 \r\nL 540.665471 279.471238 \r\nL 541.016282 280.106661 \r\nL 541.367093 280.27698 \r\nL 542.419526 281.05652 \r\nL 542.770337 280.342488 \r\nL 543.121148 281.239941 \r\nL 543.471959 280.597967 \r\nL 543.82277 280.656924 \r\nL 545.226014 280.388343 \r\nL 545.576825 280.453851 \r\nL 546.278447 281.239941 \r\nL 547.33088 281.285796 \r\nL 547.681691 280.80104 \r\nL 548.032502 280.683127 \r\nL 548.383313 280.899302 \r\nL 548.734124 280.453851 \r\nL 549.786557 280.067356 \r\nL 550.488179 279.569499 \r\nL 551.189801 280.093559 \r\nL 552.593045 280.283531 \r\nL 552.943856 279.962544 \r\nL 553.294667 279.818427 \r\nL 553.645478 280.132864 \r\nL 555.048722 279.936341 \r\nL 555.750344 279.314019 \r\nL 556.101155 279.22886 \r\nL 557.153588 279.169903 \r\nL 557.504399 279.32057 \r\nL 558.206021 280.578315 \r\nL 558.556832 280.578315 \r\nL 560.310887 280.237676 \r\nL 560.661698 280.322835 \r\nL 561.012509 280.689678 \r\nL 562.064942 280.925505 \r\nL 562.766565 280.034602 \r\nL 563.117376 279.739818 \r\nL 563.468187 279.798775 \r\nL 564.871431 279.307469 \r\nL 565.222242 279.333672 \r\nL 565.923864 279.130598 \r\nL 565.923864 279.130598 \r\n\" style=\"fill:none;stroke:#2ca02c;stroke-linecap:square;stroke-width:1.5;\"/>\r\n   </g>\r\n   <g id=\"line2d_21\">\r\n    <path clip-path=\"url(#p65a90bdc96)\" d=\"M 58.651136 240.979013 \r\nL 59.001947 242.459483 \r\nL 59.352758 241.948525 \r\nL 59.703569 244.038215 \r\nL 60.05438 244.378854 \r\nL 61.106813 244.542623 \r\nL 61.457624 242.911485 \r\nL 61.808435 244.614681 \r\nL 62.159247 243.278328 \r\nL 62.510058 244.824305 \r\nL 63.562491 246.213065 \r\nL 63.913302 244.804653 \r\nL 64.264113 245.145292 \r\nL 64.614924 246.239268 \r\nL 64.965735 245.872426 \r\nL 66.018168 246.468544 \r\nL 66.368979 244.241288 \r\nL 66.71979 244.706392 \r\nL 67.421412 243.959606 \r\nL 68.473845 245.525236 \r\nL 68.824656 245.105988 \r\nL 69.175467 244.182331 \r\nL 69.877089 243.435546 \r\nL 70.929522 243.618967 \r\nL 71.280333 244.057867 \r\nL 71.981955 242.066438 \r\nL 72.332766 242.027134 \r\nL 73.385199 241.712698 \r\nL 73.73601 242.760818 \r\nL 74.086821 241.778205 \r\nL 74.437632 241.293449 \r\nL 74.788443 242.223656 \r\nL 75.840876 242.996645 \r\nL 76.191687 242.07954 \r\nL 76.542498 242.072989 \r\nL 76.893309 241.653741 \r\nL 77.24412 240.86765 \r\nL 78.296553 240.730085 \r\nL 78.998175 240.042256 \r\nL 79.348986 240.723534 \r\nL 79.699797 239.924342 \r\nL 80.75223 240.716983 \r\nL 81.453852 240.821795 \r\nL 81.804663 240.631823 \r\nL 82.155474 241.679944 \r\nL 83.207907 242.197453 \r\nL 83.558718 242.898384 \r\nL 83.909529 241.99438 \r\nL 84.26034 241.935423 \r\nL 84.611151 242.747717 \r\nL 85.663584 242.43328 \r\nL 86.014396 243.520705 \r\nL 86.716018 246.586458 \r\nL 87.066829 245.885527 \r\nL 88.470073 247.464259 \r\nL 88.820884 246.86814 \r\nL 89.171695 245.335264 \r\nL 89.522506 246.573356 \r\nL 90.574939 245.852773 \r\nL 90.92575 245.885527 \r\nL 91.276561 245.767614 \r\nL 91.978183 245.361467 \r\nL 93.030616 245.669352 \r\nL 93.381427 247.667332 \r\nL 93.732238 248.073479 \r\nL 94.083049 247.588723 \r\nL 94.43386 247.700086 \r\nL 95.486293 246.789531 \r\nL 96.187915 245.420424 \r\nL 96.538726 245.381119 \r\nL 96.889537 245.492482 \r\nL 98.292781 244.503318 \r\nL 98.643592 243.841692 \r\nL 98.994403 244.555724 \r\nL 99.345214 244.405057 \r\nL 100.748458 242.760818 \r\nL 101.099269 243.062153 \r\nL 101.45008 243.068703 \r\nL 101.800891 244.503318 \r\nL 102.853324 244.051316 \r\nL 103.204135 244.69329 \r\nL 103.554946 244.391956 \r\nL 104.256568 247.228432 \r\nL 105.309001 247.248084 \r\nL 105.659812 244.699841 \r\nL 106.010623 245.12564 \r\nL 106.361434 244.477115 \r\nL 106.712245 245.164944 \r\nL 107.764678 245.237003 \r\nL 108.115489 243.618967 \r\nL 108.4663 246.055847 \r\nL 108.817111 245.715208 \r\nL 110.220356 245.138741 \r\nL 110.571167 245.590743 \r\nL 110.921978 244.95532 \r\nL 111.272789 244.988074 \r\nL 111.6236 245.577642 \r\nL 112.676033 245.964136 \r\nL 113.026844 244.496768 \r\nL 113.377655 243.592764 \r\nL 113.728466 243.763083 \r\nL 114.079277 243.455198 \r\nL 115.13171 243.350386 \r\nL 115.482521 242.931138 \r\nL 115.833332 242.878732 \r\nL 116.184143 242.970442 \r\nL 116.534954 243.527256 \r\nL 117.587387 242.878732 \r\nL 117.938198 242.217106 \r\nL 118.289009 240.95281 \r\nL 118.990631 240.284633 \r\nL 120.393875 240.048806 \r\nL 120.744686 240.153618 \r\nL 121.095497 241.129681 \r\nL 121.446308 241.21484 \r\nL 122.498741 241.221391 \r\nL 122.849552 241.614436 \r\nL 123.200363 240.847998 \r\nL 123.551174 242.878732 \r\nL 124.954418 242.990094 \r\nL 125.305229 242.656006 \r\nL 125.65604 243.409343 \r\nL 126.006851 242.741166 \r\nL 126.357662 243.166965 \r\nL 127.410095 242.944239 \r\nL 127.760906 242.649455 \r\nL 128.111717 242.511889 \r\nL 128.813339 240.834897 \r\nL 129.865772 239.812979 \r\nL 130.216583 239.688515 \r\nL 130.918205 240.933158 \r\nL 131.269016 242.027134 \r\nL 132.67226 242.577397 \r\nL 133.023071 242.190903 \r\nL 133.373882 242.845978 \r\nL 133.724694 243.206269 \r\nL 134.777127 243.782736 \r\nL 135.127938 245.053582 \r\nL 135.478749 245.027379 \r\nL 135.82956 242.872181 \r\nL 136.180371 244.398506 \r\nL 137.232804 243.016297 \r\nL 137.583615 243.730329 \r\nL 137.934426 243.29798 \r\nL 138.285237 244.234737 \r\nL 138.636048 243.448647 \r\nL 139.688481 243.671373 \r\nL 140.039292 243.291429 \r\nL 140.390103 243.769634 \r\nL 140.740914 245.007726 \r\nL 141.091725 245.538337 \r\nL 142.144158 243.848243 \r\nL 142.494969 244.319897 \r\nL 142.84578 243.9072 \r\nL 143.196591 244.627783 \r\nL 143.547402 244.542623 \r\nL 144.599835 243.586213 \r\nL 144.950646 243.455198 \r\nL 145.301457 244.025113 \r\nL 145.652268 243.501053 \r\nL 147.055512 244.300245 \r\nL 147.406323 244.916016 \r\nL 147.757134 245.905179 \r\nL 148.107945 244.843957 \r\nL 148.458756 245.191147 \r\nL 149.511189 245.230452 \r\nL 149.862 247.189127 \r\nL 150.212811 248.021073 \r\nL 150.563622 248.315857 \r\nL 150.914433 247.582172 \r\nL 151.966866 246.710922 \r\nL 152.317677 246.78298 \r\nL 152.668488 247.916261 \r\nL 153.019299 248.027623 \r\nL 153.37011 247.483911 \r\nL 154.422543 248.099682 \r\nL 154.773354 247.968667 \r\nL 155.124165 245.859324 \r\nL 155.474976 248.2569 \r\nL 155.825787 248.682699 \r\nL 156.87822 250.575866 \r\nL 157.229031 249.514644 \r\nL 157.579843 249.527746 \r\nL 157.930654 250.064908 \r\nL 158.281465 249.291919 \r\nL 159.333898 249.39018 \r\nL 159.684709 250.16972 \r\nL 160.03552 249.383629 \r\nL 160.386331 249.82253 \r\nL 160.737142 250.051806 \r\nL 161.789575 250.379344 \r\nL 162.140386 249.514644 \r\nL 162.491197 248.990584 \r\nL 162.842008 248.053826 \r\nL 163.192819 248.08658 \r\nL 164.245252 249.049541 \r\nL 164.596063 248.296204 \r\nL 165.297685 247.549418 \r\nL 165.648496 248.263451 \r\nL 167.05174 249.901139 \r\nL 167.402551 249.47534 \r\nL 167.753362 250.615171 \r\nL 168.104173 250.936158 \r\nL 169.156606 250.235227 \r\nL 169.507417 252.370773 \r\nL 169.858228 251.158883 \r\nL 170.209039 250.968911 \r\nL 170.55985 249.789776 \r\nL 171.612283 252.377323 \r\nL 171.963094 250.4383 \r\nL 172.313905 251.139231 \r\nL 173.015527 248.505828 \r\nL 174.06796 248.95128 \r\nL 174.418771 249.671862 \r\nL 174.769582 249.468789 \r\nL 175.120393 247.857304 \r\nL 175.471204 247.870405 \r\nL 176.523637 251.886017 \r\nL 176.874448 249.691515 \r\nL 177.225259 249.134701 \r\nL 177.57607 249.789776 \r\nL 177.926881 249.521195 \r\nL 178.979314 249.901139 \r\nL 179.330125 250.661026 \r\nL 179.680936 250.091111 \r\nL 180.031747 255.574091 \r\nL 180.382558 259.013236 \r\nL 181.434992 252.482135 \r\nL 181.785803 252.862079 \r\nL 182.136614 259.019787 \r\nL 182.487425 254.689739 \r\nL 182.838236 255.554439 \r\nL 183.890669 251.316101 \r\nL 184.24148 253.445096 \r\nL 184.592291 257.663781 \r\nL 184.943102 254.119824 \r\nL 185.293913 254.945219 \r\nL 186.346346 256.740125 \r\nL 186.697157 251.39471 \r\nL 187.047968 251.525725 \r\nL 187.398779 251.283348 \r\nL 187.74959 251.846712 \r\nL 188.802023 251.7419 \r\nL 189.152834 249.796327 \r\nL 189.854456 254.381854 \r\nL 190.205267 251.696045 \r\nL 191.2577 251.65019 \r\nL 191.608511 252.488686 \r\nL 191.959322 254.768348 \r\nL 192.310133 250.798592 \r\nL 192.660944 251.859814 \r\nL 193.713377 252.043235 \r\nL 194.064188 250.235227 \r\nL 194.414999 252.017032 \r\nL 194.76581 255.023828 \r\nL 195.116621 250.556214 \r\nL 196.169054 248.722003 \r\nL 196.519865 249.141251 \r\nL 196.870676 247.444606 \r\nL 197.572298 247.896608 \r\nL 198.624731 251.473319 \r\nL 198.975542 249.449137 \r\nL 199.326353 248.643394 \r\nL 199.677164 250.274532 \r\nL 200.027975 250.071458 \r\nL 201.080408 248.230697 \r\nL 201.431219 249.088845 \r\nL 201.78203 247.942464 \r\nL 202.132841 247.975217 \r\nL 202.483652 247.713187 \r\nL 203.536085 248.014522 \r\nL 203.886896 246.062398 \r\nL 204.237707 247.339794 \r\nL 204.588518 249.82253 \r\nL 204.939329 251.034419 \r\nL 205.991763 251.106477 \r\nL 206.342574 250.988564 \r\nL 207.395007 249.711167 \r\nL 208.44744 249.200208 \r\nL 208.798251 248.853018 \r\nL 209.149062 248.093131 \r\nL 209.850684 246.979503 \r\nL 210.903117 246.986054 \r\nL 211.253928 247.804898 \r\nL 211.604739 249.056092 \r\nL 211.95555 248.545133 \r\nL 212.306361 249.47534 \r\nL 213.358794 250.104212 \r\nL 213.709605 249.259165 \r\nL 214.060416 250.988564 \r\nL 214.762038 249.147802 \r\nL 216.165282 250.26143 \r\nL 216.516093 248.440321 \r\nL 216.866904 249.069193 \r\nL 217.217715 249.187107 \r\nL 218.620959 248.649945 \r\nL 218.97177 248.446872 \r\nL 219.322581 249.82253 \r\nL 219.673392 250.143517 \r\nL 220.725825 250.012502 \r\nL 221.076636 249.141251 \r\nL 221.427447 249.422934 \r\nL 221.778258 248.119334 \r\nL 222.129069 247.529766 \r\nL 223.181502 248.060377 \r\nL 223.532313 250.117314 \r\nL 223.883124 251.073724 \r\nL 224.233935 250.680678 \r\nL 224.584746 251.073724 \r\nL 225.98799 253.111008 \r\nL 226.338801 252.704861 \r\nL 226.689612 252.567295 \r\nL 227.040423 253.137211 \r\nL 228.092856 254.329448 \r\nL 228.443667 252.6066 \r\nL 228.794478 252.632803 \r\nL 229.14529 253.314081 \r\nL 229.496101 255.187596 \r\nL 230.548534 257.028358 \r\nL 230.899345 257.368997 \r\nL 231.250156 256.556704 \r\nL 231.600967 258.685698 \r\nL 231.951778 257.57207 \r\nL 233.004211 257.237982 \r\nL 233.355022 255.502033 \r\nL 233.705833 256.497747 \r\nL 234.056644 255.6527 \r\nL 234.407455 255.619946 \r\nL 235.459888 255.764063 \r\nL 235.810699 254.453912 \r\nL 236.16151 254.408057 \r\nL 236.512321 254.925566 \r\nL 236.863132 256.301224 \r\nL 237.915565 253.56956 \r\nL 238.266376 254.277042 \r\nL 238.967998 253.137211 \r\nL 239.318809 253.9102 \r\nL 240.722053 255.063132 \r\nL 241.423675 253.73988 \r\nL 241.774486 253.628517 \r\nL 242.826919 253.864344 \r\nL 243.17773 254.689739 \r\nL 243.528541 254.539072 \r\nL 243.879352 253.995359 \r\nL 245.633407 255.312061 \r\nL 245.984218 255.04348 \r\nL 246.68584 255.895078 \r\nL 247.738273 256.799082 \r\nL 248.089084 256.216065 \r\nL 248.439895 257.126619 \r\nL 249.141517 256.006441 \r\nL 250.19395 256.281572 \r\nL 250.544761 255.692004 \r\nL 250.895572 254.860059 \r\nL 251.246383 255.947484 \r\nL 251.597194 255.122089 \r\nL 252.649627 255.004175 \r\nL 253.000439 255.344814 \r\nL 253.35125 254.768348 \r\nL 253.702061 254.552173 \r\nL 254.052872 253.405792 \r\nL 255.105305 254.093621 \r\nL 255.456116 253.13066 \r\nL 255.806927 253.779185 \r\nL 256.157738 253.785735 \r\nL 256.508549 254.191882 \r\nL 257.560982 253.327183 \r\nL 257.911793 253.314081 \r\nL 258.613415 254.637333 \r\nL 258.964226 254.362202 \r\nL 260.36747 253.759532 \r\nL 260.718281 254.689739 \r\nL 261.069092 254.113273 \r\nL 261.419903 254.041215 \r\nL 262.472336 252.547643 \r\nL 262.823147 251.833611 \r\nL 263.173958 252.35112 \r\nL 263.524769 251.794306 \r\nL 263.87558 251.800857 \r\nL 265.278824 251.709147 \r\nL 265.629635 251.263695 \r\nL 265.980446 251.13268 \r\nL 267.38369 251.899118 \r\nL 267.734501 252.632803 \r\nL 268.085312 252.757267 \r\nL 268.436123 252.750716 \r\nL 268.786934 252.986543 \r\nL 269.839367 254.355651 \r\nL 270.190178 254.290143 \r\nL 270.540989 254.598029 \r\nL 270.8918 253.713677 \r\nL 271.242611 254.224636 \r\nL 272.295044 253.281327 \r\nL 272.645855 253.694025 \r\nL 272.996666 253.294429 \r\nL 273.347477 254.571826 \r\nL 274.750721 254.814203 \r\nL 275.101532 255.770613 \r\nL 275.803154 256.137456 \r\nL 276.153965 256.661516 \r\nL 277.206399 256.301224 \r\nL 277.55721 255.980237 \r\nL 277.908021 254.604579 \r\nL 278.609643 254.558724 \r\nL 279.662076 254.296694 \r\nL 280.012887 253.346835 \r\nL 280.363698 253.648169 \r\nL 280.714509 252.639353 \r\nL 281.06532 252.220105 \r\nL 282.117753 251.938423 \r\nL 282.468564 252.469034 \r\nL 282.819375 252.750716 \r\nL 283.170186 253.196167 \r\nL 283.520997 253.399241 \r\nL 284.924241 253.268226 \r\nL 285.275052 253.621966 \r\nL 285.976674 253.969156 \r\nL 287.029107 254.146027 \r\nL 287.379918 254.539072 \r\nL 287.730729 253.929852 \r\nL 288.432351 254.493217 \r\nL 289.484784 255.521685 \r\nL 289.835595 255.560989 \r\nL 290.186406 254.617681 \r\nL 290.537217 254.250839 \r\nL 290.888028 253.425444 \r\nL 291.940461 252.567295 \r\nL 292.291272 252.95379 \r\nL 292.642083 252.52144 \r\nL 292.992894 252.835876 \r\nL 293.343705 253.30098 \r\nL 294.396138 253.903649 \r\nL 294.746949 254.362202 \r\nL 295.09776 254.506318 \r\nL 295.448571 254.460463 \r\nL 295.799382 253.883997 \r\nL 297.202626 252.966891 \r\nL 297.553437 253.065152 \r\nL 297.904248 252.966891 \r\nL 298.255059 253.386139 \r\nL 299.307492 253.373038 \r\nL 299.658303 253.694025 \r\nL 300.009114 253.163414 \r\nL 300.359925 253.471299 \r\nL 300.710737 253.379589 \r\nL 301.76317 253.641619 \r\nL 302.113981 253.47785 \r\nL 302.464792 253.995359 \r\nL 303.166414 254.185331 \r\nL 304.218847 253.628517 \r\nL 304.920469 254.237737 \r\nL 305.27128 255.076234 \r\nL 305.622091 255.508583 \r\nL 306.674524 254.879711 \r\nL 307.025335 254.211534 \r\nL 307.376146 254.204983 \r\nL 308.077768 253.831591 \r\nL 309.481012 253.209269 \r\nL 310.182634 251.545378 \r\nL 311.585878 251.119579 \r\nL 311.936689 251.492972 \r\nL 312.2875 251.309551 \r\nL 312.638311 250.60862 \r\nL 312.989122 251.152333 \r\nL 314.041555 251.361957 \r\nL 314.392366 250.313836 \r\nL 314.743177 250.982013 \r\nL 315.093988 250.909955 \r\nL 315.444799 252.331468 \r\nL 316.497232 252.036684 \r\nL 317.198854 252.567295 \r\nL 317.549665 251.813959 \r\nL 317.900476 251.768103 \r\nL 318.952909 251.335754 \r\nL 319.30372 251.486421 \r\nL 319.654531 251.296449 \r\nL 320.005342 251.931872 \r\nL 321.408586 250.34659 \r\nL 321.759397 249.966646 \r\nL 322.110208 249.815979 \r\nL 322.461019 250.209024 \r\nL 322.81183 250.372793 \r\nL 324.565886 249.062642 \r\nL 325.267508 250.071458 \r\nL 326.319941 249.940443 \r\nL 326.670752 249.337774 \r\nL 327.021563 249.488441 \r\nL 327.723185 250.457953 \r\nL 328.775618 250.759287 \r\nL 329.126429 251.270246 \r\nL 329.47724 251.375058 \r\nL 329.828051 251.617436 \r\nL 330.178862 251.348855 \r\nL 331.231295 253.314081 \r\nL 332.283728 254.237737 \r\nL 332.634539 254.244288 \r\nL 334.037783 254.015012 \r\nL 334.388594 254.211534 \r\nL 334.739405 253.962606 \r\nL 336.142649 253.694025 \r\nL 337.195082 254.257389 \r\nL 338.949137 253.484401 \r\nL 339.299948 253.111008 \r\nL 340.00157 253.418893 \r\nL 341.054003 252.934137 \r\nL 341.755625 253.327183 \r\nL 342.106436 253.320632 \r\nL 342.457247 253.680923 \r\nL 343.860491 253.576111 \r\nL 344.562113 255.187596 \r\nL 344.912924 255.56754 \r\nL 346.666979 255.91473 \r\nL 347.368601 256.60911 \r\nL 348.771846 255.023828 \r\nL 349.122657 255.253104 \r\nL 349.473468 256.432239 \r\nL 349.824279 256.379833 \r\nL 350.876712 256.399486 \r\nL 351.227523 255.862324 \r\nL 351.578334 256.08505 \r\nL 351.929145 255.836121 \r\nL 352.279956 256.117803 \r\nL 353.6832 255.181046 \r\nL 354.034011 255.508583 \r\nL 354.384822 255.384119 \r\nL 354.735633 255.443076 \r\nL 355.788066 255.73786 \r\nL 356.138877 256.026093 \r\nL 356.489688 255.639598 \r\nL 356.840499 255.901628 \r\nL 357.19131 255.986788 \r\nL 358.594554 255.678903 \r\nL 359.296176 255.73786 \r\nL 359.646987 255.063132 \r\nL 360.69942 255.056581 \r\nL 361.751853 254.591478 \r\nL 362.102664 254.853508 \r\nL 363.155097 255.167944 \r\nL 363.505908 254.997625 \r\nL 363.856719 254.499767 \r\nL 364.20753 254.480115 \r\nL 364.558341 254.702841 \r\nL 365.961585 254.761797 \r\nL 366.312396 255.04348 \r\nL 366.663207 255.167944 \r\nL 368.066451 254.539072 \r\nL 368.768073 254.742145 \r\nL 369.118884 254.342549 \r\nL 370.522128 253.975707 \r\nL 370.872939 254.159128 \r\nL 371.22375 254.512869 \r\nL 371.574561 254.185331 \r\nL 371.925373 253.615416 \r\nL 373.679428 253.713677 \r\nL 374.38105 254.139476 \r\nL 375.433483 253.949504 \r\nL 375.784294 253.484401 \r\nL 376.135105 253.517154 \r\nL 376.485916 253.73988 \r\nL 376.836727 253.314081 \r\nL 377.88916 253.281327 \r\nL 378.239971 253.923301 \r\nL 378.590782 253.346835 \r\nL 378.941593 253.680923 \r\nL 379.292404 254.244288 \r\nL 380.344837 254.198433 \r\nL 380.695648 255.063132 \r\nL 381.046459 255.253104 \r\nL 381.39727 256.687719 \r\nL 381.748081 256.805632 \r\nL 382.800514 255.842672 \r\nL 383.151325 256.052296 \r\nL 383.502136 255.770613 \r\nL 383.852947 255.875425 \r\nL 384.203758 256.602559 \r\nL 385.256191 256.812183 \r\nL 385.957813 257.329693 \r\nL 386.308624 258.679148 \r\nL 386.659435 258.325407 \r\nL 387.711868 258.764307 \r\nL 388.41349 259.321121 \r\nL 388.764301 257.958565 \r\nL 389.115112 258.593988 \r\nL 390.518356 259.360426 \r\nL 390.869167 258.397465 \r\nL 391.219978 257.893057 \r\nL 391.570789 259.183556 \r\nL 392.623222 259.327672 \r\nL 392.974033 258.096131 \r\nL 393.324844 258.86912 \r\nL 393.675655 257.683433 \r\nL 394.026466 257.703086 \r\nL 395.078899 258.017522 \r\nL 395.42971 257.290388 \r\nL 396.131333 257.231431 \r\nL 396.482144 256.916995 \r\nL 397.534577 256.897343 \r\nL 398.236199 258.187841 \r\nL 398.937821 259.458687 \r\nL 399.990254 259.858283 \r\nL 400.341065 260.605069 \r\nL 400.691876 260.749186 \r\nL 401.042687 261.037419 \r\nL 401.393498 261.063622 \r\nL 402.796742 260.500257 \r\nL 403.147553 259.884486 \r\nL 403.498364 259.642108 \r\nL 403.849175 259.661761 \r\nL 404.901608 259.556949 \r\nL 405.252419 259.255614 \r\nL 405.954041 259.347325 \r\nL 406.304852 260.17927 \r\nL 407.357285 259.884486 \r\nL 407.708096 259.550398 \r\nL 408.058907 260.048255 \r\nL 408.409718 259.281817 \r\nL 408.760529 259.065642 \r\nL 409.812962 258.639843 \r\nL 410.163773 258.371262 \r\nL 410.514584 258.305755 \r\nL 411.216206 259.091845 \r\nL 412.61945 257.159373 \r\nL 413.321072 257.165924 \r\nL 413.671883 257.637578 \r\nL 414.724316 257.329693 \r\nL 415.075127 257.65723 \r\nL 415.425938 258.364712 \r\nL 416.12756 258.672597 \r\nL 417.179993 258.692249 \r\nL 417.530804 258.08958 \r\nL 418.583237 259.321121 \r\nL 419.635671 258.934627 \r\nL 419.986482 259.288368 \r\nL 420.337293 259.30802 \r\nL 420.688104 259.583152 \r\nL 421.038915 258.738104 \r\nL 422.091348 259.255614 \r\nL 422.442159 259.183556 \r\nL 422.79297 258.030623 \r\nL 423.494592 257.768593 \r\nL 424.897836 258.2599 \r\nL 425.950269 257.847202 \r\nL 428.405946 258.115783 \r\nL 429.458379 257.624476 \r\nL 430.160001 257.683433 \r\nL 430.510812 257.879956 \r\nL 430.861623 257.493461 \r\nL 431.914056 257.519664 \r\nL 432.264867 257.296939 \r\nL 432.615678 257.598273 \r\nL 432.966489 257.467258 \r\nL 433.3173 256.989053 \r\nL 434.369733 257.211779 \r\nL 435.071355 256.0916 \r\nL 435.422166 256.150557 \r\nL 435.772977 255.809918 \r\nL 437.176221 255.606845 \r\nL 437.877843 255.22035 \r\nL 438.228654 255.292408 \r\nL 439.281087 254.598029 \r\nL 439.631898 255.338264 \r\nL 439.982709 254.768348 \r\nL 440.33352 254.571826 \r\nL 440.684331 254.558724 \r\nL 441.736764 254.650435 \r\nL 442.087575 254.43426 \r\nL 442.438386 254.984523 \r\nL 442.789197 254.637333 \r\nL 443.140008 254.460463 \r\nL 444.192442 254.165679 \r\nL 444.543253 253.595763 \r\nL 444.894064 253.517154 \r\nL 445.244875 252.61315 \r\nL 445.595686 252.213555 \r\nL 446.648119 252.010481 \r\nL 447.349741 251.204739 \r\nL 447.700552 250.759287 \r\nL 448.051363 251.296449 \r\nL 449.103796 251.623987 \r\nL 449.454607 252.619701 \r\nL 449.805418 252.573846 \r\nL 450.156229 251.73535 \r\nL 450.50704 251.584682 \r\nL 451.559473 251.813959 \r\nL 451.910284 252.593498 \r\nL 452.261095 252.010481 \r\nL 452.962717 252.429729 \r\nL 454.365961 252.220105 \r\nL 454.716772 251.080274 \r\nL 455.067583 250.982013 \r\nL 455.418394 251.165434 \r\nL 456.821638 250.995114 \r\nL 457.172449 250.746186 \r\nL 457.874071 250.530011 \r\nL 458.926504 250.412097 \r\nL 459.628126 250.746186 \r\nL 459.978937 250.503808 \r\nL 460.329748 250.536562 \r\nL 461.382181 250.503808 \r\nL 461.732992 250.182821 \r\nL 462.083803 250.130415 \r\nL 462.434614 249.874936 \r\nL 463.837858 249.9994 \r\nL 464.188669 249.730819 \r\nL 465.241102 249.927342 \r\nL 466.644346 248.78096 \r\nL 466.995157 248.911975 \r\nL 467.69678 248.335509 \r\nL 468.749213 248.630293 \r\nL 469.100024 248.270001 \r\nL 469.450835 247.700086 \r\nL 469.801646 247.614926 \r\nL 470.152457 246.887792 \r\nL 471.555701 246.324428 \r\nL 472.257323 246.946749 \r\nL 472.608134 246.154108 \r\nL 473.660567 246.403037 \r\nL 474.011378 246.34408 \r\nL 474.362189 245.715208 \r\nL 474.713 245.577642 \r\nL 475.063811 246.147557 \r\nL 476.116244 245.060132 \r\nL 476.467055 242.983544 \r\nL 476.817866 243.304531 \r\nL 477.168677 243.284878 \r\nL 477.519488 243.38314 \r\nL 478.571921 242.970442 \r\nL 479.273543 243.573111 \r\nL 479.624354 243.153863 \r\nL 479.975165 243.402792 \r\nL 481.027598 242.046786 \r\nL 481.378409 243.304531 \r\nL 481.72922 242.839427 \r\nL 482.080031 242.714963 \r\nL 482.430842 242.315367 \r\nL 483.834086 241.706147 \r\nL 484.184897 240.651476 \r\nL 484.535708 241.365508 \r\nL 484.886519 241.771654 \r\nL 485.938952 241.64719 \r\nL 486.289763 242.118844 \r\nL 486.640574 241.935423 \r\nL 486.991385 241.457218 \r\nL 487.342196 241.935423 \r\nL 489.096251 242.393976 \r\nL 489.447062 244.332999 \r\nL 489.797873 243.854794 \r\nL 490.850306 243.684474 \r\nL 491.201118 244.326448 \r\nL 491.551929 245.669352 \r\nL 491.90274 244.477115 \r\nL 492.253551 244.673638 \r\nL 493.305984 243.38969 \r\nL 493.656795 243.566561 \r\nL 494.358417 243.461749 \r\nL 494.709228 242.885282 \r\nL 496.112472 243.121109 \r\nL 496.463283 242.321918 \r\nL 496.814094 242.551194 \r\nL 497.164905 242.197453 \r\nL 498.217338 242.072989 \r\nL 498.568149 241.719248 \r\nL 498.91896 241.876466 \r\nL 499.269771 241.496523 \r\nL 499.620582 241.378609 \r\nL 500.673015 241.889568 \r\nL 501.023826 243.166965 \r\nL 501.374637 243.180066 \r\nL 501.725448 242.996645 \r\nL 502.076259 242.452933 \r\nL 503.128692 243.219371 \r\nL 503.479503 242.767369 \r\nL 503.830314 241.568581 \r\nL 504.181125 241.110028 \r\nL 505.584369 241.201739 \r\nL 505.93518 240.422199 \r\nL 506.285991 240.192923 \r\nL 506.636802 240.474605 \r\nL 506.987613 240.061908 \r\nL 508.040046 240.716983 \r\nL 508.390857 241.588233 \r\nL 508.741668 242.112293 \r\nL 509.092479 243.527256 \r\nL 509.44329 243.487952 \r\nL 510.846534 243.062153 \r\nL 511.197345 244.201984 \r\nL 511.898967 244.365753 \r\nL 512.9514 244.77845 \r\nL 513.302211 244.667087 \r\nL 513.653022 243.802388 \r\nL 514.003833 243.415893 \r\nL 514.354644 243.913751 \r\nL 515.407078 244.496768 \r\nL 516.459511 243.376589 \r\nL 518.213566 242.675658 \r\nL 518.564377 243.612416 \r\nL 518.915188 244.064418 \r\nL 519.265999 244.162679 \r\nL 520.669243 244.929117 \r\nL 521.020054 244.437811 \r\nL 521.370865 244.162679 \r\nL 521.721676 245.073234 \r\nL 522.774109 245.433525 \r\nL 523.12492 244.686739 \r\nL 523.475731 245.806918 \r\nL 523.826542 245.440076 \r\nL 524.177353 245.571091 \r\nL 525.229786 245.119089 \r\nL 525.580597 244.562275 \r\nL 525.931408 245.047031 \r\nL 526.63303 247.025358 \r\nL 527.685463 246.285123 \r\nL 528.036274 245.171495 \r\nL 528.387085 244.771899 \r\nL 528.737896 244.031664 \r\nL 529.088707 243.625517 \r\nL 530.842762 243.913751 \r\nL 531.193573 243.396241 \r\nL 531.544384 243.356937 \r\nL 532.947628 243.704126 \r\nL 533.298439 243.317632 \r\nL 533.64925 243.47485 \r\nL 534.000061 242.976993 \r\nL 535.052494 243.206269 \r\nL 535.403305 242.570846 \r\nL 535.754116 242.787021 \r\nL 536.104927 241.666842 \r\nL 536.455738 241.535827 \r\nL 537.858982 242.08609 \r\nL 538.209793 242.78047 \r\nL 538.911416 245.066683 \r\nL 539.963849 245.191147 \r\nL 540.31466 246.337529 \r\nL 540.665471 246.416138 \r\nL 541.016282 248.938178 \r\nL 541.367093 248.302755 \r\nL 542.419526 251.316101 \r\nL 542.770337 250.372793 \r\nL 543.121148 252.429729 \r\nL 543.471959 250.104212 \r\nL 543.82277 249.82908 \r\nL 544.875203 248.328958 \r\nL 545.226014 248.846468 \r\nL 545.576825 248.414118 \r\nL 545.927636 250.52346 \r\nL 546.278447 251.270246 \r\nL 547.33088 251.021318 \r\nL 547.681691 248.741655 \r\nL 548.032502 248.820265 \r\nL 548.383313 249.979748 \r\nL 548.734124 249.409832 \r\nL 549.786557 248.440321 \r\nL 550.137368 248.577887 \r\nL 550.488179 248.505828 \r\nL 550.83899 248.853018 \r\nL 551.189801 249.73737 \r\nL 552.593045 250.385894 \r\nL 552.943856 248.748206 \r\nL 553.294667 249.291919 \r\nL 553.645478 250.477605 \r\nL 554.697911 249.933893 \r\nL 555.048722 250.058357 \r\nL 555.399533 249.409832 \r\nL 555.750344 248.512379 \r\nL 556.101155 248.158638 \r\nL 557.153588 248.715452 \r\nL 557.504399 248.512379 \r\nL 557.85521 249.848733 \r\nL 558.206021 251.637088 \r\nL 558.556832 251.591233 \r\nL 559.609265 250.012502 \r\nL 559.960076 249.232962 \r\nL 560.310887 249.783225 \r\nL 560.661698 248.597539 \r\nL 561.012509 249.416383 \r\nL 562.064942 250.385894 \r\nL 562.415753 249.285368 \r\nL 562.766565 248.551684 \r\nL 563.117376 248.590988 \r\nL 563.468187 248.807163 \r\nL 564.52062 247.025358 \r\nL 564.871431 247.031909 \r\nL 565.222242 246.448892 \r\nL 565.573053 246.966401 \r\nL 565.923864 245.82657 \r\nL 565.923864 245.82657 \r\n\" style=\"fill:none;stroke:#d62728;stroke-linecap:square;stroke-width:1.5;\"/>\r\n   </g>\r\n   <g id=\"patch_3\">\r\n    <path d=\"M 33.2875 300.96 \r\nL 33.2875 7.2 \r\n\" style=\"fill:none;stroke:#000000;stroke-linecap:square;stroke-linejoin:miter;stroke-width:0.8;\"/>\r\n   </g>\r\n   <g id=\"patch_4\">\r\n    <path d=\"M 591.2875 300.96 \r\nL 591.2875 7.2 \r\n\" style=\"fill:none;stroke:#000000;stroke-linecap:square;stroke-linejoin:miter;stroke-width:0.8;\"/>\r\n   </g>\r\n   <g id=\"patch_5\">\r\n    <path d=\"M 33.2875 300.96 \r\nL 591.2875 300.96 \r\n\" style=\"fill:none;stroke:#000000;stroke-linecap:square;stroke-linejoin:miter;stroke-width:0.8;\"/>\r\n   </g>\r\n   <g id=\"patch_6\">\r\n    <path d=\"M 33.2875 7.2 \r\nL 591.2875 7.2 \r\n\" style=\"fill:none;stroke:#000000;stroke-linecap:square;stroke-linejoin:miter;stroke-width:0.8;\"/>\r\n   </g>\r\n   <g id=\"legend_1\">\r\n    <g id=\"patch_7\">\r\n     <path d=\"M 40.2875 73.9125 \r\nL 98.948438 73.9125 \r\nQ 100.948438 73.9125 100.948438 71.9125 \r\nL 100.948438 14.2 \r\nQ 100.948438 12.2 98.948438 12.2 \r\nL 40.2875 12.2 \r\nQ 38.2875 12.2 38.2875 14.2 \r\nL 38.2875 71.9125 \r\nQ 38.2875 73.9125 40.2875 73.9125 \r\nz\r\n\" style=\"fill:#ffffff;opacity:0.8;stroke:#cccccc;stroke-linejoin:miter;\"/>\r\n    </g>\r\n    <g id=\"line2d_22\">\r\n     <path d=\"M 42.2875 20.298437 \r\nL 62.2875 20.298437 \r\n\" style=\"fill:none;stroke:#1f77b4;stroke-linecap:square;stroke-width:1.5;\"/>\r\n    </g>\r\n    <g id=\"line2d_23\"/>\r\n    <g id=\"text_18\">\r\n     <!-- AAPL -->\r\n     <g transform=\"translate(70.2875 23.798437)scale(0.1 -0.1)\">\r\n      <defs>\r\n       <path d=\"M 34.1875 63.1875 \r\nL 20.796875 26.90625 \r\nL 47.609375 26.90625 \r\nz\r\nM 28.609375 72.90625 \r\nL 39.796875 72.90625 \r\nL 67.578125 0 \r\nL 57.328125 0 \r\nL 50.6875 18.703125 \r\nL 17.828125 18.703125 \r\nL 11.1875 0 \r\nL 0.78125 0 \r\nz\r\n\" id=\"DejaVuSans-65\"/>\r\n       <path d=\"M 19.671875 64.796875 \r\nL 19.671875 37.40625 \r\nL 32.078125 37.40625 \r\nQ 38.96875 37.40625 42.71875 40.96875 \r\nQ 46.484375 44.53125 46.484375 51.125 \r\nQ 46.484375 57.671875 42.71875 61.234375 \r\nQ 38.96875 64.796875 32.078125 64.796875 \r\nz\r\nM 9.8125 72.90625 \r\nL 32.078125 72.90625 \r\nQ 44.34375 72.90625 50.609375 67.359375 \r\nQ 56.890625 61.8125 56.890625 51.125 \r\nQ 56.890625 40.328125 50.609375 34.8125 \r\nQ 44.34375 29.296875 32.078125 29.296875 \r\nL 19.671875 29.296875 \r\nL 19.671875 0 \r\nL 9.8125 0 \r\nz\r\n\" id=\"DejaVuSans-80\"/>\r\n       <path d=\"M 9.8125 72.90625 \r\nL 19.671875 72.90625 \r\nL 19.671875 8.296875 \r\nL 55.171875 8.296875 \r\nL 55.171875 0 \r\nL 9.8125 0 \r\nz\r\n\" id=\"DejaVuSans-76\"/>\r\n      </defs>\r\n      <use xlink:href=\"#DejaVuSans-65\"/>\r\n      <use x=\"71.158203\" xlink:href=\"#DejaVuSans-65\"/>\r\n      <use x=\"139.566406\" xlink:href=\"#DejaVuSans-80\"/>\r\n      <use x=\"199.869141\" xlink:href=\"#DejaVuSans-76\"/>\r\n     </g>\r\n    </g>\r\n    <g id=\"line2d_24\">\r\n     <path d=\"M 42.2875 34.976562 \r\nL 62.2875 34.976562 \r\n\" style=\"fill:none;stroke:#ff7f0e;stroke-linecap:square;stroke-width:1.5;\"/>\r\n    </g>\r\n    <g id=\"line2d_25\"/>\r\n    <g id=\"text_19\">\r\n     <!-- IBM -->\r\n     <g transform=\"translate(70.2875 38.476562)scale(0.1 -0.1)\">\r\n      <defs>\r\n       <path d=\"M 9.8125 72.90625 \r\nL 19.671875 72.90625 \r\nL 19.671875 0 \r\nL 9.8125 0 \r\nz\r\n\" id=\"DejaVuSans-73\"/>\r\n       <path d=\"M 19.671875 34.8125 \r\nL 19.671875 8.109375 \r\nL 35.5 8.109375 \r\nQ 43.453125 8.109375 47.28125 11.40625 \r\nQ 51.125 14.703125 51.125 21.484375 \r\nQ 51.125 28.328125 47.28125 31.5625 \r\nQ 43.453125 34.8125 35.5 34.8125 \r\nz\r\nM 19.671875 64.796875 \r\nL 19.671875 42.828125 \r\nL 34.28125 42.828125 \r\nQ 41.5 42.828125 45.03125 45.53125 \r\nQ 48.578125 48.25 48.578125 53.8125 \r\nQ 48.578125 59.328125 45.03125 62.0625 \r\nQ 41.5 64.796875 34.28125 64.796875 \r\nz\r\nM 9.8125 72.90625 \r\nL 35.015625 72.90625 \r\nQ 46.296875 72.90625 52.390625 68.21875 \r\nQ 58.5 63.53125 58.5 54.890625 \r\nQ 58.5 48.1875 55.375 44.234375 \r\nQ 52.25 40.28125 46.1875 39.3125 \r\nQ 53.46875 37.75 57.5 32.78125 \r\nQ 61.53125 27.828125 61.53125 20.40625 \r\nQ 61.53125 10.640625 54.890625 5.3125 \r\nQ 48.25 0 35.984375 0 \r\nL 9.8125 0 \r\nz\r\n\" id=\"DejaVuSans-66\"/>\r\n       <path d=\"M 9.8125 72.90625 \r\nL 24.515625 72.90625 \r\nL 43.109375 23.296875 \r\nL 61.8125 72.90625 \r\nL 76.515625 72.90625 \r\nL 76.515625 0 \r\nL 66.890625 0 \r\nL 66.890625 64.015625 \r\nL 48.09375 14.015625 \r\nL 38.1875 14.015625 \r\nL 19.390625 64.015625 \r\nL 19.390625 0 \r\nL 9.8125 0 \r\nz\r\n\" id=\"DejaVuSans-77\"/>\r\n      </defs>\r\n      <use xlink:href=\"#DejaVuSans-73\"/>\r\n      <use x=\"29.492188\" xlink:href=\"#DejaVuSans-66\"/>\r\n      <use x=\"98.095703\" xlink:href=\"#DejaVuSans-77\"/>\r\n     </g>\r\n    </g>\r\n    <g id=\"line2d_26\">\r\n     <path d=\"M 42.2875 49.654687 \r\nL 62.2875 49.654687 \r\n\" style=\"fill:none;stroke:#2ca02c;stroke-linecap:square;stroke-width:1.5;\"/>\r\n    </g>\r\n    <g id=\"line2d_27\"/>\r\n    <g id=\"text_20\">\r\n     <!-- MSFT -->\r\n     <g transform=\"translate(70.2875 53.154687)scale(0.1 -0.1)\">\r\n      <defs>\r\n       <path d=\"M 53.515625 70.515625 \r\nL 53.515625 60.890625 \r\nQ 47.90625 63.578125 42.921875 64.890625 \r\nQ 37.9375 66.21875 33.296875 66.21875 \r\nQ 25.25 66.21875 20.875 63.09375 \r\nQ 16.5 59.96875 16.5 54.203125 \r\nQ 16.5 49.359375 19.40625 46.890625 \r\nQ 22.3125 44.4375 30.421875 42.921875 \r\nL 36.375 41.703125 \r\nQ 47.40625 39.59375 52.65625 34.296875 \r\nQ 57.90625 29 57.90625 20.125 \r\nQ 57.90625 9.515625 50.796875 4.046875 \r\nQ 43.703125 -1.421875 29.984375 -1.421875 \r\nQ 24.8125 -1.421875 18.96875 -0.25 \r\nQ 13.140625 0.921875 6.890625 3.21875 \r\nL 6.890625 13.375 \r\nQ 12.890625 10.015625 18.65625 8.296875 \r\nQ 24.421875 6.59375 29.984375 6.59375 \r\nQ 38.421875 6.59375 43.015625 9.90625 \r\nQ 47.609375 13.234375 47.609375 19.390625 \r\nQ 47.609375 24.75 44.3125 27.78125 \r\nQ 41.015625 30.8125 33.5 32.328125 \r\nL 27.484375 33.5 \r\nQ 16.453125 35.6875 11.515625 40.375 \r\nQ 6.59375 45.0625 6.59375 53.421875 \r\nQ 6.59375 63.09375 13.40625 68.65625 \r\nQ 20.21875 74.21875 32.171875 74.21875 \r\nQ 37.3125 74.21875 42.625 73.28125 \r\nQ 47.953125 72.359375 53.515625 70.515625 \r\nz\r\n\" id=\"DejaVuSans-83\"/>\r\n       <path d=\"M 9.8125 72.90625 \r\nL 51.703125 72.90625 \r\nL 51.703125 64.59375 \r\nL 19.671875 64.59375 \r\nL 19.671875 43.109375 \r\nL 48.578125 43.109375 \r\nL 48.578125 34.8125 \r\nL 19.671875 34.8125 \r\nL 19.671875 0 \r\nL 9.8125 0 \r\nz\r\n\" id=\"DejaVuSans-70\"/>\r\n       <path d=\"M -0.296875 72.90625 \r\nL 61.375 72.90625 \r\nL 61.375 64.59375 \r\nL 35.5 64.59375 \r\nL 35.5 0 \r\nL 25.59375 0 \r\nL 25.59375 64.59375 \r\nL -0.296875 64.59375 \r\nz\r\n\" id=\"DejaVuSans-84\"/>\r\n      </defs>\r\n      <use xlink:href=\"#DejaVuSans-77\"/>\r\n      <use x=\"86.279297\" xlink:href=\"#DejaVuSans-83\"/>\r\n      <use x=\"149.755859\" xlink:href=\"#DejaVuSans-70\"/>\r\n      <use x=\"205.525391\" xlink:href=\"#DejaVuSans-84\"/>\r\n     </g>\r\n    </g>\r\n    <g id=\"line2d_28\">\r\n     <path d=\"M 42.2875 64.332812 \r\nL 62.2875 64.332812 \r\n\" style=\"fill:none;stroke:#d62728;stroke-linecap:square;stroke-width:1.5;\"/>\r\n    </g>\r\n    <g id=\"line2d_29\"/>\r\n    <g id=\"text_21\">\r\n     <!-- XOM -->\r\n     <g transform=\"translate(70.2875 67.832812)scale(0.1 -0.1)\">\r\n      <defs>\r\n       <path d=\"M 6.296875 72.90625 \r\nL 16.890625 72.90625 \r\nL 35.015625 45.796875 \r\nL 53.21875 72.90625 \r\nL 63.8125 72.90625 \r\nL 40.375 37.890625 \r\nL 65.375 0 \r\nL 54.78125 0 \r\nL 34.28125 31 \r\nL 13.625 0 \r\nL 2.984375 0 \r\nL 29 38.921875 \r\nz\r\n\" id=\"DejaVuSans-88\"/>\r\n       <path d=\"M 39.40625 66.21875 \r\nQ 28.65625 66.21875 22.328125 58.203125 \r\nQ 16.015625 50.203125 16.015625 36.375 \r\nQ 16.015625 22.609375 22.328125 14.59375 \r\nQ 28.65625 6.59375 39.40625 6.59375 \r\nQ 50.140625 6.59375 56.421875 14.59375 \r\nQ 62.703125 22.609375 62.703125 36.375 \r\nQ 62.703125 50.203125 56.421875 58.203125 \r\nQ 50.140625 66.21875 39.40625 66.21875 \r\nz\r\nM 39.40625 74.21875 \r\nQ 54.734375 74.21875 63.90625 63.9375 \r\nQ 73.09375 53.65625 73.09375 36.375 \r\nQ 73.09375 19.140625 63.90625 8.859375 \r\nQ 54.734375 -1.421875 39.40625 -1.421875 \r\nQ 24.03125 -1.421875 14.8125 8.828125 \r\nQ 5.609375 19.09375 5.609375 36.375 \r\nQ 5.609375 53.65625 14.8125 63.9375 \r\nQ 24.03125 74.21875 39.40625 74.21875 \r\nz\r\n\" id=\"DejaVuSans-79\"/>\r\n      </defs>\r\n      <use xlink:href=\"#DejaVuSans-88\"/>\r\n      <use x=\"62.130859\" xlink:href=\"#DejaVuSans-79\"/>\r\n      <use x=\"140.841797\" xlink:href=\"#DejaVuSans-77\"/>\r\n     </g>\r\n    </g>\r\n   </g>\r\n  </g>\r\n </g>\r\n <defs>\r\n  <clipPath id=\"p65a90bdc96\">\r\n   <rect height=\"293.76\" width=\"558\" x=\"33.2875\" y=\"7.2\"/>\r\n  </clipPath>\r\n </defs>\r\n</svg>\r\n",
      "image/png": "[encoded data removed]"
     },
     "metadata": {
      "needs_background": "light"
     }
    }
   ],
   "source": [
    "close_px[['AAPL', 'IBM', 'MSFT', 'XOM']].plot() "
   ]
  },
  {
   "cell_type": "code",
   "execution_count": 94,
   "metadata": {},
   "outputs": [
    {
     "output_type": "execute_result",
     "data": {
      "text/plain": [
       "AA        10.26\n",
       "AAPL     422.00\n",
       "GE        16.60\n",
       "IBM      190.53\n",
       "JNJ       64.72\n",
       "MSFT      27.27\n",
       "PEP       62.24\n",
       "SPX     1224.58\n",
       "XOM       78.11\n",
       "Name: 2011-10-14 00:00:00, dtype: float64"
      ]
     },
     "metadata": {},
     "execution_count": 94
    }
   ],
   "source": [
    "close_px.iloc[-1]    # the last row of the data"
   ]
  },
  {
   "cell_type": "code",
   "execution_count": null,
   "metadata": {},
   "outputs": [],
   "source": []
  },
  {
   "cell_type": "code",
   "execution_count": 98,
   "metadata": {},
   "outputs": [
    {
     "output_type": "execute_result",
     "data": {
      "text/plain": [
       "Text(0.5, 1.0, 'Prices on 2011-10-14 00:00:00')"
      ]
     },
     "metadata": {},
     "execution_count": 98
    },
    {
     "output_type": "display_data",
     "data": {
      "text/plain": "<Figure size 720x432 with 1 Axes>",
      "image/svg+xml": "<?xml version=\"1.0\" encoding=\"utf-8\" standalone=\"no\"?>\r\n<!DOCTYPE svg PUBLIC \"-//W3C//DTD SVG 1.1//EN\"\r\n  \"http://www.w3.org/Graphics/SVG/1.1/DTD/svg11.dtd\">\r\n<!-- Created with matplotlib (https://matplotlib.org/) -->\r\n<svg height=\"389.339062pt\" version=\"1.1\" viewBox=\"0 0 604.85 389.339062\" width=\"604.85pt\" xmlns=\"http://www.w3.org/2000/svg\" xmlns:xlink=\"http://www.w3.org/1999/xlink\">\r\n <metadata>\r\n  <rdf:RDF xmlns:cc=\"http://creativecommons.org/ns#\" xmlns:dc=\"http://purl.org/dc/elements/1.1/\" xmlns:rdf=\"http://www.w3.org/1999/02/22-rdf-syntax-ns#\">\r\n   <cc:Work>\r\n    <dc:type rdf:resource=\"http://purl.org/dc/dcmitype/StillImage\"/>\r\n    <dc:date>2021-06-12T13:41:01.707795</dc:date>\r\n    <dc:format>image/svg+xml</dc:format>\r\n    <dc:creator>\r\n     <cc:Agent>\r\n      <dc:title>Matplotlib v3.3.4, https://matplotlib.org/</dc:title>\r\n     </cc:Agent>\r\n    </dc:creator>\r\n   </cc:Work>\r\n  </rdf:RDF>\r\n </metadata>\r\n <defs>\r\n  <style type=\"text/css\">*{stroke-linecap:butt;stroke-linejoin:round;}</style>\r\n </defs>\r\n <g id=\"figure_1\">\r\n  <g id=\"patch_1\">\r\n   <path d=\"M 0 389.339062 \r\nL 604.85 389.339062 \r\nL 604.85 0 \r\nL 0 0 \r\nz\r\n\" style=\"fill:none;\"/>\r\n  </g>\r\n  <g id=\"axes_1\">\r\n   <g id=\"patch_2\">\r\n    <path d=\"M 39.65 348.478125 \r\nL 597.65 348.478125 \r\nL 597.65 22.318125 \r\nL 39.65 22.318125 \r\nz\r\n\" style=\"fill:#ffffff;\"/>\r\n   </g>\r\n   <g id=\"patch_3\">\r\n    <path clip-path=\"url(#p0b11b44a26)\" d=\"M 55.15 348.478125 \r\nL 86.15 348.478125 \r\nL 86.15 345.87556 \r\nL 55.15 345.87556 \r\nz\r\n\" style=\"fill:#1f77b4;\"/>\r\n   </g>\r\n   <g id=\"patch_4\">\r\n    <path clip-path=\"url(#p0b11b44a26)\" d=\"M 117.15 348.478125 \r\nL 148.15 348.478125 \r\nL 148.15 241.433051 \r\nL 117.15 241.433051 \r\nz\r\n\" style=\"fill:#1f77b4;\"/>\r\n   </g>\r\n   <g id=\"patch_5\">\r\n    <path clip-path=\"url(#p0b11b44a26)\" d=\"M 179.15 348.478125 \r\nL 210.15 348.478125 \r\nL 210.15 344.267347 \r\nL 179.15 344.267347 \r\nz\r\n\" style=\"fill:#1f77b4;\"/>\r\n   </g>\r\n   <g id=\"patch_6\">\r\n    <path clip-path=\"url(#p0b11b44a26)\" d=\"M 241.15 348.478125 \r\nL 272.15 348.478125 \r\nL 272.15 300.148035 \r\nL 241.15 300.148035 \r\nz\r\n\" style=\"fill:#1f77b4;\"/>\r\n   </g>\r\n   <g id=\"patch_7\">\r\n    <path clip-path=\"url(#p0b11b44a26)\" d=\"M 303.15 348.478125 \r\nL 334.15 348.478125 \r\nL 334.15 332.061165 \r\nL 303.15 332.061165 \r\nz\r\n\" style=\"fill:#1f77b4;\"/>\r\n   </g>\r\n   <g id=\"patch_8\">\r\n    <path clip-path=\"url(#p0b11b44a26)\" d=\"M 365.15 348.478125 \r\nL 396.15 348.478125 \r\nL 396.15 341.560781 \r\nL 365.15 341.560781 \r\nz\r\n\" style=\"fill:#1f77b4;\"/>\r\n   </g>\r\n   <g id=\"patch_9\">\r\n    <path clip-path=\"url(#p0b11b44a26)\" d=\"M 427.15 348.478125 \r\nL 458.15 348.478125 \r\nL 458.15 332.690245 \r\nL 427.15 332.690245 \r\nz\r\n\" style=\"fill:#1f77b4;\"/>\r\n   </g>\r\n   <g id=\"patch_10\">\r\n    <path clip-path=\"url(#p0b11b44a26)\" d=\"M 489.15 348.478125 \r\nL 520.15 348.478125 \r\nL 520.15 37.849554 \r\nL 489.15 37.849554 \r\nz\r\n\" style=\"fill:#1f77b4;\"/>\r\n   </g>\r\n   <g id=\"patch_11\">\r\n    <path clip-path=\"url(#p0b11b44a26)\" d=\"M 551.15 348.478125 \r\nL 582.15 348.478125 \r\nL 582.15 328.66464 \r\nL 551.15 328.66464 \r\nz\r\n\" style=\"fill:#1f77b4;\"/>\r\n   </g>\r\n   <g id=\"matplotlib.axis_1\">\r\n    <g id=\"xtick_1\">\r\n     <g id=\"line2d_1\">\r\n      <defs>\r\n       <path d=\"M 0 0 \r\nL 0 3.5 \r\n\" id=\"m02ba3ab2a2\" style=\"stroke:#000000;stroke-width:0.8;\"/>\r\n      </defs>\r\n      <g>\r\n       <use style=\"stroke:#000000;stroke-width:0.8;\" x=\"70.65\" xlink:href=\"#m02ba3ab2a2\" y=\"348.478125\"/>\r\n      </g>\r\n     </g>\r\n     <g id=\"text_1\">\r\n      <!-- AA -->\r\n      <g transform=\"translate(73.409375 369.434375)rotate(-90)scale(0.1 -0.1)\">\r\n       <defs>\r\n        <path d=\"M 34.1875 63.1875 \r\nL 20.796875 26.90625 \r\nL 47.609375 26.90625 \r\nz\r\nM 28.609375 72.90625 \r\nL 39.796875 72.90625 \r\nL 67.578125 0 \r\nL 57.328125 0 \r\nL 50.6875 18.703125 \r\nL 17.828125 18.703125 \r\nL 11.1875 0 \r\nL 0.78125 0 \r\nz\r\n\" id=\"DejaVuSans-65\"/>\r\n       </defs>\r\n       <use xlink:href=\"#DejaVuSans-65\"/>\r\n       <use x=\"71.158203\" xlink:href=\"#DejaVuSans-65\"/>\r\n      </g>\r\n     </g>\r\n    </g>\r\n    <g id=\"xtick_2\">\r\n     <g id=\"line2d_2\">\r\n      <g>\r\n       <use style=\"stroke:#000000;stroke-width:0.8;\" x=\"132.65\" xlink:href=\"#m02ba3ab2a2\" y=\"348.478125\"/>\r\n      </g>\r\n     </g>\r\n     <g id=\"text_2\">\r\n      <!-- AAPL -->\r\n      <g transform=\"translate(135.409375 381.035937)rotate(-90)scale(0.1 -0.1)\">\r\n       <defs>\r\n        <path d=\"M 19.671875 64.796875 \r\nL 19.671875 37.40625 \r\nL 32.078125 37.40625 \r\nQ 38.96875 37.40625 42.71875 40.96875 \r\nQ 46.484375 44.53125 46.484375 51.125 \r\nQ 46.484375 57.671875 42.71875 61.234375 \r\nQ 38.96875 64.796875 32.078125 64.796875 \r\nz\r\nM 9.8125 72.90625 \r\nL 32.078125 72.90625 \r\nQ 44.34375 72.90625 50.609375 67.359375 \r\nQ 56.890625 61.8125 56.890625 51.125 \r\nQ 56.890625 40.328125 50.609375 34.8125 \r\nQ 44.34375 29.296875 32.078125 29.296875 \r\nL 19.671875 29.296875 \r\nL 19.671875 0 \r\nL 9.8125 0 \r\nz\r\n\" id=\"DejaVuSans-80\"/>\r\n        <path d=\"M 9.8125 72.90625 \r\nL 19.671875 72.90625 \r\nL 19.671875 8.296875 \r\nL 55.171875 8.296875 \r\nL 55.171875 0 \r\nL 9.8125 0 \r\nz\r\n\" id=\"DejaVuSans-76\"/>\r\n       </defs>\r\n       <use xlink:href=\"#DejaVuSans-65\"/>\r\n       <use x=\"71.158203\" xlink:href=\"#DejaVuSans-65\"/>\r\n       <use x=\"139.566406\" xlink:href=\"#DejaVuSans-80\"/>\r\n       <use x=\"199.869141\" xlink:href=\"#DejaVuSans-76\"/>\r\n      </g>\r\n     </g>\r\n    </g>\r\n    <g id=\"xtick_3\">\r\n     <g id=\"line2d_3\">\r\n      <g>\r\n       <use style=\"stroke:#000000;stroke-width:0.8;\" x=\"194.65\" xlink:href=\"#m02ba3ab2a2\" y=\"348.478125\"/>\r\n      </g>\r\n     </g>\r\n     <g id=\"text_3\">\r\n      <!-- GE -->\r\n      <g transform=\"translate(197.409375 369.545312)rotate(-90)scale(0.1 -0.1)\">\r\n       <defs>\r\n        <path d=\"M 59.515625 10.40625 \r\nL 59.515625 29.984375 \r\nL 43.40625 29.984375 \r\nL 43.40625 38.09375 \r\nL 69.28125 38.09375 \r\nL 69.28125 6.78125 \r\nQ 63.578125 2.734375 56.6875 0.65625 \r\nQ 49.8125 -1.421875 42 -1.421875 \r\nQ 24.90625 -1.421875 15.25 8.5625 \r\nQ 5.609375 18.5625 5.609375 36.375 \r\nQ 5.609375 54.25 15.25 64.234375 \r\nQ 24.90625 74.21875 42 74.21875 \r\nQ 49.125 74.21875 55.546875 72.453125 \r\nQ 61.96875 70.703125 67.390625 67.28125 \r\nL 67.390625 56.78125 \r\nQ 61.921875 61.421875 55.765625 63.765625 \r\nQ 49.609375 66.109375 42.828125 66.109375 \r\nQ 29.4375 66.109375 22.71875 58.640625 \r\nQ 16.015625 51.171875 16.015625 36.375 \r\nQ 16.015625 21.625 22.71875 14.15625 \r\nQ 29.4375 6.6875 42.828125 6.6875 \r\nQ 48.046875 6.6875 52.140625 7.59375 \r\nQ 56.25 8.5 59.515625 10.40625 \r\nz\r\n\" id=\"DejaVuSans-71\"/>\r\n        <path d=\"M 9.8125 72.90625 \r\nL 55.90625 72.90625 \r\nL 55.90625 64.59375 \r\nL 19.671875 64.59375 \r\nL 19.671875 43.015625 \r\nL 54.390625 43.015625 \r\nL 54.390625 34.71875 \r\nL 19.671875 34.71875 \r\nL 19.671875 8.296875 \r\nL 56.78125 8.296875 \r\nL 56.78125 0 \r\nL 9.8125 0 \r\nz\r\n\" id=\"DejaVuSans-69\"/>\r\n       </defs>\r\n       <use xlink:href=\"#DejaVuSans-71\"/>\r\n       <use x=\"77.490234\" xlink:href=\"#DejaVuSans-69\"/>\r\n      </g>\r\n     </g>\r\n    </g>\r\n    <g id=\"xtick_4\">\r\n     <g id=\"line2d_4\">\r\n      <g>\r\n       <use style=\"stroke:#000000;stroke-width:0.8;\" x=\"256.65\" xlink:href=\"#m02ba3ab2a2\" y=\"348.478125\"/>\r\n      </g>\r\n     </g>\r\n     <g id=\"text_4\">\r\n      <!-- IBM -->\r\n      <g transform=\"translate(259.409375 373.917187)rotate(-90)scale(0.1 -0.1)\">\r\n       <defs>\r\n        <path d=\"M 9.8125 72.90625 \r\nL 19.671875 72.90625 \r\nL 19.671875 0 \r\nL 9.8125 0 \r\nz\r\n\" id=\"DejaVuSans-73\"/>\r\n        <path d=\"M 19.671875 34.8125 \r\nL 19.671875 8.109375 \r\nL 35.5 8.109375 \r\nQ 43.453125 8.109375 47.28125 11.40625 \r\nQ 51.125 14.703125 51.125 21.484375 \r\nQ 51.125 28.328125 47.28125 31.5625 \r\nQ 43.453125 34.8125 35.5 34.8125 \r\nz\r\nM 19.671875 64.796875 \r\nL 19.671875 42.828125 \r\nL 34.28125 42.828125 \r\nQ 41.5 42.828125 45.03125 45.53125 \r\nQ 48.578125 48.25 48.578125 53.8125 \r\nQ 48.578125 59.328125 45.03125 62.0625 \r\nQ 41.5 64.796875 34.28125 64.796875 \r\nz\r\nM 9.8125 72.90625 \r\nL 35.015625 72.90625 \r\nQ 46.296875 72.90625 52.390625 68.21875 \r\nQ 58.5 63.53125 58.5 54.890625 \r\nQ 58.5 48.1875 55.375 44.234375 \r\nQ 52.25 40.28125 46.1875 39.3125 \r\nQ 53.46875 37.75 57.5 32.78125 \r\nQ 61.53125 27.828125 61.53125 20.40625 \r\nQ 61.53125 10.640625 54.890625 5.3125 \r\nQ 48.25 0 35.984375 0 \r\nL 9.8125 0 \r\nz\r\n\" id=\"DejaVuSans-66\"/>\r\n        <path d=\"M 9.8125 72.90625 \r\nL 24.515625 72.90625 \r\nL 43.109375 23.296875 \r\nL 61.8125 72.90625 \r\nL 76.515625 72.90625 \r\nL 76.515625 0 \r\nL 66.890625 0 \r\nL 66.890625 64.015625 \r\nL 48.09375 14.015625 \r\nL 38.1875 14.015625 \r\nL 19.390625 64.015625 \r\nL 19.390625 0 \r\nL 9.8125 0 \r\nz\r\n\" id=\"DejaVuSans-77\"/>\r\n       </defs>\r\n       <use xlink:href=\"#DejaVuSans-73\"/>\r\n       <use x=\"29.492188\" xlink:href=\"#DejaVuSans-66\"/>\r\n       <use x=\"98.095703\" xlink:href=\"#DejaVuSans-77\"/>\r\n      </g>\r\n     </g>\r\n    </g>\r\n    <g id=\"xtick_5\">\r\n     <g id=\"line2d_5\">\r\n      <g>\r\n       <use style=\"stroke:#000000;stroke-width:0.8;\" x=\"318.65\" xlink:href=\"#m02ba3ab2a2\" y=\"348.478125\"/>\r\n      </g>\r\n     </g>\r\n     <g id=\"text_5\">\r\n      <!-- JNJ -->\r\n      <g transform=\"translate(321.409375 368.859375)rotate(-90)scale(0.1 -0.1)\">\r\n       <defs>\r\n        <path d=\"M 9.8125 72.90625 \r\nL 19.671875 72.90625 \r\nL 19.671875 5.078125 \r\nQ 19.671875 -8.109375 14.671875 -14.0625 \r\nQ 9.671875 -20.015625 -1.421875 -20.015625 \r\nL -5.171875 -20.015625 \r\nL -5.171875 -11.71875 \r\nL -2.09375 -11.71875 \r\nQ 4.4375 -11.71875 7.125 -8.046875 \r\nQ 9.8125 -4.390625 9.8125 5.078125 \r\nz\r\n\" id=\"DejaVuSans-74\"/>\r\n        <path d=\"M 9.8125 72.90625 \r\nL 23.09375 72.90625 \r\nL 55.421875 11.921875 \r\nL 55.421875 72.90625 \r\nL 64.984375 72.90625 \r\nL 64.984375 0 \r\nL 51.703125 0 \r\nL 19.390625 60.984375 \r\nL 19.390625 0 \r\nL 9.8125 0 \r\nz\r\n\" id=\"DejaVuSans-78\"/>\r\n       </defs>\r\n       <use xlink:href=\"#DejaVuSans-74\"/>\r\n       <use x=\"29.492188\" xlink:href=\"#DejaVuSans-78\"/>\r\n       <use x=\"104.296875\" xlink:href=\"#DejaVuSans-74\"/>\r\n      </g>\r\n     </g>\r\n    </g>\r\n    <g id=\"xtick_6\">\r\n     <g id=\"line2d_6\">\r\n      <g>\r\n       <use style=\"stroke:#000000;stroke-width:0.8;\" x=\"380.65\" xlink:href=\"#m02ba3ab2a2\" y=\"348.478125\"/>\r\n      </g>\r\n     </g>\r\n     <g id=\"text_6\">\r\n      <!-- MSFT -->\r\n      <g transform=\"translate(383.409375 382.139062)rotate(-90)scale(0.1 -0.1)\">\r\n       <defs>\r\n        <path d=\"M 53.515625 70.515625 \r\nL 53.515625 60.890625 \r\nQ 47.90625 63.578125 42.921875 64.890625 \r\nQ 37.9375 66.21875 33.296875 66.21875 \r\nQ 25.25 66.21875 20.875 63.09375 \r\nQ 16.5 59.96875 16.5 54.203125 \r\nQ 16.5 49.359375 19.40625 46.890625 \r\nQ 22.3125 44.4375 30.421875 42.921875 \r\nL 36.375 41.703125 \r\nQ 47.40625 39.59375 52.65625 34.296875 \r\nQ 57.90625 29 57.90625 20.125 \r\nQ 57.90625 9.515625 50.796875 4.046875 \r\nQ 43.703125 -1.421875 29.984375 -1.421875 \r\nQ 24.8125 -1.421875 18.96875 -0.25 \r\nQ 13.140625 0.921875 6.890625 3.21875 \r\nL 6.890625 13.375 \r\nQ 12.890625 10.015625 18.65625 8.296875 \r\nQ 24.421875 6.59375 29.984375 6.59375 \r\nQ 38.421875 6.59375 43.015625 9.90625 \r\nQ 47.609375 13.234375 47.609375 19.390625 \r\nQ 47.609375 24.75 44.3125 27.78125 \r\nQ 41.015625 30.8125 33.5 32.328125 \r\nL 27.484375 33.5 \r\nQ 16.453125 35.6875 11.515625 40.375 \r\nQ 6.59375 45.0625 6.59375 53.421875 \r\nQ 6.59375 63.09375 13.40625 68.65625 \r\nQ 20.21875 74.21875 32.171875 74.21875 \r\nQ 37.3125 74.21875 42.625 73.28125 \r\nQ 47.953125 72.359375 53.515625 70.515625 \r\nz\r\n\" id=\"DejaVuSans-83\"/>\r\n        <path d=\"M 9.8125 72.90625 \r\nL 51.703125 72.90625 \r\nL 51.703125 64.59375 \r\nL 19.671875 64.59375 \r\nL 19.671875 43.109375 \r\nL 48.578125 43.109375 \r\nL 48.578125 34.8125 \r\nL 19.671875 34.8125 \r\nL 19.671875 0 \r\nL 9.8125 0 \r\nz\r\n\" id=\"DejaVuSans-70\"/>\r\n        <path d=\"M -0.296875 72.90625 \r\nL 61.375 72.90625 \r\nL 61.375 64.59375 \r\nL 35.5 64.59375 \r\nL 35.5 0 \r\nL 25.59375 0 \r\nL 25.59375 64.59375 \r\nL -0.296875 64.59375 \r\nz\r\n\" id=\"DejaVuSans-84\"/>\r\n       </defs>\r\n       <use xlink:href=\"#DejaVuSans-77\"/>\r\n       <use x=\"86.279297\" xlink:href=\"#DejaVuSans-83\"/>\r\n       <use x=\"149.755859\" xlink:href=\"#DejaVuSans-70\"/>\r\n       <use x=\"205.525391\" xlink:href=\"#DejaVuSans-84\"/>\r\n      </g>\r\n     </g>\r\n    </g>\r\n    <g id=\"xtick_7\">\r\n     <g id=\"line2d_7\">\r\n      <g>\r\n       <use style=\"stroke:#000000;stroke-width:0.8;\" x=\"442.65\" xlink:href=\"#m02ba3ab2a2\" y=\"348.478125\"/>\r\n      </g>\r\n     </g>\r\n     <g id=\"text_7\">\r\n      <!-- PEP -->\r\n      <g transform=\"translate(445.409375 373.85625)rotate(-90)scale(0.1 -0.1)\">\r\n       <use xlink:href=\"#DejaVuSans-80\"/>\r\n       <use x=\"60.302734\" xlink:href=\"#DejaVuSans-69\"/>\r\n       <use x=\"123.486328\" xlink:href=\"#DejaVuSans-80\"/>\r\n      </g>\r\n     </g>\r\n    </g>\r\n    <g id=\"xtick_8\">\r\n     <g id=\"line2d_8\">\r\n      <g>\r\n       <use style=\"stroke:#000000;stroke-width:0.8;\" x=\"504.65\" xlink:href=\"#m02ba3ab2a2\" y=\"348.478125\"/>\r\n      </g>\r\n     </g>\r\n     <g id=\"text_8\">\r\n      <!-- SPX -->\r\n      <g transform=\"translate(507.409375 374.70625)rotate(-90)scale(0.1 -0.1)\">\r\n       <defs>\r\n        <path d=\"M 6.296875 72.90625 \r\nL 16.890625 72.90625 \r\nL 35.015625 45.796875 \r\nL 53.21875 72.90625 \r\nL 63.8125 72.90625 \r\nL 40.375 37.890625 \r\nL 65.375 0 \r\nL 54.78125 0 \r\nL 34.28125 31 \r\nL 13.625 0 \r\nL 2.984375 0 \r\nL 29 38.921875 \r\nz\r\n\" id=\"DejaVuSans-88\"/>\r\n       </defs>\r\n       <use xlink:href=\"#DejaVuSans-83\"/>\r\n       <use x=\"63.476562\" xlink:href=\"#DejaVuSans-80\"/>\r\n       <use x=\"123.779297\" xlink:href=\"#DejaVuSans-88\"/>\r\n      </g>\r\n     </g>\r\n    </g>\r\n    <g id=\"xtick_9\">\r\n     <g id=\"line2d_9\">\r\n      <g>\r\n       <use style=\"stroke:#000000;stroke-width:0.8;\" x=\"566.65\" xlink:href=\"#m02ba3ab2a2\" y=\"348.478125\"/>\r\n      </g>\r\n     </g>\r\n     <g id=\"text_9\">\r\n      <!-- XOM -->\r\n      <g transform=\"translate(569.409375 378.190625)rotate(-90)scale(0.1 -0.1)\">\r\n       <defs>\r\n        <path d=\"M 39.40625 66.21875 \r\nQ 28.65625 66.21875 22.328125 58.203125 \r\nQ 16.015625 50.203125 16.015625 36.375 \r\nQ 16.015625 22.609375 22.328125 14.59375 \r\nQ 28.65625 6.59375 39.40625 6.59375 \r\nQ 50.140625 6.59375 56.421875 14.59375 \r\nQ 62.703125 22.609375 62.703125 36.375 \r\nQ 62.703125 50.203125 56.421875 58.203125 \r\nQ 50.140625 66.21875 39.40625 66.21875 \r\nz\r\nM 39.40625 74.21875 \r\nQ 54.734375 74.21875 63.90625 63.9375 \r\nQ 73.09375 53.65625 73.09375 36.375 \r\nQ 73.09375 19.140625 63.90625 8.859375 \r\nQ 54.734375 -1.421875 39.40625 -1.421875 \r\nQ 24.03125 -1.421875 14.8125 8.828125 \r\nQ 5.609375 19.09375 5.609375 36.375 \r\nQ 5.609375 53.65625 14.8125 63.9375 \r\nQ 24.03125 74.21875 39.40625 74.21875 \r\nz\r\n\" id=\"DejaVuSans-79\"/>\r\n       </defs>\r\n       <use xlink:href=\"#DejaVuSans-88\"/>\r\n       <use x=\"62.130859\" xlink:href=\"#DejaVuSans-79\"/>\r\n       <use x=\"140.841797\" xlink:href=\"#DejaVuSans-77\"/>\r\n      </g>\r\n     </g>\r\n    </g>\r\n   </g>\r\n   <g id=\"matplotlib.axis_2\">\r\n    <g id=\"ytick_1\">\r\n     <g id=\"line2d_10\">\r\n      <defs>\r\n       <path d=\"M 0 0 \r\nL -3.5 0 \r\n\" id=\"m0a7e1667fe\" style=\"stroke:#000000;stroke-width:0.8;\"/>\r\n      </defs>\r\n      <g>\r\n       <use style=\"stroke:#000000;stroke-width:0.8;\" x=\"39.65\" xlink:href=\"#m0a7e1667fe\" y=\"348.478125\"/>\r\n      </g>\r\n     </g>\r\n     <g id=\"text_10\">\r\n      <!-- 0 -->\r\n      <g transform=\"translate(26.2875 352.277344)scale(0.1 -0.1)\">\r\n       <defs>\r\n        <path d=\"M 31.78125 66.40625 \r\nQ 24.171875 66.40625 20.328125 58.90625 \r\nQ 16.5 51.421875 16.5 36.375 \r\nQ 16.5 21.390625 20.328125 13.890625 \r\nQ 24.171875 6.390625 31.78125 6.390625 \r\nQ 39.453125 6.390625 43.28125 13.890625 \r\nQ 47.125 21.390625 47.125 36.375 \r\nQ 47.125 51.421875 43.28125 58.90625 \r\nQ 39.453125 66.40625 31.78125 66.40625 \r\nz\r\nM 31.78125 74.21875 \r\nQ 44.046875 74.21875 50.515625 64.515625 \r\nQ 56.984375 54.828125 56.984375 36.375 \r\nQ 56.984375 17.96875 50.515625 8.265625 \r\nQ 44.046875 -1.421875 31.78125 -1.421875 \r\nQ 19.53125 -1.421875 13.0625 8.265625 \r\nQ 6.59375 17.96875 6.59375 36.375 \r\nQ 6.59375 54.828125 13.0625 64.515625 \r\nQ 19.53125 74.21875 31.78125 74.21875 \r\nz\r\n\" id=\"DejaVuSans-48\"/>\r\n       </defs>\r\n       <use xlink:href=\"#DejaVuSans-48\"/>\r\n      </g>\r\n     </g>\r\n    </g>\r\n    <g id=\"ytick_2\">\r\n     <g id=\"line2d_11\">\r\n      <g>\r\n       <use style=\"stroke:#000000;stroke-width:0.8;\" x=\"39.65\" xlink:href=\"#m0a7e1667fe\" y=\"297.745862\"/>\r\n      </g>\r\n     </g>\r\n     <g id=\"text_11\">\r\n      <!-- 200 -->\r\n      <g transform=\"translate(13.5625 301.545081)scale(0.1 -0.1)\">\r\n       <defs>\r\n        <path d=\"M 19.1875 8.296875 \r\nL 53.609375 8.296875 \r\nL 53.609375 0 \r\nL 7.328125 0 \r\nL 7.328125 8.296875 \r\nQ 12.9375 14.109375 22.625 23.890625 \r\nQ 32.328125 33.6875 34.8125 36.53125 \r\nQ 39.546875 41.84375 41.421875 45.53125 \r\nQ 43.3125 49.21875 43.3125 52.78125 \r\nQ 43.3125 58.59375 39.234375 62.25 \r\nQ 35.15625 65.921875 28.609375 65.921875 \r\nQ 23.96875 65.921875 18.8125 64.3125 \r\nQ 13.671875 62.703125 7.8125 59.421875 \r\nL 7.8125 69.390625 \r\nQ 13.765625 71.78125 18.9375 73 \r\nQ 24.125 74.21875 28.421875 74.21875 \r\nQ 39.75 74.21875 46.484375 68.546875 \r\nQ 53.21875 62.890625 53.21875 53.421875 \r\nQ 53.21875 48.921875 51.53125 44.890625 \r\nQ 49.859375 40.875 45.40625 35.40625 \r\nQ 44.1875 33.984375 37.640625 27.21875 \r\nQ 31.109375 20.453125 19.1875 8.296875 \r\nz\r\n\" id=\"DejaVuSans-50\"/>\r\n       </defs>\r\n       <use xlink:href=\"#DejaVuSans-50\"/>\r\n       <use x=\"63.623047\" xlink:href=\"#DejaVuSans-48\"/>\r\n       <use x=\"127.246094\" xlink:href=\"#DejaVuSans-48\"/>\r\n      </g>\r\n     </g>\r\n    </g>\r\n    <g id=\"ytick_3\">\r\n     <g id=\"line2d_12\">\r\n      <g>\r\n       <use style=\"stroke:#000000;stroke-width:0.8;\" x=\"39.65\" xlink:href=\"#m0a7e1667fe\" y=\"247.0136\"/>\r\n      </g>\r\n     </g>\r\n     <g id=\"text_12\">\r\n      <!-- 400 -->\r\n      <g transform=\"translate(13.5625 250.812818)scale(0.1 -0.1)\">\r\n       <defs>\r\n        <path d=\"M 37.796875 64.3125 \r\nL 12.890625 25.390625 \r\nL 37.796875 25.390625 \r\nz\r\nM 35.203125 72.90625 \r\nL 47.609375 72.90625 \r\nL 47.609375 25.390625 \r\nL 58.015625 25.390625 \r\nL 58.015625 17.1875 \r\nL 47.609375 17.1875 \r\nL 47.609375 0 \r\nL 37.796875 0 \r\nL 37.796875 17.1875 \r\nL 4.890625 17.1875 \r\nL 4.890625 26.703125 \r\nz\r\n\" id=\"DejaVuSans-52\"/>\r\n       </defs>\r\n       <use xlink:href=\"#DejaVuSans-52\"/>\r\n       <use x=\"63.623047\" xlink:href=\"#DejaVuSans-48\"/>\r\n       <use x=\"127.246094\" xlink:href=\"#DejaVuSans-48\"/>\r\n      </g>\r\n     </g>\r\n    </g>\r\n    <g id=\"ytick_4\">\r\n     <g id=\"line2d_13\">\r\n      <g>\r\n       <use style=\"stroke:#000000;stroke-width:0.8;\" x=\"39.65\" xlink:href=\"#m0a7e1667fe\" y=\"196.281337\"/>\r\n      </g>\r\n     </g>\r\n     <g id=\"text_13\">\r\n      <!-- 600 -->\r\n      <g transform=\"translate(13.5625 200.080556)scale(0.1 -0.1)\">\r\n       <defs>\r\n        <path d=\"M 33.015625 40.375 \r\nQ 26.375 40.375 22.484375 35.828125 \r\nQ 18.609375 31.296875 18.609375 23.390625 \r\nQ 18.609375 15.53125 22.484375 10.953125 \r\nQ 26.375 6.390625 33.015625 6.390625 \r\nQ 39.65625 6.390625 43.53125 10.953125 \r\nQ 47.40625 15.53125 47.40625 23.390625 \r\nQ 47.40625 31.296875 43.53125 35.828125 \r\nQ 39.65625 40.375 33.015625 40.375 \r\nz\r\nM 52.59375 71.296875 \r\nL 52.59375 62.3125 \r\nQ 48.875 64.0625 45.09375 64.984375 \r\nQ 41.3125 65.921875 37.59375 65.921875 \r\nQ 27.828125 65.921875 22.671875 59.328125 \r\nQ 17.53125 52.734375 16.796875 39.40625 \r\nQ 19.671875 43.65625 24.015625 45.921875 \r\nQ 28.375 48.1875 33.59375 48.1875 \r\nQ 44.578125 48.1875 50.953125 41.515625 \r\nQ 57.328125 34.859375 57.328125 23.390625 \r\nQ 57.328125 12.15625 50.6875 5.359375 \r\nQ 44.046875 -1.421875 33.015625 -1.421875 \r\nQ 20.359375 -1.421875 13.671875 8.265625 \r\nQ 6.984375 17.96875 6.984375 36.375 \r\nQ 6.984375 53.65625 15.1875 63.9375 \r\nQ 23.390625 74.21875 37.203125 74.21875 \r\nQ 40.921875 74.21875 44.703125 73.484375 \r\nQ 48.484375 72.75 52.59375 71.296875 \r\nz\r\n\" id=\"DejaVuSans-54\"/>\r\n       </defs>\r\n       <use xlink:href=\"#DejaVuSans-54\"/>\r\n       <use x=\"63.623047\" xlink:href=\"#DejaVuSans-48\"/>\r\n       <use x=\"127.246094\" xlink:href=\"#DejaVuSans-48\"/>\r\n      </g>\r\n     </g>\r\n    </g>\r\n    <g id=\"ytick_5\">\r\n     <g id=\"line2d_14\">\r\n      <g>\r\n       <use style=\"stroke:#000000;stroke-width:0.8;\" x=\"39.65\" xlink:href=\"#m0a7e1667fe\" y=\"145.549074\"/>\r\n      </g>\r\n     </g>\r\n     <g id=\"text_14\">\r\n      <!-- 800 -->\r\n      <g transform=\"translate(13.5625 149.348293)scale(0.1 -0.1)\">\r\n       <defs>\r\n        <path d=\"M 31.78125 34.625 \r\nQ 24.75 34.625 20.71875 30.859375 \r\nQ 16.703125 27.09375 16.703125 20.515625 \r\nQ 16.703125 13.921875 20.71875 10.15625 \r\nQ 24.75 6.390625 31.78125 6.390625 \r\nQ 38.8125 6.390625 42.859375 10.171875 \r\nQ 46.921875 13.96875 46.921875 20.515625 \r\nQ 46.921875 27.09375 42.890625 30.859375 \r\nQ 38.875 34.625 31.78125 34.625 \r\nz\r\nM 21.921875 38.8125 \r\nQ 15.578125 40.375 12.03125 44.71875 \r\nQ 8.5 49.078125 8.5 55.328125 \r\nQ 8.5 64.0625 14.71875 69.140625 \r\nQ 20.953125 74.21875 31.78125 74.21875 \r\nQ 42.671875 74.21875 48.875 69.140625 \r\nQ 55.078125 64.0625 55.078125 55.328125 \r\nQ 55.078125 49.078125 51.53125 44.71875 \r\nQ 48 40.375 41.703125 38.8125 \r\nQ 48.828125 37.15625 52.796875 32.3125 \r\nQ 56.78125 27.484375 56.78125 20.515625 \r\nQ 56.78125 9.90625 50.3125 4.234375 \r\nQ 43.84375 -1.421875 31.78125 -1.421875 \r\nQ 19.734375 -1.421875 13.25 4.234375 \r\nQ 6.78125 9.90625 6.78125 20.515625 \r\nQ 6.78125 27.484375 10.78125 32.3125 \r\nQ 14.796875 37.15625 21.921875 38.8125 \r\nz\r\nM 18.3125 54.390625 \r\nQ 18.3125 48.734375 21.84375 45.5625 \r\nQ 25.390625 42.390625 31.78125 42.390625 \r\nQ 38.140625 42.390625 41.71875 45.5625 \r\nQ 45.3125 48.734375 45.3125 54.390625 \r\nQ 45.3125 60.0625 41.71875 63.234375 \r\nQ 38.140625 66.40625 31.78125 66.40625 \r\nQ 25.390625 66.40625 21.84375 63.234375 \r\nQ 18.3125 60.0625 18.3125 54.390625 \r\nz\r\n\" id=\"DejaVuSans-56\"/>\r\n       </defs>\r\n       <use xlink:href=\"#DejaVuSans-56\"/>\r\n       <use x=\"63.623047\" xlink:href=\"#DejaVuSans-48\"/>\r\n       <use x=\"127.246094\" xlink:href=\"#DejaVuSans-48\"/>\r\n      </g>\r\n     </g>\r\n    </g>\r\n    <g id=\"ytick_6\">\r\n     <g id=\"line2d_15\">\r\n      <g>\r\n       <use style=\"stroke:#000000;stroke-width:0.8;\" x=\"39.65\" xlink:href=\"#m0a7e1667fe\" y=\"94.816811\"/>\r\n      </g>\r\n     </g>\r\n     <g id=\"text_15\">\r\n      <!-- 1000 -->\r\n      <g transform=\"translate(7.2 98.61603)scale(0.1 -0.1)\">\r\n       <defs>\r\n        <path d=\"M 12.40625 8.296875 \r\nL 28.515625 8.296875 \r\nL 28.515625 63.921875 \r\nL 10.984375 60.40625 \r\nL 10.984375 69.390625 \r\nL 28.421875 72.90625 \r\nL 38.28125 72.90625 \r\nL 38.28125 8.296875 \r\nL 54.390625 8.296875 \r\nL 54.390625 0 \r\nL 12.40625 0 \r\nz\r\n\" id=\"DejaVuSans-49\"/>\r\n       </defs>\r\n       <use xlink:href=\"#DejaVuSans-49\"/>\r\n       <use x=\"63.623047\" xlink:href=\"#DejaVuSans-48\"/>\r\n       <use x=\"127.246094\" xlink:href=\"#DejaVuSans-48\"/>\r\n       <use x=\"190.869141\" xlink:href=\"#DejaVuSans-48\"/>\r\n      </g>\r\n     </g>\r\n    </g>\r\n    <g id=\"ytick_7\">\r\n     <g id=\"line2d_16\">\r\n      <g>\r\n       <use style=\"stroke:#000000;stroke-width:0.8;\" x=\"39.65\" xlink:href=\"#m0a7e1667fe\" y=\"44.084549\"/>\r\n      </g>\r\n     </g>\r\n     <g id=\"text_16\">\r\n      <!-- 1200 -->\r\n      <g transform=\"translate(7.2 47.883767)scale(0.1 -0.1)\">\r\n       <use xlink:href=\"#DejaVuSans-49\"/>\r\n       <use x=\"63.623047\" xlink:href=\"#DejaVuSans-50\"/>\r\n       <use x=\"127.246094\" xlink:href=\"#DejaVuSans-48\"/>\r\n       <use x=\"190.869141\" xlink:href=\"#DejaVuSans-48\"/>\r\n      </g>\r\n     </g>\r\n    </g>\r\n   </g>\r\n   <g id=\"patch_12\">\r\n    <path d=\"M 39.65 348.478125 \r\nL 39.65 22.318125 \r\n\" style=\"fill:none;stroke:#000000;stroke-linecap:square;stroke-linejoin:miter;stroke-width:0.8;\"/>\r\n   </g>\r\n   <g id=\"patch_13\">\r\n    <path d=\"M 597.65 348.478125 \r\nL 597.65 22.318125 \r\n\" style=\"fill:none;stroke:#000000;stroke-linecap:square;stroke-linejoin:miter;stroke-width:0.8;\"/>\r\n   </g>\r\n   <g id=\"patch_14\">\r\n    <path d=\"M 39.65 348.478125 \r\nL 597.65 348.478125 \r\n\" style=\"fill:none;stroke:#000000;stroke-linecap:square;stroke-linejoin:miter;stroke-width:0.8;\"/>\r\n   </g>\r\n   <g id=\"patch_15\">\r\n    <path d=\"M 39.65 22.318125 \r\nL 597.65 22.318125 \r\n\" style=\"fill:none;stroke:#000000;stroke-linecap:square;stroke-linejoin:miter;stroke-width:0.8;\"/>\r\n   </g>\r\n   <g id=\"text_17\">\r\n    <!-- Prices on 2011-10-14 00:00:00 -->\r\n    <g transform=\"translate(225.875937 16.318125)scale(0.12 -0.12)\">\r\n     <defs>\r\n      <path d=\"M 41.109375 46.296875 \r\nQ 39.59375 47.171875 37.8125 47.578125 \r\nQ 36.03125 48 33.890625 48 \r\nQ 26.265625 48 22.1875 43.046875 \r\nQ 18.109375 38.09375 18.109375 28.8125 \r\nL 18.109375 0 \r\nL 9.078125 0 \r\nL 9.078125 54.6875 \r\nL 18.109375 54.6875 \r\nL 18.109375 46.1875 \r\nQ 20.953125 51.171875 25.484375 53.578125 \r\nQ 30.03125 56 36.53125 56 \r\nQ 37.453125 56 38.578125 55.875 \r\nQ 39.703125 55.765625 41.0625 55.515625 \r\nz\r\n\" id=\"DejaVuSans-114\"/>\r\n      <path d=\"M 9.421875 54.6875 \r\nL 18.40625 54.6875 \r\nL 18.40625 0 \r\nL 9.421875 0 \r\nz\r\nM 9.421875 75.984375 \r\nL 18.40625 75.984375 \r\nL 18.40625 64.59375 \r\nL 9.421875 64.59375 \r\nz\r\n\" id=\"DejaVuSans-105\"/>\r\n      <path d=\"M 48.78125 52.59375 \r\nL 48.78125 44.1875 \r\nQ 44.96875 46.296875 41.140625 47.34375 \r\nQ 37.3125 48.390625 33.40625 48.390625 \r\nQ 24.65625 48.390625 19.8125 42.84375 \r\nQ 14.984375 37.3125 14.984375 27.296875 \r\nQ 14.984375 17.28125 19.8125 11.734375 \r\nQ 24.65625 6.203125 33.40625 6.203125 \r\nQ 37.3125 6.203125 41.140625 7.25 \r\nQ 44.96875 8.296875 48.78125 10.40625 \r\nL 48.78125 2.09375 \r\nQ 45.015625 0.34375 40.984375 -0.53125 \r\nQ 36.96875 -1.421875 32.421875 -1.421875 \r\nQ 20.0625 -1.421875 12.78125 6.34375 \r\nQ 5.515625 14.109375 5.515625 27.296875 \r\nQ 5.515625 40.671875 12.859375 48.328125 \r\nQ 20.21875 56 33.015625 56 \r\nQ 37.15625 56 41.109375 55.140625 \r\nQ 45.0625 54.296875 48.78125 52.59375 \r\nz\r\n\" id=\"DejaVuSans-99\"/>\r\n      <path d=\"M 56.203125 29.59375 \r\nL 56.203125 25.203125 \r\nL 14.890625 25.203125 \r\nQ 15.484375 15.921875 20.484375 11.0625 \r\nQ 25.484375 6.203125 34.421875 6.203125 \r\nQ 39.59375 6.203125 44.453125 7.46875 \r\nQ 49.3125 8.734375 54.109375 11.28125 \r\nL 54.109375 2.78125 \r\nQ 49.265625 0.734375 44.1875 -0.34375 \r\nQ 39.109375 -1.421875 33.890625 -1.421875 \r\nQ 20.796875 -1.421875 13.15625 6.1875 \r\nQ 5.515625 13.8125 5.515625 26.8125 \r\nQ 5.515625 40.234375 12.765625 48.109375 \r\nQ 20.015625 56 32.328125 56 \r\nQ 43.359375 56 49.78125 48.890625 \r\nQ 56.203125 41.796875 56.203125 29.59375 \r\nz\r\nM 47.21875 32.234375 \r\nQ 47.125 39.59375 43.09375 43.984375 \r\nQ 39.0625 48.390625 32.421875 48.390625 \r\nQ 24.90625 48.390625 20.390625 44.140625 \r\nQ 15.875 39.890625 15.1875 32.171875 \r\nz\r\n\" id=\"DejaVuSans-101\"/>\r\n      <path d=\"M 44.28125 53.078125 \r\nL 44.28125 44.578125 \r\nQ 40.484375 46.53125 36.375 47.5 \r\nQ 32.28125 48.484375 27.875 48.484375 \r\nQ 21.1875 48.484375 17.84375 46.4375 \r\nQ 14.5 44.390625 14.5 40.28125 \r\nQ 14.5 37.15625 16.890625 35.375 \r\nQ 19.28125 33.59375 26.515625 31.984375 \r\nL 29.59375 31.296875 \r\nQ 39.15625 29.25 43.1875 25.515625 \r\nQ 47.21875 21.78125 47.21875 15.09375 \r\nQ 47.21875 7.46875 41.1875 3.015625 \r\nQ 35.15625 -1.421875 24.609375 -1.421875 \r\nQ 20.21875 -1.421875 15.453125 -0.5625 \r\nQ 10.6875 0.296875 5.421875 2 \r\nL 5.421875 11.28125 \r\nQ 10.40625 8.6875 15.234375 7.390625 \r\nQ 20.0625 6.109375 24.8125 6.109375 \r\nQ 31.15625 6.109375 34.5625 8.28125 \r\nQ 37.984375 10.453125 37.984375 14.40625 \r\nQ 37.984375 18.0625 35.515625 20.015625 \r\nQ 33.0625 21.96875 24.703125 23.78125 \r\nL 21.578125 24.515625 \r\nQ 13.234375 26.265625 9.515625 29.90625 \r\nQ 5.8125 33.546875 5.8125 39.890625 \r\nQ 5.8125 47.609375 11.28125 51.796875 \r\nQ 16.75 56 26.8125 56 \r\nQ 31.78125 56 36.171875 55.265625 \r\nQ 40.578125 54.546875 44.28125 53.078125 \r\nz\r\n\" id=\"DejaVuSans-115\"/>\r\n      <path id=\"DejaVuSans-32\"/>\r\n      <path d=\"M 30.609375 48.390625 \r\nQ 23.390625 48.390625 19.1875 42.75 \r\nQ 14.984375 37.109375 14.984375 27.296875 \r\nQ 14.984375 17.484375 19.15625 11.84375 \r\nQ 23.34375 6.203125 30.609375 6.203125 \r\nQ 37.796875 6.203125 41.984375 11.859375 \r\nQ 46.1875 17.53125 46.1875 27.296875 \r\nQ 46.1875 37.015625 41.984375 42.703125 \r\nQ 37.796875 48.390625 30.609375 48.390625 \r\nz\r\nM 30.609375 56 \r\nQ 42.328125 56 49.015625 48.375 \r\nQ 55.71875 40.765625 55.71875 27.296875 \r\nQ 55.71875 13.875 49.015625 6.21875 \r\nQ 42.328125 -1.421875 30.609375 -1.421875 \r\nQ 18.84375 -1.421875 12.171875 6.21875 \r\nQ 5.515625 13.875 5.515625 27.296875 \r\nQ 5.515625 40.765625 12.171875 48.375 \r\nQ 18.84375 56 30.609375 56 \r\nz\r\n\" id=\"DejaVuSans-111\"/>\r\n      <path d=\"M 54.890625 33.015625 \r\nL 54.890625 0 \r\nL 45.90625 0 \r\nL 45.90625 32.71875 \r\nQ 45.90625 40.484375 42.875 44.328125 \r\nQ 39.84375 48.1875 33.796875 48.1875 \r\nQ 26.515625 48.1875 22.3125 43.546875 \r\nQ 18.109375 38.921875 18.109375 30.90625 \r\nL 18.109375 0 \r\nL 9.078125 0 \r\nL 9.078125 54.6875 \r\nL 18.109375 54.6875 \r\nL 18.109375 46.1875 \r\nQ 21.34375 51.125 25.703125 53.5625 \r\nQ 30.078125 56 35.796875 56 \r\nQ 45.21875 56 50.046875 50.171875 \r\nQ 54.890625 44.34375 54.890625 33.015625 \r\nz\r\n\" id=\"DejaVuSans-110\"/>\r\n      <path d=\"M 4.890625 31.390625 \r\nL 31.203125 31.390625 \r\nL 31.203125 23.390625 \r\nL 4.890625 23.390625 \r\nz\r\n\" id=\"DejaVuSans-45\"/>\r\n      <path d=\"M 11.71875 12.40625 \r\nL 22.015625 12.40625 \r\nL 22.015625 0 \r\nL 11.71875 0 \r\nz\r\nM 11.71875 51.703125 \r\nL 22.015625 51.703125 \r\nL 22.015625 39.3125 \r\nL 11.71875 39.3125 \r\nz\r\n\" id=\"DejaVuSans-58\"/>\r\n     </defs>\r\n     <use xlink:href=\"#DejaVuSans-80\"/>\r\n     <use x=\"58.552734\" xlink:href=\"#DejaVuSans-114\"/>\r\n     <use x=\"99.666016\" xlink:href=\"#DejaVuSans-105\"/>\r\n     <use x=\"127.449219\" xlink:href=\"#DejaVuSans-99\"/>\r\n     <use x=\"182.429688\" xlink:href=\"#DejaVuSans-101\"/>\r\n     <use x=\"243.953125\" xlink:href=\"#DejaVuSans-115\"/>\r\n     <use x=\"296.052734\" xlink:href=\"#DejaVuSans-32\"/>\r\n     <use x=\"327.839844\" xlink:href=\"#DejaVuSans-111\"/>\r\n     <use x=\"389.021484\" xlink:href=\"#DejaVuSans-110\"/>\r\n     <use x=\"452.400391\" xlink:href=\"#DejaVuSans-32\"/>\r\n     <use x=\"484.1875\" xlink:href=\"#DejaVuSans-50\"/>\r\n     <use x=\"547.810547\" xlink:href=\"#DejaVuSans-48\"/>\r\n     <use x=\"611.433594\" xlink:href=\"#DejaVuSans-49\"/>\r\n     <use x=\"675.056641\" xlink:href=\"#DejaVuSans-49\"/>\r\n     <use x=\"738.679688\" xlink:href=\"#DejaVuSans-45\"/>\r\n     <use x=\"774.763672\" xlink:href=\"#DejaVuSans-49\"/>\r\n     <use x=\"838.386719\" xlink:href=\"#DejaVuSans-48\"/>\r\n     <use x=\"902.009766\" xlink:href=\"#DejaVuSans-45\"/>\r\n     <use x=\"938.09375\" xlink:href=\"#DejaVuSans-49\"/>\r\n     <use x=\"1001.716797\" xlink:href=\"#DejaVuSans-52\"/>\r\n     <use x=\"1065.339844\" xlink:href=\"#DejaVuSans-32\"/>\r\n     <use x=\"1097.126953\" xlink:href=\"#DejaVuSans-48\"/>\r\n     <use x=\"1160.75\" xlink:href=\"#DejaVuSans-48\"/>\r\n     <use x=\"1224.373047\" xlink:href=\"#DejaVuSans-58\"/>\r\n     <use x=\"1258.064453\" xlink:href=\"#DejaVuSans-48\"/>\r\n     <use x=\"1321.6875\" xlink:href=\"#DejaVuSans-48\"/>\r\n     <use x=\"1385.310547\" xlink:href=\"#DejaVuSans-58\"/>\r\n     <use x=\"1419.001953\" xlink:href=\"#DejaVuSans-48\"/>\r\n     <use x=\"1482.625\" xlink:href=\"#DejaVuSans-48\"/>\r\n    </g>\r\n   </g>\r\n  </g>\r\n </g>\r\n <defs>\r\n  <clipPath id=\"p0b11b44a26\">\r\n   <rect height=\"326.16\" width=\"558\" x=\"39.65\" y=\"22.318125\"/>\r\n  </clipPath>\r\n </defs>\r\n</svg>\r\n",
      "image/png": "[encoded data removed]"
     },
     "metadata": {
      "needs_background": "light"
     }
    }
   ],
   "source": [
    "close_px.iloc[-1].plot(kind='bar')    # the last row of the data. in bar plot\n",
    "plt.title('Prices on %s' % close_px.index[-1])\n",
    "plt.axhline(0)"
   ]
  },
  {
   "cell_type": "markdown",
   "metadata": {},
   "source": [
    "Hierarchical indexing\n",
    "---------------------"
   ]
  },
  {
   "cell_type": "code",
   "execution_count": null,
   "metadata": {},
   "outputs": [],
   "source": [
    "index = MultiIndex(levels=[['foo', 'bar', 'baz', 'qux'],\n",
    "                                   ['one', 'two', 'three']],\n",
    "                           labels=[[0, 0, 0, 1, 1, 2, 2, 3, 3, 3],\n",
    "                                   [0, 1, 2, 0, 1, 1, 2, 0, 1, 2]])\n",
    "hdf = DataFrame(np.random.randn(10, 3), index=index,\n",
    "                columns=['A', 'B', 'C'])\n",
    "hdf"
   ]
  },
  {
   "cell_type": "code",
   "execution_count": null,
   "metadata": {},
   "outputs": [],
   "source": [
    "hdf.loc['foo']"
   ]
  },
  {
   "cell_type": "code",
   "execution_count": null,
   "metadata": {},
   "outputs": [],
   "source": [
    "hdf.loc['foo'] = 0\n",
    "hdf"
   ]
  },
  {
   "cell_type": "code",
   "execution_count": null,
   "metadata": {},
   "outputs": [],
   "source": [
    "hdf.loc['foo', 'three']"
   ]
  },
  {
   "cell_type": "markdown",
   "metadata": {},
   "source": [
    "Stacking and unstacking\n",
    "-----------------------"
   ]
  },
  {
   "cell_type": "code",
   "execution_count": null,
   "metadata": {},
   "outputs": [],
   "source": [
    "tuples = list(zip(*[['bar', 'bar', 'baz', 'baz',\n",
    "                'foo', 'foo', 'qux', 'qux'],\n",
    "               ['one', 'two', 'one', 'two',\n",
    "                'one', 'two', 'one', 'two']]))\n",
    "index = MultiIndex.from_tuples(tuples)\n",
    "columns = MultiIndex.from_tuples([('A', 'cat'), ('B', 'dog'),\n",
    "                                  ('B', 'cat'), ('A', 'dog')])\n",
    "df = DataFrame(np.random.randn(8, 4), index=index, columns=columns)\n",
    "df"
   ]
  },
  {
   "cell_type": "code",
   "execution_count": null,
   "metadata": {},
   "outputs": [],
   "source": [
    "df2 = df.iloc[[0, 1, 2, 4, 5, 7]]\n",
    "df2"
   ]
  },
  {
   "cell_type": "code",
   "execution_count": null,
   "metadata": {},
   "outputs": [],
   "source": [
    "df.unstack()['B']"
   ]
  },
  {
   "cell_type": "markdown",
   "metadata": {},
   "source": [
    "GroupBy\n",
    "======="
   ]
  },
  {
   "cell_type": "code",
   "execution_count": null,
   "metadata": {},
   "outputs": [],
   "source": [
    "df = DataFrame({'A' : ['foo', 'bar', 'foo', 'bar',\n",
    "                       'foo', 'bar', 'foo', 'foo'],\n",
    "                'B' : ['one', 'one', 'two', 'three',\n",
    "                       'two', 'two', 'one', 'three'],\n",
    "                'C' : np.random.randn(8),\n",
    "                'D' : np.random.randn(8)})\n",
    "df"
   ]
  },
  {
   "cell_type": "code",
   "execution_count": null,
   "metadata": {},
   "outputs": [],
   "source": [
    "for key, group in df.groupby('A'):\n",
    "    print(key)\n",
    "    print(group)"
   ]
  },
  {
   "cell_type": "code",
   "execution_count": null,
   "metadata": {},
   "outputs": [],
   "source": [
    "df.groupby('A')['C'].describe().T"
   ]
  },
  {
   "cell_type": "code",
   "execution_count": null,
   "metadata": {},
   "outputs": [],
   "source": [
    "df.groupby('A').mean()"
   ]
  },
  {
   "cell_type": "code",
   "execution_count": null,
   "metadata": {},
   "outputs": [],
   "source": [
    "df.groupby(['A', 'B']).mean()"
   ]
  },
  {
   "cell_type": "code",
   "execution_count": null,
   "metadata": {},
   "outputs": [],
   "source": [
    "for key, group in df.groupby('A'):\n",
    "    print(key)\n",
    "    print(group)"
   ]
  },
  {
   "cell_type": "code",
   "execution_count": null,
   "metadata": {},
   "outputs": [],
   "source": [
    "df.groupby(['A', 'B'], as_index=False).mean()"
   ]
  },
  {
   "cell_type": "markdown",
   "metadata": {},
   "source": [
    "GroupBy example: linear regression by group\n",
    "-------------------------------------------"
   ]
  },
  {
   "cell_type": "markdown",
   "metadata": {},
   "source": [
    "To make this work download statesmodels from [here][ref]. \n",
    "Download the whl file and use the installation instractions that were given to you for Basemap.\n",
    "[ref]:https://pypi.python.org/pypi/statsmodels"
   ]
  },
  {
   "cell_type": "code",
   "execution_count": null,
   "metadata": {},
   "outputs": [],
   "source": [
    "import statsmodels.api as sm\n",
    "rets = close_px / close_px.shift(1) - 1\n",
    "\n",
    "def get_beta(rets):\n",
    "    rets = rets.dropna()\n",
    "    rets['intercept'] = 1.\n",
    "    model = sm.OLS(rets['MSFT'], rets.loc[:, ['AAPL', 'intercept']]).fit()\n",
    "    return model.params\n",
    "\n",
    "get_beta(rets)"
   ]
  },
  {
   "cell_type": "code",
   "execution_count": null,
   "metadata": {},
   "outputs": [],
   "source": [
    "grouped = rets.groupby([lambda x: x.year, lambda x: x.month])\n",
    "beta_by_ym = grouped.apply(get_beta)\n",
    "beta_by_ym"
   ]
  },
  {
   "cell_type": "code",
   "execution_count": null,
   "metadata": {},
   "outputs": [],
   "source": [
    "beta_by_ym.unstack(0)['AAPL']"
   ]
  },
  {
   "cell_type": "markdown",
   "metadata": {},
   "source": [
    "GroupBy with hierarchical indexing\n",
    "----------------------------------"
   ]
  },
  {
   "cell_type": "code",
   "execution_count": null,
   "metadata": {},
   "outputs": [],
   "source": [
    "tuples = list(zip(*[['bar', 'bar', 'baz', 'baz',\n",
    "                'foo', 'foo', 'qux', 'qux'],\n",
    "               ['one', 'two', 'one', 'two',\n",
    "                'one', 'two', 'one', 'two']]))\n",
    "index = MultiIndex.from_tuples(tuples)\n",
    "columns = MultiIndex.from_tuples([('A', 'cat'), ('B', 'dog'),\n",
    "                                  ('B', 'cat'), ('A', 'dog')])\n",
    "df = DataFrame(np.random.randn(8, 4), index=index, columns=columns)\n",
    "df"
   ]
  },
  {
   "cell_type": "code",
   "execution_count": null,
   "metadata": {},
   "outputs": [],
   "source": [
    "df.groupby(level=0, axis=0).mean()"
   ]
  },
  {
   "cell_type": "code",
   "execution_count": null,
   "metadata": {},
   "outputs": [],
   "source": [
    "df.stack()"
   ]
  },
  {
   "cell_type": "code",
   "execution_count": null,
   "metadata": {},
   "outputs": [],
   "source": [
    "df.stack().mean(1).unstack()"
   ]
  },
  {
   "cell_type": "code",
   "execution_count": null,
   "metadata": {},
   "outputs": [],
   "source": [
    "# could also have done\n",
    "df.groupby(level=1, axis=1).mean()"
   ]
  }
 ],
 "metadata": {
  "kernelspec": {
   "name": "python3",
   "display_name": "Python 3.9.2 64-bit"
  },
  "language_info": {
   "codemirror_mode": {
    "name": "ipython",
    "version": 3
   },
   "file_extension": ".py",
   "mimetype": "text/x-python",
   "name": "python",
   "nbconvert_exporter": "python",
   "pygments_lexer": "ipython3",
   "version": "3.9.2"
  },
  "interpreter": {
   "hash": "c98bad758fdc1a8561ae45ecc54528f52ddf29c5a422c397ff5dc68402ca37fd"
  }
 },
 "nbformat": 4,
 "nbformat_minor": 1
}