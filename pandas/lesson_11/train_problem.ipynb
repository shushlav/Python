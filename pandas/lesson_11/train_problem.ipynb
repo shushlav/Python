{
 "metadata": {
  "language_info": {
   "codemirror_mode": {
    "name": "ipython",
    "version": 3
   },
   "file_extension": ".py",
   "mimetype": "text/x-python",
   "name": "python",
   "nbconvert_exporter": "python",
   "pygments_lexer": "ipython3",
   "version": "3.9.2"
  },
  "orig_nbformat": 4,
  "kernelspec": {
   "name": "python3",
   "display_name": "Python 3.9.2 64-bit"
  },
  "interpreter": {
   "hash": "c98bad758fdc1a8561ae45ecc54528f52ddf29c5a422c397ff5dc68402ca37fd"
  }
 },
 "nbformat": 4,
 "nbformat_minor": 2,
 "cells": [
  {
   "source": [
    "Predict Loan Eligibility for Dream Housing Finance company"
   ],
   "cell_type": "markdown",
   "metadata": {}
  },
  {
   "cell_type": "code",
   "execution_count": 210,
   "metadata": {},
   "outputs": [],
   "source": [
    "import pandas as pd\n",
    "import numpy as np "
   ]
  },
  {
   "cell_type": "code",
   "execution_count": 211,
   "metadata": {},
   "outputs": [
    {
     "output_type": "execute_result",
     "data": {
      "text/plain": [
       "         Gender Married Dependents     Education Self_Employed  \\\n",
       "Loan_ID                                                          \n",
       "LP001002   Male      No          0      Graduate            No   \n",
       "LP001003   Male     Yes          1      Graduate            No   \n",
       "LP001005   Male     Yes          0      Graduate           Yes   \n",
       "LP001006   Male     Yes          0  Not Graduate            No   \n",
       "LP001008   Male      No          0      Graduate            No   \n",
       "LP001011   Male     Yes          2      Graduate           Yes   \n",
       "LP001013   Male     Yes          0  Not Graduate            No   \n",
       "LP001014   Male     Yes         3+      Graduate            No   \n",
       "LP001018   Male     Yes          2      Graduate            No   \n",
       "LP001020   Male     Yes          1      Graduate            No   \n",
       "\n",
       "          ApplicantIncome  CoapplicantIncome  LoanAmount  Loan_Amount_Term  \\\n",
       "Loan_ID                                                                      \n",
       "LP001002             5849                0.0         NaN             360.0   \n",
       "LP001003             4583             1508.0       128.0             360.0   \n",
       "LP001005             3000                0.0        66.0             360.0   \n",
       "LP001006             2583             2358.0       120.0             360.0   \n",
       "LP001008             6000                0.0       141.0             360.0   \n",
       "LP001011             5417             4196.0       267.0             360.0   \n",
       "LP001013             2333             1516.0        95.0             360.0   \n",
       "LP001014             3036             2504.0       158.0             360.0   \n",
       "LP001018             4006             1526.0       168.0             360.0   \n",
       "LP001020            12841            10968.0       349.0             360.0   \n",
       "\n",
       "          Credit_History Property_Area Loan_Status  \n",
       "Loan_ID                                             \n",
       "LP001002             1.0         Urban           Y  \n",
       "LP001003             1.0         Rural           N  \n",
       "LP001005             1.0         Urban           Y  \n",
       "LP001006             1.0         Urban           Y  \n",
       "LP001008             1.0         Urban           Y  \n",
       "LP001011             1.0         Urban           Y  \n",
       "LP001013             1.0         Urban           Y  \n",
       "LP001014             0.0     Semiurban           N  \n",
       "LP001018             1.0         Urban           Y  \n",
       "LP001020             1.0     Semiurban           N  "
      ],
      "text/html": "<div>\n<style scoped>\n    .dataframe tbody tr th:only-of-type {\n        vertical-align: middle;\n    }\n\n    .dataframe tbody tr th {\n        vertical-align: top;\n    }\n\n    .dataframe thead th {\n        text-align: right;\n    }\n</style>\n<table border=\"1\" class=\"dataframe\">\n  <thead>\n    <tr style=\"text-align: right;\">\n      <th></th>\n      <th>Gender</th>\n      <th>Married</th>\n      <th>Dependents</th>\n      <th>Education</th>\n      <th>Self_Employed</th>\n      <th>ApplicantIncome</th>\n      <th>CoapplicantIncome</th>\n      <th>LoanAmount</th>\n      <th>Loan_Amount_Term</th>\n      <th>Credit_History</th>\n      <th>Property_Area</th>\n      <th>Loan_Status</th>\n    </tr>\n    <tr>\n      <th>Loan_ID</th>\n      <th></th>\n      <th></th>\n      <th></th>\n      <th></th>\n      <th></th>\n      <th></th>\n      <th></th>\n      <th></th>\n      <th></th>\n      <th></th>\n      <th></th>\n      <th></th>\n    </tr>\n  </thead>\n  <tbody>\n    <tr>\n      <th>LP001002</th>\n      <td>Male</td>\n      <td>No</td>\n      <td>0</td>\n      <td>Graduate</td>\n      <td>No</td>\n      <td>5849</td>\n      <td>0.0</td>\n      <td>NaN</td>\n      <td>360.0</td>\n      <td>1.0</td>\n      <td>Urban</td>\n      <td>Y</td>\n    </tr>\n    <tr>\n      <th>LP001003</th>\n      <td>Male</td>\n      <td>Yes</td>\n      <td>1</td>\n      <td>Graduate</td>\n      <td>No</td>\n      <td>4583</td>\n      <td>1508.0</td>\n      <td>128.0</td>\n      <td>360.0</td>\n      <td>1.0</td>\n      <td>Rural</td>\n      <td>N</td>\n    </tr>\n    <tr>\n      <th>LP001005</th>\n      <td>Male</td>\n      <td>Yes</td>\n      <td>0</td>\n      <td>Graduate</td>\n      <td>Yes</td>\n      <td>3000</td>\n      <td>0.0</td>\n      <td>66.0</td>\n      <td>360.0</td>\n      <td>1.0</td>\n      <td>Urban</td>\n      <td>Y</td>\n    </tr>\n    <tr>\n      <th>LP001006</th>\n      <td>Male</td>\n      <td>Yes</td>\n      <td>0</td>\n      <td>Not Graduate</td>\n      <td>No</td>\n      <td>2583</td>\n      <td>2358.0</td>\n      <td>120.0</td>\n      <td>360.0</td>\n      <td>1.0</td>\n      <td>Urban</td>\n      <td>Y</td>\n    </tr>\n    <tr>\n      <th>LP001008</th>\n      <td>Male</td>\n      <td>No</td>\n      <td>0</td>\n      <td>Graduate</td>\n      <td>No</td>\n      <td>6000</td>\n      <td>0.0</td>\n      <td>141.0</td>\n      <td>360.0</td>\n      <td>1.0</td>\n      <td>Urban</td>\n      <td>Y</td>\n    </tr>\n    <tr>\n      <th>LP001011</th>\n      <td>Male</td>\n      <td>Yes</td>\n      <td>2</td>\n      <td>Graduate</td>\n      <td>Yes</td>\n      <td>5417</td>\n      <td>4196.0</td>\n      <td>267.0</td>\n      <td>360.0</td>\n      <td>1.0</td>\n      <td>Urban</td>\n      <td>Y</td>\n    </tr>\n    <tr>\n      <th>LP001013</th>\n      <td>Male</td>\n      <td>Yes</td>\n      <td>0</td>\n      <td>Not Graduate</td>\n      <td>No</td>\n      <td>2333</td>\n      <td>1516.0</td>\n      <td>95.0</td>\n      <td>360.0</td>\n      <td>1.0</td>\n      <td>Urban</td>\n      <td>Y</td>\n    </tr>\n    <tr>\n      <th>LP001014</th>\n      <td>Male</td>\n      <td>Yes</td>\n      <td>3+</td>\n      <td>Graduate</td>\n      <td>No</td>\n      <td>3036</td>\n      <td>2504.0</td>\n      <td>158.0</td>\n      <td>360.0</td>\n      <td>0.0</td>\n      <td>Semiurban</td>\n      <td>N</td>\n    </tr>\n    <tr>\n      <th>LP001018</th>\n      <td>Male</td>\n      <td>Yes</td>\n      <td>2</td>\n      <td>Graduate</td>\n      <td>No</td>\n      <td>4006</td>\n      <td>1526.0</td>\n      <td>168.0</td>\n      <td>360.0</td>\n      <td>1.0</td>\n      <td>Urban</td>\n      <td>Y</td>\n    </tr>\n    <tr>\n      <th>LP001020</th>\n      <td>Male</td>\n      <td>Yes</td>\n      <td>1</td>\n      <td>Graduate</td>\n      <td>No</td>\n      <td>12841</td>\n      <td>10968.0</td>\n      <td>349.0</td>\n      <td>360.0</td>\n      <td>1.0</td>\n      <td>Semiurban</td>\n      <td>N</td>\n    </tr>\n  </tbody>\n</table>\n</div>"
     },
     "metadata": {},
     "execution_count": 211
    }
   ],
   "source": [
    "data = pd.read_csv('train_ctrUa4K.csv', index_col='Loan_ID')\n",
    "data.head(10)"
   ]
  },
  {
   "source": [
    "list of all females who are not graduates and got a loan"
   ],
   "cell_type": "markdown",
   "metadata": {}
  },
  {
   "cell_type": "code",
   "execution_count": 212,
   "metadata": {},
   "outputs": [
    {
     "output_type": "execute_result",
     "data": {
      "text/plain": [
       "          Gender Married Dependents     Education Self_Employed  \\\n",
       "Loan_ID                                                           \n",
       "LP001155  Female     Yes          0  Not Graduate            No   \n",
       "LP001669  Female      No          0  Not Graduate            No   \n",
       "LP001692  Female      No          0  Not Graduate            No   \n",
       "LP001908  Female     Yes          0  Not Graduate            No   \n",
       "LP002300  Female      No          0  Not Graduate            No   \n",
       "LP002314  Female      No          0  Not Graduate            No   \n",
       "LP002407  Female     Yes          0  Not Graduate           Yes   \n",
       "LP002489  Female      No          1  Not Graduate           NaN   \n",
       "LP002502  Female     Yes          2  Not Graduate           NaN   \n",
       "LP002534  Female      No          0  Not Graduate            No   \n",
       "LP002582  Female      No          0  Not Graduate           Yes   \n",
       "LP002731  Female      No          0  Not Graduate           Yes   \n",
       "LP002757  Female     Yes          0  Not Graduate            No   \n",
       "LP002917  Female      No          0  Not Graduate            No   \n",
       "\n",
       "          ApplicantIncome  CoapplicantIncome  LoanAmount  Loan_Amount_Term  \\\n",
       "Loan_ID                                                                      \n",
       "LP001155             1928             1644.0       100.0             360.0   \n",
       "LP001669             1907             2365.0       120.0               NaN   \n",
       "LP001692             4408                0.0       120.0             360.0   \n",
       "LP001908             4100                0.0       124.0             360.0   \n",
       "LP002300             1963                0.0        53.0             360.0   \n",
       "LP002314             2213                0.0        66.0             360.0   \n",
       "LP002407             7142                0.0       138.0             360.0   \n",
       "LP002489             5191                0.0       132.0             360.0   \n",
       "LP002502              210             2917.0        98.0             360.0   \n",
       "LP002534             4350                0.0       154.0             360.0   \n",
       "LP002582            17263                0.0       225.0             360.0   \n",
       "LP002731            18165                0.0       125.0             360.0   \n",
       "LP002757             3017              663.0       102.0             360.0   \n",
       "LP002917             2165                0.0        70.0             360.0   \n",
       "\n",
       "          Credit_History Property_Area Loan_Status  \n",
       "Loan_ID                                             \n",
       "LP001155             1.0     Semiurban           Y  \n",
       "LP001669             1.0         Urban           Y  \n",
       "LP001692             1.0     Semiurban           Y  \n",
       "LP001908             NaN         Rural           Y  \n",
       "LP002300             1.0     Semiurban           Y  \n",
       "LP002314             1.0         Rural           Y  \n",
       "LP002407             1.0         Rural           Y  \n",
       "LP002489             1.0     Semiurban           Y  \n",
       "LP002502             1.0     Semiurban           Y  \n",
       "LP002534             1.0         Rural           Y  \n",
       "LP002582             1.0     Semiurban           Y  \n",
       "LP002731             1.0         Urban           Y  \n",
       "LP002757             NaN     Semiurban           Y  \n",
       "LP002917             1.0     Semiurban           Y  "
      ],
      "text/html": "<div>\n<style scoped>\n    .dataframe tbody tr th:only-of-type {\n        vertical-align: middle;\n    }\n\n    .dataframe tbody tr th {\n        vertical-align: top;\n    }\n\n    .dataframe thead th {\n        text-align: right;\n    }\n</style>\n<table border=\"1\" class=\"dataframe\">\n  <thead>\n    <tr style=\"text-align: right;\">\n      <th></th>\n      <th>Gender</th>\n      <th>Married</th>\n      <th>Dependents</th>\n      <th>Education</th>\n      <th>Self_Employed</th>\n      <th>ApplicantIncome</th>\n      <th>CoapplicantIncome</th>\n      <th>LoanAmount</th>\n      <th>Loan_Amount_Term</th>\n      <th>Credit_History</th>\n      <th>Property_Area</th>\n      <th>Loan_Status</th>\n    </tr>\n    <tr>\n      <th>Loan_ID</th>\n      <th></th>\n      <th></th>\n      <th></th>\n      <th></th>\n      <th></th>\n      <th></th>\n      <th></th>\n      <th></th>\n      <th></th>\n      <th></th>\n      <th></th>\n      <th></th>\n    </tr>\n  </thead>\n  <tbody>\n    <tr>\n      <th>LP001155</th>\n      <td>Female</td>\n      <td>Yes</td>\n      <td>0</td>\n      <td>Not Graduate</td>\n      <td>No</td>\n      <td>1928</td>\n      <td>1644.0</td>\n      <td>100.0</td>\n      <td>360.0</td>\n      <td>1.0</td>\n      <td>Semiurban</td>\n      <td>Y</td>\n    </tr>\n    <tr>\n      <th>LP001669</th>\n      <td>Female</td>\n      <td>No</td>\n      <td>0</td>\n      <td>Not Graduate</td>\n      <td>No</td>\n      <td>1907</td>\n      <td>2365.0</td>\n      <td>120.0</td>\n      <td>NaN</td>\n      <td>1.0</td>\n      <td>Urban</td>\n      <td>Y</td>\n    </tr>\n    <tr>\n      <th>LP001692</th>\n      <td>Female</td>\n      <td>No</td>\n      <td>0</td>\n      <td>Not Graduate</td>\n      <td>No</td>\n      <td>4408</td>\n      <td>0.0</td>\n      <td>120.0</td>\n      <td>360.0</td>\n      <td>1.0</td>\n      <td>Semiurban</td>\n      <td>Y</td>\n    </tr>\n    <tr>\n      <th>LP001908</th>\n      <td>Female</td>\n      <td>Yes</td>\n      <td>0</td>\n      <td>Not Graduate</td>\n      <td>No</td>\n      <td>4100</td>\n      <td>0.0</td>\n      <td>124.0</td>\n      <td>360.0</td>\n      <td>NaN</td>\n      <td>Rural</td>\n      <td>Y</td>\n    </tr>\n    <tr>\n      <th>LP002300</th>\n      <td>Female</td>\n      <td>No</td>\n      <td>0</td>\n      <td>Not Graduate</td>\n      <td>No</td>\n      <td>1963</td>\n      <td>0.0</td>\n      <td>53.0</td>\n      <td>360.0</td>\n      <td>1.0</td>\n      <td>Semiurban</td>\n      <td>Y</td>\n    </tr>\n    <tr>\n      <th>LP002314</th>\n      <td>Female</td>\n      <td>No</td>\n      <td>0</td>\n      <td>Not Graduate</td>\n      <td>No</td>\n      <td>2213</td>\n      <td>0.0</td>\n      <td>66.0</td>\n      <td>360.0</td>\n      <td>1.0</td>\n      <td>Rural</td>\n      <td>Y</td>\n    </tr>\n    <tr>\n      <th>LP002407</th>\n      <td>Female</td>\n      <td>Yes</td>\n      <td>0</td>\n      <td>Not Graduate</td>\n      <td>Yes</td>\n      <td>7142</td>\n      <td>0.0</td>\n      <td>138.0</td>\n      <td>360.0</td>\n      <td>1.0</td>\n      <td>Rural</td>\n      <td>Y</td>\n    </tr>\n    <tr>\n      <th>LP002489</th>\n      <td>Female</td>\n      <td>No</td>\n      <td>1</td>\n      <td>Not Graduate</td>\n      <td>NaN</td>\n      <td>5191</td>\n      <td>0.0</td>\n      <td>132.0</td>\n      <td>360.0</td>\n      <td>1.0</td>\n      <td>Semiurban</td>\n      <td>Y</td>\n    </tr>\n    <tr>\n      <th>LP002502</th>\n      <td>Female</td>\n      <td>Yes</td>\n      <td>2</td>\n      <td>Not Graduate</td>\n      <td>NaN</td>\n      <td>210</td>\n      <td>2917.0</td>\n      <td>98.0</td>\n      <td>360.0</td>\n      <td>1.0</td>\n      <td>Semiurban</td>\n      <td>Y</td>\n    </tr>\n    <tr>\n      <th>LP002534</th>\n      <td>Female</td>\n      <td>No</td>\n      <td>0</td>\n      <td>Not Graduate</td>\n      <td>No</td>\n      <td>4350</td>\n      <td>0.0</td>\n      <td>154.0</td>\n      <td>360.0</td>\n      <td>1.0</td>\n      <td>Rural</td>\n      <td>Y</td>\n    </tr>\n    <tr>\n      <th>LP002582</th>\n      <td>Female</td>\n      <td>No</td>\n      <td>0</td>\n      <td>Not Graduate</td>\n      <td>Yes</td>\n      <td>17263</td>\n      <td>0.0</td>\n      <td>225.0</td>\n      <td>360.0</td>\n      <td>1.0</td>\n      <td>Semiurban</td>\n      <td>Y</td>\n    </tr>\n    <tr>\n      <th>LP002731</th>\n      <td>Female</td>\n      <td>No</td>\n      <td>0</td>\n      <td>Not Graduate</td>\n      <td>Yes</td>\n      <td>18165</td>\n      <td>0.0</td>\n      <td>125.0</td>\n      <td>360.0</td>\n      <td>1.0</td>\n      <td>Urban</td>\n      <td>Y</td>\n    </tr>\n    <tr>\n      <th>LP002757</th>\n      <td>Female</td>\n      <td>Yes</td>\n      <td>0</td>\n      <td>Not Graduate</td>\n      <td>No</td>\n      <td>3017</td>\n      <td>663.0</td>\n      <td>102.0</td>\n      <td>360.0</td>\n      <td>NaN</td>\n      <td>Semiurban</td>\n      <td>Y</td>\n    </tr>\n    <tr>\n      <th>LP002917</th>\n      <td>Female</td>\n      <td>No</td>\n      <td>0</td>\n      <td>Not Graduate</td>\n      <td>No</td>\n      <td>2165</td>\n      <td>0.0</td>\n      <td>70.0</td>\n      <td>360.0</td>\n      <td>1.0</td>\n      <td>Semiurban</td>\n      <td>Y</td>\n    </tr>\n  </tbody>\n</table>\n</div>"
     },
     "metadata": {},
     "execution_count": 212
    }
   ],
   "source": [
    "filter1 = data.loc[(data['Gender']== 'Female') & (data['Education'] == 'Not Graduate') &(data['Loan_Status'] == 'Y')]     \n",
    "filter1"
   ]
  },
  {
   "cell_type": "code",
   "execution_count": 213,
   "metadata": {},
   "outputs": [
    {
     "output_type": "execute_result",
     "data": {
      "text/plain": [
       "          Gender     Education Loan_Status\n",
       "Loan_ID                                   \n",
       "LP001155  Female  Not Graduate           Y\n",
       "LP001669  Female  Not Graduate           Y\n",
       "LP001692  Female  Not Graduate           Y\n",
       "LP001908  Female  Not Graduate           Y\n",
       "LP002300  Female  Not Graduate           Y\n",
       "LP002314  Female  Not Graduate           Y\n",
       "LP002407  Female  Not Graduate           Y\n",
       "LP002489  Female  Not Graduate           Y\n",
       "LP002502  Female  Not Graduate           Y\n",
       "LP002534  Female  Not Graduate           Y\n",
       "LP002582  Female  Not Graduate           Y\n",
       "LP002731  Female  Not Graduate           Y\n",
       "LP002757  Female  Not Graduate           Y\n",
       "LP002917  Female  Not Graduate           Y"
      ],
      "text/html": "<div>\n<style scoped>\n    .dataframe tbody tr th:only-of-type {\n        vertical-align: middle;\n    }\n\n    .dataframe tbody tr th {\n        vertical-align: top;\n    }\n\n    .dataframe thead th {\n        text-align: right;\n    }\n</style>\n<table border=\"1\" class=\"dataframe\">\n  <thead>\n    <tr style=\"text-align: right;\">\n      <th></th>\n      <th>Gender</th>\n      <th>Education</th>\n      <th>Loan_Status</th>\n    </tr>\n    <tr>\n      <th>Loan_ID</th>\n      <th></th>\n      <th></th>\n      <th></th>\n    </tr>\n  </thead>\n  <tbody>\n    <tr>\n      <th>LP001155</th>\n      <td>Female</td>\n      <td>Not Graduate</td>\n      <td>Y</td>\n    </tr>\n    <tr>\n      <th>LP001669</th>\n      <td>Female</td>\n      <td>Not Graduate</td>\n      <td>Y</td>\n    </tr>\n    <tr>\n      <th>LP001692</th>\n      <td>Female</td>\n      <td>Not Graduate</td>\n      <td>Y</td>\n    </tr>\n    <tr>\n      <th>LP001908</th>\n      <td>Female</td>\n      <td>Not Graduate</td>\n      <td>Y</td>\n    </tr>\n    <tr>\n      <th>LP002300</th>\n      <td>Female</td>\n      <td>Not Graduate</td>\n      <td>Y</td>\n    </tr>\n    <tr>\n      <th>LP002314</th>\n      <td>Female</td>\n      <td>Not Graduate</td>\n      <td>Y</td>\n    </tr>\n    <tr>\n      <th>LP002407</th>\n      <td>Female</td>\n      <td>Not Graduate</td>\n      <td>Y</td>\n    </tr>\n    <tr>\n      <th>LP002489</th>\n      <td>Female</td>\n      <td>Not Graduate</td>\n      <td>Y</td>\n    </tr>\n    <tr>\n      <th>LP002502</th>\n      <td>Female</td>\n      <td>Not Graduate</td>\n      <td>Y</td>\n    </tr>\n    <tr>\n      <th>LP002534</th>\n      <td>Female</td>\n      <td>Not Graduate</td>\n      <td>Y</td>\n    </tr>\n    <tr>\n      <th>LP002582</th>\n      <td>Female</td>\n      <td>Not Graduate</td>\n      <td>Y</td>\n    </tr>\n    <tr>\n      <th>LP002731</th>\n      <td>Female</td>\n      <td>Not Graduate</td>\n      <td>Y</td>\n    </tr>\n    <tr>\n      <th>LP002757</th>\n      <td>Female</td>\n      <td>Not Graduate</td>\n      <td>Y</td>\n    </tr>\n    <tr>\n      <th>LP002917</th>\n      <td>Female</td>\n      <td>Not Graduate</td>\n      <td>Y</td>\n    </tr>\n  </tbody>\n</table>\n</div>"
     },
     "metadata": {},
     "execution_count": 213
    }
   ],
   "source": [
    "filter1[[\"Gender\",\"Education\",\"Loan_Status\"]]"
   ]
  },
  {
   "source": [
    "Perform filtering with only 3 columns"
   ],
   "cell_type": "markdown",
   "metadata": {}
  },
  {
   "cell_type": "code",
   "execution_count": 214,
   "metadata": {},
   "outputs": [
    {
     "output_type": "execute_result",
     "data": {
      "text/plain": [
       "          Gender     Education Loan_Status\n",
       "Loan_ID                                   \n",
       "LP001155  Female  Not Graduate           Y\n",
       "LP001669  Female  Not Graduate           Y\n",
       "LP001692  Female  Not Graduate           Y\n",
       "LP001908  Female  Not Graduate           Y\n",
       "LP002300  Female  Not Graduate           Y\n",
       "LP002314  Female  Not Graduate           Y\n",
       "LP002407  Female  Not Graduate           Y\n",
       "LP002489  Female  Not Graduate           Y\n",
       "LP002502  Female  Not Graduate           Y\n",
       "LP002534  Female  Not Graduate           Y\n",
       "LP002582  Female  Not Graduate           Y\n",
       "LP002731  Female  Not Graduate           Y\n",
       "LP002757  Female  Not Graduate           Y\n",
       "LP002917  Female  Not Graduate           Y"
      ],
      "text/html": "<div>\n<style scoped>\n    .dataframe tbody tr th:only-of-type {\n        vertical-align: middle;\n    }\n\n    .dataframe tbody tr th {\n        vertical-align: top;\n    }\n\n    .dataframe thead th {\n        text-align: right;\n    }\n</style>\n<table border=\"1\" class=\"dataframe\">\n  <thead>\n    <tr style=\"text-align: right;\">\n      <th></th>\n      <th>Gender</th>\n      <th>Education</th>\n      <th>Loan_Status</th>\n    </tr>\n    <tr>\n      <th>Loan_ID</th>\n      <th></th>\n      <th></th>\n      <th></th>\n    </tr>\n  </thead>\n  <tbody>\n    <tr>\n      <th>LP001155</th>\n      <td>Female</td>\n      <td>Not Graduate</td>\n      <td>Y</td>\n    </tr>\n    <tr>\n      <th>LP001669</th>\n      <td>Female</td>\n      <td>Not Graduate</td>\n      <td>Y</td>\n    </tr>\n    <tr>\n      <th>LP001692</th>\n      <td>Female</td>\n      <td>Not Graduate</td>\n      <td>Y</td>\n    </tr>\n    <tr>\n      <th>LP001908</th>\n      <td>Female</td>\n      <td>Not Graduate</td>\n      <td>Y</td>\n    </tr>\n    <tr>\n      <th>LP002300</th>\n      <td>Female</td>\n      <td>Not Graduate</td>\n      <td>Y</td>\n    </tr>\n    <tr>\n      <th>LP002314</th>\n      <td>Female</td>\n      <td>Not Graduate</td>\n      <td>Y</td>\n    </tr>\n    <tr>\n      <th>LP002407</th>\n      <td>Female</td>\n      <td>Not Graduate</td>\n      <td>Y</td>\n    </tr>\n    <tr>\n      <th>LP002489</th>\n      <td>Female</td>\n      <td>Not Graduate</td>\n      <td>Y</td>\n    </tr>\n    <tr>\n      <th>LP002502</th>\n      <td>Female</td>\n      <td>Not Graduate</td>\n      <td>Y</td>\n    </tr>\n    <tr>\n      <th>LP002534</th>\n      <td>Female</td>\n      <td>Not Graduate</td>\n      <td>Y</td>\n    </tr>\n    <tr>\n      <th>LP002582</th>\n      <td>Female</td>\n      <td>Not Graduate</td>\n      <td>Y</td>\n    </tr>\n    <tr>\n      <th>LP002731</th>\n      <td>Female</td>\n      <td>Not Graduate</td>\n      <td>Y</td>\n    </tr>\n    <tr>\n      <th>LP002757</th>\n      <td>Female</td>\n      <td>Not Graduate</td>\n      <td>Y</td>\n    </tr>\n    <tr>\n      <th>LP002917</th>\n      <td>Female</td>\n      <td>Not Graduate</td>\n      <td>Y</td>\n    </tr>\n  </tbody>\n</table>\n</div>"
     },
     "metadata": {},
     "execution_count": 214
    }
   ],
   "source": [
    "filter2 = data.loc[(data['Gender']== 'Female') & (data['Education'] == 'Not Graduate') &(data['Loan_Status'] == 'Y'), [\"Gender\",\"Education\",\"Loan_Status\"] ] \n",
    "filter2    "
   ]
  },
  {
   "source": [
    "Apply Function in Pandas"
   ],
   "cell_type": "markdown",
   "metadata": {}
  },
  {
   "cell_type": "code",
   "execution_count": 215,
   "metadata": {},
   "outputs": [],
   "source": [
    "#Create a new function:\n",
    "def num_missing(x):\n",
    "    return sum(x.isnull())\n"
   ]
  },
  {
   "cell_type": "code",
   "execution_count": 216,
   "metadata": {},
   "outputs": [
    {
     "output_type": "stream",
     "name": "stdout",
     "text": [
      "Missing values per column:\n\nGender               13\nMarried               3\nDependents           15\nEducation             0\nSelf_Employed        32\nApplicantIncome       0\nCoapplicantIncome     0\nLoanAmount           22\nLoan_Amount_Term     14\nCredit_History       50\nProperty_Area         0\nLoan_Status           0\ndtype: int64\n"
     ]
    }
   ],
   "source": [
    "#Applying per column:\n",
    "print (\"Missing values per column:\\n\")\n",
    "print (data.apply(num_missing, axis=0)) #axis=0 defines that function is to be applied on each column"
   ]
  },
  {
   "cell_type": "code",
   "execution_count": 217,
   "metadata": {},
   "outputs": [
    {
     "output_type": "stream",
     "name": "stdout",
     "text": [
      "\nMissing values per row:\n\nLoan_ID\nLP001002    1\nLP001003    0\nLP001005    0\nLP001006    0\nLP001008    0\ndtype: int64\n"
     ]
    }
   ],
   "source": [
    "#Applying per row:\n",
    "print (\"\\nMissing values per row:\\n\")\n",
    "print (data.apply(num_missing, axis=1).head()) #axis=1 defines that function is to be applied on each row"
   ]
  },
  {
   "source": [
    "Imputing missing values using Pandas\n",
    "‘fillna()’ does it in one go. It is used for updating missing values with the overall mean/mode/median of the column. Let’s impute the ‘Gender’, ‘Married’ and ‘Self_Employed’ columns with their respective modes."
   ],
   "cell_type": "markdown",
   "metadata": {}
  },
  {
   "cell_type": "code",
   "execution_count": 218,
   "metadata": {},
   "outputs": [
    {
     "output_type": "execute_result",
     "data": {
      "text/plain": [
       "ModeResult(mode=array(['Male'], dtype=object), count=array([489]))"
      ]
     },
     "metadata": {},
     "execution_count": 218
    }
   ],
   "source": [
    "#First we import scipy function to determine the mode\n",
    "from scipy.stats import mode\n",
    "mode(data['Gender'])"
   ]
  },
  {
   "cell_type": "code",
   "execution_count": 219,
   "metadata": {},
   "outputs": [
    {
     "output_type": "execute_result",
     "data": {
      "text/plain": [
       "'Male'"
      ]
     },
     "metadata": {},
     "execution_count": 219
    }
   ],
   "source": [
    "mode(data['Gender']).mode[0]    #We will take the first one by default "
   ]
  },
  {
   "cell_type": "code",
   "execution_count": 220,
   "metadata": {},
   "outputs": [
    {
     "output_type": "stream",
     "name": "stdout",
     "text": [
      "Gender                0\nMarried               0\nDependents           15\nEducation             0\nSelf_Employed         0\nApplicantIncome       0\nCoapplicantIncome     0\nLoanAmount           22\nLoan_Amount_Term     14\nCredit_History       50\nProperty_Area         0\nLoan_Status           0\ndtype: int64\n"
     ]
    }
   ],
   "source": [
    "#Impute the values:\n",
    "data['Gender'].fillna(mode(data['Gender']).mode[0], inplace=True)    # as an example.....will put all missing values as 'male'\n",
    "data['Married'].fillna(mode(data['Married']).mode[0], inplace=True)\n",
    "data['Self_Employed'].fillna(mode(data['Self_Employed']).mode[0], inplace=True)\n",
    "\n",
    "#Now check the #missing values again to confirm:\n",
    "print (data.apply(num_missing, axis=0))"
   ]
  },
  {
   "source": [
    "#Pivot Table in Pandas to fill missing values to LoanAmount"
   ],
   "cell_type": "markdown",
   "metadata": {}
  },
  {
   "cell_type": "code",
   "execution_count": 221,
   "metadata": {},
   "outputs": [
    {
     "output_type": "execute_result",
     "data": {
      "text/plain": [
       "                              LoanAmount\n",
       "Gender Married Self_Employed            \n",
       "Female No      No             114.691176\n",
       "               Yes            125.800000\n",
       "       Yes     No             134.222222\n",
       "               Yes            282.250000\n",
       "Male   No      No             129.936937\n",
       "               Yes            180.588235\n",
       "       Yes     No             153.882736\n",
       "               Yes            169.395833"
      ],
      "text/html": "<div>\n<style scoped>\n    .dataframe tbody tr th:only-of-type {\n        vertical-align: middle;\n    }\n\n    .dataframe tbody tr th {\n        vertical-align: top;\n    }\n\n    .dataframe thead th {\n        text-align: right;\n    }\n</style>\n<table border=\"1\" class=\"dataframe\">\n  <thead>\n    <tr style=\"text-align: right;\">\n      <th></th>\n      <th></th>\n      <th></th>\n      <th>LoanAmount</th>\n    </tr>\n    <tr>\n      <th>Gender</th>\n      <th>Married</th>\n      <th>Self_Employed</th>\n      <th></th>\n    </tr>\n  </thead>\n  <tbody>\n    <tr>\n      <th rowspan=\"4\" valign=\"top\">Female</th>\n      <th rowspan=\"2\" valign=\"top\">No</th>\n      <th>No</th>\n      <td>114.691176</td>\n    </tr>\n    <tr>\n      <th>Yes</th>\n      <td>125.800000</td>\n    </tr>\n    <tr>\n      <th rowspan=\"2\" valign=\"top\">Yes</th>\n      <th>No</th>\n      <td>134.222222</td>\n    </tr>\n    <tr>\n      <th>Yes</th>\n      <td>282.250000</td>\n    </tr>\n    <tr>\n      <th rowspan=\"4\" valign=\"top\">Male</th>\n      <th rowspan=\"2\" valign=\"top\">No</th>\n      <th>No</th>\n      <td>129.936937</td>\n    </tr>\n    <tr>\n      <th>Yes</th>\n      <td>180.588235</td>\n    </tr>\n    <tr>\n      <th rowspan=\"2\" valign=\"top\">Yes</th>\n      <th>No</th>\n      <td>153.882736</td>\n    </tr>\n    <tr>\n      <th>Yes</th>\n      <td>169.395833</td>\n    </tr>\n  </tbody>\n</table>\n</div>"
     },
     "metadata": {},
     "execution_count": 221
    }
   ],
   "source": [
    "#Determine pivot table\n",
    "impute_grps = data.pivot_table(values=[\"LoanAmount\"], index=[\"Gender\",\"Married\",\"Self_Employed\"], aggfunc=np.mean)\n",
    "impute_grps\n"
   ]
  },
  {
   "cell_type": "code",
   "execution_count": 222,
   "metadata": {},
   "outputs": [
    {
     "output_type": "execute_result",
     "data": {
      "text/plain": [
       "MultiIndex([('Female',  'No',  'No'),\n",
       "            ('Female',  'No', 'Yes'),\n",
       "            ('Female', 'Yes',  'No'),\n",
       "            ('Female', 'Yes', 'Yes'),\n",
       "            (  'Male',  'No',  'No'),\n",
       "            (  'Male',  'No', 'Yes'),\n",
       "            (  'Male', 'Yes',  'No'),\n",
       "            (  'Male', 'Yes', 'Yes')],\n",
       "           names=['Gender', 'Married', 'Self_Employed'])"
      ]
     },
     "metadata": {},
     "execution_count": 222
    }
   ],
   "source": [
    "impute_grps.index"
   ]
  },
  {
   "cell_type": "code",
   "execution_count": 223,
   "metadata": {},
   "outputs": [
    {
     "output_type": "execute_result",
     "data": {
      "text/plain": [
       "                    0\n",
       "0    (Female, No, No)\n",
       "1   (Female, No, Yes)\n",
       "2   (Female, Yes, No)\n",
       "3  (Female, Yes, Yes)\n",
       "4      (Male, No, No)\n",
       "5     (Male, No, Yes)\n",
       "6     (Male, Yes, No)\n",
       "7    (Male, Yes, Yes)"
      ],
      "text/html": "<div>\n<style scoped>\n    .dataframe tbody tr th:only-of-type {\n        vertical-align: middle;\n    }\n\n    .dataframe tbody tr th {\n        vertical-align: top;\n    }\n\n    .dataframe thead th {\n        text-align: right;\n    }\n</style>\n<table border=\"1\" class=\"dataframe\">\n  <thead>\n    <tr style=\"text-align: right;\">\n      <th></th>\n      <th>0</th>\n    </tr>\n  </thead>\n  <tbody>\n    <tr>\n      <th>0</th>\n      <td>(Female, No, No)</td>\n    </tr>\n    <tr>\n      <th>1</th>\n      <td>(Female, No, Yes)</td>\n    </tr>\n    <tr>\n      <th>2</th>\n      <td>(Female, Yes, No)</td>\n    </tr>\n    <tr>\n      <th>3</th>\n      <td>(Female, Yes, Yes)</td>\n    </tr>\n    <tr>\n      <th>4</th>\n      <td>(Male, No, No)</td>\n    </tr>\n    <tr>\n      <th>5</th>\n      <td>(Male, No, Yes)</td>\n    </tr>\n    <tr>\n      <th>6</th>\n      <td>(Male, Yes, No)</td>\n    </tr>\n    <tr>\n      <th>7</th>\n      <td>(Male, Yes, Yes)</td>\n    </tr>\n  </tbody>\n</table>\n</div>"
     },
     "metadata": {},
     "execution_count": 223
    }
   ],
   "source": [
    "len(impute_grps)\n",
    "impute_grps.shape    # (8, 1)\n",
    "combinations  = pd.DataFrame(impute_grps.index)\n",
    "combinations\n",
    "\n",
    "    \n"
   ]
  },
  {
   "cell_type": "code",
   "execution_count": 224,
   "metadata": {},
   "outputs": [
    {
     "output_type": "execute_result",
     "data": {
      "text/plain": [
       "                              LoanAmount\n",
       "Gender Married Self_Employed            \n",
       "Female Yes     Yes                282.25"
      ],
      "text/html": "<div>\n<style scoped>\n    .dataframe tbody tr th:only-of-type {\n        vertical-align: middle;\n    }\n\n    .dataframe tbody tr th {\n        vertical-align: top;\n    }\n\n    .dataframe thead th {\n        text-align: right;\n    }\n</style>\n<table border=\"1\" class=\"dataframe\">\n  <thead>\n    <tr style=\"text-align: right;\">\n      <th></th>\n      <th></th>\n      <th></th>\n      <th>LoanAmount</th>\n    </tr>\n    <tr>\n      <th>Gender</th>\n      <th>Married</th>\n      <th>Self_Employed</th>\n      <th></th>\n    </tr>\n  </thead>\n  <tbody>\n    <tr>\n      <th>Female</th>\n      <th>Yes</th>\n      <th>Yes</th>\n      <td>282.25</td>\n    </tr>\n  </tbody>\n</table>\n</div>"
     },
     "metadata": {},
     "execution_count": 224
    }
   ],
   "source": [
    "impute_grps.loc[['Female'], ['Yes'], ['Yes']]"
   ]
  },
  {
   "cell_type": "code",
   "execution_count": 225,
   "metadata": {},
   "outputs": [
    {
     "output_type": "execute_result",
     "data": {
      "text/plain": [
       "153.8827361563518"
      ]
     },
     "metadata": {},
     "execution_count": 225
    }
   ],
   "source": [
    "impute_grps.loc[('Male', 'Yes', 'No'), 'LoanAmount']"
   ]
  },
  {
   "cell_type": "code",
   "execution_count": 226,
   "metadata": {},
   "outputs": [
    {
     "output_type": "execute_result",
     "data": {
      "text/plain": [
       "FrozenList([['Female', 'Male'], ['No', 'Yes'], ['No', 'Yes']])"
      ]
     },
     "metadata": {},
     "execution_count": 226
    }
   ],
   "source": [
    "impute_grps.index.levels"
   ]
  },
  {
   "cell_type": "code",
   "execution_count": 227,
   "metadata": {},
   "outputs": [
    {
     "output_type": "execute_result",
     "data": {
      "text/plain": [
       "22"
      ]
     },
     "metadata": {},
     "execution_count": 227
    }
   ],
   "source": [
    "data['LoanAmount'].isnull().sum()    # number of missing values"
   ]
  },
  {
   "cell_type": "code",
   "execution_count": 228,
   "metadata": {},
   "outputs": [
    {
     "output_type": "execute_result",
     "data": {
      "text/plain": [
       "         Gender Married Self_Employed  LoanAmount\n",
       "Loan_ID                                          \n",
       "LP001002   Male      No            No         NaN\n",
       "LP001008   Male      No            No       141.0\n",
       "LP001029   Male      No            No       114.0\n",
       "LP001032   Male      No            No       125.0\n",
       "LP001034   Male      No            No       100.0\n",
       "...         ...     ...           ...         ...\n",
       "LP002893   Male      No            No        90.0\n",
       "LP002925   Male      No            No        94.0\n",
       "LP002940   Male      No            No       110.0\n",
       "LP002943   Male      No            No        88.0\n",
       "LP002958   Male      No            No       172.0\n",
       "\n",
       "[116 rows x 4 columns]"
      ],
      "text/html": "<div>\n<style scoped>\n    .dataframe tbody tr th:only-of-type {\n        vertical-align: middle;\n    }\n\n    .dataframe tbody tr th {\n        vertical-align: top;\n    }\n\n    .dataframe thead th {\n        text-align: right;\n    }\n</style>\n<table border=\"1\" class=\"dataframe\">\n  <thead>\n    <tr style=\"text-align: right;\">\n      <th></th>\n      <th>Gender</th>\n      <th>Married</th>\n      <th>Self_Employed</th>\n      <th>LoanAmount</th>\n    </tr>\n    <tr>\n      <th>Loan_ID</th>\n      <th></th>\n      <th></th>\n      <th></th>\n      <th></th>\n    </tr>\n  </thead>\n  <tbody>\n    <tr>\n      <th>LP001002</th>\n      <td>Male</td>\n      <td>No</td>\n      <td>No</td>\n      <td>NaN</td>\n    </tr>\n    <tr>\n      <th>LP001008</th>\n      <td>Male</td>\n      <td>No</td>\n      <td>No</td>\n      <td>141.0</td>\n    </tr>\n    <tr>\n      <th>LP001029</th>\n      <td>Male</td>\n      <td>No</td>\n      <td>No</td>\n      <td>114.0</td>\n    </tr>\n    <tr>\n      <th>LP001032</th>\n      <td>Male</td>\n      <td>No</td>\n      <td>No</td>\n      <td>125.0</td>\n    </tr>\n    <tr>\n      <th>LP001034</th>\n      <td>Male</td>\n      <td>No</td>\n      <td>No</td>\n      <td>100.0</td>\n    </tr>\n    <tr>\n      <th>...</th>\n      <td>...</td>\n      <td>...</td>\n      <td>...</td>\n      <td>...</td>\n    </tr>\n    <tr>\n      <th>LP002893</th>\n      <td>Male</td>\n      <td>No</td>\n      <td>No</td>\n      <td>90.0</td>\n    </tr>\n    <tr>\n      <th>LP002925</th>\n      <td>Male</td>\n      <td>No</td>\n      <td>No</td>\n      <td>94.0</td>\n    </tr>\n    <tr>\n      <th>LP002940</th>\n      <td>Male</td>\n      <td>No</td>\n      <td>No</td>\n      <td>110.0</td>\n    </tr>\n    <tr>\n      <th>LP002943</th>\n      <td>Male</td>\n      <td>No</td>\n      <td>No</td>\n      <td>88.0</td>\n    </tr>\n    <tr>\n      <th>LP002958</th>\n      <td>Male</td>\n      <td>No</td>\n      <td>No</td>\n      <td>172.0</td>\n    </tr>\n  </tbody>\n</table>\n<p>116 rows × 4 columns</p>\n</div>"
     },
     "metadata": {},
     "execution_count": 228
    }
   ],
   "source": [
    "data.columns\n",
    "data[data['Gender'] == 'Male']\n",
    "\n",
    "mask1 = data[(data['Married']== 'No') & (data['Self_Employed'] == 'No') & (data['Gender'] == 'Male')]\n",
    "mask1[[\"Gender\",\"Married\",\"Self_Employed\", \"LoanAmount\"]]"
   ]
  },
  {
   "cell_type": "code",
   "execution_count": 229,
   "metadata": {},
   "outputs": [],
   "source": [
    "#iterate only through rows with missing LoanAmount\n",
    "for i,bbb in data.loc[data['LoanAmount'].isnull(),:].iterrows():\n",
    "    ind = tuple([bbb['Gender'],bbb['Married'],bbb['Self_Employed']])\n",
    "    data.loc[i,'LoanAmount'] = impute_grps.loc[ind].values[0]\n",
    "    "
   ]
  },
  {
   "cell_type": "code",
   "execution_count": 230,
   "metadata": {},
   "outputs": [
    {
     "output_type": "execute_result",
     "data": {
      "text/plain": [
       "          Gender Married Dependents     Education Self_Employed  \\\n",
       "Loan_ID                                                           \n",
       "LP001888  Female      No          0      Graduate            No   \n",
       "LP001891    Male     Yes          0      Graduate            No   \n",
       "LP001892    Male      No          0      Graduate            No   \n",
       "LP001894    Male     Yes          0      Graduate            No   \n",
       "LP001896    Male     Yes          2      Graduate            No   \n",
       "LP001900    Male     Yes          1      Graduate            No   \n",
       "LP001903    Male     Yes          0      Graduate            No   \n",
       "LP001904    Male     Yes          0      Graduate            No   \n",
       "LP001907    Male     Yes          0      Graduate            No   \n",
       "LP001908  Female     Yes          0  Not Graduate            No   \n",
       "LP001910    Male      No          1  Not Graduate           Yes   \n",
       "LP001914    Male     Yes          0      Graduate            No   \n",
       "LP001915    Male     Yes          2      Graduate            No   \n",
       "LP001917  Female      No          0      Graduate            No   \n",
       "LP001922    Male     Yes          0      Graduate            No   \n",
       "LP001924    Male      No          0      Graduate            No   \n",
       "LP001925  Female      No          0      Graduate           Yes   \n",
       "LP001926    Male     Yes          0      Graduate            No   \n",
       "LP001931  Female      No          0      Graduate            No   \n",
       "LP001935    Male      No          0      Graduate            No   \n",
       "LP001936    Male     Yes          0      Graduate            No   \n",
       "LP001938    Male     Yes          2      Graduate            No   \n",
       "LP001940    Male     Yes          2      Graduate            No   \n",
       "LP001945  Female      No        NaN      Graduate            No   \n",
       "LP001947    Male     Yes          0      Graduate            No   \n",
       "LP001949    Male     Yes         3+      Graduate            No   \n",
       "LP001953    Male     Yes          1      Graduate            No   \n",
       "LP001954  Female     Yes          1      Graduate            No   \n",
       "LP001955  Female      No          0      Graduate            No   \n",
       "LP001963    Male     Yes          1      Graduate            No   \n",
       "LP001964    Male     Yes          0  Not Graduate            No   \n",
       "LP001972    Male     Yes        NaN  Not Graduate            No   \n",
       "LP001974  Female      No          0      Graduate            No   \n",
       "LP001977    Male     Yes          1      Graduate            No   \n",
       "LP001978    Male      No          0      Graduate            No   \n",
       "LP001990    Male      No          0  Not Graduate            No   \n",
       "LP001993  Female      No          0      Graduate            No   \n",
       "LP001994  Female      No          0      Graduate            No   \n",
       "LP001996    Male      No          0      Graduate            No   \n",
       "LP001998    Male     Yes          2  Not Graduate            No   \n",
       "LP002002  Female      No          0      Graduate            No   \n",
       "LP002004    Male      No          0  Not Graduate            No   \n",
       "LP002006  Female      No          0      Graduate            No   \n",
       "LP002008    Male     Yes          2      Graduate           Yes   \n",
       "LP002024    Male     Yes          0      Graduate            No   \n",
       "LP002031    Male     Yes          1  Not Graduate            No   \n",
       "LP002035    Male     Yes          2      Graduate            No   \n",
       "LP002036    Male     Yes          0      Graduate            No   \n",
       "LP002043  Female      No          1      Graduate            No   \n",
       "LP002050    Male     Yes          1      Graduate           Yes   \n",
       "\n",
       "          ApplicantIncome  CoapplicantIncome  LoanAmount  Loan_Amount_Term  \\\n",
       "Loan_ID                                                                      \n",
       "LP001888             3237           0.000000   30.000000             360.0   \n",
       "LP001891            11146           0.000000  136.000000             360.0   \n",
       "LP001892             2833        1857.000000  126.000000             360.0   \n",
       "LP001894             2620        2223.000000  150.000000             360.0   \n",
       "LP001896             3900           0.000000   90.000000             360.0   \n",
       "LP001900             2750        1842.000000  115.000000             360.0   \n",
       "LP001903             3993        3274.000000  207.000000             360.0   \n",
       "LP001904             3103        1300.000000   80.000000             360.0   \n",
       "LP001907            14583           0.000000  436.000000             360.0   \n",
       "LP001908             4100           0.000000  124.000000             360.0   \n",
       "LP001910             4053        2426.000000  158.000000             360.0   \n",
       "LP001914             3927         800.000000  112.000000             360.0   \n",
       "LP001915             2301         985.799988   78.000000             180.0   \n",
       "LP001917             1811        1666.000000   54.000000             360.0   \n",
       "LP001922            20667           0.000000  153.882736             360.0   \n",
       "LP001924             3158        3053.000000   89.000000             360.0   \n",
       "LP001925             2600        1717.000000   99.000000             300.0   \n",
       "LP001926             3704        2000.000000  120.000000             360.0   \n",
       "LP001931             4124           0.000000  115.000000             360.0   \n",
       "LP001935             9508           0.000000  187.000000             360.0   \n",
       "LP001936             3075        2416.000000  139.000000             360.0   \n",
       "LP001938             4400           0.000000  127.000000             360.0   \n",
       "LP001940             3153        1560.000000  134.000000             360.0   \n",
       "LP001945             5417           0.000000  143.000000             480.0   \n",
       "LP001947             2383        3334.000000  172.000000             360.0   \n",
       "LP001949             4416        1250.000000  110.000000             360.0   \n",
       "LP001953             6875           0.000000  200.000000             360.0   \n",
       "LP001954             4666           0.000000  135.000000             360.0   \n",
       "LP001955             5000        2541.000000  151.000000             480.0   \n",
       "LP001963             2014        2925.000000  113.000000             360.0   \n",
       "LP001964             1800        2934.000000   93.000000             360.0   \n",
       "LP001972             2875        1750.000000  105.000000             360.0   \n",
       "LP001974             5000           0.000000  132.000000             360.0   \n",
       "LP001977             1625        1803.000000   96.000000             360.0   \n",
       "LP001978             4000        2500.000000  140.000000             360.0   \n",
       "LP001990             2000           0.000000  129.936937             360.0   \n",
       "LP001993             3762        1666.000000  135.000000             360.0   \n",
       "LP001994             2400        1863.000000  104.000000             360.0   \n",
       "LP001996            20233           0.000000  480.000000             360.0   \n",
       "LP001998             7667           0.000000  185.000000             360.0   \n",
       "LP002002             2917           0.000000   84.000000             360.0   \n",
       "LP002004             2927        2405.000000  111.000000             360.0   \n",
       "LP002006             2507           0.000000   56.000000             360.0   \n",
       "LP002008             5746           0.000000  144.000000              84.0   \n",
       "LP002024             2473        1843.000000  159.000000             360.0   \n",
       "LP002031             3399        1640.000000  111.000000             180.0   \n",
       "LP002035             3717           0.000000  120.000000             360.0   \n",
       "LP002036             2058        2134.000000   88.000000             360.0   \n",
       "LP002043             3541           0.000000  112.000000             360.0   \n",
       "LP002050            10000           0.000000  155.000000             360.0   \n",
       "\n",
       "          Credit_History Property_Area Loan_Status  \n",
       "Loan_ID                                             \n",
       "LP001888             1.0         Urban           Y  \n",
       "LP001891             1.0         Urban           Y  \n",
       "LP001892             1.0         Rural           Y  \n",
       "LP001894             1.0     Semiurban           Y  \n",
       "LP001896             1.0     Semiurban           Y  \n",
       "LP001900             1.0     Semiurban           Y  \n",
       "LP001903             1.0     Semiurban           Y  \n",
       "LP001904             1.0         Urban           Y  \n",
       "LP001907             1.0     Semiurban           Y  \n",
       "LP001908             NaN         Rural           Y  \n",
       "LP001910             0.0         Urban           N  \n",
       "LP001914             1.0     Semiurban           Y  \n",
       "LP001915             1.0         Urban           Y  \n",
       "LP001917             1.0         Urban           Y  \n",
       "LP001922             1.0         Rural           N  \n",
       "LP001924             1.0         Rural           Y  \n",
       "LP001925             1.0     Semiurban           N  \n",
       "LP001926             1.0         Rural           Y  \n",
       "LP001931             1.0     Semiurban           Y  \n",
       "LP001935             1.0         Rural           Y  \n",
       "LP001936             1.0         Rural           Y  \n",
       "LP001938             0.0     Semiurban           N  \n",
       "LP001940             1.0         Urban           Y  \n",
       "LP001945             0.0         Urban           N  \n",
       "LP001947             1.0     Semiurban           Y  \n",
       "LP001949             1.0         Urban           Y  \n",
       "LP001953             1.0     Semiurban           Y  \n",
       "LP001954             1.0         Urban           Y  \n",
       "LP001955             1.0         Rural           N  \n",
       "LP001963             1.0         Urban           N  \n",
       "LP001964             0.0         Urban           N  \n",
       "LP001972             1.0     Semiurban           Y  \n",
       "LP001974             1.0         Rural           Y  \n",
       "LP001977             1.0         Urban           Y  \n",
       "LP001978             1.0         Rural           Y  \n",
       "LP001990             1.0         Urban           N  \n",
       "LP001993             1.0         Rural           Y  \n",
       "LP001994             0.0         Urban           N  \n",
       "LP001996             1.0         Rural           N  \n",
       "LP001998             NaN         Rural           Y  \n",
       "LP002002             1.0     Semiurban           Y  \n",
       "LP002004             1.0     Semiurban           Y  \n",
       "LP002006             1.0         Rural           Y  \n",
       "LP002008             NaN         Rural           Y  \n",
       "LP002024             1.0         Rural           N  \n",
       "LP002031             1.0         Urban           Y  \n",
       "LP002035             1.0     Semiurban           Y  \n",
       "LP002036             NaN         Urban           Y  \n",
       "LP002043             NaN     Semiurban           Y  \n",
       "LP002050             1.0         Rural           N  "
      ],
      "text/html": "<div>\n<style scoped>\n    .dataframe tbody tr th:only-of-type {\n        vertical-align: middle;\n    }\n\n    .dataframe tbody tr th {\n        vertical-align: top;\n    }\n\n    .dataframe thead th {\n        text-align: right;\n    }\n</style>\n<table border=\"1\" class=\"dataframe\">\n  <thead>\n    <tr style=\"text-align: right;\">\n      <th></th>\n      <th>Gender</th>\n      <th>Married</th>\n      <th>Dependents</th>\n      <th>Education</th>\n      <th>Self_Employed</th>\n      <th>ApplicantIncome</th>\n      <th>CoapplicantIncome</th>\n      <th>LoanAmount</th>\n      <th>Loan_Amount_Term</th>\n      <th>Credit_History</th>\n      <th>Property_Area</th>\n      <th>Loan_Status</th>\n    </tr>\n    <tr>\n      <th>Loan_ID</th>\n      <th></th>\n      <th></th>\n      <th></th>\n      <th></th>\n      <th></th>\n      <th></th>\n      <th></th>\n      <th></th>\n      <th></th>\n      <th></th>\n      <th></th>\n      <th></th>\n    </tr>\n  </thead>\n  <tbody>\n    <tr>\n      <th>LP001888</th>\n      <td>Female</td>\n      <td>No</td>\n      <td>0</td>\n      <td>Graduate</td>\n      <td>No</td>\n      <td>3237</td>\n      <td>0.000000</td>\n      <td>30.000000</td>\n      <td>360.0</td>\n      <td>1.0</td>\n      <td>Urban</td>\n      <td>Y</td>\n    </tr>\n    <tr>\n      <th>LP001891</th>\n      <td>Male</td>\n      <td>Yes</td>\n      <td>0</td>\n      <td>Graduate</td>\n      <td>No</td>\n      <td>11146</td>\n      <td>0.000000</td>\n      <td>136.000000</td>\n      <td>360.0</td>\n      <td>1.0</td>\n      <td>Urban</td>\n      <td>Y</td>\n    </tr>\n    <tr>\n      <th>LP001892</th>\n      <td>Male</td>\n      <td>No</td>\n      <td>0</td>\n      <td>Graduate</td>\n      <td>No</td>\n      <td>2833</td>\n      <td>1857.000000</td>\n      <td>126.000000</td>\n      <td>360.0</td>\n      <td>1.0</td>\n      <td>Rural</td>\n      <td>Y</td>\n    </tr>\n    <tr>\n      <th>LP001894</th>\n      <td>Male</td>\n      <td>Yes</td>\n      <td>0</td>\n      <td>Graduate</td>\n      <td>No</td>\n      <td>2620</td>\n      <td>2223.000000</td>\n      <td>150.000000</td>\n      <td>360.0</td>\n      <td>1.0</td>\n      <td>Semiurban</td>\n      <td>Y</td>\n    </tr>\n    <tr>\n      <th>LP001896</th>\n      <td>Male</td>\n      <td>Yes</td>\n      <td>2</td>\n      <td>Graduate</td>\n      <td>No</td>\n      <td>3900</td>\n      <td>0.000000</td>\n      <td>90.000000</td>\n      <td>360.0</td>\n      <td>1.0</td>\n      <td>Semiurban</td>\n      <td>Y</td>\n    </tr>\n    <tr>\n      <th>LP001900</th>\n      <td>Male</td>\n      <td>Yes</td>\n      <td>1</td>\n      <td>Graduate</td>\n      <td>No</td>\n      <td>2750</td>\n      <td>1842.000000</td>\n      <td>115.000000</td>\n      <td>360.0</td>\n      <td>1.0</td>\n      <td>Semiurban</td>\n      <td>Y</td>\n    </tr>\n    <tr>\n      <th>LP001903</th>\n      <td>Male</td>\n      <td>Yes</td>\n      <td>0</td>\n      <td>Graduate</td>\n      <td>No</td>\n      <td>3993</td>\n      <td>3274.000000</td>\n      <td>207.000000</td>\n      <td>360.0</td>\n      <td>1.0</td>\n      <td>Semiurban</td>\n      <td>Y</td>\n    </tr>\n    <tr>\n      <th>LP001904</th>\n      <td>Male</td>\n      <td>Yes</td>\n      <td>0</td>\n      <td>Graduate</td>\n      <td>No</td>\n      <td>3103</td>\n      <td>1300.000000</td>\n      <td>80.000000</td>\n      <td>360.0</td>\n      <td>1.0</td>\n      <td>Urban</td>\n      <td>Y</td>\n    </tr>\n    <tr>\n      <th>LP001907</th>\n      <td>Male</td>\n      <td>Yes</td>\n      <td>0</td>\n      <td>Graduate</td>\n      <td>No</td>\n      <td>14583</td>\n      <td>0.000000</td>\n      <td>436.000000</td>\n      <td>360.0</td>\n      <td>1.0</td>\n      <td>Semiurban</td>\n      <td>Y</td>\n    </tr>\n    <tr>\n      <th>LP001908</th>\n      <td>Female</td>\n      <td>Yes</td>\n      <td>0</td>\n      <td>Not Graduate</td>\n      <td>No</td>\n      <td>4100</td>\n      <td>0.000000</td>\n      <td>124.000000</td>\n      <td>360.0</td>\n      <td>NaN</td>\n      <td>Rural</td>\n      <td>Y</td>\n    </tr>\n    <tr>\n      <th>LP001910</th>\n      <td>Male</td>\n      <td>No</td>\n      <td>1</td>\n      <td>Not Graduate</td>\n      <td>Yes</td>\n      <td>4053</td>\n      <td>2426.000000</td>\n      <td>158.000000</td>\n      <td>360.0</td>\n      <td>0.0</td>\n      <td>Urban</td>\n      <td>N</td>\n    </tr>\n    <tr>\n      <th>LP001914</th>\n      <td>Male</td>\n      <td>Yes</td>\n      <td>0</td>\n      <td>Graduate</td>\n      <td>No</td>\n      <td>3927</td>\n      <td>800.000000</td>\n      <td>112.000000</td>\n      <td>360.0</td>\n      <td>1.0</td>\n      <td>Semiurban</td>\n      <td>Y</td>\n    </tr>\n    <tr>\n      <th>LP001915</th>\n      <td>Male</td>\n      <td>Yes</td>\n      <td>2</td>\n      <td>Graduate</td>\n      <td>No</td>\n      <td>2301</td>\n      <td>985.799988</td>\n      <td>78.000000</td>\n      <td>180.0</td>\n      <td>1.0</td>\n      <td>Urban</td>\n      <td>Y</td>\n    </tr>\n    <tr>\n      <th>LP001917</th>\n      <td>Female</td>\n      <td>No</td>\n      <td>0</td>\n      <td>Graduate</td>\n      <td>No</td>\n      <td>1811</td>\n      <td>1666.000000</td>\n      <td>54.000000</td>\n      <td>360.0</td>\n      <td>1.0</td>\n      <td>Urban</td>\n      <td>Y</td>\n    </tr>\n    <tr>\n      <th>LP001922</th>\n      <td>Male</td>\n      <td>Yes</td>\n      <td>0</td>\n      <td>Graduate</td>\n      <td>No</td>\n      <td>20667</td>\n      <td>0.000000</td>\n      <td>153.882736</td>\n      <td>360.0</td>\n      <td>1.0</td>\n      <td>Rural</td>\n      <td>N</td>\n    </tr>\n    <tr>\n      <th>LP001924</th>\n      <td>Male</td>\n      <td>No</td>\n      <td>0</td>\n      <td>Graduate</td>\n      <td>No</td>\n      <td>3158</td>\n      <td>3053.000000</td>\n      <td>89.000000</td>\n      <td>360.0</td>\n      <td>1.0</td>\n      <td>Rural</td>\n      <td>Y</td>\n    </tr>\n    <tr>\n      <th>LP001925</th>\n      <td>Female</td>\n      <td>No</td>\n      <td>0</td>\n      <td>Graduate</td>\n      <td>Yes</td>\n      <td>2600</td>\n      <td>1717.000000</td>\n      <td>99.000000</td>\n      <td>300.0</td>\n      <td>1.0</td>\n      <td>Semiurban</td>\n      <td>N</td>\n    </tr>\n    <tr>\n      <th>LP001926</th>\n      <td>Male</td>\n      <td>Yes</td>\n      <td>0</td>\n      <td>Graduate</td>\n      <td>No</td>\n      <td>3704</td>\n      <td>2000.000000</td>\n      <td>120.000000</td>\n      <td>360.0</td>\n      <td>1.0</td>\n      <td>Rural</td>\n      <td>Y</td>\n    </tr>\n    <tr>\n      <th>LP001931</th>\n      <td>Female</td>\n      <td>No</td>\n      <td>0</td>\n      <td>Graduate</td>\n      <td>No</td>\n      <td>4124</td>\n      <td>0.000000</td>\n      <td>115.000000</td>\n      <td>360.0</td>\n      <td>1.0</td>\n      <td>Semiurban</td>\n      <td>Y</td>\n    </tr>\n    <tr>\n      <th>LP001935</th>\n      <td>Male</td>\n      <td>No</td>\n      <td>0</td>\n      <td>Graduate</td>\n      <td>No</td>\n      <td>9508</td>\n      <td>0.000000</td>\n      <td>187.000000</td>\n      <td>360.0</td>\n      <td>1.0</td>\n      <td>Rural</td>\n      <td>Y</td>\n    </tr>\n    <tr>\n      <th>LP001936</th>\n      <td>Male</td>\n      <td>Yes</td>\n      <td>0</td>\n      <td>Graduate</td>\n      <td>No</td>\n      <td>3075</td>\n      <td>2416.000000</td>\n      <td>139.000000</td>\n      <td>360.0</td>\n      <td>1.0</td>\n      <td>Rural</td>\n      <td>Y</td>\n    </tr>\n    <tr>\n      <th>LP001938</th>\n      <td>Male</td>\n      <td>Yes</td>\n      <td>2</td>\n      <td>Graduate</td>\n      <td>No</td>\n      <td>4400</td>\n      <td>0.000000</td>\n      <td>127.000000</td>\n      <td>360.0</td>\n      <td>0.0</td>\n      <td>Semiurban</td>\n      <td>N</td>\n    </tr>\n    <tr>\n      <th>LP001940</th>\n      <td>Male</td>\n      <td>Yes</td>\n      <td>2</td>\n      <td>Graduate</td>\n      <td>No</td>\n      <td>3153</td>\n      <td>1560.000000</td>\n      <td>134.000000</td>\n      <td>360.0</td>\n      <td>1.0</td>\n      <td>Urban</td>\n      <td>Y</td>\n    </tr>\n    <tr>\n      <th>LP001945</th>\n      <td>Female</td>\n      <td>No</td>\n      <td>NaN</td>\n      <td>Graduate</td>\n      <td>No</td>\n      <td>5417</td>\n      <td>0.000000</td>\n      <td>143.000000</td>\n      <td>480.0</td>\n      <td>0.0</td>\n      <td>Urban</td>\n      <td>N</td>\n    </tr>\n    <tr>\n      <th>LP001947</th>\n      <td>Male</td>\n      <td>Yes</td>\n      <td>0</td>\n      <td>Graduate</td>\n      <td>No</td>\n      <td>2383</td>\n      <td>3334.000000</td>\n      <td>172.000000</td>\n      <td>360.0</td>\n      <td>1.0</td>\n      <td>Semiurban</td>\n      <td>Y</td>\n    </tr>\n    <tr>\n      <th>LP001949</th>\n      <td>Male</td>\n      <td>Yes</td>\n      <td>3+</td>\n      <td>Graduate</td>\n      <td>No</td>\n      <td>4416</td>\n      <td>1250.000000</td>\n      <td>110.000000</td>\n      <td>360.0</td>\n      <td>1.0</td>\n      <td>Urban</td>\n      <td>Y</td>\n    </tr>\n    <tr>\n      <th>LP001953</th>\n      <td>Male</td>\n      <td>Yes</td>\n      <td>1</td>\n      <td>Graduate</td>\n      <td>No</td>\n      <td>6875</td>\n      <td>0.000000</td>\n      <td>200.000000</td>\n      <td>360.0</td>\n      <td>1.0</td>\n      <td>Semiurban</td>\n      <td>Y</td>\n    </tr>\n    <tr>\n      <th>LP001954</th>\n      <td>Female</td>\n      <td>Yes</td>\n      <td>1</td>\n      <td>Graduate</td>\n      <td>No</td>\n      <td>4666</td>\n      <td>0.000000</td>\n      <td>135.000000</td>\n      <td>360.0</td>\n      <td>1.0</td>\n      <td>Urban</td>\n      <td>Y</td>\n    </tr>\n    <tr>\n      <th>LP001955</th>\n      <td>Female</td>\n      <td>No</td>\n      <td>0</td>\n      <td>Graduate</td>\n      <td>No</td>\n      <td>5000</td>\n      <td>2541.000000</td>\n      <td>151.000000</td>\n      <td>480.0</td>\n      <td>1.0</td>\n      <td>Rural</td>\n      <td>N</td>\n    </tr>\n    <tr>\n      <th>LP001963</th>\n      <td>Male</td>\n      <td>Yes</td>\n      <td>1</td>\n      <td>Graduate</td>\n      <td>No</td>\n      <td>2014</td>\n      <td>2925.000000</td>\n      <td>113.000000</td>\n      <td>360.0</td>\n      <td>1.0</td>\n      <td>Urban</td>\n      <td>N</td>\n    </tr>\n    <tr>\n      <th>LP001964</th>\n      <td>Male</td>\n      <td>Yes</td>\n      <td>0</td>\n      <td>Not Graduate</td>\n      <td>No</td>\n      <td>1800</td>\n      <td>2934.000000</td>\n      <td>93.000000</td>\n      <td>360.0</td>\n      <td>0.0</td>\n      <td>Urban</td>\n      <td>N</td>\n    </tr>\n    <tr>\n      <th>LP001972</th>\n      <td>Male</td>\n      <td>Yes</td>\n      <td>NaN</td>\n      <td>Not Graduate</td>\n      <td>No</td>\n      <td>2875</td>\n      <td>1750.000000</td>\n      <td>105.000000</td>\n      <td>360.0</td>\n      <td>1.0</td>\n      <td>Semiurban</td>\n      <td>Y</td>\n    </tr>\n    <tr>\n      <th>LP001974</th>\n      <td>Female</td>\n      <td>No</td>\n      <td>0</td>\n      <td>Graduate</td>\n      <td>No</td>\n      <td>5000</td>\n      <td>0.000000</td>\n      <td>132.000000</td>\n      <td>360.0</td>\n      <td>1.0</td>\n      <td>Rural</td>\n      <td>Y</td>\n    </tr>\n    <tr>\n      <th>LP001977</th>\n      <td>Male</td>\n      <td>Yes</td>\n      <td>1</td>\n      <td>Graduate</td>\n      <td>No</td>\n      <td>1625</td>\n      <td>1803.000000</td>\n      <td>96.000000</td>\n      <td>360.0</td>\n      <td>1.0</td>\n      <td>Urban</td>\n      <td>Y</td>\n    </tr>\n    <tr>\n      <th>LP001978</th>\n      <td>Male</td>\n      <td>No</td>\n      <td>0</td>\n      <td>Graduate</td>\n      <td>No</td>\n      <td>4000</td>\n      <td>2500.000000</td>\n      <td>140.000000</td>\n      <td>360.0</td>\n      <td>1.0</td>\n      <td>Rural</td>\n      <td>Y</td>\n    </tr>\n    <tr>\n      <th>LP001990</th>\n      <td>Male</td>\n      <td>No</td>\n      <td>0</td>\n      <td>Not Graduate</td>\n      <td>No</td>\n      <td>2000</td>\n      <td>0.000000</td>\n      <td>129.936937</td>\n      <td>360.0</td>\n      <td>1.0</td>\n      <td>Urban</td>\n      <td>N</td>\n    </tr>\n    <tr>\n      <th>LP001993</th>\n      <td>Female</td>\n      <td>No</td>\n      <td>0</td>\n      <td>Graduate</td>\n      <td>No</td>\n      <td>3762</td>\n      <td>1666.000000</td>\n      <td>135.000000</td>\n      <td>360.0</td>\n      <td>1.0</td>\n      <td>Rural</td>\n      <td>Y</td>\n    </tr>\n    <tr>\n      <th>LP001994</th>\n      <td>Female</td>\n      <td>No</td>\n      <td>0</td>\n      <td>Graduate</td>\n      <td>No</td>\n      <td>2400</td>\n      <td>1863.000000</td>\n      <td>104.000000</td>\n      <td>360.0</td>\n      <td>0.0</td>\n      <td>Urban</td>\n      <td>N</td>\n    </tr>\n    <tr>\n      <th>LP001996</th>\n      <td>Male</td>\n      <td>No</td>\n      <td>0</td>\n      <td>Graduate</td>\n      <td>No</td>\n      <td>20233</td>\n      <td>0.000000</td>\n      <td>480.000000</td>\n      <td>360.0</td>\n      <td>1.0</td>\n      <td>Rural</td>\n      <td>N</td>\n    </tr>\n    <tr>\n      <th>LP001998</th>\n      <td>Male</td>\n      <td>Yes</td>\n      <td>2</td>\n      <td>Not Graduate</td>\n      <td>No</td>\n      <td>7667</td>\n      <td>0.000000</td>\n      <td>185.000000</td>\n      <td>360.0</td>\n      <td>NaN</td>\n      <td>Rural</td>\n      <td>Y</td>\n    </tr>\n    <tr>\n      <th>LP002002</th>\n      <td>Female</td>\n      <td>No</td>\n      <td>0</td>\n      <td>Graduate</td>\n      <td>No</td>\n      <td>2917</td>\n      <td>0.000000</td>\n      <td>84.000000</td>\n      <td>360.0</td>\n      <td>1.0</td>\n      <td>Semiurban</td>\n      <td>Y</td>\n    </tr>\n    <tr>\n      <th>LP002004</th>\n      <td>Male</td>\n      <td>No</td>\n      <td>0</td>\n      <td>Not Graduate</td>\n      <td>No</td>\n      <td>2927</td>\n      <td>2405.000000</td>\n      <td>111.000000</td>\n      <td>360.0</td>\n      <td>1.0</td>\n      <td>Semiurban</td>\n      <td>Y</td>\n    </tr>\n    <tr>\n      <th>LP002006</th>\n      <td>Female</td>\n      <td>No</td>\n      <td>0</td>\n      <td>Graduate</td>\n      <td>No</td>\n      <td>2507</td>\n      <td>0.000000</td>\n      <td>56.000000</td>\n      <td>360.0</td>\n      <td>1.0</td>\n      <td>Rural</td>\n      <td>Y</td>\n    </tr>\n    <tr>\n      <th>LP002008</th>\n      <td>Male</td>\n      <td>Yes</td>\n      <td>2</td>\n      <td>Graduate</td>\n      <td>Yes</td>\n      <td>5746</td>\n      <td>0.000000</td>\n      <td>144.000000</td>\n      <td>84.0</td>\n      <td>NaN</td>\n      <td>Rural</td>\n      <td>Y</td>\n    </tr>\n    <tr>\n      <th>LP002024</th>\n      <td>Male</td>\n      <td>Yes</td>\n      <td>0</td>\n      <td>Graduate</td>\n      <td>No</td>\n      <td>2473</td>\n      <td>1843.000000</td>\n      <td>159.000000</td>\n      <td>360.0</td>\n      <td>1.0</td>\n      <td>Rural</td>\n      <td>N</td>\n    </tr>\n    <tr>\n      <th>LP002031</th>\n      <td>Male</td>\n      <td>Yes</td>\n      <td>1</td>\n      <td>Not Graduate</td>\n      <td>No</td>\n      <td>3399</td>\n      <td>1640.000000</td>\n      <td>111.000000</td>\n      <td>180.0</td>\n      <td>1.0</td>\n      <td>Urban</td>\n      <td>Y</td>\n    </tr>\n    <tr>\n      <th>LP002035</th>\n      <td>Male</td>\n      <td>Yes</td>\n      <td>2</td>\n      <td>Graduate</td>\n      <td>No</td>\n      <td>3717</td>\n      <td>0.000000</td>\n      <td>120.000000</td>\n      <td>360.0</td>\n      <td>1.0</td>\n      <td>Semiurban</td>\n      <td>Y</td>\n    </tr>\n    <tr>\n      <th>LP002036</th>\n      <td>Male</td>\n      <td>Yes</td>\n      <td>0</td>\n      <td>Graduate</td>\n      <td>No</td>\n      <td>2058</td>\n      <td>2134.000000</td>\n      <td>88.000000</td>\n      <td>360.0</td>\n      <td>NaN</td>\n      <td>Urban</td>\n      <td>Y</td>\n    </tr>\n    <tr>\n      <th>LP002043</th>\n      <td>Female</td>\n      <td>No</td>\n      <td>1</td>\n      <td>Graduate</td>\n      <td>No</td>\n      <td>3541</td>\n      <td>0.000000</td>\n      <td>112.000000</td>\n      <td>360.0</td>\n      <td>NaN</td>\n      <td>Semiurban</td>\n      <td>Y</td>\n    </tr>\n    <tr>\n      <th>LP002050</th>\n      <td>Male</td>\n      <td>Yes</td>\n      <td>1</td>\n      <td>Graduate</td>\n      <td>Yes</td>\n      <td>10000</td>\n      <td>0.000000</td>\n      <td>155.000000</td>\n      <td>360.0</td>\n      <td>1.0</td>\n      <td>Rural</td>\n      <td>N</td>\n    </tr>\n  </tbody>\n</table>\n</div>"
     },
     "metadata": {},
     "execution_count": 230
    }
   ],
   "source": [
    "data[270: 320]"
   ]
  },
  {
   "cell_type": "code",
   "execution_count": 231,
   "metadata": {},
   "outputs": [
    {
     "output_type": "execute_result",
     "data": {
      "text/plain": [
       "Gender                0\n",
       "Married               0\n",
       "Dependents           15\n",
       "Education             0\n",
       "Self_Employed         0\n",
       "ApplicantIncome       0\n",
       "CoapplicantIncome     0\n",
       "LoanAmount            0\n",
       "Loan_Amount_Term     14\n",
       "Credit_History       50\n",
       "Property_Area         0\n",
       "Loan_Status           0\n",
       "dtype: int64"
      ]
     },
     "metadata": {},
     "execution_count": 231
    }
   ],
   "source": [
    "#Now check the #missing values again to confirm:\n",
    "data.apply(num_missing, axis=0)"
   ]
  },
  {
   "source": [
    "cross-tabulation\n",
    "Test if “Credit_History” is expected to affect the loan status \n",
    "computes a frequency table of the factors "
   ],
   "cell_type": "markdown",
   "metadata": {}
  },
  {
   "cell_type": "code",
   "execution_count": 232,
   "metadata": {},
   "outputs": [
    {
     "output_type": "execute_result",
     "data": {
      "text/plain": [
       "Loan_Status       N    Y  All\n",
       "Credit_History               \n",
       "0.0              82    7   89\n",
       "1.0              97  378  475\n",
       "All             179  385  564"
      ],
      "text/html": "<div>\n<style scoped>\n    .dataframe tbody tr th:only-of-type {\n        vertical-align: middle;\n    }\n\n    .dataframe tbody tr th {\n        vertical-align: top;\n    }\n\n    .dataframe thead th {\n        text-align: right;\n    }\n</style>\n<table border=\"1\" class=\"dataframe\">\n  <thead>\n    <tr style=\"text-align: right;\">\n      <th>Loan_Status</th>\n      <th>N</th>\n      <th>Y</th>\n      <th>All</th>\n    </tr>\n    <tr>\n      <th>Credit_History</th>\n      <th></th>\n      <th></th>\n      <th></th>\n    </tr>\n  </thead>\n  <tbody>\n    <tr>\n      <th>0.0</th>\n      <td>82</td>\n      <td>7</td>\n      <td>89</td>\n    </tr>\n    <tr>\n      <th>1.0</th>\n      <td>97</td>\n      <td>378</td>\n      <td>475</td>\n    </tr>\n    <tr>\n      <th>All</th>\n      <td>179</td>\n      <td>385</td>\n      <td>564</td>\n    </tr>\n  </tbody>\n</table>\n</div>"
     },
     "metadata": {},
     "execution_count": 232
    }
   ],
   "source": [
    "pd.crosstab(data[\"Credit_History\"],data[\"Loan_Status\"],margins=True)    # in absolute numbers"
   ]
  },
  {
   "cell_type": "code",
   "execution_count": 233,
   "metadata": {},
   "outputs": [
    {
     "output_type": "execute_result",
     "data": {
      "text/plain": [
       "Loan_Status         N      Y\n",
       "Credit_History              \n",
       "0.0             92.13   7.87\n",
       "1.0             20.42  79.58"
      ],
      "text/html": "<div>\n<style scoped>\n    .dataframe tbody tr th:only-of-type {\n        vertical-align: middle;\n    }\n\n    .dataframe tbody tr th {\n        vertical-align: top;\n    }\n\n    .dataframe thead th {\n        text-align: right;\n    }\n</style>\n<table border=\"1\" class=\"dataframe\">\n  <thead>\n    <tr style=\"text-align: right;\">\n      <th>Loan_Status</th>\n      <th>N</th>\n      <th>Y</th>\n    </tr>\n    <tr>\n      <th>Credit_History</th>\n      <th></th>\n      <th></th>\n    </tr>\n  </thead>\n  <tbody>\n    <tr>\n      <th>0.0</th>\n      <td>92.13</td>\n      <td>7.87</td>\n    </tr>\n    <tr>\n      <th>1.0</th>\n      <td>20.42</td>\n      <td>79.58</td>\n    </tr>\n  </tbody>\n</table>\n</div>"
     },
     "metadata": {},
     "execution_count": 233
    }
   ],
   "source": [
    "# convert to %:\n",
    "pd.crosstab(data[\"Credit_History\"],data[\"Loan_Status\"], normalize='index').round(4)*100    #Normalize by dividing all values by the sum of values. 'index' will normalize over each row"
   ]
  },
  {
   "source": [
    "# 7 – Merge Pandas DataFrames"
   ],
   "cell_type": "markdown",
   "metadata": {}
  },
  {
   "cell_type": "code",
   "execution_count": 234,
   "metadata": {},
   "outputs": [
    {
     "output_type": "execute_result",
     "data": {
      "text/plain": [
       "           rates\n",
       "Rural       1000\n",
       "Semiurban   5000\n",
       "Urban      12000"
      ],
      "text/html": "<div>\n<style scoped>\n    .dataframe tbody tr th:only-of-type {\n        vertical-align: middle;\n    }\n\n    .dataframe tbody tr th {\n        vertical-align: top;\n    }\n\n    .dataframe thead th {\n        text-align: right;\n    }\n</style>\n<table border=\"1\" class=\"dataframe\">\n  <thead>\n    <tr style=\"text-align: right;\">\n      <th></th>\n      <th>rates</th>\n    </tr>\n  </thead>\n  <tbody>\n    <tr>\n      <th>Rural</th>\n      <td>1000</td>\n    </tr>\n    <tr>\n      <th>Semiurban</th>\n      <td>5000</td>\n    </tr>\n    <tr>\n      <th>Urban</th>\n      <td>12000</td>\n    </tr>\n  </tbody>\n</table>\n</div>"
     },
     "metadata": {},
     "execution_count": 234
    }
   ],
   "source": [
    "prop_rates = pd.DataFrame([1000, 5000, 12000], index=['Rural','Semiurban','Urban'],columns=['rates'])\n",
    "prop_rates"
   ]
  },
  {
   "cell_type": "code",
   "execution_count": 235,
   "metadata": {},
   "outputs": [
    {
     "output_type": "execute_result",
     "data": {
      "text/plain": [
       "Loan_ID\n",
       "LP001002        Urban\n",
       "LP001003        Rural\n",
       "LP001005        Urban\n",
       "LP001006        Urban\n",
       "LP001008        Urban\n",
       "              ...    \n",
       "LP002978        Rural\n",
       "LP002979        Rural\n",
       "LP002983        Urban\n",
       "LP002984        Urban\n",
       "LP002990    Semiurban\n",
       "Name: Property_Area, Length: 614, dtype: object"
      ]
     },
     "metadata": {},
     "execution_count": 235
    }
   ],
   "source": [
    "data['Property_Area']"
   ]
  },
  {
   "cell_type": "code",
   "execution_count": 236,
   "metadata": {},
   "outputs": [
    {
     "output_type": "execute_result",
     "data": {
      "text/plain": [
       "          Gender Married Dependents     Education Self_Employed  \\\n",
       "Loan_ID                                                           \n",
       "LP001002    Male      No          0      Graduate            No   \n",
       "LP001005    Male     Yes          0      Graduate           Yes   \n",
       "LP001006    Male     Yes          0  Not Graduate            No   \n",
       "LP001008    Male      No          0      Graduate            No   \n",
       "LP001011    Male     Yes          2      Graduate           Yes   \n",
       "...          ...     ...        ...           ...           ...   \n",
       "LP002933    Male      No         3+      Graduate           Yes   \n",
       "LP002943    Male      No        NaN      Graduate            No   \n",
       "LP002959  Female     Yes          1      Graduate            No   \n",
       "LP002961    Male     Yes          1      Graduate            No   \n",
       "LP002990  Female      No          0      Graduate           Yes   \n",
       "\n",
       "          ApplicantIncome  CoapplicantIncome  LoanAmount  Loan_Amount_Term  \\\n",
       "Loan_ID                                                                      \n",
       "LP001002             5849                0.0  129.936937             360.0   \n",
       "LP001005             3000                0.0   66.000000             360.0   \n",
       "LP001006             2583             2358.0  120.000000             360.0   \n",
       "LP001008             6000                0.0  141.000000             360.0   \n",
       "LP001011             5417             4196.0  267.000000             360.0   \n",
       "...                   ...                ...         ...               ...   \n",
       "LP002933             9357                0.0  292.000000             360.0   \n",
       "LP002943             2987                0.0   88.000000             360.0   \n",
       "LP002959            12000                0.0  496.000000             360.0   \n",
       "LP002961             3400             2500.0  173.000000             360.0   \n",
       "LP002990             4583                0.0  133.000000             360.0   \n",
       "\n",
       "          Credit_History Property_Area Loan_Status  rates  \n",
       "Loan_ID                                                    \n",
       "LP001002             1.0         Urban           Y  12000  \n",
       "LP001005             1.0         Urban           Y  12000  \n",
       "LP001006             1.0         Urban           Y  12000  \n",
       "LP001008             1.0         Urban           Y  12000  \n",
       "LP001011             1.0         Urban           Y  12000  \n",
       "...                  ...           ...         ...    ...  \n",
       "LP002933             1.0     Semiurban           Y   5000  \n",
       "LP002943             0.0     Semiurban           N   5000  \n",
       "LP002959             1.0     Semiurban           Y   5000  \n",
       "LP002961             1.0     Semiurban           Y   5000  \n",
       "LP002990             0.0     Semiurban           N   5000  \n",
       "\n",
       "[614 rows x 13 columns]"
      ],
      "text/html": "<div>\n<style scoped>\n    .dataframe tbody tr th:only-of-type {\n        vertical-align: middle;\n    }\n\n    .dataframe tbody tr th {\n        vertical-align: top;\n    }\n\n    .dataframe thead th {\n        text-align: right;\n    }\n</style>\n<table border=\"1\" class=\"dataframe\">\n  <thead>\n    <tr style=\"text-align: right;\">\n      <th></th>\n      <th>Gender</th>\n      <th>Married</th>\n      <th>Dependents</th>\n      <th>Education</th>\n      <th>Self_Employed</th>\n      <th>ApplicantIncome</th>\n      <th>CoapplicantIncome</th>\n      <th>LoanAmount</th>\n      <th>Loan_Amount_Term</th>\n      <th>Credit_History</th>\n      <th>Property_Area</th>\n      <th>Loan_Status</th>\n      <th>rates</th>\n    </tr>\n    <tr>\n      <th>Loan_ID</th>\n      <th></th>\n      <th></th>\n      <th></th>\n      <th></th>\n      <th></th>\n      <th></th>\n      <th></th>\n      <th></th>\n      <th></th>\n      <th></th>\n      <th></th>\n      <th></th>\n      <th></th>\n    </tr>\n  </thead>\n  <tbody>\n    <tr>\n      <th>LP001002</th>\n      <td>Male</td>\n      <td>No</td>\n      <td>0</td>\n      <td>Graduate</td>\n      <td>No</td>\n      <td>5849</td>\n      <td>0.0</td>\n      <td>129.936937</td>\n      <td>360.0</td>\n      <td>1.0</td>\n      <td>Urban</td>\n      <td>Y</td>\n      <td>12000</td>\n    </tr>\n    <tr>\n      <th>LP001005</th>\n      <td>Male</td>\n      <td>Yes</td>\n      <td>0</td>\n      <td>Graduate</td>\n      <td>Yes</td>\n      <td>3000</td>\n      <td>0.0</td>\n      <td>66.000000</td>\n      <td>360.0</td>\n      <td>1.0</td>\n      <td>Urban</td>\n      <td>Y</td>\n      <td>12000</td>\n    </tr>\n    <tr>\n      <th>LP001006</th>\n      <td>Male</td>\n      <td>Yes</td>\n      <td>0</td>\n      <td>Not Graduate</td>\n      <td>No</td>\n      <td>2583</td>\n      <td>2358.0</td>\n      <td>120.000000</td>\n      <td>360.0</td>\n      <td>1.0</td>\n      <td>Urban</td>\n      <td>Y</td>\n      <td>12000</td>\n    </tr>\n    <tr>\n      <th>LP001008</th>\n      <td>Male</td>\n      <td>No</td>\n      <td>0</td>\n      <td>Graduate</td>\n      <td>No</td>\n      <td>6000</td>\n      <td>0.0</td>\n      <td>141.000000</td>\n      <td>360.0</td>\n      <td>1.0</td>\n      <td>Urban</td>\n      <td>Y</td>\n      <td>12000</td>\n    </tr>\n    <tr>\n      <th>LP001011</th>\n      <td>Male</td>\n      <td>Yes</td>\n      <td>2</td>\n      <td>Graduate</td>\n      <td>Yes</td>\n      <td>5417</td>\n      <td>4196.0</td>\n      <td>267.000000</td>\n      <td>360.0</td>\n      <td>1.0</td>\n      <td>Urban</td>\n      <td>Y</td>\n      <td>12000</td>\n    </tr>\n    <tr>\n      <th>...</th>\n      <td>...</td>\n      <td>...</td>\n      <td>...</td>\n      <td>...</td>\n      <td>...</td>\n      <td>...</td>\n      <td>...</td>\n      <td>...</td>\n      <td>...</td>\n      <td>...</td>\n      <td>...</td>\n      <td>...</td>\n      <td>...</td>\n    </tr>\n    <tr>\n      <th>LP002933</th>\n      <td>Male</td>\n      <td>No</td>\n      <td>3+</td>\n      <td>Graduate</td>\n      <td>Yes</td>\n      <td>9357</td>\n      <td>0.0</td>\n      <td>292.000000</td>\n      <td>360.0</td>\n      <td>1.0</td>\n      <td>Semiurban</td>\n      <td>Y</td>\n      <td>5000</td>\n    </tr>\n    <tr>\n      <th>LP002943</th>\n      <td>Male</td>\n      <td>No</td>\n      <td>NaN</td>\n      <td>Graduate</td>\n      <td>No</td>\n      <td>2987</td>\n      <td>0.0</td>\n      <td>88.000000</td>\n      <td>360.0</td>\n      <td>0.0</td>\n      <td>Semiurban</td>\n      <td>N</td>\n      <td>5000</td>\n    </tr>\n    <tr>\n      <th>LP002959</th>\n      <td>Female</td>\n      <td>Yes</td>\n      <td>1</td>\n      <td>Graduate</td>\n      <td>No</td>\n      <td>12000</td>\n      <td>0.0</td>\n      <td>496.000000</td>\n      <td>360.0</td>\n      <td>1.0</td>\n      <td>Semiurban</td>\n      <td>Y</td>\n      <td>5000</td>\n    </tr>\n    <tr>\n      <th>LP002961</th>\n      <td>Male</td>\n      <td>Yes</td>\n      <td>1</td>\n      <td>Graduate</td>\n      <td>No</td>\n      <td>3400</td>\n      <td>2500.0</td>\n      <td>173.000000</td>\n      <td>360.0</td>\n      <td>1.0</td>\n      <td>Semiurban</td>\n      <td>Y</td>\n      <td>5000</td>\n    </tr>\n    <tr>\n      <th>LP002990</th>\n      <td>Female</td>\n      <td>No</td>\n      <td>0</td>\n      <td>Graduate</td>\n      <td>Yes</td>\n      <td>4583</td>\n      <td>0.0</td>\n      <td>133.000000</td>\n      <td>360.0</td>\n      <td>0.0</td>\n      <td>Semiurban</td>\n      <td>N</td>\n      <td>5000</td>\n    </tr>\n  </tbody>\n</table>\n<p>614 rows × 13 columns</p>\n</div>"
     },
     "metadata": {},
     "execution_count": 236
    }
   ],
   "source": [
    "#merge this information with the original Pandas dataframe:\n",
    "data_merged = data.merge(right=prop_rates, how='inner',left_on='Property_Area',right_index=True, sort=False)\n",
    "#inner: use intersection of keys from both frames; right: use only keys from right frame\n",
    "data_merged"
   ]
  },
  {
   "cell_type": "code",
   "execution_count": 195,
   "metadata": {},
   "outputs": [
    {
     "output_type": "execute_result",
     "data": {
      "text/plain": [
       "                     Credit_History\n",
       "Property_Area rates                \n",
       "Rural         1000            179.0\n",
       "Semiurban     5000            233.0\n",
       "Urban         12000           202.0"
      ],
      "text/html": "<div>\n<style scoped>\n    .dataframe tbody tr th:only-of-type {\n        vertical-align: middle;\n    }\n\n    .dataframe tbody tr th {\n        vertical-align: top;\n    }\n\n    .dataframe thead th {\n        text-align: right;\n    }\n</style>\n<table border=\"1\" class=\"dataframe\">\n  <thead>\n    <tr style=\"text-align: right;\">\n      <th></th>\n      <th></th>\n      <th>Credit_History</th>\n    </tr>\n    <tr>\n      <th>Property_Area</th>\n      <th>rates</th>\n      <th></th>\n    </tr>\n  </thead>\n  <tbody>\n    <tr>\n      <th>Rural</th>\n      <th>1000</th>\n      <td>179.0</td>\n    </tr>\n    <tr>\n      <th>Semiurban</th>\n      <th>5000</th>\n      <td>233.0</td>\n    </tr>\n    <tr>\n      <th>Urban</th>\n      <th>12000</th>\n      <td>202.0</td>\n    </tr>\n  </tbody>\n</table>\n</div>"
     },
     "metadata": {},
     "execution_count": 195
    }
   ],
   "source": [
    "data_merged.pivot_table(values='Credit_History',index=['Property_Area','rates'], aggfunc=len)"
   ]
  },
  {
   "source": [
    "#  8 – Sorting Pandas DataFrames"
   ],
   "cell_type": "markdown",
   "metadata": {}
  },
  {
   "cell_type": "code",
   "execution_count": 196,
   "metadata": {},
   "outputs": [
    {
     "output_type": "execute_result",
     "data": {
      "text/plain": [
       "          ApplicantIncome  CoapplicantIncome\n",
       "Loan_ID                                     \n",
       "LP002317            81000                0.0\n",
       "LP002101            63337                0.0\n",
       "LP001585            51763                0.0\n",
       "LP001536            39999                0.0\n",
       "LP001640            39147             4750.0\n",
       "...                   ...                ...\n",
       "LP001644              674             5296.0\n",
       "LP002603              645             3683.0\n",
       "LP002949              416            41667.0\n",
       "LP002502              210             2917.0\n",
       "LP001722              150             1800.0\n",
       "\n",
       "[614 rows x 2 columns]"
      ],
      "text/html": "<div>\n<style scoped>\n    .dataframe tbody tr th:only-of-type {\n        vertical-align: middle;\n    }\n\n    .dataframe tbody tr th {\n        vertical-align: top;\n    }\n\n    .dataframe thead th {\n        text-align: right;\n    }\n</style>\n<table border=\"1\" class=\"dataframe\">\n  <thead>\n    <tr style=\"text-align: right;\">\n      <th></th>\n      <th>ApplicantIncome</th>\n      <th>CoapplicantIncome</th>\n    </tr>\n    <tr>\n      <th>Loan_ID</th>\n      <th></th>\n      <th></th>\n    </tr>\n  </thead>\n  <tbody>\n    <tr>\n      <th>LP002317</th>\n      <td>81000</td>\n      <td>0.0</td>\n    </tr>\n    <tr>\n      <th>LP002101</th>\n      <td>63337</td>\n      <td>0.0</td>\n    </tr>\n    <tr>\n      <th>LP001585</th>\n      <td>51763</td>\n      <td>0.0</td>\n    </tr>\n    <tr>\n      <th>LP001536</th>\n      <td>39999</td>\n      <td>0.0</td>\n    </tr>\n    <tr>\n      <th>LP001640</th>\n      <td>39147</td>\n      <td>4750.0</td>\n    </tr>\n    <tr>\n      <th>...</th>\n      <td>...</td>\n      <td>...</td>\n    </tr>\n    <tr>\n      <th>LP001644</th>\n      <td>674</td>\n      <td>5296.0</td>\n    </tr>\n    <tr>\n      <th>LP002603</th>\n      <td>645</td>\n      <td>3683.0</td>\n    </tr>\n    <tr>\n      <th>LP002949</th>\n      <td>416</td>\n      <td>41667.0</td>\n    </tr>\n    <tr>\n      <th>LP002502</th>\n      <td>210</td>\n      <td>2917.0</td>\n    </tr>\n    <tr>\n      <th>LP001722</th>\n      <td>150</td>\n      <td>1800.0</td>\n    </tr>\n  </tbody>\n</table>\n<p>614 rows × 2 columns</p>\n</div>"
     },
     "metadata": {},
     "execution_count": 196
    }
   ],
   "source": [
    "data_sorted = data.sort_values(['ApplicantIncome','CoapplicantIncome'], ascending=False)\n",
    "data_sorted[['ApplicantIncome','CoapplicantIncome']]"
   ]
  },
  {
   "source": [
    "#  9 – Plotting (Boxplot & Histogram) with Pandas"
   ],
   "cell_type": "markdown",
   "metadata": {}
  },
  {
   "cell_type": "code",
   "execution_count": 197,
   "metadata": {},
   "outputs": [
    {
     "output_type": "execute_result",
     "data": {
      "text/plain": [
       "<AxesSubplot:title={'center':'ApplicantIncome'}, xlabel='Loan_Status'>"
      ]
     },
     "metadata": {},
     "execution_count": 197
    },
    {
     "output_type": "display_data",
     "data": {
      "text/plain": "<Figure size 432x288 with 1 Axes>",
      "image/svg+xml": "<?xml version=\"1.0\" encoding=\"utf-8\" standalone=\"no\"?>\r\n<!DOCTYPE svg PUBLIC \"-//W3C//DTD SVG 1.1//EN\"\r\n  \"http://www.w3.org/Graphics/SVG/1.1/DTD/svg11.dtd\">\r\n<!-- Created with matplotlib (https://matplotlib.org/) -->\r\n<svg height=\"283.897812pt\" version=\"1.1\" viewBox=\"0 0 398.8125 283.897812\" width=\"398.8125pt\" xmlns=\"http://www.w3.org/2000/svg\" xmlns:xlink=\"http://www.w3.org/1999/xlink\">\r\n <metadata>\r\n  <rdf:RDF xmlns:cc=\"http://creativecommons.org/ns#\" xmlns:dc=\"http://purl.org/dc/elements/1.1/\" xmlns:rdf=\"http://www.w3.org/1999/02/22-rdf-syntax-ns#\">\r\n   <cc:Work>\r\n    <dc:type rdf:resource=\"http://purl.org/dc/dcmitype/StillImage\"/>\r\n    <dc:date>2021-06-23T19:49:35.417003</dc:date>\r\n    <dc:format>image/svg+xml</dc:format>\r\n    <dc:creator>\r\n     <cc:Agent>\r\n      <dc:title>Matplotlib v3.3.4, https://matplotlib.org/</dc:title>\r\n     </cc:Agent>\r\n    </dc:creator>\r\n   </cc:Work>\r\n  </rdf:RDF>\r\n </metadata>\r\n <defs>\r\n  <style type=\"text/css\">*{stroke-linecap:butt;stroke-linejoin:round;}</style>\r\n </defs>\r\n <g id=\"figure_1\">\r\n  <g id=\"patch_1\">\r\n   <path d=\"M 0 283.897812 \r\nL 398.8125 283.897812 \r\nL 398.8125 0 \r\nL 0 0 \r\nz\r\n\" style=\"fill:none;\"/>\r\n  </g>\r\n  <g id=\"axes_1\">\r\n   <g id=\"patch_2\">\r\n    <path d=\"M 46.0125 246.24 \r\nL 391.6125 246.24 \r\nL 391.6125 30.24 \r\nL 46.0125 30.24 \r\nz\r\n\" style=\"fill:#ffffff;\"/>\r\n   </g>\r\n   <g id=\"matplotlib.axis_1\">\r\n    <g id=\"xtick_1\">\r\n     <g id=\"line2d_1\">\r\n      <path clip-path=\"url(#p13555e4eaf)\" d=\"M 132.4125 246.24 \r\nL 132.4125 30.24 \r\n\" style=\"fill:none;stroke:#b0b0b0;stroke-linecap:square;stroke-width:0.8;\"/>\r\n     </g>\r\n     <g id=\"line2d_2\">\r\n      <defs>\r\n       <path d=\"M 0 0 \r\nL 0 3.5 \r\n\" id=\"m406d6077de\" style=\"stroke:#000000;stroke-width:0.8;\"/>\r\n      </defs>\r\n      <g>\r\n       <use style=\"stroke:#000000;stroke-width:0.8;\" x=\"132.4125\" xlink:href=\"#m406d6077de\" y=\"246.24\"/>\r\n      </g>\r\n     </g>\r\n     <g id=\"text_1\">\r\n      <!-- N -->\r\n      <g transform=\"translate(128.671875 260.838437)scale(0.1 -0.1)\">\r\n       <defs>\r\n        <path d=\"M 9.8125 72.90625 \r\nL 23.09375 72.90625 \r\nL 55.421875 11.921875 \r\nL 55.421875 72.90625 \r\nL 64.984375 72.90625 \r\nL 64.984375 0 \r\nL 51.703125 0 \r\nL 19.390625 60.984375 \r\nL 19.390625 0 \r\nL 9.8125 0 \r\nz\r\n\" id=\"DejaVuSans-78\"/>\r\n       </defs>\r\n       <use xlink:href=\"#DejaVuSans-78\"/>\r\n      </g>\r\n     </g>\r\n    </g>\r\n    <g id=\"xtick_2\">\r\n     <g id=\"line2d_3\">\r\n      <path clip-path=\"url(#p13555e4eaf)\" d=\"M 305.2125 246.24 \r\nL 305.2125 30.24 \r\n\" style=\"fill:none;stroke:#b0b0b0;stroke-linecap:square;stroke-width:0.8;\"/>\r\n     </g>\r\n     <g id=\"line2d_4\">\r\n      <g>\r\n       <use style=\"stroke:#000000;stroke-width:0.8;\" x=\"305.2125\" xlink:href=\"#m406d6077de\" y=\"246.24\"/>\r\n      </g>\r\n     </g>\r\n     <g id=\"text_2\">\r\n      <!-- Y -->\r\n      <g transform=\"translate(302.158594 260.838437)scale(0.1 -0.1)\">\r\n       <defs>\r\n        <path d=\"M -0.203125 72.90625 \r\nL 10.40625 72.90625 \r\nL 30.609375 42.921875 \r\nL 50.6875 72.90625 \r\nL 61.28125 72.90625 \r\nL 35.5 34.71875 \r\nL 35.5 0 \r\nL 25.59375 0 \r\nL 25.59375 34.71875 \r\nz\r\n\" id=\"DejaVuSans-89\"/>\r\n       </defs>\r\n       <use xlink:href=\"#DejaVuSans-89\"/>\r\n      </g>\r\n     </g>\r\n    </g>\r\n    <g id=\"text_3\">\r\n     <!-- Loan_Status -->\r\n     <g transform=\"translate(188.389844 274.34)scale(0.1 -0.1)\">\r\n      <defs>\r\n       <path d=\"M 9.8125 72.90625 \r\nL 19.671875 72.90625 \r\nL 19.671875 8.296875 \r\nL 55.171875 8.296875 \r\nL 55.171875 0 \r\nL 9.8125 0 \r\nz\r\n\" id=\"DejaVuSans-76\"/>\r\n       <path d=\"M 30.609375 48.390625 \r\nQ 23.390625 48.390625 19.1875 42.75 \r\nQ 14.984375 37.109375 14.984375 27.296875 \r\nQ 14.984375 17.484375 19.15625 11.84375 \r\nQ 23.34375 6.203125 30.609375 6.203125 \r\nQ 37.796875 6.203125 41.984375 11.859375 \r\nQ 46.1875 17.53125 46.1875 27.296875 \r\nQ 46.1875 37.015625 41.984375 42.703125 \r\nQ 37.796875 48.390625 30.609375 48.390625 \r\nz\r\nM 30.609375 56 \r\nQ 42.328125 56 49.015625 48.375 \r\nQ 55.71875 40.765625 55.71875 27.296875 \r\nQ 55.71875 13.875 49.015625 6.21875 \r\nQ 42.328125 -1.421875 30.609375 -1.421875 \r\nQ 18.84375 -1.421875 12.171875 6.21875 \r\nQ 5.515625 13.875 5.515625 27.296875 \r\nQ 5.515625 40.765625 12.171875 48.375 \r\nQ 18.84375 56 30.609375 56 \r\nz\r\n\" id=\"DejaVuSans-111\"/>\r\n       <path d=\"M 34.28125 27.484375 \r\nQ 23.390625 27.484375 19.1875 25 \r\nQ 14.984375 22.515625 14.984375 16.5 \r\nQ 14.984375 11.71875 18.140625 8.90625 \r\nQ 21.296875 6.109375 26.703125 6.109375 \r\nQ 34.1875 6.109375 38.703125 11.40625 \r\nQ 43.21875 16.703125 43.21875 25.484375 \r\nL 43.21875 27.484375 \r\nz\r\nM 52.203125 31.203125 \r\nL 52.203125 0 \r\nL 43.21875 0 \r\nL 43.21875 8.296875 \r\nQ 40.140625 3.328125 35.546875 0.953125 \r\nQ 30.953125 -1.421875 24.3125 -1.421875 \r\nQ 15.921875 -1.421875 10.953125 3.296875 \r\nQ 6 8.015625 6 15.921875 \r\nQ 6 25.140625 12.171875 29.828125 \r\nQ 18.359375 34.515625 30.609375 34.515625 \r\nL 43.21875 34.515625 \r\nL 43.21875 35.40625 \r\nQ 43.21875 41.609375 39.140625 45 \r\nQ 35.0625 48.390625 27.6875 48.390625 \r\nQ 23 48.390625 18.546875 47.265625 \r\nQ 14.109375 46.140625 10.015625 43.890625 \r\nL 10.015625 52.203125 \r\nQ 14.9375 54.109375 19.578125 55.046875 \r\nQ 24.21875 56 28.609375 56 \r\nQ 40.484375 56 46.34375 49.84375 \r\nQ 52.203125 43.703125 52.203125 31.203125 \r\nz\r\n\" id=\"DejaVuSans-97\"/>\r\n       <path d=\"M 54.890625 33.015625 \r\nL 54.890625 0 \r\nL 45.90625 0 \r\nL 45.90625 32.71875 \r\nQ 45.90625 40.484375 42.875 44.328125 \r\nQ 39.84375 48.1875 33.796875 48.1875 \r\nQ 26.515625 48.1875 22.3125 43.546875 \r\nQ 18.109375 38.921875 18.109375 30.90625 \r\nL 18.109375 0 \r\nL 9.078125 0 \r\nL 9.078125 54.6875 \r\nL 18.109375 54.6875 \r\nL 18.109375 46.1875 \r\nQ 21.34375 51.125 25.703125 53.5625 \r\nQ 30.078125 56 35.796875 56 \r\nQ 45.21875 56 50.046875 50.171875 \r\nQ 54.890625 44.34375 54.890625 33.015625 \r\nz\r\n\" id=\"DejaVuSans-110\"/>\r\n       <path d=\"M 50.984375 -16.609375 \r\nL 50.984375 -23.578125 \r\nL -0.984375 -23.578125 \r\nL -0.984375 -16.609375 \r\nz\r\n\" id=\"DejaVuSans-95\"/>\r\n       <path d=\"M 53.515625 70.515625 \r\nL 53.515625 60.890625 \r\nQ 47.90625 63.578125 42.921875 64.890625 \r\nQ 37.9375 66.21875 33.296875 66.21875 \r\nQ 25.25 66.21875 20.875 63.09375 \r\nQ 16.5 59.96875 16.5 54.203125 \r\nQ 16.5 49.359375 19.40625 46.890625 \r\nQ 22.3125 44.4375 30.421875 42.921875 \r\nL 36.375 41.703125 \r\nQ 47.40625 39.59375 52.65625 34.296875 \r\nQ 57.90625 29 57.90625 20.125 \r\nQ 57.90625 9.515625 50.796875 4.046875 \r\nQ 43.703125 -1.421875 29.984375 -1.421875 \r\nQ 24.8125 -1.421875 18.96875 -0.25 \r\nQ 13.140625 0.921875 6.890625 3.21875 \r\nL 6.890625 13.375 \r\nQ 12.890625 10.015625 18.65625 8.296875 \r\nQ 24.421875 6.59375 29.984375 6.59375 \r\nQ 38.421875 6.59375 43.015625 9.90625 \r\nQ 47.609375 13.234375 47.609375 19.390625 \r\nQ 47.609375 24.75 44.3125 27.78125 \r\nQ 41.015625 30.8125 33.5 32.328125 \r\nL 27.484375 33.5 \r\nQ 16.453125 35.6875 11.515625 40.375 \r\nQ 6.59375 45.0625 6.59375 53.421875 \r\nQ 6.59375 63.09375 13.40625 68.65625 \r\nQ 20.21875 74.21875 32.171875 74.21875 \r\nQ 37.3125 74.21875 42.625 73.28125 \r\nQ 47.953125 72.359375 53.515625 70.515625 \r\nz\r\n\" id=\"DejaVuSans-83\"/>\r\n       <path d=\"M 18.3125 70.21875 \r\nL 18.3125 54.6875 \r\nL 36.8125 54.6875 \r\nL 36.8125 47.703125 \r\nL 18.3125 47.703125 \r\nL 18.3125 18.015625 \r\nQ 18.3125 11.328125 20.140625 9.421875 \r\nQ 21.96875 7.515625 27.59375 7.515625 \r\nL 36.8125 7.515625 \r\nL 36.8125 0 \r\nL 27.59375 0 \r\nQ 17.1875 0 13.234375 3.875 \r\nQ 9.28125 7.765625 9.28125 18.015625 \r\nL 9.28125 47.703125 \r\nL 2.6875 47.703125 \r\nL 2.6875 54.6875 \r\nL 9.28125 54.6875 \r\nL 9.28125 70.21875 \r\nz\r\n\" id=\"DejaVuSans-116\"/>\r\n       <path d=\"M 8.5 21.578125 \r\nL 8.5 54.6875 \r\nL 17.484375 54.6875 \r\nL 17.484375 21.921875 \r\nQ 17.484375 14.15625 20.5 10.265625 \r\nQ 23.53125 6.390625 29.59375 6.390625 \r\nQ 36.859375 6.390625 41.078125 11.03125 \r\nQ 45.3125 15.671875 45.3125 23.6875 \r\nL 45.3125 54.6875 \r\nL 54.296875 54.6875 \r\nL 54.296875 0 \r\nL 45.3125 0 \r\nL 45.3125 8.40625 \r\nQ 42.046875 3.421875 37.71875 1 \r\nQ 33.40625 -1.421875 27.6875 -1.421875 \r\nQ 18.265625 -1.421875 13.375 4.4375 \r\nQ 8.5 10.296875 8.5 21.578125 \r\nz\r\nM 31.109375 56 \r\nz\r\n\" id=\"DejaVuSans-117\"/>\r\n       <path d=\"M 44.28125 53.078125 \r\nL 44.28125 44.578125 \r\nQ 40.484375 46.53125 36.375 47.5 \r\nQ 32.28125 48.484375 27.875 48.484375 \r\nQ 21.1875 48.484375 17.84375 46.4375 \r\nQ 14.5 44.390625 14.5 40.28125 \r\nQ 14.5 37.15625 16.890625 35.375 \r\nQ 19.28125 33.59375 26.515625 31.984375 \r\nL 29.59375 31.296875 \r\nQ 39.15625 29.25 43.1875 25.515625 \r\nQ 47.21875 21.78125 47.21875 15.09375 \r\nQ 47.21875 7.46875 41.1875 3.015625 \r\nQ 35.15625 -1.421875 24.609375 -1.421875 \r\nQ 20.21875 -1.421875 15.453125 -0.5625 \r\nQ 10.6875 0.296875 5.421875 2 \r\nL 5.421875 11.28125 \r\nQ 10.40625 8.6875 15.234375 7.390625 \r\nQ 20.0625 6.109375 24.8125 6.109375 \r\nQ 31.15625 6.109375 34.5625 8.28125 \r\nQ 37.984375 10.453125 37.984375 14.40625 \r\nQ 37.984375 18.0625 35.515625 20.015625 \r\nQ 33.0625 21.96875 24.703125 23.78125 \r\nL 21.578125 24.515625 \r\nQ 13.234375 26.265625 9.515625 29.90625 \r\nQ 5.8125 33.546875 5.8125 39.890625 \r\nQ 5.8125 47.609375 11.28125 51.796875 \r\nQ 16.75 56 26.8125 56 \r\nQ 31.78125 56 36.171875 55.265625 \r\nQ 40.578125 54.546875 44.28125 53.078125 \r\nz\r\n\" id=\"DejaVuSans-115\"/>\r\n      </defs>\r\n      <use xlink:href=\"#DejaVuSans-76\"/>\r\n      <use x=\"53.962891\" xlink:href=\"#DejaVuSans-111\"/>\r\n      <use x=\"115.144531\" xlink:href=\"#DejaVuSans-97\"/>\r\n      <use x=\"176.423828\" xlink:href=\"#DejaVuSans-110\"/>\r\n      <use x=\"239.802734\" xlink:href=\"#DejaVuSans-95\"/>\r\n      <use x=\"289.802734\" xlink:href=\"#DejaVuSans-83\"/>\r\n      <use x=\"353.279297\" xlink:href=\"#DejaVuSans-116\"/>\r\n      <use x=\"392.488281\" xlink:href=\"#DejaVuSans-97\"/>\r\n      <use x=\"453.767578\" xlink:href=\"#DejaVuSans-116\"/>\r\n      <use x=\"492.976562\" xlink:href=\"#DejaVuSans-117\"/>\r\n      <use x=\"556.355469\" xlink:href=\"#DejaVuSans-115\"/>\r\n     </g>\r\n    </g>\r\n   </g>\r\n   <g id=\"matplotlib.axis_2\">\r\n    <g id=\"ytick_1\">\r\n     <g id=\"line2d_5\">\r\n      <path clip-path=\"url(#p13555e4eaf)\" d=\"M 46.0125 236.786129 \r\nL 391.6125 236.786129 \r\n\" style=\"fill:none;stroke:#b0b0b0;stroke-linecap:square;stroke-width:0.8;\"/>\r\n     </g>\r\n     <g id=\"line2d_6\">\r\n      <defs>\r\n       <path d=\"M 0 0 \r\nL -3.5 0 \r\n\" id=\"m5220020d51\" style=\"stroke:#000000;stroke-width:0.8;\"/>\r\n      </defs>\r\n      <g>\r\n       <use style=\"stroke:#000000;stroke-width:0.8;\" x=\"46.0125\" xlink:href=\"#m5220020d51\" y=\"236.786129\"/>\r\n      </g>\r\n     </g>\r\n     <g id=\"text_4\">\r\n      <!-- 0 -->\r\n      <g transform=\"translate(32.65 240.585348)scale(0.1 -0.1)\">\r\n       <defs>\r\n        <path d=\"M 31.78125 66.40625 \r\nQ 24.171875 66.40625 20.328125 58.90625 \r\nQ 16.5 51.421875 16.5 36.375 \r\nQ 16.5 21.390625 20.328125 13.890625 \r\nQ 24.171875 6.390625 31.78125 6.390625 \r\nQ 39.453125 6.390625 43.28125 13.890625 \r\nQ 47.125 21.390625 47.125 36.375 \r\nQ 47.125 51.421875 43.28125 58.90625 \r\nQ 39.453125 66.40625 31.78125 66.40625 \r\nz\r\nM 31.78125 74.21875 \r\nQ 44.046875 74.21875 50.515625 64.515625 \r\nQ 56.984375 54.828125 56.984375 36.375 \r\nQ 56.984375 17.96875 50.515625 8.265625 \r\nQ 44.046875 -1.421875 31.78125 -1.421875 \r\nQ 19.53125 -1.421875 13.0625 8.265625 \r\nQ 6.59375 17.96875 6.59375 36.375 \r\nQ 6.59375 54.828125 13.0625 64.515625 \r\nQ 19.53125 74.21875 31.78125 74.21875 \r\nz\r\n\" id=\"DejaVuSans-48\"/>\r\n       </defs>\r\n       <use xlink:href=\"#DejaVuSans-48\"/>\r\n      </g>\r\n     </g>\r\n    </g>\r\n    <g id=\"ytick_2\">\r\n     <g id=\"line2d_7\">\r\n      <path clip-path=\"url(#p13555e4eaf)\" d=\"M 46.0125 212.498728 \r\nL 391.6125 212.498728 \r\n\" style=\"fill:none;stroke:#b0b0b0;stroke-linecap:square;stroke-width:0.8;\"/>\r\n     </g>\r\n     <g id=\"line2d_8\">\r\n      <g>\r\n       <use style=\"stroke:#000000;stroke-width:0.8;\" x=\"46.0125\" xlink:href=\"#m5220020d51\" y=\"212.498728\"/>\r\n      </g>\r\n     </g>\r\n     <g id=\"text_5\">\r\n      <!-- 10000 -->\r\n      <g transform=\"translate(7.2 216.297947)scale(0.1 -0.1)\">\r\n       <defs>\r\n        <path d=\"M 12.40625 8.296875 \r\nL 28.515625 8.296875 \r\nL 28.515625 63.921875 \r\nL 10.984375 60.40625 \r\nL 10.984375 69.390625 \r\nL 28.421875 72.90625 \r\nL 38.28125 72.90625 \r\nL 38.28125 8.296875 \r\nL 54.390625 8.296875 \r\nL 54.390625 0 \r\nL 12.40625 0 \r\nz\r\n\" id=\"DejaVuSans-49\"/>\r\n       </defs>\r\n       <use xlink:href=\"#DejaVuSans-49\"/>\r\n       <use x=\"63.623047\" xlink:href=\"#DejaVuSans-48\"/>\r\n       <use x=\"127.246094\" xlink:href=\"#DejaVuSans-48\"/>\r\n       <use x=\"190.869141\" xlink:href=\"#DejaVuSans-48\"/>\r\n       <use x=\"254.492188\" xlink:href=\"#DejaVuSans-48\"/>\r\n      </g>\r\n     </g>\r\n    </g>\r\n    <g id=\"ytick_3\">\r\n     <g id=\"line2d_9\">\r\n      <path clip-path=\"url(#p13555e4eaf)\" d=\"M 46.0125 188.211327 \r\nL 391.6125 188.211327 \r\n\" style=\"fill:none;stroke:#b0b0b0;stroke-linecap:square;stroke-width:0.8;\"/>\r\n     </g>\r\n     <g id=\"line2d_10\">\r\n      <g>\r\n       <use style=\"stroke:#000000;stroke-width:0.8;\" x=\"46.0125\" xlink:href=\"#m5220020d51\" y=\"188.211327\"/>\r\n      </g>\r\n     </g>\r\n     <g id=\"text_6\">\r\n      <!-- 20000 -->\r\n      <g transform=\"translate(7.2 192.010546)scale(0.1 -0.1)\">\r\n       <defs>\r\n        <path d=\"M 19.1875 8.296875 \r\nL 53.609375 8.296875 \r\nL 53.609375 0 \r\nL 7.328125 0 \r\nL 7.328125 8.296875 \r\nQ 12.9375 14.109375 22.625 23.890625 \r\nQ 32.328125 33.6875 34.8125 36.53125 \r\nQ 39.546875 41.84375 41.421875 45.53125 \r\nQ 43.3125 49.21875 43.3125 52.78125 \r\nQ 43.3125 58.59375 39.234375 62.25 \r\nQ 35.15625 65.921875 28.609375 65.921875 \r\nQ 23.96875 65.921875 18.8125 64.3125 \r\nQ 13.671875 62.703125 7.8125 59.421875 \r\nL 7.8125 69.390625 \r\nQ 13.765625 71.78125 18.9375 73 \r\nQ 24.125 74.21875 28.421875 74.21875 \r\nQ 39.75 74.21875 46.484375 68.546875 \r\nQ 53.21875 62.890625 53.21875 53.421875 \r\nQ 53.21875 48.921875 51.53125 44.890625 \r\nQ 49.859375 40.875 45.40625 35.40625 \r\nQ 44.1875 33.984375 37.640625 27.21875 \r\nQ 31.109375 20.453125 19.1875 8.296875 \r\nz\r\n\" id=\"DejaVuSans-50\"/>\r\n       </defs>\r\n       <use xlink:href=\"#DejaVuSans-50\"/>\r\n       <use x=\"63.623047\" xlink:href=\"#DejaVuSans-48\"/>\r\n       <use x=\"127.246094\" xlink:href=\"#DejaVuSans-48\"/>\r\n       <use x=\"190.869141\" xlink:href=\"#DejaVuSans-48\"/>\r\n       <use x=\"254.492188\" xlink:href=\"#DejaVuSans-48\"/>\r\n      </g>\r\n     </g>\r\n    </g>\r\n    <g id=\"ytick_4\">\r\n     <g id=\"line2d_11\">\r\n      <path clip-path=\"url(#p13555e4eaf)\" d=\"M 46.0125 163.923926 \r\nL 391.6125 163.923926 \r\n\" style=\"fill:none;stroke:#b0b0b0;stroke-linecap:square;stroke-width:0.8;\"/>\r\n     </g>\r\n     <g id=\"line2d_12\">\r\n      <g>\r\n       <use style=\"stroke:#000000;stroke-width:0.8;\" x=\"46.0125\" xlink:href=\"#m5220020d51\" y=\"163.923926\"/>\r\n      </g>\r\n     </g>\r\n     <g id=\"text_7\">\r\n      <!-- 30000 -->\r\n      <g transform=\"translate(7.2 167.723145)scale(0.1 -0.1)\">\r\n       <defs>\r\n        <path d=\"M 40.578125 39.3125 \r\nQ 47.65625 37.796875 51.625 33 \r\nQ 55.609375 28.21875 55.609375 21.1875 \r\nQ 55.609375 10.40625 48.1875 4.484375 \r\nQ 40.765625 -1.421875 27.09375 -1.421875 \r\nQ 22.515625 -1.421875 17.65625 -0.515625 \r\nQ 12.796875 0.390625 7.625 2.203125 \r\nL 7.625 11.71875 \r\nQ 11.71875 9.328125 16.59375 8.109375 \r\nQ 21.484375 6.890625 26.8125 6.890625 \r\nQ 36.078125 6.890625 40.9375 10.546875 \r\nQ 45.796875 14.203125 45.796875 21.1875 \r\nQ 45.796875 27.640625 41.28125 31.265625 \r\nQ 36.765625 34.90625 28.71875 34.90625 \r\nL 20.21875 34.90625 \r\nL 20.21875 43.015625 \r\nL 29.109375 43.015625 \r\nQ 36.375 43.015625 40.234375 45.921875 \r\nQ 44.09375 48.828125 44.09375 54.296875 \r\nQ 44.09375 59.90625 40.109375 62.90625 \r\nQ 36.140625 65.921875 28.71875 65.921875 \r\nQ 24.65625 65.921875 20.015625 65.03125 \r\nQ 15.375 64.15625 9.8125 62.3125 \r\nL 9.8125 71.09375 \r\nQ 15.4375 72.65625 20.34375 73.4375 \r\nQ 25.25 74.21875 29.59375 74.21875 \r\nQ 40.828125 74.21875 47.359375 69.109375 \r\nQ 53.90625 64.015625 53.90625 55.328125 \r\nQ 53.90625 49.265625 50.4375 45.09375 \r\nQ 46.96875 40.921875 40.578125 39.3125 \r\nz\r\n\" id=\"DejaVuSans-51\"/>\r\n       </defs>\r\n       <use xlink:href=\"#DejaVuSans-51\"/>\r\n       <use x=\"63.623047\" xlink:href=\"#DejaVuSans-48\"/>\r\n       <use x=\"127.246094\" xlink:href=\"#DejaVuSans-48\"/>\r\n       <use x=\"190.869141\" xlink:href=\"#DejaVuSans-48\"/>\r\n       <use x=\"254.492188\" xlink:href=\"#DejaVuSans-48\"/>\r\n      </g>\r\n     </g>\r\n    </g>\r\n    <g id=\"ytick_5\">\r\n     <g id=\"line2d_13\">\r\n      <path clip-path=\"url(#p13555e4eaf)\" d=\"M 46.0125 139.636526 \r\nL 391.6125 139.636526 \r\n\" style=\"fill:none;stroke:#b0b0b0;stroke-linecap:square;stroke-width:0.8;\"/>\r\n     </g>\r\n     <g id=\"line2d_14\">\r\n      <g>\r\n       <use style=\"stroke:#000000;stroke-width:0.8;\" x=\"46.0125\" xlink:href=\"#m5220020d51\" y=\"139.636526\"/>\r\n      </g>\r\n     </g>\r\n     <g id=\"text_8\">\r\n      <!-- 40000 -->\r\n      <g transform=\"translate(7.2 143.435744)scale(0.1 -0.1)\">\r\n       <defs>\r\n        <path d=\"M 37.796875 64.3125 \r\nL 12.890625 25.390625 \r\nL 37.796875 25.390625 \r\nz\r\nM 35.203125 72.90625 \r\nL 47.609375 72.90625 \r\nL 47.609375 25.390625 \r\nL 58.015625 25.390625 \r\nL 58.015625 17.1875 \r\nL 47.609375 17.1875 \r\nL 47.609375 0 \r\nL 37.796875 0 \r\nL 37.796875 17.1875 \r\nL 4.890625 17.1875 \r\nL 4.890625 26.703125 \r\nz\r\n\" id=\"DejaVuSans-52\"/>\r\n       </defs>\r\n       <use xlink:href=\"#DejaVuSans-52\"/>\r\n       <use x=\"63.623047\" xlink:href=\"#DejaVuSans-48\"/>\r\n       <use x=\"127.246094\" xlink:href=\"#DejaVuSans-48\"/>\r\n       <use x=\"190.869141\" xlink:href=\"#DejaVuSans-48\"/>\r\n       <use x=\"254.492188\" xlink:href=\"#DejaVuSans-48\"/>\r\n      </g>\r\n     </g>\r\n    </g>\r\n    <g id=\"ytick_6\">\r\n     <g id=\"line2d_15\">\r\n      <path clip-path=\"url(#p13555e4eaf)\" d=\"M 46.0125 115.349125 \r\nL 391.6125 115.349125 \r\n\" style=\"fill:none;stroke:#b0b0b0;stroke-linecap:square;stroke-width:0.8;\"/>\r\n     </g>\r\n     <g id=\"line2d_16\">\r\n      <g>\r\n       <use style=\"stroke:#000000;stroke-width:0.8;\" x=\"46.0125\" xlink:href=\"#m5220020d51\" y=\"115.349125\"/>\r\n      </g>\r\n     </g>\r\n     <g id=\"text_9\">\r\n      <!-- 50000 -->\r\n      <g transform=\"translate(7.2 119.148343)scale(0.1 -0.1)\">\r\n       <defs>\r\n        <path d=\"M 10.796875 72.90625 \r\nL 49.515625 72.90625 \r\nL 49.515625 64.59375 \r\nL 19.828125 64.59375 \r\nL 19.828125 46.734375 \r\nQ 21.96875 47.46875 24.109375 47.828125 \r\nQ 26.265625 48.1875 28.421875 48.1875 \r\nQ 40.625 48.1875 47.75 41.5 \r\nQ 54.890625 34.8125 54.890625 23.390625 \r\nQ 54.890625 11.625 47.5625 5.09375 \r\nQ 40.234375 -1.421875 26.90625 -1.421875 \r\nQ 22.3125 -1.421875 17.546875 -0.640625 \r\nQ 12.796875 0.140625 7.71875 1.703125 \r\nL 7.71875 11.625 \r\nQ 12.109375 9.234375 16.796875 8.0625 \r\nQ 21.484375 6.890625 26.703125 6.890625 \r\nQ 35.15625 6.890625 40.078125 11.328125 \r\nQ 45.015625 15.765625 45.015625 23.390625 \r\nQ 45.015625 31 40.078125 35.4375 \r\nQ 35.15625 39.890625 26.703125 39.890625 \r\nQ 22.75 39.890625 18.8125 39.015625 \r\nQ 14.890625 38.140625 10.796875 36.28125 \r\nz\r\n\" id=\"DejaVuSans-53\"/>\r\n       </defs>\r\n       <use xlink:href=\"#DejaVuSans-53\"/>\r\n       <use x=\"63.623047\" xlink:href=\"#DejaVuSans-48\"/>\r\n       <use x=\"127.246094\" xlink:href=\"#DejaVuSans-48\"/>\r\n       <use x=\"190.869141\" xlink:href=\"#DejaVuSans-48\"/>\r\n       <use x=\"254.492188\" xlink:href=\"#DejaVuSans-48\"/>\r\n      </g>\r\n     </g>\r\n    </g>\r\n    <g id=\"ytick_7\">\r\n     <g id=\"line2d_17\">\r\n      <path clip-path=\"url(#p13555e4eaf)\" d=\"M 46.0125 91.061724 \r\nL 391.6125 91.061724 \r\n\" style=\"fill:none;stroke:#b0b0b0;stroke-linecap:square;stroke-width:0.8;\"/>\r\n     </g>\r\n     <g id=\"line2d_18\">\r\n      <g>\r\n       <use style=\"stroke:#000000;stroke-width:0.8;\" x=\"46.0125\" xlink:href=\"#m5220020d51\" y=\"91.061724\"/>\r\n      </g>\r\n     </g>\r\n     <g id=\"text_10\">\r\n      <!-- 60000 -->\r\n      <g transform=\"translate(7.2 94.860942)scale(0.1 -0.1)\">\r\n       <defs>\r\n        <path d=\"M 33.015625 40.375 \r\nQ 26.375 40.375 22.484375 35.828125 \r\nQ 18.609375 31.296875 18.609375 23.390625 \r\nQ 18.609375 15.53125 22.484375 10.953125 \r\nQ 26.375 6.390625 33.015625 6.390625 \r\nQ 39.65625 6.390625 43.53125 10.953125 \r\nQ 47.40625 15.53125 47.40625 23.390625 \r\nQ 47.40625 31.296875 43.53125 35.828125 \r\nQ 39.65625 40.375 33.015625 40.375 \r\nz\r\nM 52.59375 71.296875 \r\nL 52.59375 62.3125 \r\nQ 48.875 64.0625 45.09375 64.984375 \r\nQ 41.3125 65.921875 37.59375 65.921875 \r\nQ 27.828125 65.921875 22.671875 59.328125 \r\nQ 17.53125 52.734375 16.796875 39.40625 \r\nQ 19.671875 43.65625 24.015625 45.921875 \r\nQ 28.375 48.1875 33.59375 48.1875 \r\nQ 44.578125 48.1875 50.953125 41.515625 \r\nQ 57.328125 34.859375 57.328125 23.390625 \r\nQ 57.328125 12.15625 50.6875 5.359375 \r\nQ 44.046875 -1.421875 33.015625 -1.421875 \r\nQ 20.359375 -1.421875 13.671875 8.265625 \r\nQ 6.984375 17.96875 6.984375 36.375 \r\nQ 6.984375 53.65625 15.1875 63.9375 \r\nQ 23.390625 74.21875 37.203125 74.21875 \r\nQ 40.921875 74.21875 44.703125 73.484375 \r\nQ 48.484375 72.75 52.59375 71.296875 \r\nz\r\n\" id=\"DejaVuSans-54\"/>\r\n       </defs>\r\n       <use xlink:href=\"#DejaVuSans-54\"/>\r\n       <use x=\"63.623047\" xlink:href=\"#DejaVuSans-48\"/>\r\n       <use x=\"127.246094\" xlink:href=\"#DejaVuSans-48\"/>\r\n       <use x=\"190.869141\" xlink:href=\"#DejaVuSans-48\"/>\r\n       <use x=\"254.492188\" xlink:href=\"#DejaVuSans-48\"/>\r\n      </g>\r\n     </g>\r\n    </g>\r\n    <g id=\"ytick_8\">\r\n     <g id=\"line2d_19\">\r\n      <path clip-path=\"url(#p13555e4eaf)\" d=\"M 46.0125 66.774323 \r\nL 391.6125 66.774323 \r\n\" style=\"fill:none;stroke:#b0b0b0;stroke-linecap:square;stroke-width:0.8;\"/>\r\n     </g>\r\n     <g id=\"line2d_20\">\r\n      <g>\r\n       <use style=\"stroke:#000000;stroke-width:0.8;\" x=\"46.0125\" xlink:href=\"#m5220020d51\" y=\"66.774323\"/>\r\n      </g>\r\n     </g>\r\n     <g id=\"text_11\">\r\n      <!-- 70000 -->\r\n      <g transform=\"translate(7.2 70.573542)scale(0.1 -0.1)\">\r\n       <defs>\r\n        <path d=\"M 8.203125 72.90625 \r\nL 55.078125 72.90625 \r\nL 55.078125 68.703125 \r\nL 28.609375 0 \r\nL 18.3125 0 \r\nL 43.21875 64.59375 \r\nL 8.203125 64.59375 \r\nz\r\n\" id=\"DejaVuSans-55\"/>\r\n       </defs>\r\n       <use xlink:href=\"#DejaVuSans-55\"/>\r\n       <use x=\"63.623047\" xlink:href=\"#DejaVuSans-48\"/>\r\n       <use x=\"127.246094\" xlink:href=\"#DejaVuSans-48\"/>\r\n       <use x=\"190.869141\" xlink:href=\"#DejaVuSans-48\"/>\r\n       <use x=\"254.492188\" xlink:href=\"#DejaVuSans-48\"/>\r\n      </g>\r\n     </g>\r\n    </g>\r\n    <g id=\"ytick_9\">\r\n     <g id=\"line2d_21\">\r\n      <path clip-path=\"url(#p13555e4eaf)\" d=\"M 46.0125 42.486922 \r\nL 391.6125 42.486922 \r\n\" style=\"fill:none;stroke:#b0b0b0;stroke-linecap:square;stroke-width:0.8;\"/>\r\n     </g>\r\n     <g id=\"line2d_22\">\r\n      <g>\r\n       <use style=\"stroke:#000000;stroke-width:0.8;\" x=\"46.0125\" xlink:href=\"#m5220020d51\" y=\"42.486922\"/>\r\n      </g>\r\n     </g>\r\n     <g id=\"text_12\">\r\n      <!-- 80000 -->\r\n      <g transform=\"translate(7.2 46.286141)scale(0.1 -0.1)\">\r\n       <defs>\r\n        <path d=\"M 31.78125 34.625 \r\nQ 24.75 34.625 20.71875 30.859375 \r\nQ 16.703125 27.09375 16.703125 20.515625 \r\nQ 16.703125 13.921875 20.71875 10.15625 \r\nQ 24.75 6.390625 31.78125 6.390625 \r\nQ 38.8125 6.390625 42.859375 10.171875 \r\nQ 46.921875 13.96875 46.921875 20.515625 \r\nQ 46.921875 27.09375 42.890625 30.859375 \r\nQ 38.875 34.625 31.78125 34.625 \r\nz\r\nM 21.921875 38.8125 \r\nQ 15.578125 40.375 12.03125 44.71875 \r\nQ 8.5 49.078125 8.5 55.328125 \r\nQ 8.5 64.0625 14.71875 69.140625 \r\nQ 20.953125 74.21875 31.78125 74.21875 \r\nQ 42.671875 74.21875 48.875 69.140625 \r\nQ 55.078125 64.0625 55.078125 55.328125 \r\nQ 55.078125 49.078125 51.53125 44.71875 \r\nQ 48 40.375 41.703125 38.8125 \r\nQ 48.828125 37.15625 52.796875 32.3125 \r\nQ 56.78125 27.484375 56.78125 20.515625 \r\nQ 56.78125 9.90625 50.3125 4.234375 \r\nQ 43.84375 -1.421875 31.78125 -1.421875 \r\nQ 19.734375 -1.421875 13.25 4.234375 \r\nQ 6.78125 9.90625 6.78125 20.515625 \r\nQ 6.78125 27.484375 10.78125 32.3125 \r\nQ 14.796875 37.15625 21.921875 38.8125 \r\nz\r\nM 18.3125 54.390625 \r\nQ 18.3125 48.734375 21.84375 45.5625 \r\nQ 25.390625 42.390625 31.78125 42.390625 \r\nQ 38.140625 42.390625 41.71875 45.5625 \r\nQ 45.3125 48.734375 45.3125 54.390625 \r\nQ 45.3125 60.0625 41.71875 63.234375 \r\nQ 38.140625 66.40625 31.78125 66.40625 \r\nQ 25.390625 66.40625 21.84375 63.234375 \r\nQ 18.3125 60.0625 18.3125 54.390625 \r\nz\r\n\" id=\"DejaVuSans-56\"/>\r\n       </defs>\r\n       <use xlink:href=\"#DejaVuSans-56\"/>\r\n       <use x=\"63.623047\" xlink:href=\"#DejaVuSans-48\"/>\r\n       <use x=\"127.246094\" xlink:href=\"#DejaVuSans-48\"/>\r\n       <use x=\"190.869141\" xlink:href=\"#DejaVuSans-48\"/>\r\n       <use x=\"254.492188\" xlink:href=\"#DejaVuSans-48\"/>\r\n      </g>\r\n     </g>\r\n    </g>\r\n   </g>\r\n   <g id=\"line2d_23\">\r\n    <path clip-path=\"url(#p13555e4eaf)\" d=\"M 119.4525 229.779214 \r\nL 145.3725 229.779214 \r\nL 145.3725 222.550676 \r\nL 119.4525 222.550676 \r\nL 119.4525 229.779214 \r\n\" style=\"fill:none;stroke:#1f77b4;stroke-linecap:square;\"/>\r\n   </g>\r\n   <g id=\"line2d_24\">\r\n    <path clip-path=\"url(#p13555e4eaf)\" d=\"M 132.4125 229.779214 \r\nL 132.4125 236.421818 \r\n\" style=\"fill:none;stroke:#1f77b4;stroke-linecap:square;\"/>\r\n   </g>\r\n   <g id=\"line2d_25\">\r\n    <path clip-path=\"url(#p13555e4eaf)\" d=\"M 132.4125 222.550676 \r\nL 132.4125 212.498728 \r\n\" style=\"fill:none;stroke:#1f77b4;stroke-linecap:square;\"/>\r\n   </g>\r\n   <g id=\"line2d_26\">\r\n    <path clip-path=\"url(#p13555e4eaf)\" d=\"M 125.9325 236.421818 \r\nL 138.8925 236.421818 \r\n\" style=\"fill:none;stroke:#000000;stroke-linecap:square;\"/>\r\n   </g>\r\n   <g id=\"line2d_27\">\r\n    <path clip-path=\"url(#p13555e4eaf)\" d=\"M 125.9325 212.498728 \r\nL 138.8925 212.498728 \r\n\" style=\"fill:none;stroke:#000000;stroke-linecap:square;\"/>\r\n   </g>\r\n   <g id=\"line2d_28\">\r\n    <defs>\r\n     <path d=\"M 0 3 \r\nC 0.795609 3 1.55874 2.683901 2.12132 2.12132 \r\nC 2.683901 1.55874 3 0.795609 3 0 \r\nC 3 -0.795609 2.683901 -1.55874 2.12132 -2.12132 \r\nC 1.55874 -2.683901 0.795609 -3 0 -3 \r\nC -0.795609 -3 -1.55874 -2.683901 -2.12132 -2.12132 \r\nC -2.683901 -1.55874 -3 -0.795609 -3 0 \r\nC -3 0.795609 -2.683901 1.55874 -2.12132 2.12132 \r\nC -1.55874 2.683901 -0.795609 3 0 3 \r\nz\r\n\" id=\"m0d2c9068cb\" style=\"stroke:#000000;\"/>\r\n    </defs>\r\n    <g clip-path=\"url(#p13555e4eaf)\">\r\n     <use style=\"fill-opacity:0;stroke:#000000;\" x=\"132.4125\" xlink:href=\"#m0d2c9068cb\" y=\"205.598678\"/>\r\n     <use style=\"fill-opacity:0;stroke:#000000;\" x=\"132.4125\" xlink:href=\"#m0d2c9068cb\" y=\"206.426878\"/>\r\n     <use style=\"fill-opacity:0;stroke:#000000;\" x=\"132.4125\" xlink:href=\"#m0d2c9068cb\" y=\"208.855618\"/>\r\n     <use style=\"fill-opacity:0;stroke:#000000;\" x=\"132.4125\" xlink:href=\"#m0d2c9068cb\" y=\"211.252785\"/>\r\n     <use style=\"fill-opacity:0;stroke:#000000;\" x=\"132.4125\" xlink:href=\"#m0d2c9068cb\" y=\"200.357457\"/>\r\n     <use style=\"fill-opacity:0;stroke:#000000;\" x=\"132.4125\" xlink:href=\"#m0d2c9068cb\" y=\"154.582992\"/>\r\n     <use style=\"fill-opacity:0;stroke:#000000;\" x=\"132.4125\" xlink:href=\"#m0d2c9068cb\" y=\"207.641248\"/>\r\n     <use style=\"fill-opacity:0;stroke:#000000;\" x=\"132.4125\" xlink:href=\"#m0d2c9068cb\" y=\"210.069988\"/>\r\n     <use style=\"fill-opacity:0;stroke:#000000;\" x=\"132.4125\" xlink:href=\"#m0d2c9068cb\" y=\"197.319103\"/>\r\n     <use style=\"fill-opacity:0;stroke:#000000;\" x=\"132.4125\" xlink:href=\"#m0d2c9068cb\" y=\"201.124938\"/>\r\n     <use style=\"fill-opacity:0;stroke:#000000;\" x=\"132.4125\" xlink:href=\"#m0d2c9068cb\" y=\"186.591358\"/>\r\n     <use style=\"fill-opacity:0;stroke:#000000;\" x=\"132.4125\" xlink:href=\"#m0d2c9068cb\" y=\"187.645431\"/>\r\n     <use style=\"fill-opacity:0;stroke:#000000;\" x=\"132.4125\" xlink:href=\"#m0d2c9068cb\" y=\"188.867087\"/>\r\n     <use style=\"fill-opacity:0;stroke:#000000;\" x=\"132.4125\" xlink:href=\"#m0d2c9068cb\" y=\"40.058182\"/>\r\n     <use style=\"fill-opacity:0;stroke:#000000;\" x=\"132.4125\" xlink:href=\"#m0d2c9068cb\" y=\"211.488372\"/>\r\n     <use style=\"fill-opacity:0;stroke:#000000;\" x=\"132.4125\" xlink:href=\"#m0d2c9068cb\" y=\"192.260037\"/>\r\n     <use style=\"fill-opacity:0;stroke:#000000;\" x=\"132.4125\" xlink:href=\"#m0d2c9068cb\" y=\"209.462803\"/>\r\n    </g>\r\n   </g>\r\n   <g id=\"line2d_29\">\r\n    <path clip-path=\"url(#p13555e4eaf)\" d=\"M 292.2525 229.79743 \r\nL 318.1725 229.79743 \r\nL 318.1725 222.768656 \r\nL 292.2525 222.768656 \r\nL 292.2525 229.79743 \r\n\" style=\"fill:none;stroke:#1f77b4;stroke-linecap:square;\"/>\r\n   </g>\r\n   <g id=\"line2d_30\">\r\n    <path clip-path=\"url(#p13555e4eaf)\" d=\"M 305.2125 229.79743 \r\nL 305.2125 236.276094 \r\n\" style=\"fill:none;stroke:#1f77b4;stroke-linecap:square;\"/>\r\n   </g>\r\n   <g id=\"line2d_31\">\r\n    <path clip-path=\"url(#p13555e4eaf)\" d=\"M 305.2125 222.768656 \r\nL 305.2125 212.384578 \r\n\" style=\"fill:none;stroke:#1f77b4;stroke-linecap:square;\"/>\r\n   </g>\r\n   <g id=\"line2d_32\">\r\n    <path clip-path=\"url(#p13555e4eaf)\" d=\"M 298.7325 236.276094 \r\nL 311.6925 236.276094 \r\n\" style=\"fill:none;stroke:#000000;stroke-linecap:square;\"/>\r\n   </g>\r\n   <g id=\"line2d_33\">\r\n    <path clip-path=\"url(#p13555e4eaf)\" d=\"M 298.7325 212.384578 \r\nL 311.6925 212.384578 \r\n\" style=\"fill:none;stroke:#000000;stroke-linecap:square;\"/>\r\n   </g>\r\n   <g id=\"line2d_34\">\r\n    <g clip-path=\"url(#p13555e4eaf)\">\r\n     <use style=\"fill-opacity:0;stroke:#000000;\" x=\"305.2125\" xlink:href=\"#m0d2c9068cb\" y=\"210.677173\"/>\r\n     <use style=\"fill-opacity:0;stroke:#000000;\" x=\"305.2125\" xlink:href=\"#m0d2c9068cb\" y=\"203.633827\"/>\r\n     <use style=\"fill-opacity:0;stroke:#000000;\" x=\"305.2125\" xlink:href=\"#m0d2c9068cb\" y=\"209.057204\"/>\r\n     <use style=\"fill-opacity:0;stroke:#000000;\" x=\"305.2125\" xlink:href=\"#m0d2c9068cb\" y=\"201.367812\"/>\r\n     <use style=\"fill-opacity:0;stroke:#000000;\" x=\"305.2125\" xlink:href=\"#m0d2c9068cb\" y=\"211.507802\"/>\r\n     <use style=\"fill-opacity:0;stroke:#000000;\" x=\"305.2125\" xlink:href=\"#m0d2c9068cb\" y=\"178.974829\"/>\r\n     <use style=\"fill-opacity:0;stroke:#000000;\" x=\"305.2125\" xlink:href=\"#m0d2c9068cb\" y=\"187.808157\"/>\r\n     <use style=\"fill-opacity:0;stroke:#000000;\" x=\"305.2125\" xlink:href=\"#m0d2c9068cb\" y=\"208.231432\"/>\r\n     <use style=\"fill-opacity:0;stroke:#000000;\" x=\"305.2125\" xlink:href=\"#m0d2c9068cb\" y=\"200.680479\"/>\r\n     <use style=\"fill-opacity:0;stroke:#000000;\" x=\"305.2125\" xlink:href=\"#m0d2c9068cb\" y=\"139.638954\"/>\r\n     <use style=\"fill-opacity:0;stroke:#000000;\" x=\"305.2125\" xlink:href=\"#m0d2c9068cb\" y=\"111.067256\"/>\r\n     <use style=\"fill-opacity:0;stroke:#000000;\" x=\"305.2125\" xlink:href=\"#m0d2c9068cb\" y=\"141.708241\"/>\r\n     <use style=\"fill-opacity:0;stroke:#000000;\" x=\"305.2125\" xlink:href=\"#m0d2c9068cb\" y=\"209.715392\"/>\r\n     <use style=\"fill-opacity:0;stroke:#000000;\" x=\"305.2125\" xlink:href=\"#m0d2c9068cb\" y=\"201.367812\"/>\r\n     <use style=\"fill-opacity:0;stroke:#000000;\" x=\"305.2125\" xlink:href=\"#m0d2c9068cb\" y=\"200.355028\"/>\r\n     <use style=\"fill-opacity:0;stroke:#000000;\" x=\"305.2125\" xlink:href=\"#m0d2c9068cb\" y=\"82.957018\"/>\r\n     <use style=\"fill-opacity:0;stroke:#000000;\" x=\"305.2125\" xlink:href=\"#m0d2c9068cb\" y=\"198.511614\"/>\r\n     <use style=\"fill-opacity:0;stroke:#000000;\" x=\"305.2125\" xlink:href=\"#m0d2c9068cb\" y=\"200.646477\"/>\r\n     <use style=\"fill-opacity:0;stroke:#000000;\" x=\"305.2125\" xlink:href=\"#m0d2c9068cb\" y=\"205.513672\"/>\r\n     <use style=\"fill-opacity:0;stroke:#000000;\" x=\"305.2125\" xlink:href=\"#m0d2c9068cb\" y=\"145.176482\"/>\r\n     <use style=\"fill-opacity:0;stroke:#000000;\" x=\"305.2125\" xlink:href=\"#m0d2c9068cb\" y=\"196.2456\"/>\r\n     <use style=\"fill-opacity:0;stroke:#000000;\" x=\"305.2125\" xlink:href=\"#m0d2c9068cb\" y=\"196.651199\"/>\r\n     <use style=\"fill-opacity:0;stroke:#000000;\" x=\"305.2125\" xlink:href=\"#m0d2c9068cb\" y=\"196.306318\"/>\r\n     <use style=\"fill-opacity:0;stroke:#000000;\" x=\"305.2125\" xlink:href=\"#m0d2c9068cb\" y=\"210.475588\"/>\r\n     <use style=\"fill-opacity:0;stroke:#000000;\" x=\"305.2125\" xlink:href=\"#m0d2c9068cb\" y=\"194.858789\"/>\r\n     <use style=\"fill-opacity:0;stroke:#000000;\" x=\"305.2125\" xlink:href=\"#m0d2c9068cb\" y=\"186.188187\"/>\r\n     <use style=\"fill-opacity:0;stroke:#000000;\" x=\"305.2125\" xlink:href=\"#m0d2c9068cb\" y=\"204.576178\"/>\r\n     <use style=\"fill-opacity:0;stroke:#000000;\" x=\"305.2125\" xlink:href=\"#m0d2c9068cb\" y=\"194.283178\"/>\r\n     <use style=\"fill-opacity:0;stroke:#000000;\" x=\"305.2125\" xlink:href=\"#m0d2c9068cb\" y=\"192.668065\"/>\r\n     <use style=\"fill-opacity:0;stroke:#000000;\" x=\"305.2125\" xlink:href=\"#m0d2c9068cb\" y=\"212.161133\"/>\r\n     <use style=\"fill-opacity:0;stroke:#000000;\" x=\"305.2125\" xlink:href=\"#m0d2c9068cb\" y=\"189.464557\"/>\r\n     <use style=\"fill-opacity:0;stroke:#000000;\" x=\"305.2125\" xlink:href=\"#m0d2c9068cb\" y=\"196.308747\"/>\r\n     <use style=\"fill-opacity:0;stroke:#000000;\" x=\"305.2125\" xlink:href=\"#m0d2c9068cb\" y=\"197.634839\"/>\r\n     <use style=\"fill-opacity:0;stroke:#000000;\" x=\"305.2125\" xlink:href=\"#m0d2c9068cb\" y=\"207.641248\"/>\r\n    </g>\r\n   </g>\r\n   <g id=\"line2d_35\">\r\n    <path clip-path=\"url(#p13555e4eaf)\" d=\"M 119.4525 227.475554 \r\nL 145.3725 227.475554 \r\n\" style=\"fill:none;stroke:#2ca02c;stroke-linecap:square;\"/>\r\n   </g>\r\n   <g id=\"line2d_36\">\r\n    <path clip-path=\"url(#p13555e4eaf)\" d=\"M 292.2525 227.526558 \r\nL 318.1725 227.526558 \r\n\" style=\"fill:none;stroke:#2ca02c;stroke-linecap:square;\"/>\r\n   </g>\r\n   <g id=\"patch_3\">\r\n    <path d=\"M 46.0125 246.24 \r\nL 46.0125 30.24 \r\n\" style=\"fill:none;stroke:#000000;stroke-linecap:square;stroke-linejoin:miter;stroke-width:0.8;\"/>\r\n   </g>\r\n   <g id=\"patch_4\">\r\n    <path d=\"M 391.6125 246.24 \r\nL 391.6125 30.24 \r\n\" style=\"fill:none;stroke:#000000;stroke-linecap:square;stroke-linejoin:miter;stroke-width:0.8;\"/>\r\n   </g>\r\n   <g id=\"patch_5\">\r\n    <path d=\"M 46.0125 246.24 \r\nL 391.6125 246.24 \r\n\" style=\"fill:none;stroke:#000000;stroke-linecap:square;stroke-linejoin:miter;stroke-width:0.8;\"/>\r\n   </g>\r\n   <g id=\"patch_6\">\r\n    <path d=\"M 46.0125 30.24 \r\nL 391.6125 30.24 \r\n\" style=\"fill:none;stroke:#000000;stroke-linecap:square;stroke-linejoin:miter;stroke-width:0.8;\"/>\r\n   </g>\r\n   <g id=\"text_13\">\r\n    <!-- ApplicantIncome -->\r\n    <g transform=\"translate(168.546562 24.24)scale(0.12 -0.12)\">\r\n     <defs>\r\n      <path d=\"M 34.1875 63.1875 \r\nL 20.796875 26.90625 \r\nL 47.609375 26.90625 \r\nz\r\nM 28.609375 72.90625 \r\nL 39.796875 72.90625 \r\nL 67.578125 0 \r\nL 57.328125 0 \r\nL 50.6875 18.703125 \r\nL 17.828125 18.703125 \r\nL 11.1875 0 \r\nL 0.78125 0 \r\nz\r\n\" id=\"DejaVuSans-65\"/>\r\n      <path d=\"M 18.109375 8.203125 \r\nL 18.109375 -20.796875 \r\nL 9.078125 -20.796875 \r\nL 9.078125 54.6875 \r\nL 18.109375 54.6875 \r\nL 18.109375 46.390625 \r\nQ 20.953125 51.265625 25.265625 53.625 \r\nQ 29.59375 56 35.59375 56 \r\nQ 45.5625 56 51.78125 48.09375 \r\nQ 58.015625 40.1875 58.015625 27.296875 \r\nQ 58.015625 14.40625 51.78125 6.484375 \r\nQ 45.5625 -1.421875 35.59375 -1.421875 \r\nQ 29.59375 -1.421875 25.265625 0.953125 \r\nQ 20.953125 3.328125 18.109375 8.203125 \r\nz\r\nM 48.6875 27.296875 \r\nQ 48.6875 37.203125 44.609375 42.84375 \r\nQ 40.53125 48.484375 33.40625 48.484375 \r\nQ 26.265625 48.484375 22.1875 42.84375 \r\nQ 18.109375 37.203125 18.109375 27.296875 \r\nQ 18.109375 17.390625 22.1875 11.75 \r\nQ 26.265625 6.109375 33.40625 6.109375 \r\nQ 40.53125 6.109375 44.609375 11.75 \r\nQ 48.6875 17.390625 48.6875 27.296875 \r\nz\r\n\" id=\"DejaVuSans-112\"/>\r\n      <path d=\"M 9.421875 75.984375 \r\nL 18.40625 75.984375 \r\nL 18.40625 0 \r\nL 9.421875 0 \r\nz\r\n\" id=\"DejaVuSans-108\"/>\r\n      <path d=\"M 9.421875 54.6875 \r\nL 18.40625 54.6875 \r\nL 18.40625 0 \r\nL 9.421875 0 \r\nz\r\nM 9.421875 75.984375 \r\nL 18.40625 75.984375 \r\nL 18.40625 64.59375 \r\nL 9.421875 64.59375 \r\nz\r\n\" id=\"DejaVuSans-105\"/>\r\n      <path d=\"M 48.78125 52.59375 \r\nL 48.78125 44.1875 \r\nQ 44.96875 46.296875 41.140625 47.34375 \r\nQ 37.3125 48.390625 33.40625 48.390625 \r\nQ 24.65625 48.390625 19.8125 42.84375 \r\nQ 14.984375 37.3125 14.984375 27.296875 \r\nQ 14.984375 17.28125 19.8125 11.734375 \r\nQ 24.65625 6.203125 33.40625 6.203125 \r\nQ 37.3125 6.203125 41.140625 7.25 \r\nQ 44.96875 8.296875 48.78125 10.40625 \r\nL 48.78125 2.09375 \r\nQ 45.015625 0.34375 40.984375 -0.53125 \r\nQ 36.96875 -1.421875 32.421875 -1.421875 \r\nQ 20.0625 -1.421875 12.78125 6.34375 \r\nQ 5.515625 14.109375 5.515625 27.296875 \r\nQ 5.515625 40.671875 12.859375 48.328125 \r\nQ 20.21875 56 33.015625 56 \r\nQ 37.15625 56 41.109375 55.140625 \r\nQ 45.0625 54.296875 48.78125 52.59375 \r\nz\r\n\" id=\"DejaVuSans-99\"/>\r\n      <path d=\"M 9.8125 72.90625 \r\nL 19.671875 72.90625 \r\nL 19.671875 0 \r\nL 9.8125 0 \r\nz\r\n\" id=\"DejaVuSans-73\"/>\r\n      <path d=\"M 52 44.1875 \r\nQ 55.375 50.25 60.0625 53.125 \r\nQ 64.75 56 71.09375 56 \r\nQ 79.640625 56 84.28125 50.015625 \r\nQ 88.921875 44.046875 88.921875 33.015625 \r\nL 88.921875 0 \r\nL 79.890625 0 \r\nL 79.890625 32.71875 \r\nQ 79.890625 40.578125 77.09375 44.375 \r\nQ 74.3125 48.1875 68.609375 48.1875 \r\nQ 61.625 48.1875 57.5625 43.546875 \r\nQ 53.515625 38.921875 53.515625 30.90625 \r\nL 53.515625 0 \r\nL 44.484375 0 \r\nL 44.484375 32.71875 \r\nQ 44.484375 40.625 41.703125 44.40625 \r\nQ 38.921875 48.1875 33.109375 48.1875 \r\nQ 26.21875 48.1875 22.15625 43.53125 \r\nQ 18.109375 38.875 18.109375 30.90625 \r\nL 18.109375 0 \r\nL 9.078125 0 \r\nL 9.078125 54.6875 \r\nL 18.109375 54.6875 \r\nL 18.109375 46.1875 \r\nQ 21.1875 51.21875 25.484375 53.609375 \r\nQ 29.78125 56 35.6875 56 \r\nQ 41.65625 56 45.828125 52.96875 \r\nQ 50 49.953125 52 44.1875 \r\nz\r\n\" id=\"DejaVuSans-109\"/>\r\n      <path d=\"M 56.203125 29.59375 \r\nL 56.203125 25.203125 \r\nL 14.890625 25.203125 \r\nQ 15.484375 15.921875 20.484375 11.0625 \r\nQ 25.484375 6.203125 34.421875 6.203125 \r\nQ 39.59375 6.203125 44.453125 7.46875 \r\nQ 49.3125 8.734375 54.109375 11.28125 \r\nL 54.109375 2.78125 \r\nQ 49.265625 0.734375 44.1875 -0.34375 \r\nQ 39.109375 -1.421875 33.890625 -1.421875 \r\nQ 20.796875 -1.421875 13.15625 6.1875 \r\nQ 5.515625 13.8125 5.515625 26.8125 \r\nQ 5.515625 40.234375 12.765625 48.109375 \r\nQ 20.015625 56 32.328125 56 \r\nQ 43.359375 56 49.78125 48.890625 \r\nQ 56.203125 41.796875 56.203125 29.59375 \r\nz\r\nM 47.21875 32.234375 \r\nQ 47.125 39.59375 43.09375 43.984375 \r\nQ 39.0625 48.390625 32.421875 48.390625 \r\nQ 24.90625 48.390625 20.390625 44.140625 \r\nQ 15.875 39.890625 15.1875 32.171875 \r\nz\r\n\" id=\"DejaVuSans-101\"/>\r\n     </defs>\r\n     <use xlink:href=\"#DejaVuSans-65\"/>\r\n     <use x=\"68.408203\" xlink:href=\"#DejaVuSans-112\"/>\r\n     <use x=\"131.884766\" xlink:href=\"#DejaVuSans-112\"/>\r\n     <use x=\"195.361328\" xlink:href=\"#DejaVuSans-108\"/>\r\n     <use x=\"223.144531\" xlink:href=\"#DejaVuSans-105\"/>\r\n     <use x=\"250.927734\" xlink:href=\"#DejaVuSans-99\"/>\r\n     <use x=\"305.908203\" xlink:href=\"#DejaVuSans-97\"/>\r\n     <use x=\"367.1875\" xlink:href=\"#DejaVuSans-110\"/>\r\n     <use x=\"430.566406\" xlink:href=\"#DejaVuSans-116\"/>\r\n     <use x=\"469.775391\" xlink:href=\"#DejaVuSans-73\"/>\r\n     <use x=\"499.267578\" xlink:href=\"#DejaVuSans-110\"/>\r\n     <use x=\"562.646484\" xlink:href=\"#DejaVuSans-99\"/>\r\n     <use x=\"617.626953\" xlink:href=\"#DejaVuSans-111\"/>\r\n     <use x=\"678.808594\" xlink:href=\"#DejaVuSans-109\"/>\r\n     <use x=\"776.220703\" xlink:href=\"#DejaVuSans-101\"/>\r\n    </g>\r\n   </g>\r\n  </g>\r\n  <g id=\"text_14\">\r\n   <!-- Boxplot grouped by Loan_Status -->\r\n   <g transform=\"translate(121.649062 16.318125)scale(0.12 -0.12)\">\r\n    <defs>\r\n     <path d=\"M 19.671875 34.8125 \r\nL 19.671875 8.109375 \r\nL 35.5 8.109375 \r\nQ 43.453125 8.109375 47.28125 11.40625 \r\nQ 51.125 14.703125 51.125 21.484375 \r\nQ 51.125 28.328125 47.28125 31.5625 \r\nQ 43.453125 34.8125 35.5 34.8125 \r\nz\r\nM 19.671875 64.796875 \r\nL 19.671875 42.828125 \r\nL 34.28125 42.828125 \r\nQ 41.5 42.828125 45.03125 45.53125 \r\nQ 48.578125 48.25 48.578125 53.8125 \r\nQ 48.578125 59.328125 45.03125 62.0625 \r\nQ 41.5 64.796875 34.28125 64.796875 \r\nz\r\nM 9.8125 72.90625 \r\nL 35.015625 72.90625 \r\nQ 46.296875 72.90625 52.390625 68.21875 \r\nQ 58.5 63.53125 58.5 54.890625 \r\nQ 58.5 48.1875 55.375 44.234375 \r\nQ 52.25 40.28125 46.1875 39.3125 \r\nQ 53.46875 37.75 57.5 32.78125 \r\nQ 61.53125 27.828125 61.53125 20.40625 \r\nQ 61.53125 10.640625 54.890625 5.3125 \r\nQ 48.25 0 35.984375 0 \r\nL 9.8125 0 \r\nz\r\n\" id=\"DejaVuSans-66\"/>\r\n     <path d=\"M 54.890625 54.6875 \r\nL 35.109375 28.078125 \r\nL 55.90625 0 \r\nL 45.3125 0 \r\nL 29.390625 21.484375 \r\nL 13.484375 0 \r\nL 2.875 0 \r\nL 24.125 28.609375 \r\nL 4.6875 54.6875 \r\nL 15.28125 54.6875 \r\nL 29.78125 35.203125 \r\nL 44.28125 54.6875 \r\nz\r\n\" id=\"DejaVuSans-120\"/>\r\n     <path id=\"DejaVuSans-32\"/>\r\n     <path d=\"M 45.40625 27.984375 \r\nQ 45.40625 37.75 41.375 43.109375 \r\nQ 37.359375 48.484375 30.078125 48.484375 \r\nQ 22.859375 48.484375 18.828125 43.109375 \r\nQ 14.796875 37.75 14.796875 27.984375 \r\nQ 14.796875 18.265625 18.828125 12.890625 \r\nQ 22.859375 7.515625 30.078125 7.515625 \r\nQ 37.359375 7.515625 41.375 12.890625 \r\nQ 45.40625 18.265625 45.40625 27.984375 \r\nz\r\nM 54.390625 6.78125 \r\nQ 54.390625 -7.171875 48.1875 -13.984375 \r\nQ 42 -20.796875 29.203125 -20.796875 \r\nQ 24.46875 -20.796875 20.265625 -20.09375 \r\nQ 16.0625 -19.390625 12.109375 -17.921875 \r\nL 12.109375 -9.1875 \r\nQ 16.0625 -11.328125 19.921875 -12.34375 \r\nQ 23.78125 -13.375 27.78125 -13.375 \r\nQ 36.625 -13.375 41.015625 -8.765625 \r\nQ 45.40625 -4.15625 45.40625 5.171875 \r\nL 45.40625 9.625 \r\nQ 42.625 4.78125 38.28125 2.390625 \r\nQ 33.9375 0 27.875 0 \r\nQ 17.828125 0 11.671875 7.65625 \r\nQ 5.515625 15.328125 5.515625 27.984375 \r\nQ 5.515625 40.671875 11.671875 48.328125 \r\nQ 17.828125 56 27.875 56 \r\nQ 33.9375 56 38.28125 53.609375 \r\nQ 42.625 51.21875 45.40625 46.390625 \r\nL 45.40625 54.6875 \r\nL 54.390625 54.6875 \r\nz\r\n\" id=\"DejaVuSans-103\"/>\r\n     <path d=\"M 41.109375 46.296875 \r\nQ 39.59375 47.171875 37.8125 47.578125 \r\nQ 36.03125 48 33.890625 48 \r\nQ 26.265625 48 22.1875 43.046875 \r\nQ 18.109375 38.09375 18.109375 28.8125 \r\nL 18.109375 0 \r\nL 9.078125 0 \r\nL 9.078125 54.6875 \r\nL 18.109375 54.6875 \r\nL 18.109375 46.1875 \r\nQ 20.953125 51.171875 25.484375 53.578125 \r\nQ 30.03125 56 36.53125 56 \r\nQ 37.453125 56 38.578125 55.875 \r\nQ 39.703125 55.765625 41.0625 55.515625 \r\nz\r\n\" id=\"DejaVuSans-114\"/>\r\n     <path d=\"M 45.40625 46.390625 \r\nL 45.40625 75.984375 \r\nL 54.390625 75.984375 \r\nL 54.390625 0 \r\nL 45.40625 0 \r\nL 45.40625 8.203125 \r\nQ 42.578125 3.328125 38.25 0.953125 \r\nQ 33.9375 -1.421875 27.875 -1.421875 \r\nQ 17.96875 -1.421875 11.734375 6.484375 \r\nQ 5.515625 14.40625 5.515625 27.296875 \r\nQ 5.515625 40.1875 11.734375 48.09375 \r\nQ 17.96875 56 27.875 56 \r\nQ 33.9375 56 38.25 53.625 \r\nQ 42.578125 51.265625 45.40625 46.390625 \r\nz\r\nM 14.796875 27.296875 \r\nQ 14.796875 17.390625 18.875 11.75 \r\nQ 22.953125 6.109375 30.078125 6.109375 \r\nQ 37.203125 6.109375 41.296875 11.75 \r\nQ 45.40625 17.390625 45.40625 27.296875 \r\nQ 45.40625 37.203125 41.296875 42.84375 \r\nQ 37.203125 48.484375 30.078125 48.484375 \r\nQ 22.953125 48.484375 18.875 42.84375 \r\nQ 14.796875 37.203125 14.796875 27.296875 \r\nz\r\n\" id=\"DejaVuSans-100\"/>\r\n     <path d=\"M 48.6875 27.296875 \r\nQ 48.6875 37.203125 44.609375 42.84375 \r\nQ 40.53125 48.484375 33.40625 48.484375 \r\nQ 26.265625 48.484375 22.1875 42.84375 \r\nQ 18.109375 37.203125 18.109375 27.296875 \r\nQ 18.109375 17.390625 22.1875 11.75 \r\nQ 26.265625 6.109375 33.40625 6.109375 \r\nQ 40.53125 6.109375 44.609375 11.75 \r\nQ 48.6875 17.390625 48.6875 27.296875 \r\nz\r\nM 18.109375 46.390625 \r\nQ 20.953125 51.265625 25.265625 53.625 \r\nQ 29.59375 56 35.59375 56 \r\nQ 45.5625 56 51.78125 48.09375 \r\nQ 58.015625 40.1875 58.015625 27.296875 \r\nQ 58.015625 14.40625 51.78125 6.484375 \r\nQ 45.5625 -1.421875 35.59375 -1.421875 \r\nQ 29.59375 -1.421875 25.265625 0.953125 \r\nQ 20.953125 3.328125 18.109375 8.203125 \r\nL 18.109375 0 \r\nL 9.078125 0 \r\nL 9.078125 75.984375 \r\nL 18.109375 75.984375 \r\nz\r\n\" id=\"DejaVuSans-98\"/>\r\n     <path d=\"M 32.171875 -5.078125 \r\nQ 28.375 -14.84375 24.75 -17.8125 \r\nQ 21.140625 -20.796875 15.09375 -20.796875 \r\nL 7.90625 -20.796875 \r\nL 7.90625 -13.28125 \r\nL 13.1875 -13.28125 \r\nQ 16.890625 -13.28125 18.9375 -11.515625 \r\nQ 21 -9.765625 23.484375 -3.21875 \r\nL 25.09375 0.875 \r\nL 2.984375 54.6875 \r\nL 12.5 54.6875 \r\nL 29.59375 11.921875 \r\nL 46.6875 54.6875 \r\nL 56.203125 54.6875 \r\nz\r\n\" id=\"DejaVuSans-121\"/>\r\n    </defs>\r\n    <use xlink:href=\"#DejaVuSans-66\"/>\r\n    <use x=\"68.603516\" xlink:href=\"#DejaVuSans-111\"/>\r\n    <use x=\"126.660156\" xlink:href=\"#DejaVuSans-120\"/>\r\n    <use x=\"185.839844\" xlink:href=\"#DejaVuSans-112\"/>\r\n    <use x=\"249.316406\" xlink:href=\"#DejaVuSans-108\"/>\r\n    <use x=\"277.099609\" xlink:href=\"#DejaVuSans-111\"/>\r\n    <use x=\"338.28125\" xlink:href=\"#DejaVuSans-116\"/>\r\n    <use x=\"377.490234\" xlink:href=\"#DejaVuSans-32\"/>\r\n    <use x=\"409.277344\" xlink:href=\"#DejaVuSans-103\"/>\r\n    <use x=\"472.753906\" xlink:href=\"#DejaVuSans-114\"/>\r\n    <use x=\"511.617188\" xlink:href=\"#DejaVuSans-111\"/>\r\n    <use x=\"572.798828\" xlink:href=\"#DejaVuSans-117\"/>\r\n    <use x=\"636.177734\" xlink:href=\"#DejaVuSans-112\"/>\r\n    <use x=\"699.654297\" xlink:href=\"#DejaVuSans-101\"/>\r\n    <use x=\"761.177734\" xlink:href=\"#DejaVuSans-100\"/>\r\n    <use x=\"824.654297\" xlink:href=\"#DejaVuSans-32\"/>\r\n    <use x=\"856.441406\" xlink:href=\"#DejaVuSans-98\"/>\r\n    <use x=\"919.917969\" xlink:href=\"#DejaVuSans-121\"/>\r\n    <use x=\"979.097656\" xlink:href=\"#DejaVuSans-32\"/>\r\n    <use x=\"1010.884766\" xlink:href=\"#DejaVuSans-76\"/>\r\n    <use x=\"1064.847656\" xlink:href=\"#DejaVuSans-111\"/>\r\n    <use x=\"1126.029297\" xlink:href=\"#DejaVuSans-97\"/>\r\n    <use x=\"1187.308594\" xlink:href=\"#DejaVuSans-110\"/>\r\n    <use x=\"1250.6875\" xlink:href=\"#DejaVuSans-95\"/>\r\n    <use x=\"1300.6875\" xlink:href=\"#DejaVuSans-83\"/>\r\n    <use x=\"1364.164062\" xlink:href=\"#DejaVuSans-116\"/>\r\n    <use x=\"1403.373047\" xlink:href=\"#DejaVuSans-97\"/>\r\n    <use x=\"1464.652344\" xlink:href=\"#DejaVuSans-116\"/>\r\n    <use x=\"1503.861328\" xlink:href=\"#DejaVuSans-117\"/>\r\n    <use x=\"1567.240234\" xlink:href=\"#DejaVuSans-115\"/>\r\n   </g>\r\n  </g>\r\n </g>\r\n <defs>\r\n  <clipPath id=\"p13555e4eaf\">\r\n   <rect height=\"216\" width=\"345.6\" x=\"46.0125\" y=\"30.24\"/>\r\n  </clipPath>\r\n </defs>\r\n</svg>\r\n",
      "image/png": "[encoded data removed]"
     },
     "metadata": {
      "needs_background": "light"
     }
    }
   ],
   "source": [
    "import matplotlib.pyplot as plt\n",
    "%matplotlib inline\n",
    "data.boxplot(column=\"ApplicantIncome\",by=\"Loan_Status\")   # compare the distribution of ApplicantIncome by Loan_Status"
   ]
  },
  {
   "cell_type": "code",
   "execution_count": 198,
   "metadata": {},
   "outputs": [
    {
     "output_type": "execute_result",
     "data": {
      "text/plain": [
       "array([<AxesSubplot:title={'center':'N'}>,\n",
       "       <AxesSubplot:title={'center':'Y'}>], dtype=object)"
      ]
     },
     "metadata": {},
     "execution_count": 198
    },
    {
     "output_type": "display_data",
     "data": {
      "text/plain": "<Figure size 432x288 with 2 Axes>",
      "image/svg+xml": "<?xml version=\"1.0\" encoding=\"utf-8\" standalone=\"no\"?>\r\n<!DOCTYPE svg PUBLIC \"-//W3C//DTD SVG 1.1//EN\"\r\n  \"http://www.w3.org/Graphics/SVG/1.1/DTD/svg11.dtd\">\r\n<!-- Created with matplotlib (https://matplotlib.org/) -->\r\n<svg height=\"284.330625pt\" version=\"1.1\" viewBox=\"0 0 379.725 284.330625\" width=\"379.725pt\" xmlns=\"http://www.w3.org/2000/svg\" xmlns:xlink=\"http://www.w3.org/1999/xlink\">\r\n <metadata>\r\n  <rdf:RDF xmlns:cc=\"http://creativecommons.org/ns#\" xmlns:dc=\"http://purl.org/dc/elements/1.1/\" xmlns:rdf=\"http://www.w3.org/1999/02/22-rdf-syntax-ns#\">\r\n   <cc:Work>\r\n    <dc:type rdf:resource=\"http://purl.org/dc/dcmitype/StillImage\"/>\r\n    <dc:date>2021-06-23T19:49:35.906722</dc:date>\r\n    <dc:format>image/svg+xml</dc:format>\r\n    <dc:creator>\r\n     <cc:Agent>\r\n      <dc:title>Matplotlib v3.3.4, https://matplotlib.org/</dc:title>\r\n     </cc:Agent>\r\n    </dc:creator>\r\n   </cc:Work>\r\n  </rdf:RDF>\r\n </metadata>\r\n <defs>\r\n  <style type=\"text/css\">*{stroke-linecap:butt;stroke-linejoin:round;}</style>\r\n </defs>\r\n <g id=\"figure_1\">\r\n  <g id=\"patch_1\">\r\n   <path d=\"M 0 284.330625 \r\nL 379.725 284.330625 \r\nL 379.725 0 \r\nL 0 0 \r\nz\r\n\" style=\"fill:none;\"/>\r\n  </g>\r\n  <g id=\"axes_1\">\r\n   <g id=\"patch_2\">\r\n    <path d=\"M 26.925 238.318125 \r\nL 177.18587 238.318125 \r\nL 177.18587 22.318125 \r\nL 26.925 22.318125 \r\nz\r\n\" style=\"fill:#ffffff;\"/>\r\n   </g>\r\n   <g id=\"patch_3\">\r\n    <path clip-path=\"url(#pabd230b8f6)\" d=\"M 33.75504 238.318125 \r\nL 38.308399 238.318125 \r\nL 38.308399 134.354991 \r\nL 33.75504 134.354991 \r\nz\r\n\" style=\"fill:#1f77b4;\"/>\r\n   </g>\r\n   <g id=\"patch_4\">\r\n    <path clip-path=\"url(#pabd230b8f6)\" d=\"M 38.308399 238.318125 \r\nL 42.861759 238.318125 \r\nL 42.861759 32.603839 \r\nL 38.308399 32.603839 \r\nz\r\n\" style=\"fill:#1f77b4;\"/>\r\n   </g>\r\n   <g id=\"patch_5\">\r\n    <path clip-path=\"url(#pabd230b8f6)\" d=\"M 42.861759 238.318125 \r\nL 47.415119 238.318125 \r\nL 47.415119 180.806604 \r\nL 42.861759 180.806604 \r\nz\r\n\" style=\"fill:#1f77b4;\"/>\r\n   </g>\r\n   <g id=\"patch_6\">\r\n    <path clip-path=\"url(#pabd230b8f6)\" d=\"M 47.415119 238.318125 \r\nL 51.968478 238.318125 \r\nL 51.968478 213.986328 \r\nL 47.415119 213.986328 \r\nz\r\n\" style=\"fill:#1f77b4;\"/>\r\n   </g>\r\n   <g id=\"patch_7\">\r\n    <path clip-path=\"url(#pabd230b8f6)\" d=\"M 51.968478 238.318125 \r\nL 56.521838 238.318125 \r\nL 56.521838 225.046236 \r\nL 51.968478 225.046236 \r\nz\r\n\" style=\"fill:#1f77b4;\"/>\r\n   </g>\r\n   <g id=\"patch_8\">\r\n    <path clip-path=\"url(#pabd230b8f6)\" d=\"M 56.521838 238.318125 \r\nL 61.075198 238.318125 \r\nL 61.075198 231.68218 \r\nL 56.521838 231.68218 \r\nz\r\n\" style=\"fill:#1f77b4;\"/>\r\n   </g>\r\n   <g id=\"patch_9\">\r\n    <path clip-path=\"url(#pabd230b8f6)\" d=\"M 61.075198 238.318125 \r\nL 65.628557 238.318125 \r\nL 65.628557 236.106143 \r\nL 61.075198 236.106143 \r\nz\r\n\" style=\"fill:#1f77b4;\"/>\r\n   </g>\r\n   <g id=\"patch_10\">\r\n    <path clip-path=\"url(#pabd230b8f6)\" d=\"M 65.628557 238.318125 \r\nL 70.181917 238.318125 \r\nL 70.181917 231.68218 \r\nL 65.628557 231.68218 \r\nz\r\n\" style=\"fill:#1f77b4;\"/>\r\n   </g>\r\n   <g id=\"patch_11\">\r\n    <path clip-path=\"url(#pabd230b8f6)\" d=\"M 70.181917 238.318125 \r\nL 74.735277 238.318125 \r\nL 74.735277 238.318125 \r\nL 70.181917 238.318125 \r\nz\r\n\" style=\"fill:#1f77b4;\"/>\r\n   </g>\r\n   <g id=\"patch_12\">\r\n    <path clip-path=\"url(#pabd230b8f6)\" d=\"M 74.735277 238.318125 \r\nL 79.288636 238.318125 \r\nL 79.288636 238.318125 \r\nL 74.735277 238.318125 \r\nz\r\n\" style=\"fill:#1f77b4;\"/>\r\n   </g>\r\n   <g id=\"patch_13\">\r\n    <path clip-path=\"url(#pabd230b8f6)\" d=\"M 79.288636 238.318125 \r\nL 83.841996 238.318125 \r\nL 83.841996 238.318125 \r\nL 79.288636 238.318125 \r\nz\r\n\" style=\"fill:#1f77b4;\"/>\r\n   </g>\r\n   <g id=\"patch_14\">\r\n    <path clip-path=\"url(#pabd230b8f6)\" d=\"M 83.841996 238.318125 \r\nL 88.395356 238.318125 \r\nL 88.395356 238.318125 \r\nL 83.841996 238.318125 \r\nz\r\n\" style=\"fill:#1f77b4;\"/>\r\n   </g>\r\n   <g id=\"patch_15\">\r\n    <path clip-path=\"url(#pabd230b8f6)\" d=\"M 88.395356 238.318125 \r\nL 92.948715 238.318125 \r\nL 92.948715 236.106143 \r\nL 88.395356 236.106143 \r\nz\r\n\" style=\"fill:#1f77b4;\"/>\r\n   </g>\r\n   <g id=\"patch_16\">\r\n    <path clip-path=\"url(#pabd230b8f6)\" d=\"M 92.948715 238.318125 \r\nL 97.502075 238.318125 \r\nL 97.502075 238.318125 \r\nL 92.948715 238.318125 \r\nz\r\n\" style=\"fill:#1f77b4;\"/>\r\n   </g>\r\n   <g id=\"patch_17\">\r\n    <path clip-path=\"url(#pabd230b8f6)\" d=\"M 97.502075 238.318125 \r\nL 102.055435 238.318125 \r\nL 102.055435 238.318125 \r\nL 97.502075 238.318125 \r\nz\r\n\" style=\"fill:#1f77b4;\"/>\r\n   </g>\r\n   <g id=\"patch_18\">\r\n    <path clip-path=\"url(#pabd230b8f6)\" d=\"M 102.055435 238.318125 \r\nL 106.608794 238.318125 \r\nL 106.608794 238.318125 \r\nL 102.055435 238.318125 \r\nz\r\n\" style=\"fill:#1f77b4;\"/>\r\n   </g>\r\n   <g id=\"patch_19\">\r\n    <path clip-path=\"url(#pabd230b8f6)\" d=\"M 106.608794 238.318125 \r\nL 111.162154 238.318125 \r\nL 111.162154 238.318125 \r\nL 106.608794 238.318125 \r\nz\r\n\" style=\"fill:#1f77b4;\"/>\r\n   </g>\r\n   <g id=\"patch_20\">\r\n    <path clip-path=\"url(#pabd230b8f6)\" d=\"M 111.162154 238.318125 \r\nL 115.715514 238.318125 \r\nL 115.715514 238.318125 \r\nL 111.162154 238.318125 \r\nz\r\n\" style=\"fill:#1f77b4;\"/>\r\n   </g>\r\n   <g id=\"patch_21\">\r\n    <path clip-path=\"url(#pabd230b8f6)\" d=\"M 115.715514 238.318125 \r\nL 120.268874 238.318125 \r\nL 120.268874 238.318125 \r\nL 115.715514 238.318125 \r\nz\r\n\" style=\"fill:#1f77b4;\"/>\r\n   </g>\r\n   <g id=\"patch_22\">\r\n    <path clip-path=\"url(#pabd230b8f6)\" d=\"M 120.268874 238.318125 \r\nL 124.822233 238.318125 \r\nL 124.822233 238.318125 \r\nL 120.268874 238.318125 \r\nz\r\n\" style=\"fill:#1f77b4;\"/>\r\n   </g>\r\n   <g id=\"patch_23\">\r\n    <path clip-path=\"url(#pabd230b8f6)\" d=\"M 124.822233 238.318125 \r\nL 129.375593 238.318125 \r\nL 129.375593 238.318125 \r\nL 124.822233 238.318125 \r\nz\r\n\" style=\"fill:#1f77b4;\"/>\r\n   </g>\r\n   <g id=\"patch_24\">\r\n    <path clip-path=\"url(#pabd230b8f6)\" d=\"M 129.375593 238.318125 \r\nL 133.928953 238.318125 \r\nL 133.928953 238.318125 \r\nL 129.375593 238.318125 \r\nz\r\n\" style=\"fill:#1f77b4;\"/>\r\n   </g>\r\n   <g id=\"patch_25\">\r\n    <path clip-path=\"url(#pabd230b8f6)\" d=\"M 133.928953 238.318125 \r\nL 138.482312 238.318125 \r\nL 138.482312 238.318125 \r\nL 133.928953 238.318125 \r\nz\r\n\" style=\"fill:#1f77b4;\"/>\r\n   </g>\r\n   <g id=\"patch_26\">\r\n    <path clip-path=\"url(#pabd230b8f6)\" d=\"M 138.482312 238.318125 \r\nL 143.035672 238.318125 \r\nL 143.035672 238.318125 \r\nL 138.482312 238.318125 \r\nz\r\n\" style=\"fill:#1f77b4;\"/>\r\n   </g>\r\n   <g id=\"patch_27\">\r\n    <path clip-path=\"url(#pabd230b8f6)\" d=\"M 143.035672 238.318125 \r\nL 147.589032 238.318125 \r\nL 147.589032 238.318125 \r\nL 143.035672 238.318125 \r\nz\r\n\" style=\"fill:#1f77b4;\"/>\r\n   </g>\r\n   <g id=\"patch_28\">\r\n    <path clip-path=\"url(#pabd230b8f6)\" d=\"M 147.589032 238.318125 \r\nL 152.142391 238.318125 \r\nL 152.142391 238.318125 \r\nL 147.589032 238.318125 \r\nz\r\n\" style=\"fill:#1f77b4;\"/>\r\n   </g>\r\n   <g id=\"patch_29\">\r\n    <path clip-path=\"url(#pabd230b8f6)\" d=\"M 152.142391 238.318125 \r\nL 156.695751 238.318125 \r\nL 156.695751 238.318125 \r\nL 152.142391 238.318125 \r\nz\r\n\" style=\"fill:#1f77b4;\"/>\r\n   </g>\r\n   <g id=\"patch_30\">\r\n    <path clip-path=\"url(#pabd230b8f6)\" d=\"M 156.695751 238.318125 \r\nL 161.249111 238.318125 \r\nL 161.249111 238.318125 \r\nL 156.695751 238.318125 \r\nz\r\n\" style=\"fill:#1f77b4;\"/>\r\n   </g>\r\n   <g id=\"patch_31\">\r\n    <path clip-path=\"url(#pabd230b8f6)\" d=\"M 161.249111 238.318125 \r\nL 165.80247 238.318125 \r\nL 165.80247 238.318125 \r\nL 161.249111 238.318125 \r\nz\r\n\" style=\"fill:#1f77b4;\"/>\r\n   </g>\r\n   <g id=\"patch_32\">\r\n    <path clip-path=\"url(#pabd230b8f6)\" d=\"M 165.80247 238.318125 \r\nL 170.35583 238.318125 \r\nL 170.35583 236.106143 \r\nL 165.80247 236.106143 \r\nz\r\n\" style=\"fill:#1f77b4;\"/>\r\n   </g>\r\n   <g id=\"matplotlib.axis_1\">\r\n    <g id=\"xtick_1\">\r\n     <g id=\"line2d_1\">\r\n      <defs>\r\n       <path d=\"M 0 0 \r\nL 0 3.5 \r\n\" id=\"m18608d69a8\" style=\"stroke:#000000;stroke-width:0.8;\"/>\r\n      </defs>\r\n      <g>\r\n       <use style=\"stroke:#000000;stroke-width:0.8;\" x=\"33.501606\" xlink:href=\"#m18608d69a8\" y=\"238.318125\"/>\r\n      </g>\r\n     </g>\r\n     <g id=\"text_1\">\r\n      <!-- 0 -->\r\n      <g transform=\"translate(36.260981 251.680625)rotate(-90)scale(0.1 -0.1)\">\r\n       <defs>\r\n        <path d=\"M 31.78125 66.40625 \r\nQ 24.171875 66.40625 20.328125 58.90625 \r\nQ 16.5 51.421875 16.5 36.375 \r\nQ 16.5 21.390625 20.328125 13.890625 \r\nQ 24.171875 6.390625 31.78125 6.390625 \r\nQ 39.453125 6.390625 43.28125 13.890625 \r\nQ 47.125 21.390625 47.125 36.375 \r\nQ 47.125 51.421875 43.28125 58.90625 \r\nQ 39.453125 66.40625 31.78125 66.40625 \r\nz\r\nM 31.78125 74.21875 \r\nQ 44.046875 74.21875 50.515625 64.515625 \r\nQ 56.984375 54.828125 56.984375 36.375 \r\nQ 56.984375 17.96875 50.515625 8.265625 \r\nQ 44.046875 -1.421875 31.78125 -1.421875 \r\nQ 19.53125 -1.421875 13.0625 8.265625 \r\nQ 6.59375 17.96875 6.59375 36.375 \r\nQ 6.59375 54.828125 13.0625 64.515625 \r\nQ 19.53125 74.21875 31.78125 74.21875 \r\nz\r\n\" id=\"DejaVuSans-48\"/>\r\n       </defs>\r\n       <use xlink:href=\"#DejaVuSans-48\"/>\r\n      </g>\r\n     </g>\r\n    </g>\r\n    <g id=\"xtick_2\">\r\n     <g id=\"line2d_2\">\r\n      <g>\r\n       <use style=\"stroke:#000000;stroke-width:0.8;\" x=\"67.292772\" xlink:href=\"#m18608d69a8\" y=\"238.318125\"/>\r\n      </g>\r\n     </g>\r\n     <g id=\"text_2\">\r\n      <!-- 20000 -->\r\n      <g transform=\"translate(70.052147 277.130625)rotate(-90)scale(0.1 -0.1)\">\r\n       <defs>\r\n        <path d=\"M 19.1875 8.296875 \r\nL 53.609375 8.296875 \r\nL 53.609375 0 \r\nL 7.328125 0 \r\nL 7.328125 8.296875 \r\nQ 12.9375 14.109375 22.625 23.890625 \r\nQ 32.328125 33.6875 34.8125 36.53125 \r\nQ 39.546875 41.84375 41.421875 45.53125 \r\nQ 43.3125 49.21875 43.3125 52.78125 \r\nQ 43.3125 58.59375 39.234375 62.25 \r\nQ 35.15625 65.921875 28.609375 65.921875 \r\nQ 23.96875 65.921875 18.8125 64.3125 \r\nQ 13.671875 62.703125 7.8125 59.421875 \r\nL 7.8125 69.390625 \r\nQ 13.765625 71.78125 18.9375 73 \r\nQ 24.125 74.21875 28.421875 74.21875 \r\nQ 39.75 74.21875 46.484375 68.546875 \r\nQ 53.21875 62.890625 53.21875 53.421875 \r\nQ 53.21875 48.921875 51.53125 44.890625 \r\nQ 49.859375 40.875 45.40625 35.40625 \r\nQ 44.1875 33.984375 37.640625 27.21875 \r\nQ 31.109375 20.453125 19.1875 8.296875 \r\nz\r\n\" id=\"DejaVuSans-50\"/>\r\n       </defs>\r\n       <use xlink:href=\"#DejaVuSans-50\"/>\r\n       <use x=\"63.623047\" xlink:href=\"#DejaVuSans-48\"/>\r\n       <use x=\"127.246094\" xlink:href=\"#DejaVuSans-48\"/>\r\n       <use x=\"190.869141\" xlink:href=\"#DejaVuSans-48\"/>\r\n       <use x=\"254.492188\" xlink:href=\"#DejaVuSans-48\"/>\r\n      </g>\r\n     </g>\r\n    </g>\r\n    <g id=\"xtick_3\">\r\n     <g id=\"line2d_3\">\r\n      <g>\r\n       <use style=\"stroke:#000000;stroke-width:0.8;\" x=\"101.083939\" xlink:href=\"#m18608d69a8\" y=\"238.318125\"/>\r\n      </g>\r\n     </g>\r\n     <g id=\"text_3\">\r\n      <!-- 40000 -->\r\n      <g transform=\"translate(103.843314 277.130625)rotate(-90)scale(0.1 -0.1)\">\r\n       <defs>\r\n        <path d=\"M 37.796875 64.3125 \r\nL 12.890625 25.390625 \r\nL 37.796875 25.390625 \r\nz\r\nM 35.203125 72.90625 \r\nL 47.609375 72.90625 \r\nL 47.609375 25.390625 \r\nL 58.015625 25.390625 \r\nL 58.015625 17.1875 \r\nL 47.609375 17.1875 \r\nL 47.609375 0 \r\nL 37.796875 0 \r\nL 37.796875 17.1875 \r\nL 4.890625 17.1875 \r\nL 4.890625 26.703125 \r\nz\r\n\" id=\"DejaVuSans-52\"/>\r\n       </defs>\r\n       <use xlink:href=\"#DejaVuSans-52\"/>\r\n       <use x=\"63.623047\" xlink:href=\"#DejaVuSans-48\"/>\r\n       <use x=\"127.246094\" xlink:href=\"#DejaVuSans-48\"/>\r\n       <use x=\"190.869141\" xlink:href=\"#DejaVuSans-48\"/>\r\n       <use x=\"254.492188\" xlink:href=\"#DejaVuSans-48\"/>\r\n      </g>\r\n     </g>\r\n    </g>\r\n    <g id=\"xtick_4\">\r\n     <g id=\"line2d_4\">\r\n      <g>\r\n       <use style=\"stroke:#000000;stroke-width:0.8;\" x=\"134.875105\" xlink:href=\"#m18608d69a8\" y=\"238.318125\"/>\r\n      </g>\r\n     </g>\r\n     <g id=\"text_4\">\r\n      <!-- 60000 -->\r\n      <g transform=\"translate(137.63448 277.130625)rotate(-90)scale(0.1 -0.1)\">\r\n       <defs>\r\n        <path d=\"M 33.015625 40.375 \r\nQ 26.375 40.375 22.484375 35.828125 \r\nQ 18.609375 31.296875 18.609375 23.390625 \r\nQ 18.609375 15.53125 22.484375 10.953125 \r\nQ 26.375 6.390625 33.015625 6.390625 \r\nQ 39.65625 6.390625 43.53125 10.953125 \r\nQ 47.40625 15.53125 47.40625 23.390625 \r\nQ 47.40625 31.296875 43.53125 35.828125 \r\nQ 39.65625 40.375 33.015625 40.375 \r\nz\r\nM 52.59375 71.296875 \r\nL 52.59375 62.3125 \r\nQ 48.875 64.0625 45.09375 64.984375 \r\nQ 41.3125 65.921875 37.59375 65.921875 \r\nQ 27.828125 65.921875 22.671875 59.328125 \r\nQ 17.53125 52.734375 16.796875 39.40625 \r\nQ 19.671875 43.65625 24.015625 45.921875 \r\nQ 28.375 48.1875 33.59375 48.1875 \r\nQ 44.578125 48.1875 50.953125 41.515625 \r\nQ 57.328125 34.859375 57.328125 23.390625 \r\nQ 57.328125 12.15625 50.6875 5.359375 \r\nQ 44.046875 -1.421875 33.015625 -1.421875 \r\nQ 20.359375 -1.421875 13.671875 8.265625 \r\nQ 6.984375 17.96875 6.984375 36.375 \r\nQ 6.984375 53.65625 15.1875 63.9375 \r\nQ 23.390625 74.21875 37.203125 74.21875 \r\nQ 40.921875 74.21875 44.703125 73.484375 \r\nQ 48.484375 72.75 52.59375 71.296875 \r\nz\r\n\" id=\"DejaVuSans-54\"/>\r\n       </defs>\r\n       <use xlink:href=\"#DejaVuSans-54\"/>\r\n       <use x=\"63.623047\" xlink:href=\"#DejaVuSans-48\"/>\r\n       <use x=\"127.246094\" xlink:href=\"#DejaVuSans-48\"/>\r\n       <use x=\"190.869141\" xlink:href=\"#DejaVuSans-48\"/>\r\n       <use x=\"254.492188\" xlink:href=\"#DejaVuSans-48\"/>\r\n      </g>\r\n     </g>\r\n    </g>\r\n    <g id=\"xtick_5\">\r\n     <g id=\"line2d_5\">\r\n      <g>\r\n       <use style=\"stroke:#000000;stroke-width:0.8;\" x=\"168.666272\" xlink:href=\"#m18608d69a8\" y=\"238.318125\"/>\r\n      </g>\r\n     </g>\r\n     <g id=\"text_5\">\r\n      <!-- 80000 -->\r\n      <g transform=\"translate(171.425647 277.130625)rotate(-90)scale(0.1 -0.1)\">\r\n       <defs>\r\n        <path d=\"M 31.78125 34.625 \r\nQ 24.75 34.625 20.71875 30.859375 \r\nQ 16.703125 27.09375 16.703125 20.515625 \r\nQ 16.703125 13.921875 20.71875 10.15625 \r\nQ 24.75 6.390625 31.78125 6.390625 \r\nQ 38.8125 6.390625 42.859375 10.171875 \r\nQ 46.921875 13.96875 46.921875 20.515625 \r\nQ 46.921875 27.09375 42.890625 30.859375 \r\nQ 38.875 34.625 31.78125 34.625 \r\nz\r\nM 21.921875 38.8125 \r\nQ 15.578125 40.375 12.03125 44.71875 \r\nQ 8.5 49.078125 8.5 55.328125 \r\nQ 8.5 64.0625 14.71875 69.140625 \r\nQ 20.953125 74.21875 31.78125 74.21875 \r\nQ 42.671875 74.21875 48.875 69.140625 \r\nQ 55.078125 64.0625 55.078125 55.328125 \r\nQ 55.078125 49.078125 51.53125 44.71875 \r\nQ 48 40.375 41.703125 38.8125 \r\nQ 48.828125 37.15625 52.796875 32.3125 \r\nQ 56.78125 27.484375 56.78125 20.515625 \r\nQ 56.78125 9.90625 50.3125 4.234375 \r\nQ 43.84375 -1.421875 31.78125 -1.421875 \r\nQ 19.734375 -1.421875 13.25 4.234375 \r\nQ 6.78125 9.90625 6.78125 20.515625 \r\nQ 6.78125 27.484375 10.78125 32.3125 \r\nQ 14.796875 37.15625 21.921875 38.8125 \r\nz\r\nM 18.3125 54.390625 \r\nQ 18.3125 48.734375 21.84375 45.5625 \r\nQ 25.390625 42.390625 31.78125 42.390625 \r\nQ 38.140625 42.390625 41.71875 45.5625 \r\nQ 45.3125 48.734375 45.3125 54.390625 \r\nQ 45.3125 60.0625 41.71875 63.234375 \r\nQ 38.140625 66.40625 31.78125 66.40625 \r\nQ 25.390625 66.40625 21.84375 63.234375 \r\nQ 18.3125 60.0625 18.3125 54.390625 \r\nz\r\n\" id=\"DejaVuSans-56\"/>\r\n       </defs>\r\n       <use xlink:href=\"#DejaVuSans-56\"/>\r\n       <use x=\"63.623047\" xlink:href=\"#DejaVuSans-48\"/>\r\n       <use x=\"127.246094\" xlink:href=\"#DejaVuSans-48\"/>\r\n       <use x=\"190.869141\" xlink:href=\"#DejaVuSans-48\"/>\r\n       <use x=\"254.492188\" xlink:href=\"#DejaVuSans-48\"/>\r\n      </g>\r\n     </g>\r\n    </g>\r\n   </g>\r\n   <g id=\"matplotlib.axis_2\">\r\n    <g id=\"ytick_1\">\r\n     <g id=\"line2d_6\">\r\n      <defs>\r\n       <path d=\"M 0 0 \r\nL -3.5 0 \r\n\" id=\"m39be6f9ee0\" style=\"stroke:#000000;stroke-width:0.8;\"/>\r\n      </defs>\r\n      <g>\r\n       <use style=\"stroke:#000000;stroke-width:0.8;\" x=\"26.925\" xlink:href=\"#m39be6f9ee0\" y=\"238.318125\"/>\r\n      </g>\r\n     </g>\r\n     <g id=\"text_6\">\r\n      <!-- 0 -->\r\n      <g transform=\"translate(13.5625 242.117344)scale(0.1 -0.1)\">\r\n       <use xlink:href=\"#DejaVuSans-48\"/>\r\n      </g>\r\n     </g>\r\n    </g>\r\n    <g id=\"ytick_2\">\r\n     <g id=\"line2d_7\">\r\n      <g>\r\n       <use style=\"stroke:#000000;stroke-width:0.8;\" x=\"26.925\" xlink:href=\"#m39be6f9ee0\" y=\"194.078494\"/>\r\n      </g>\r\n     </g>\r\n     <g id=\"text_7\">\r\n      <!-- 20 -->\r\n      <g transform=\"translate(7.2 197.877712)scale(0.1 -0.1)\">\r\n       <use xlink:href=\"#DejaVuSans-50\"/>\r\n       <use x=\"63.623047\" xlink:href=\"#DejaVuSans-48\"/>\r\n      </g>\r\n     </g>\r\n    </g>\r\n    <g id=\"ytick_3\">\r\n     <g id=\"line2d_8\">\r\n      <g>\r\n       <use style=\"stroke:#000000;stroke-width:0.8;\" x=\"26.925\" xlink:href=\"#m39be6f9ee0\" y=\"149.838862\"/>\r\n      </g>\r\n     </g>\r\n     <g id=\"text_8\">\r\n      <!-- 40 -->\r\n      <g transform=\"translate(7.2 153.638081)scale(0.1 -0.1)\">\r\n       <use xlink:href=\"#DejaVuSans-52\"/>\r\n       <use x=\"63.623047\" xlink:href=\"#DejaVuSans-48\"/>\r\n      </g>\r\n     </g>\r\n    </g>\r\n    <g id=\"ytick_4\">\r\n     <g id=\"line2d_9\">\r\n      <g>\r\n       <use style=\"stroke:#000000;stroke-width:0.8;\" x=\"26.925\" xlink:href=\"#m39be6f9ee0\" y=\"105.599231\"/>\r\n      </g>\r\n     </g>\r\n     <g id=\"text_9\">\r\n      <!-- 60 -->\r\n      <g transform=\"translate(7.2 109.39845)scale(0.1 -0.1)\">\r\n       <use xlink:href=\"#DejaVuSans-54\"/>\r\n       <use x=\"63.623047\" xlink:href=\"#DejaVuSans-48\"/>\r\n      </g>\r\n     </g>\r\n    </g>\r\n    <g id=\"ytick_5\">\r\n     <g id=\"line2d_10\">\r\n      <g>\r\n       <use style=\"stroke:#000000;stroke-width:0.8;\" x=\"26.925\" xlink:href=\"#m39be6f9ee0\" y=\"61.3596\"/>\r\n      </g>\r\n     </g>\r\n     <g id=\"text_10\">\r\n      <!-- 80 -->\r\n      <g transform=\"translate(7.2 65.158818)scale(0.1 -0.1)\">\r\n       <use xlink:href=\"#DejaVuSans-56\"/>\r\n       <use x=\"63.623047\" xlink:href=\"#DejaVuSans-48\"/>\r\n      </g>\r\n     </g>\r\n    </g>\r\n   </g>\r\n   <g id=\"patch_33\">\r\n    <path d=\"M 26.925 238.318125 \r\nL 26.925 22.318125 \r\n\" style=\"fill:none;stroke:#000000;stroke-linecap:square;stroke-linejoin:miter;stroke-width:0.8;\"/>\r\n   </g>\r\n   <g id=\"patch_34\">\r\n    <path d=\"M 177.18587 238.318125 \r\nL 177.18587 22.318125 \r\n\" style=\"fill:none;stroke:#000000;stroke-linecap:square;stroke-linejoin:miter;stroke-width:0.8;\"/>\r\n   </g>\r\n   <g id=\"patch_35\">\r\n    <path d=\"M 26.925 238.318125 \r\nL 177.18587 238.318125 \r\n\" style=\"fill:none;stroke:#000000;stroke-linecap:square;stroke-linejoin:miter;stroke-width:0.8;\"/>\r\n   </g>\r\n   <g id=\"patch_36\">\r\n    <path d=\"M 26.925 22.318125 \r\nL 177.18587 22.318125 \r\n\" style=\"fill:none;stroke:#000000;stroke-linecap:square;stroke-linejoin:miter;stroke-width:0.8;\"/>\r\n   </g>\r\n   <g id=\"text_11\">\r\n    <!-- N -->\r\n    <g transform=\"translate(97.566685 16.318125)scale(0.12 -0.12)\">\r\n     <defs>\r\n      <path d=\"M 9.8125 72.90625 \r\nL 23.09375 72.90625 \r\nL 55.421875 11.921875 \r\nL 55.421875 72.90625 \r\nL 64.984375 72.90625 \r\nL 64.984375 0 \r\nL 51.703125 0 \r\nL 19.390625 60.984375 \r\nL 19.390625 0 \r\nL 9.8125 0 \r\nz\r\n\" id=\"DejaVuSans-78\"/>\r\n     </defs>\r\n     <use xlink:href=\"#DejaVuSans-78\"/>\r\n    </g>\r\n   </g>\r\n  </g>\r\n  <g id=\"axes_2\">\r\n   <g id=\"patch_37\">\r\n    <path d=\"M 222.26413 238.318125 \r\nL 372.525 238.318125 \r\nL 372.525 22.318125 \r\nL 222.26413 22.318125 \r\nz\r\n\" style=\"fill:#ffffff;\"/>\r\n   </g>\r\n   <g id=\"patch_38\">\r\n    <path clip-path=\"url(#pea80569a50)\" d=\"M 229.09417 238.318125 \r\nL 233.64753 238.318125 \r\nL 233.64753 194.304836 \r\nL 229.09417 194.304836 \r\nz\r\n\" style=\"fill:#1f77b4;\"/>\r\n   </g>\r\n   <g id=\"patch_39\">\r\n    <path clip-path=\"url(#pea80569a50)\" d=\"M 233.64753 238.318125 \r\nL 238.200889 238.318125 \r\nL 238.200889 32.603839 \r\nL 233.64753 32.603839 \r\nz\r\n\" style=\"fill:#1f77b4;\"/>\r\n   </g>\r\n   <g id=\"patch_40\">\r\n    <path clip-path=\"url(#pea80569a50)\" d=\"M 238.200889 238.318125 \r\nL 242.754249 238.318125 \r\nL 242.754249 159.859653 \r\nL 238.200889 159.859653 \r\nz\r\n\" style=\"fill:#1f77b4;\"/>\r\n   </g>\r\n   <g id=\"patch_41\">\r\n    <path clip-path=\"url(#pea80569a50)\" d=\"M 242.754249 238.318125 \r\nL 247.307609 238.318125 \r\nL 247.307609 209.613806 \r\nL 242.754249 209.613806 \r\nz\r\n\" style=\"fill:#1f77b4;\"/>\r\n   </g>\r\n   <g id=\"patch_42\">\r\n    <path clip-path=\"url(#pea80569a50)\" d=\"M 247.307609 238.318125 \r\nL 251.860968 238.318125 \r\nL 251.860968 222.052344 \r\nL 247.307609 222.052344 \r\nz\r\n\" style=\"fill:#1f77b4;\"/>\r\n   </g>\r\n   <g id=\"patch_43\">\r\n    <path clip-path=\"url(#pea80569a50)\" d=\"M 251.860968 238.318125 \r\nL 256.414328 238.318125 \r\nL 256.414328 232.577261 \r\nL 251.860968 232.577261 \r\nz\r\n\" style=\"fill:#1f77b4;\"/>\r\n   </g>\r\n   <g id=\"patch_44\">\r\n    <path clip-path=\"url(#pea80569a50)\" d=\"M 256.414328 238.318125 \r\nL 260.967688 238.318125 \r\nL 260.967688 231.620451 \r\nL 256.414328 231.620451 \r\nz\r\n\" style=\"fill:#1f77b4;\"/>\r\n   </g>\r\n   <g id=\"patch_45\">\r\n    <path clip-path=\"url(#pea80569a50)\" d=\"M 260.967688 238.318125 \r\nL 265.521047 238.318125 \r\nL 265.521047 231.620451 \r\nL 260.967688 231.620451 \r\nz\r\n\" style=\"fill:#1f77b4;\"/>\r\n   </g>\r\n   <g id=\"patch_46\">\r\n    <path clip-path=\"url(#pea80569a50)\" d=\"M 265.521047 238.318125 \r\nL 270.074407 238.318125 \r\nL 270.074407 235.447693 \r\nL 265.521047 235.447693 \r\nz\r\n\" style=\"fill:#1f77b4;\"/>\r\n   </g>\r\n   <g id=\"patch_47\">\r\n    <path clip-path=\"url(#pea80569a50)\" d=\"M 270.074407 238.318125 \r\nL 274.627767 238.318125 \r\nL 274.627767 235.447693 \r\nL 270.074407 235.447693 \r\nz\r\n\" style=\"fill:#1f77b4;\"/>\r\n   </g>\r\n   <g id=\"patch_48\">\r\n    <path clip-path=\"url(#pea80569a50)\" d=\"M 274.627767 238.318125 \r\nL 279.181126 238.318125 \r\nL 279.181126 238.318125 \r\nL 274.627767 238.318125 \r\nz\r\n\" style=\"fill:#1f77b4;\"/>\r\n   </g>\r\n   <g id=\"patch_49\">\r\n    <path clip-path=\"url(#pea80569a50)\" d=\"M 279.181126 238.318125 \r\nL 283.734486 238.318125 \r\nL 283.734486 237.361314 \r\nL 279.181126 237.361314 \r\nz\r\n\" style=\"fill:#1f77b4;\"/>\r\n   </g>\r\n   <g id=\"patch_50\">\r\n    <path clip-path=\"url(#pea80569a50)\" d=\"M 283.734486 238.318125 \r\nL 288.287846 238.318125 \r\nL 288.287846 238.318125 \r\nL 283.734486 238.318125 \r\nz\r\n\" style=\"fill:#1f77b4;\"/>\r\n   </g>\r\n   <g id=\"patch_51\">\r\n    <path clip-path=\"url(#pea80569a50)\" d=\"M 288.287846 238.318125 \r\nL 292.841206 238.318125 \r\nL 292.841206 238.318125 \r\nL 288.287846 238.318125 \r\nz\r\n\" style=\"fill:#1f77b4;\"/>\r\n   </g>\r\n   <g id=\"patch_52\">\r\n    <path clip-path=\"url(#pea80569a50)\" d=\"M 292.841206 238.318125 \r\nL 297.394565 238.318125 \r\nL 297.394565 238.318125 \r\nL 292.841206 238.318125 \r\nz\r\n\" style=\"fill:#1f77b4;\"/>\r\n   </g>\r\n   <g id=\"patch_53\">\r\n    <path clip-path=\"url(#pea80569a50)\" d=\"M 297.394565 238.318125 \r\nL 301.947925 238.318125 \r\nL 301.947925 238.318125 \r\nL 297.394565 238.318125 \r\nz\r\n\" style=\"fill:#1f77b4;\"/>\r\n   </g>\r\n   <g id=\"patch_54\">\r\n    <path clip-path=\"url(#pea80569a50)\" d=\"M 301.947925 238.318125 \r\nL 306.501285 238.318125 \r\nL 306.501285 238.318125 \r\nL 301.947925 238.318125 \r\nz\r\n\" style=\"fill:#1f77b4;\"/>\r\n   </g>\r\n   <g id=\"patch_55\">\r\n    <path clip-path=\"url(#pea80569a50)\" d=\"M 306.501285 238.318125 \r\nL 311.054644 238.318125 \r\nL 311.054644 237.361314 \r\nL 306.501285 237.361314 \r\nz\r\n\" style=\"fill:#1f77b4;\"/>\r\n   </g>\r\n   <g id=\"patch_56\">\r\n    <path clip-path=\"url(#pea80569a50)\" d=\"M 311.054644 238.318125 \r\nL 315.608004 238.318125 \r\nL 315.608004 236.404504 \r\nL 311.054644 236.404504 \r\nz\r\n\" style=\"fill:#1f77b4;\"/>\r\n   </g>\r\n   <g id=\"patch_57\">\r\n    <path clip-path=\"url(#pea80569a50)\" d=\"M 315.608004 238.318125 \r\nL 320.161364 238.318125 \r\nL 320.161364 238.318125 \r\nL 315.608004 238.318125 \r\nz\r\n\" style=\"fill:#1f77b4;\"/>\r\n   </g>\r\n   <g id=\"patch_58\">\r\n    <path clip-path=\"url(#pea80569a50)\" d=\"M 320.161364 238.318125 \r\nL 324.714723 238.318125 \r\nL 324.714723 238.318125 \r\nL 320.161364 238.318125 \r\nz\r\n\" style=\"fill:#1f77b4;\"/>\r\n   </g>\r\n   <g id=\"patch_59\">\r\n    <path clip-path=\"url(#pea80569a50)\" d=\"M 324.714723 238.318125 \r\nL 329.268083 238.318125 \r\nL 329.268083 238.318125 \r\nL 324.714723 238.318125 \r\nz\r\n\" style=\"fill:#1f77b4;\"/>\r\n   </g>\r\n   <g id=\"patch_60\">\r\n    <path clip-path=\"url(#pea80569a50)\" d=\"M 329.268083 238.318125 \r\nL 333.821443 238.318125 \r\nL 333.821443 238.318125 \r\nL 329.268083 238.318125 \r\nz\r\n\" style=\"fill:#1f77b4;\"/>\r\n   </g>\r\n   <g id=\"patch_61\">\r\n    <path clip-path=\"url(#pea80569a50)\" d=\"M 333.821443 238.318125 \r\nL 338.374802 238.318125 \r\nL 338.374802 238.318125 \r\nL 333.821443 238.318125 \r\nz\r\n\" style=\"fill:#1f77b4;\"/>\r\n   </g>\r\n   <g id=\"patch_62\">\r\n    <path clip-path=\"url(#pea80569a50)\" d=\"M 338.374802 238.318125 \r\nL 342.928162 238.318125 \r\nL 342.928162 237.361314 \r\nL 338.374802 237.361314 \r\nz\r\n\" style=\"fill:#1f77b4;\"/>\r\n   </g>\r\n   <g id=\"patch_63\">\r\n    <path clip-path=\"url(#pea80569a50)\" d=\"M 342.928162 238.318125 \r\nL 347.481522 238.318125 \r\nL 347.481522 238.318125 \r\nL 342.928162 238.318125 \r\nz\r\n\" style=\"fill:#1f77b4;\"/>\r\n   </g>\r\n   <g id=\"patch_64\">\r\n    <path clip-path=\"url(#pea80569a50)\" d=\"M 347.481522 238.318125 \r\nL 352.034881 238.318125 \r\nL 352.034881 238.318125 \r\nL 347.481522 238.318125 \r\nz\r\n\" style=\"fill:#1f77b4;\"/>\r\n   </g>\r\n   <g id=\"patch_65\">\r\n    <path clip-path=\"url(#pea80569a50)\" d=\"M 352.034881 238.318125 \r\nL 356.588241 238.318125 \r\nL 356.588241 238.318125 \r\nL 352.034881 238.318125 \r\nz\r\n\" style=\"fill:#1f77b4;\"/>\r\n   </g>\r\n   <g id=\"patch_66\">\r\n    <path clip-path=\"url(#pea80569a50)\" d=\"M 356.588241 238.318125 \r\nL 361.141601 238.318125 \r\nL 361.141601 238.318125 \r\nL 356.588241 238.318125 \r\nz\r\n\" style=\"fill:#1f77b4;\"/>\r\n   </g>\r\n   <g id=\"patch_67\">\r\n    <path clip-path=\"url(#pea80569a50)\" d=\"M 361.141601 238.318125 \r\nL 365.69496 238.318125 \r\nL 365.69496 237.361314 \r\nL 361.141601 237.361314 \r\nz\r\n\" style=\"fill:#1f77b4;\"/>\r\n   </g>\r\n   <g id=\"matplotlib.axis_3\">\r\n    <g id=\"xtick_6\">\r\n     <g id=\"line2d_11\">\r\n      <g>\r\n       <use style=\"stroke:#000000;stroke-width:0.8;\" x=\"228.63975\" xlink:href=\"#m18608d69a8\" y=\"238.318125\"/>\r\n      </g>\r\n     </g>\r\n     <g id=\"text_12\">\r\n      <!-- 0 -->\r\n      <g transform=\"translate(231.399125 251.680625)rotate(-90)scale(0.1 -0.1)\">\r\n       <use xlink:href=\"#DejaVuSans-48\"/>\r\n      </g>\r\n     </g>\r\n    </g>\r\n    <g id=\"xtick_7\">\r\n     <g id=\"line2d_12\">\r\n      <g>\r\n       <use style=\"stroke:#000000;stroke-width:0.8;\" x=\"271.917837\" xlink:href=\"#m18608d69a8\" y=\"238.318125\"/>\r\n      </g>\r\n     </g>\r\n     <g id=\"text_13\">\r\n      <!-- 20000 -->\r\n      <g transform=\"translate(274.677212 277.130625)rotate(-90)scale(0.1 -0.1)\">\r\n       <use xlink:href=\"#DejaVuSans-50\"/>\r\n       <use x=\"63.623047\" xlink:href=\"#DejaVuSans-48\"/>\r\n       <use x=\"127.246094\" xlink:href=\"#DejaVuSans-48\"/>\r\n       <use x=\"190.869141\" xlink:href=\"#DejaVuSans-48\"/>\r\n       <use x=\"254.492188\" xlink:href=\"#DejaVuSans-48\"/>\r\n      </g>\r\n     </g>\r\n    </g>\r\n    <g id=\"xtick_8\">\r\n     <g id=\"line2d_13\">\r\n      <g>\r\n       <use style=\"stroke:#000000;stroke-width:0.8;\" x=\"315.195924\" xlink:href=\"#m18608d69a8\" y=\"238.318125\"/>\r\n      </g>\r\n     </g>\r\n     <g id=\"text_14\">\r\n      <!-- 40000 -->\r\n      <g transform=\"translate(317.955299 277.130625)rotate(-90)scale(0.1 -0.1)\">\r\n       <use xlink:href=\"#DejaVuSans-52\"/>\r\n       <use x=\"63.623047\" xlink:href=\"#DejaVuSans-48\"/>\r\n       <use x=\"127.246094\" xlink:href=\"#DejaVuSans-48\"/>\r\n       <use x=\"190.869141\" xlink:href=\"#DejaVuSans-48\"/>\r\n       <use x=\"254.492188\" xlink:href=\"#DejaVuSans-48\"/>\r\n      </g>\r\n     </g>\r\n    </g>\r\n    <g id=\"xtick_9\">\r\n     <g id=\"line2d_14\">\r\n      <g>\r\n       <use style=\"stroke:#000000;stroke-width:0.8;\" x=\"358.474012\" xlink:href=\"#m18608d69a8\" y=\"238.318125\"/>\r\n      </g>\r\n     </g>\r\n     <g id=\"text_15\">\r\n      <!-- 60000 -->\r\n      <g transform=\"translate(361.233387 277.130625)rotate(-90)scale(0.1 -0.1)\">\r\n       <use xlink:href=\"#DejaVuSans-54\"/>\r\n       <use x=\"63.623047\" xlink:href=\"#DejaVuSans-48\"/>\r\n       <use x=\"127.246094\" xlink:href=\"#DejaVuSans-48\"/>\r\n       <use x=\"190.869141\" xlink:href=\"#DejaVuSans-48\"/>\r\n       <use x=\"254.492188\" xlink:href=\"#DejaVuSans-48\"/>\r\n      </g>\r\n     </g>\r\n    </g>\r\n   </g>\r\n   <g id=\"matplotlib.axis_4\">\r\n    <g id=\"ytick_6\">\r\n     <g id=\"line2d_15\">\r\n      <g>\r\n       <use style=\"stroke:#000000;stroke-width:0.8;\" x=\"222.26413\" xlink:href=\"#m39be6f9ee0\" y=\"238.318125\"/>\r\n      </g>\r\n     </g>\r\n     <g id=\"text_16\">\r\n      <!-- 0 -->\r\n      <g transform=\"translate(208.90163 242.117344)scale(0.1 -0.1)\">\r\n       <use xlink:href=\"#DejaVuSans-48\"/>\r\n      </g>\r\n     </g>\r\n    </g>\r\n    <g id=\"ytick_7\">\r\n     <g id=\"line2d_16\">\r\n      <g>\r\n       <use style=\"stroke:#000000;stroke-width:0.8;\" x=\"222.26413\" xlink:href=\"#m39be6f9ee0\" y=\"190.477593\"/>\r\n      </g>\r\n     </g>\r\n     <g id=\"text_17\">\r\n      <!-- 50 -->\r\n      <g transform=\"translate(202.53913 194.276812)scale(0.1 -0.1)\">\r\n       <defs>\r\n        <path d=\"M 10.796875 72.90625 \r\nL 49.515625 72.90625 \r\nL 49.515625 64.59375 \r\nL 19.828125 64.59375 \r\nL 19.828125 46.734375 \r\nQ 21.96875 47.46875 24.109375 47.828125 \r\nQ 26.265625 48.1875 28.421875 48.1875 \r\nQ 40.625 48.1875 47.75 41.5 \r\nQ 54.890625 34.8125 54.890625 23.390625 \r\nQ 54.890625 11.625 47.5625 5.09375 \r\nQ 40.234375 -1.421875 26.90625 -1.421875 \r\nQ 22.3125 -1.421875 17.546875 -0.640625 \r\nQ 12.796875 0.140625 7.71875 1.703125 \r\nL 7.71875 11.625 \r\nQ 12.109375 9.234375 16.796875 8.0625 \r\nQ 21.484375 6.890625 26.703125 6.890625 \r\nQ 35.15625 6.890625 40.078125 11.328125 \r\nQ 45.015625 15.765625 45.015625 23.390625 \r\nQ 45.015625 31 40.078125 35.4375 \r\nQ 35.15625 39.890625 26.703125 39.890625 \r\nQ 22.75 39.890625 18.8125 39.015625 \r\nQ 14.890625 38.140625 10.796875 36.28125 \r\nz\r\n\" id=\"DejaVuSans-53\"/>\r\n       </defs>\r\n       <use xlink:href=\"#DejaVuSans-53\"/>\r\n       <use x=\"63.623047\" xlink:href=\"#DejaVuSans-48\"/>\r\n      </g>\r\n     </g>\r\n    </g>\r\n    <g id=\"ytick_8\">\r\n     <g id=\"line2d_17\">\r\n      <g>\r\n       <use style=\"stroke:#000000;stroke-width:0.8;\" x=\"222.26413\" xlink:href=\"#m39be6f9ee0\" y=\"142.637062\"/>\r\n      </g>\r\n     </g>\r\n     <g id=\"text_18\">\r\n      <!-- 100 -->\r\n      <g transform=\"translate(196.17663 146.436281)scale(0.1 -0.1)\">\r\n       <defs>\r\n        <path d=\"M 12.40625 8.296875 \r\nL 28.515625 8.296875 \r\nL 28.515625 63.921875 \r\nL 10.984375 60.40625 \r\nL 10.984375 69.390625 \r\nL 28.421875 72.90625 \r\nL 38.28125 72.90625 \r\nL 38.28125 8.296875 \r\nL 54.390625 8.296875 \r\nL 54.390625 0 \r\nL 12.40625 0 \r\nz\r\n\" id=\"DejaVuSans-49\"/>\r\n       </defs>\r\n       <use xlink:href=\"#DejaVuSans-49\"/>\r\n       <use x=\"63.623047\" xlink:href=\"#DejaVuSans-48\"/>\r\n       <use x=\"127.246094\" xlink:href=\"#DejaVuSans-48\"/>\r\n      </g>\r\n     </g>\r\n    </g>\r\n    <g id=\"ytick_9\">\r\n     <g id=\"line2d_18\">\r\n      <g>\r\n       <use style=\"stroke:#000000;stroke-width:0.8;\" x=\"222.26413\" xlink:href=\"#m39be6f9ee0\" y=\"94.79653\"/>\r\n      </g>\r\n     </g>\r\n     <g id=\"text_19\">\r\n      <!-- 150 -->\r\n      <g transform=\"translate(196.17663 98.595749)scale(0.1 -0.1)\">\r\n       <use xlink:href=\"#DejaVuSans-49\"/>\r\n       <use x=\"63.623047\" xlink:href=\"#DejaVuSans-53\"/>\r\n       <use x=\"127.246094\" xlink:href=\"#DejaVuSans-48\"/>\r\n      </g>\r\n     </g>\r\n    </g>\r\n    <g id=\"ytick_10\">\r\n     <g id=\"line2d_19\">\r\n      <g>\r\n       <use style=\"stroke:#000000;stroke-width:0.8;\" x=\"222.26413\" xlink:href=\"#m39be6f9ee0\" y=\"46.955999\"/>\r\n      </g>\r\n     </g>\r\n     <g id=\"text_20\">\r\n      <!-- 200 -->\r\n      <g transform=\"translate(196.17663 50.755218)scale(0.1 -0.1)\">\r\n       <use xlink:href=\"#DejaVuSans-50\"/>\r\n       <use x=\"63.623047\" xlink:href=\"#DejaVuSans-48\"/>\r\n       <use x=\"127.246094\" xlink:href=\"#DejaVuSans-48\"/>\r\n      </g>\r\n     </g>\r\n    </g>\r\n   </g>\r\n   <g id=\"patch_68\">\r\n    <path d=\"M 222.26413 238.318125 \r\nL 222.26413 22.318125 \r\n\" style=\"fill:none;stroke:#000000;stroke-linecap:square;stroke-linejoin:miter;stroke-width:0.8;\"/>\r\n   </g>\r\n   <g id=\"patch_69\">\r\n    <path d=\"M 372.525 238.318125 \r\nL 372.525 22.318125 \r\n\" style=\"fill:none;stroke:#000000;stroke-linecap:square;stroke-linejoin:miter;stroke-width:0.8;\"/>\r\n   </g>\r\n   <g id=\"patch_70\">\r\n    <path d=\"M 222.26413 238.318125 \r\nL 372.525 238.318125 \r\n\" style=\"fill:none;stroke:#000000;stroke-linecap:square;stroke-linejoin:miter;stroke-width:0.8;\"/>\r\n   </g>\r\n   <g id=\"patch_71\">\r\n    <path d=\"M 222.26413 22.318125 \r\nL 372.525 22.318125 \r\n\" style=\"fill:none;stroke:#000000;stroke-linecap:square;stroke-linejoin:miter;stroke-width:0.8;\"/>\r\n   </g>\r\n   <g id=\"text_21\">\r\n    <!-- Y -->\r\n    <g transform=\"translate(293.729878 16.318125)scale(0.12 -0.12)\">\r\n     <defs>\r\n      <path d=\"M -0.203125 72.90625 \r\nL 10.40625 72.90625 \r\nL 30.609375 42.921875 \r\nL 50.6875 72.90625 \r\nL 61.28125 72.90625 \r\nL 35.5 34.71875 \r\nL 35.5 0 \r\nL 25.59375 0 \r\nL 25.59375 34.71875 \r\nz\r\n\" id=\"DejaVuSans-89\"/>\r\n     </defs>\r\n     <use xlink:href=\"#DejaVuSans-89\"/>\r\n    </g>\r\n   </g>\r\n  </g>\r\n </g>\r\n <defs>\r\n  <clipPath id=\"pabd230b8f6\">\r\n   <rect height=\"216\" width=\"150.26087\" x=\"26.925\" y=\"22.318125\"/>\r\n  </clipPath>\r\n  <clipPath id=\"pea80569a50\">\r\n   <rect height=\"216\" width=\"150.26087\" x=\"222.26413\" y=\"22.318125\"/>\r\n  </clipPath>\r\n </defs>\r\n</svg>\r\n",
      "image/png": "[encoded data removed]"
     },
     "metadata": {
      "needs_background": "light"
     }
    }
   ],
   "source": [
    "data.hist(column=\"ApplicantIncome\",by=\"Loan_Status\",bins=30)"
   ]
  },
  {
   "source": [
    "This shows that income is not a big deciding factor on its own as there is no appreciable difference between the people who received and were denied the loan."
   ],
   "cell_type": "markdown",
   "metadata": {}
  },
  {
   "source": [
    "#10 – Cut function for binning\n",
    "Sometimes numerical values make more sense if clustered together. For example, if we’re trying to model traffic (#cars on road) with time of the day (minutes). The exact minute of an hour might not be that relevant for predicting traffic as compared to actual period of the day like “Morning”, “Afternoon”, “Evening”, “Night”, “Late Night”. Modeling traffic this way will be more intuitive and will avoid overfitting.\n"
   ],
   "cell_type": "markdown",
   "metadata": {}
  },
  {
   "cell_type": "code",
   "execution_count": 199,
   "metadata": {},
   "outputs": [
    {
     "output_type": "execute_result",
     "data": {
      "text/plain": [
       "low          104\n",
       "medium       273\n",
       "high         146\n",
       "very high     91\n",
       "Name: LoanAmount_Bin, dtype: int64"
      ]
     },
     "metadata": {},
     "execution_count": 199
    }
   ],
   "source": [
    "#Binning:\n",
    "def binning(col, cut_points, labels=None):\n",
    "  #Define min and max values:\n",
    "  minval = col.min()\n",
    "  maxval = col.max()\n",
    "\n",
    "  #create list by adding min and max to cut_points\n",
    "  break_points = [minval] + cut_points + [maxval]\n",
    "\n",
    "  #if no labels provided, use default labels 0 ... (n-1)\n",
    "  if not labels:\n",
    "    labels = range(len(cut_points)+1)\n",
    "\n",
    "  #Binning using cut function of pandas\n",
    "  colBin = pd.cut(col,bins=break_points,labels=labels,include_lowest=True)\n",
    "  return colBin\n",
    "\n",
    "#Binning age:\n",
    "cut_points = [90,140,190]\n",
    "labels = [\"low\",\"medium\",\"high\",\"very high\"]\n",
    "data[\"LoanAmount_Bin\"] = binning(data[\"LoanAmount\"], cut_points, labels)\n",
    "pd.value_counts(data[\"LoanAmount_Bin\"], sort=False)"
   ]
  },
  {
   "source": [
    "#11 – Coding nominal data using Pandas\n",
    "Here I’ve defined a generic function which takes in input as a dictionary and codes the values using ‘replace’ function in Pandas."
   ],
   "cell_type": "markdown",
   "metadata": {}
  },
  {
   "cell_type": "code",
   "execution_count": 200,
   "metadata": {},
   "outputs": [
    {
     "output_type": "stream",
     "name": "stdout",
     "text": [
      "Before Coding:\nY    422\nN    192\nName: Loan_Status, dtype: int64\n\nAfter Coding:\n1    422\n0    192\nName: Loan_Status_Coded, dtype: int64\n"
     ]
    }
   ],
   "source": [
    "#Define a generic function using Pandas replace function\n",
    "def coding(col, codeDict):\n",
    "  colCoded = pd.Series(col, copy=True)\n",
    "  for key, value in codeDict.items():\n",
    "    colCoded.replace(key, value, inplace=True)\n",
    "  return colCoded\n",
    " \n",
    "#Coding LoanStatus as Y=1, N=0:\n",
    "print ('Before Coding:')\n",
    "print (pd.value_counts(data[\"Loan_Status\"]))\n",
    "data[\"Loan_Status_Coded\"] = coding(data[\"Loan_Status\"], {'N':0,'Y':1})\n",
    "print ('\\nAfter Coding:')\n",
    "print (pd.value_counts(data[\"Loan_Status_Coded\"]))"
   ]
  },
  {
   "cell_type": "code",
   "execution_count": 201,
   "metadata": {},
   "outputs": [],
   "source": [
    "#12 – Iterating over rows of a Pandas Dataframe\n"
   ]
  },
  {
   "cell_type": "code",
   "execution_count": 202,
   "metadata": {},
   "outputs": [
    {
     "output_type": "stream",
     "name": "stdout",
     "text": [
      "Given Dataframe :\n         Name  Age    Stream  Percentage\n0      Ankit   21      Math          88\n1       Amit   19  Commerce          92\n2  Aishwarya   20      Arts          95\n3   Priyanka   18   Biology          70\n\nIterating over rows using index attribute :\n\nAnkit Math\nAmit Commerce\nAishwarya Arts\nPriyanka Biology\n"
     ]
    }
   ],
   "source": [
    "# import pandas package as pd\n",
    "import pandas as pd\n",
    "  \n",
    "# Define a dictionary containing students data\n",
    "data = {'Name': ['Ankit', 'Amit', 'Aishwarya', 'Priyanka'],\n",
    "                'Age': [21, 19, 20, 18],\n",
    "                'Stream': ['Math', 'Commerce', 'Arts', 'Biology'],\n",
    "                'Percentage': [88, 92, 95, 70]}\n",
    "  \n",
    "# Convert the dictionary into DataFrame\n",
    "df = pd.DataFrame(data, columns = ['Name', 'Age', 'Stream', 'Percentage'])\n",
    "  \n",
    "print(\"Given Dataframe :\\n\", df)\n",
    "  \n",
    "print(\"\\nIterating over rows using index attribute :\\n\")\n",
    "  \n",
    "# iterate through each row and select \n",
    "# 'Name' and 'Stream' column respectively.\n",
    "for ind in df.index:\n",
    "     print(df['Name'][ind], df['Stream'][ind])"
   ]
  },
  {
   "cell_type": "code",
   "execution_count": 203,
   "metadata": {},
   "outputs": [
    {
     "output_type": "stream",
     "name": "stdout",
     "text": [
      "Given Dataframe :\n         Name  Age    Stream  Percentage\n0      Ankit   21      Math          88\n1       Amit   19  Commerce          92\n2  Aishwarya   20      Arts          95\n3   Priyanka   18   Biology          70\n\nIterating over rows using loc function :\n\nAnkit 21\nAmit 19\nAishwarya 20\nPriyanka 18\n"
     ]
    }
   ],
   "source": [
    "#Method #2 : Using loc[] function of the Dataframe.\n",
    "\n",
    "print(\"Given Dataframe :\\n\", df)\n",
    "  \n",
    "print(\"\\nIterating over rows using loc function :\\n\")\n",
    "  \n",
    "# iterate through each row and select \n",
    "# 'Name' and 'Age' column respectively.\n",
    "for i in range(len(df)) :\n",
    "  print(df.loc[i, \"Name\"], df.loc[i, \"Age\"])"
   ]
  },
  {
   "cell_type": "code",
   "execution_count": 204,
   "metadata": {},
   "outputs": [
    {
     "output_type": "stream",
     "name": "stdout",
     "text": [
      "\nIterating over rows using iloc function :\n\nAnkit Math\nAmit Commerce\nAishwarya Arts\nPriyanka Biology\n"
     ]
    }
   ],
   "source": [
    "#Method #3 : Using iloc[] function of the DataFrame:\n",
    "print(\"\\nIterating over rows using iloc function :\\n\")\n",
    "  \n",
    "# iterate through each row and select \n",
    "# 0th and 2nd index column respectively.\n",
    "for i in range(len(df)) :\n",
    "  print(df.iloc[i, 0], df.iloc[i, 2])"
   ]
  },
  {
   "cell_type": "code",
   "execution_count": 205,
   "metadata": {},
   "outputs": [
    {
     "output_type": "stream",
     "name": "stdout",
     "text": [
      "\nIterating over rows using iterrows() method :\n\nAnkit 21\nAmit 19\nAishwarya 20\nPriyanka 18\n"
     ]
    }
   ],
   "source": [
    "#Method #4 : Using iterrows() method of the Dataframe.\n",
    "print(\"\\nIterating over rows using iterrows() method :\\n\")\n",
    "  \n",
    "# iterate through each row and select \n",
    "# 'Name' and 'Age' column respectively.\n",
    "for index, row in df.iterrows():\n",
    "    print (row[\"Name\"], row[\"Age\"])"
   ]
  },
  {
   "cell_type": "code",
   "execution_count": 206,
   "metadata": {},
   "outputs": [
    {
     "output_type": "stream",
     "name": "stdout",
     "text": [
      "\nIterating over rows using itertuples() method :\n\nAnkit 88\nAmit 92\nAishwarya 95\nPriyanka 70\n"
     ]
    }
   ],
   "source": [
    "#Method #5 : Using itertuples() method of the Dataframe.\n",
    "print(\"\\nIterating over rows using itertuples() method :\\n\")\n",
    "  \n",
    "# iterate through each row and select \n",
    "# 'Name' and 'Percentage' column respectively.\n",
    "for row in df.itertuples(index = True, name ='Pandas'):\n",
    "    print (getattr(row, \"Name\"), getattr(row, \"Percentage\"))"
   ]
  },
  {
   "cell_type": "code",
   "execution_count": 207,
   "metadata": {},
   "outputs": [
    {
     "output_type": "stream",
     "name": "stdout",
     "text": [
      "\nIterating over rows using apply function :\n\n0        Ankit 88\n1         Amit 92\n2    Aishwarya 95\n3     Priyanka 70\ndtype: object\n"
     ]
    }
   ],
   "source": [
    "#Method #6 : Using apply() method of the Dataframe:\n",
    "print(\"\\nIterating over rows using apply function :\\n\")\n",
    "  \n",
    "# iterate through each row and concatenate\n",
    "# 'Name' and 'Percentage' column respectively.\n",
    "print(df.apply(lambda row: row[\"Name\"] + \" \" + str(row[\"Percentage\"]), axis = 1))"
   ]
  },
  {
   "cell_type": "code",
   "execution_count": null,
   "metadata": {},
   "outputs": [],
   "source": []
  }
 ]
}