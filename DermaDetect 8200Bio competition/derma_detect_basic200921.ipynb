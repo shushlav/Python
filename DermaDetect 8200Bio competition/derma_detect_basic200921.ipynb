{
 "cells": [
  {
   "cell_type": "markdown",
   "source": [
    "# Feature Selection with Categorical Data"
   ],
   "metadata": {}
  },
  {
   "cell_type": "markdown",
   "source": [
    "## The two most commonly used feature selection methods for categorical input data when the target variable is also categorical (e.g. classification predictive modeling) are the chi-squared statistic and the mutual information statistic."
   ],
   "metadata": {}
  },
  {
   "cell_type": "markdown",
   "source": [
    "https://machinelearningmastery.com/feature-selection-with-categorical-data/"
   ],
   "metadata": {}
  },
  {
   "cell_type": "code",
   "execution_count": 172,
   "source": [
    "# DermaDetect Copyright (C), 2021\r\n",
    "\r\n",
    "from sklearn import tree\r\n",
    "import pandas as pd\r\n",
    "import pickle\r\n",
    "import argparse\r\n",
    "import os\r\n",
    "import seaborn as sns\r\n",
    "from sklearn.preprocessing import LabelBinarizer, MinMaxScaler\r\n",
    "from sklearn.metrics import classification_report, confusion_matrix\r\n"
   ],
   "outputs": [],
   "metadata": {}
  },
  {
   "cell_type": "code",
   "execution_count": 173,
   "source": [
    "import sklearn\r\n",
    "print(sklearn.__version__)"
   ],
   "outputs": [
    {
     "output_type": "stream",
     "name": "stdout",
     "text": [
      "0.24.2\n"
     ]
    }
   ],
   "metadata": {}
  },
  {
   "cell_type": "code",
   "execution_count": 174,
   "source": [
    "data_relative_path = 'C:\\\\Users\\\\Tal Shushlav\\\\Documents\\\\Yael\\\\dd_data.csv'\r\n",
    "data = pd.read_csv(data_relative_path)\r\n",
    "data.head()"
   ],
   "outputs": [
    {
     "output_type": "execute_result",
     "data": {
      "text/html": [
       "<div>\n",
       "<style scoped>\n",
       "    .dataframe tbody tr th:only-of-type {\n",
       "        vertical-align: middle;\n",
       "    }\n",
       "\n",
       "    .dataframe tbody tr th {\n",
       "        vertical-align: top;\n",
       "    }\n",
       "\n",
       "    .dataframe thead th {\n",
       "        text-align: right;\n",
       "    }\n",
       "</style>\n",
       "<table border=\"1\" class=\"dataframe\">\n",
       "  <thead>\n",
       "    <tr style=\"text-align: right;\">\n",
       "      <th></th>\n",
       "      <th>age</th>\n",
       "      <th>pus</th>\n",
       "      <th>itch</th>\n",
       "      <th>size</th>\n",
       "      <th>shape</th>\n",
       "      <th>crater</th>\n",
       "      <th>gender</th>\n",
       "      <th>vesicle</th>\n",
       "      <th>bleeding</th>\n",
       "      <th>quantity</th>\n",
       "      <th>...</th>\n",
       "      <th>is_secondary_locations_toes</th>\n",
       "      <th>is_secondary_locations_toes_external</th>\n",
       "      <th>is_secondary_locations_toes_internal</th>\n",
       "      <th>is_secondary_locations_tongue</th>\n",
       "      <th>is_secondary_locations_upper_arm_external</th>\n",
       "      <th>is_secondary_locations_upper_arm_internal</th>\n",
       "      <th>is_secondary_locations_vaginal_region</th>\n",
       "      <th>is_secondary_locations_wrist_external</th>\n",
       "      <th>is_secondary_locations_wrist_internal</th>\n",
       "      <th>diagnosis</th>\n",
       "    </tr>\n",
       "  </thead>\n",
       "  <tbody>\n",
       "    <tr>\n",
       "      <th>0</th>\n",
       "      <td>34.0</td>\n",
       "      <td>False</td>\n",
       "      <td>False</td>\n",
       "      <td>pea</td>\n",
       "      <td>round</td>\n",
       "      <td>False</td>\n",
       "      <td>female</td>\n",
       "      <td>False</td>\n",
       "      <td>False</td>\n",
       "      <td>multiple</td>\n",
       "      <td>...</td>\n",
       "      <td>False</td>\n",
       "      <td>False</td>\n",
       "      <td>False</td>\n",
       "      <td>False</td>\n",
       "      <td>False</td>\n",
       "      <td>False</td>\n",
       "      <td>False</td>\n",
       "      <td>False</td>\n",
       "      <td>True</td>\n",
       "      <td>eczema uns</td>\n",
       "    </tr>\n",
       "    <tr>\n",
       "      <th>1</th>\n",
       "      <td>41.0</td>\n",
       "      <td>False</td>\n",
       "      <td>False</td>\n",
       "      <td>unknown</td>\n",
       "      <td>unknown</td>\n",
       "      <td>False</td>\n",
       "      <td>female</td>\n",
       "      <td>False</td>\n",
       "      <td>False</td>\n",
       "      <td>unknown</td>\n",
       "      <td>...</td>\n",
       "      <td>False</td>\n",
       "      <td>False</td>\n",
       "      <td>False</td>\n",
       "      <td>False</td>\n",
       "      <td>False</td>\n",
       "      <td>False</td>\n",
       "      <td>False</td>\n",
       "      <td>False</td>\n",
       "      <td>False</td>\n",
       "      <td>contact dermatitis</td>\n",
       "    </tr>\n",
       "    <tr>\n",
       "      <th>2</th>\n",
       "      <td>25.0</td>\n",
       "      <td>False</td>\n",
       "      <td>False</td>\n",
       "      <td>pea</td>\n",
       "      <td>non-round</td>\n",
       "      <td>False</td>\n",
       "      <td>male</td>\n",
       "      <td>False</td>\n",
       "      <td>False</td>\n",
       "      <td>multiple</td>\n",
       "      <td>...</td>\n",
       "      <td>False</td>\n",
       "      <td>False</td>\n",
       "      <td>False</td>\n",
       "      <td>False</td>\n",
       "      <td>False</td>\n",
       "      <td>False</td>\n",
       "      <td>False</td>\n",
       "      <td>False</td>\n",
       "      <td>False</td>\n",
       "      <td>verruca vulgaris</td>\n",
       "    </tr>\n",
       "    <tr>\n",
       "      <th>3</th>\n",
       "      <td>49.0</td>\n",
       "      <td>False</td>\n",
       "      <td>True</td>\n",
       "      <td>&gt;palm</td>\n",
       "      <td>round</td>\n",
       "      <td>False</td>\n",
       "      <td>female</td>\n",
       "      <td>False</td>\n",
       "      <td>False</td>\n",
       "      <td>multiple</td>\n",
       "      <td>...</td>\n",
       "      <td>False</td>\n",
       "      <td>False</td>\n",
       "      <td>False</td>\n",
       "      <td>False</td>\n",
       "      <td>False</td>\n",
       "      <td>False</td>\n",
       "      <td>False</td>\n",
       "      <td>False</td>\n",
       "      <td>False</td>\n",
       "      <td>tinea versicolor</td>\n",
       "    </tr>\n",
       "    <tr>\n",
       "      <th>4</th>\n",
       "      <td>21.0</td>\n",
       "      <td>False</td>\n",
       "      <td>False</td>\n",
       "      <td>pea</td>\n",
       "      <td>round</td>\n",
       "      <td>False</td>\n",
       "      <td>female</td>\n",
       "      <td>False</td>\n",
       "      <td>False</td>\n",
       "      <td>clustered</td>\n",
       "      <td>...</td>\n",
       "      <td>False</td>\n",
       "      <td>False</td>\n",
       "      <td>False</td>\n",
       "      <td>False</td>\n",
       "      <td>False</td>\n",
       "      <td>False</td>\n",
       "      <td>False</td>\n",
       "      <td>False</td>\n",
       "      <td>False</td>\n",
       "      <td>seborrheic dermatitis</td>\n",
       "    </tr>\n",
       "  </tbody>\n",
       "</table>\n",
       "<p>5 rows × 108 columns</p>\n",
       "</div>"
      ],
      "text/plain": [
       "    age    pus   itch     size      shape  crater  gender  vesicle  bleeding  \\\n",
       "0  34.0  False  False      pea      round   False  female    False     False   \n",
       "1  41.0  False  False  unknown    unknown   False  female    False     False   \n",
       "2  25.0  False  False      pea  non-round   False    male    False     False   \n",
       "3  49.0  False   True    >palm      round   False  female    False     False   \n",
       "4  21.0  False  False      pea      round   False  female    False     False   \n",
       "\n",
       "    quantity  ...  is_secondary_locations_toes  \\\n",
       "0   multiple  ...                        False   \n",
       "1    unknown  ...                        False   \n",
       "2   multiple  ...                        False   \n",
       "3   multiple  ...                        False   \n",
       "4  clustered  ...                        False   \n",
       "\n",
       "  is_secondary_locations_toes_external  is_secondary_locations_toes_internal  \\\n",
       "0                                False                                 False   \n",
       "1                                False                                 False   \n",
       "2                                False                                 False   \n",
       "3                                False                                 False   \n",
       "4                                False                                 False   \n",
       "\n",
       "   is_secondary_locations_tongue  is_secondary_locations_upper_arm_external  \\\n",
       "0                          False                                      False   \n",
       "1                          False                                      False   \n",
       "2                          False                                      False   \n",
       "3                          False                                      False   \n",
       "4                          False                                      False   \n",
       "\n",
       "   is_secondary_locations_upper_arm_internal  \\\n",
       "0                                      False   \n",
       "1                                      False   \n",
       "2                                      False   \n",
       "3                                      False   \n",
       "4                                      False   \n",
       "\n",
       "  is_secondary_locations_vaginal_region  \\\n",
       "0                                 False   \n",
       "1                                 False   \n",
       "2                                 False   \n",
       "3                                 False   \n",
       "4                                 False   \n",
       "\n",
       "   is_secondary_locations_wrist_external  \\\n",
       "0                                  False   \n",
       "1                                  False   \n",
       "2                                  False   \n",
       "3                                  False   \n",
       "4                                  False   \n",
       "\n",
       "  is_secondary_locations_wrist_internal              diagnosis  \n",
       "0                                  True             eczema uns  \n",
       "1                                 False     contact dermatitis  \n",
       "2                                 False       verruca vulgaris  \n",
       "3                                 False       tinea versicolor  \n",
       "4                                 False  seborrheic dermatitis  \n",
       "\n",
       "[5 rows x 108 columns]"
      ]
     },
     "metadata": {},
     "execution_count": 174
    }
   ],
   "metadata": {}
  },
  {
   "cell_type": "code",
   "execution_count": 204,
   "source": [
    "data.dtypes"
   ],
   "outputs": [
    {
     "output_type": "execute_result",
     "data": {
      "text/plain": [
       "age                                          float64\n",
       "pus                                             bool\n",
       "itch                                            bool\n",
       "size                                          object\n",
       "shape                                         object\n",
       "                                              ...   \n",
       "is_secondary_locations_upper_arm_internal       bool\n",
       "is_secondary_locations_vaginal_region           bool\n",
       "is_secondary_locations_wrist_external           bool\n",
       "is_secondary_locations_wrist_internal           bool\n",
       "diagnosis                                      int32\n",
       "Length: 106, dtype: object"
      ]
     },
     "metadata": {},
     "execution_count": 204
    }
   ],
   "metadata": {}
  },
  {
   "cell_type": "code",
   "execution_count": 175,
   "source": [
    "# how many labels per each feature:\r\n",
    "for col in data.columns:   \r\n",
    "    print(col, ': ', len(data[col].unique()), 'labels')"
   ],
   "outputs": [
    {
     "output_type": "stream",
     "name": "stdout",
     "text": [
      "age :  105 labels\n",
      "pus :  2 labels\n",
      "itch :  2 labels\n",
      "size :  5 labels\n",
      "shape :  3 labels\n",
      "crater :  2 labels\n",
      "gender :  2 labels\n",
      "vesicle :  2 labels\n",
      "bleeding :  2 labels\n",
      "quantity :  5 labels\n",
      "swelling :  2 labels\n",
      "topography :  4 labels\n",
      "temperature :  7 labels\n",
      "duration.days :  8 labels\n",
      "duration.from_birth :  1 labels\n",
      "pain.is_pain :  2 labels\n",
      "lossOfHair.type :  2 labels\n",
      "lossOfHair.exist :  2 labels\n",
      "pain.pain_type :  3 labels\n",
      "location.coverage :  3 labels\n",
      "is_texture_cracks :  2 labels\n",
      "is_texture_dry :  2 labels\n",
      "is_texture_exfoliation :  2 labels\n",
      "is_texture_not_sure :  2 labels\n",
      "is_texture_rough :  1 labels\n",
      "is_texture_scales :  2 labels\n",
      "is_texture_smooth :  1 labels\n",
      "is_texture_wet :  2 labels\n",
      "is_color_condition_black :  2 labels\n",
      "is_color_condition_blue :  2 labels\n",
      "is_color_condition_brown :  2 labels\n",
      "is_color_condition_green :  2 labels\n",
      "is_color_condition_grey :  2 labels\n",
      "is_color_condition_normal :  2 labels\n",
      "is_color_condition_purple :  2 labels\n",
      "is_color_condition_red :  2 labels\n",
      "is_color_condition_white :  2 labels\n",
      "is_color_condition_yellow :  2 labels\n",
      "is_nailsdiseases_beau_s_lines :  2 labels\n",
      "is_nailsdiseases_clubbing :  2 labels\n",
      "is_nailsdiseases_koilonychia__spooning_ :  2 labels\n",
      "is_nailsdiseases_leukonychia__white_spots_ :  1 labels\n",
      "is_nailsdiseases_mees__lines :  1 labels\n",
      "is_nailsdiseases_onycholysis :  2 labels\n",
      "is_nailsdiseases_onychomycosis :  2 labels\n",
      "is_nailsdiseases_pitting :  2 labels\n",
      "is_nailsdiseases_terry_s_nails :  2 labels\n",
      "is_nailsdiseases_yellow_nail_syndrome :  2 labels\n",
      "is_primary_locations_arm :  2 labels\n",
      "is_primary_locations_back :  2 labels\n",
      "is_primary_locations_buttock :  1 labels\n",
      "is_primary_locations_chest :  2 labels\n",
      "is_primary_locations_groin_area :  2 labels\n",
      "is_primary_locations_head :  2 labels\n",
      "is_primary_locations_leg :  2 labels\n",
      "is_secondary_locations_abdomen :  2 labels\n",
      "is_secondary_locations_armpit :  2 labels\n",
      "is_secondary_locations_back :  2 labels\n",
      "is_secondary_locations_buttock :  2 labels\n",
      "is_secondary_locations_cheeks :  2 labels\n",
      "is_secondary_locations_chest :  2 labels\n",
      "is_secondary_locations_chin :  2 labels\n",
      "is_secondary_locations_ear :  2 labels\n",
      "is_secondary_locations_elbow :  2 labels\n",
      "is_secondary_locations_elbow_pit :  2 labels\n",
      "is_secondary_locations_eye :  2 labels\n",
      "is_secondary_locations_eyebrow :  2 labels\n",
      "is_secondary_locations_eyelid :  2 labels\n",
      "is_secondary_locations_fingers :  2 labels\n",
      "is_secondary_locations_foot :  1 labels\n",
      "is_secondary_locations_foot_external :  2 labels\n",
      "is_secondary_locations_foot_internal :  2 labels\n",
      "is_secondary_locations_forearm_external :  2 labels\n",
      "is_secondary_locations_forearm_internal :  2 labels\n",
      "is_secondary_locations_forehead :  2 labels\n",
      "is_secondary_locations_gingiva :  2 labels\n",
      "is_secondary_locations_groins :  2 labels\n",
      "is_secondary_locations_hand :  1 labels\n",
      "is_secondary_locations_hand_external :  2 labels\n",
      "is_secondary_locations_hand_internal :  2 labels\n",
      "is_secondary_locations_knee :  2 labels\n",
      "is_secondary_locations_kneepit :  2 labels\n",
      "is_secondary_locations_lips :  2 labels\n",
      "is_secondary_locations_nails :  2 labels\n",
      "is_secondary_locations_navel :  2 labels\n",
      "is_secondary_locations_neck :  2 labels\n",
      "is_secondary_locations_nose :  2 labels\n",
      "is_secondary_locations_penis :  2 labels\n",
      "is_secondary_locations_perioral :  2 labels\n",
      "is_secondary_locations_pubes :  2 labels\n",
      "is_secondary_locations_rear_neck :  2 labels\n",
      "is_secondary_locations_scalp :  2 labels\n",
      "is_secondary_locations_scrotum :  2 labels\n",
      "is_secondary_locations_shin_external :  2 labels\n",
      "is_secondary_locations_shin_internal :  2 labels\n",
      "is_secondary_locations_shoulders :  2 labels\n",
      "is_secondary_locations_thigh_external :  2 labels\n",
      "is_secondary_locations_thigh_internal :  2 labels\n",
      "is_secondary_locations_toes :  2 labels\n",
      "is_secondary_locations_toes_external :  1 labels\n",
      "is_secondary_locations_toes_internal :  1 labels\n",
      "is_secondary_locations_tongue :  2 labels\n",
      "is_secondary_locations_upper_arm_external :  2 labels\n",
      "is_secondary_locations_upper_arm_internal :  2 labels\n",
      "is_secondary_locations_vaginal_region :  2 labels\n",
      "is_secondary_locations_wrist_external :  2 labels\n",
      "is_secondary_locations_wrist_internal :  2 labels\n",
      "diagnosis :  30 labels\n"
     ]
    }
   ],
   "metadata": {}
  },
  {
   "cell_type": "code",
   "execution_count": null,
   "source": [],
   "outputs": [],
   "metadata": {}
  },
  {
   "cell_type": "markdown",
   "source": [
    "# look at the data"
   ],
   "metadata": {}
  },
  {
   "cell_type": "code",
   "execution_count": 177,
   "source": [
    "print(X.info())\r\n",
    "\r\n",
    "#print(data[[data.isnull().sum()]])   # a list of the columns which have missing values\r\n",
    "print(data.describe())\r\n",
    "\r\n",
    "\r\n"
   ],
   "outputs": [
    {
     "output_type": "stream",
     "name": "stdout",
     "text": [
      "<class 'pandas.core.frame.DataFrame'>\n",
      "RangeIndex: 900 entries, 0 to 899\n",
      "Columns: 107 entries, age to is_secondary_locations_wrist_internal\n",
      "dtypes: bool(96), float64(3), object(8)\n",
      "memory usage: 161.8+ KB\n",
      "None\n",
      "              age  temperature  duration.days\n",
      "count  900.000000   900.000000     900.000000\n",
      "mean    30.940651    36.615889     109.448889\n",
      "std     18.886098     0.178184     146.951358\n",
      "min      0.082000    36.600000       0.000000\n",
      "25%     18.000000    36.600000       7.000000\n",
      "50%     30.000000    36.600000      30.000000\n",
      "75%     44.250000    36.600000      60.000000\n",
      "max     90.000000    39.300000     365.000000\n"
     ]
    }
   ],
   "metadata": {}
  },
  {
   "cell_type": "code",
   "execution_count": 182,
   "source": [],
   "outputs": [
    {
     "output_type": "execute_result",
     "data": {
      "text/plain": [
       "Index(['size', 'shape', 'gender', 'quantity', 'topography', 'lossOfHair.type',\n",
       "       'pain.pain_type', 'location.coverage', 'diagnosis'],\n",
       "      dtype='object')"
      ]
     },
     "metadata": {},
     "execution_count": 182
    }
   ],
   "metadata": {}
  },
  {
   "cell_type": "markdown",
   "source": [
    "# High number of missing data"
   ],
   "metadata": {}
  },
  {
   "cell_type": "code",
   "execution_count": 178,
   "source": [
    "X.isna().sum()       #How many NaN\r\n",
    "\r\n"
   ],
   "outputs": [
    {
     "output_type": "execute_result",
     "data": {
      "text/plain": [
       "age                                          0\n",
       "pus                                          0\n",
       "itch                                         0\n",
       "size                                         0\n",
       "shape                                        0\n",
       "                                            ..\n",
       "is_secondary_locations_upper_arm_external    0\n",
       "is_secondary_locations_upper_arm_internal    0\n",
       "is_secondary_locations_vaginal_region        0\n",
       "is_secondary_locations_wrist_external        0\n",
       "is_secondary_locations_wrist_internal        0\n",
       "Length: 107, dtype: int64"
      ]
     },
     "metadata": {},
     "execution_count": 178
    }
   ],
   "metadata": {}
  },
  {
   "cell_type": "code",
   "execution_count": 179,
   "source": [
    "X[['pain.pain_type', 'location.coverage']].head(10)    # columns with missing data"
   ],
   "outputs": [
    {
     "output_type": "execute_result",
     "data": {
      "text/html": [
       "<div>\n",
       "<style scoped>\n",
       "    .dataframe tbody tr th:only-of-type {\n",
       "        vertical-align: middle;\n",
       "    }\n",
       "\n",
       "    .dataframe tbody tr th {\n",
       "        vertical-align: top;\n",
       "    }\n",
       "\n",
       "    .dataframe thead th {\n",
       "        text-align: right;\n",
       "    }\n",
       "</style>\n",
       "<table border=\"1\" class=\"dataframe\">\n",
       "  <thead>\n",
       "    <tr style=\"text-align: right;\">\n",
       "      <th></th>\n",
       "      <th>pain.pain_type</th>\n",
       "      <th>location.coverage</th>\n",
       "    </tr>\n",
       "  </thead>\n",
       "  <tbody>\n",
       "    <tr>\n",
       "      <th>0</th>\n",
       "      <td>NaN</td>\n",
       "      <td>NaN</td>\n",
       "    </tr>\n",
       "    <tr>\n",
       "      <th>1</th>\n",
       "      <td>on_pressure</td>\n",
       "      <td>part</td>\n",
       "    </tr>\n",
       "    <tr>\n",
       "      <th>2</th>\n",
       "      <td>on_pressure</td>\n",
       "      <td>NaN</td>\n",
       "    </tr>\n",
       "    <tr>\n",
       "      <th>3</th>\n",
       "      <td>NaN</td>\n",
       "      <td>NaN</td>\n",
       "    </tr>\n",
       "    <tr>\n",
       "      <th>4</th>\n",
       "      <td>NaN</td>\n",
       "      <td>NaN</td>\n",
       "    </tr>\n",
       "    <tr>\n",
       "      <th>5</th>\n",
       "      <td>NaN</td>\n",
       "      <td>NaN</td>\n",
       "    </tr>\n",
       "    <tr>\n",
       "      <th>6</th>\n",
       "      <td>NaN</td>\n",
       "      <td>NaN</td>\n",
       "    </tr>\n",
       "    <tr>\n",
       "      <th>7</th>\n",
       "      <td>NaN</td>\n",
       "      <td>NaN</td>\n",
       "    </tr>\n",
       "    <tr>\n",
       "      <th>8</th>\n",
       "      <td>NaN</td>\n",
       "      <td>NaN</td>\n",
       "    </tr>\n",
       "    <tr>\n",
       "      <th>9</th>\n",
       "      <td>NaN</td>\n",
       "      <td>NaN</td>\n",
       "    </tr>\n",
       "  </tbody>\n",
       "</table>\n",
       "</div>"
      ],
      "text/plain": [
       "  pain.pain_type location.coverage\n",
       "0            NaN               NaN\n",
       "1    on_pressure              part\n",
       "2    on_pressure               NaN\n",
       "3            NaN               NaN\n",
       "4            NaN               NaN\n",
       "5            NaN               NaN\n",
       "6            NaN               NaN\n",
       "7            NaN               NaN\n",
       "8            NaN               NaN\n",
       "9            NaN               NaN"
      ]
     },
     "metadata": {},
     "execution_count": 179
    }
   ],
   "metadata": {}
  },
  {
   "cell_type": "code",
   "execution_count": 180,
   "source": [
    "X[['pain.pain_type', 'location.coverage']].isna().sum()    # count how many is NaN"
   ],
   "outputs": [
    {
     "output_type": "execute_result",
     "data": {
      "text/plain": [
       "pain.pain_type       746\n",
       "location.coverage    845\n",
       "dtype: int64"
      ]
     },
     "metadata": {},
     "execution_count": 180
    }
   ],
   "metadata": {}
  },
  {
   "cell_type": "markdown",
   "source": [
    "## drop features with missing data"
   ],
   "metadata": {}
  },
  {
   "cell_type": "code",
   "execution_count": 184,
   "source": [
    "#Drop dataframe columns based on NaN percentage\r\n",
    "# Delete columns containing mor than 50%  NaN Values\r\n",
    "#Keep only the rows with at least 50% non-NA values.\r\n",
    "data = data.dropna( axis=1, thresh=450)\r\n",
    "data.head(10)\r\n"
   ],
   "outputs": [
    {
     "output_type": "execute_result",
     "data": {
      "text/html": [
       "<div>\n",
       "<style scoped>\n",
       "    .dataframe tbody tr th:only-of-type {\n",
       "        vertical-align: middle;\n",
       "    }\n",
       "\n",
       "    .dataframe tbody tr th {\n",
       "        vertical-align: top;\n",
       "    }\n",
       "\n",
       "    .dataframe thead th {\n",
       "        text-align: right;\n",
       "    }\n",
       "</style>\n",
       "<table border=\"1\" class=\"dataframe\">\n",
       "  <thead>\n",
       "    <tr style=\"text-align: right;\">\n",
       "      <th></th>\n",
       "      <th>age</th>\n",
       "      <th>pus</th>\n",
       "      <th>itch</th>\n",
       "      <th>size</th>\n",
       "      <th>shape</th>\n",
       "      <th>crater</th>\n",
       "      <th>gender</th>\n",
       "      <th>vesicle</th>\n",
       "      <th>bleeding</th>\n",
       "      <th>quantity</th>\n",
       "      <th>...</th>\n",
       "      <th>is_secondary_locations_toes</th>\n",
       "      <th>is_secondary_locations_toes_external</th>\n",
       "      <th>is_secondary_locations_toes_internal</th>\n",
       "      <th>is_secondary_locations_tongue</th>\n",
       "      <th>is_secondary_locations_upper_arm_external</th>\n",
       "      <th>is_secondary_locations_upper_arm_internal</th>\n",
       "      <th>is_secondary_locations_vaginal_region</th>\n",
       "      <th>is_secondary_locations_wrist_external</th>\n",
       "      <th>is_secondary_locations_wrist_internal</th>\n",
       "      <th>diagnosis</th>\n",
       "    </tr>\n",
       "  </thead>\n",
       "  <tbody>\n",
       "    <tr>\n",
       "      <th>0</th>\n",
       "      <td>34.0</td>\n",
       "      <td>False</td>\n",
       "      <td>False</td>\n",
       "      <td>pea</td>\n",
       "      <td>round</td>\n",
       "      <td>False</td>\n",
       "      <td>female</td>\n",
       "      <td>False</td>\n",
       "      <td>False</td>\n",
       "      <td>multiple</td>\n",
       "      <td>...</td>\n",
       "      <td>False</td>\n",
       "      <td>False</td>\n",
       "      <td>False</td>\n",
       "      <td>False</td>\n",
       "      <td>False</td>\n",
       "      <td>False</td>\n",
       "      <td>False</td>\n",
       "      <td>False</td>\n",
       "      <td>True</td>\n",
       "      <td>eczema uns</td>\n",
       "    </tr>\n",
       "    <tr>\n",
       "      <th>1</th>\n",
       "      <td>41.0</td>\n",
       "      <td>False</td>\n",
       "      <td>False</td>\n",
       "      <td>unknown</td>\n",
       "      <td>unknown</td>\n",
       "      <td>False</td>\n",
       "      <td>female</td>\n",
       "      <td>False</td>\n",
       "      <td>False</td>\n",
       "      <td>unknown</td>\n",
       "      <td>...</td>\n",
       "      <td>False</td>\n",
       "      <td>False</td>\n",
       "      <td>False</td>\n",
       "      <td>False</td>\n",
       "      <td>False</td>\n",
       "      <td>False</td>\n",
       "      <td>False</td>\n",
       "      <td>False</td>\n",
       "      <td>False</td>\n",
       "      <td>contact dermatitis</td>\n",
       "    </tr>\n",
       "    <tr>\n",
       "      <th>2</th>\n",
       "      <td>25.0</td>\n",
       "      <td>False</td>\n",
       "      <td>False</td>\n",
       "      <td>pea</td>\n",
       "      <td>non-round</td>\n",
       "      <td>False</td>\n",
       "      <td>male</td>\n",
       "      <td>False</td>\n",
       "      <td>False</td>\n",
       "      <td>multiple</td>\n",
       "      <td>...</td>\n",
       "      <td>False</td>\n",
       "      <td>False</td>\n",
       "      <td>False</td>\n",
       "      <td>False</td>\n",
       "      <td>False</td>\n",
       "      <td>False</td>\n",
       "      <td>False</td>\n",
       "      <td>False</td>\n",
       "      <td>False</td>\n",
       "      <td>verruca vulgaris</td>\n",
       "    </tr>\n",
       "    <tr>\n",
       "      <th>3</th>\n",
       "      <td>49.0</td>\n",
       "      <td>False</td>\n",
       "      <td>True</td>\n",
       "      <td>&gt;palm</td>\n",
       "      <td>round</td>\n",
       "      <td>False</td>\n",
       "      <td>female</td>\n",
       "      <td>False</td>\n",
       "      <td>False</td>\n",
       "      <td>multiple</td>\n",
       "      <td>...</td>\n",
       "      <td>False</td>\n",
       "      <td>False</td>\n",
       "      <td>False</td>\n",
       "      <td>False</td>\n",
       "      <td>False</td>\n",
       "      <td>False</td>\n",
       "      <td>False</td>\n",
       "      <td>False</td>\n",
       "      <td>False</td>\n",
       "      <td>tinea versicolor</td>\n",
       "    </tr>\n",
       "    <tr>\n",
       "      <th>4</th>\n",
       "      <td>21.0</td>\n",
       "      <td>False</td>\n",
       "      <td>False</td>\n",
       "      <td>pea</td>\n",
       "      <td>round</td>\n",
       "      <td>False</td>\n",
       "      <td>female</td>\n",
       "      <td>False</td>\n",
       "      <td>False</td>\n",
       "      <td>clustered</td>\n",
       "      <td>...</td>\n",
       "      <td>False</td>\n",
       "      <td>False</td>\n",
       "      <td>False</td>\n",
       "      <td>False</td>\n",
       "      <td>False</td>\n",
       "      <td>False</td>\n",
       "      <td>False</td>\n",
       "      <td>False</td>\n",
       "      <td>False</td>\n",
       "      <td>seborrheic dermatitis</td>\n",
       "    </tr>\n",
       "    <tr>\n",
       "      <th>5</th>\n",
       "      <td>22.0</td>\n",
       "      <td>False</td>\n",
       "      <td>False</td>\n",
       "      <td>pea</td>\n",
       "      <td>round</td>\n",
       "      <td>False</td>\n",
       "      <td>female</td>\n",
       "      <td>False</td>\n",
       "      <td>False</td>\n",
       "      <td>clustered</td>\n",
       "      <td>...</td>\n",
       "      <td>False</td>\n",
       "      <td>False</td>\n",
       "      <td>False</td>\n",
       "      <td>False</td>\n",
       "      <td>False</td>\n",
       "      <td>False</td>\n",
       "      <td>False</td>\n",
       "      <td>False</td>\n",
       "      <td>False</td>\n",
       "      <td>acne vulgaris</td>\n",
       "    </tr>\n",
       "    <tr>\n",
       "      <th>6</th>\n",
       "      <td>52.0</td>\n",
       "      <td>False</td>\n",
       "      <td>True</td>\n",
       "      <td>handwatch</td>\n",
       "      <td>round</td>\n",
       "      <td>False</td>\n",
       "      <td>male</td>\n",
       "      <td>False</td>\n",
       "      <td>False</td>\n",
       "      <td>single</td>\n",
       "      <td>...</td>\n",
       "      <td>False</td>\n",
       "      <td>False</td>\n",
       "      <td>False</td>\n",
       "      <td>False</td>\n",
       "      <td>False</td>\n",
       "      <td>False</td>\n",
       "      <td>False</td>\n",
       "      <td>False</td>\n",
       "      <td>False</td>\n",
       "      <td>psoriasis</td>\n",
       "    </tr>\n",
       "    <tr>\n",
       "      <th>7</th>\n",
       "      <td>12.0</td>\n",
       "      <td>False</td>\n",
       "      <td>False</td>\n",
       "      <td>handwatch</td>\n",
       "      <td>round</td>\n",
       "      <td>False</td>\n",
       "      <td>female</td>\n",
       "      <td>False</td>\n",
       "      <td>False</td>\n",
       "      <td>single</td>\n",
       "      <td>...</td>\n",
       "      <td>False</td>\n",
       "      <td>False</td>\n",
       "      <td>False</td>\n",
       "      <td>False</td>\n",
       "      <td>False</td>\n",
       "      <td>False</td>\n",
       "      <td>False</td>\n",
       "      <td>False</td>\n",
       "      <td>False</td>\n",
       "      <td>folliculitis</td>\n",
       "    </tr>\n",
       "    <tr>\n",
       "      <th>8</th>\n",
       "      <td>37.0</td>\n",
       "      <td>False</td>\n",
       "      <td>True</td>\n",
       "      <td>pea</td>\n",
       "      <td>round</td>\n",
       "      <td>True</td>\n",
       "      <td>female</td>\n",
       "      <td>False</td>\n",
       "      <td>False</td>\n",
       "      <td>single</td>\n",
       "      <td>...</td>\n",
       "      <td>False</td>\n",
       "      <td>False</td>\n",
       "      <td>False</td>\n",
       "      <td>False</td>\n",
       "      <td>False</td>\n",
       "      <td>False</td>\n",
       "      <td>False</td>\n",
       "      <td>False</td>\n",
       "      <td>False</td>\n",
       "      <td>insect bite</td>\n",
       "    </tr>\n",
       "    <tr>\n",
       "      <th>9</th>\n",
       "      <td>55.0</td>\n",
       "      <td>False</td>\n",
       "      <td>True</td>\n",
       "      <td>&gt;palm</td>\n",
       "      <td>non-round</td>\n",
       "      <td>False</td>\n",
       "      <td>female</td>\n",
       "      <td>True</td>\n",
       "      <td>False</td>\n",
       "      <td>multiple</td>\n",
       "      <td>...</td>\n",
       "      <td>False</td>\n",
       "      <td>False</td>\n",
       "      <td>False</td>\n",
       "      <td>False</td>\n",
       "      <td>True</td>\n",
       "      <td>False</td>\n",
       "      <td>False</td>\n",
       "      <td>False</td>\n",
       "      <td>False</td>\n",
       "      <td>urticaria</td>\n",
       "    </tr>\n",
       "  </tbody>\n",
       "</table>\n",
       "<p>10 rows × 106 columns</p>\n",
       "</div>"
      ],
      "text/plain": [
       "    age    pus   itch       size      shape  crater  gender  vesicle  \\\n",
       "0  34.0  False  False        pea      round   False  female    False   \n",
       "1  41.0  False  False    unknown    unknown   False  female    False   \n",
       "2  25.0  False  False        pea  non-round   False    male    False   \n",
       "3  49.0  False   True      >palm      round   False  female    False   \n",
       "4  21.0  False  False        pea      round   False  female    False   \n",
       "5  22.0  False  False        pea      round   False  female    False   \n",
       "6  52.0  False   True  handwatch      round   False    male    False   \n",
       "7  12.0  False  False  handwatch      round   False  female    False   \n",
       "8  37.0  False   True        pea      round    True  female    False   \n",
       "9  55.0  False   True      >palm  non-round   False  female     True   \n",
       "\n",
       "   bleeding   quantity  ...  is_secondary_locations_toes  \\\n",
       "0     False   multiple  ...                        False   \n",
       "1     False    unknown  ...                        False   \n",
       "2     False   multiple  ...                        False   \n",
       "3     False   multiple  ...                        False   \n",
       "4     False  clustered  ...                        False   \n",
       "5     False  clustered  ...                        False   \n",
       "6     False     single  ...                        False   \n",
       "7     False     single  ...                        False   \n",
       "8     False     single  ...                        False   \n",
       "9     False   multiple  ...                        False   \n",
       "\n",
       "  is_secondary_locations_toes_external  is_secondary_locations_toes_internal  \\\n",
       "0                                False                                 False   \n",
       "1                                False                                 False   \n",
       "2                                False                                 False   \n",
       "3                                False                                 False   \n",
       "4                                False                                 False   \n",
       "5                                False                                 False   \n",
       "6                                False                                 False   \n",
       "7                                False                                 False   \n",
       "8                                False                                 False   \n",
       "9                                False                                 False   \n",
       "\n",
       "   is_secondary_locations_tongue  is_secondary_locations_upper_arm_external  \\\n",
       "0                          False                                      False   \n",
       "1                          False                                      False   \n",
       "2                          False                                      False   \n",
       "3                          False                                      False   \n",
       "4                          False                                      False   \n",
       "5                          False                                      False   \n",
       "6                          False                                      False   \n",
       "7                          False                                      False   \n",
       "8                          False                                      False   \n",
       "9                          False                                       True   \n",
       "\n",
       "   is_secondary_locations_upper_arm_internal  \\\n",
       "0                                      False   \n",
       "1                                      False   \n",
       "2                                      False   \n",
       "3                                      False   \n",
       "4                                      False   \n",
       "5                                      False   \n",
       "6                                      False   \n",
       "7                                      False   \n",
       "8                                      False   \n",
       "9                                      False   \n",
       "\n",
       "  is_secondary_locations_vaginal_region  \\\n",
       "0                                 False   \n",
       "1                                 False   \n",
       "2                                 False   \n",
       "3                                 False   \n",
       "4                                 False   \n",
       "5                                 False   \n",
       "6                                 False   \n",
       "7                                 False   \n",
       "8                                 False   \n",
       "9                                 False   \n",
       "\n",
       "   is_secondary_locations_wrist_external  \\\n",
       "0                                  False   \n",
       "1                                  False   \n",
       "2                                  False   \n",
       "3                                  False   \n",
       "4                                  False   \n",
       "5                                  False   \n",
       "6                                  False   \n",
       "7                                  False   \n",
       "8                                  False   \n",
       "9                                  False   \n",
       "\n",
       "   is_secondary_locations_wrist_internal              diagnosis  \n",
       "0                                   True             eczema uns  \n",
       "1                                  False     contact dermatitis  \n",
       "2                                  False       verruca vulgaris  \n",
       "3                                  False       tinea versicolor  \n",
       "4                                  False  seborrheic dermatitis  \n",
       "5                                  False          acne vulgaris  \n",
       "6                                  False              psoriasis  \n",
       "7                                  False           folliculitis  \n",
       "8                                  False            insect bite  \n",
       "9                                  False              urticaria  \n",
       "\n",
       "[10 rows x 106 columns]"
      ]
     },
     "metadata": {},
     "execution_count": 184
    }
   ],
   "metadata": {}
  },
  {
   "cell_type": "markdown",
   "source": [
    "# drop the columns which only have a single unique value:"
   ],
   "metadata": {}
  },
  {
   "cell_type": "code",
   "execution_count": 246,
   "source": [
    "# drop the columns which only have a single unique value:\r\n",
    "nunique = data.nunique()\r\n",
    "cols_to_drop = nunique[nunique == 1].index\r\n",
    "cols_to_drop\r\n",
    "data = data.drop(cols_to_drop, axis=1)\r\n",
    "data.head()"
   ],
   "outputs": [
    {
     "output_type": "execute_result",
     "data": {
      "text/html": [
       "<div>\n",
       "<style scoped>\n",
       "    .dataframe tbody tr th:only-of-type {\n",
       "        vertical-align: middle;\n",
       "    }\n",
       "\n",
       "    .dataframe tbody tr th {\n",
       "        vertical-align: top;\n",
       "    }\n",
       "\n",
       "    .dataframe thead th {\n",
       "        text-align: right;\n",
       "    }\n",
       "</style>\n",
       "<table border=\"1\" class=\"dataframe\">\n",
       "  <thead>\n",
       "    <tr style=\"text-align: right;\">\n",
       "      <th></th>\n",
       "      <th>age</th>\n",
       "      <th>pus</th>\n",
       "      <th>itch</th>\n",
       "      <th>size</th>\n",
       "      <th>shape</th>\n",
       "      <th>crater</th>\n",
       "      <th>gender</th>\n",
       "      <th>vesicle</th>\n",
       "      <th>bleeding</th>\n",
       "      <th>quantity</th>\n",
       "      <th>...</th>\n",
       "      <th>is_secondary_locations_thigh_external</th>\n",
       "      <th>is_secondary_locations_thigh_internal</th>\n",
       "      <th>is_secondary_locations_toes</th>\n",
       "      <th>is_secondary_locations_tongue</th>\n",
       "      <th>is_secondary_locations_upper_arm_external</th>\n",
       "      <th>is_secondary_locations_upper_arm_internal</th>\n",
       "      <th>is_secondary_locations_vaginal_region</th>\n",
       "      <th>is_secondary_locations_wrist_external</th>\n",
       "      <th>is_secondary_locations_wrist_internal</th>\n",
       "      <th>diagnosis</th>\n",
       "    </tr>\n",
       "  </thead>\n",
       "  <tbody>\n",
       "    <tr>\n",
       "      <th>0</th>\n",
       "      <td>34.0</td>\n",
       "      <td>False</td>\n",
       "      <td>False</td>\n",
       "      <td>pea</td>\n",
       "      <td>round</td>\n",
       "      <td>False</td>\n",
       "      <td>female</td>\n",
       "      <td>False</td>\n",
       "      <td>False</td>\n",
       "      <td>multiple</td>\n",
       "      <td>...</td>\n",
       "      <td>False</td>\n",
       "      <td>False</td>\n",
       "      <td>False</td>\n",
       "      <td>False</td>\n",
       "      <td>False</td>\n",
       "      <td>False</td>\n",
       "      <td>False</td>\n",
       "      <td>False</td>\n",
       "      <td>True</td>\n",
       "      <td>4</td>\n",
       "    </tr>\n",
       "    <tr>\n",
       "      <th>1</th>\n",
       "      <td>41.0</td>\n",
       "      <td>False</td>\n",
       "      <td>False</td>\n",
       "      <td>unknown</td>\n",
       "      <td>unknown</td>\n",
       "      <td>False</td>\n",
       "      <td>female</td>\n",
       "      <td>False</td>\n",
       "      <td>False</td>\n",
       "      <td>unknown</td>\n",
       "      <td>...</td>\n",
       "      <td>False</td>\n",
       "      <td>False</td>\n",
       "      <td>False</td>\n",
       "      <td>False</td>\n",
       "      <td>False</td>\n",
       "      <td>False</td>\n",
       "      <td>False</td>\n",
       "      <td>False</td>\n",
       "      <td>False</td>\n",
       "      <td>3</td>\n",
       "    </tr>\n",
       "    <tr>\n",
       "      <th>2</th>\n",
       "      <td>25.0</td>\n",
       "      <td>False</td>\n",
       "      <td>False</td>\n",
       "      <td>pea</td>\n",
       "      <td>non-round</td>\n",
       "      <td>False</td>\n",
       "      <td>male</td>\n",
       "      <td>False</td>\n",
       "      <td>False</td>\n",
       "      <td>multiple</td>\n",
       "      <td>...</td>\n",
       "      <td>False</td>\n",
       "      <td>False</td>\n",
       "      <td>False</td>\n",
       "      <td>False</td>\n",
       "      <td>False</td>\n",
       "      <td>False</td>\n",
       "      <td>False</td>\n",
       "      <td>False</td>\n",
       "      <td>False</td>\n",
       "      <td>26</td>\n",
       "    </tr>\n",
       "    <tr>\n",
       "      <th>3</th>\n",
       "      <td>49.0</td>\n",
       "      <td>False</td>\n",
       "      <td>True</td>\n",
       "      <td>&gt;palm</td>\n",
       "      <td>round</td>\n",
       "      <td>False</td>\n",
       "      <td>female</td>\n",
       "      <td>False</td>\n",
       "      <td>False</td>\n",
       "      <td>multiple</td>\n",
       "      <td>...</td>\n",
       "      <td>False</td>\n",
       "      <td>False</td>\n",
       "      <td>False</td>\n",
       "      <td>False</td>\n",
       "      <td>False</td>\n",
       "      <td>False</td>\n",
       "      <td>False</td>\n",
       "      <td>False</td>\n",
       "      <td>False</td>\n",
       "      <td>24</td>\n",
       "    </tr>\n",
       "    <tr>\n",
       "      <th>4</th>\n",
       "      <td>21.0</td>\n",
       "      <td>False</td>\n",
       "      <td>False</td>\n",
       "      <td>pea</td>\n",
       "      <td>round</td>\n",
       "      <td>False</td>\n",
       "      <td>female</td>\n",
       "      <td>False</td>\n",
       "      <td>False</td>\n",
       "      <td>clustered</td>\n",
       "      <td>...</td>\n",
       "      <td>False</td>\n",
       "      <td>False</td>\n",
       "      <td>False</td>\n",
       "      <td>False</td>\n",
       "      <td>False</td>\n",
       "      <td>False</td>\n",
       "      <td>False</td>\n",
       "      <td>False</td>\n",
       "      <td>False</td>\n",
       "      <td>20</td>\n",
       "    </tr>\n",
       "  </tbody>\n",
       "</table>\n",
       "<p>5 rows × 96 columns</p>\n",
       "</div>"
      ],
      "text/plain": [
       "    age    pus   itch     size      shape  crater  gender  vesicle  bleeding  \\\n",
       "0  34.0  False  False      pea      round   False  female    False     False   \n",
       "1  41.0  False  False  unknown    unknown   False  female    False     False   \n",
       "2  25.0  False  False      pea  non-round   False    male    False     False   \n",
       "3  49.0  False   True    >palm      round   False  female    False     False   \n",
       "4  21.0  False  False      pea      round   False  female    False     False   \n",
       "\n",
       "    quantity  ...  is_secondary_locations_thigh_external  \\\n",
       "0   multiple  ...                                  False   \n",
       "1    unknown  ...                                  False   \n",
       "2   multiple  ...                                  False   \n",
       "3   multiple  ...                                  False   \n",
       "4  clustered  ...                                  False   \n",
       "\n",
       "  is_secondary_locations_thigh_internal  is_secondary_locations_toes  \\\n",
       "0                                 False                        False   \n",
       "1                                 False                        False   \n",
       "2                                 False                        False   \n",
       "3                                 False                        False   \n",
       "4                                 False                        False   \n",
       "\n",
       "   is_secondary_locations_tongue  is_secondary_locations_upper_arm_external  \\\n",
       "0                          False                                      False   \n",
       "1                          False                                      False   \n",
       "2                          False                                      False   \n",
       "3                          False                                      False   \n",
       "4                          False                                      False   \n",
       "\n",
       "  is_secondary_locations_upper_arm_internal  \\\n",
       "0                                     False   \n",
       "1                                     False   \n",
       "2                                     False   \n",
       "3                                     False   \n",
       "4                                     False   \n",
       "\n",
       "   is_secondary_locations_vaginal_region  \\\n",
       "0                                  False   \n",
       "1                                  False   \n",
       "2                                  False   \n",
       "3                                  False   \n",
       "4                                  False   \n",
       "\n",
       "   is_secondary_locations_wrist_external  \\\n",
       "0                                  False   \n",
       "1                                  False   \n",
       "2                                  False   \n",
       "3                                  False   \n",
       "4                                  False   \n",
       "\n",
       "   is_secondary_locations_wrist_internal  diagnosis  \n",
       "0                                   True          4  \n",
       "1                                  False          3  \n",
       "2                                  False         26  \n",
       "3                                  False         24  \n",
       "4                                  False         20  \n",
       "\n",
       "[5 rows x 96 columns]"
      ]
     },
     "metadata": {},
     "execution_count": 246
    }
   ],
   "metadata": {}
  },
  {
   "cell_type": "markdown",
   "source": [
    "# devide columns according to dtype"
   ],
   "metadata": {}
  },
  {
   "cell_type": "code",
   "execution_count": 247,
   "source": [
    "obj_columns = data.select_dtypes(include=['object', 'bool']).columns\r\n",
    "print(obj_columns)\r\n",
    "num_columns = data.select_dtypes(include=['float64']).columns\r\n",
    "print(num_columns)\r\n",
    "# bool_columns = data.select_dtypes(include=['bool']).columns\r\n",
    "# bool_columns"
   ],
   "outputs": [
    {
     "output_type": "stream",
     "name": "stdout",
     "text": [
      "Index(['pus', 'itch', 'size', 'shape', 'crater', 'gender', 'vesicle',\n",
      "       'bleeding', 'quantity', 'swelling', 'topography', 'pain.is_pain',\n",
      "       'lossOfHair.type', 'lossOfHair.exist', 'is_texture_cracks',\n",
      "       'is_texture_dry', 'is_texture_exfoliation', 'is_texture_not_sure',\n",
      "       'is_texture_scales', 'is_texture_wet', 'is_color_condition_black',\n",
      "       'is_color_condition_blue', 'is_color_condition_brown',\n",
      "       'is_color_condition_green', 'is_color_condition_grey',\n",
      "       'is_color_condition_normal', 'is_color_condition_purple',\n",
      "       'is_color_condition_red', 'is_color_condition_white',\n",
      "       'is_color_condition_yellow', 'is_nailsdiseases_beau_s_lines',\n",
      "       'is_nailsdiseases_clubbing', 'is_nailsdiseases_koilonychia__spooning_',\n",
      "       'is_nailsdiseases_onycholysis', 'is_nailsdiseases_onychomycosis',\n",
      "       'is_nailsdiseases_pitting', 'is_nailsdiseases_terry_s_nails',\n",
      "       'is_nailsdiseases_yellow_nail_syndrome', 'is_primary_locations_arm',\n",
      "       'is_primary_locations_back', 'is_primary_locations_chest',\n",
      "       'is_primary_locations_groin_area', 'is_primary_locations_head',\n",
      "       'is_primary_locations_leg', 'is_secondary_locations_abdomen',\n",
      "       'is_secondary_locations_armpit', 'is_secondary_locations_back',\n",
      "       'is_secondary_locations_buttock', 'is_secondary_locations_cheeks',\n",
      "       'is_secondary_locations_chest', 'is_secondary_locations_chin',\n",
      "       'is_secondary_locations_ear', 'is_secondary_locations_elbow',\n",
      "       'is_secondary_locations_elbow_pit', 'is_secondary_locations_eye',\n",
      "       'is_secondary_locations_eyebrow', 'is_secondary_locations_eyelid',\n",
      "       'is_secondary_locations_fingers',\n",
      "       'is_secondary_locations_foot_external',\n",
      "       'is_secondary_locations_foot_internal',\n",
      "       'is_secondary_locations_forearm_external',\n",
      "       'is_secondary_locations_forearm_internal',\n",
      "       'is_secondary_locations_forehead', 'is_secondary_locations_gingiva',\n",
      "       'is_secondary_locations_groins', 'is_secondary_locations_hand_external',\n",
      "       'is_secondary_locations_hand_internal', 'is_secondary_locations_knee',\n",
      "       'is_secondary_locations_kneepit', 'is_secondary_locations_lips',\n",
      "       'is_secondary_locations_nails', 'is_secondary_locations_navel',\n",
      "       'is_secondary_locations_neck', 'is_secondary_locations_nose',\n",
      "       'is_secondary_locations_penis', 'is_secondary_locations_perioral',\n",
      "       'is_secondary_locations_pubes', 'is_secondary_locations_rear_neck',\n",
      "       'is_secondary_locations_scalp', 'is_secondary_locations_scrotum',\n",
      "       'is_secondary_locations_shin_external',\n",
      "       'is_secondary_locations_shin_internal',\n",
      "       'is_secondary_locations_shoulders',\n",
      "       'is_secondary_locations_thigh_external',\n",
      "       'is_secondary_locations_thigh_internal', 'is_secondary_locations_toes',\n",
      "       'is_secondary_locations_tongue',\n",
      "       'is_secondary_locations_upper_arm_external',\n",
      "       'is_secondary_locations_upper_arm_internal',\n",
      "       'is_secondary_locations_vaginal_region',\n",
      "       'is_secondary_locations_wrist_external',\n",
      "       'is_secondary_locations_wrist_internal'],\n",
      "      dtype='object')\n",
      "Index(['age', 'temperature', 'duration.days'], dtype='object')\n"
     ]
    }
   ],
   "metadata": {}
  },
  {
   "cell_type": "markdown",
   "source": [
    "# Encoding the target"
   ],
   "metadata": {}
  },
  {
   "cell_type": "code",
   "execution_count": 196,
   "source": [
    "# Encode TARGET  features\r\n",
    "#LabelEncode Target\r\n",
    "from sklearn.preprocessing import LabelEncoder\r\n",
    "le = LabelEncoder()                                                     # initialize\r\n",
    "data['diagnosis'] = le.fit_transform(data['diagnosis'])\r\n",
    "y_name_mapping = dict(zip(le.fit_transform(le.classes_), le.classes_))  #translation of the encoding\r\n",
    "y_name_mapping\r\n",
    "  "
   ],
   "outputs": [
    {
     "output_type": "execute_result",
     "data": {
      "text/plain": [
       "{0: 'acne vulgaris',\n",
       " 1: 'actinic keratosis',\n",
       " 2: 'alopecia',\n",
       " 3: 'contact dermatitis',\n",
       " 4: 'eczema uns',\n",
       " 5: 'folliculitis',\n",
       " 6: 'hematoma uns',\n",
       " 7: 'herpes simplex',\n",
       " 8: 'insect bite',\n",
       " 9: 'intertrigo',\n",
       " 10: 'keratosis pilaris',\n",
       " 11: 'melasma',\n",
       " 12: 'molluscum contagiosum',\n",
       " 13: 'onychomycosis',\n",
       " 14: 'paronychia finger',\n",
       " 15: 'pityriasis rosea',\n",
       " 16: 'post inflammatory hyperpigmentation',\n",
       " 17: 'psoriasis',\n",
       " 18: 'rosacea',\n",
       " 19: 'scar',\n",
       " 20: 'seborrheic dermatitis',\n",
       " 21: 'seborrheic keratosis',\n",
       " 22: 'skin tag',\n",
       " 23: 'tinea pedis',\n",
       " 24: 'tinea versicolor',\n",
       " 25: 'urticaria',\n",
       " 26: 'verruca vulgaris',\n",
       " 27: 'viral exanthem uns',\n",
       " 28: 'vitiligo',\n",
       " 29: 'xerosis cutis'}"
      ]
     },
     "metadata": {},
     "execution_count": 196
    }
   ],
   "metadata": {}
  },
  {
   "cell_type": "markdown",
   "source": [
    "# looking at numerical data"
   ],
   "metadata": {}
  },
  {
   "cell_type": "code",
   "execution_count": 207,
   "source": [
    "import seaborn as sns\r\n",
    "import matplotlib.pyplot as plt\r\n",
    "ax = sns.boxplot(x='diagnosis', y='age', data=data)\r\n",
    "#plt.xticks(rotation=45)"
   ],
   "outputs": [
    {
     "output_type": "display_data",
     "data": {
      "image/png": "[encoded data removed]",
      "text/plain": [
       "<Figure size 432x288 with 1 Axes>"
      ]
     },
     "metadata": {
      "needs_background": "light"
     }
    }
   ],
   "metadata": {}
  },
  {
   "cell_type": "code",
   "execution_count": 237,
   "source": [
    "ax = sns.boxplot(x='diagnosis', y='duration.days', data=data)"
   ],
   "outputs": [
    {
     "output_type": "display_data",
     "data": {
      "image/png": "[encoded data removed]",
      "text/plain": [
       "<Figure size 432x288 with 1 Axes>"
      ]
     },
     "metadata": {
      "needs_background": "light"
     }
    }
   ],
   "metadata": {}
  },
  {
   "cell_type": "markdown",
   "source": [
    "## Transform and Create a pipeline"
   ],
   "metadata": {}
  },
  {
   "cell_type": "code",
   "execution_count": 228,
   "source": [
    "# for pipeline\r\n",
    "from sklearn.pipeline import make_pipeline\r\n",
    "from sklearn.compose import make_column_transformer\r\n",
    "from sklearn.preprocessing import KBinsDiscretizer\r\n",
    "# make transformer\r\n",
    "column_trans = make_column_transformer(\r\n",
    "    (KBinsDiscretizer(n_bins=8), ['age']),          # creates bins fo  numerical features\r\n",
    "    (OneHotEncoder(), obj_columns), remainder='passthrough')\r\n",
    "column_trans.fit_transform(X)\r\n"
   ],
   "outputs": [
    {
     "output_type": "execute_result",
     "data": {
      "text/plain": [
       "array([[  0. ,   0. ,   0. , ...,   1. ,  36.6, 365. ],\n",
       "       [  0. ,   0. ,   0. , ...,   0. ,  36.6,  60. ],\n",
       "       [  0. ,   0. ,   0. , ...,   0. ,  36.6,  14. ],\n",
       "       ...,\n",
       "       [  0. ,   0. ,   0. , ...,   0. ,  36.6, 365. ],\n",
       "       [  0. ,   0. ,   0. , ...,   0. ,  36.6,  14. ],\n",
       "       [  0. ,   0. ,   0. , ...,   0. ,  36.6,   1. ]])"
      ]
     },
     "metadata": {},
     "execution_count": 228
    }
   ],
   "metadata": {}
  },
  {
   "cell_type": "code",
   "execution_count": 242,
   "source": [
    "sns.pairplot(data, x_vars=['is_secondary_locations_thigh_internal', 'is_secondary_locations_toes',\r\n",
    "       'is_secondary_locations_toes_external',\r\n",
    "       'is_secondary_locations_toes_internal', 'is_secondary_locations_tongue',\r\n",
    "       'is_secondary_locations_upper_arm_external'], y_vars=['diagnosis'], hue=\"gender\")"
   ],
   "outputs": [
    {
     "output_type": "execute_result",
     "data": {
      "text/plain": [
       "<seaborn.axisgrid.PairGrid at 0x2970a8d60d0>"
      ]
     },
     "metadata": {},
     "execution_count": 242
    },
    {
     "output_type": "display_data",
     "data": {
      "image/png": "[encoded data removed]",
      "text/plain": [
       "<Figure size 1150.5x180 with 6 Axes>"
      ]
     },
     "metadata": {
      "needs_background": "light"
     }
    }
   ],
   "metadata": {}
  },
  {
   "cell_type": "code",
   "execution_count": 238,
   "source": [
    "g = sns.FacetGrid(data, col=\"duration.days\", hue=\"gender\")\r\n",
    "g.map(sns.scatterplot, \"diagnosis\", \"duration.days\", alpha=.7)\r\n",
    "g.add_legend()"
   ],
   "outputs": [
    {
     "output_type": "execute_result",
     "data": {
      "text/plain": [
       "<seaborn.axisgrid.FacetGrid at 0x296f41fd460>"
      ]
     },
     "metadata": {},
     "execution_count": 238
    },
    {
     "output_type": "display_data",
     "data": {
      "image/png": "[encoded data removed]",
      "text/plain": [
       "<Figure size 1798.5x216 with 8 Axes>"
      ]
     },
     "metadata": {
      "needs_background": "light"
     }
    }
   ],
   "metadata": {}
  },
  {
   "cell_type": "code",
   "execution_count": 229,
   "source": [
    "#create pipeline:                               # TODO fix\r\n",
    "# pipe = make_pipeline(column_trans, logreg)\r\n",
    "# cross_val_score(pipe, X, y, cv=5, scoring='accuracy')"
   ],
   "outputs": [],
   "metadata": {}
  },
  {
   "cell_type": "code",
   "execution_count": 233,
   "source": [
    "# split into input (X) and output (y) variables\r\n",
    "X = data.iloc[:, :-1]\r\n",
    "print(y[:5])\r\n"
   ],
   "outputs": [
    {
     "output_type": "stream",
     "name": "stdout",
     "text": [
      "[ 4  3 26 24 20]\n"
     ]
    }
   ],
   "metadata": {}
  },
  {
   "cell_type": "markdown",
   "source": [
    "## Cross validation"
   ],
   "metadata": {}
  },
  {
   "cell_type": "code",
   "execution_count": 236,
   "source": [
    "from sklearn.linear_model import LogisticRegression\r\n",
    "from sklearn.model_selection import cross_val_score\r\n",
    "X = data.loc[:, ['age']]         # numerical\r\n",
    "\r\n",
    "print(X.shape)\r\n",
    "print(y.shape)\r\n",
    "\r\n",
    "logreg = LogisticRegression(solver='lbfgs')\r\n",
    "\r\n",
    "cross_val_score(logreg, X, y, cv=5, scoring='accuracy').mean()\r\n",
    "print(y.value_counts(normalized=True))"
   ],
   "outputs": [
    {
     "output_type": "stream",
     "name": "stdout",
     "text": [
      "(900, 1)\n",
      "(900,)\n"
     ]
    },
    {
     "output_type": "stream",
     "name": "stderr",
     "text": [
      "C:\\Networks\\Python3.9\\lib\\site-packages\\sklearn\\linear_model\\_logistic.py:763: ConvergenceWarning: lbfgs failed to converge (status=1):\n",
      "STOP: TOTAL NO. of ITERATIONS REACHED LIMIT.\n",
      "\n",
      "Increase the number of iterations (max_iter) or scale the data as shown in:\n",
      "    https://scikit-learn.org/stable/modules/preprocessing.html\n",
      "Please also refer to the documentation for alternative solver options:\n",
      "    https://scikit-learn.org/stable/modules/linear_model.html#logistic-regression\n",
      "  n_iter_i = _check_optimize_result(\n",
      "C:\\Networks\\Python3.9\\lib\\site-packages\\sklearn\\linear_model\\_logistic.py:763: ConvergenceWarning: lbfgs failed to converge (status=1):\n",
      "STOP: TOTAL NO. of ITERATIONS REACHED LIMIT.\n",
      "\n",
      "Increase the number of iterations (max_iter) or scale the data as shown in:\n",
      "    https://scikit-learn.org/stable/modules/preprocessing.html\n",
      "Please also refer to the documentation for alternative solver options:\n",
      "    https://scikit-learn.org/stable/modules/linear_model.html#logistic-regression\n",
      "  n_iter_i = _check_optimize_result(\n",
      "C:\\Networks\\Python3.9\\lib\\site-packages\\sklearn\\linear_model\\_logistic.py:763: ConvergenceWarning: lbfgs failed to converge (status=1):\n",
      "STOP: TOTAL NO. of ITERATIONS REACHED LIMIT.\n",
      "\n",
      "Increase the number of iterations (max_iter) or scale the data as shown in:\n",
      "    https://scikit-learn.org/stable/modules/preprocessing.html\n",
      "Please also refer to the documentation for alternative solver options:\n",
      "    https://scikit-learn.org/stable/modules/linear_model.html#logistic-regression\n",
      "  n_iter_i = _check_optimize_result(\n",
      "C:\\Networks\\Python3.9\\lib\\site-packages\\sklearn\\linear_model\\_logistic.py:763: ConvergenceWarning: lbfgs failed to converge (status=1):\n",
      "STOP: TOTAL NO. of ITERATIONS REACHED LIMIT.\n",
      "\n",
      "Increase the number of iterations (max_iter) or scale the data as shown in:\n",
      "    https://scikit-learn.org/stable/modules/preprocessing.html\n",
      "Please also refer to the documentation for alternative solver options:\n",
      "    https://scikit-learn.org/stable/modules/linear_model.html#logistic-regression\n",
      "  n_iter_i = _check_optimize_result(\n",
      "C:\\Networks\\Python3.9\\lib\\site-packages\\sklearn\\linear_model\\_logistic.py:763: ConvergenceWarning: lbfgs failed to converge (status=1):\n",
      "STOP: TOTAL NO. of ITERATIONS REACHED LIMIT.\n",
      "\n",
      "Increase the number of iterations (max_iter) or scale the data as shown in:\n",
      "    https://scikit-learn.org/stable/modules/preprocessing.html\n",
      "Please also refer to the documentation for alternative solver options:\n",
      "    https://scikit-learn.org/stable/modules/linear_model.html#logistic-regression\n",
      "  n_iter_i = _check_optimize_result(\n"
     ]
    },
    {
     "output_type": "error",
     "ename": "AttributeError",
     "evalue": "'numpy.ndarray' object has no attribute 'value_counts'",
     "traceback": [
      "\u001b[1;31m---------------------------------------------------------------------------\u001b[0m",
      "\u001b[1;31mAttributeError\u001b[0m                            Traceback (most recent call last)",
      "\u001b[1;32mC:\\Users\\TALSHU~1\\AppData\\Local\\Temp/ipykernel_12196/3332898188.py\u001b[0m in \u001b[0;36m<module>\u001b[1;34m\u001b[0m\n\u001b[0;32m      9\u001b[0m \u001b[1;33m\u001b[0m\u001b[0m\n\u001b[0;32m     10\u001b[0m \u001b[0mcross_val_score\u001b[0m\u001b[1;33m(\u001b[0m\u001b[0mlogreg\u001b[0m\u001b[1;33m,\u001b[0m \u001b[0mX\u001b[0m\u001b[1;33m,\u001b[0m \u001b[0my\u001b[0m\u001b[1;33m,\u001b[0m \u001b[0mcv\u001b[0m\u001b[1;33m=\u001b[0m\u001b[1;36m5\u001b[0m\u001b[1;33m,\u001b[0m \u001b[0mscoring\u001b[0m\u001b[1;33m=\u001b[0m\u001b[1;34m'accuracy'\u001b[0m\u001b[1;33m)\u001b[0m\u001b[1;33m.\u001b[0m\u001b[0mmean\u001b[0m\u001b[1;33m(\u001b[0m\u001b[1;33m)\u001b[0m\u001b[1;33m\u001b[0m\u001b[1;33m\u001b[0m\u001b[0m\n\u001b[1;32m---> 11\u001b[1;33m \u001b[0mprint\u001b[0m\u001b[1;33m(\u001b[0m\u001b[0my\u001b[0m\u001b[1;33m.\u001b[0m\u001b[0mvalue_counts\u001b[0m\u001b[1;33m(\u001b[0m\u001b[0mnormalized\u001b[0m\u001b[1;33m=\u001b[0m\u001b[1;32mTrue\u001b[0m\u001b[1;33m)\u001b[0m\u001b[1;33m)\u001b[0m\u001b[1;33m\u001b[0m\u001b[1;33m\u001b[0m\u001b[0m\n\u001b[0m",
      "\u001b[1;31mAttributeError\u001b[0m: 'numpy.ndarray' object has no attribute 'value_counts'"
     ]
    }
   ],
   "metadata": {}
  },
  {
   "cell_type": "code",
   "execution_count": null,
   "source": [],
   "outputs": [],
   "metadata": {}
  },
  {
   "cell_type": "code",
   "execution_count": 189,
   "source": [
    "\r\n",
    "ohe.fit(X['gender'])\r\n",
    "print(ohe.categories_)"
   ],
   "outputs": [
    {
     "output_type": "stream",
     "name": "stdout",
     "text": [
      "    age    pus   itch     size      shape  crater  gender  vesicle  bleeding  \\\n",
      "0  34.0  False  False      pea      round   False  female    False     False   \n",
      "1  41.0  False  False  unknown    unknown   False  female    False     False   \n",
      "2  25.0  False  False      pea  non-round   False    male    False     False   \n",
      "3  49.0  False   True    >palm      round   False  female    False     False   \n",
      "4  21.0  False  False      pea      round   False  female    False     False   \n",
      "\n",
      "    quantity  ...  is_secondary_locations_thigh_internal  \\\n",
      "0   multiple  ...                                  False   \n",
      "1    unknown  ...                                  False   \n",
      "2   multiple  ...                                  False   \n",
      "3   multiple  ...                                  False   \n",
      "4  clustered  ...                                  False   \n",
      "\n",
      "  is_secondary_locations_toes  is_secondary_locations_toes_external  \\\n",
      "0                       False                                 False   \n",
      "1                       False                                 False   \n",
      "2                       False                                 False   \n",
      "3                       False                                 False   \n",
      "4                       False                                 False   \n",
      "\n",
      "   is_secondary_locations_toes_internal  is_secondary_locations_tongue  \\\n",
      "0                                 False                          False   \n",
      "1                                 False                          False   \n",
      "2                                 False                          False   \n",
      "3                                 False                          False   \n",
      "4                                 False                          False   \n",
      "\n",
      "   is_secondary_locations_upper_arm_external  \\\n",
      "0                                      False   \n",
      "1                                      False   \n",
      "2                                      False   \n",
      "3                                      False   \n",
      "4                                      False   \n",
      "\n",
      "  is_secondary_locations_upper_arm_internal  \\\n",
      "0                                     False   \n",
      "1                                     False   \n",
      "2                                     False   \n",
      "3                                     False   \n",
      "4                                     False   \n",
      "\n",
      "   is_secondary_locations_vaginal_region  \\\n",
      "0                                  False   \n",
      "1                                  False   \n",
      "2                                  False   \n",
      "3                                  False   \n",
      "4                                  False   \n",
      "\n",
      "  is_secondary_locations_wrist_external is_secondary_locations_wrist_internal  \n",
      "0                                 False                                  True  \n",
      "1                                 False                                 False  \n",
      "2                                 False                                 False  \n",
      "3                                 False                                 False  \n",
      "4                                 False                                 False  \n",
      "\n",
      "[5 rows x 107 columns]\n"
     ]
    },
    {
     "output_type": "error",
     "ename": "ValueError",
     "evalue": "Expected 2D array, got 1D array instead:\narray=['female' 'female' 'male' 'female' 'female' 'female' 'male' 'female'\n 'female' 'female' 'male' 'female' 'female' 'female' 'female' 'female'\n 'female' 'male' 'female' 'female' 'female' 'female' 'female' 'female'\n 'female' 'male' 'female' 'female' 'female' 'male' 'female' 'female'\n 'female' 'female' 'female' 'female' 'female' 'male' 'female' 'male'\n 'female' 'male' 'female' 'female' 'male' 'female' 'female' 'female'\n 'male' 'female' 'male' 'female' 'female' 'male' 'female' 'male' 'female'\n 'female' 'male' 'female' 'female' 'female' 'female' 'male' 'female'\n 'female' 'male' 'male' 'male' 'female' 'female' 'male' 'male' 'female'\n 'male' 'male' 'male' 'female' 'male' 'female' 'female' 'female' 'female'\n 'female' 'female' 'male' 'female' 'male' 'female' 'male' 'female'\n 'female' 'male' 'female' 'male' 'female' 'female' 'female' 'female'\n 'male' 'female' 'female' 'male' 'female' 'female' 'female' 'male'\n 'female' 'female' 'female' 'female' 'male' 'female' 'female' 'female'\n 'female' 'male' 'male' 'female' 'female' 'male' 'female' 'male' 'female'\n 'female' 'female' 'female' 'female' 'female' 'male' 'male' 'female'\n 'female' 'female' 'male' 'female' 'female' 'male' 'female' 'male'\n 'female' 'female' 'female' 'female' 'male' 'male' 'male' 'female' 'male'\n 'female' 'female' 'female' 'male' 'male' 'female' 'male' 'male' 'male'\n 'female' 'female' 'female' 'male' 'male' 'female' 'male' 'female'\n 'female' 'female' 'female' 'female' 'female' 'male' 'male' 'female'\n 'male' 'female' 'male' 'female' 'male' 'male' 'female' 'male' 'male'\n 'female' 'male' 'male' 'male' 'male' 'male' 'male' 'male' 'female'\n 'female' 'male' 'male' 'male' 'female' 'male' 'female' 'female' 'female'\n 'female' 'male' 'female' 'male' 'female' 'female' 'female' 'female'\n 'female' 'female' 'male' 'male' 'female' 'male' 'female' 'female'\n 'female' 'female' 'female' 'male' 'female' 'male' 'male' 'male' 'female'\n 'male' 'male' 'female' 'female' 'female' 'female' 'male' 'male' 'male'\n 'male' 'female' 'male' 'female' 'female' 'female' 'male' 'male' 'female'\n 'female' 'male' 'female' 'male' 'female' 'male' 'male' 'male' 'female'\n 'female' 'male' 'female' 'female' 'female' 'male' 'male' 'female'\n 'female' 'male' 'female' 'male' 'male' 'female' 'female' 'female'\n 'female' 'female' 'female' 'male' 'female' 'female' 'female' 'female'\n 'female' 'male' 'female' 'male' 'female' 'female' 'male' 'male' 'male'\n 'male' 'female' 'female' 'male' 'female' 'female' 'male' 'female'\n 'female' 'male' 'female' 'female' 'female' 'male' 'female' 'male'\n 'female' 'male' 'male' 'female' 'male' 'male' 'male' 'male' 'female'\n 'male' 'male' 'male' 'female' 'male' 'female' 'male' 'male' 'female'\n 'female' 'female' 'female' 'male' 'female' 'male' 'female' 'male'\n 'female' 'male' 'male' 'female' 'female' 'female' 'female' 'female'\n 'male' 'female' 'female' 'male' 'female' 'female' 'female' 'female'\n 'male' 'female' 'female' 'male' 'female' 'male' 'female' 'female'\n 'female' 'female' 'male' 'male' 'male' 'female' 'female' 'female'\n 'female' 'male' 'female' 'male' 'female' 'male' 'female' 'female' 'male'\n 'male' 'female' 'female' 'male' 'female' 'male' 'male' 'male' 'male'\n 'female' 'female' 'female' 'male' 'male' 'female' 'female' 'female'\n 'male' 'female' 'male' 'female' 'female' 'male' 'male' 'male' 'male'\n 'male' 'male' 'female' 'male' 'male' 'male' 'female' 'male' 'female'\n 'male' 'male' 'female' 'female' 'female' 'female' 'male' 'male' 'female'\n 'female' 'female' 'male' 'female' 'male' 'male' 'female' 'female'\n 'female' 'female' 'male' 'male' 'male' 'male' 'female' 'female' 'male'\n 'male' 'female' 'female' 'female' 'female' 'male' 'female' 'female'\n 'male' 'male' 'male' 'male' 'male' 'male' 'female' 'female' 'female'\n 'male' 'male' 'female' 'male' 'male' 'female' 'female' 'male' 'male'\n 'male' 'female' 'male' 'female' 'male' 'female' 'female' 'male' 'male'\n 'female' 'female' 'female' 'male' 'male' 'female' 'female' 'male'\n 'female' 'female' 'female' 'male' 'female' 'female' 'female' 'male'\n 'male' 'female' 'female' 'female' 'female' 'male' 'male' 'male' 'female'\n 'male' 'female' 'female' 'male' 'male' 'male' 'female' 'female' 'male'\n 'female' 'female' 'female' 'male' 'female' 'male' 'male' 'female' 'male'\n 'male' 'female' 'female' 'female' 'female' 'female' 'female' 'female'\n 'male' 'male' 'female' 'male' 'male' 'female' 'female' 'male' 'female'\n 'male' 'female' 'female' 'female' 'female' 'female' 'male' 'female'\n 'female' 'female' 'female' 'female' 'female' 'female' 'female' 'female'\n 'female' 'male' 'female' 'female' 'female' 'female' 'female' 'female'\n 'female' 'female' 'male' 'male' 'male' 'female' 'female' 'male' 'male'\n 'female' 'male' 'female' 'male' 'male' 'female' 'male' 'male' 'male'\n 'female' 'male' 'male' 'female' 'female' 'female' 'male' 'female' 'male'\n 'male' 'male' 'female' 'male' 'male' 'female' 'female' 'male' 'female'\n 'female' 'male' 'female' 'male' 'female' 'male' 'female' 'male' 'female'\n 'male' 'male' 'female' 'female' 'female' 'female' 'male' 'female' 'male'\n 'female' 'male' 'female' 'female' 'female' 'male' 'male' 'female' 'male'\n 'female' 'male' 'male' 'male' 'male' 'female' 'female' 'male' 'male'\n 'male' 'male' 'female' 'female' 'female' 'female' 'female' 'male'\n 'female' 'male' 'male' 'male' 'female' 'female' 'female' 'male' 'male'\n 'female' 'female' 'male' 'female' 'male' 'female' 'male' 'female'\n 'female' 'female' 'female' 'male' 'female' 'female' 'male' 'female'\n 'female' 'male' 'female' 'female' 'male' 'male' 'female' 'female' 'male'\n 'male' 'male' 'female' 'female' 'female' 'male' 'male' 'male' 'female'\n 'male' 'female' 'male' 'female' 'male' 'male' 'male' 'female' 'male'\n 'male' 'male' 'female' 'female' 'female' 'male' 'female' 'female'\n 'female' 'female' 'female' 'female' 'female' 'female' 'female' 'male'\n 'male' 'female' 'female' 'female' 'female' 'male' 'female' 'female'\n 'female' 'female' 'male' 'female' 'female' 'female' 'male' 'female'\n 'male' 'male' 'male' 'male' 'female' 'male' 'female' 'male' 'male'\n 'female' 'female' 'female' 'male' 'male' 'male' 'female' 'female'\n 'female' 'female' 'male' 'male' 'female' 'female' 'female' 'male'\n 'female' 'female' 'male' 'male' 'male' 'male' 'female' 'female' 'male'\n 'female' 'female' 'female' 'male' 'male' 'female' 'male' 'female' 'male'\n 'female' 'female' 'female' 'male' 'male' 'male' 'male' 'female' 'female'\n 'male' 'female' 'female' 'male' 'male' 'female' 'male' 'male' 'male'\n 'male' 'male' 'male' 'female' 'male' 'female' 'female' 'female' 'female'\n 'female' 'female' 'male' 'female' 'female' 'female' 'female' 'male'\n 'male' 'female' 'female' 'female' 'female' 'female' 'female' 'male'\n 'male' 'female' 'female' 'female' 'female' 'female' 'female' 'male'\n 'male' 'male' 'male' 'male' 'female' 'male' 'male' 'female' 'female'\n 'female' 'male' 'male' 'female' 'male' 'male' 'female' 'male' 'male'\n 'female' 'male' 'male' 'female' 'female' 'female' 'male' 'male' 'male'\n 'male' 'male' 'male' 'male' 'female' 'male' 'female' 'male' 'female'\n 'female' 'male' 'female' 'male' 'female' 'male' 'male' 'male' 'female'\n 'female' 'female' 'male' 'male' 'female' 'male' 'male' 'male' 'male'\n 'female' 'female' 'male' 'male' 'female' 'male' 'male' 'male' 'male'\n 'female' 'male' 'female' 'female' 'female' 'female' 'female' 'male'\n 'male' 'female' 'female' 'female' 'male' 'male' 'male' 'male' 'female'\n 'male' 'female' 'female' 'male' 'male' 'female' 'male' 'male' 'male'\n 'female' 'male' 'male' 'male'].\nReshape your data either using array.reshape(-1, 1) if your data has a single feature or array.reshape(1, -1) if it contains a single sample.",
     "traceback": [
      "\u001b[1;31m---------------------------------------------------------------------------\u001b[0m",
      "\u001b[1;31mValueError\u001b[0m                                Traceback (most recent call last)",
      "\u001b[1;32mC:\\Users\\TALSHU~1\\AppData\\Local\\Temp/ipykernel_12196/3688067567.py\u001b[0m in \u001b[0;36m<module>\u001b[1;34m\u001b[0m\n\u001b[0;32m      4\u001b[0m \u001b[0mohe\u001b[0m \u001b[1;33m=\u001b[0m \u001b[0mOneHotEncoder\u001b[0m\u001b[1;33m(\u001b[0m\u001b[0mhandle_unknown\u001b[0m\u001b[1;33m=\u001b[0m\u001b[1;34m'ignore'\u001b[0m\u001b[1;33m)\u001b[0m\u001b[1;33m\u001b[0m\u001b[1;33m\u001b[0m\u001b[0m\n\u001b[0;32m      5\u001b[0m \u001b[1;33m\u001b[0m\u001b[0m\n\u001b[1;32m----> 6\u001b[1;33m \u001b[0mohe\u001b[0m\u001b[1;33m.\u001b[0m\u001b[0mfit\u001b[0m\u001b[1;33m(\u001b[0m\u001b[0mX\u001b[0m\u001b[1;33m[\u001b[0m\u001b[1;34m'gender'\u001b[0m\u001b[1;33m]\u001b[0m\u001b[1;33m)\u001b[0m\u001b[1;33m\u001b[0m\u001b[1;33m\u001b[0m\u001b[0m\n\u001b[0m\u001b[0;32m      7\u001b[0m \u001b[0mprint\u001b[0m\u001b[1;33m(\u001b[0m\u001b[0mohe\u001b[0m\u001b[1;33m.\u001b[0m\u001b[0mcategories_\u001b[0m\u001b[1;33m)\u001b[0m\u001b[1;33m\u001b[0m\u001b[1;33m\u001b[0m\u001b[0m\n",
      "\u001b[1;32mC:\\Networks\\Python3.9\\lib\\site-packages\\sklearn\\preprocessing\\_encoders.py\u001b[0m in \u001b[0;36mfit\u001b[1;34m(self, X, y)\u001b[0m\n\u001b[0;32m    421\u001b[0m         \"\"\"\n\u001b[0;32m    422\u001b[0m         \u001b[0mself\u001b[0m\u001b[1;33m.\u001b[0m\u001b[0m_validate_keywords\u001b[0m\u001b[1;33m(\u001b[0m\u001b[1;33m)\u001b[0m\u001b[1;33m\u001b[0m\u001b[1;33m\u001b[0m\u001b[0m\n\u001b[1;32m--> 423\u001b[1;33m         self._fit(X, handle_unknown=self.handle_unknown,\n\u001b[0m\u001b[0;32m    424\u001b[0m                   force_all_finite='allow-nan')\n\u001b[0;32m    425\u001b[0m         \u001b[0mself\u001b[0m\u001b[1;33m.\u001b[0m\u001b[0mdrop_idx_\u001b[0m \u001b[1;33m=\u001b[0m \u001b[0mself\u001b[0m\u001b[1;33m.\u001b[0m\u001b[0m_compute_drop_idx\u001b[0m\u001b[1;33m(\u001b[0m\u001b[1;33m)\u001b[0m\u001b[1;33m\u001b[0m\u001b[1;33m\u001b[0m\u001b[0m\n",
      "\u001b[1;32mC:\\Networks\\Python3.9\\lib\\site-packages\\sklearn\\preprocessing\\_encoders.py\u001b[0m in \u001b[0;36m_fit\u001b[1;34m(self, X, handle_unknown, force_all_finite)\u001b[0m\n\u001b[0;32m     75\u001b[0m \u001b[1;33m\u001b[0m\u001b[0m\n\u001b[0;32m     76\u001b[0m     \u001b[1;32mdef\u001b[0m \u001b[0m_fit\u001b[0m\u001b[1;33m(\u001b[0m\u001b[0mself\u001b[0m\u001b[1;33m,\u001b[0m \u001b[0mX\u001b[0m\u001b[1;33m,\u001b[0m \u001b[0mhandle_unknown\u001b[0m\u001b[1;33m=\u001b[0m\u001b[1;34m'error'\u001b[0m\u001b[1;33m,\u001b[0m \u001b[0mforce_all_finite\u001b[0m\u001b[1;33m=\u001b[0m\u001b[1;32mTrue\u001b[0m\u001b[1;33m)\u001b[0m\u001b[1;33m:\u001b[0m\u001b[1;33m\u001b[0m\u001b[1;33m\u001b[0m\u001b[0m\n\u001b[1;32m---> 77\u001b[1;33m         X_list, n_samples, n_features = self._check_X(\n\u001b[0m\u001b[0;32m     78\u001b[0m             X, force_all_finite=force_all_finite)\n\u001b[0;32m     79\u001b[0m \u001b[1;33m\u001b[0m\u001b[0m\n",
      "\u001b[1;32mC:\\Networks\\Python3.9\\lib\\site-packages\\sklearn\\preprocessing\\_encoders.py\u001b[0m in \u001b[0;36m_check_X\u001b[1;34m(self, X, force_all_finite)\u001b[0m\n\u001b[0;32m     42\u001b[0m         \u001b[1;32mif\u001b[0m \u001b[1;32mnot\u001b[0m \u001b[1;33m(\u001b[0m\u001b[0mhasattr\u001b[0m\u001b[1;33m(\u001b[0m\u001b[0mX\u001b[0m\u001b[1;33m,\u001b[0m \u001b[1;34m'iloc'\u001b[0m\u001b[1;33m)\u001b[0m \u001b[1;32mand\u001b[0m \u001b[0mgetattr\u001b[0m\u001b[1;33m(\u001b[0m\u001b[0mX\u001b[0m\u001b[1;33m,\u001b[0m \u001b[1;34m'ndim'\u001b[0m\u001b[1;33m,\u001b[0m \u001b[1;36m0\u001b[0m\u001b[1;33m)\u001b[0m \u001b[1;33m==\u001b[0m \u001b[1;36m2\u001b[0m\u001b[1;33m)\u001b[0m\u001b[1;33m:\u001b[0m\u001b[1;33m\u001b[0m\u001b[1;33m\u001b[0m\u001b[0m\n\u001b[0;32m     43\u001b[0m             \u001b[1;31m# if not a dataframe, do normal check_array validation\u001b[0m\u001b[1;33m\u001b[0m\u001b[1;33m\u001b[0m\u001b[0m\n\u001b[1;32m---> 44\u001b[1;33m             X_temp = check_array(X, dtype=None,\n\u001b[0m\u001b[0;32m     45\u001b[0m                                  force_all_finite=force_all_finite)\n\u001b[0;32m     46\u001b[0m             if (not hasattr(X, 'dtype')\n",
      "\u001b[1;32mC:\\Networks\\Python3.9\\lib\\site-packages\\sklearn\\utils\\validation.py\u001b[0m in \u001b[0;36minner_f\u001b[1;34m(*args, **kwargs)\u001b[0m\n\u001b[0;32m     61\u001b[0m             \u001b[0mextra_args\u001b[0m \u001b[1;33m=\u001b[0m \u001b[0mlen\u001b[0m\u001b[1;33m(\u001b[0m\u001b[0margs\u001b[0m\u001b[1;33m)\u001b[0m \u001b[1;33m-\u001b[0m \u001b[0mlen\u001b[0m\u001b[1;33m(\u001b[0m\u001b[0mall_args\u001b[0m\u001b[1;33m)\u001b[0m\u001b[1;33m\u001b[0m\u001b[1;33m\u001b[0m\u001b[0m\n\u001b[0;32m     62\u001b[0m             \u001b[1;32mif\u001b[0m \u001b[0mextra_args\u001b[0m \u001b[1;33m<=\u001b[0m \u001b[1;36m0\u001b[0m\u001b[1;33m:\u001b[0m\u001b[1;33m\u001b[0m\u001b[1;33m\u001b[0m\u001b[0m\n\u001b[1;32m---> 63\u001b[1;33m                 \u001b[1;32mreturn\u001b[0m \u001b[0mf\u001b[0m\u001b[1;33m(\u001b[0m\u001b[1;33m*\u001b[0m\u001b[0margs\u001b[0m\u001b[1;33m,\u001b[0m \u001b[1;33m**\u001b[0m\u001b[0mkwargs\u001b[0m\u001b[1;33m)\u001b[0m\u001b[1;33m\u001b[0m\u001b[1;33m\u001b[0m\u001b[0m\n\u001b[0m\u001b[0;32m     64\u001b[0m \u001b[1;33m\u001b[0m\u001b[0m\n\u001b[0;32m     65\u001b[0m             \u001b[1;31m# extra_args > 0\u001b[0m\u001b[1;33m\u001b[0m\u001b[1;33m\u001b[0m\u001b[0m\n",
      "\u001b[1;32mC:\\Networks\\Python3.9\\lib\\site-packages\\sklearn\\utils\\validation.py\u001b[0m in \u001b[0;36mcheck_array\u001b[1;34m(array, accept_sparse, accept_large_sparse, dtype, order, copy, force_all_finite, ensure_2d, allow_nd, ensure_min_samples, ensure_min_features, estimator)\u001b[0m\n\u001b[0;32m    692\u001b[0m             \u001b[1;31m# If input is 1D raise error\u001b[0m\u001b[1;33m\u001b[0m\u001b[1;33m\u001b[0m\u001b[0m\n\u001b[0;32m    693\u001b[0m             \u001b[1;32mif\u001b[0m \u001b[0marray\u001b[0m\u001b[1;33m.\u001b[0m\u001b[0mndim\u001b[0m \u001b[1;33m==\u001b[0m \u001b[1;36m1\u001b[0m\u001b[1;33m:\u001b[0m\u001b[1;33m\u001b[0m\u001b[1;33m\u001b[0m\u001b[0m\n\u001b[1;32m--> 694\u001b[1;33m                 raise ValueError(\n\u001b[0m\u001b[0;32m    695\u001b[0m                     \u001b[1;34m\"Expected 2D array, got 1D array instead:\\narray={}.\\n\"\u001b[0m\u001b[1;33m\u001b[0m\u001b[1;33m\u001b[0m\u001b[0m\n\u001b[0;32m    696\u001b[0m                     \u001b[1;34m\"Reshape your data either using array.reshape(-1, 1) if \"\u001b[0m\u001b[1;33m\u001b[0m\u001b[1;33m\u001b[0m\u001b[0m\n",
      "\u001b[1;31mValueError\u001b[0m: Expected 2D array, got 1D array instead:\narray=['female' 'female' 'male' 'female' 'female' 'female' 'male' 'female'\n 'female' 'female' 'male' 'female' 'female' 'female' 'female' 'female'\n 'female' 'male' 'female' 'female' 'female' 'female' 'female' 'female'\n 'female' 'male' 'female' 'female' 'female' 'male' 'female' 'female'\n 'female' 'female' 'female' 'female' 'female' 'male' 'female' 'male'\n 'female' 'male' 'female' 'female' 'male' 'female' 'female' 'female'\n 'male' 'female' 'male' 'female' 'female' 'male' 'female' 'male' 'female'\n 'female' 'male' 'female' 'female' 'female' 'female' 'male' 'female'\n 'female' 'male' 'male' 'male' 'female' 'female' 'male' 'male' 'female'\n 'male' 'male' 'male' 'female' 'male' 'female' 'female' 'female' 'female'\n 'female' 'female' 'male' 'female' 'male' 'female' 'male' 'female'\n 'female' 'male' 'female' 'male' 'female' 'female' 'female' 'female'\n 'male' 'female' 'female' 'male' 'female' 'female' 'female' 'male'\n 'female' 'female' 'female' 'female' 'male' 'female' 'female' 'female'\n 'female' 'male' 'male' 'female' 'female' 'male' 'female' 'male' 'female'\n 'female' 'female' 'female' 'female' 'female' 'male' 'male' 'female'\n 'female' 'female' 'male' 'female' 'female' 'male' 'female' 'male'\n 'female' 'female' 'female' 'female' 'male' 'male' 'male' 'female' 'male'\n 'female' 'female' 'female' 'male' 'male' 'female' 'male' 'male' 'male'\n 'female' 'female' 'female' 'male' 'male' 'female' 'male' 'female'\n 'female' 'female' 'female' 'female' 'female' 'male' 'male' 'female'\n 'male' 'female' 'male' 'female' 'male' 'male' 'female' 'male' 'male'\n 'female' 'male' 'male' 'male' 'male' 'male' 'male' 'male' 'female'\n 'female' 'male' 'male' 'male' 'female' 'male' 'female' 'female' 'female'\n 'female' 'male' 'female' 'male' 'female' 'female' 'female' 'female'\n 'female' 'female' 'male' 'male' 'female' 'male' 'female' 'female'\n 'female' 'female' 'female' 'male' 'female' 'male' 'male' 'male' 'female'\n 'male' 'male' 'female' 'female' 'female' 'female' 'male' 'male' 'male'\n 'male' 'female' 'male' 'female' 'female' 'female' 'male' 'male' 'female'\n 'female' 'male' 'female' 'male' 'female' 'male' 'male' 'male' 'female'\n 'female' 'male' 'female' 'female' 'female' 'male' 'male' 'female'\n 'female' 'male' 'female' 'male' 'male' 'female' 'female' 'female'\n 'female' 'female' 'female' 'male' 'female' 'female' 'female' 'female'\n 'female' 'male' 'female' 'male' 'female' 'female' 'male' 'male' 'male'\n 'male' 'female' 'female' 'male' 'female' 'female' 'male' 'female'\n 'female' 'male' 'female' 'female' 'female' 'male' 'female' 'male'\n 'female' 'male' 'male' 'female' 'male' 'male' 'male' 'male' 'female'\n 'male' 'male' 'male' 'female' 'male' 'female' 'male' 'male' 'female'\n 'female' 'female' 'female' 'male' 'female' 'male' 'female' 'male'\n 'female' 'male' 'male' 'female' 'female' 'female' 'female' 'female'\n 'male' 'female' 'female' 'male' 'female' 'female' 'female' 'female'\n 'male' 'female' 'female' 'male' 'female' 'male' 'female' 'female'\n 'female' 'female' 'male' 'male' 'male' 'female' 'female' 'female'\n 'female' 'male' 'female' 'male' 'female' 'male' 'female' 'female' 'male'\n 'male' 'female' 'female' 'male' 'female' 'male' 'male' 'male' 'male'\n 'female' 'female' 'female' 'male' 'male' 'female' 'female' 'female'\n 'male' 'female' 'male' 'female' 'female' 'male' 'male' 'male' 'male'\n 'male' 'male' 'female' 'male' 'male' 'male' 'female' 'male' 'female'\n 'male' 'male' 'female' 'female' 'female' 'female' 'male' 'male' 'female'\n 'female' 'female' 'male' 'female' 'male' 'male' 'female' 'female'\n 'female' 'female' 'male' 'male' 'male' 'male' 'female' 'female' 'male'\n 'male' 'female' 'female' 'female' 'female' 'male' 'female' 'female'\n 'male' 'male' 'male' 'male' 'male' 'male' 'female' 'female' 'female'\n 'male' 'male' 'female' 'male' 'male' 'female' 'female' 'male' 'male'\n 'male' 'female' 'male' 'female' 'male' 'female' 'female' 'male' 'male'\n 'female' 'female' 'female' 'male' 'male' 'female' 'female' 'male'\n 'female' 'female' 'female' 'male' 'female' 'female' 'female' 'male'\n 'male' 'female' 'female' 'female' 'female' 'male' 'male' 'male' 'female'\n 'male' 'female' 'female' 'male' 'male' 'male' 'female' 'female' 'male'\n 'female' 'female' 'female' 'male' 'female' 'male' 'male' 'female' 'male'\n 'male' 'female' 'female' 'female' 'female' 'female' 'female' 'female'\n 'male' 'male' 'female' 'male' 'male' 'female' 'female' 'male' 'female'\n 'male' 'female' 'female' 'female' 'female' 'female' 'male' 'female'\n 'female' 'female' 'female' 'female' 'female' 'female' 'female' 'female'\n 'female' 'male' 'female' 'female' 'female' 'female' 'female' 'female'\n 'female' 'female' 'male' 'male' 'male' 'female' 'female' 'male' 'male'\n 'female' 'male' 'female' 'male' 'male' 'female' 'male' 'male' 'male'\n 'female' 'male' 'male' 'female' 'female' 'female' 'male' 'female' 'male'\n 'male' 'male' 'female' 'male' 'male' 'female' 'female' 'male' 'female'\n 'female' 'male' 'female' 'male' 'female' 'male' 'female' 'male' 'female'\n 'male' 'male' 'female' 'female' 'female' 'female' 'male' 'female' 'male'\n 'female' 'male' 'female' 'female' 'female' 'male' 'male' 'female' 'male'\n 'female' 'male' 'male' 'male' 'male' 'female' 'female' 'male' 'male'\n 'male' 'male' 'female' 'female' 'female' 'female' 'female' 'male'\n 'female' 'male' 'male' 'male' 'female' 'female' 'female' 'male' 'male'\n 'female' 'female' 'male' 'female' 'male' 'female' 'male' 'female'\n 'female' 'female' 'female' 'male' 'female' 'female' 'male' 'female'\n 'female' 'male' 'female' 'female' 'male' 'male' 'female' 'female' 'male'\n 'male' 'male' 'female' 'female' 'female' 'male' 'male' 'male' 'female'\n 'male' 'female' 'male' 'female' 'male' 'male' 'male' 'female' 'male'\n 'male' 'male' 'female' 'female' 'female' 'male' 'female' 'female'\n 'female' 'female' 'female' 'female' 'female' 'female' 'female' 'male'\n 'male' 'female' 'female' 'female' 'female' 'male' 'female' 'female'\n 'female' 'female' 'male' 'female' 'female' 'female' 'male' 'female'\n 'male' 'male' 'male' 'male' 'female' 'male' 'female' 'male' 'male'\n 'female' 'female' 'female' 'male' 'male' 'male' 'female' 'female'\n 'female' 'female' 'male' 'male' 'female' 'female' 'female' 'male'\n 'female' 'female' 'male' 'male' 'male' 'male' 'female' 'female' 'male'\n 'female' 'female' 'female' 'male' 'male' 'female' 'male' 'female' 'male'\n 'female' 'female' 'female' 'male' 'male' 'male' 'male' 'female' 'female'\n 'male' 'female' 'female' 'male' 'male' 'female' 'male' 'male' 'male'\n 'male' 'male' 'male' 'female' 'male' 'female' 'female' 'female' 'female'\n 'female' 'female' 'male' 'female' 'female' 'female' 'female' 'male'\n 'male' 'female' 'female' 'female' 'female' 'female' 'female' 'male'\n 'male' 'female' 'female' 'female' 'female' 'female' 'female' 'male'\n 'male' 'male' 'male' 'male' 'female' 'male' 'male' 'female' 'female'\n 'female' 'male' 'male' 'female' 'male' 'male' 'female' 'male' 'male'\n 'female' 'male' 'male' 'female' 'female' 'female' 'male' 'male' 'male'\n 'male' 'male' 'male' 'male' 'female' 'male' 'female' 'male' 'female'\n 'female' 'male' 'female' 'male' 'female' 'male' 'male' 'male' 'female'\n 'female' 'female' 'male' 'male' 'female' 'male' 'male' 'male' 'male'\n 'female' 'female' 'male' 'male' 'female' 'male' 'male' 'male' 'male'\n 'female' 'male' 'female' 'female' 'female' 'female' 'female' 'male'\n 'male' 'female' 'female' 'female' 'male' 'male' 'male' 'male' 'female'\n 'male' 'female' 'female' 'male' 'male' 'female' 'male' 'male' 'male'\n 'female' 'male' 'male' 'male'].\nReshape your data either using array.reshape(-1, 1) if your data has a single feature or array.reshape(1, -1) if it contains a single sample."
     ]
    }
   ],
   "metadata": {}
  },
  {
   "cell_type": "code",
   "execution_count": null,
   "source": [],
   "outputs": [],
   "metadata": {}
  },
  {
   "cell_type": "code",
   "execution_count": null,
   "source": [
    "ax = sns.boxplot(x='diagnosis', y='temperature', data=data)"
   ],
   "outputs": [],
   "metadata": {}
  },
  {
   "cell_type": "code",
   "execution_count": null,
   "source": [
    "data.loc[data['temperature'] > 37.0, 'diagnosis']"
   ],
   "outputs": [],
   "metadata": {}
  },
  {
   "cell_type": "code",
   "execution_count": null,
   "source": [
    "duration.days"
   ],
   "outputs": [],
   "metadata": {}
  },
  {
   "cell_type": "markdown",
   "source": [
    "# Cross validation: temperature/ diagnosis\r\n"
   ],
   "metadata": {}
  },
  {
   "cell_type": "code",
   "execution_count": null,
   "source": [],
   "outputs": [],
   "metadata": {}
  },
  {
   "cell_type": "code",
   "execution_count": null,
   "source": [
    "# Encode Y w OneHotEncoder\r\n",
    "X = data.loc[:, ['temperature']]         # numerical\r\n",
    "y = data.diagnosis\r\n",
    "print(X.shape)\r\n",
    "print(y.shape)\r\n"
   ],
   "outputs": [],
   "metadata": {}
  },
  {
   "cell_type": "code",
   "execution_count": null,
   "source": [
    "from sklearn.linear_model import LogisticRegression\r\n",
    "logreg = LogisticRegression(solver='lbfgs')\r\n",
    "\r\n",
    "from sklearn.model_selection import cross_val_score\r\n",
    "cross_val_score(logreg, X, y, cv=5, scoring='accuracy')"
   ],
   "outputs": [],
   "metadata": {}
  },
  {
   "cell_type": "code",
   "execution_count": null,
   "source": [
    "#LabelEncode pain.pain_type\r\n",
    "from sklearn.preprocessing import LabelEncoder\r\n",
    "le = LabelEncoder() # initialize\r\n",
    "print(X['pain.pain_type'].head())\r\n",
    "data['pain.pain_type'] = le.fit_transform(data['pain.pain_type'])    # All NaN will be 2\r\n"
   ],
   "outputs": [],
   "metadata": {}
  },
  {
   "cell_type": "code",
   "execution_count": null,
   "source": [
    "\r\n",
    "sns.scatterplot(x='diagnosis', y='pain.pain_type', data=data)\r\n",
    "plt.xticks(rotation=45)"
   ],
   "outputs": [],
   "metadata": {}
  },
  {
   "cell_type": "code",
   "execution_count": null,
   "source": [
    "sns.countplot(x='vesicle', data=data)           #Show the counts of observations in each categorical bin using bars."
   ],
   "outputs": [],
   "metadata": {}
  },
  {
   "cell_type": "markdown",
   "source": [
    "Show value counts for two categorical variables:"
   ],
   "metadata": {}
  },
  {
   "cell_type": "code",
   "execution_count": null,
   "source": [
    "ax = sns.countplot(x=\"quantity\", hue=\"vesicle\", data=data)"
   ],
   "outputs": [],
   "metadata": {}
  },
  {
   "cell_type": "markdown",
   "source": [
    "# preprocessing encoding"
   ],
   "metadata": {}
  },
  {
   "cell_type": "code",
   "execution_count": 186,
   "source": [
    "from sklearn.preprocessing import OrdinalEncoder, LabelEncoder, OneHotEncoder   # יש חשיבות וסדר לנתונים (לדוגמה שנות לימוד)\r\n",
    "print(obj_columns)\r\n",
    "# prepare input data\r\n",
    "\r\n",
    "column_trans= make_column_transformer(\r\n",
    "    (OrdinalEncoder(), ['diagnosis']), remainder='passthrough')    # instanciate OrdinalEncoder to Encode categorical features as an integer array.\r\n",
    "     \r\n",
    "#oh = OneHotEncoder()\r\n",
    "column_trans.fit_transform(X)\r\n",
    "\r\n"
   ],
   "outputs": [
    {
     "output_type": "stream",
     "name": "stdout",
     "text": [
      "Index(['size', 'shape', 'gender', 'quantity', 'topography', 'lossOfHair.type',\n",
      "       'pain.pain_type', 'location.coverage', 'diagnosis'],\n",
      "      dtype='object')\n"
     ]
    },
    {
     "output_type": "error",
     "ename": "NameError",
     "evalue": "name 'make_column_transformer' is not defined",
     "traceback": [
      "\u001b[1;31m---------------------------------------------------------------------------\u001b[0m",
      "\u001b[1;31mNameError\u001b[0m                                 Traceback (most recent call last)",
      "\u001b[1;32mC:\\Users\\TALSHU~1\\AppData\\Local\\Temp/ipykernel_12196/635397566.py\u001b[0m in \u001b[0;36m<module>\u001b[1;34m\u001b[0m\n\u001b[0;32m      3\u001b[0m \u001b[1;31m# prepare input data\u001b[0m\u001b[1;33m\u001b[0m\u001b[1;33m\u001b[0m\u001b[0m\n\u001b[0;32m      4\u001b[0m \u001b[1;33m\u001b[0m\u001b[0m\n\u001b[1;32m----> 5\u001b[1;33m column_trans= make_column_transformer(\n\u001b[0m\u001b[0;32m      6\u001b[0m     (OrdinalEncoder(), ['diagnosis']), remainder='passthrough')    # instanciate OrdinalEncoder to Encode categorical features as an integer array.\n\u001b[0;32m      7\u001b[0m \u001b[1;33m\u001b[0m\u001b[0m\n",
      "\u001b[1;31mNameError\u001b[0m: name 'make_column_transformer' is not defined"
     ]
    }
   ],
   "metadata": {}
  },
  {
   "cell_type": "code",
   "execution_count": null,
   "source": [
    "from sklearn.compose import make_column_selector as selector\r\n",
    "from sklearn.compose import ColumnTransformer\r\n",
    "\r\n",
    "preprocessor = ColumnTransformer(transformers=[\r\n",
    "    ('num', numeric_transformer, selector(dtype_exclude=\"category\")),\r\n",
    "    ('cat', categorical_transformer, selector(dtype_include=\"category\"))\r\n",
    "])\r\n",
    "clf = Pipeline(steps=[('preprocessor', preprocessor),\r\n",
    "                      ('classifier', LogisticRegression())])\r\n",
    "\r\n",
    "\r\n",
    "clf.fit(X_train, y_train)\r\n",
    "print(\"model score: %.3f\" % clf.score(X_test, y_test))"
   ],
   "outputs": [],
   "metadata": {}
  },
  {
   "cell_type": "code",
   "execution_count": null,
   "source": [
    "# Correlation with the target:\r\n",
    "absCorrWithDep = []\r\n",
    "allVars = X.columns\r\n",
    "print(allVars)\r\n",
    "for var in allVars:\r\n",
    "    absCorrWithDep.append(abs(y.corr(X[var])))\r\n"
   ],
   "outputs": [],
   "metadata": {}
  },
  {
   "cell_type": "code",
   "execution_count": null,
   "source": [],
   "outputs": [],
   "metadata": {}
  },
  {
   "cell_type": "markdown",
   "source": [
    "# split the data for training and testing"
   ],
   "metadata": {}
  },
  {
   "cell_type": "code",
   "execution_count": null,
   "source": [
    "from sklearn.model_selection import train_test_split\r\n",
    "\r\n",
    "# split the data into training and test\r\n",
    "X_train, X_test, y_train, y_test = train_test_split(X, y, test_size=0.33, random_state=1)\r\n",
    "# summarize\r\n",
    "print('Train', X_train.shape, y_train.shape)\r\n",
    "print('Test', X_test.shape, y_test.shape)\r\n"
   ],
   "outputs": [],
   "metadata": {}
  },
  {
   "cell_type": "markdown",
   "source": [
    "### We can use the OrdinalEncoder() from scikit-learn to encode each variable to integers. This is a flexible class and does allow the order of the categories to be specified as arguments if any such order is known.\r\n",
    "The best practice when encoding variables is to fit the encoding on the training dataset, then apply it to the train and test datasets."
   ],
   "metadata": {}
  },
  {
   "cell_type": "code",
   "execution_count": null,
   "source": [
    "from sklearn.preprocessing import OrdinalEncoder\r\n",
    "# EXAMPLE FOR ENCODE:\r\n",
    "enc = OrdinalEncoder()\r\n",
    "X = [['Male', 1], ['Female', 3], ['Female', 2]]\r\n",
    "enc.fit(X)\r\n",
    "print(enc.categories_)\r\n",
    "enc.transform([['Female', 3], ['Male', 1]])\r\n"
   ],
   "outputs": [],
   "metadata": {}
  },
  {
   "cell_type": "code",
   "execution_count": null,
   "source": [
    "from sklearn.preprocessing import OrdinalEncoder   # יש חשיבות וסדר לנתונים (לדוגמה שנות לימוד)\r\n",
    "# prepare input data\r\n",
    "def prepare_inputs(X_train, X_test):\r\n",
    "\toe = OrdinalEncoder()     # instanciate OrdinalEncoder to Encode categorical features as an integer array.\r\n",
    "\toe.fit(X_train)\r\n",
    "\tX_train_enc = oe.transform(X_train)\r\n",
    "\tX_test_enc = oe.transform(X_test)\r\n",
    "\treturn X_train_enc, X_test_enc"
   ],
   "outputs": [],
   "metadata": {}
  },
  {
   "cell_type": "markdown",
   "source": [
    "## prepare the target variable - map the two class labels to 0 and 1 using LabelEncoder\r\n",
    "This is a type of ordinal encoding, and scikit-learn provides the LabelEncoder class specifically designed for this purpose. We could just as easily use the OrdinalEncoder and achieve the same result, although the LabelEncoder is designed for encoding a single variable"
   ],
   "metadata": {}
  },
  {
   "cell_type": "code",
   "execution_count": null,
   "source": [
    "import numpy as np\r\n",
    "np.unique(X_train[: ,2], return_counts=True)"
   ],
   "outputs": [],
   "metadata": {}
  },
  {
   "cell_type": "code",
   "execution_count": null,
   "source": [
    "ordi = [\"'0-4'\", \"'5-9'\", \"'10-14'\", \"'15-19'\", \"'20-24'\", \"'25-29'\", \"'30-34'\",\r\n",
    "        \"'35-39'\", \"'40-44'\", \"'45-49'\", \"'50-54'\"]                                    # assigning in the correct order"
   ],
   "outputs": [],
   "metadata": {}
  },
  {
   "cell_type": "code",
   "execution_count": null,
   "source": [
    "# check where we need to order the list before LabelEncoder\r\n",
    "for a in range (0, 9):\r\n",
    "    print(a, \":\", np.unique(X_train[: ,a]))\r\n",
    "    "
   ],
   "outputs": [],
   "metadata": {}
  },
  {
   "cell_type": "code",
   "execution_count": null,
   "source": [
    "from sklearn.preprocessing import LabelEncoder\r\n",
    "# prepare target\r\n",
    "def prepare_targets(y_train, y_test):\r\n",
    "\tle = LabelEncoder()\r\n",
    "\tle.fit(y_train)\r\n",
    "\ty_train_enc = le.transform(y_train)\r\n",
    "\ty_test_enc = le.transform(y_test)\r\n",
    "\treturn y_train_enc, y_test_enc"
   ],
   "outputs": [],
   "metadata": {}
  },
  {
   "cell_type": "code",
   "execution_count": null,
   "source": [
    "\r\n",
    "ordi = OrdinalEncoder(categories=[2])\r\n",
    "ordi.fit(X-train[[]])"
   ],
   "outputs": [],
   "metadata": {}
  },
  {
   "cell_type": "code",
   "execution_count": null,
   "source": [
    "np.unique(X_train[: ,3])"
   ],
   "outputs": [],
   "metadata": {}
  },
  {
   "cell_type": "code",
   "execution_count": null,
   "source": [
    "np.unique(24-26, return_index=True)"
   ],
   "outputs": [],
   "metadata": {}
  },
  {
   "cell_type": "code",
   "execution_count": null,
   "source": [
    "# call these functions to prepare our data:\r\n",
    "# prepare input data\r\n",
    "X_train_enc, X_test_enc = prepare_inputs(X_train, X_test)\r\n",
    "# prepare output data\r\n",
    "y_train_enc, y_test_enc = prepare_targets(y_train, y_test)"
   ],
   "outputs": [],
   "metadata": {}
  }
 ],
 "metadata": {
  "kernelspec": {
   "name": "python3",
   "display_name": "Python 3.9.7 64-bit"
  },
  "language_info": {
   "codemirror_mode": {
    "name": "ipython",
    "version": 3
   },
   "file_extension": ".py",
   "mimetype": "text/x-python",
   "name": "python",
   "nbconvert_exporter": "python",
   "pygments_lexer": "ipython3",
   "version": "3.9.7"
  },
  "interpreter": {
   "hash": "2a3cf939459abfa9e25ae06a01c89e85ba196e1a21d27ff67b35390e2125890b"
  }
 },
 "nbformat": 4,
 "nbformat_minor": 1
}